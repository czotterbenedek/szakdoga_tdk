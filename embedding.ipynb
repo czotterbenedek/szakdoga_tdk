{
 "cells": [
  {
   "cell_type": "markdown",
   "metadata": {},
   "source": [
    "# Embedding\n",
    "\n",
    "This notebook contains the code for creating text embeddings."
   ]
  },
  {
   "cell_type": "code",
   "execution_count": 1,
   "metadata": {},
   "outputs": [
    {
     "name": "stderr",
     "output_type": "stream",
     "text": [
      "/opt/anaconda3/envs/tdk_szakdoga/lib/python3.12/site-packages/tqdm/auto.py:21: TqdmWarning: IProgress not found. Please update jupyter and ipywidgets. See https://ipywidgets.readthedocs.io/en/stable/user_install.html\n",
      "  from .autonotebook import tqdm as notebook_tqdm\n"
     ]
    }
   ],
   "source": [
    "import pandas as pd\n",
    "import numpy as np\n",
    "import matplotlib.pyplot as plt\n",
    "import plotly.express as px\n",
    "from tqdm import tqdm\n",
    "\n",
    "from sentence_transformers import SentenceTransformer"
   ]
  },
  {
   "cell_type": "markdown",
   "metadata": {},
   "source": [
    "# Classes and functions"
   ]
  },
  {
   "cell_type": "code",
   "execution_count": 2,
   "metadata": {},
   "outputs": [],
   "source": [
    "class EmbeddingGenerator:\n",
    "    def __init__(self, model_name=\"all-MiniLM-L6-v2\", provider=\"hf\"):\n",
    "        \"\"\"\n",
    "        provider: \"hf\" for HuggingFace, \"openai\" for OpenAI embeddings\n",
    "        model_name: any SentenceTransformer model or OpenAI embedding model name\n",
    "        \"\"\"\n",
    "        self.provider = provider\n",
    "        self.model_name = model_name\n",
    "        \n",
    "        if provider == \"hf\":\n",
    "            self.model = SentenceTransformer(model_name)\n",
    "        elif provider == \"openai\":\n",
    "            from openai import OpenAI\n",
    "            self.client = OpenAI()\n",
    "        else:\n",
    "            raise ValueError(\"provider must be 'hf' or 'openai'\")\n",
    "\n",
    "    def embed_batch(self, texts):\n",
    "        \"\"\"\n",
    "        Compute embeddings for a list of texts\n",
    "        \"\"\"\n",
    "        if self.provider == \"hf\":\n",
    "            return self.model.encode(texts, show_progress_bar=False, convert_to_numpy=True)\n",
    "        elif self.provider == \"openai\":\n",
    "            # Example: OpenAI embeddings (text-embedding-3-large)\n",
    "            embeddings = []\n",
    "            for t in texts:\n",
    "                resp = self.client.embeddings.create(\n",
    "                    input=t, model=self.model_name\n",
    "                )\n",
    "                embeddings.append(resp.data[0].embedding)\n",
    "            return np.array(embeddings)"
   ]
  },
  {
   "cell_type": "code",
   "execution_count": 3,
   "metadata": {},
   "outputs": [],
   "source": [
    "def add_embeddings(df, text_column=\"chunk_embed_text\", model_name=\"all-MiniLM-L6-v2\", provider=\"hf\", batch_size=64):\n",
    "    \"\"\"\n",
    "    Embed chunks and add them as a new column: 'embedding'\n",
    "    Also returns a NumPy matrix for fast clustering.\n",
    "    \"\"\"\n",
    "    embedder = EmbeddingGenerator(model_name=model_name, provider=provider)\n",
    "    all_embeddings = []\n",
    "\n",
    "    for i in tqdm(range(0, len(df), batch_size)):\n",
    "        batch_texts = df[text_column].iloc[i:i+batch_size].tolist()\n",
    "        batch_embeddings = embedder.embed_batch(batch_texts)\n",
    "        all_embeddings.extend(batch_embeddings)\n",
    "\n",
    "    # Store as list for DataFrame\n",
    "    #df[\"embedding\"] = all_embeddings\n",
    "\n",
    "    # Also return as NumPy matrix for clustering\n",
    "    return df, np.vstack(all_embeddings)"
   ]
  },
  {
   "cell_type": "code",
   "execution_count": null,
   "metadata": {},
   "outputs": [],
   "source": []
  },
  {
   "cell_type": "markdown",
   "metadata": {},
   "source": [
    "# Workflow"
   ]
  },
  {
   "cell_type": "code",
   "execution_count": 5,
   "metadata": {},
   "outputs": [],
   "source": [
    "df_semantic_train = pd.read_excel(\"./data/prepared/squad_train_v1_semantic_chunking.xlsx\")"
   ]
  },
  {
   "cell_type": "code",
   "execution_count": 6,
   "metadata": {},
   "outputs": [
    {
     "name": "stderr",
     "output_type": "stream",
     "text": [
      "100%|██████████| 6288/6288 [13:40<00:00,  7.67it/s]\n"
     ]
    }
   ],
   "source": [
    "df_semantic_train, emb_semantic_train = add_embeddings(df_semantic_train, text_column=\"chunk_embed_text\" ,model_name=\"all-MiniLM-L6-v2\", provider=\"hf\")"
   ]
  },
  {
   "cell_type": "code",
   "execution_count": 7,
   "metadata": {},
   "outputs": [
    {
     "data": {
      "text/plain": [
       "(402424, 13)"
      ]
     },
     "execution_count": 7,
     "metadata": {},
     "output_type": "execute_result"
    }
   ],
   "source": [
    "df_semantic_train.shape"
   ]
  },
  {
   "cell_type": "code",
   "execution_count": 8,
   "metadata": {},
   "outputs": [
    {
     "data": {
      "text/plain": [
       "(402424, 384)"
      ]
     },
     "execution_count": 8,
     "metadata": {},
     "output_type": "execute_result"
    }
   ],
   "source": [
    "emb_semantic_train.shape"
   ]
  },
  {
   "cell_type": "code",
   "execution_count": 9,
   "metadata": {},
   "outputs": [],
   "source": [
    "df_semantic_val = pd.read_excel(\"./data/prepared/squad_val_v1_semantic_chunking.xlsx\")"
   ]
  },
  {
   "cell_type": "code",
   "execution_count": 10,
   "metadata": {},
   "outputs": [
    {
     "name": "stderr",
     "output_type": "stream",
     "text": [
      "100%|██████████| 2475/2475 [05:36<00:00,  7.36it/s]\n"
     ]
    }
   ],
   "source": [
    "df_semantic_val, emb_semantic_val = add_embeddings(df_semantic_val, text_column=\"chunk_embed_text\" ,model_name=\"all-MiniLM-L6-v2\", provider=\"hf\")"
   ]
  },
  {
   "cell_type": "code",
   "execution_count": 11,
   "metadata": {},
   "outputs": [
    {
     "name": "stdout",
     "output_type": "stream",
     "text": [
      "(158351, 13)\n",
      "(158351, 384)\n"
     ]
    }
   ],
   "source": [
    "print(df_semantic_val.shape)\n",
    "print(emb_semantic_val.shape)"
   ]
  },
  {
   "cell_type": "code",
   "execution_count": null,
   "metadata": {},
   "outputs": [],
   "source": []
  },
  {
   "cell_type": "markdown",
   "metadata": {},
   "source": [
    "# Save embeddings as numpy array"
   ]
  },
  {
   "cell_type": "code",
   "execution_count": 12,
   "metadata": {},
   "outputs": [],
   "source": [
    "np.save(\"./data/tensors/squad_train_v1_semantic_chunking.npy\", emb_semantic_train)\n",
    "np.save(\"./data/tensors/squad_val_v1_semantic_chunking.npy\", emb_semantic_val)"
   ]
  },
  {
   "cell_type": "code",
   "execution_count": null,
   "metadata": {},
   "outputs": [],
   "source": []
  }
 ],
 "metadata": {
  "kernelspec": {
   "display_name": "tdk_szakdoga",
   "language": "python",
   "name": "python3"
  },
  "language_info": {
   "codemirror_mode": {
    "name": "ipython",
    "version": 3
   },
   "file_extension": ".py",
   "mimetype": "text/x-python",
   "name": "python",
   "nbconvert_exporter": "python",
   "pygments_lexer": "ipython3",
   "version": "3.12.11"
  }
 },
 "nbformat": 4,
 "nbformat_minor": 2
}
