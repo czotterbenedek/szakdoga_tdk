{
 "cells": [
  {
   "cell_type": "code",
   "execution_count": 1,
   "metadata": {},
   "outputs": [
    {
     "name": "stderr",
     "output_type": "stream",
     "text": [
      "/opt/anaconda3/envs/tdk_szakdoga/lib/python3.12/site-packages/tqdm/auto.py:21: TqdmWarning: IProgress not found. Please update jupyter and ipywidgets. See https://ipywidgets.readthedocs.io/en/stable/user_install.html\n",
      "  from .autonotebook import tqdm as notebook_tqdm\n"
     ]
    }
   ],
   "source": [
    "import pandas as pd\n",
    "import numpy as np\n",
    "import matplotlib.pyplot as plt\n",
    "import plotly.express as px\n",
    "from tqdm import tqdm\n",
    "import warnings\n",
    "import time\n",
    "\n",
    "from sklearn.cluster import DBSCAN, KMeans, AgglomerativeClustering, MiniBatchKMeans\n",
    "from sklearn.preprocessing import StandardScaler\n",
    "from sklearn.metrics import silhouette_score\n",
    "import umap.umap_ as umap\n",
    "from sklearn.decomposition import PCA\n",
    "\n",
    "import faiss\n",
    "\n",
    "warnings.filterwarnings(\"ignore\")"
   ]
  },
  {
   "cell_type": "code",
   "execution_count": 3,
   "metadata": {},
   "outputs": [],
   "source": [
    "embeddings = np.load(\"../data/tensors/squad_train_v2_semantic_chunking_l2.npy\")"
   ]
  },
  {
   "cell_type": "code",
   "execution_count": 5,
   "metadata": {},
   "outputs": [
    {
     "name": "stdout",
     "output_type": "stream",
     "text": [
      "Sampling a subset of 46080 / 84007 for training\n",
      "Clustering 46080 points in 384D to 180 clusters, redo 1 times, 40 iterations\n",
      "  Preprocessing in 0.10 s\n",
      "  Iteration 39 (0.58 s, search 0.50 s): objective=34231.3 imbalance=1.118 nsplit=0       \n"
     ]
    },
    {
     "data": {
      "text/plain": [
       "np.float64(34231.3359375)"
      ]
     },
     "execution_count": 5,
     "metadata": {},
     "output_type": "execute_result"
    }
   ],
   "source": [
    "k_best = 180\n",
    "kmeans = faiss.Kmeans(d=embeddings.shape[1], k=k_best, niter=40, verbose=True, gpu=False)\n",
    "kmeans.train(embeddings)"
   ]
  },
  {
   "cell_type": "code",
   "execution_count": 6,
   "metadata": {},
   "outputs": [],
   "source": [
    "index_centroids = faiss.IndexFlatL2(embeddings.shape[1])\n",
    "index_centroids.add(kmeans.centroids)\n",
    "_, cluster_labels = index_centroids.search(embeddings, 1)\n",
    "cluster_labels = cluster_labels.flatten()"
   ]
  },
  {
   "cell_type": "code",
   "execution_count": 7,
   "metadata": {},
   "outputs": [],
   "source": [
    "df_semantic_train = pd.read_excel(\"../data/prepared/squad_train_v2_semantic_chunking.xlsx\")\n",
    "df_semantic_train['cluster'] = cluster_labels"
   ]
  },
  {
   "cell_type": "code",
   "execution_count": 9,
   "metadata": {},
   "outputs": [],
   "source": [
    "df_semantic_train.to_excel(\"../data/labelled/squad_train_v2_semantic_chunking_clustered_faiss.xlsx\", index=False)"
   ]
  },
  {
   "cell_type": "code",
   "execution_count": null,
   "metadata": {},
   "outputs": [],
   "source": []
  }
 ],
 "metadata": {
  "kernelspec": {
   "display_name": "tdk_szakdoga",
   "language": "python",
   "name": "python3"
  },
  "language_info": {
   "codemirror_mode": {
    "name": "ipython",
    "version": 3
   },
   "file_extension": ".py",
   "mimetype": "text/x-python",
   "name": "python",
   "nbconvert_exporter": "python",
   "pygments_lexer": "ipython3",
   "version": "3.12.11"
  }
 },
 "nbformat": 4,
 "nbformat_minor": 2
}
