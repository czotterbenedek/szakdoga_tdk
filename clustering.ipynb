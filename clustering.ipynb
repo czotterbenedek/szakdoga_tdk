{
 "cells": [
  {
   "cell_type": "markdown",
   "metadata": {},
   "source": [
    "# Clustering\n",
    "\n",
    "This notebook contains the code of the embedding clustering.\n",
    "The aim is to find the best possible clustering of the embeddings to improve the efficiency (speed, accuracy) of chunk retrieval.\n"
   ]
  },
  {
   "cell_type": "code",
   "execution_count": 1,
   "metadata": {},
   "outputs": [
    {
     "name": "stderr",
     "output_type": "stream",
     "text": [
      "/opt/anaconda3/envs/tdk_szakdoga/lib/python3.12/site-packages/tqdm/auto.py:21: TqdmWarning: IProgress not found. Please update jupyter and ipywidgets. See https://ipywidgets.readthedocs.io/en/stable/user_install.html\n",
      "  from .autonotebook import tqdm as notebook_tqdm\n"
     ]
    }
   ],
   "source": [
    "import pandas as pd\n",
    "import numpy as np\n",
    "import matplotlib.pyplot as plt\n",
    "import plotly.express as px\n",
    "from tqdm import tqdm\n",
    "import warnings\n",
    "\n",
    "from sklearn.cluster import DBSCAN, KMeans, AgglomerativeClustering\n",
    "from sklearn.preprocessing import StandardScaler\n",
    "from sklearn.metrics import silhouette_score\n",
    "import umap.umap_ as umap\n",
    "from sklearn.decomposition import PCA\n",
    "\n",
    "warnings.filterwarnings(\"ignore\")"
   ]
  },
  {
   "cell_type": "markdown",
   "metadata": {},
   "source": [
    "# Classes and functions"
   ]
  },
  {
   "cell_type": "code",
   "execution_count": 2,
   "metadata": {},
   "outputs": [],
   "source": [
    "# -------------------------------\n",
    "# 1️⃣ UMAP Dimensionality Reduction\n",
    "# -------------------------------\n",
    "def reduce_with_umap(embeddings, n_neighbors=15, min_dist=0.1, n_components=2, random_state=42):\n",
    "    \"\"\"\n",
    "    Reduce high-dimensional embeddings to low-dimensional space using UMAP.\n",
    "    \"\"\"\n",
    "    reducer = umap.UMAP(\n",
    "        n_neighbors=n_neighbors,\n",
    "        min_dist=min_dist,\n",
    "        n_components=n_components,\n",
    "        random_state=random_state\n",
    "    )\n",
    "    return reducer.fit_transform(embeddings)\n"
   ]
  },
  {
   "cell_type": "code",
   "execution_count": 3,
   "metadata": {},
   "outputs": [],
   "source": [
    "# -------------------------------\n",
    "# 2️⃣ Clustering Function (Supports Multiple Methods)\n",
    "# -------------------------------\n",
    "def run_clustering(\n",
    "    embeddings,\n",
    "    method=\"dbscan\",\n",
    "    scale=True,\n",
    "    **kwargs\n",
    "):\n",
    "    \"\"\"\n",
    "    Perform clustering using DBSCAN, KMeans, or Agglomerative.\n",
    "\n",
    "    Args:\n",
    "        embeddings: np.ndarray — input embeddings\n",
    "        method: str — \"dbscan\", \"kmeans\", or \"hierarchical\"\n",
    "        scale: bool — whether to standardize embeddings\n",
    "        kwargs: dict — model-specific parameters\n",
    "\n",
    "    Returns:\n",
    "        labels: np.ndarray — cluster labels\n",
    "        model: fitted model\n",
    "    \"\"\"\n",
    "    if scale:\n",
    "        embeddings = StandardScaler().fit_transform(embeddings)\n",
    "\n",
    "    method = method.lower()\n",
    "    if method == \"dbscan\":\n",
    "        model = DBSCAN(**kwargs)\n",
    "    elif method == \"kmeans\":\n",
    "        model = KMeans(**kwargs)\n",
    "    elif method == \"hierarchical\":\n",
    "        model = AgglomerativeClustering(**kwargs)\n",
    "    else:\n",
    "        raise ValueError(\"Invalid method. Choose 'dbscan', 'kmeans', or 'hierarchical'.\")\n",
    "\n",
    "    labels = model.fit_predict(embeddings)\n",
    "    return labels, model"
   ]
  },
  {
   "cell_type": "code",
   "execution_count": 4,
   "metadata": {},
   "outputs": [],
   "source": [
    "# -------------------------------\n",
    "# 3️⃣ Visualization\n",
    "# -------------------------------\n",
    "def plot_clusters(umap_2d, labels, title=\"Clusters (UMAP 2D Projection)\"):\n",
    "    \"\"\"\n",
    "    Plot 2D embeddings with cluster labels.\n",
    "    \"\"\"\n",
    "    plt.figure(figsize=(10, 7))\n",
    "    scatter = plt.scatter(\n",
    "        umap_2d[:, 0],\n",
    "        umap_2d[:, 1],\n",
    "        c=labels,\n",
    "        cmap=\"Spectral\",\n",
    "        s=20,\n",
    "        alpha=0.8\n",
    "    )\n",
    "    plt.colorbar(scatter, label=\"Cluster ID\")\n",
    "    plt.title(title)\n",
    "    plt.xlabel(\"UMAP-1\")\n",
    "    plt.ylabel(\"UMAP-2\")\n",
    "\n",
    "    # Mark noise points if DBSCAN is used\n",
    "    if -1 in labels:\n",
    "        noise_mask = labels == -1\n",
    "        plt.scatter(umap_2d[noise_mask, 0], umap_2d[noise_mask, 1], \n",
    "                    c=\"k\", s=20, alpha=0.5, label=\"Noise\")\n",
    "        plt.legend()\n",
    "\n",
    "    plt.show()"
   ]
  },
  {
   "cell_type": "code",
   "execution_count": 5,
   "metadata": {},
   "outputs": [],
   "source": [
    "# -------------------------------\n",
    "# 4️⃣ Full Pipeline Wrapper\n",
    "# -------------------------------\n",
    "def cluster_and_plot(\n",
    "    embeddings,\n",
    "    df=None,\n",
    "    cluster_method=\"dbscan\",\n",
    "    scale=True,\n",
    "    cluster_params=None,\n",
    "    umap_params=None,\n",
    "    cluster_col_name=\"cluster\",\n",
    "    plot=True\n",
    "):\n",
    "    \"\"\"\n",
    "    Full pipeline: clustering + UMAP + optional visualization.\n",
    "\n",
    "    Args:\n",
    "        embeddings: np.ndarray — embedding matrix\n",
    "        df: DataFrame (optional) — if provided, adds cluster labels\n",
    "        cluster_method: \"dbscan\", \"kmeans\", \"hierarchical\"\n",
    "        scale: bool — whether to standardize before clustering\n",
    "        cluster_params: dict — model parameters (eps, n_clusters, etc.)\n",
    "        umap_params: dict — UMAP params\n",
    "        cluster_col_name: str — column name for cluster labels in df\n",
    "        plot: bool — whether to visualize\n",
    "\n",
    "    Returns:\n",
    "        df_with_clusters (if df provided), labels, umap_2d\n",
    "    \"\"\"\n",
    "    if cluster_params is None:\n",
    "        cluster_params = {}\n",
    "    if umap_params is None:\n",
    "        umap_params = {}\n",
    "\n",
    "    # 1️⃣ Run clustering\n",
    "    labels, model = run_clustering(\n",
    "        embeddings=embeddings,\n",
    "        method=cluster_method,\n",
    "        scale=scale,\n",
    "        **cluster_params\n",
    "    )\n",
    "    print(\"Finished clustering.\")\n",
    "\n",
    "    # 2️⃣ UMAP projection\n",
    "    umap_2d = reduce_with_umap(\n",
    "        embeddings if not scale else StandardScaler().fit_transform(embeddings),\n",
    "        **umap_params\n",
    "    )\n",
    "    print(\"Finished UMAP reduction.\")\n",
    "\n",
    "    # 3️⃣ Plot clusters\n",
    "    if plot:\n",
    "        title = f\"{cluster_method.upper()} Clusters (UMAP Projection)\"\n",
    "        plot_clusters(umap_2d, labels, title=title)\n",
    "\n",
    "    # 4️⃣ Save cluster labels to DataFrame\n",
    "    if df is not None:\n",
    "        df_out = df.copy()\n",
    "        df_out[cluster_col_name] = labels\n",
    "        return df_out, labels, umap_2d\n",
    "\n",
    "    return labels, umap_2d"
   ]
  },
  {
   "cell_type": "code",
   "execution_count": null,
   "metadata": {},
   "outputs": [],
   "source": []
  },
  {
   "cell_type": "code",
   "execution_count": null,
   "metadata": {},
   "outputs": [],
   "source": []
  },
  {
   "cell_type": "markdown",
   "metadata": {},
   "source": [
    "# Workflow"
   ]
  },
  {
   "cell_type": "code",
   "execution_count": 45,
   "metadata": {},
   "outputs": [],
   "source": [
    "# Load data\n",
    "X_train = np.load(\"./data/tensors/squad_train_v2_semantic_chunking.npy\")\n",
    "df_semantic_train = pd.read_excel(\"./data/prepared/squad_train_v2_semantic_chunking.xlsx\")\n",
    "X_val = np.load(\"./data/tensors/squad_val_v2_semantic_chunking.npy\")\n",
    "df_semantic_val = pd.read_excel(\"./data/prepared/squad_val_v2_semantic_chunking.xlsx\")"
   ]
  },
  {
   "cell_type": "code",
   "execution_count": 46,
   "metadata": {},
   "outputs": [],
   "source": [
    "mask_train = df_semantic_train['context_id'] < 500\n",
    "df_train = df_semantic_train[mask_train].copy()\n",
    "X_train = X_train[mask_train.values]\n",
    "\n",
    "mask_val = df_semantic_val['context_id'] < 300\n",
    "df_val = df_semantic_val[mask_val].copy()\n",
    "X_val = X_val[mask_val.values]"
   ]
  },
  {
   "cell_type": "code",
   "execution_count": null,
   "metadata": {},
   "outputs": [],
   "source": []
  },
  {
   "cell_type": "code",
   "execution_count": null,
   "metadata": {},
   "outputs": [],
   "source": []
  },
  {
   "cell_type": "code",
   "execution_count": 46,
   "metadata": {},
   "outputs": [
    {
     "name": "stdout",
     "output_type": "stream",
     "text": [
      "Finished clustering.\n",
      "Finished UMAP reduction.\n"
     ]
    },
    {
     "data": {
      "image/png": "[encoded data removed]",
      "text/plain": [
       "<Figure size 1000x700 with 2 Axes>"
      ]
     },
     "metadata": {},
     "output_type": "display_data"
    }
   ],
   "source": [
    "df_clustered, labels, umap_2d = cluster_and_plot(\n",
    "    embeddings=X_train,\n",
    "    df=df_train,\n",
    "    cluster_method=\"kmeans\",\n",
    "    cluster_params={\"n_clusters\": 10, \"random_state\": 42},\n",
    "    umap_params={\"n_neighbors\": 15, \"min_dist\": 0.1}\n",
    ")"
   ]
  },
  {
   "cell_type": "code",
   "execution_count": 63,
   "metadata": {},
   "outputs": [
    {
     "name": "stdout",
     "output_type": "stream",
     "text": [
      "Finished clustering.\n",
      "Finished UMAP reduction.\n"
     ]
    },
    {
     "data": {
      "image/png": "[encoded data removed]",
      "text/plain": [
       "<Figure size 1000x700 with 2 Axes>"
      ]
     },
     "metadata": {},
     "output_type": "display_data"
    }
   ],
   "source": [
    "df_clustered, labels, umap_2d = cluster_and_plot(\n",
    "    embeddings=X_train,\n",
    "    df=df_train,\n",
    "    cluster_method=\"dbscan\",\n",
    "    cluster_params={\"eps\": 0.000005, \"min_samples\": 4, \"metric\": \"cosine\"},\n",
    "    umap_params={\"n_neighbors\": 15, \"min_dist\": 0.05}\n",
    ")"
   ]
  },
  {
   "cell_type": "code",
   "execution_count": null,
   "metadata": {},
   "outputs": [],
   "source": []
  },
  {
   "cell_type": "code",
   "execution_count": null,
   "metadata": {},
   "outputs": [],
   "source": []
  },
  {
   "cell_type": "code",
   "execution_count": null,
   "metadata": {},
   "outputs": [],
   "source": []
  },
  {
   "cell_type": "code",
   "execution_count": 47,
   "metadata": {},
   "outputs": [],
   "source": [
    "X_scaled = StandardScaler().fit_transform(X_train)"
   ]
  },
  {
   "cell_type": "code",
   "execution_count": 48,
   "metadata": {},
   "outputs": [],
   "source": [
    "umap_2d = umap.UMAP(n_neighbors=15, min_dist=0.1, n_components=2, random_state=42)\n",
    "X_2d = umap_2d.fit_transform(X_train)"
   ]
  },
  {
   "cell_type": "code",
   "execution_count": 49,
   "metadata": {},
   "outputs": [],
   "source": [
    "#dbscan = DBSCAN(eps=13, min_samples=10)\n",
    "#labels = dbscan.fit_predict(X_scaled)\n",
    "\n",
    "kmeans = KMeans(n_clusters=50, random_state=42)\n",
    "labels = kmeans.fit_predict(X_scaled)"
   ]
  },
  {
   "cell_type": "code",
   "execution_count": 50,
   "metadata": {},
   "outputs": [
    {
     "data": {
      "text/plain": [
       "50"
      ]
     },
     "execution_count": 50,
     "metadata": {},
     "output_type": "execute_result"
    }
   ],
   "source": [
    "len(np.unique(labels))"
   ]
  },
  {
   "cell_type": "code",
   "execution_count": 51,
   "metadata": {},
   "outputs": [],
   "source": [
    "df_train['cluster'] = labels"
   ]
  },
  {
   "cell_type": "code",
   "execution_count": 52,
   "metadata": {},
   "outputs": [
    {
     "data": {
      "text/plain": [
       "cluster\n",
       "0     48\n",
       "1     33\n",
       "2     51\n",
       "3     31\n",
       "4     43\n",
       "5     80\n",
       "6     22\n",
       "7     44\n",
       "8     77\n",
       "9     45\n",
       "10    65\n",
       "11    42\n",
       "12    53\n",
       "13    48\n",
       "14    48\n",
       "15    59\n",
       "16    33\n",
       "17    21\n",
       "18    24\n",
       "19    48\n",
       "20    69\n",
       "21    10\n",
       "22    46\n",
       "23    67\n",
       "24    23\n",
       "25    56\n",
       "26    29\n",
       "27    21\n",
       "28    44\n",
       "29    44\n",
       "30    35\n",
       "31    27\n",
       "32    50\n",
       "33    47\n",
       "34    33\n",
       "35    31\n",
       "36    39\n",
       "37    42\n",
       "38    70\n",
       "39    34\n",
       "40    77\n",
       "41    40\n",
       "42    24\n",
       "43    53\n",
       "44    36\n",
       "45    40\n",
       "46    56\n",
       "47    39\n",
       "48    73\n",
       "49    31\n",
       "Name: count, dtype: int64"
      ]
     },
     "execution_count": 52,
     "metadata": {},
     "output_type": "execute_result"
    }
   ],
   "source": [
    "df_train['cluster'].value_counts().sort_index()"
   ]
  },
  {
   "cell_type": "code",
   "execution_count": 53,
   "metadata": {},
   "outputs": [
    {
     "data": {
      "application/vnd.plotly.v1+json": {
       "config": {
        "plotlyServerURL": "https://plot.ly"
       },
       "data": [
        {
         "customdata": [
          [
           "48"
          ],
          [
           "48"
          ],
          [
           "48"
          ],
          [
           "48"
          ],
          [
           "48"
          ],
          [
           "48"
          ],
          [
           "48"
          ],
          [
           "48"
          ],
          [
           "48"
          ],
          [
           "48"
          ],
          [
           "48"
          ],
          [
           "48"
          ],
          [
           "48"
          ],
          [
           "48"
          ],
          [
           "48"
          ],
          [
           "48"
          ],
          [
           "48"
          ],
          [
           "48"
          ],
          [
           "48"
          ],
          [
           "48"
          ],
          [
           "48"
          ],
          [
           "48"
          ],
          [
           "48"
          ],
          [
           "48"
          ],
          [
           "48"
          ],
          [
           "48"
          ],
          [
           "48"
          ],
          [
           "48"
          ],
          [
           "48"
          ],
          [
           "48"
          ],
          [
           "48"
          ],
          [
           "48"
          ],
          [
           "48"
          ],
          [
           "48"
          ],
          [
           "48"
          ],
          [
           "48"
          ],
          [
           "48"
          ],
          [
           "48"
          ],
          [
           "48"
          ],
          [
           "48"
          ],
          [
           "48"
          ],
          [
           "48"
          ],
          [
           "48"
          ],
          [
           "48"
          ],
          [
           "48"
          ],
          [
           "48"
          ],
          [
           "48"
          ],
          [
           "48"
          ],
          [
           "48"
          ],
          [
           "48"
          ],
          [
           "48"
          ],
          [
           "48"
          ],
          [
           "48"
          ],
          [
           "48"
          ],
          [
           "48"
          ],
          [
           "48"
          ],
          [
           "48"
          ],
          [
           "48"
          ],
          [
           "48"
          ],
          [
           "48"
          ],
          [
           "48"
          ],
          [
           "48"
          ],
          [
           "48"
          ],
          [
           "48"
          ],
          [
           "48"
          ],
          [
           "48"
          ],
          [
           "48"
          ],
          [
           "48"
          ],
          [
           "48"
          ],
          [
           "48"
          ],
          [
           "48"
          ],
          [
           "48"
          ],
          [
           "48"
          ]
         ],
         "hovertemplate": "cluster=%{customdata[0]}<br>UMAP-1=%{x}<br>UMAP-2=%{y}<extra></extra>",
         "legendgroup": "48",
         "marker": {
          "color": "#4C78A8",
          "opacity": 0.8,
          "size": 8,
          "symbol": "circle"
         },
         "mode": "markers",
         "name": "48",
         "showlegend": true,
         "type": "scattergl",
         "x": {
          "bdata": "BqSmQArgsUBveLNA1Uu9QIfFk0BjAulAbgLkQFQd1kA9i79AcWPBQHSTvkCse7FA8im9QNLatkDZhphAsVO5QOSru0Cq6tFA5WjTQPv3v0CASb1ACb23QOfNvUAcRr5Ay1i8QMN7pkBPc6dAe0uvQEbcrkD4CrFA7yW0QOzJrUAOoVZANYRqQHFkqkARjKdAc19FQAs8zkAt075AFn+/QM8AwEBRKdZAjVDVQOj7q0DetaxAkTioQDHw7kCpNzBAo5IkQL4e40APt8Q/rXnZQPH81ECDKNRA7mfZQAETsUCB9MtA3VzXQLL11kC+rchAw33XQDTUykCQ28lANy+HQNcRK0DWwylAQH46QKUSpEA6Rp5AgI6bQNREq0D+lK1AMqa9QA==",
          "dtype": "f4"
         },
         "xaxis": "x",
         "y": {
          "bdata": "7DcgQQZ5PEGZmTxBqq43QTNKO0Ep8Q9BVF4RQfLIVEGLeTJBByYzQeurMkGrJTFBYYMxQccDMEHZhStBMF8wQamlMEFZqTZB3JlBQX9VNUHDyDBBqWswQRkGMEFXli5BHLkuQWQYO0H40CBB2DkmQZugJUEAGyRBX80lQW8ZI0FBvCtBNzE0QYsKKEFIniZBNpxPQf3LTUHyVzlBiGM5QaZOOUE3WFZBkFNTQX8JOEHh9jlByw44QZ/k9kDBgRlBwLAeQS6ZOUEcFS5B56FOQTqQTkGgiU5BCVNMQRUMMkFxB01BsClUQSgZV0EiKExBGppUQeaoS0HTp0pBOL9TQVHVIEHMrCFBnbw9QZY3G0EmeCFBsSMfQaIJLUElvCZB0gREQQ==",
          "dtype": "f4"
         },
         "yaxis": "y"
        },
        {
         "customdata": [
          [
           "43"
          ],
          [
           "43"
          ],
          [
           "43"
          ],
          [
           "43"
          ],
          [
           "43"
          ],
          [
           "43"
          ],
          [
           "43"
          ],
          [
           "43"
          ],
          [
           "43"
          ],
          [
           "43"
          ],
          [
           "43"
          ],
          [
           "43"
          ],
          [
           "43"
          ],
          [
           "43"
          ],
          [
           "43"
          ],
          [
           "43"
          ],
          [
           "43"
          ],
          [
           "43"
          ],
          [
           "43"
          ],
          [
           "43"
          ],
          [
           "43"
          ],
          [
           "43"
          ],
          [
           "43"
          ],
          [
           "43"
          ],
          [
           "43"
          ],
          [
           "43"
          ],
          [
           "43"
          ],
          [
           "43"
          ],
          [
           "43"
          ],
          [
           "43"
          ],
          [
           "43"
          ],
          [
           "43"
          ],
          [
           "43"
          ],
          [
           "43"
          ],
          [
           "43"
          ],
          [
           "43"
          ],
          [
           "43"
          ],
          [
           "43"
          ],
          [
           "43"
          ],
          [
           "43"
          ],
          [
           "43"
          ],
          [
           "43"
          ],
          [
           "43"
          ],
          [
           "43"
          ],
          [
           "43"
          ],
          [
           "43"
          ],
          [
           "43"
          ],
          [
           "43"
          ],
          [
           "43"
          ],
          [
           "43"
          ],
          [
           "43"
          ],
          [
           "43"
          ],
          [
           "43"
          ]
         ],
         "hovertemplate": "cluster=%{customdata[0]}<br>UMAP-1=%{x}<br>UMAP-2=%{y}<extra></extra>",
         "legendgroup": "43",
         "marker": {
          "color": "#F58518",
          "opacity": 0.8,
          "size": 8,
          "symbol": "circle"
         },
         "mode": "markers",
         "name": "43",
         "showlegend": true,
         "type": "scattergl",
         "x": {
          "bdata": "pFeuQP2GxUBrBQpBs00KQSQ3/kDNAtJANUPRQHQB1UDet9JAnK3SQIJJ1EDkxNNA+vzTQE9I1EDXQ9RAHK0NQZ0UF0F/49VALEeTQMxgkkD7CFRAwL5VQO2PSECh1EpAHLZJQA0TR0AwdUZArzFEQDVhRkCbSEVA275EQLNwR0DoJUVAHZHFQHYX9EAlNr5AHovDQMjPxkAlV8BAwWGVQIT1CkGrHg1BpZDTQCn4CEEKDbRAMqykQNb/o0D4nARBEBqkQBico0AAt9JA+rZ0QLIA0UA=",
          "dtype": "f4"
         },
         "xaxis": "x",
         "y": {
          "bdata": "7Rw8QSLPI0EcBQtBIXALQbDr70BZaiBB7AUgQRPHH0HGKiBBa3wgQaeRIEHssiBBHYcgQZ6JIEHC4SBBhpcIQZ3dBkEopyBB4Pz6QCaX90Ay78VAEZTFQLoNxkCBwcRAmgvEQLc/w0ClCMNA+GTEQMNxw0BjFsRAGdXDQO24w0Bo1cJAXk5KQQRdCUEnQCFBlZwgQTcwIUEVHiFBag8fQY9gBEGwqQdBhEMgQQZ3C0FrWx1BBg8OQfu3DkGmPg9BtjoOQRIPEEFysB9B5z0PQbxwG0E=",
          "dtype": "f4"
         },
         "yaxis": "y"
        },
        {
         "customdata": [
          [
           "47"
          ],
          [
           "47"
          ],
          [
           "47"
          ],
          [
           "47"
          ],
          [
           "47"
          ],
          [
           "47"
          ],
          [
           "47"
          ],
          [
           "47"
          ],
          [
           "47"
          ],
          [
           "47"
          ],
          [
           "47"
          ],
          [
           "47"
          ],
          [
           "47"
          ],
          [
           "47"
          ],
          [
           "47"
          ],
          [
           "47"
          ],
          [
           "47"
          ],
          [
           "47"
          ],
          [
           "47"
          ],
          [
           "47"
          ],
          [
           "47"
          ],
          [
           "47"
          ],
          [
           "47"
          ],
          [
           "47"
          ],
          [
           "47"
          ],
          [
           "47"
          ],
          [
           "47"
          ],
          [
           "47"
          ],
          [
           "47"
          ],
          [
           "47"
          ],
          [
           "47"
          ],
          [
           "47"
          ],
          [
           "47"
          ],
          [
           "47"
          ],
          [
           "47"
          ],
          [
           "47"
          ],
          [
           "47"
          ],
          [
           "47"
          ],
          [
           "47"
          ]
         ],
         "hovertemplate": "cluster=%{customdata[0]}<br>UMAP-1=%{x}<br>UMAP-2=%{y}<extra></extra>",
         "legendgroup": "47",
         "marker": {
          "color": "#E45756",
          "opacity": 0.8,
          "size": 8,
          "symbol": "circle"
         },
         "mode": "markers",
         "name": "47",
         "showlegend": true,
         "type": "scattergl",
         "x": {
          "bdata": "WZk7QMDSVEC/WlRALudVQEXPWUCFzDtA0yM/QKPWNkBvfT5A9HA0QMJQL0BgkF9ABAtHQJjAqEDroYxAunEPQC4tDkBHcW1Al9qCQD51UEBDO1JA6sJPQPupTkDd/VBAcu5UQBYnY0A60FlADyEMQILIKkC3nSpAeGgeQKX25UBJZuNAIW4PQG/MDkAB6BBAMdRUQIN2XUAx86xA",
          "dtype": "f4"
         },
         "xaxis": "x",
         "y": {
          "bdata": "DFMmQYV5J0FBliVB3x8nQYB/J0Ha2SdBjK0nQWq9KEF8VyhBUx4qQWKCLkHl9yFBD/81Qet0KEFO6jlBikX6QJJf+UDGrCdBO6QjQdEUKUHqZSlBysoqQUK0KUGASSlBHAkpQRn7MEHf6jJBZ2EzQXScK0EzhipBzsg9QUVqREHWkUNBDDUyQY2XMkEgzDJB26kpQeCiKkGY0itB",
          "dtype": "f4"
         },
         "yaxis": "y"
        },
        {
         "customdata": [
          [
           "12"
          ],
          [
           "12"
          ],
          [
           "12"
          ],
          [
           "12"
          ],
          [
           "12"
          ],
          [
           "12"
          ],
          [
           "12"
          ],
          [
           "12"
          ],
          [
           "12"
          ],
          [
           "12"
          ],
          [
           "12"
          ],
          [
           "12"
          ],
          [
           "12"
          ],
          [
           "12"
          ],
          [
           "12"
          ],
          [
           "12"
          ],
          [
           "12"
          ],
          [
           "12"
          ],
          [
           "12"
          ],
          [
           "12"
          ],
          [
           "12"
          ],
          [
           "12"
          ],
          [
           "12"
          ],
          [
           "12"
          ],
          [
           "12"
          ],
          [
           "12"
          ],
          [
           "12"
          ],
          [
           "12"
          ],
          [
           "12"
          ],
          [
           "12"
          ],
          [
           "12"
          ],
          [
           "12"
          ],
          [
           "12"
          ],
          [
           "12"
          ],
          [
           "12"
          ],
          [
           "12"
          ],
          [
           "12"
          ],
          [
           "12"
          ],
          [
           "12"
          ],
          [
           "12"
          ],
          [
           "12"
          ],
          [
           "12"
          ],
          [
           "12"
          ],
          [
           "12"
          ],
          [
           "12"
          ],
          [
           "12"
          ],
          [
           "12"
          ],
          [
           "12"
          ],
          [
           "12"
          ],
          [
           "12"
          ],
          [
           "12"
          ],
          [
           "12"
          ],
          [
           "12"
          ]
         ],
         "hovertemplate": "cluster=%{customdata[0]}<br>UMAP-1=%{x}<br>UMAP-2=%{y}<extra></extra>",
         "legendgroup": "12",
         "marker": {
          "color": "#72B7B2",
          "opacity": 0.8,
          "size": 8,
          "symbol": "circle"
         },
         "mode": "markers",
         "name": "12",
         "showlegend": true,
         "type": "scattergl",
         "x": {
          "bdata": "k9wPQfTYFEGRmxhB1NIRQbMNDkG/hQ1BAw0PQdCeDEH33AtB2QYPQW58DUH8pA5B4bgJQdg7FUGj/BNBLoASQWaUEkH9ag9BMwwQQUUXEkGq0BBBdV4PQadTEEHb+hBBFKYQQTszEUEgWw1BhM0MQdf0DEHRhAxBB4EIQf14DUG1WglBzIEOQcbwD0GaEA5BAlwKQRohC0GkCQxBYtsSQdDzFkFDuhVBIoMYQXnVEkFvExNBfLMTQVrxFUH/8BZBAeEIQf4BCkHKdBlBf2IXQW3wDkE=",
          "dtype": "f4"
         },
         "xaxis": "x",
         "y": {
          "bdata": "GCAwQcRMMUH0xzJB9NgwQSyRNEFJ8DVBurU0QRGfNEFHFTVBBLgpQe0UK0GJvS1BJI0wQUhEL0FMDS9BuLQuQRS6L0EoJC9B7u0tQROtLUFwBi5BRpwuQUzpLUE1zy5B6x4vQTLuL0EScRxB8ygtQX3VL0HgSy5BwtYsQcDNLkEiqDBBQegvQWwoMEFP1S9B1fMzQflLNEHEcTRBAkQxQV0hMkE1GjBBiakxQXaBMUFIMDFBr+gwQSxFMUEJvDFBYQ8pQUwtKUGsnzNBO5gxQaTEL0E=",
          "dtype": "f4"
         },
         "yaxis": "y"
        },
        {
         "customdata": [
          [
           "42"
          ],
          [
           "42"
          ],
          [
           "42"
          ],
          [
           "42"
          ],
          [
           "42"
          ],
          [
           "42"
          ],
          [
           "42"
          ],
          [
           "42"
          ],
          [
           "42"
          ],
          [
           "42"
          ],
          [
           "42"
          ],
          [
           "42"
          ],
          [
           "42"
          ],
          [
           "42"
          ],
          [
           "42"
          ],
          [
           "42"
          ],
          [
           "42"
          ],
          [
           "42"
          ],
          [
           "42"
          ],
          [
           "42"
          ],
          [
           "42"
          ],
          [
           "42"
          ],
          [
           "42"
          ],
          [
           "42"
          ]
         ],
         "hovertemplate": "cluster=%{customdata[0]}<br>UMAP-1=%{x}<br>UMAP-2=%{y}<extra></extra>",
         "legendgroup": "42",
         "marker": {
          "color": "#54A24B",
          "opacity": 0.8,
          "size": 8,
          "symbol": "circle"
         },
         "mode": "markers",
         "name": "42",
         "showlegend": true,
         "type": "scattergl",
         "x": {
          "bdata": "qGIXQQp9GEHy5BdBXFQYQXLeFkHLqRhBv3QYQfKsDUHqMRVBf4QUQb9kFkGdQBZBcK4DQVyVBEHOfARBvZsEQYgoBEErVBhBZdEZQRLBGEEUphhB9SXIQIiMJ0AwRYNA",
          "dtype": "f4"
         },
         "xaxis": "x",
         "y": {
          "bdata": "5x80QVOwM0HpDTRBJWgzQVD4NEFtoDRBXbcxQRJeNkG5NzdBVLo2QanaNUFu7jVB8jY0QXGrM0E1CzRBMWo0Qa+uM0HFFTJB6X4yQfO3MkGCOzJB/ghDQfikIUEaoGlB",
          "dtype": "f4"
         },
         "yaxis": "y"
        },
        {
         "customdata": [
          [
           "38"
          ],
          [
           "38"
          ],
          [
           "38"
          ],
          [
           "38"
          ],
          [
           "38"
          ],
          [
           "38"
          ],
          [
           "38"
          ],
          [
           "38"
          ],
          [
           "38"
          ],
          [
           "38"
          ],
          [
           "38"
          ],
          [
           "38"
          ],
          [
           "38"
          ],
          [
           "38"
          ],
          [
           "38"
          ],
          [
           "38"
          ],
          [
           "38"
          ],
          [
           "38"
          ],
          [
           "38"
          ],
          [
           "38"
          ],
          [
           "38"
          ],
          [
           "38"
          ],
          [
           "38"
          ],
          [
           "38"
          ],
          [
           "38"
          ],
          [
           "38"
          ],
          [
           "38"
          ],
          [
           "38"
          ],
          [
           "38"
          ],
          [
           "38"
          ],
          [
           "38"
          ],
          [
           "38"
          ],
          [
           "38"
          ],
          [
           "38"
          ],
          [
           "38"
          ],
          [
           "38"
          ],
          [
           "38"
          ],
          [
           "38"
          ],
          [
           "38"
          ],
          [
           "38"
          ],
          [
           "38"
          ],
          [
           "38"
          ],
          [
           "38"
          ],
          [
           "38"
          ],
          [
           "38"
          ],
          [
           "38"
          ],
          [
           "38"
          ],
          [
           "38"
          ],
          [
           "38"
          ],
          [
           "38"
          ],
          [
           "38"
          ],
          [
           "38"
          ],
          [
           "38"
          ],
          [
           "38"
          ],
          [
           "38"
          ],
          [
           "38"
          ],
          [
           "38"
          ],
          [
           "38"
          ],
          [
           "38"
          ],
          [
           "38"
          ],
          [
           "38"
          ],
          [
           "38"
          ],
          [
           "38"
          ],
          [
           "38"
          ],
          [
           "38"
          ],
          [
           "38"
          ],
          [
           "38"
          ],
          [
           "38"
          ],
          [
           "38"
          ],
          [
           "38"
          ]
         ],
         "hovertemplate": "cluster=%{customdata[0]}<br>UMAP-1=%{x}<br>UMAP-2=%{y}<extra></extra>",
         "legendgroup": "38",
         "marker": {
          "color": "#EECA3B",
          "opacity": 0.8,
          "size": 8,
          "symbol": "circle"
         },
         "mode": "markers",
         "name": "38",
         "showlegend": true,
         "type": "scattergl",
         "x": {
          "bdata": "5MqEQPaXmECVqQpBhaamQL09p0CQlLBAxxVMQH8KnkC/n5VA+np6QIu1jEB1i3VAJySKQHoWnECNcKBAHR6lQBbooUAdHZFAatKWQHxFmkCmHJlAduuVQK1AlUAPPpJAtLiTQIs3dUAy7XdAIkeZQBY/rUBq0K5AKH5gQB9LpUB1eaNAEruOQBTIikDu8IpA42OJQFdRhkAg7oxAdveKQDv8ikBtAepAodbrQPJfCUF2u25AUcGaQOBDn0AAg6JA8UygQAQ6pUAeP3FAZAJbQG9NXECvroJAO/V8QBPQjkDF6eZAsdxbQB9VbkDZjYhARRKKQEdqiEBqgrBAgQdrQKtfoUCja2lA+a+qQCxFh0C3bohAqd+KQA==",
          "dtype": "f4"
         },
         "xaxis": "x",
         "y": {
          "bdata": "ekAhQSdWLUGmqzRBHsQdQSH2HEE1HTJB3QsZQcHXGEGPshRBh80fQZ8lFUG4oR9B58sdQfw/GUF9txlBzUUiQaOLH0EvIBJBdUcVQcMdFkH8zhRB27ATQQZSGUEWNRdBYmsWQdL2JkEWDyFBRuU0QbtjNkG8PjdBkr0LQSvdH0HQUhtBesQSQTAsDkEXrBJBRH8OQV4aC0FsRw1Bt2YOQQpyDEFTMR5BTuAdQbssMUHOdhhBjoMbQajFH0GbEB5BulcbQRxMHEHJPyNBTNAjQVbkIUGmTRZBnKAKQVs+DkEmUShB5roWQXIHPUFT0hNBE+8SQQUOEkH6/R1BGqgfQeB5H0GLAhdBgXAqQfadEEEVExNBN2cSQQ==",
          "dtype": "f4"
         },
         "yaxis": "y"
        },
        {
         "customdata": [
          [
           "15"
          ],
          [
           "15"
          ],
          [
           "15"
          ],
          [
           "15"
          ],
          [
           "15"
          ],
          [
           "15"
          ],
          [
           "15"
          ],
          [
           "15"
          ],
          [
           "15"
          ],
          [
           "15"
          ],
          [
           "15"
          ],
          [
           "15"
          ],
          [
           "15"
          ],
          [
           "15"
          ],
          [
           "15"
          ],
          [
           "15"
          ],
          [
           "15"
          ],
          [
           "15"
          ],
          [
           "15"
          ],
          [
           "15"
          ],
          [
           "15"
          ],
          [
           "15"
          ],
          [
           "15"
          ],
          [
           "15"
          ],
          [
           "15"
          ],
          [
           "15"
          ],
          [
           "15"
          ],
          [
           "15"
          ],
          [
           "15"
          ],
          [
           "15"
          ],
          [
           "15"
          ],
          [
           "15"
          ],
          [
           "15"
          ],
          [
           "15"
          ],
          [
           "15"
          ],
          [
           "15"
          ],
          [
           "15"
          ],
          [
           "15"
          ],
          [
           "15"
          ],
          [
           "15"
          ],
          [
           "15"
          ],
          [
           "15"
          ],
          [
           "15"
          ],
          [
           "15"
          ],
          [
           "15"
          ],
          [
           "15"
          ],
          [
           "15"
          ],
          [
           "15"
          ],
          [
           "15"
          ],
          [
           "15"
          ],
          [
           "15"
          ],
          [
           "15"
          ],
          [
           "15"
          ],
          [
           "15"
          ],
          [
           "15"
          ],
          [
           "15"
          ],
          [
           "15"
          ],
          [
           "15"
          ],
          [
           "15"
          ]
         ],
         "hovertemplate": "cluster=%{customdata[0]}<br>UMAP-1=%{x}<br>UMAP-2=%{y}<extra></extra>",
         "legendgroup": "15",
         "marker": {
          "color": "#B279A2",
          "opacity": 0.8,
          "size": 8,
          "symbol": "circle"
         },
         "mode": "markers",
         "name": "15",
         "showlegend": true,
         "type": "scattergl",
         "x": {
          "bdata": "oBNSQApthUCSXHpAAyMrQFwxO0CooD9AHGuOQLRXk0BW0IFA/bxAQAkmV0CupkxAQcNKQL/bEkCgM09A3FtzQFVZSkA6bw5AL6ULQHlJBkBo/AJApWYTQN5rC0Bonvo/ZyFBQPUzikAGPExANUQyQL3KR0CQTUJAnIsfQMAsNb/7e19AHgtnQBAoaUCA71VAog0EQErjTkA+c4dAqZKIQOjnh0CFhD9ApjEwQBtbTEB91hJA5IgoQC0cLECj4h1AMFFwQPygdEDApFZA9A1UQGKGbUCOHWVATCZWQNXcbECR/ZpA9uYfQE9bG0A=",
          "dtype": "f4"
         },
         "xaxis": "x",
         "y": {
          "bdata": "ixg1QY1QIEHXXQtBnX9ZQa/jXkGjzhtBGZ0EQXvcBEEmAwFB14lNQYRBPEFIgD5B5CUSQcwlOEHdykFBjLsnQTZ3QkFuuTVB0lY6Qf5uN0HWsTlBPOwxQcG0NEGY1zZB05AaQQYVCUEdbUJBOWo/Qf60QkEp/0hBGiJCQSjqQEGroxFBwnUOQbwQEkFa6xJBWaooQb+2EUEqQQhBGuIGQemUBkFrjUBBCa0+QY1DQUE8yjZBGY8+QbMBPUEBlTxBGipLQZHXB0HLMj5B02Q/QeL3OkEHoDpB5BcvQedPPUG4BhJBRHhFQROuO0E=",
          "dtype": "f4"
         },
         "yaxis": "y"
        },
        {
         "customdata": [
          [
           "41"
          ],
          [
           "41"
          ],
          [
           "41"
          ],
          [
           "41"
          ],
          [
           "41"
          ],
          [
           "41"
          ],
          [
           "41"
          ],
          [
           "41"
          ],
          [
           "41"
          ],
          [
           "41"
          ],
          [
           "41"
          ],
          [
           "41"
          ],
          [
           "41"
          ],
          [
           "41"
          ],
          [
           "41"
          ],
          [
           "41"
          ],
          [
           "41"
          ],
          [
           "41"
          ],
          [
           "41"
          ],
          [
           "41"
          ],
          [
           "41"
          ],
          [
           "41"
          ],
          [
           "41"
          ],
          [
           "41"
          ],
          [
           "41"
          ],
          [
           "41"
          ],
          [
           "41"
          ],
          [
           "41"
          ],
          [
           "41"
          ],
          [
           "41"
          ],
          [
           "41"
          ],
          [
           "41"
          ],
          [
           "41"
          ],
          [
           "41"
          ],
          [
           "41"
          ],
          [
           "41"
          ],
          [
           "41"
          ],
          [
           "41"
          ],
          [
           "41"
          ],
          [
           "41"
          ]
         ],
         "hovertemplate": "cluster=%{customdata[0]}<br>UMAP-1=%{x}<br>UMAP-2=%{y}<extra></extra>",
         "legendgroup": "41",
         "marker": {
          "color": "#FF9DA6",
          "opacity": 0.8,
          "size": 8,
          "symbol": "circle"
         },
         "mode": "markers",
         "name": "41",
         "showlegend": true,
         "type": "scattergl",
         "x": {
          "bdata": "DEb6QAdq80BBv/RA91IAQbXz9EBeYfVAX9b0QI4w8kB9DCFAmCjvQNau5UCMzQJBI9oTQTxTuEA4ZAlBsFwAQQoO/0D0Nf5AdK7+QFwi/kD0qv1AysPrQABn7kAF8OpAfTHuQHVy7kCm5e5AGZ7wQLv+8UBVf/NAsIj2QMEheUBZb4JAhyGDQBblgkD/yvlAJbn6QG8o+kA8BfpAp4P5QA==",
          "dtype": "f4"
         },
         "xaxis": "x",
         "y": {
          "bdata": "tyseQc+cIEG92CBB5VIgQfgFIUE96CBBM5khQZYwIkE3kV1BfckfQe57JEEieBlBYMUsQZW1A0G6TyZBdKgZQTSuGUEzVBpBLP8ZQTRcGkExBhtBDb4nQfwBJkFkUCVBD2IeQQWgH0Fkeh9BijweQeG8IUH3yx5BpEUhQU0jaEFxMWlB4FhpQTgAakFw/h5BMoQeQYUgH0E8Sh9B8GAfQQ==",
          "dtype": "f4"
         },
         "yaxis": "y"
        },
        {
         "customdata": [
          [
           "40"
          ],
          [
           "40"
          ],
          [
           "40"
          ],
          [
           "40"
          ],
          [
           "40"
          ],
          [
           "40"
          ],
          [
           "40"
          ],
          [
           "40"
          ],
          [
           "40"
          ],
          [
           "40"
          ],
          [
           "40"
          ],
          [
           "40"
          ],
          [
           "40"
          ],
          [
           "40"
          ],
          [
           "40"
          ],
          [
           "40"
          ],
          [
           "40"
          ],
          [
           "40"
          ],
          [
           "40"
          ],
          [
           "40"
          ],
          [
           "40"
          ],
          [
           "40"
          ],
          [
           "40"
          ],
          [
           "40"
          ],
          [
           "40"
          ],
          [
           "40"
          ],
          [
           "40"
          ],
          [
           "40"
          ],
          [
           "40"
          ],
          [
           "40"
          ],
          [
           "40"
          ],
          [
           "40"
          ],
          [
           "40"
          ],
          [
           "40"
          ],
          [
           "40"
          ],
          [
           "40"
          ],
          [
           "40"
          ],
          [
           "40"
          ],
          [
           "40"
          ],
          [
           "40"
          ],
          [
           "40"
          ],
          [
           "40"
          ],
          [
           "40"
          ],
          [
           "40"
          ],
          [
           "40"
          ],
          [
           "40"
          ],
          [
           "40"
          ],
          [
           "40"
          ],
          [
           "40"
          ],
          [
           "40"
          ],
          [
           "40"
          ],
          [
           "40"
          ],
          [
           "40"
          ],
          [
           "40"
          ],
          [
           "40"
          ],
          [
           "40"
          ],
          [
           "40"
          ],
          [
           "40"
          ],
          [
           "40"
          ],
          [
           "40"
          ],
          [
           "40"
          ],
          [
           "40"
          ],
          [
           "40"
          ],
          [
           "40"
          ],
          [
           "40"
          ],
          [
           "40"
          ],
          [
           "40"
          ],
          [
           "40"
          ],
          [
           "40"
          ],
          [
           "40"
          ],
          [
           "40"
          ],
          [
           "40"
          ],
          [
           "40"
          ],
          [
           "40"
          ],
          [
           "40"
          ],
          [
           "40"
          ],
          [
           "40"
          ]
         ],
         "hovertemplate": "cluster=%{customdata[0]}<br>UMAP-1=%{x}<br>UMAP-2=%{y}<extra></extra>",
         "legendgroup": "40",
         "marker": {
          "color": "#9D755D",
          "opacity": 0.8,
          "size": 8,
          "symbol": "circle"
         },
         "mode": "markers",
         "name": "40",
         "showlegend": true,
         "type": "scattergl",
         "x": {
          "bdata": "HMc9v1CYQ0CbCgFAa4U7QKHXHUAM30G/iroxv4hcQUCVVkRAftUXQE6gPkBfdDxAItRAQGJVPUDSTUBAVLg+QLEzPUBRlzxAY9w/v1n2oEA/GUC/PneHQHdV+z/aqkO/oy42v8D8NECVPUFAaAyeQJd+Qb+Hnp9Af/BBQOuPX0Dcp9w/OvZCv4m4nUCrNVJABJBBQEDpSUC8mj5A5t0yQPfNE0BGVaNANStSQMKYVUDtv1dAzQorv9ftwUASlTu/uP9FQG3uRkBKOZBAQHBGQIVFREBeL5RABN8/QI7LOkCfuclAgCUKQF/LOEAGODVACmEqQEomIEAJ3yVAwfoeQFloIkAjvSZA65gcQIgCJEBX5EK/tKRAvy/oMEBWmjFAmXAiv6gXA0DQL+k/PgSaQOUwlkA=",
          "dtype": "f4"
         },
         "xaxis": "x",
         "y": {
          "bdata": "4JVBQVt5OEHjkDJBnmY3QSIMNUGXrEFBuIZAQcgFRkF1zF1BI/1bQSCJOEEGbzlBdrQ7QQNiNkFirDZBylE2QU48N0GtXTZB7MNBQW+F6kDSxUFBJOlYQYf/MkFJ8kFBejpBQczdNkE9MjVB1eHdQHesQUFpVRJBPYA4QdmZOEFPNDdBiMRBQQllLEGCdDtBy6gvQSriMEEtGzBBYFMzQdRcQUFK5TlBXLE5Qa26N0H0kjhBDRpDQQq1SEHEXkFBWXQwQW/3L0H8ihRBFlwvQXQ3L0HW4UdBDptGQdyRQUEqdEtBwWNDQesaOUGuvDhBKbc5QUT1OkEA2zpBGjA+QUOmOEGgMTpBfjQ+QRTjPkGH3kFBi8lBQardOUFpfThBfddBQb1mPUE+WT5BpY1UQSWzWEE=",
          "dtype": "f4"
         },
         "yaxis": "y"
        },
        {
         "customdata": [
          [
           "16"
          ],
          [
           "16"
          ],
          [
           "16"
          ],
          [
           "16"
          ],
          [
           "16"
          ],
          [
           "16"
          ],
          [
           "16"
          ],
          [
           "16"
          ],
          [
           "16"
          ],
          [
           "16"
          ],
          [
           "16"
          ],
          [
           "16"
          ],
          [
           "16"
          ],
          [
           "16"
          ],
          [
           "16"
          ],
          [
           "16"
          ],
          [
           "16"
          ],
          [
           "16"
          ],
          [
           "16"
          ],
          [
           "16"
          ],
          [
           "16"
          ],
          [
           "16"
          ],
          [
           "16"
          ],
          [
           "16"
          ],
          [
           "16"
          ],
          [
           "16"
          ],
          [
           "16"
          ],
          [
           "16"
          ],
          [
           "16"
          ],
          [
           "16"
          ],
          [
           "16"
          ],
          [
           "16"
          ],
          [
           "16"
          ]
         ],
         "hovertemplate": "cluster=%{customdata[0]}<br>UMAP-1=%{x}<br>UMAP-2=%{y}<extra></extra>",
         "legendgroup": "16",
         "marker": {
          "color": "#BAB0AC",
          "opacity": 0.8,
          "size": 8,
          "symbol": "circle"
         },
         "mode": "markers",
         "name": "16",
         "showlegend": true,
         "type": "scattergl",
         "x": {
          "bdata": "6LLpQCFN6kDAe+pAw5LqQFieqUCIkexABizrQHdj6UBI0utAy7btQACA7ECOjxRBLSAWQWyBBkGUEfZAAiEAQTBP7kB9ZvBA/Aw3QIiv7EBYg+9AtTLpQLtq6EBf4/pARJ/cQC1d7UDmsfBAGLTyQHtU8UBfqfFATPTxQApo7kCAZvRA",
          "dtype": "f4"
         },
         "xaxis": "x",
         "y": {
          "bdata": "VUc0Qba2M0Hm1DNBh6czQVaQRUEWRjNB+IkzQVbXNEFrIzRBZRQyQWtnMkEIizhBLI02QfS4LUEYFzJBjAg2QdXiJkFHfy9BUngfQTnGLEF2wS5BgasvQa1mMEFT2S1BxUgnQVpbLUG2RS5BEWovQRSKL0GslC9B+NsvQfrcLkHOiTFB",
          "dtype": "f4"
         },
         "yaxis": "y"
        },
        {
         "customdata": [
          [
           "3"
          ],
          [
           "3"
          ],
          [
           "3"
          ],
          [
           "3"
          ],
          [
           "3"
          ],
          [
           "3"
          ],
          [
           "3"
          ],
          [
           "3"
          ],
          [
           "3"
          ],
          [
           "3"
          ],
          [
           "3"
          ],
          [
           "3"
          ],
          [
           "3"
          ],
          [
           "3"
          ],
          [
           "3"
          ],
          [
           "3"
          ],
          [
           "3"
          ],
          [
           "3"
          ],
          [
           "3"
          ],
          [
           "3"
          ],
          [
           "3"
          ],
          [
           "3"
          ],
          [
           "3"
          ],
          [
           "3"
          ],
          [
           "3"
          ],
          [
           "3"
          ],
          [
           "3"
          ],
          [
           "3"
          ],
          [
           "3"
          ],
          [
           "3"
          ],
          [
           "3"
          ]
         ],
         "hovertemplate": "cluster=%{customdata[0]}<br>UMAP-1=%{x}<br>UMAP-2=%{y}<extra></extra>",
         "legendgroup": "3",
         "marker": {
          "color": "#4C78A8",
          "opacity": 0.8,
          "size": 8,
          "symbol": "circle"
         },
         "mode": "markers",
         "name": "3",
         "showlegend": true,
         "type": "scattergl",
         "x": {
          "bdata": "+fh7QOppdkBSMrhAy9i5QL5zGkDoGxtAuggWQPUhF0A2hhpAJY8iQMtjI0BGaLhATZvgQHRo4UCb8OBAk2PgQH/w3kCgTVFAJNwRQWeUHEAV6idABIoFQPt24ECUzy9AejowQE1yFEAR1BVAaUsaQaqjTUA4lqlA+0+uQA==",
          "dtype": "f4"
         },
         "xaxis": "x",
         "y": {
          "bdata": "8b5fQUFVW0FhQhdBk54WQYLBSEH4FElBw5JHQTTbSEH2YEhBys05QbQWNkEKchVBatDKQLxqy0D0ectAtdTKQFFxyUDbN2FBufAbQYMxKUHItCxBh/pBQZaCWEEGGCNBtDoiQSO/RkE0PkhB/EsWQWXqRkF2mC1BcEEeQQ==",
          "dtype": "f4"
         },
         "yaxis": "y"
        },
        {
         "customdata": [
          [
           "25"
          ],
          [
           "25"
          ],
          [
           "25"
          ],
          [
           "25"
          ],
          [
           "25"
          ],
          [
           "25"
          ],
          [
           "25"
          ],
          [
           "25"
          ],
          [
           "25"
          ],
          [
           "25"
          ],
          [
           "25"
          ],
          [
           "25"
          ],
          [
           "25"
          ],
          [
           "25"
          ],
          [
           "25"
          ],
          [
           "25"
          ],
          [
           "25"
          ],
          [
           "25"
          ],
          [
           "25"
          ],
          [
           "25"
          ],
          [
           "25"
          ],
          [
           "25"
          ],
          [
           "25"
          ],
          [
           "25"
          ],
          [
           "25"
          ],
          [
           "25"
          ],
          [
           "25"
          ],
          [
           "25"
          ],
          [
           "25"
          ],
          [
           "25"
          ],
          [
           "25"
          ],
          [
           "25"
          ],
          [
           "25"
          ],
          [
           "25"
          ],
          [
           "25"
          ],
          [
           "25"
          ],
          [
           "25"
          ],
          [
           "25"
          ],
          [
           "25"
          ],
          [
           "25"
          ],
          [
           "25"
          ],
          [
           "25"
          ],
          [
           "25"
          ],
          [
           "25"
          ],
          [
           "25"
          ],
          [
           "25"
          ],
          [
           "25"
          ],
          [
           "25"
          ],
          [
           "25"
          ],
          [
           "25"
          ],
          [
           "25"
          ],
          [
           "25"
          ],
          [
           "25"
          ],
          [
           "25"
          ],
          [
           "25"
          ],
          [
           "25"
          ]
         ],
         "hovertemplate": "cluster=%{customdata[0]}<br>UMAP-1=%{x}<br>UMAP-2=%{y}<extra></extra>",
         "legendgroup": "25",
         "marker": {
          "color": "#F58518",
          "opacity": 0.8,
          "size": 8,
          "symbol": "circle"
         },
         "mode": "markers",
         "name": "25",
         "showlegend": true,
         "type": "scattergl",
         "x": {
          "bdata": "xEpzQLFJX0AVoidAmrEoQCCCT0DvohhAiuwXQDHFG0DvvCNAmxAbQMOAHUBH1zJA2r5EQEAKPUDJOzNA7uksQKMBKkAYHEhAq/oZQOZmTEDPsipAH/ElQLynLkBIOyhARJYqQP0eMkAMlkFAd3MoQGXlQ0AsWC5Aogk5QMIOJkD+jR5A5p8wQBm1OkDs7CBA78AhQCpsO0CxKx5AzTUiQEArNED0TTdAmnFqQN1IQ0BZmllANWc6QFryckDeqSlA3PBcQIj8XkBWMl1AqZ+MQPNYikCeQGhAPTSHQOa2jEA=",
          "dtype": "f4"
         },
         "xaxis": "x",
         "y": {
          "bdata": "mtBhQQh3ZkG3MGdBs0loQTicX0FAJ11BLFJdQc+XXkErcWNB08NfQRXsX0FlRGdBfU5nQempa0Gl8WdBH75sQU9cbUFUAmBB5SteQfusZkHK82pB89VsQcloaUEVTWlBsb1oQaUFY0HEjmhBTDhtQZXJZUFMt2pBBs5pQdt8Z0Gm32JB2p9qQSkgbEFKCmFBqjBiQXm4YUGUpmFB0f1hQZJMaEFmbmpBbABnQTwJYEED2mFBYj5nQdl9aUET0mVBVdleQYHaXUH7cF5BEd1eQcrKX0HLI2dBst9gQUYVX0E=",
          "dtype": "f4"
         },
         "yaxis": "y"
        },
        {
         "customdata": [
          [
           "49"
          ],
          [
           "49"
          ],
          [
           "49"
          ],
          [
           "49"
          ],
          [
           "49"
          ],
          [
           "49"
          ],
          [
           "49"
          ],
          [
           "49"
          ],
          [
           "49"
          ],
          [
           "49"
          ],
          [
           "49"
          ],
          [
           "49"
          ],
          [
           "49"
          ],
          [
           "49"
          ],
          [
           "49"
          ],
          [
           "49"
          ],
          [
           "49"
          ],
          [
           "49"
          ],
          [
           "49"
          ],
          [
           "49"
          ],
          [
           "49"
          ],
          [
           "49"
          ],
          [
           "49"
          ],
          [
           "49"
          ],
          [
           "49"
          ],
          [
           "49"
          ],
          [
           "49"
          ],
          [
           "49"
          ],
          [
           "49"
          ],
          [
           "49"
          ],
          [
           "49"
          ]
         ],
         "hovertemplate": "cluster=%{customdata[0]}<br>UMAP-1=%{x}<br>UMAP-2=%{y}<extra></extra>",
         "legendgroup": "49",
         "marker": {
          "color": "#E45756",
          "opacity": 0.8,
          "size": 8,
          "symbol": "circle"
         },
         "mode": "markers",
         "name": "49",
         "showlegend": true,
         "type": "scattergl",
         "x": {
          "bdata": "/xVZQIJz50DFdbNA1VqdQNdY1EB5rtNA8Y2oQMz8qkCr8KZABvijQERQqkB75KZAeTOoQKnwqUC+QKhA1uSoQEKDqUDF9apAj1KqQP50q0BfyZ5An0CjQE+EmEB28qtA23uJQJbGpEBAHuhAmsGQQFg3pkAHjphAPfiZQA==",
          "dtype": "f4"
         },
         "xaxis": "x",
         "y": {
          "bdata": "7F9mQVWpFUF4R01Bf5RCQQ9HQEEwdkBBzuJNQXGtTUHE9E1BYLZMQfQvTkGWGE9BrDlOQW0xTkF90ExBD8VNQdd4TkGumU5BLC1OQQk7TkE/ukhBohdIQcBZR0FGfDxBHZtIQe8wR0GVS0xBmi9FQcHvTUHhh0ZBpAtHQQ==",
          "dtype": "f4"
         },
         "yaxis": "y"
        },
        {
         "customdata": [
          [
           "14"
          ],
          [
           "14"
          ],
          [
           "14"
          ],
          [
           "14"
          ],
          [
           "14"
          ],
          [
           "14"
          ],
          [
           "14"
          ],
          [
           "14"
          ],
          [
           "14"
          ],
          [
           "14"
          ],
          [
           "14"
          ],
          [
           "14"
          ],
          [
           "14"
          ],
          [
           "14"
          ],
          [
           "14"
          ],
          [
           "14"
          ],
          [
           "14"
          ],
          [
           "14"
          ],
          [
           "14"
          ],
          [
           "14"
          ],
          [
           "14"
          ],
          [
           "14"
          ],
          [
           "14"
          ],
          [
           "14"
          ],
          [
           "14"
          ],
          [
           "14"
          ],
          [
           "14"
          ],
          [
           "14"
          ],
          [
           "14"
          ],
          [
           "14"
          ],
          [
           "14"
          ],
          [
           "14"
          ],
          [
           "14"
          ],
          [
           "14"
          ],
          [
           "14"
          ],
          [
           "14"
          ],
          [
           "14"
          ],
          [
           "14"
          ],
          [
           "14"
          ],
          [
           "14"
          ],
          [
           "14"
          ],
          [
           "14"
          ],
          [
           "14"
          ],
          [
           "14"
          ],
          [
           "14"
          ],
          [
           "14"
          ],
          [
           "14"
          ],
          [
           "14"
          ]
         ],
         "hovertemplate": "cluster=%{customdata[0]}<br>UMAP-1=%{x}<br>UMAP-2=%{y}<extra></extra>",
         "legendgroup": "14",
         "marker": {
          "color": "#72B7B2",
          "opacity": 0.8,
          "size": 8,
          "symbol": "circle"
         },
         "mode": "markers",
         "name": "14",
         "showlegend": true,
         "type": "scattergl",
         "x": {
          "bdata": "EqiOQBTqjUD/kpNAzbWtQFLabEDKeINACk+YQId1gkDak5BAvyerQBY7lEApA5NAtT1rQFusdUA8WXFAcs2PQAwbgEAr5rdAquzAQL6gsEAY9YRAunw+QCc5ZkCyY2ZAqVObQJ4gkEDyUY9A3oKYQHpxpkD1GKdAAsKMQLiEi0CsWI9ADziPQLD4hUAxW6dApWGUQKyKZkC6NaxAkhWiQBqQpEBTI55AMgOfQAPWu0A5V7JAeu+yQFbJv0D1obdA",
          "dtype": "f4"
         },
         "xaxis": "x",
         "y": {
          "bdata": "AxE6QZZtQEG5BztBRRwXQR2lXEF2QStBhEHsQHW7N0GwmzhBpWc3QWNbO0H0HDRBodtbQZjuSkHZlD1BOqQ0QYTHQEHJ1BdBmBUkQQdNFUFhhjNB+4AdQUu7SkE160ZBN1IoQU6OOkH+HzlBr6YvQRQeOUFQ4zdBiYI4QRkTN0EFbTRBlu03QaunSEHvK0RBebJIQen5RUFQXDRBI8wvQZ/0L0ExqTJB3dMxQQOmDkHdPxVBGLQTQXfQDUHjPxBB",
          "dtype": "f4"
         },
         "yaxis": "y"
        },
        {
         "customdata": [
          [
           "30"
          ],
          [
           "30"
          ],
          [
           "30"
          ],
          [
           "30"
          ],
          [
           "30"
          ],
          [
           "30"
          ],
          [
           "30"
          ],
          [
           "30"
          ],
          [
           "30"
          ],
          [
           "30"
          ],
          [
           "30"
          ],
          [
           "30"
          ],
          [
           "30"
          ],
          [
           "30"
          ],
          [
           "30"
          ],
          [
           "30"
          ],
          [
           "30"
          ],
          [
           "30"
          ],
          [
           "30"
          ],
          [
           "30"
          ],
          [
           "30"
          ],
          [
           "30"
          ],
          [
           "30"
          ],
          [
           "30"
          ],
          [
           "30"
          ],
          [
           "30"
          ],
          [
           "30"
          ],
          [
           "30"
          ],
          [
           "30"
          ],
          [
           "30"
          ],
          [
           "30"
          ],
          [
           "30"
          ],
          [
           "30"
          ],
          [
           "30"
          ],
          [
           "30"
          ]
         ],
         "hovertemplate": "cluster=%{customdata[0]}<br>UMAP-1=%{x}<br>UMAP-2=%{y}<extra></extra>",
         "legendgroup": "30",
         "marker": {
          "color": "#54A24B",
          "opacity": 0.8,
          "size": 8,
          "symbol": "circle"
         },
         "mode": "markers",
         "name": "30",
         "showlegend": true,
         "type": "scattergl",
         "x": {
          "bdata": "6rGPQG2VaUDi6YxAAs6FQKPhiECWdIVAUzCIQJdOp0CTAahArWSoQPAchUDS7olASpqMQMTYjEA/filAqBEtQGhqHkCvP4hA9xGJQGyEiUA07IhAnkSkQMugwEDvsMBAqkiCQAe/gkCdl4NATeeJQJY/hUD3cYlA+mkkQA/5iUCGsY1AdImWQCz6hUA=",
          "dtype": "f4"
         },
         "xaxis": "x",
         "y": {
          "bdata": "LHg3QbS3MkHlJTxB5oI7QZo/MEE91jhBc+UvQYLtKUGbSylB1k8pQdeEQUFW/itBYsgqQUw8J0GJ9jdB3AA5Qe6qNUEKES5BlDUuQY9hLUEKES5BVKA4QbD6R0EhpEhBec8uQfXbLUFXHy9BxqcrQSEZL0EQnydB9GJEQR/xPUGgTStB/54kQVJ6L0E=",
          "dtype": "f4"
         },
         "yaxis": "y"
        },
        {
         "customdata": [
          [
           "32"
          ],
          [
           "32"
          ],
          [
           "32"
          ],
          [
           "32"
          ],
          [
           "32"
          ],
          [
           "32"
          ],
          [
           "32"
          ],
          [
           "32"
          ],
          [
           "32"
          ],
          [
           "32"
          ],
          [
           "32"
          ],
          [
           "32"
          ],
          [
           "32"
          ],
          [
           "32"
          ],
          [
           "32"
          ],
          [
           "32"
          ],
          [
           "32"
          ],
          [
           "32"
          ],
          [
           "32"
          ],
          [
           "32"
          ],
          [
           "32"
          ],
          [
           "32"
          ],
          [
           "32"
          ],
          [
           "32"
          ],
          [
           "32"
          ],
          [
           "32"
          ],
          [
           "32"
          ],
          [
           "32"
          ],
          [
           "32"
          ],
          [
           "32"
          ],
          [
           "32"
          ],
          [
           "32"
          ],
          [
           "32"
          ],
          [
           "32"
          ],
          [
           "32"
          ],
          [
           "32"
          ],
          [
           "32"
          ],
          [
           "32"
          ],
          [
           "32"
          ],
          [
           "32"
          ],
          [
           "32"
          ],
          [
           "32"
          ],
          [
           "32"
          ],
          [
           "32"
          ],
          [
           "32"
          ],
          [
           "32"
          ],
          [
           "32"
          ],
          [
           "32"
          ],
          [
           "32"
          ],
          [
           "32"
          ]
         ],
         "hovertemplate": "cluster=%{customdata[0]}<br>UMAP-1=%{x}<br>UMAP-2=%{y}<extra></extra>",
         "legendgroup": "32",
         "marker": {
          "color": "#EECA3B",
          "opacity": 0.8,
          "size": 8,
          "symbol": "circle"
         },
         "mode": "markers",
         "name": "32",
         "showlegend": true,
         "type": "scattergl",
         "x": {
          "bdata": "JS7eQCdBYkAbD8FAG2++QHc1v0D++b5At4e+QOxjjUDXkIxAbyWOQNeRwkALer5ALfmNQNn3GkFARhtBAVEaQYbyu0Atqr9Ac7HgQLw34UAm6uBA3KPgQN774EAqTeFAZWq/QFeZwUAfEtFAWIAAQa3wv0AYNbtAkSa+QGjUxkDPhMRAnk/FQGkRx0BxXsdAP6/IQNudxkCiOMdAr77YQHTBwkBZznNAmeELQDX1ykC9I9FAQATbQMZ/wkDw68JAxVjDQMERv0A=",
          "dtype": "f4"
         },
         "xaxis": "x",
         "y": {
          "bdata": "O9cPQaf+yEBTPyNBE/UiQbVEIUFAXRtBwOAjQSWvXkHaGF9Bdq1eQd2WEEEIIxFBJStbQVdaCkFNrApBxvIJQaD6BUG6YwZBDRjLQHjQykB6MMtAZvXLQJNfy0BXz8tAr8IYQZGKCUGWkjxBIAo2QZk6FUEv6RNBNasTQSH6FUExXhhBFloWQWrMFUHXwxVBv6YVQVEgF0GfYhVBbngqQfUOEkE+1ixBDz5AQR8OJEGX6SZBBGcoQVbFGEEHYBdBC3waQQdDGUE=",
          "dtype": "f4"
         },
         "yaxis": "y"
        },
        {
         "customdata": [
          [
           "37"
          ],
          [
           "37"
          ],
          [
           "37"
          ],
          [
           "37"
          ],
          [
           "37"
          ],
          [
           "37"
          ],
          [
           "37"
          ],
          [
           "37"
          ],
          [
           "37"
          ],
          [
           "37"
          ],
          [
           "37"
          ],
          [
           "37"
          ],
          [
           "37"
          ],
          [
           "37"
          ],
          [
           "37"
          ],
          [
           "37"
          ],
          [
           "37"
          ],
          [
           "37"
          ],
          [
           "37"
          ],
          [
           "37"
          ],
          [
           "37"
          ],
          [
           "37"
          ],
          [
           "37"
          ],
          [
           "37"
          ],
          [
           "37"
          ],
          [
           "37"
          ],
          [
           "37"
          ],
          [
           "37"
          ],
          [
           "37"
          ],
          [
           "37"
          ],
          [
           "37"
          ],
          [
           "37"
          ],
          [
           "37"
          ],
          [
           "37"
          ],
          [
           "37"
          ],
          [
           "37"
          ],
          [
           "37"
          ],
          [
           "37"
          ],
          [
           "37"
          ],
          [
           "37"
          ],
          [
           "37"
          ],
          [
           "37"
          ]
         ],
         "hovertemplate": "cluster=%{customdata[0]}<br>UMAP-1=%{x}<br>UMAP-2=%{y}<extra></extra>",
         "legendgroup": "37",
         "marker": {
          "color": "#B279A2",
          "opacity": 0.8,
          "size": 8,
          "symbol": "circle"
         },
         "mode": "markers",
         "name": "37",
         "showlegend": true,
         "type": "scattergl",
         "x": {
          "bdata": "uRPpQEar7UCnZexAwKkkQRH0A0Gq+QJBKZ76QBaU/0BNmwNBR+IAQZ0fA0Hw/ANBGkQDQbefAEG0lgNBzjoBQYb6AkGcsQNB434DQV5kAkEpmwJBDpPxQGisAkF2OwBBmeX8QE3b/kBCyvxA0jkAQfToAUFTmQFBkacBQc7dAUERpQNB5rgCQWWdAkHFowFBApb5QEIh+0C0xfhAElz8QDdG/kBm7vVA",
          "dtype": "f4"
         },
         "xaxis": "x",
         "y": {
          "bdata": "tHURQQflCUGRwgtBjsQXQTJWAkG/TANBsasJQXJyB0HaKQNBorMGQVsSA0FRgQJBt1sCQZ52BkHYQAJBpU4GQdSdA0ExigJBLhoDQak2BEGrTANBnI8EQVTnBUFG4AtBsJkJQXvfCUHIMAlB7UAJQS7/BkEVsAhBUGUHQUlCCkFEcQ1BwfMMQdlnDUGbaQpBF54JQbKlCUG5ZAlBL8QIQfO8B0HvcQpB",
          "dtype": "f4"
         },
         "yaxis": "y"
        },
        {
         "customdata": [
          [
           "46"
          ],
          [
           "46"
          ],
          [
           "46"
          ],
          [
           "46"
          ],
          [
           "46"
          ],
          [
           "46"
          ],
          [
           "46"
          ],
          [
           "46"
          ],
          [
           "46"
          ],
          [
           "46"
          ],
          [
           "46"
          ],
          [
           "46"
          ],
          [
           "46"
          ],
          [
           "46"
          ],
          [
           "46"
          ],
          [
           "46"
          ],
          [
           "46"
          ],
          [
           "46"
          ],
          [
           "46"
          ],
          [
           "46"
          ],
          [
           "46"
          ],
          [
           "46"
          ],
          [
           "46"
          ],
          [
           "46"
          ],
          [
           "46"
          ],
          [
           "46"
          ],
          [
           "46"
          ],
          [
           "46"
          ],
          [
           "46"
          ],
          [
           "46"
          ],
          [
           "46"
          ],
          [
           "46"
          ],
          [
           "46"
          ],
          [
           "46"
          ],
          [
           "46"
          ],
          [
           "46"
          ],
          [
           "46"
          ],
          [
           "46"
          ],
          [
           "46"
          ],
          [
           "46"
          ],
          [
           "46"
          ],
          [
           "46"
          ],
          [
           "46"
          ],
          [
           "46"
          ],
          [
           "46"
          ],
          [
           "46"
          ],
          [
           "46"
          ],
          [
           "46"
          ],
          [
           "46"
          ],
          [
           "46"
          ],
          [
           "46"
          ],
          [
           "46"
          ],
          [
           "46"
          ],
          [
           "46"
          ],
          [
           "46"
          ],
          [
           "46"
          ]
         ],
         "hovertemplate": "cluster=%{customdata[0]}<br>UMAP-1=%{x}<br>UMAP-2=%{y}<extra></extra>",
         "legendgroup": "46",
         "marker": {
          "color": "#FF9DA6",
          "opacity": 0.8,
          "size": 8,
          "symbol": "circle"
         },
         "mode": "markers",
         "name": "46",
         "showlegend": true,
         "type": "scattergl",
         "x": {
          "bdata": "AUkWQJhJQkCbCPU/2XMFQCywCkAqvARBFA7xP/sGBUAmkyNA+b0dQEPxGED3IQNAn7QPQDi2FEBguBVAMZMJQGjVC0BJWyZAL0IuQDdADUAl8nNAqx3NPxvMAECjmO0/58HtP0C5A0AvUfA/o37sP97hFEA56gdAa1IZQB0BCkCnoBdAYiMLQIMzF0DxpiFAt8kgQNHm8kCEahlA5XQaQKOkFUA7mRRAscArQDhr7j8IbQBA2KXsP1YX6j+O2ABA+Pb7P8IuBEA7dfw/5n8CQOsP9T+Yag1AFd8VQPCoDkA=",
          "dtype": "f4"
         },
         "xaxis": "x",
         "y": {
          "bdata": "JmsvQUwTX0H0uS1Bhp0sQZSoLEED8utAogs2QcSsNEHf/ThBBaA4QdiHNUEFiC9BKZMqQaI1KUFBBilBdTcrQSJQK0GxzfNALv33QNzBNEGFpA5BecQtQfQAMEE7eS9BK8svQWwcMEEJ3y5BpD8vQRvSMUHrxC5BPydEQXvCLkHIvkhB1sRBQcrEKkGc8CxBITc1QQnQ5kA9oypBOSAsQcgCKUFSCytBwe43QRWlMEHlGTVBxRUyQRp/L0GSiT5BbcI+QVKoQUHqzj5BpRs+QXO1PkFTZyxB15cyQX12K0E=",
          "dtype": "f4"
         },
         "yaxis": "y"
        },
        {
         "customdata": [
          [
           "29"
          ],
          [
           "29"
          ],
          [
           "29"
          ],
          [
           "29"
          ],
          [
           "29"
          ],
          [
           "29"
          ],
          [
           "29"
          ],
          [
           "29"
          ],
          [
           "29"
          ],
          [
           "29"
          ],
          [
           "29"
          ],
          [
           "29"
          ],
          [
           "29"
          ],
          [
           "29"
          ],
          [
           "29"
          ],
          [
           "29"
          ],
          [
           "29"
          ],
          [
           "29"
          ],
          [
           "29"
          ],
          [
           "29"
          ],
          [
           "29"
          ],
          [
           "29"
          ],
          [
           "29"
          ],
          [
           "29"
          ],
          [
           "29"
          ],
          [
           "29"
          ],
          [
           "29"
          ],
          [
           "29"
          ],
          [
           "29"
          ],
          [
           "29"
          ],
          [
           "29"
          ],
          [
           "29"
          ],
          [
           "29"
          ],
          [
           "29"
          ],
          [
           "29"
          ],
          [
           "29"
          ],
          [
           "29"
          ],
          [
           "29"
          ],
          [
           "29"
          ],
          [
           "29"
          ],
          [
           "29"
          ],
          [
           "29"
          ],
          [
           "29"
          ],
          [
           "29"
          ]
         ],
         "hovertemplate": "cluster=%{customdata[0]}<br>UMAP-1=%{x}<br>UMAP-2=%{y}<extra></extra>",
         "legendgroup": "29",
         "marker": {
          "color": "#9D755D",
          "opacity": 0.8,
          "size": 8,
          "symbol": "circle"
         },
         "mode": "markers",
         "name": "29",
         "showlegend": true,
         "type": "scattergl",
         "x": {
          "bdata": "zfveQJLO4UCGad5A3FvdQFxg3ECHhehAZ1oBQSPOtkBnEAdBX0D1QIU/9UDwp/FAJ7zzQJtk9kCarfdA5CP3QMSd90BlevdAKtzzQEQd9UCbvfRA0kn1QLKw80Cz4vVAeV/zQO5Z9EAjgfVA/pD0QCn25UAUxOdAUWLmQJDI3kDthd5AsFDkQOEw4kC7VOxAjRDtQJPr50AuO99Ai2PnQEf07UA/oO5ADDkXQfug70A=",
          "dtype": "f4"
         },
         "xaxis": "x",
         "y": {
          "bdata": "qN9GQSEhRUHhBUdBnlpIQRYeUUH7FkRB3AcZQYJARUFsXBNBGGhLQf7US0FQi0xB0qFLQVeGSkGib0dBOhBIQRiMRkGSLEhBgFZMQXvLS0EeVExBqhNNQYHGS0GyrktBqflKQd/fS0GFNkxB2nNMQa7LRUG3nkVBNXdEQVc7R0EL4UZBWtdFQZKWRkHjsENByS5FQfy/TEFvU0ZBzoJFQS6DREF4XUNBZKIXQZsFTkE=",
          "dtype": "f4"
         },
         "yaxis": "y"
        },
        {
         "customdata": [
          [
           "27"
          ],
          [
           "27"
          ],
          [
           "27"
          ],
          [
           "27"
          ],
          [
           "27"
          ],
          [
           "27"
          ],
          [
           "27"
          ],
          [
           "27"
          ],
          [
           "27"
          ],
          [
           "27"
          ],
          [
           "27"
          ],
          [
           "27"
          ],
          [
           "27"
          ],
          [
           "27"
          ],
          [
           "27"
          ],
          [
           "27"
          ],
          [
           "27"
          ],
          [
           "27"
          ],
          [
           "27"
          ],
          [
           "27"
          ],
          [
           "27"
          ]
         ],
         "hovertemplate": "cluster=%{customdata[0]}<br>UMAP-1=%{x}<br>UMAP-2=%{y}<extra></extra>",
         "legendgroup": "27",
         "marker": {
          "color": "#BAB0AC",
          "opacity": 0.8,
          "size": 8,
          "symbol": "circle"
         },
         "mode": "markers",
         "name": "27",
         "showlegend": true,
         "type": "scattergl",
         "x": {
          "bdata": "owcaQKrBv0DMVcxAZl7QQKAryEChtcdA5Nq+QPVuzEA178lAhZDJQIy9xEDiUsVAtVfMQHWzy0BCi85AV2vLQIewy0C2ksxATuHLQDajzUBf8dE/",
          "dtype": "f4"
         },
         "xaxis": "x",
         "y": {
          "bdata": "K6o6Qac8MEHzWTJBrdM0QWCKMkGX4DJBuMo4Qf8LMkHqbDJBXOowQRpSMUFi4TFBbE8xQafXMEHwXjFB60QxQR5lMkFtdjBBboUxQcILMUEh9yFB",
          "dtype": "f4"
         },
         "yaxis": "y"
        },
        {
         "customdata": [
          [
           "20"
          ],
          [
           "20"
          ],
          [
           "20"
          ],
          [
           "20"
          ],
          [
           "20"
          ],
          [
           "20"
          ],
          [
           "20"
          ],
          [
           "20"
          ],
          [
           "20"
          ],
          [
           "20"
          ],
          [
           "20"
          ],
          [
           "20"
          ],
          [
           "20"
          ],
          [
           "20"
          ],
          [
           "20"
          ],
          [
           "20"
          ],
          [
           "20"
          ],
          [
           "20"
          ],
          [
           "20"
          ],
          [
           "20"
          ],
          [
           "20"
          ],
          [
           "20"
          ],
          [
           "20"
          ],
          [
           "20"
          ],
          [
           "20"
          ],
          [
           "20"
          ],
          [
           "20"
          ],
          [
           "20"
          ],
          [
           "20"
          ],
          [
           "20"
          ],
          [
           "20"
          ],
          [
           "20"
          ],
          [
           "20"
          ],
          [
           "20"
          ],
          [
           "20"
          ],
          [
           "20"
          ],
          [
           "20"
          ],
          [
           "20"
          ],
          [
           "20"
          ],
          [
           "20"
          ],
          [
           "20"
          ],
          [
           "20"
          ],
          [
           "20"
          ],
          [
           "20"
          ],
          [
           "20"
          ],
          [
           "20"
          ],
          [
           "20"
          ],
          [
           "20"
          ],
          [
           "20"
          ],
          [
           "20"
          ],
          [
           "20"
          ],
          [
           "20"
          ],
          [
           "20"
          ],
          [
           "20"
          ],
          [
           "20"
          ],
          [
           "20"
          ],
          [
           "20"
          ],
          [
           "20"
          ],
          [
           "20"
          ],
          [
           "20"
          ],
          [
           "20"
          ],
          [
           "20"
          ],
          [
           "20"
          ],
          [
           "20"
          ],
          [
           "20"
          ],
          [
           "20"
          ],
          [
           "20"
          ],
          [
           "20"
          ],
          [
           "20"
          ]
         ],
         "hovertemplate": "cluster=%{customdata[0]}<br>UMAP-1=%{x}<br>UMAP-2=%{y}<extra></extra>",
         "legendgroup": "20",
         "marker": {
          "color": "#4C78A8",
          "opacity": 0.8,
          "size": 8,
          "symbol": "circle"
         },
         "mode": "markers",
         "name": "20",
         "showlegend": true,
         "type": "scattergl",
         "x": {
          "bdata": "HGhVQNb2U0BYU1VAOfJSQOTAVkBaSVlAnZtdQHazWkDbEjtAowdZQNc9V0DUM1lATTxWQL+CH0Dpix5Aw9kpQMPOOEDhVCpAPZMjQO8+LEDAXyZAdLAnQF6fI0A/91hAu1o7QEI5PkBCyjZAfZA4QFdiP0DEWTtARXBAQJwpNkCQzTpAy8o+QD07REDP9y9AdCklQIn1IUAGaXxAeI9QQJmcNUAVRjZAKIxyQPvYW0Ayc0JAQsNsQCEDX0C86VxAH3dVQDYwbUBTUmxA8f0iQAByI0AZs2xAWgeEQK1COUD7amRA+EI4QF8vFUCtvxhAoYETQNXsEkAnhhVArWISQNqcE0C62hFA2mYcQNKDHUCu2VlA",
          "dtype": "f4"
         },
         "xaxis": "x",
         "y": {
          "bdata": "PL8KQbUWCkFfEQpB2MgJQWe1CUG0EAtB21UNQfLGCkHU2BJBQsIJQdQaCkHwnApBc6oLQd0+C0HV/ApBf6AQQR3zEkEJ4BNBjmkUQZ0WFEF6sRRBbUAUQaS6FEFFHCJB71kQQSREEUFIlRBBqcAPQQySEUEhahBBwNERQV9BD0EAHBBBOB8QQbaLEEEGOg5BYoEMQckMF0GWJitBjp0LQa9dD0F9bw9BigYXQVoUH0E7zBBBiRMOQdahFkHSfRRBwvkWQUM0D0Hg/w9BfKgOQTWIDEHdfCBBRHwcQQswEUEjfxtBDJ8RQXhPCkF3LgtBFuYJQXkCCkGbggpBW0cJQR9gCUHR6QlBUaQLQfhNC0GwlRNB",
          "dtype": "f4"
         },
         "yaxis": "y"
        },
        {
         "customdata": [
          [
           "44"
          ],
          [
           "44"
          ],
          [
           "44"
          ],
          [
           "44"
          ],
          [
           "44"
          ],
          [
           "44"
          ],
          [
           "44"
          ],
          [
           "44"
          ],
          [
           "44"
          ],
          [
           "44"
          ],
          [
           "44"
          ],
          [
           "44"
          ],
          [
           "44"
          ],
          [
           "44"
          ],
          [
           "44"
          ],
          [
           "44"
          ],
          [
           "44"
          ],
          [
           "44"
          ],
          [
           "44"
          ],
          [
           "44"
          ],
          [
           "44"
          ],
          [
           "44"
          ],
          [
           "44"
          ],
          [
           "44"
          ],
          [
           "44"
          ],
          [
           "44"
          ],
          [
           "44"
          ],
          [
           "44"
          ],
          [
           "44"
          ],
          [
           "44"
          ],
          [
           "44"
          ],
          [
           "44"
          ],
          [
           "44"
          ],
          [
           "44"
          ],
          [
           "44"
          ],
          [
           "44"
          ]
         ],
         "hovertemplate": "cluster=%{customdata[0]}<br>UMAP-1=%{x}<br>UMAP-2=%{y}<extra></extra>",
         "legendgroup": "44",
         "marker": {
          "color": "#F58518",
          "opacity": 0.8,
          "size": 8,
          "symbol": "circle"
         },
         "mode": "markers",
         "name": "44",
         "showlegend": true,
         "type": "scattergl",
         "x": {
          "bdata": "SgdXQO/wXUB2EzZAV4RrQO68XEDVuoNAO6tUQMbpU0C0IVBAFyxTQLKpT0B4GE9AjL9yQJ28KUDqoSxAi9ZPQIzXTUCesk1ARLdNQHGeTEB3jlBAqN9QQFEFTkARRFlAXexfQKYqW0C5o1tAcX9cQNXrWkABlGBAbeJrQLPja0AukHZA1KlmQJss0z/9u0dA",
          "dtype": "f4"
         },
         "xaxis": "x",
         "y": {
          "bdata": "UisKQZdmC0EEJHVBSB5HQZKxDEFNKVFB9KQaQVU8G0E3IxxB4XsbQcUbG0G7cRpBIR5QQWfcRUHBciBB0xX7QNsy+0AG6PxA85j+QGBp+kA7BPxASmj4QG9d+EAneB9BogkfQQcHIEGWZx9B1WYhQTD6S0GNhU1BcYUPQTIhGkECtBJBGZkUQUJ1IkEYlxtB",
          "dtype": "f4"
         },
         "yaxis": "y"
        },
        {
         "customdata": [
          [
           "19"
          ],
          [
           "19"
          ],
          [
           "19"
          ],
          [
           "19"
          ],
          [
           "19"
          ],
          [
           "19"
          ],
          [
           "19"
          ],
          [
           "19"
          ],
          [
           "19"
          ],
          [
           "19"
          ],
          [
           "19"
          ],
          [
           "19"
          ],
          [
           "19"
          ],
          [
           "19"
          ],
          [
           "19"
          ],
          [
           "19"
          ],
          [
           "19"
          ],
          [
           "19"
          ],
          [
           "19"
          ],
          [
           "19"
          ],
          [
           "19"
          ],
          [
           "19"
          ],
          [
           "19"
          ],
          [
           "19"
          ],
          [
           "19"
          ],
          [
           "19"
          ],
          [
           "19"
          ],
          [
           "19"
          ],
          [
           "19"
          ],
          [
           "19"
          ],
          [
           "19"
          ],
          [
           "19"
          ],
          [
           "19"
          ],
          [
           "19"
          ],
          [
           "19"
          ],
          [
           "19"
          ],
          [
           "19"
          ],
          [
           "19"
          ],
          [
           "19"
          ],
          [
           "19"
          ],
          [
           "19"
          ],
          [
           "19"
          ],
          [
           "19"
          ],
          [
           "19"
          ],
          [
           "19"
          ],
          [
           "19"
          ],
          [
           "19"
          ],
          [
           "19"
          ]
         ],
         "hovertemplate": "cluster=%{customdata[0]}<br>UMAP-1=%{x}<br>UMAP-2=%{y}<extra></extra>",
         "legendgroup": "19",
         "marker": {
          "color": "#E45756",
          "opacity": 0.8,
          "size": 8,
          "symbol": "circle"
         },
         "mode": "markers",
         "name": "19",
         "showlegend": true,
         "type": "scattergl",
         "x": {
          "bdata": "voqxQK4rrUBJiqpAX9qxQK/IrkCy5KJARzygQBsRoEAs96NAJHKkQO3An0C63aBAUb+eQOCqoUDllaFAtAKgQHVlmED3e59ArQ+gQJh9n0B+K6RAhqqjQABpoUDAmqRA1WykQEf4o0DuYalAEZusQDK6skCyu69AzD6yQI8oXUCx1F5AByjfQPaIqkDgFqlAubWpQKVzpED00KJAovuhQGjBokDE9aBAD+mqQN0b9ED5KBJAW6GlQKmLpEC+y6VA",
          "dtype": "f4"
         },
         "xaxis": "x",
         "y": {
          "bdata": "Z1vgQG6r1kBFp9RAVNDfQGi/8UAcLeRAtwLdQAW120BLoeVATLnWQD732UB6qt1AM1DbQMTdz0CXf89AwFrPQFXTzUBK/M5AdIzOQOFe0EDMbOVAllPlQJCI4UAUltJAzR3QQOfL0EBk0OdAwFXnQH2Y6kB0CddAQkvSQNKPx0DlV8dAQcrLQOCU7EAnvudA0kLmQNNN1kDN0NFAO3fUQAP+1EAcudRAhQLQQDwQ6EAzzAdBzz/sQGf570D+wuxA",
          "dtype": "f4"
         },
         "yaxis": "y"
        },
        {
         "customdata": [
          [
           "13"
          ],
          [
           "13"
          ],
          [
           "13"
          ],
          [
           "13"
          ],
          [
           "13"
          ],
          [
           "13"
          ],
          [
           "13"
          ],
          [
           "13"
          ],
          [
           "13"
          ],
          [
           "13"
          ],
          [
           "13"
          ],
          [
           "13"
          ],
          [
           "13"
          ],
          [
           "13"
          ],
          [
           "13"
          ],
          [
           "13"
          ],
          [
           "13"
          ],
          [
           "13"
          ],
          [
           "13"
          ],
          [
           "13"
          ],
          [
           "13"
          ],
          [
           "13"
          ],
          [
           "13"
          ],
          [
           "13"
          ],
          [
           "13"
          ],
          [
           "13"
          ],
          [
           "13"
          ],
          [
           "13"
          ],
          [
           "13"
          ],
          [
           "13"
          ],
          [
           "13"
          ],
          [
           "13"
          ],
          [
           "13"
          ],
          [
           "13"
          ],
          [
           "13"
          ],
          [
           "13"
          ],
          [
           "13"
          ],
          [
           "13"
          ],
          [
           "13"
          ],
          [
           "13"
          ],
          [
           "13"
          ],
          [
           "13"
          ],
          [
           "13"
          ],
          [
           "13"
          ],
          [
           "13"
          ],
          [
           "13"
          ],
          [
           "13"
          ],
          [
           "13"
          ]
         ],
         "hovertemplate": "cluster=%{customdata[0]}<br>UMAP-1=%{x}<br>UMAP-2=%{y}<extra></extra>",
         "legendgroup": "13",
         "marker": {
          "color": "#72B7B2",
          "opacity": 0.8,
          "size": 8,
          "symbol": "circle"
         },
         "mode": "markers",
         "name": "13",
         "showlegend": true,
         "type": "scattergl",
         "x": {
          "bdata": "e4CwQGY4tECwW7VA6Le0QBLLq0BA9KdALIK1QEImsUCgcq9AbVO/QIXhpkDVma1AFuugQOxVtEC75WdATJVpQF1ltECs6bRAP7uuQOqakECFCFRAkYZkQF0CnEC2a8NAdm7EQN6uw0BhZsNAKXHDQFGZUUBrSh5A8dEfQEZYnEAa5aRA1BSfQFb6lUDkVahAKFsVQHQcd0BhmoJAdcegQJ/OnkDV6ptAZ5GbQFVqoEBJhZxAkGehQIAjtUBHu69A",
          "dtype": "f4"
         },
         "xaxis": "x",
         "y": {
          "bdata": "4SXeQEYe6EACeedAA2HmQCd25EAkpOVAsP/tQJOF4UDZYuRAayTyQLbJ+0AG5vpAXr/zQOY9+UD7STxBxJsDQfib9UDg9PNAwPsTQej3DEFkawtB1gUJQSPtBkGuPDpB+Eg6QTGkOkE6cDpBTd46QX0vO0GS++pAw9bpQL6SD0G8xhJB/poRQeip6kAv1vNAnVPoQK99F0HaehhBkk7vQJNt70B1NO1ABhfvQCIl7kDy8+9ARMH1QKpyAkFPkANB",
          "dtype": "f4"
         },
         "yaxis": "y"
        },
        {
         "customdata": [
          [
           "39"
          ],
          [
           "39"
          ],
          [
           "39"
          ],
          [
           "39"
          ],
          [
           "39"
          ],
          [
           "39"
          ],
          [
           "39"
          ],
          [
           "39"
          ],
          [
           "39"
          ],
          [
           "39"
          ],
          [
           "39"
          ],
          [
           "39"
          ],
          [
           "39"
          ],
          [
           "39"
          ],
          [
           "39"
          ],
          [
           "39"
          ],
          [
           "39"
          ],
          [
           "39"
          ],
          [
           "39"
          ],
          [
           "39"
          ],
          [
           "39"
          ],
          [
           "39"
          ],
          [
           "39"
          ],
          [
           "39"
          ],
          [
           "39"
          ],
          [
           "39"
          ],
          [
           "39"
          ],
          [
           "39"
          ],
          [
           "39"
          ],
          [
           "39"
          ],
          [
           "39"
          ],
          [
           "39"
          ],
          [
           "39"
          ],
          [
           "39"
          ]
         ],
         "hovertemplate": "cluster=%{customdata[0]}<br>UMAP-1=%{x}<br>UMAP-2=%{y}<extra></extra>",
         "legendgroup": "39",
         "marker": {
          "color": "#54A24B",
          "opacity": 0.8,
          "size": 8,
          "symbol": "circle"
         },
         "mode": "markers",
         "name": "39",
         "showlegend": true,
         "type": "scattergl",
         "x": {
          "bdata": "seOjQAzUqUCt9rJAvnymQJhyn0Drn6dAKcqdQJ0vkkA3kyS/96Icvw5ekEAEhZFAFSCRQJn0lUC51JxAZ5KJQLuwk0BErpVAaA+iQN3OlEB3LJVAedSUQCxYk0A84ZRAshaTQGgIlkDFtZRAsfuXQC9hlEDCn5ZAu2ijQB+glEB2t5RAWC6TQA==",
          "dtype": "f4"
         },
         "xaxis": "x",
         "y": {
          "bdata": "zKnTQEes4UCzwOFAqSH5QMkc0kCkGddA7hzfQEOF9UARBEBBo74/QYn+4kAytOFAd9XgQPDt4EBPkNdApSrdQOCJ1kC4BspA0ynaQK5hyUCkWMlAu+zIQNljyUBCGslAvlLIQCQyykAV4chA7wrLQIx4yUBn+8lAzkXaQKYsyUASIcpA5pPIQA==",
          "dtype": "f4"
         },
         "yaxis": "y"
        },
        {
         "customdata": [
          [
           "0"
          ],
          [
           "0"
          ],
          [
           "0"
          ],
          [
           "0"
          ],
          [
           "0"
          ],
          [
           "0"
          ],
          [
           "0"
          ],
          [
           "0"
          ],
          [
           "0"
          ],
          [
           "0"
          ],
          [
           "0"
          ],
          [
           "0"
          ],
          [
           "0"
          ],
          [
           "0"
          ],
          [
           "0"
          ],
          [
           "0"
          ],
          [
           "0"
          ],
          [
           "0"
          ],
          [
           "0"
          ],
          [
           "0"
          ],
          [
           "0"
          ],
          [
           "0"
          ],
          [
           "0"
          ],
          [
           "0"
          ],
          [
           "0"
          ],
          [
           "0"
          ],
          [
           "0"
          ],
          [
           "0"
          ],
          [
           "0"
          ],
          [
           "0"
          ],
          [
           "0"
          ],
          [
           "0"
          ],
          [
           "0"
          ],
          [
           "0"
          ],
          [
           "0"
          ],
          [
           "0"
          ],
          [
           "0"
          ],
          [
           "0"
          ],
          [
           "0"
          ],
          [
           "0"
          ],
          [
           "0"
          ],
          [
           "0"
          ],
          [
           "0"
          ],
          [
           "0"
          ],
          [
           "0"
          ],
          [
           "0"
          ],
          [
           "0"
          ],
          [
           "0"
          ]
         ],
         "hovertemplate": "cluster=%{customdata[0]}<br>UMAP-1=%{x}<br>UMAP-2=%{y}<extra></extra>",
         "legendgroup": "0",
         "marker": {
          "color": "#EECA3B",
          "opacity": 0.8,
          "size": 8,
          "symbol": "circle"
         },
         "mode": "markers",
         "name": "0",
         "showlegend": true,
         "type": "scattergl",
         "x": {
          "bdata": "RPGzQNzChEBvINxACVd9QHk6YkAq3n9AiU59QIJ/g0BFSXdAYqGEQJxSg0ALxIJAutmCQAGUhEA+t4NA9YyCQFUqhUAwrYNAGQ+KQHWFg0DhRoJAfLeDQBcgg0D+aoRA7p+DQCwdhEB4+GtAVkqBQEL5dkDCQYNAAqB1QCCddUCwDHZAOZJsQJo0b0ANGG5ARTNoQO4OXkDvRnFAJtNnQPynZkDK/2BAxL+BQJWNakDS0pNAyvxVQAa87UAT1ZdA",
          "dtype": "f4"
         },
         "xaxis": "x",
         "y": {
          "bdata": "DOviQPPLB0FqOwVBqPbvQK5/9EA4HfVA1MzzQHIo8UA0s/ZAkUfjQD6/4UBDgeRAX1/pQDcO4UBVueJA+z7nQMYb4EBfaONA6s/gQHUq4kCiWeNA6fniQLgH4kCOzuJAqP7hQA8r4UDYPu9A70ruQEJZ7kBU8/FAelLsQL/o7kC/oexATzbuQIRN7UAVcu1AkiTvQMzu8UAEG+1A6YnvQGBs7UBbe/BAS1LyQCW57kBO9PVAT271QN5bLEHc6vJA",
          "dtype": "f4"
         },
         "yaxis": "y"
        },
        {
         "customdata": [
          [
           "8"
          ],
          [
           "8"
          ],
          [
           "8"
          ],
          [
           "8"
          ],
          [
           "8"
          ],
          [
           "8"
          ],
          [
           "8"
          ],
          [
           "8"
          ],
          [
           "8"
          ],
          [
           "8"
          ],
          [
           "8"
          ],
          [
           "8"
          ],
          [
           "8"
          ],
          [
           "8"
          ],
          [
           "8"
          ],
          [
           "8"
          ],
          [
           "8"
          ],
          [
           "8"
          ],
          [
           "8"
          ],
          [
           "8"
          ],
          [
           "8"
          ],
          [
           "8"
          ],
          [
           "8"
          ],
          [
           "8"
          ],
          [
           "8"
          ],
          [
           "8"
          ],
          [
           "8"
          ],
          [
           "8"
          ],
          [
           "8"
          ],
          [
           "8"
          ],
          [
           "8"
          ],
          [
           "8"
          ],
          [
           "8"
          ],
          [
           "8"
          ],
          [
           "8"
          ],
          [
           "8"
          ],
          [
           "8"
          ],
          [
           "8"
          ],
          [
           "8"
          ],
          [
           "8"
          ],
          [
           "8"
          ],
          [
           "8"
          ],
          [
           "8"
          ],
          [
           "8"
          ],
          [
           "8"
          ],
          [
           "8"
          ],
          [
           "8"
          ],
          [
           "8"
          ],
          [
           "8"
          ],
          [
           "8"
          ],
          [
           "8"
          ],
          [
           "8"
          ],
          [
           "8"
          ],
          [
           "8"
          ],
          [
           "8"
          ],
          [
           "8"
          ],
          [
           "8"
          ],
          [
           "8"
          ],
          [
           "8"
          ],
          [
           "8"
          ],
          [
           "8"
          ],
          [
           "8"
          ],
          [
           "8"
          ],
          [
           "8"
          ],
          [
           "8"
          ],
          [
           "8"
          ],
          [
           "8"
          ],
          [
           "8"
          ],
          [
           "8"
          ],
          [
           "8"
          ],
          [
           "8"
          ],
          [
           "8"
          ],
          [
           "8"
          ],
          [
           "8"
          ],
          [
           "8"
          ],
          [
           "8"
          ],
          [
           "8"
          ]
         ],
         "hovertemplate": "cluster=%{customdata[0]}<br>UMAP-1=%{x}<br>UMAP-2=%{y}<extra></extra>",
         "legendgroup": "8",
         "marker": {
          "color": "#B279A2",
          "opacity": 0.8,
          "size": 8,
          "symbol": "circle"
         },
         "mode": "markers",
         "name": "8",
         "showlegend": true,
         "type": "scattergl",
         "x": {
          "bdata": "mDJdQD9rPUBw2URAjgBOQIRrVkCR5lVAoOdbQPeuPUDdu0FAB81UQFcOPECZ1FJA5bE7QK4JQECXBjZAYmxRQGmwQUAFL0pA7k9MQMJjRkAKmDxAtJeeQLccU0B21ElAysQ5QA2NY0AEKlJAg41ZQAuGRUDigTZAlbBTQE4SUkAakU5AImVDQLqqN0B3okJAcOonQMgZJUBr2FVAhk1bQAR1TEAqGnJAQldcQP/PW0CIGjZAUwFRQLt6WkAiKklAp890QJnCc0DdMzhADZNpQHSTP0CWD0tAgthoQDk+b0BBKk9AGgBiQMdnTUCGBVlAashDQO5rQUBVoFNA7GA2QMdjQ0Arhi5AiTBhQBcKSkB72lFA7ZwzQKWfP0A5fy1A58A0QJWOR0AiAkZAnh88QIWl70A=",
          "dtype": "f4"
         },
         "xaxis": "x",
         "y": {
          "bdata": "4fFsQXHJc0HTcnFBPDZyQYNbcEEimXFB9LprQS0Mc0HZe3NB5Y9wQZM5a0FVrm9B+UplQUlDakHXL25B5E5xQTPCbEEj2nJBqpZrQeMHZkGBfm9BjmI9Qf3ocEHmv3FBXARtQdxdaEEqzXFBnKpqQb0qckHiGWlB5FVxQVfvZ0GtM3JBg/NoQb+Wa0Hi9WtBeMBtQbUObUEMom9B/3JoQR01b0ERqWlBYTJqQQJVbkEI7mtBG1RvQWkcb0FR92lB6hxoQdr5aUGpU3JBP0FrQQo5Z0FT7GlBazJqQfevaEGGBnJBeERqQVmUcUHUtmtBerFvQaskc0FEKXBBUPVuQf24VEHC8G5BhVprQTvCcUFu625BNrdvQWiBc0Eax25B6eVwQUP2cEF4q3FBfAJuQUDnCkE=",
          "dtype": "f4"
         },
         "yaxis": "y"
        },
        {
         "customdata": [
          [
           "7"
          ],
          [
           "7"
          ],
          [
           "7"
          ],
          [
           "7"
          ],
          [
           "7"
          ],
          [
           "7"
          ],
          [
           "7"
          ],
          [
           "7"
          ],
          [
           "7"
          ],
          [
           "7"
          ],
          [
           "7"
          ],
          [
           "7"
          ],
          [
           "7"
          ],
          [
           "7"
          ],
          [
           "7"
          ],
          [
           "7"
          ],
          [
           "7"
          ],
          [
           "7"
          ],
          [
           "7"
          ],
          [
           "7"
          ],
          [
           "7"
          ],
          [
           "7"
          ],
          [
           "7"
          ],
          [
           "7"
          ],
          [
           "7"
          ],
          [
           "7"
          ],
          [
           "7"
          ],
          [
           "7"
          ],
          [
           "7"
          ],
          [
           "7"
          ],
          [
           "7"
          ],
          [
           "7"
          ],
          [
           "7"
          ],
          [
           "7"
          ],
          [
           "7"
          ],
          [
           "7"
          ],
          [
           "7"
          ],
          [
           "7"
          ],
          [
           "7"
          ],
          [
           "7"
          ],
          [
           "7"
          ],
          [
           "7"
          ],
          [
           "7"
          ],
          [
           "7"
          ]
         ],
         "hovertemplate": "cluster=%{customdata[0]}<br>UMAP-1=%{x}<br>UMAP-2=%{y}<extra></extra>",
         "legendgroup": "7",
         "marker": {
          "color": "#FF9DA6",
          "opacity": 0.8,
          "size": 8,
          "symbol": "circle"
         },
         "mode": "markers",
         "name": "7",
         "showlegend": true,
         "type": "scattergl",
         "x": {
          "bdata": "6/YtQMn8LkBF0zJAlz0XQO2kKEBjgENAZQYlQJq0KEA2WEFA+oc8QOeNNUCTVi9ACAooQP0fR0AW3zpAgsUnQGz4JEBXYSZARFAmQA4tS0DNfTFAwh8hQMlMKkA75y5A76w6QGYgI0CxwyVAhuQ0QN7CPkDfnzpA8BtVQEvYKkD0KiZA+fsnQEfcIUDTKUFAo7E9QFnDTkDomj9A4j9DQIw+RkDI6jNA8GEYQDjnHkA=",
          "dtype": "f4"
         },
         "xaxis": "x",
         "y": {
          "bdata": "1O5jQQItYEF9kmRBy8VcQaCoY0GpYWRBSHFjQU0IYEGZvmVBLtVeQdNqZEGwCGRBV45kQUmlVUFG52RBTmdjQeAKYkHulGNB9s9iQQRrVkEKLmFBvRJjQf7iZEHf0FhB669pQbHWYkHQ4GBBUTBlQSw4ZkFFzWFBkYJpQd6Ga0FhKGJBZa9jQTaXYkHoEGlB7N1dQcwdYkHVbmhBVppmQV5mWUGuVl9B7P9bQetqR0E=",
          "dtype": "f4"
         },
         "yaxis": "y"
        },
        {
         "customdata": [
          [
           "24"
          ],
          [
           "24"
          ],
          [
           "24"
          ],
          [
           "24"
          ],
          [
           "24"
          ],
          [
           "24"
          ],
          [
           "24"
          ],
          [
           "24"
          ],
          [
           "24"
          ],
          [
           "24"
          ],
          [
           "24"
          ],
          [
           "24"
          ],
          [
           "24"
          ],
          [
           "24"
          ],
          [
           "24"
          ],
          [
           "24"
          ],
          [
           "24"
          ],
          [
           "24"
          ],
          [
           "24"
          ],
          [
           "24"
          ],
          [
           "24"
          ],
          [
           "24"
          ],
          [
           "24"
          ]
         ],
         "hovertemplate": "cluster=%{customdata[0]}<br>UMAP-1=%{x}<br>UMAP-2=%{y}<extra></extra>",
         "legendgroup": "24",
         "marker": {
          "color": "#9D755D",
          "opacity": 0.8,
          "size": 8,
          "symbol": "circle"
         },
         "mode": "markers",
         "name": "24",
         "showlegend": true,
         "type": "scattergl",
         "x": {
          "bdata": "p5AbQGXyXUAS+l9AFGHdQMVc2ECrqtxAo+qSQHjN4UCbTNhACkPZQPWEm0DEj+NATTXRQFMJqkAAxddAS7XZQHCss0B9RMRAeh7pPyPOEUDDkN1AkI3eQCdk2UA=",
          "dtype": "f4"
         },
         "xaxis": "x",
         "y": {
          "bdata": "DspcQSXDZkFJtGZBtQZHQUMHRUH/V0lBcHg6Qc+jTEFgzktB0UtFQSqONUG+4U5BMpFPQZRpKUH500ZBRcJXQfkSRkGGtztB1P8xQUgjO0EJQVhBoYdZQZ6MU0E=",
          "dtype": "f4"
         },
         "yaxis": "y"
        },
        {
         "customdata": [
          [
           "23"
          ],
          [
           "23"
          ],
          [
           "23"
          ],
          [
           "23"
          ],
          [
           "23"
          ],
          [
           "23"
          ],
          [
           "23"
          ],
          [
           "23"
          ],
          [
           "23"
          ],
          [
           "23"
          ],
          [
           "23"
          ],
          [
           "23"
          ],
          [
           "23"
          ],
          [
           "23"
          ],
          [
           "23"
          ],
          [
           "23"
          ],
          [
           "23"
          ],
          [
           "23"
          ],
          [
           "23"
          ],
          [
           "23"
          ],
          [
           "23"
          ],
          [
           "23"
          ],
          [
           "23"
          ],
          [
           "23"
          ],
          [
           "23"
          ],
          [
           "23"
          ],
          [
           "23"
          ],
          [
           "23"
          ],
          [
           "23"
          ],
          [
           "23"
          ],
          [
           "23"
          ],
          [
           "23"
          ],
          [
           "23"
          ],
          [
           "23"
          ],
          [
           "23"
          ],
          [
           "23"
          ],
          [
           "23"
          ],
          [
           "23"
          ],
          [
           "23"
          ],
          [
           "23"
          ],
          [
           "23"
          ],
          [
           "23"
          ],
          [
           "23"
          ],
          [
           "23"
          ],
          [
           "23"
          ],
          [
           "23"
          ],
          [
           "23"
          ],
          [
           "23"
          ],
          [
           "23"
          ],
          [
           "23"
          ],
          [
           "23"
          ],
          [
           "23"
          ],
          [
           "23"
          ],
          [
           "23"
          ],
          [
           "23"
          ],
          [
           "23"
          ],
          [
           "23"
          ],
          [
           "23"
          ],
          [
           "23"
          ],
          [
           "23"
          ],
          [
           "23"
          ],
          [
           "23"
          ],
          [
           "23"
          ],
          [
           "23"
          ],
          [
           "23"
          ],
          [
           "23"
          ],
          [
           "23"
          ]
         ],
         "hovertemplate": "cluster=%{customdata[0]}<br>UMAP-1=%{x}<br>UMAP-2=%{y}<extra></extra>",
         "legendgroup": "23",
         "marker": {
          "color": "#BAB0AC",
          "opacity": 0.8,
          "size": 8,
          "symbol": "circle"
         },
         "mode": "markers",
         "name": "23",
         "showlegend": true,
         "type": "scattergl",
         "x": {
          "bdata": "g6wwQF1QVUDGGEdAyKFEQLavZkCewY1Ac2F/QAPdekACrHdABBlwQA0ZjECeeo1APCSPQDvdbkDZTWxAECNEQLznUkDKaztAS9WDQJ3Ef0Aa44JAcpipQAWNpEAkYqNASLKMQFdxikBry0NAzutmQPjjaUAw5IdAXYSJQD50jED33I1AGQSAQEN1ikCylYVAxCVtQEjVhUCHHoJAi0qIQHWCVkCqfYFAEPqIQAT+iUD0rINA6HaUQCKJLUB8iTdAuCodQN9BiUBZ8GBA0AxzQCWeZ0BJT2BAzpNjQJXdekDGxn1AS+x6QLV7cUDBs3ZA4BN9QErul0C7vIRAiuqWQNXKgkDOzIxAVVqXQA==",
          "dtype": "f4"
         },
         "xaxis": "x",
         "y": {
          "bdata": "lN5tQZ62SEFBLlNB7WVoQQ9DUEH2A11BNe1IQXDiSUF5GEpBFNxNQXkaWkEOkVdBYdJSQRyxQEHyCEJBrZVNQRbmSEGYK1ZBgTRIQXHgSEFJXkZBmBBGQRQsRkHvIEdBol9GQfMPREHhX1ZBqGJKQSp+ZkGqmklBADhHQRrvSEEnVEpB/C9HQfhrR0GOnE9BrR1PQbOcTEFrIVJBYEdPQajHRkGWNlFBxpBQQSRqT0GRnE9Buo5IQaVVS0GOtUxBcEo9QbtfP0HbsE5BVa9QQQZAT0Hpl01B97BNQaedQ0E3XkNBFmdEQQd9Q0F+VURBG7BGQcr7TUGksUhB4fhMQS+sR0GY1ktBzO1NQQ==",
          "dtype": "f4"
         },
         "yaxis": "y"
        },
        {
         "customdata": [
          [
           "21"
          ],
          [
           "21"
          ],
          [
           "21"
          ],
          [
           "21"
          ],
          [
           "21"
          ],
          [
           "21"
          ],
          [
           "21"
          ],
          [
           "21"
          ],
          [
           "21"
          ],
          [
           "21"
          ]
         ],
         "hovertemplate": "cluster=%{customdata[0]}<br>UMAP-1=%{x}<br>UMAP-2=%{y}<extra></extra>",
         "legendgroup": "21",
         "marker": {
          "color": "#4C78A8",
          "opacity": 0.8,
          "size": 8,
          "symbol": "circle"
         },
         "mode": "markers",
         "name": "21",
         "showlegend": true,
         "type": "scattergl",
         "x": {
          "bdata": "P7OkvmXhH0AHk6C+HOefvu3Rlb5vGJ2+qPCQvgmNsr77oKS+6Xagvg==",
          "dtype": "f4"
         },
         "xaxis": "x",
         "y": {
          "bdata": "in03QSQ5DEFiETdBGRA3QRG9NkGQ7DZBiok2QQzbN0HXizdBoaM3QQ==",
          "dtype": "f4"
         },
         "yaxis": "y"
        },
        {
         "customdata": [
          [
           "2"
          ],
          [
           "2"
          ],
          [
           "2"
          ],
          [
           "2"
          ],
          [
           "2"
          ],
          [
           "2"
          ],
          [
           "2"
          ],
          [
           "2"
          ],
          [
           "2"
          ],
          [
           "2"
          ],
          [
           "2"
          ],
          [
           "2"
          ],
          [
           "2"
          ],
          [
           "2"
          ],
          [
           "2"
          ],
          [
           "2"
          ],
          [
           "2"
          ],
          [
           "2"
          ],
          [
           "2"
          ],
          [
           "2"
          ],
          [
           "2"
          ],
          [
           "2"
          ],
          [
           "2"
          ],
          [
           "2"
          ],
          [
           "2"
          ],
          [
           "2"
          ],
          [
           "2"
          ],
          [
           "2"
          ],
          [
           "2"
          ],
          [
           "2"
          ],
          [
           "2"
          ],
          [
           "2"
          ],
          [
           "2"
          ],
          [
           "2"
          ],
          [
           "2"
          ],
          [
           "2"
          ],
          [
           "2"
          ],
          [
           "2"
          ],
          [
           "2"
          ],
          [
           "2"
          ],
          [
           "2"
          ],
          [
           "2"
          ],
          [
           "2"
          ],
          [
           "2"
          ],
          [
           "2"
          ],
          [
           "2"
          ],
          [
           "2"
          ],
          [
           "2"
          ],
          [
           "2"
          ],
          [
           "2"
          ],
          [
           "2"
          ]
         ],
         "hovertemplate": "cluster=%{customdata[0]}<br>UMAP-1=%{x}<br>UMAP-2=%{y}<extra></extra>",
         "legendgroup": "2",
         "marker": {
          "color": "#F58518",
          "opacity": 0.8,
          "size": 8,
          "symbol": "circle"
         },
         "mode": "markers",
         "name": "2",
         "showlegend": true,
         "type": "scattergl",
         "x": {
          "bdata": "2SuTQPackEANRZNAV0/yQNIn2EDZsNhAAkrUQAIA3kDuXd1AyaDgQGFjsECnqbRAlii3QAbzokBbiKVA/tVpQOsrZ0APKG5Awa3cQHV43UCUst1A1miVQAEIBEEifgJBGGYDQdybWEBE9aZAuQGlQKJ3H0Hx949AiI+OQKOwjUDRlHBAWuVwQPIJh0CYeaNAdOucQAG+pEAe4qdAnKajQDrJm0A17OJAbJ3hQJ9+5EAqBopAvHOIQAfclkD0rJRAMPgiQXYYE0BkOX5A",
          "dtype": "f4"
         },
         "xaxis": "x",
         "y": {
          "bdata": "QekFQXi2BUEacQtBSwIKQUo7FEEZIBNBSacVQareBUG2tQVB8tcGQei/FUGejSBBRxMhQciaJEGfCiNBt0L0QPTI8UAHBfJAE6MFQWyhBUEhzwVB9AXiQJWPMUF2PTBBO6UxQeeIyECBuhtBlpQZQXFhF0G2+BJBxxIRQQCuFUFAFvtAtn7+QC+aCkFN5AlBm44AQZ+mCkHTJQxBjN0KQVLnFEH6jgdB1+0GQdNuBkGhDQdBsW4GQRAY4kCg78tA0f8AQfsxRUFaoRNB",
          "dtype": "f4"
         },
         "yaxis": "y"
        },
        {
         "customdata": [
          [
           "28"
          ],
          [
           "28"
          ],
          [
           "28"
          ],
          [
           "28"
          ],
          [
           "28"
          ],
          [
           "28"
          ],
          [
           "28"
          ],
          [
           "28"
          ],
          [
           "28"
          ],
          [
           "28"
          ],
          [
           "28"
          ],
          [
           "28"
          ],
          [
           "28"
          ],
          [
           "28"
          ],
          [
           "28"
          ],
          [
           "28"
          ],
          [
           "28"
          ],
          [
           "28"
          ],
          [
           "28"
          ],
          [
           "28"
          ],
          [
           "28"
          ],
          [
           "28"
          ],
          [
           "28"
          ],
          [
           "28"
          ],
          [
           "28"
          ],
          [
           "28"
          ],
          [
           "28"
          ],
          [
           "28"
          ],
          [
           "28"
          ],
          [
           "28"
          ],
          [
           "28"
          ],
          [
           "28"
          ],
          [
           "28"
          ],
          [
           "28"
          ],
          [
           "28"
          ],
          [
           "28"
          ],
          [
           "28"
          ],
          [
           "28"
          ],
          [
           "28"
          ],
          [
           "28"
          ],
          [
           "28"
          ],
          [
           "28"
          ],
          [
           "28"
          ],
          [
           "28"
          ]
         ],
         "hovertemplate": "cluster=%{customdata[0]}<br>UMAP-1=%{x}<br>UMAP-2=%{y}<extra></extra>",
         "legendgroup": "28",
         "marker": {
          "color": "#E45756",
          "opacity": 0.8,
          "size": 8,
          "symbol": "circle"
         },
         "mode": "markers",
         "name": "28",
         "showlegend": true,
         "type": "scattergl",
         "x": {
          "bdata": "FIFWQHjrj0Bzs5BAISyRQFq4kUC4a45A35OQQMF5kEBVDZFA0QSSQBPMkEDgo4tAJHqKQOeAi0D1i4lA+H+9QMDGj0ByCItAymQFQf4dkEBmVZNAsXaUQL/SkkD9XI1AY42PQDTxj0BcM41ArmK6QDoYnkCsdJVAII7IQH9okUCsVJJAEkWOQKJDjkCghZFA+Y+OQArIkEDBXIdAWFqRQIucr0ARELJA0t+vQImZdEA=",
          "dtype": "f4"
         },
         "xaxis": "x",
         "y": {
          "bdata": "VQ8nQWhjKEG2iyNB/XUgQS2PI0GSfSJBCEgkQc5aIkHAiyRB8b0kQdR+I0FIvSJBR/4hQe/7H0F0Sx9B1oEjQWt6IEFU4x9BcGMYQS68KEEjQCdB6z4mQVfXJ0FzPSNB92MlQY0zJEGU3iVB83cdQTLjI0GjeB5BCmD0QEr8IkEKvihBnNwmQYvdJkG+dCZB48cpQfIDJ0Eo4SBBkbUjQcf1G0EY1BpBdA4cQQpTEEE=",
          "dtype": "f4"
         },
         "yaxis": "y"
        },
        {
         "customdata": [
          [
           "10"
          ],
          [
           "10"
          ],
          [
           "10"
          ],
          [
           "10"
          ],
          [
           "10"
          ],
          [
           "10"
          ],
          [
           "10"
          ],
          [
           "10"
          ],
          [
           "10"
          ],
          [
           "10"
          ],
          [
           "10"
          ],
          [
           "10"
          ],
          [
           "10"
          ],
          [
           "10"
          ],
          [
           "10"
          ],
          [
           "10"
          ],
          [
           "10"
          ],
          [
           "10"
          ],
          [
           "10"
          ],
          [
           "10"
          ],
          [
           "10"
          ],
          [
           "10"
          ],
          [
           "10"
          ],
          [
           "10"
          ],
          [
           "10"
          ],
          [
           "10"
          ],
          [
           "10"
          ],
          [
           "10"
          ],
          [
           "10"
          ],
          [
           "10"
          ],
          [
           "10"
          ],
          [
           "10"
          ],
          [
           "10"
          ],
          [
           "10"
          ],
          [
           "10"
          ],
          [
           "10"
          ],
          [
           "10"
          ],
          [
           "10"
          ],
          [
           "10"
          ],
          [
           "10"
          ],
          [
           "10"
          ],
          [
           "10"
          ],
          [
           "10"
          ],
          [
           "10"
          ],
          [
           "10"
          ],
          [
           "10"
          ],
          [
           "10"
          ],
          [
           "10"
          ],
          [
           "10"
          ],
          [
           "10"
          ],
          [
           "10"
          ],
          [
           "10"
          ],
          [
           "10"
          ],
          [
           "10"
          ],
          [
           "10"
          ],
          [
           "10"
          ],
          [
           "10"
          ],
          [
           "10"
          ],
          [
           "10"
          ],
          [
           "10"
          ],
          [
           "10"
          ],
          [
           "10"
          ],
          [
           "10"
          ],
          [
           "10"
          ],
          [
           "10"
          ]
         ],
         "hovertemplate": "cluster=%{customdata[0]}<br>UMAP-1=%{x}<br>UMAP-2=%{y}<extra></extra>",
         "legendgroup": "10",
         "marker": {
          "color": "#72B7B2",
          "opacity": 0.8,
          "size": 8,
          "symbol": "circle"
         },
         "mode": "markers",
         "name": "10",
         "showlegend": true,
         "type": "scattergl",
         "x": {
          "bdata": "80yvQJ3ftUDOy7RABty4QP4OvEBQvbRAJlmtQCMSsECvyqxAmNi9QHUEwkCKA8JAQ83BQFrWxUDfP8RAbA3EQEMyx0Bmp7ZAD1C0QOYYuEC7NbVAIujCQDzZukB1jclAfMvIQKVQyUCUqMlAsXDHQN4hyEBb88lAiRbKQJorykBQAMtA14fJQCQavkBx8spAtyDMQNmCykAC9MpAVHe4QDpRtEBs/bRA5Hm1QLHeuUBEX7lAKfG2QOVvtkD6AbpAPOe5QMlPuEAD7ulACo7BQEBWwUBL89RA5gK9QKO1wEBCbMRAsSfBQP6wvED+k7pA4324QGKXt0BV98VAJKu9QJItyUA=",
          "dtype": "f4"
         },
         "xaxis": "x",
         "y": {
          "bdata": "z+r2QCx4AkHWfQBBX1H9QMy++0C3FABBZOr7QPuN/EApc/pAuRcQQdVRDkFzJQ1BxJ0NQUTI/0BKBAZBRIT/QPLNAUHFJwFBuSP+QEoMAUFu0gNBUMUBQUquBEGXtPRArIb0QLB68kDgEPVARmz3QM2Q9ECcb/NAwq71QOVI9EANkPRAW/n2QI/Y70BFJ/VApPbyQH+980CFiPRAwbwEQchb9UB5e/RABgj5QM8j+kAGzv5AXc/7QDNr+0AEG/pAirz9QIX0/ECqWRxBBtYMQf0FDUF7qwlBgeX9QLeSDEF+ugpBXLQNQTBiD0Fujf1AJMwAQRANAEGiJgBBXxYOQTwV90A=",
          "dtype": "f4"
         },
         "yaxis": "y"
        },
        {
         "customdata": [
          [
           "31"
          ],
          [
           "31"
          ],
          [
           "31"
          ],
          [
           "31"
          ],
          [
           "31"
          ],
          [
           "31"
          ],
          [
           "31"
          ],
          [
           "31"
          ],
          [
           "31"
          ],
          [
           "31"
          ],
          [
           "31"
          ],
          [
           "31"
          ],
          [
           "31"
          ],
          [
           "31"
          ],
          [
           "31"
          ],
          [
           "31"
          ],
          [
           "31"
          ],
          [
           "31"
          ],
          [
           "31"
          ],
          [
           "31"
          ],
          [
           "31"
          ],
          [
           "31"
          ],
          [
           "31"
          ],
          [
           "31"
          ],
          [
           "31"
          ],
          [
           "31"
          ],
          [
           "31"
          ]
         ],
         "hovertemplate": "cluster=%{customdata[0]}<br>UMAP-1=%{x}<br>UMAP-2=%{y}<extra></extra>",
         "legendgroup": "31",
         "marker": {
          "color": "#54A24B",
          "opacity": 0.8,
          "size": 8,
          "symbol": "circle"
         },
         "mode": "markers",
         "name": "31",
         "showlegend": true,
         "type": "scattergl",
         "x": {
          "bdata": "bjUQQJBeDECIVxBAj34PQCIpEEC1nhRAAhgTQOo/gECWhXZA/zYnQP7HI0A8jXpAHU/VP+k00j+HSJJARMxlQB1gNEA//yxAXQ4jQFYeNkAGKzNA02w6QNLlSEDIF2RAdg4eQEILF0Dw+BJA",
          "dtype": "f4"
         },
         "xaxis": "x",
         "y": {
          "bdata": "dxcdQd4vHkGkByRBRbocQSm/HEF6yxtBa/EbQfQSIUHP7CFBvpAUQXfpFEG/HSlBfnIiQUNUIkHVUTNByKv9QMlIGUFgLBRBpvkRQdn/GUHHCxpBTQwcQQkcGUHRex1BRO8VQV3/GUGeYgpB",
          "dtype": "f4"
         },
         "yaxis": "y"
        },
        {
         "customdata": [
          [
           "1"
          ],
          [
           "1"
          ],
          [
           "1"
          ],
          [
           "1"
          ],
          [
           "1"
          ],
          [
           "1"
          ],
          [
           "1"
          ],
          [
           "1"
          ],
          [
           "1"
          ],
          [
           "1"
          ],
          [
           "1"
          ],
          [
           "1"
          ],
          [
           "1"
          ],
          [
           "1"
          ],
          [
           "1"
          ],
          [
           "1"
          ],
          [
           "1"
          ],
          [
           "1"
          ],
          [
           "1"
          ],
          [
           "1"
          ],
          [
           "1"
          ],
          [
           "1"
          ],
          [
           "1"
          ],
          [
           "1"
          ],
          [
           "1"
          ],
          [
           "1"
          ],
          [
           "1"
          ],
          [
           "1"
          ],
          [
           "1"
          ],
          [
           "1"
          ],
          [
           "1"
          ],
          [
           "1"
          ],
          [
           "1"
          ]
         ],
         "hovertemplate": "cluster=%{customdata[0]}<br>UMAP-1=%{x}<br>UMAP-2=%{y}<extra></extra>",
         "legendgroup": "1",
         "marker": {
          "color": "#EECA3B",
          "opacity": 0.8,
          "size": 8,
          "symbol": "circle"
         },
         "mode": "markers",
         "name": "1",
         "showlegend": true,
         "type": "scattergl",
         "x": {
          "bdata": "hNfWQHmUCUEg/QlBmPYIQbtr10D9pwFBf3QBQfEsA0FzXP9AEQrsQL5YGUHNrB1BjC4eQT2RHkEmVupAg6rsQD5tE0Hk7xRBDr8DQY7BAkG7rwVBEvXiQJ1gD0EzDxhBcwQXQdPnAEH2z/dABJf5QIjQ+EAvs/VAm1r3QPlY90BkXMBA",
          "dtype": "f4"
         },
         "xaxis": "x",
         "y": {
          "bdata": "8c8QQRJgCkHObwpBY+MKQYWzIUGLc/RANYwTQcj1FEEPrSpBenAkQYEIGEFp+hhBwAUaQShyFEEqaR1BxEkeQV8OF0FZpBdB3FYTQVOCEkGcAhNB7+MjQQnIEEEWvBZByU4XQShgDUF+zBFBd7gNQTztDEEUZwxB3XQNQfCTDEG+2x9B",
          "dtype": "f4"
         },
         "yaxis": "y"
        },
        {
         "customdata": [
          [
           "22"
          ],
          [
           "22"
          ],
          [
           "22"
          ],
          [
           "22"
          ],
          [
           "22"
          ],
          [
           "22"
          ],
          [
           "22"
          ],
          [
           "22"
          ],
          [
           "22"
          ],
          [
           "22"
          ],
          [
           "22"
          ],
          [
           "22"
          ],
          [
           "22"
          ],
          [
           "22"
          ],
          [
           "22"
          ],
          [
           "22"
          ],
          [
           "22"
          ],
          [
           "22"
          ],
          [
           "22"
          ],
          [
           "22"
          ],
          [
           "22"
          ],
          [
           "22"
          ],
          [
           "22"
          ],
          [
           "22"
          ],
          [
           "22"
          ],
          [
           "22"
          ],
          [
           "22"
          ],
          [
           "22"
          ],
          [
           "22"
          ],
          [
           "22"
          ],
          [
           "22"
          ],
          [
           "22"
          ],
          [
           "22"
          ],
          [
           "22"
          ],
          [
           "22"
          ],
          [
           "22"
          ],
          [
           "22"
          ],
          [
           "22"
          ],
          [
           "22"
          ],
          [
           "22"
          ],
          [
           "22"
          ],
          [
           "22"
          ],
          [
           "22"
          ],
          [
           "22"
          ],
          [
           "22"
          ],
          [
           "22"
          ]
         ],
         "hovertemplate": "cluster=%{customdata[0]}<br>UMAP-1=%{x}<br>UMAP-2=%{y}<extra></extra>",
         "legendgroup": "22",
         "marker": {
          "color": "#B279A2",
          "opacity": 0.8,
          "size": 8,
          "symbol": "circle"
         },
         "mode": "markers",
         "name": "22",
         "showlegend": true,
         "type": "scattergl",
         "x": {
          "bdata": "Eh8LQKKS1z+4cP0/o3rmP94V4T+rRg1Aa/3wQIs1DED85dA/af3bPyux0D+NO+g/FYvMP2IWzz+c2cQ/pAfHP6SK0z+wHMc/nu/QP8A1zj/xucs/oefRP8S81z+locU/HsnvP1z3+z+EYhJA2I4VQAQ2+z+m088/2SwxQFa7vj9se8I/hpa+PyiJwz8lYMM/bWQOQF73CUANriVAoaLiP3le4T+Qht0/7RkJQNZj/D/HwQZAzPMKQA==",
          "dtype": "f4"
         },
         "xaxis": "x",
         "y": {
          "bdata": "3LY1QeXNOUGd1DZBQCs1QYuWM0HudTZBaUwbQcpHNkESjTtBBuw6QbjwOkETPTtB9vU7QRgWPUF2iztBJ5w6QaK/OEGULD1BpG07QVPFPEF17DtBlkM6QR32PEFVzjtBLUA2QcE3O0G3/zlBmeU6QYsHJkEL6jdB3StQQa6LLkF/4i5Bk3cuQTykMEF2sS5BESwuQaTmL0GqoCJBy+80QWdQM0EOfzNBbRJAQeBJP0ExJEBBi81GQQ==",
          "dtype": "f4"
         },
         "yaxis": "y"
        },
        {
         "customdata": [
          [
           "45"
          ],
          [
           "45"
          ],
          [
           "45"
          ],
          [
           "45"
          ],
          [
           "45"
          ],
          [
           "45"
          ],
          [
           "45"
          ],
          [
           "45"
          ],
          [
           "45"
          ],
          [
           "45"
          ],
          [
           "45"
          ],
          [
           "45"
          ],
          [
           "45"
          ],
          [
           "45"
          ],
          [
           "45"
          ],
          [
           "45"
          ],
          [
           "45"
          ],
          [
           "45"
          ],
          [
           "45"
          ],
          [
           "45"
          ],
          [
           "45"
          ],
          [
           "45"
          ],
          [
           "45"
          ],
          [
           "45"
          ],
          [
           "45"
          ],
          [
           "45"
          ],
          [
           "45"
          ],
          [
           "45"
          ],
          [
           "45"
          ],
          [
           "45"
          ],
          [
           "45"
          ],
          [
           "45"
          ],
          [
           "45"
          ],
          [
           "45"
          ],
          [
           "45"
          ],
          [
           "45"
          ],
          [
           "45"
          ],
          [
           "45"
          ],
          [
           "45"
          ],
          [
           "45"
          ]
         ],
         "hovertemplate": "cluster=%{customdata[0]}<br>UMAP-1=%{x}<br>UMAP-2=%{y}<extra></extra>",
         "legendgroup": "45",
         "marker": {
          "color": "#FF9DA6",
          "opacity": 0.8,
          "size": 8,
          "symbol": "circle"
         },
         "mode": "markers",
         "name": "45",
         "showlegend": true,
         "type": "scattergl",
         "x": {
          "bdata": "PRrAQJa6CUHlusBAZbTAQDzFvkD0B+1AeqAJQYZUAUFZAQhB+KQKQcikCEF9LQlBGFC6QEiEhkDqx4FAf5sEQWvmAkGG+ABBSJ4JQYdecUAU08FAIvIJQROwCUEcEwpBEqIKQW0DCkHdKQpBszQKQQomCkEntQpBj3cKQQgDCkGLZglBrhcKQVHSyUDZAQZBNtQGQSJkg0DL/3ZAK61GQA==",
          "dtype": "f4"
         },
         "xaxis": "x",
         "y": {
          "bdata": "9C4zQSakMkFNoTNBhJkzQUlzM0GEil9BIWEuQRGTLkGVMy9BYM8wQe24NEGG6DRB+Ag0QQaqIkHHbg5Bjwo4Qa2WN0GGODdB/Q0zQTYrZ0G0JUhBSb8/QZZEPkFCcT9B9Pg+QdoWP0HzMUBB5l9AQWVdQEHjxz9BAig/QTSXQEFfQUFBemRAQbLzSkEfHDpB+fQ6QfdjaUFEhxhBgcsaQQ==",
          "dtype": "f4"
         },
         "yaxis": "y"
        },
        {
         "customdata": [
          [
           "11"
          ],
          [
           "11"
          ],
          [
           "11"
          ],
          [
           "11"
          ],
          [
           "11"
          ],
          [
           "11"
          ],
          [
           "11"
          ],
          [
           "11"
          ],
          [
           "11"
          ],
          [
           "11"
          ],
          [
           "11"
          ],
          [
           "11"
          ],
          [
           "11"
          ],
          [
           "11"
          ],
          [
           "11"
          ],
          [
           "11"
          ],
          [
           "11"
          ],
          [
           "11"
          ],
          [
           "11"
          ],
          [
           "11"
          ],
          [
           "11"
          ],
          [
           "11"
          ],
          [
           "11"
          ],
          [
           "11"
          ],
          [
           "11"
          ],
          [
           "11"
          ],
          [
           "11"
          ],
          [
           "11"
          ],
          [
           "11"
          ],
          [
           "11"
          ],
          [
           "11"
          ],
          [
           "11"
          ],
          [
           "11"
          ],
          [
           "11"
          ],
          [
           "11"
          ],
          [
           "11"
          ],
          [
           "11"
          ],
          [
           "11"
          ],
          [
           "11"
          ],
          [
           "11"
          ],
          [
           "11"
          ],
          [
           "11"
          ]
         ],
         "hovertemplate": "cluster=%{customdata[0]}<br>UMAP-1=%{x}<br>UMAP-2=%{y}<extra></extra>",
         "legendgroup": "11",
         "marker": {
          "color": "#9D755D",
          "opacity": 0.8,
          "size": 8,
          "symbol": "circle"
         },
         "mode": "markers",
         "name": "11",
         "showlegend": true,
         "type": "scattergl",
         "x": {
          "bdata": "G6i3QCUbiECQ0H1A7NR+QHJUgkCOEXlA/AhoQPRad0AZqIBA1zOGQEJzgkDL/XVAZYJ6QMBac0Axn3ZA3XqVQDDbjkCkxqJAaJmbQA8DlUC0lp9AOISmQO82pkAyLIhABh11QE+0dEB1NpVAxOuWQK8hnUC4yYpAqYx6QCLZd0D7I1JA0SZSQDWcREAyInZAoTltQI7thUChNERAGayKQPaWhUA7wYZA",
          "dtype": "f4"
         },
         "xaxis": "x",
         "y": {
          "bdata": "mxYxQQmWHkFkSidBvEIpQaJlGUF5cxhBseIUQQ+QGUGMCRpB7WAZQfxmGkHejxhBlhMYQbDbF0EumxtB7TEbQQEhGkG0iR5BZgsdQYq3FkE3xB5BkDodQVOfHEF2KB5B1eciQfp/HUEjZBxB2todQSlyHkE+jRtBUX0XQXJiGEEzsRlBJBsZQayBGUEy5RxB3JAcQVo7E0GmuRFBbxATQeM4E0G9UhRB",
          "dtype": "f4"
         },
         "yaxis": "y"
        },
        {
         "customdata": [
          [
           "9"
          ],
          [
           "9"
          ],
          [
           "9"
          ],
          [
           "9"
          ],
          [
           "9"
          ],
          [
           "9"
          ],
          [
           "9"
          ],
          [
           "9"
          ],
          [
           "9"
          ],
          [
           "9"
          ],
          [
           "9"
          ],
          [
           "9"
          ],
          [
           "9"
          ],
          [
           "9"
          ],
          [
           "9"
          ],
          [
           "9"
          ],
          [
           "9"
          ],
          [
           "9"
          ],
          [
           "9"
          ],
          [
           "9"
          ],
          [
           "9"
          ],
          [
           "9"
          ],
          [
           "9"
          ],
          [
           "9"
          ],
          [
           "9"
          ],
          [
           "9"
          ],
          [
           "9"
          ],
          [
           "9"
          ],
          [
           "9"
          ],
          [
           "9"
          ],
          [
           "9"
          ],
          [
           "9"
          ],
          [
           "9"
          ],
          [
           "9"
          ],
          [
           "9"
          ],
          [
           "9"
          ],
          [
           "9"
          ],
          [
           "9"
          ],
          [
           "9"
          ],
          [
           "9"
          ],
          [
           "9"
          ],
          [
           "9"
          ],
          [
           "9"
          ],
          [
           "9"
          ],
          [
           "9"
          ]
         ],
         "hovertemplate": "cluster=%{customdata[0]}<br>UMAP-1=%{x}<br>UMAP-2=%{y}<extra></extra>",
         "legendgroup": "9",
         "marker": {
          "color": "#BAB0AC",
          "opacity": 0.8,
          "size": 8,
          "symbol": "circle"
         },
         "mode": "markers",
         "name": "9",
         "showlegend": true,
         "type": "scattergl",
         "x": {
          "bdata": "kGkFQRy1BEEJWgBBJZlKQG6iAEFbnwBBpxIAQRQRAEF2WgFBq40AQUIB/0BrD/pAoJX5QBY49EAhQwJBEtMCQUhWBEHOFQRBLlIDQYfh9EBE2/RAro70QA6W9kC3ofRASg33QDiVkUBcavZAH433QNwi+ECM/fJAmCX9QMTKA0G9kANBpKgDQS9/A0FcAf9AsHsDQaQnA0HxpgNBLaEDQS6pA0FfXgNB1JEDQerJsEDxWQNB",
          "dtype": "f4"
         },
         "xaxis": "x",
         "y": {
          "bdata": "Acz8QHBw6EDi2fJA4T7NQDV58kBpAPFA1XHvQOHf7kCQqfBAL5PvQNgQ8UCIr+tAVhLsQBHy9EAQvedAP5AEQTiCEUE44g9B11AQQRW25kA5hOZAr2rmQMNz50Bm1eZAWXvnQDm29UD1EedAONDmQL9g6ECUku9AVNUKQVgW3UCQvNxA2E3dQKpq3UD6DOVAyB3eQBdg3kB/ytxAZvzcQGtx3EDGB91A/LLcQH0WJEFXLt1A",
          "dtype": "f4"
         },
         "yaxis": "y"
        },
        {
         "customdata": [
          [
           "36"
          ],
          [
           "36"
          ],
          [
           "36"
          ],
          [
           "36"
          ],
          [
           "36"
          ],
          [
           "36"
          ],
          [
           "36"
          ],
          [
           "36"
          ],
          [
           "36"
          ],
          [
           "36"
          ],
          [
           "36"
          ],
          [
           "36"
          ],
          [
           "36"
          ],
          [
           "36"
          ],
          [
           "36"
          ],
          [
           "36"
          ],
          [
           "36"
          ],
          [
           "36"
          ],
          [
           "36"
          ],
          [
           "36"
          ],
          [
           "36"
          ],
          [
           "36"
          ],
          [
           "36"
          ],
          [
           "36"
          ],
          [
           "36"
          ],
          [
           "36"
          ],
          [
           "36"
          ],
          [
           "36"
          ],
          [
           "36"
          ],
          [
           "36"
          ],
          [
           "36"
          ],
          [
           "36"
          ],
          [
           "36"
          ],
          [
           "36"
          ],
          [
           "36"
          ],
          [
           "36"
          ],
          [
           "36"
          ],
          [
           "36"
          ],
          [
           "36"
          ]
         ],
         "hovertemplate": "cluster=%{customdata[0]}<br>UMAP-1=%{x}<br>UMAP-2=%{y}<extra></extra>",
         "legendgroup": "36",
         "marker": {
          "color": "#4C78A8",
          "opacity": 0.8,
          "size": 8,
          "symbol": "circle"
         },
         "mode": "markers",
         "name": "36",
         "showlegend": true,
         "type": "scattergl",
         "x": {
          "bdata": "FgMHQbR9C0E9QQxBWAMLQf3VCkFGfgtBCa4LQfgsDUFV0QxBXG4NQenlDEEqeQxB1FULQWutC0EHAQ1B6BoNQRocDUGlBgxBCjILQet3C0GmPQ1BJY4KQd55EEEO+RBBMRYNQQsoEEEh9A9BwhwRQQ9PEEGLexFBy04SQW3bBkE0NQZBNhsPQZOrD0G6Qw9BRQsRQTI8EUETzBFB",
          "dtype": "f4"
         },
         "xaxis": "x",
         "y": {
          "bdata": "6IgRQX8XDkEOYQ5BY0oMQW5PGUEg7xdBbogXQYkVGUHBlg5BzugWQcPpD0FBFhhBvUAYQTvkEkG3DBRBvNgXQSULGkEPthlBv4IaQcj9FkFIdBpBSnoeQVjbHEFzihxBepUXQWHmGkHIkRtBhR4XQZHkGkFpaxxBdqoZQauIEkELeBFBV0MQQWqyD0GCFRFBiZYbQWzfG0FLWRtB",
          "dtype": "f4"
         },
         "yaxis": "y"
        },
        {
         "customdata": [
          [
           "17"
          ],
          [
           "17"
          ],
          [
           "17"
          ],
          [
           "17"
          ],
          [
           "17"
          ],
          [
           "17"
          ],
          [
           "17"
          ],
          [
           "17"
          ],
          [
           "17"
          ],
          [
           "17"
          ],
          [
           "17"
          ],
          [
           "17"
          ],
          [
           "17"
          ],
          [
           "17"
          ],
          [
           "17"
          ],
          [
           "17"
          ],
          [
           "17"
          ],
          [
           "17"
          ],
          [
           "17"
          ],
          [
           "17"
          ],
          [
           "17"
          ]
         ],
         "hovertemplate": "cluster=%{customdata[0]}<br>UMAP-1=%{x}<br>UMAP-2=%{y}<extra></extra>",
         "legendgroup": "17",
         "marker": {
          "color": "#F58518",
          "opacity": 0.8,
          "size": 8,
          "symbol": "circle"
         },
         "mode": "markers",
         "name": "17",
         "showlegend": true,
         "type": "scattergl",
         "x": {
          "bdata": "mnbtQJhQ5UDVwhFBb9jeQHSECEHdcAlB2q0HQajSBkG35ghBe3kGQaWDB0GjpghBEKQKQfs0CUHJtAhBfD8IQWV+B0EOVQZB9jUIQU+JBkGL1p5A",
          "dtype": "f4"
         },
         "xaxis": "x",
         "y": {
          "bdata": "d+sdQVQzGEHULyxB141CQXe/FUEl1RdBdrESQauJEUEItSVBTdAmQXVyJkHqISVBvoYfQQEXJkFgeiVBBEckQecTJ0FuMihBHnINQZIwF0GwHBFB",
          "dtype": "f4"
         },
         "yaxis": "y"
        },
        {
         "customdata": [
          [
           "26"
          ],
          [
           "26"
          ],
          [
           "26"
          ],
          [
           "26"
          ],
          [
           "26"
          ],
          [
           "26"
          ],
          [
           "26"
          ],
          [
           "26"
          ],
          [
           "26"
          ],
          [
           "26"
          ],
          [
           "26"
          ],
          [
           "26"
          ],
          [
           "26"
          ],
          [
           "26"
          ],
          [
           "26"
          ],
          [
           "26"
          ],
          [
           "26"
          ],
          [
           "26"
          ],
          [
           "26"
          ],
          [
           "26"
          ],
          [
           "26"
          ],
          [
           "26"
          ],
          [
           "26"
          ],
          [
           "26"
          ],
          [
           "26"
          ],
          [
           "26"
          ],
          [
           "26"
          ],
          [
           "26"
          ],
          [
           "26"
          ]
         ],
         "hovertemplate": "cluster=%{customdata[0]}<br>UMAP-1=%{x}<br>UMAP-2=%{y}<extra></extra>",
         "legendgroup": "26",
         "marker": {
          "color": "#E45756",
          "opacity": 0.8,
          "size": 8,
          "symbol": "circle"
         },
         "mode": "markers",
         "name": "26",
         "showlegend": true,
         "type": "scattergl",
         "x": {
          "bdata": "duwQQflUEUHEzxBB7rEQQW4fEUG0thBBNWcQQYuDEEFu3xBBiZkQQVv3EEFu5bpAv+K6QIkRu0CE67tArfi6QKx/u0C0RLVAjrK2QKjItkCadLVAVS60QFPRCUFtMw5Bp8S9QI7dvUDLDL9Ax4O7QGFIvkA=",
          "dtype": "f4"
         },
         "xaxis": "x",
         "y": {
          "bdata": "h1rjQI2v4kBQR+NAI2PjQJZx40Dv4eNATLbjQF0U5EBqR+RA6AzjQFiJ40C7S8JADijCQFMswkDGkMNAlv/BQCOOwkCsZ8dA4rzFQNacxUD/9sZACErIQAyNBUF99vhAJiHAQOkvwECmyb9A7RjDQBHyv0A=",
          "dtype": "f4"
         },
         "yaxis": "y"
        },
        {
         "customdata": [
          [
           "33"
          ],
          [
           "33"
          ],
          [
           "33"
          ],
          [
           "33"
          ],
          [
           "33"
          ],
          [
           "33"
          ],
          [
           "33"
          ],
          [
           "33"
          ],
          [
           "33"
          ],
          [
           "33"
          ],
          [
           "33"
          ],
          [
           "33"
          ],
          [
           "33"
          ],
          [
           "33"
          ],
          [
           "33"
          ],
          [
           "33"
          ],
          [
           "33"
          ],
          [
           "33"
          ],
          [
           "33"
          ],
          [
           "33"
          ],
          [
           "33"
          ],
          [
           "33"
          ],
          [
           "33"
          ],
          [
           "33"
          ],
          [
           "33"
          ],
          [
           "33"
          ],
          [
           "33"
          ],
          [
           "33"
          ],
          [
           "33"
          ],
          [
           "33"
          ],
          [
           "33"
          ],
          [
           "33"
          ],
          [
           "33"
          ],
          [
           "33"
          ],
          [
           "33"
          ],
          [
           "33"
          ],
          [
           "33"
          ],
          [
           "33"
          ],
          [
           "33"
          ],
          [
           "33"
          ],
          [
           "33"
          ],
          [
           "33"
          ],
          [
           "33"
          ],
          [
           "33"
          ],
          [
           "33"
          ],
          [
           "33"
          ],
          [
           "33"
          ]
         ],
         "hovertemplate": "cluster=%{customdata[0]}<br>UMAP-1=%{x}<br>UMAP-2=%{y}<extra></extra>",
         "legendgroup": "33",
         "marker": {
          "color": "#72B7B2",
          "opacity": 0.8,
          "size": 8,
          "symbol": "circle"
         },
         "mode": "markers",
         "name": "33",
         "showlegend": true,
         "type": "scattergl",
         "x": {
          "bdata": "XGhrQCb3gEAxfo1AXKmMQB2zgkBc+3FAyQaGQHiKhkBcoIhAI8JtQNofhkBf7YxAvgWEQNrfhEDy2ItAFy6EQMmNU0DuFY1AC3+OQKh0SUDNKIJABsqDQCIZg0BVh2JAD9cwQIyXoUDAholAyaKPQEqNg0AAgYhAGf6GQC9HgkBdnnRAHbN5QMB+d0Dw43lAwb+EQOiFc0BqT2dALKZ0QJKcnUCwWIxAL7CMQM/jkEBcLY1AGJJ0QLiVg0A=",
          "dtype": "f4"
         },
         "xaxis": "x",
         "y": {
          "bdata": "UH9VQeTrS0EQMENBx9dFQbG6QEGZuEdBxG8yQUYXNUEVmEBBzd5JQa8cP0GhijxBWRJBQRZzQEFVDkZB2ZxBQZVMUUHmvTtBkMY5Qb9JSEHMLUlBoPlIQUiZTEFVSE9BvChRQaz9C0FLZEpBgeNGQb57UUHUu0xBHDJHQUnST0EpuUpBHZdLQW3YS0HUg0tB531PQar/UUHlRExBX1tQQazgMkGW0T5BJYpAQStwP0Earz9B+hJDQTg2UUE=",
          "dtype": "f4"
         },
         "yaxis": "y"
        },
        {
         "customdata": [
          [
           "4"
          ],
          [
           "4"
          ],
          [
           "4"
          ],
          [
           "4"
          ],
          [
           "4"
          ],
          [
           "4"
          ],
          [
           "4"
          ],
          [
           "4"
          ],
          [
           "4"
          ],
          [
           "4"
          ],
          [
           "4"
          ],
          [
           "4"
          ],
          [
           "4"
          ],
          [
           "4"
          ],
          [
           "4"
          ],
          [
           "4"
          ],
          [
           "4"
          ],
          [
           "4"
          ],
          [
           "4"
          ],
          [
           "4"
          ],
          [
           "4"
          ],
          [
           "4"
          ],
          [
           "4"
          ],
          [
           "4"
          ],
          [
           "4"
          ],
          [
           "4"
          ],
          [
           "4"
          ],
          [
           "4"
          ],
          [
           "4"
          ],
          [
           "4"
          ],
          [
           "4"
          ],
          [
           "4"
          ],
          [
           "4"
          ],
          [
           "4"
          ],
          [
           "4"
          ],
          [
           "4"
          ],
          [
           "4"
          ],
          [
           "4"
          ],
          [
           "4"
          ],
          [
           "4"
          ],
          [
           "4"
          ],
          [
           "4"
          ],
          [
           "4"
          ]
         ],
         "hovertemplate": "cluster=%{customdata[0]}<br>UMAP-1=%{x}<br>UMAP-2=%{y}<extra></extra>",
         "legendgroup": "4",
         "marker": {
          "color": "#54A24B",
          "opacity": 0.8,
          "size": 8,
          "symbol": "circle"
         },
         "mode": "markers",
         "name": "4",
         "showlegend": true,
         "type": "scattergl",
         "x": {
          "bdata": "Vks3QD9SNEDrUx1AiI0UQJeHGEBpVRdAlBwbQP3QG0Dc+RdAiDUcQB1/H0BpHhZAAH8WQFktHUADCxtACWkVQOGMF0DjHxRAJlQdQNxJF0D06RlAgs0XQEGaG0A5WRNACDwbQJNjFEBp2hpAf1AWQBrhFkBl0RxAO7sbQIlwEEBzuRdAb8sZQCb+GUDBRRRABBslQNrUE0DDMRZAzuYVQOh+D0Bh3B1ADgIdQA==",
          "dtype": "f4"
         },
         "xaxis": "x",
         "y": {
          "bdata": "KE3SQHYa1ED+hNtA4OLiQMW/40D7Z+NArd7pQLHR4EDTOOBAswPiQC5L6UD2NeNAfdfmQMNM5ECysdxAvQXkQBmK4EDHVupA+bHaQPUM4kCw7dlAtTLZQAHa2UAr5+NA0kzaQCp46EDqj9lADUnmQCLY4kDK1txAimnbQChT7kBjP+RA/V7cQKL+20A7tOFAKnHWQNZ07kD3peJAr87qQJjC6ECwM+BAvyfjQA==",
          "dtype": "f4"
         },
         "yaxis": "y"
        },
        {
         "customdata": [
          [
           "5"
          ],
          [
           "5"
          ],
          [
           "5"
          ],
          [
           "5"
          ],
          [
           "5"
          ],
          [
           "5"
          ],
          [
           "5"
          ],
          [
           "5"
          ],
          [
           "5"
          ],
          [
           "5"
          ],
          [
           "5"
          ],
          [
           "5"
          ],
          [
           "5"
          ],
          [
           "5"
          ],
          [
           "5"
          ],
          [
           "5"
          ],
          [
           "5"
          ],
          [
           "5"
          ],
          [
           "5"
          ],
          [
           "5"
          ],
          [
           "5"
          ],
          [
           "5"
          ],
          [
           "5"
          ],
          [
           "5"
          ],
          [
           "5"
          ],
          [
           "5"
          ],
          [
           "5"
          ],
          [
           "5"
          ],
          [
           "5"
          ],
          [
           "5"
          ],
          [
           "5"
          ],
          [
           "5"
          ],
          [
           "5"
          ],
          [
           "5"
          ],
          [
           "5"
          ],
          [
           "5"
          ],
          [
           "5"
          ],
          [
           "5"
          ],
          [
           "5"
          ],
          [
           "5"
          ],
          [
           "5"
          ],
          [
           "5"
          ],
          [
           "5"
          ],
          [
           "5"
          ],
          [
           "5"
          ],
          [
           "5"
          ],
          [
           "5"
          ],
          [
           "5"
          ],
          [
           "5"
          ],
          [
           "5"
          ],
          [
           "5"
          ],
          [
           "5"
          ],
          [
           "5"
          ],
          [
           "5"
          ],
          [
           "5"
          ],
          [
           "5"
          ],
          [
           "5"
          ],
          [
           "5"
          ],
          [
           "5"
          ],
          [
           "5"
          ],
          [
           "5"
          ],
          [
           "5"
          ],
          [
           "5"
          ],
          [
           "5"
          ],
          [
           "5"
          ],
          [
           "5"
          ],
          [
           "5"
          ],
          [
           "5"
          ],
          [
           "5"
          ],
          [
           "5"
          ],
          [
           "5"
          ],
          [
           "5"
          ],
          [
           "5"
          ],
          [
           "5"
          ],
          [
           "5"
          ],
          [
           "5"
          ],
          [
           "5"
          ],
          [
           "5"
          ],
          [
           "5"
          ],
          [
           "5"
          ]
         ],
         "hovertemplate": "cluster=%{customdata[0]}<br>UMAP-1=%{x}<br>UMAP-2=%{y}<extra></extra>",
         "legendgroup": "5",
         "marker": {
          "color": "#EECA3B",
          "opacity": 0.8,
          "size": 8,
          "symbol": "circle"
         },
         "mode": "markers",
         "name": "5",
         "showlegend": true,
         "type": "scattergl",
         "x": {
          "bdata": "pc3oQNnh6EB+891A6uHmQMbN4kAj/uVArzXkQMni4UAPauNAMH7kQLQo5UAi2+RA/XXnQAHb4kCGSuVAqpbrQF0l5kAPGOpA5gPiQCW85UDIiOVAHVDgQKYx5kAO3uBAPgHhQIh54kDN5+NABwHhQAEY3kBEVuFAPQjlQH9Y3UBxS95ArWjkQDXc50Cpz95Axc3bQH3Z3ED7SuBAUnPVQF+z4EBN7+dAmkPiQMhX6kAN6uJAlZLsQMAp6UDbk+pAUxzuQPiF5UCRH+dAzbLnQDI350D7W+hAWdXrQH+u60D9/+1Ay+HrQPAR60AEK+pAcrztQKMa60AP7OxAHLDtQAO77kBh0+9AFnPtQNHu5EB3rtxALX7rQM0L5kDhcu9AqfrtQAw96EDecN9AcHPwQELe2kCPG+hAVhjYQNse30A=",
          "dtype": "f4"
         },
         "xaxis": "x",
         "y": {
          "bdata": "KT1jQaIbZEHZk11B2WdhQShUYEFPiGFBCNVhQQEcYkHv62FBigdhQVuuYUE6H2RBcw5fQT8FYkGMMWRBLRtjQZVJYEEK42NBeJNdQWixYUF6uV9BK45iQTzNY0F7lmJBi3xjQW1CY0FO+V9BUudhQSH3YUHPrGNBwMRkQRRqX0EPpF9BzeBdQc9UX0FV/F1BBfFdQQ4+YkFgh2JBijlVQdnUXUHML2JBycZeQdHbXkGxkF9BYv1gQdd2X0FQaF1BPf9fQfTUXUE1dFxBxS9eQeRBXEEkvl5BOyBhQf//YEHG9GBB3DVlQVRVY0HfV2BBnXpgQYkqYEEEP2JBsHRhQWg7YEExNGJBktFiQZpDXUGz0FtBANlhQfFlXkFBS2JBCxphQR8nX0FKKllByOxgQQyUUkFRjWJB2sBZQZM1XkE=",
          "dtype": "f4"
         },
         "yaxis": "y"
        },
        {
         "customdata": [
          [
           "18"
          ],
          [
           "18"
          ],
          [
           "18"
          ],
          [
           "18"
          ],
          [
           "18"
          ],
          [
           "18"
          ],
          [
           "18"
          ],
          [
           "18"
          ],
          [
           "18"
          ],
          [
           "18"
          ],
          [
           "18"
          ],
          [
           "18"
          ],
          [
           "18"
          ],
          [
           "18"
          ],
          [
           "18"
          ],
          [
           "18"
          ],
          [
           "18"
          ],
          [
           "18"
          ],
          [
           "18"
          ],
          [
           "18"
          ],
          [
           "18"
          ],
          [
           "18"
          ],
          [
           "18"
          ],
          [
           "18"
          ]
         ],
         "hovertemplate": "cluster=%{customdata[0]}<br>UMAP-1=%{x}<br>UMAP-2=%{y}<extra></extra>",
         "legendgroup": "18",
         "marker": {
          "color": "#B279A2",
          "opacity": 0.8,
          "size": 8,
          "symbol": "circle"
         },
         "mode": "markers",
         "name": "18",
         "showlegend": true,
         "type": "scattergl",
         "x": {
          "bdata": "us5fQDwoD0AGqwxAfgkPQAhOikBkgotA6JuMQOQch0AKnItAR56IQCezikChvoVAwPSJQKsiikA3oIlAa4qMQBK5hUCiCYxAPFiMQEP5jEC+molAqE1bQChHWkABB3RA",
          "dtype": "f4"
         },
         "xaxis": "x",
         "y": {
          "bdata": "XFkgQQrr+UCHLvhAU5T5QNfNSkFVR1BBMJlQQTOhUEETmVBB5jxRQQ5LUUHb7FBBEKxQQf4LUkHdxlBBR7lPQdP5T0GI8lFB7yBRQVwjUUHLGlFBnD0hQYWUI0EMOSFB",
          "dtype": "f4"
         },
         "yaxis": "y"
        },
        {
         "customdata": [
          [
           "6"
          ],
          [
           "6"
          ],
          [
           "6"
          ],
          [
           "6"
          ],
          [
           "6"
          ],
          [
           "6"
          ],
          [
           "6"
          ],
          [
           "6"
          ],
          [
           "6"
          ],
          [
           "6"
          ],
          [
           "6"
          ],
          [
           "6"
          ],
          [
           "6"
          ],
          [
           "6"
          ],
          [
           "6"
          ],
          [
           "6"
          ],
          [
           "6"
          ],
          [
           "6"
          ],
          [
           "6"
          ],
          [
           "6"
          ],
          [
           "6"
          ],
          [
           "6"
          ]
         ],
         "hovertemplate": "cluster=%{customdata[0]}<br>UMAP-1=%{x}<br>UMAP-2=%{y}<extra></extra>",
         "legendgroup": "6",
         "marker": {
          "color": "#FF9DA6",
          "opacity": 0.8,
          "size": 8,
          "symbol": "circle"
         },
         "mode": "markers",
         "name": "6",
         "showlegend": true,
         "type": "scattergl",
         "x": {
          "bdata": "kOWKQBREjEDZ9LlAphhCQNYrQUBnpDtA3qhGQMm6QUD6TEBAM7ZBQDY9J0BRVypAWXI6QHkyRUCATYZAaQhFQDEbcEApoG1AMKdfQKcJbEA+7n1AHfE1QA==",
          "dtype": "f4"
         },
         "xaxis": "x",
         "y": {
          "bdata": "Kfk2QdtwO0Es48NAy2VKQdDlS0EEoktB2iBKQQvmSkEO1kxBczpHQUSETUE4mEZBTGxMQcBEQ0HD1T9BqpdDQWIhQ0EUL0JBjuBBQcngQkFE9UJBMwZQQQ==",
          "dtype": "f4"
         },
         "yaxis": "y"
        },
        {
         "customdata": [
          [
           "35"
          ],
          [
           "35"
          ],
          [
           "35"
          ],
          [
           "35"
          ],
          [
           "35"
          ],
          [
           "35"
          ],
          [
           "35"
          ],
          [
           "35"
          ],
          [
           "35"
          ],
          [
           "35"
          ],
          [
           "35"
          ],
          [
           "35"
          ],
          [
           "35"
          ],
          [
           "35"
          ],
          [
           "35"
          ],
          [
           "35"
          ],
          [
           "35"
          ],
          [
           "35"
          ],
          [
           "35"
          ],
          [
           "35"
          ],
          [
           "35"
          ],
          [
           "35"
          ],
          [
           "35"
          ],
          [
           "35"
          ],
          [
           "35"
          ],
          [
           "35"
          ],
          [
           "35"
          ],
          [
           "35"
          ],
          [
           "35"
          ],
          [
           "35"
          ],
          [
           "35"
          ]
         ],
         "hovertemplate": "cluster=%{customdata[0]}<br>UMAP-1=%{x}<br>UMAP-2=%{y}<extra></extra>",
         "legendgroup": "35",
         "marker": {
          "color": "#9D755D",
          "opacity": 0.8,
          "size": 8,
          "symbol": "circle"
         },
         "mode": "markers",
         "name": "35",
         "showlegend": true,
         "type": "scattergl",
         "x": {
          "bdata": "2iwXQVWDH0GeqR9BwhAiQXL6IEGyVyNBDFogQQcsH0FukCBBACsdQdsmIEFNmR5BFbIfQTPnH0ECpiBBxAgjQU0xI0GwTiNB3JciQYS0IkFSKyJBU+ogQYX6IkE6YiNBEpYjQUTMI0EW8CFBC5siQeOdIkHZWiJB7fEiQQ==",
          "dtype": "f4"
         },
         "xaxis": "x",
         "y": {
          "bdata": "LioIQXQtBkGKiQVBHn4DQbE3BUGFBwJBg1UFQXXMBkHGfQVBuPsFQftxBUFJBQdBoY0FQRWuBUG8yARBfwkDQdCDAkGnCgJBEhYDQWxrAkGqYwNBgWgEQW2dAkFlUwJBWuwBQYjNAUGT0QNB+qwCQaLqAkEKUgNBancCQQ==",
          "dtype": "f4"
         },
         "yaxis": "y"
        },
        {
         "customdata": [
          [
           "34"
          ],
          [
           "34"
          ],
          [
           "34"
          ],
          [
           "34"
          ],
          [
           "34"
          ],
          [
           "34"
          ],
          [
           "34"
          ],
          [
           "34"
          ],
          [
           "34"
          ],
          [
           "34"
          ],
          [
           "34"
          ],
          [
           "34"
          ],
          [
           "34"
          ],
          [
           "34"
          ],
          [
           "34"
          ],
          [
           "34"
          ],
          [
           "34"
          ],
          [
           "34"
          ],
          [
           "34"
          ],
          [
           "34"
          ],
          [
           "34"
          ],
          [
           "34"
          ],
          [
           "34"
          ],
          [
           "34"
          ],
          [
           "34"
          ],
          [
           "34"
          ],
          [
           "34"
          ],
          [
           "34"
          ],
          [
           "34"
          ],
          [
           "34"
          ],
          [
           "34"
          ],
          [
           "34"
          ],
          [
           "34"
          ]
         ],
         "hovertemplate": "cluster=%{customdata[0]}<br>UMAP-1=%{x}<br>UMAP-2=%{y}<extra></extra>",
         "legendgroup": "34",
         "marker": {
          "color": "#BAB0AC",
          "opacity": 0.8,
          "size": 8,
          "symbol": "circle"
         },
         "mode": "markers",
         "name": "34",
         "showlegend": true,
         "type": "scattergl",
         "x": {
          "bdata": "TponQdywJkFB1idBzfomQYZYJkGLaiRBDcsnQRKoJ0FBjidBnSUnQc7MKEFLmCdBQRkoQakiJ0HBDShBjKYmQTucJkF1niZBEkQnQc+VJUH0PidBWtwmQYGYJkGkeydB/H4lQYP6JUExJyZBSAAoQf20J0FKEiVBER8iQXd9JUHomSdB",
          "dtype": "f4"
         },
         "xaxis": "x",
         "y": {
          "bdata": "ZwkaQVMoGkFLMxpB5koZQZU+GUEyohhBBu8YQQRAGUH0RBlBBm8ZQamTF0EkzRhBd/sXQV9CGUGFwxhBvKUXQT6eGEE3kBdBfqIYQZZWGUGGyhhBBfwYQSMuGEHKDBlB4cUXQQQLF0EZEBdBxXcYQc3nGEHV3xVBjhkWQQrQGUEZCxlB",
          "dtype": "f4"
         },
         "yaxis": "y"
        }
       ],
       "layout": {
        "height": 700,
        "legend": {
         "title": {
          "text": "cluster"
         },
         "tracegroupgap": 0
        },
        "template": {
         "data": {
          "bar": [
           {
            "error_x": {
             "color": "#2a3f5f"
            },
            "error_y": {
             "color": "#2a3f5f"
            },
            "marker": {
             "line": {
              "color": "#E5ECF6",
              "width": 0.5
             },
             "pattern": {
              "fillmode": "overlay",
              "size": 10,
              "solidity": 0.2
             }
            },
            "type": "bar"
           }
          ],
          "barpolar": [
           {
            "marker": {
             "line": {
              "color": "#E5ECF6",
              "width": 0.5
             },
             "pattern": {
              "fillmode": "overlay",
              "size": 10,
              "solidity": 0.2
             }
            },
            "type": "barpolar"
           }
          ],
          "carpet": [
           {
            "aaxis": {
             "endlinecolor": "#2a3f5f",
             "gridcolor": "white",
             "linecolor": "white",
             "minorgridcolor": "white",
             "startlinecolor": "#2a3f5f"
            },
            "baxis": {
             "endlinecolor": "#2a3f5f",
             "gridcolor": "white",
             "linecolor": "white",
             "minorgridcolor": "white",
             "startlinecolor": "#2a3f5f"
            },
            "type": "carpet"
           }
          ],
          "choropleth": [
           {
            "colorbar": {
             "outlinewidth": 0,
             "ticks": ""
            },
            "type": "choropleth"
           }
          ],
          "contour": [
           {
            "colorbar": {
             "outlinewidth": 0,
             "ticks": ""
            },
            "colorscale": [
             [
              0,
              "#0d0887"
             ],
             [
              0.1111111111111111,
              "#46039f"
             ],
             [
              0.2222222222222222,
              "#7201a8"
             ],
             [
              0.3333333333333333,
              "#9c179e"
             ],
             [
              0.4444444444444444,
              "#bd3786"
             ],
             [
              0.5555555555555556,
              "#d8576b"
             ],
             [
              0.6666666666666666,
              "#ed7953"
             ],
             [
              0.7777777777777778,
              "#fb9f3a"
             ],
             [
              0.8888888888888888,
              "#fdca26"
             ],
             [
              1,
              "#f0f921"
             ]
            ],
            "type": "contour"
           }
          ],
          "contourcarpet": [
           {
            "colorbar": {
             "outlinewidth": 0,
             "ticks": ""
            },
            "type": "contourcarpet"
           }
          ],
          "heatmap": [
           {
            "colorbar": {
             "outlinewidth": 0,
             "ticks": ""
            },
            "colorscale": [
             [
              0,
              "#0d0887"
             ],
             [
              0.1111111111111111,
              "#46039f"
             ],
             [
              0.2222222222222222,
              "#7201a8"
             ],
             [
              0.3333333333333333,
              "#9c179e"
             ],
             [
              0.4444444444444444,
              "#bd3786"
             ],
             [
              0.5555555555555556,
              "#d8576b"
             ],
             [
              0.6666666666666666,
              "#ed7953"
             ],
             [
              0.7777777777777778,
              "#fb9f3a"
             ],
             [
              0.8888888888888888,
              "#fdca26"
             ],
             [
              1,
              "#f0f921"
             ]
            ],
            "type": "heatmap"
           }
          ],
          "histogram": [
           {
            "marker": {
             "pattern": {
              "fillmode": "overlay",
              "size": 10,
              "solidity": 0.2
             }
            },
            "type": "histogram"
           }
          ],
          "histogram2d": [
           {
            "colorbar": {
             "outlinewidth": 0,
             "ticks": ""
            },
            "colorscale": [
             [
              0,
              "#0d0887"
             ],
             [
              0.1111111111111111,
              "#46039f"
             ],
             [
              0.2222222222222222,
              "#7201a8"
             ],
             [
              0.3333333333333333,
              "#9c179e"
             ],
             [
              0.4444444444444444,
              "#bd3786"
             ],
             [
              0.5555555555555556,
              "#d8576b"
             ],
             [
              0.6666666666666666,
              "#ed7953"
             ],
             [
              0.7777777777777778,
              "#fb9f3a"
             ],
             [
              0.8888888888888888,
              "#fdca26"
             ],
             [
              1,
              "#f0f921"
             ]
            ],
            "type": "histogram2d"
           }
          ],
          "histogram2dcontour": [
           {
            "colorbar": {
             "outlinewidth": 0,
             "ticks": ""
            },
            "colorscale": [
             [
              0,
              "#0d0887"
             ],
             [
              0.1111111111111111,
              "#46039f"
             ],
             [
              0.2222222222222222,
              "#7201a8"
             ],
             [
              0.3333333333333333,
              "#9c179e"
             ],
             [
              0.4444444444444444,
              "#bd3786"
             ],
             [
              0.5555555555555556,
              "#d8576b"
             ],
             [
              0.6666666666666666,
              "#ed7953"
             ],
             [
              0.7777777777777778,
              "#fb9f3a"
             ],
             [
              0.8888888888888888,
              "#fdca26"
             ],
             [
              1,
              "#f0f921"
             ]
            ],
            "type": "histogram2dcontour"
           }
          ],
          "mesh3d": [
           {
            "colorbar": {
             "outlinewidth": 0,
             "ticks": ""
            },
            "type": "mesh3d"
           }
          ],
          "parcoords": [
           {
            "line": {
             "colorbar": {
              "outlinewidth": 0,
              "ticks": ""
             }
            },
            "type": "parcoords"
           }
          ],
          "pie": [
           {
            "automargin": true,
            "type": "pie"
           }
          ],
          "scatter": [
           {
            "fillpattern": {
             "fillmode": "overlay",
             "size": 10,
             "solidity": 0.2
            },
            "type": "scatter"
           }
          ],
          "scatter3d": [
           {
            "line": {
             "colorbar": {
              "outlinewidth": 0,
              "ticks": ""
             }
            },
            "marker": {
             "colorbar": {
              "outlinewidth": 0,
              "ticks": ""
             }
            },
            "type": "scatter3d"
           }
          ],
          "scattercarpet": [
           {
            "marker": {
             "colorbar": {
              "outlinewidth": 0,
              "ticks": ""
             }
            },
            "type": "scattercarpet"
           }
          ],
          "scattergeo": [
           {
            "marker": {
             "colorbar": {
              "outlinewidth": 0,
              "ticks": ""
             }
            },
            "type": "scattergeo"
           }
          ],
          "scattergl": [
           {
            "marker": {
             "colorbar": {
              "outlinewidth": 0,
              "ticks": ""
             }
            },
            "type": "scattergl"
           }
          ],
          "scattermap": [
           {
            "marker": {
             "colorbar": {
              "outlinewidth": 0,
              "ticks": ""
             }
            },
            "type": "scattermap"
           }
          ],
          "scattermapbox": [
           {
            "marker": {
             "colorbar": {
              "outlinewidth": 0,
              "ticks": ""
             }
            },
            "type": "scattermapbox"
           }
          ],
          "scatterpolar": [
           {
            "marker": {
             "colorbar": {
              "outlinewidth": 0,
              "ticks": ""
             }
            },
            "type": "scatterpolar"
           }
          ],
          "scatterpolargl": [
           {
            "marker": {
             "colorbar": {
              "outlinewidth": 0,
              "ticks": ""
             }
            },
            "type": "scatterpolargl"
           }
          ],
          "scatterternary": [
           {
            "marker": {
             "colorbar": {
              "outlinewidth": 0,
              "ticks": ""
             }
            },
            "type": "scatterternary"
           }
          ],
          "surface": [
           {
            "colorbar": {
             "outlinewidth": 0,
             "ticks": ""
            },
            "colorscale": [
             [
              0,
              "#0d0887"
             ],
             [
              0.1111111111111111,
              "#46039f"
             ],
             [
              0.2222222222222222,
              "#7201a8"
             ],
             [
              0.3333333333333333,
              "#9c179e"
             ],
             [
              0.4444444444444444,
              "#bd3786"
             ],
             [
              0.5555555555555556,
              "#d8576b"
             ],
             [
              0.6666666666666666,
              "#ed7953"
             ],
             [
              0.7777777777777778,
              "#fb9f3a"
             ],
             [
              0.8888888888888888,
              "#fdca26"
             ],
             [
              1,
              "#f0f921"
             ]
            ],
            "type": "surface"
           }
          ],
          "table": [
           {
            "cells": {
             "fill": {
              "color": "#EBF0F8"
             },
             "line": {
              "color": "white"
             }
            },
            "header": {
             "fill": {
              "color": "#C8D4E3"
             },
             "line": {
              "color": "white"
             }
            },
            "type": "table"
           }
          ]
         },
         "layout": {
          "annotationdefaults": {
           "arrowcolor": "#2a3f5f",
           "arrowhead": 0,
           "arrowwidth": 1
          },
          "autotypenumbers": "strict",
          "coloraxis": {
           "colorbar": {
            "outlinewidth": 0,
            "ticks": ""
           }
          },
          "colorscale": {
           "diverging": [
            [
             0,
             "#8e0152"
            ],
            [
             0.1,
             "#c51b7d"
            ],
            [
             0.2,
             "#de77ae"
            ],
            [
             0.3,
             "#f1b6da"
            ],
            [
             0.4,
             "#fde0ef"
            ],
            [
             0.5,
             "#f7f7f7"
            ],
            [
             0.6,
             "#e6f5d0"
            ],
            [
             0.7,
             "#b8e186"
            ],
            [
             0.8,
             "#7fbc41"
            ],
            [
             0.9,
             "#4d9221"
            ],
            [
             1,
             "#276419"
            ]
           ],
           "sequential": [
            [
             0,
             "#0d0887"
            ],
            [
             0.1111111111111111,
             "#46039f"
            ],
            [
             0.2222222222222222,
             "#7201a8"
            ],
            [
             0.3333333333333333,
             "#9c179e"
            ],
            [
             0.4444444444444444,
             "#bd3786"
            ],
            [
             0.5555555555555556,
             "#d8576b"
            ],
            [
             0.6666666666666666,
             "#ed7953"
            ],
            [
             0.7777777777777778,
             "#fb9f3a"
            ],
            [
             0.8888888888888888,
             "#fdca26"
            ],
            [
             1,
             "#f0f921"
            ]
           ],
           "sequentialminus": [
            [
             0,
             "#0d0887"
            ],
            [
             0.1111111111111111,
             "#46039f"
            ],
            [
             0.2222222222222222,
             "#7201a8"
            ],
            [
             0.3333333333333333,
             "#9c179e"
            ],
            [
             0.4444444444444444,
             "#bd3786"
            ],
            [
             0.5555555555555556,
             "#d8576b"
            ],
            [
             0.6666666666666666,
             "#ed7953"
            ],
            [
             0.7777777777777778,
             "#fb9f3a"
            ],
            [
             0.8888888888888888,
             "#fdca26"
            ],
            [
             1,
             "#f0f921"
            ]
           ]
          },
          "colorway": [
           "#636efa",
           "#EF553B",
           "#00cc96",
           "#ab63fa",
           "#FFA15A",
           "#19d3f3",
           "#FF6692",
           "#B6E880",
           "#FF97FF",
           "#FECB52"
          ],
          "font": {
           "color": "#2a3f5f"
          },
          "geo": {
           "bgcolor": "white",
           "lakecolor": "white",
           "landcolor": "#E5ECF6",
           "showlakes": true,
           "showland": true,
           "subunitcolor": "white"
          },
          "hoverlabel": {
           "align": "left"
          },
          "hovermode": "closest",
          "mapbox": {
           "style": "light"
          },
          "paper_bgcolor": "white",
          "plot_bgcolor": "#E5ECF6",
          "polar": {
           "angularaxis": {
            "gridcolor": "white",
            "linecolor": "white",
            "ticks": ""
           },
           "bgcolor": "#E5ECF6",
           "radialaxis": {
            "gridcolor": "white",
            "linecolor": "white",
            "ticks": ""
           }
          },
          "scene": {
           "xaxis": {
            "backgroundcolor": "#E5ECF6",
            "gridcolor": "white",
            "gridwidth": 2,
            "linecolor": "white",
            "showbackground": true,
            "ticks": "",
            "zerolinecolor": "white"
           },
           "yaxis": {
            "backgroundcolor": "#E5ECF6",
            "gridcolor": "white",
            "gridwidth": 2,
            "linecolor": "white",
            "showbackground": true,
            "ticks": "",
            "zerolinecolor": "white"
           },
           "zaxis": {
            "backgroundcolor": "#E5ECF6",
            "gridcolor": "white",
            "gridwidth": 2,
            "linecolor": "white",
            "showbackground": true,
            "ticks": "",
            "zerolinecolor": "white"
           }
          },
          "shapedefaults": {
           "line": {
            "color": "#2a3f5f"
           }
          },
          "ternary": {
           "aaxis": {
            "gridcolor": "white",
            "linecolor": "white",
            "ticks": ""
           },
           "baxis": {
            "gridcolor": "white",
            "linecolor": "white",
            "ticks": ""
           },
           "bgcolor": "#E5ECF6",
           "caxis": {
            "gridcolor": "white",
            "linecolor": "white",
            "ticks": ""
           }
          },
          "title": {
           "x": 0.05
          },
          "xaxis": {
           "automargin": true,
           "gridcolor": "white",
           "linecolor": "white",
           "ticks": "",
           "title": {
            "standoff": 15
           },
           "zerolinecolor": "white",
           "zerolinewidth": 2
          },
          "yaxis": {
           "automargin": true,
           "gridcolor": "white",
           "linecolor": "white",
           "ticks": "",
           "title": {
            "standoff": 15
           },
           "zerolinecolor": "white",
           "zerolinewidth": 2
          }
         }
        },
        "title": {
         "text": "Context Clusters (UMAP 2D + DBSCAN)"
        },
        "width": 900,
        "xaxis": {
         "anchor": "y",
         "domain": [
          0,
          1
         ],
         "title": {
          "text": "UMAP-1"
         }
        },
        "yaxis": {
         "anchor": "x",
         "domain": [
          0,
          1
         ],
         "title": {
          "text": "UMAP-2"
         }
        }
       }
      }
     },
     "metadata": {},
     "output_type": "display_data"
    }
   ],
   "source": [
    "plot_df = pd.DataFrame({\n",
    "    \"UMAP-1\": X_2d[:, 0],\n",
    "    \"UMAP-2\": X_2d[:, 1],\n",
    "    \"cluster\": labels.astype(str)\n",
    "})\n",
    "\n",
    "fig = px.scatter(\n",
    "    plot_df,\n",
    "    x=\"UMAP-1\",\n",
    "    y=\"UMAP-2\",\n",
    "    color=\"cluster\",\n",
    "    color_discrete_sequence=px.colors.qualitative.T10,\n",
    "    hover_data=[\"cluster\"],\n",
    "    title=\"Context Clusters (UMAP 2D + DBSCAN)\",\n",
    "    width=900,\n",
    "    height=700\n",
    ")\n",
    "\n",
    "fig.update_traces(marker=dict(size=8, opacity=0.8))\n",
    "fig.show()"
   ]
  },
  {
   "cell_type": "code",
   "execution_count": 54,
   "metadata": {},
   "outputs": [],
   "source": [
    "df_train.to_excel(\"./data/labelled/squad_train_v2_semantic_chunking_clustered.xlsx\", index=False)\n",
    "df_val.to_excel(\"./data/labelled/squad_val_v2_semantic_chunking_clustered.xlsx\", index=False)\n",
    "\n",
    "np.save(\"./data/labelled/squad_train_v2_semantic_chunking_clustered.npy\", X_train)\n",
    "np.save(\"./data/labelled/squad_val_v2_semantic_chunking_clustered.npy\", X_val)"
   ]
  },
  {
   "cell_type": "code",
   "execution_count": null,
   "metadata": {},
   "outputs": [],
   "source": []
  },
  {
   "cell_type": "code",
   "execution_count": null,
   "metadata": {},
   "outputs": [],
   "source": []
  }
 ],
 "metadata": {
  "kernelspec": {
   "display_name": "tdk_szakdoga",
   "language": "python",
   "name": "python3"
  },
  "language_info": {
   "codemirror_mode": {
    "name": "ipython",
    "version": 3
   },
   "file_extension": ".py",
   "mimetype": "text/x-python",
   "name": "python",
   "nbconvert_exporter": "python",
   "pygments_lexer": "ipython3",
   "version": "3.12.11"
  }
 },
 "nbformat": 4,
 "nbformat_minor": 2
}
