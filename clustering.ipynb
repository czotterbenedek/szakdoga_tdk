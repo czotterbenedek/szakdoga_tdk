{
 "cells": [
  {
   "cell_type": "markdown",
   "metadata": {},
   "source": [
    "# Clustering\n",
    "\n",
    "This notebook contains the code of the embedding clustering.\n",
    "The aim is to find the best possible clustering of the embeddings to improve the efficiency (speed, accuracy) of chunk retrieval.\n"
   ]
  },
  {
   "cell_type": "code",
   "execution_count": 1,
   "metadata": {},
   "outputs": [
    {
     "name": "stderr",
     "output_type": "stream",
     "text": [
      "/opt/anaconda3/envs/tdk_szakdoga/lib/python3.12/site-packages/tqdm/auto.py:21: TqdmWarning: IProgress not found. Please update jupyter and ipywidgets. See https://ipywidgets.readthedocs.io/en/stable/user_install.html\n",
      "  from .autonotebook import tqdm as notebook_tqdm\n"
     ]
    }
   ],
   "source": [
    "import pandas as pd\n",
    "import numpy as np\n",
    "import matplotlib.pyplot as plt\n",
    "import plotly.express as px\n",
    "from tqdm import tqdm\n",
    "import warnings\n",
    "\n",
    "from sklearn.cluster import DBSCAN, KMeans, AgglomerativeClustering\n",
    "from sklearn.preprocessing import StandardScaler\n",
    "from sklearn.metrics import silhouette_score\n",
    "import umap.umap_ as umap\n",
    "from sklearn.decomposition import PCA\n",
    "\n",
    "warnings.filterwarnings(\"ignore\")"
   ]
  },
  {
   "cell_type": "markdown",
   "metadata": {},
   "source": [
    "# Classes and functions"
   ]
  },
  {
   "cell_type": "code",
   "execution_count": 2,
   "metadata": {},
   "outputs": [],
   "source": [
    "# -------------------------------\n",
    "# 1️⃣ UMAP Dimensionality Reduction\n",
    "# -------------------------------\n",
    "def reduce_with_umap(embeddings, n_neighbors=15, min_dist=0.1, n_components=2, random_state=42):\n",
    "    \"\"\"\n",
    "    Reduce high-dimensional embeddings to low-dimensional space using UMAP.\n",
    "    \"\"\"\n",
    "    reducer = umap.UMAP(\n",
    "        n_neighbors=n_neighbors,\n",
    "        min_dist=min_dist,\n",
    "        n_components=n_components,\n",
    "        random_state=random_state\n",
    "    )\n",
    "    return reducer.fit_transform(embeddings)\n"
   ]
  },
  {
   "cell_type": "code",
   "execution_count": 3,
   "metadata": {},
   "outputs": [],
   "source": [
    "# -------------------------------\n",
    "# 2️⃣ Clustering Function (Supports Multiple Methods)\n",
    "# -------------------------------\n",
    "def run_clustering(\n",
    "    embeddings,\n",
    "    method=\"dbscan\",\n",
    "    scale=True,\n",
    "    **kwargs\n",
    "):\n",
    "    \"\"\"\n",
    "    Perform clustering using DBSCAN, KMeans, or Agglomerative.\n",
    "\n",
    "    Args:\n",
    "        embeddings: np.ndarray — input embeddings\n",
    "        method: str — \"dbscan\", \"kmeans\", or \"hierarchical\"\n",
    "        scale: bool — whether to standardize embeddings\n",
    "        kwargs: dict — model-specific parameters\n",
    "\n",
    "    Returns:\n",
    "        labels: np.ndarray — cluster labels\n",
    "        model: fitted model\n",
    "    \"\"\"\n",
    "    if scale:\n",
    "        embeddings = StandardScaler().fit_transform(embeddings)\n",
    "\n",
    "    method = method.lower()\n",
    "    if method == \"dbscan\":\n",
    "        model = DBSCAN(**kwargs)\n",
    "    elif method == \"kmeans\":\n",
    "        model = KMeans(**kwargs)\n",
    "    elif method == \"hierarchical\":\n",
    "        model = AgglomerativeClustering(**kwargs)\n",
    "    else:\n",
    "        raise ValueError(\"Invalid method. Choose 'dbscan', 'kmeans', or 'hierarchical'.\")\n",
    "\n",
    "    labels = model.fit_predict(embeddings)\n",
    "    return labels, model"
   ]
  },
  {
   "cell_type": "code",
   "execution_count": 4,
   "metadata": {},
   "outputs": [],
   "source": [
    "# -------------------------------\n",
    "# 3️⃣ Visualization\n",
    "# -------------------------------\n",
    "def plot_clusters(umap_2d, labels, title=\"Clusters (UMAP 2D Projection)\"):\n",
    "    \"\"\"\n",
    "    Plot 2D embeddings with cluster labels.\n",
    "    \"\"\"\n",
    "    plt.figure(figsize=(10, 7))\n",
    "    scatter = plt.scatter(\n",
    "        umap_2d[:, 0],\n",
    "        umap_2d[:, 1],\n",
    "        c=labels,\n",
    "        cmap=\"Spectral\",\n",
    "        s=20,\n",
    "        alpha=0.8\n",
    "    )\n",
    "    plt.colorbar(scatter, label=\"Cluster ID\")\n",
    "    plt.title(title)\n",
    "    plt.xlabel(\"UMAP-1\")\n",
    "    plt.ylabel(\"UMAP-2\")\n",
    "\n",
    "    # Mark noise points if DBSCAN is used\n",
    "    if -1 in labels:\n",
    "        noise_mask = labels == -1\n",
    "        plt.scatter(umap_2d[noise_mask, 0], umap_2d[noise_mask, 1], \n",
    "                    c=\"k\", s=20, alpha=0.5, label=\"Noise\")\n",
    "        plt.legend()\n",
    "\n",
    "    plt.show()"
   ]
  },
  {
   "cell_type": "code",
   "execution_count": 5,
   "metadata": {},
   "outputs": [],
   "source": [
    "# -------------------------------\n",
    "# 4️⃣ Full Pipeline Wrapper\n",
    "# -------------------------------\n",
    "def cluster_and_plot(\n",
    "    embeddings,\n",
    "    df=None,\n",
    "    cluster_method=\"dbscan\",\n",
    "    scale=True,\n",
    "    cluster_params=None,\n",
    "    umap_params=None,\n",
    "    cluster_col_name=\"cluster\",\n",
    "    plot=True\n",
    "):\n",
    "    \"\"\"\n",
    "    Full pipeline: clustering + UMAP + optional visualization.\n",
    "\n",
    "    Args:\n",
    "        embeddings: np.ndarray — embedding matrix\n",
    "        df: DataFrame (optional) — if provided, adds cluster labels\n",
    "        cluster_method: \"dbscan\", \"kmeans\", \"hierarchical\"\n",
    "        scale: bool — whether to standardize before clustering\n",
    "        cluster_params: dict — model parameters (eps, n_clusters, etc.)\n",
    "        umap_params: dict — UMAP params\n",
    "        cluster_col_name: str — column name for cluster labels in df\n",
    "        plot: bool — whether to visualize\n",
    "\n",
    "    Returns:\n",
    "        df_with_clusters (if df provided), labels, umap_2d\n",
    "    \"\"\"\n",
    "    if cluster_params is None:\n",
    "        cluster_params = {}\n",
    "    if umap_params is None:\n",
    "        umap_params = {}\n",
    "\n",
    "    # 1️⃣ Run clustering\n",
    "    labels, model = run_clustering(\n",
    "        embeddings=embeddings,\n",
    "        method=cluster_method,\n",
    "        scale=scale,\n",
    "        **cluster_params\n",
    "    )\n",
    "    print(\"Finished clustering.\")\n",
    "\n",
    "    # 2️⃣ UMAP projection\n",
    "    umap_2d = reduce_with_umap(\n",
    "        embeddings if not scale else StandardScaler().fit_transform(embeddings),\n",
    "        **umap_params\n",
    "    )\n",
    "    print(\"Finished UMAP reduction.\")\n",
    "\n",
    "    # 3️⃣ Plot clusters\n",
    "    if plot:\n",
    "        title = f\"{cluster_method.upper()} Clusters (UMAP Projection)\"\n",
    "        plot_clusters(umap_2d, labels, title=title)\n",
    "\n",
    "    # 4️⃣ Save cluster labels to DataFrame\n",
    "    if df is not None:\n",
    "        df_out = df.copy()\n",
    "        df_out[cluster_col_name] = labels\n",
    "        return df_out, labels, umap_2d\n",
    "\n",
    "    return labels, umap_2d"
   ]
  },
  {
   "cell_type": "code",
   "execution_count": null,
   "metadata": {},
   "outputs": [],
   "source": []
  },
  {
   "cell_type": "code",
   "execution_count": null,
   "metadata": {},
   "outputs": [],
   "source": []
  },
  {
   "cell_type": "markdown",
   "metadata": {},
   "source": [
    "# Workflow"
   ]
  },
  {
   "cell_type": "code",
   "execution_count": 15,
   "metadata": {},
   "outputs": [],
   "source": [
    "# Load data\n",
    "X_train = np.load(\"./data/tensors/squad_train_v1_semantic_chunking.npy\")\n",
    "df_semantic_train = pd.read_excel(\"./data/prepared/squad_train_v1_semantic_chunking.xlsx\")\n",
    "X_val = np.load(\"./data/tensors/squad_val_v1_semantic_chunking.npy\")\n",
    "df_semantic_val = pd.read_excel(\"./data/prepared/squad_val_v1_semantic_chunking.xlsx\")\n",
    "df_train = df_semantic_train[df_semantic_train['context_id']<500].copy()\n",
    "X_train = X_train[df_train.index]\n",
    "df_val = df_semantic_val[df_semantic_val['context_id']<500].copy()\n",
    "X_val = X_val[df_val.index]"
   ]
  },
  {
   "cell_type": "code",
   "execution_count": 7,
   "metadata": {},
   "outputs": [],
   "source": []
  },
  {
   "cell_type": "code",
   "execution_count": null,
   "metadata": {},
   "outputs": [],
   "source": []
  },
  {
   "cell_type": "code",
   "execution_count": null,
   "metadata": {},
   "outputs": [],
   "source": []
  },
  {
   "cell_type": "code",
   "execution_count": 46,
   "metadata": {},
   "outputs": [
    {
     "name": "stdout",
     "output_type": "stream",
     "text": [
      "Finished clustering.\n",
      "Finished UMAP reduction.\n"
     ]
    },
    {
     "data": {
      "image/png": "[encoded data removed]",
      "text/plain": [
       "<Figure size 1000x700 with 2 Axes>"
      ]
     },
     "metadata": {},
     "output_type": "display_data"
    }
   ],
   "source": [
    "df_clustered, labels, umap_2d = cluster_and_plot(\n",
    "    embeddings=X_train,\n",
    "    df=df_train,\n",
    "    cluster_method=\"kmeans\",\n",
    "    cluster_params={\"n_clusters\": 10, \"random_state\": 42},\n",
    "    umap_params={\"n_neighbors\": 15, \"min_dist\": 0.1}\n",
    ")"
   ]
  },
  {
   "cell_type": "code",
   "execution_count": 63,
   "metadata": {},
   "outputs": [
    {
     "name": "stdout",
     "output_type": "stream",
     "text": [
      "Finished clustering.\n",
      "Finished UMAP reduction.\n"
     ]
    },
    {
     "data": {
      "image/png": "[encoded data removed]",
      "text/plain": [
       "<Figure size 1000x700 with 2 Axes>"
      ]
     },
     "metadata": {},
     "output_type": "display_data"
    }
   ],
   "source": [
    "df_clustered, labels, umap_2d = cluster_and_plot(\n",
    "    embeddings=X_train,\n",
    "    df=df_train,\n",
    "    cluster_method=\"dbscan\",\n",
    "    cluster_params={\"eps\": 0.000005, \"min_samples\": 4, \"metric\": \"cosine\"},\n",
    "    umap_params={\"n_neighbors\": 15, \"min_dist\": 0.05}\n",
    ")"
   ]
  },
  {
   "cell_type": "code",
   "execution_count": null,
   "metadata": {},
   "outputs": [],
   "source": []
  },
  {
   "cell_type": "code",
   "execution_count": null,
   "metadata": {},
   "outputs": [],
   "source": []
  },
  {
   "cell_type": "code",
   "execution_count": null,
   "metadata": {},
   "outputs": [],
   "source": []
  },
  {
   "cell_type": "code",
   "execution_count": 23,
   "metadata": {},
   "outputs": [],
   "source": [
    "X_scaled = StandardScaler().fit_transform(X_train)"
   ]
  },
  {
   "cell_type": "code",
   "execution_count": 24,
   "metadata": {},
   "outputs": [],
   "source": [
    "umap_2d = umap.UMAP(n_neighbors=15, min_dist=0.1, n_components=2, random_state=42)\n",
    "X_2d = umap_2d.fit_transform(X_train)"
   ]
  },
  {
   "cell_type": "code",
   "execution_count": 75,
   "metadata": {},
   "outputs": [],
   "source": [
    "#dbscan = DBSCAN(eps=13, min_samples=10)\n",
    "#labels = dbscan.fit_predict(X_scaled)\n",
    "\n",
    "kmeans = KMeans(n_clusters=100, random_state=42)\n",
    "labels = kmeans.fit_predict(X_scaled)"
   ]
  },
  {
   "cell_type": "code",
   "execution_count": 76,
   "metadata": {},
   "outputs": [
    {
     "data": {
      "text/plain": [
       "100"
      ]
     },
     "execution_count": 76,
     "metadata": {},
     "output_type": "execute_result"
    }
   ],
   "source": [
    "len(np.unique(labels))"
   ]
  },
  {
   "cell_type": "code",
   "execution_count": 77,
   "metadata": {},
   "outputs": [],
   "source": [
    "df_train['cluster'] = labels"
   ]
  },
  {
   "cell_type": "code",
   "execution_count": 78,
   "metadata": {},
   "outputs": [
    {
     "data": {
      "text/plain": [
       "cluster\n",
       "0     15\n",
       "1     30\n",
       "2     52\n",
       "3     49\n",
       "4     12\n",
       "      ..\n",
       "95    15\n",
       "96    18\n",
       "97    13\n",
       "98    44\n",
       "99    15\n",
       "Name: count, Length: 100, dtype: int64"
      ]
     },
     "execution_count": 78,
     "metadata": {},
     "output_type": "execute_result"
    }
   ],
   "source": [
    "df_train['cluster'].value_counts().sort_index()"
   ]
  },
  {
   "cell_type": "code",
   "execution_count": 31,
   "metadata": {},
   "outputs": [
    {
     "data": {
      "application/vnd.plotly.v1+json": {
       "config": {
        "plotlyServerURL": "https://plot.ly"
       },
       "data": [
        {
         "customdata": [
          [
           "0"
          ],
          [
           "0"
          ],
          [
           "0"
          ],
          [
           "0"
          ],
          [
           "0"
          ]
         ],
         "hovertemplate": "cluster=%{customdata[0]}<br>UMAP-1=%{x}<br>UMAP-2=%{y}<extra></extra>",
         "legendgroup": "0",
         "marker": {
          "color": "#4C78A8",
          "opacity": 0.8,
          "size": 8,
          "symbol": "circle"
         },
         "mode": "markers",
         "name": "0",
         "showlegend": true,
         "type": "scattergl",
         "x": {
          "bdata": "l8CCwX6ygsGtBoPBQcOCwSnDgsE=",
          "dtype": "f4"
         },
         "xaxis": "x",
         "y": {
          "bdata": "f7AFwYasBcFx1wXBFScGwaXtBcE=",
          "dtype": "f4"
         },
         "yaxis": "y"
        },
        {
         "customdata": [
          [
           "1"
          ],
          [
           "1"
          ],
          [
           "1"
          ],
          [
           "1"
          ],
          [
           "1"
          ]
         ],
         "hovertemplate": "cluster=%{customdata[0]}<br>UMAP-1=%{x}<br>UMAP-2=%{y}<extra></extra>",
         "legendgroup": "1",
         "marker": {
          "color": "#F58518",
          "opacity": 0.8,
          "size": 8,
          "symbol": "circle"
         },
         "mode": "markers",
         "name": "1",
         "showlegend": true,
         "type": "scattergl",
         "x": {
          "bdata": "amNZQVBzWUGaZ1lBf2pZQaCaWUE=",
          "dtype": "f4"
         },
         "xaxis": "x",
         "y": {
          "bdata": "SrHQwICa0MBFrNDAI6TQwPpJ0MA=",
          "dtype": "f4"
         },
         "yaxis": "y"
        },
        {
         "customdata": [
          [
           "2"
          ],
          [
           "2"
          ],
          [
           "2"
          ],
          [
           "2"
          ],
          [
           "2"
          ]
         ],
         "hovertemplate": "cluster=%{customdata[0]}<br>UMAP-1=%{x}<br>UMAP-2=%{y}<extra></extra>",
         "legendgroup": "2",
         "marker": {
          "color": "#E45756",
          "opacity": 0.8,
          "size": 8,
          "symbol": "circle"
         },
         "mode": "markers",
         "name": "2",
         "showlegend": true,
         "type": "scattergl",
         "x": {
          "bdata": "clpZQTZaWUFYXFlBomBZQY1DWUE=",
          "dtype": "f4"
         },
         "xaxis": "x",
         "y": {
          "bdata": "58HQwLnC0MAGq9DAC7TQwJDv0MA=",
          "dtype": "f4"
         },
         "yaxis": "y"
        },
        {
         "customdata": [
          [
           "3"
          ],
          [
           "3"
          ],
          [
           "3"
          ],
          [
           "3"
          ],
          [
           "3"
          ]
         ],
         "hovertemplate": "cluster=%{customdata[0]}<br>UMAP-1=%{x}<br>UMAP-2=%{y}<extra></extra>",
         "legendgroup": "3",
         "marker": {
          "color": "#72B7B2",
          "opacity": 0.8,
          "size": 8,
          "symbol": "circle"
         },
         "mode": "markers",
         "name": "3",
         "showlegend": true,
         "type": "scattergl",
         "x": {
          "bdata": "vUWtQEvvrUB60axAMZOtQCuQrUA=",
          "dtype": "f4"
         },
         "xaxis": "x",
         "y": {
          "bdata": "hHyqwBQjq8DfDarAWciqwCTKqsA=",
          "dtype": "f4"
         },
         "yaxis": "y"
        },
        {
         "customdata": [
          [
           "4"
          ],
          [
           "4"
          ],
          [
           "4"
          ],
          [
           "4"
          ],
          [
           "4"
          ]
         ],
         "hovertemplate": "cluster=%{customdata[0]}<br>UMAP-1=%{x}<br>UMAP-2=%{y}<extra></extra>",
         "legendgroup": "4",
         "marker": {
          "color": "#54A24B",
          "opacity": 0.8,
          "size": 8,
          "symbol": "circle"
         },
         "mode": "markers",
         "name": "4",
         "showlegend": true,
         "type": "scattergl",
         "x": {
          "bdata": "iA/AQCwJwEAxNb9ARaS/QOMrv0A=",
          "dtype": "f4"
         },
         "xaxis": "x",
         "y": {
          "bdata": "YYOdwcyBncH/S53BUGidwZ9KncE=",
          "dtype": "f4"
         },
         "yaxis": "y"
        },
        {
         "customdata": [
          [
           "5"
          ],
          [
           "5"
          ],
          [
           "5"
          ],
          [
           "5"
          ],
          [
           "5"
          ]
         ],
         "hovertemplate": "cluster=%{customdata[0]}<br>UMAP-1=%{x}<br>UMAP-2=%{y}<extra></extra>",
         "legendgroup": "5",
         "marker": {
          "color": "#EECA3B",
          "opacity": 0.8,
          "size": 8,
          "symbol": "circle"
         },
         "mode": "markers",
         "name": "5",
         "showlegend": true,
         "type": "scattergl",
         "x": {
          "bdata": "KnbAQBkkwEB4JcBAgRLAQNn0v0A=",
          "dtype": "f4"
         },
         "xaxis": "x",
         "y": {
          "bdata": "NZ2dwdyIncEbiZ3BuISdwYJ9ncE=",
          "dtype": "f4"
         },
         "yaxis": "y"
        },
        {
         "customdata": [
          [
           "6"
          ],
          [
           "6"
          ],
          [
           "6"
          ],
          [
           "6"
          ],
          [
           "6"
          ]
         ],
         "hovertemplate": "cluster=%{customdata[0]}<br>UMAP-1=%{x}<br>UMAP-2=%{y}<extra></extra>",
         "legendgroup": "6",
         "marker": {
          "color": "#B279A2",
          "opacity": 0.8,
          "size": 8,
          "symbol": "circle"
         },
         "mode": "markers",
         "name": "6",
         "showlegend": true,
         "type": "scattergl",
         "x": {
          "bdata": "sGRZQUZuWUGd21lB33FZQUB0WUE=",
          "dtype": "f4"
         },
         "xaxis": "x",
         "y": {
          "bdata": "ZrLQwB2d0MAuwc/AZJfQwKGU0MA=",
          "dtype": "f4"
         },
         "yaxis": "y"
        },
        {
         "customdata": [
          [
           "7"
          ],
          [
           "7"
          ],
          [
           "7"
          ],
          [
           "7"
          ],
          [
           "7"
          ]
         ],
         "hovertemplate": "cluster=%{customdata[0]}<br>UMAP-1=%{x}<br>UMAP-2=%{y}<extra></extra>",
         "legendgroup": "7",
         "marker": {
          "color": "#FF9DA6",
          "opacity": 0.8,
          "size": 8,
          "symbol": "circle"
         },
         "mode": "markers",
         "name": "7",
         "showlegend": true,
         "type": "scattergl",
         "x": {
          "bdata": "6AdFwJcMRcDcI0XAzA9FwLQdRcA=",
          "dtype": "f4"
         },
         "xaxis": "x",
         "y": {
          "bdata": "l/IrQRj1K0HjACxBFfYrQYX5K0E=",
          "dtype": "f4"
         },
         "yaxis": "y"
        },
        {
         "customdata": [
          [
           "8"
          ],
          [
           "8"
          ],
          [
           "8"
          ],
          [
           "8"
          ],
          [
           "8"
          ]
         ],
         "hovertemplate": "cluster=%{customdata[0]}<br>UMAP-1=%{x}<br>UMAP-2=%{y}<extra></extra>",
         "legendgroup": "8",
         "marker": {
          "color": "#9D755D",
          "opacity": 0.8,
          "size": 8,
          "symbol": "circle"
         },
         "mode": "markers",
         "name": "8",
         "showlegend": true,
         "type": "scattergl",
         "x": {
          "bdata": "jP72QN5K90D43PZAc0r3QKz59kA=",
          "dtype": "f4"
         },
         "xaxis": "x",
         "y": {
          "bdata": "bdbpwKzj6cC/Z+rA5/vpwDtW6sA=",
          "dtype": "f4"
         },
         "yaxis": "y"
        },
        {
         "customdata": [
          [
           "9"
          ],
          [
           "9"
          ],
          [
           "9"
          ],
          [
           "9"
          ],
          [
           "9"
          ]
         ],
         "hovertemplate": "cluster=%{customdata[0]}<br>UMAP-1=%{x}<br>UMAP-2=%{y}<extra></extra>",
         "legendgroup": "9",
         "marker": {
          "color": "#BAB0AC",
          "opacity": 0.8,
          "size": 8,
          "symbol": "circle"
         },
         "mode": "markers",
         "name": "9",
         "showlegend": true,
         "type": "scattergl",
         "x": {
          "bdata": "QWz3QPJl90BT0vdA5WP3QOhg90A=",
          "dtype": "f4"
         },
         "xaxis": "x",
         "y": {
          "bdata": "UgXqwC4K6sDiferAaRXqwOYV6sA=",
          "dtype": "f4"
         },
         "yaxis": "y"
        },
        {
         "customdata": [
          [
           "10"
          ],
          [
           "10"
          ],
          [
           "10"
          ],
          [
           "10"
          ],
          [
           "10"
          ]
         ],
         "hovertemplate": "cluster=%{customdata[0]}<br>UMAP-1=%{x}<br>UMAP-2=%{y}<extra></extra>",
         "legendgroup": "10",
         "marker": {
          "color": "#4C78A8",
          "opacity": 0.8,
          "size": 8,
          "symbol": "circle"
         },
         "mode": "markers",
         "name": "10",
         "showlegend": true,
         "type": "scattergl",
         "x": {
          "bdata": "A0L3QAsZ90AXOPdAbj/3QNeX9kA=",
          "dtype": "f4"
         },
         "xaxis": "x",
         "y": {
          "bdata": "ItvpwBi86cAM4OnAfuHpwJtU6cA=",
          "dtype": "f4"
         },
         "yaxis": "y"
        },
        {
         "customdata": [
          [
           "11"
          ],
          [
           "11"
          ],
          [
           "11"
          ],
          [
           "11"
          ],
          [
           "11"
          ]
         ],
         "hovertemplate": "cluster=%{customdata[0]}<br>UMAP-1=%{x}<br>UMAP-2=%{y}<extra></extra>",
         "legendgroup": "11",
         "marker": {
          "color": "#F58518",
          "opacity": 0.8,
          "size": 8,
          "symbol": "circle"
         },
         "mode": "markers",
         "name": "11",
         "showlegend": true,
         "type": "scattergl",
         "x": {
          "bdata": "1c4PwDH7DcA/wg/ARcEPwEGrD8A=",
          "dtype": "f4"
         },
         "xaxis": "x",
         "y": {
          "bdata": "vY4cQSsXHEHhihxBOYocQRqEHEE=",
          "dtype": "f4"
         },
         "yaxis": "y"
        },
        {
         "customdata": [
          [
           "12"
          ],
          [
           "12"
          ],
          [
           "12"
          ],
          [
           "12"
          ],
          [
           "12"
          ]
         ],
         "hovertemplate": "cluster=%{customdata[0]}<br>UMAP-1=%{x}<br>UMAP-2=%{y}<extra></extra>",
         "legendgroup": "12",
         "marker": {
          "color": "#E45756",
          "opacity": 0.8,
          "size": 8,
          "symbol": "circle"
         },
         "mode": "markers",
         "name": "12",
         "showlegend": true,
         "type": "scattergl",
         "x": {
          "bdata": "m9UPwFqcD8CQwg/AYrgPwF+yD8A=",
          "dtype": "f4"
         },
         "xaxis": "x",
         "y": {
          "bdata": "uoocQeZ1HEHhhRxBLoIcQfeGHEE=",
          "dtype": "f4"
         },
         "yaxis": "y"
        },
        {
         "customdata": [
          [
           "13"
          ],
          [
           "13"
          ],
          [
           "13"
          ],
          [
           "13"
          ],
          [
           "13"
          ]
         ],
         "hovertemplate": "cluster=%{customdata[0]}<br>UMAP-1=%{x}<br>UMAP-2=%{y}<extra></extra>",
         "legendgroup": "13",
         "marker": {
          "color": "#72B7B2",
          "opacity": 0.8,
          "size": 8,
          "symbol": "circle"
         },
         "mode": "markers",
         "name": "13",
         "showlegend": true,
         "type": "scattergl",
         "x": {
          "bdata": "dYjwQEvI8EDRxPBAusDwQJ/A8EA=",
          "dtype": "f4"
         },
         "xaxis": "x",
         "y": {
          "bdata": "vbbbQKZ320DMettAHX7bQMx920A=",
          "dtype": "f4"
         },
         "yaxis": "y"
        },
        {
         "customdata": [
          [
           "14"
          ],
          [
           "14"
          ],
          [
           "14"
          ],
          [
           "14"
          ],
          [
           "14"
          ]
         ],
         "hovertemplate": "cluster=%{customdata[0]}<br>UMAP-1=%{x}<br>UMAP-2=%{y}<extra></extra>",
         "legendgroup": "14",
         "marker": {
          "color": "#54A24B",
          "opacity": 0.8,
          "size": 8,
          "symbol": "circle"
         },
         "mode": "markers",
         "name": "14",
         "showlegend": true,
         "type": "scattergl",
         "x": {
          "bdata": "x9oPwPvAD8AI0w/AcFQPwLGuD8A=",
          "dtype": "f4"
         },
         "xaxis": "x",
         "y": {
          "bdata": "l5McQZuOHEE/lhxBFXwcQfOSHEE=",
          "dtype": "f4"
         },
         "yaxis": "y"
        },
        {
         "customdata": [
          [
           "15"
          ],
          [
           "15"
          ],
          [
           "15"
          ],
          [
           "15"
          ],
          [
           "15"
          ]
         ],
         "hovertemplate": "cluster=%{customdata[0]}<br>UMAP-1=%{x}<br>UMAP-2=%{y}<extra></extra>",
         "legendgroup": "15",
         "marker": {
          "color": "#EECA3B",
          "opacity": 0.8,
          "size": 8,
          "symbol": "circle"
         },
         "mode": "markers",
         "name": "15",
         "showlegend": true,
         "type": "scattergl",
         "x": {
          "bdata": "09o/QIrvP0Agz0BATnVBQO0lQUA=",
          "dtype": "f4"
         },
         "xaxis": "x",
         "y": {
          "bdata": "cDA7wXEIO8G4PTvBh946wYQVO8E=",
          "dtype": "f4"
         },
         "yaxis": "y"
        },
        {
         "customdata": [
          [
           "16"
          ],
          [
           "16"
          ],
          [
           "16"
          ],
          [
           "16"
          ],
          [
           "16"
          ]
         ],
         "hovertemplate": "cluster=%{customdata[0]}<br>UMAP-1=%{x}<br>UMAP-2=%{y}<extra></extra>",
         "legendgroup": "16",
         "marker": {
          "color": "#B279A2",
          "opacity": 0.8,
          "size": 8,
          "symbol": "circle"
         },
         "mode": "markers",
         "name": "16",
         "showlegend": true,
         "type": "scattergl",
         "x": {
          "bdata": "69+CwSQAg8Ho6YLBP9CCwdPagsE=",
          "dtype": "f4"
         },
         "xaxis": "x",
         "y": {
          "bdata": "MiIIwXfdB8H+yQfBBdQHwVZ5B8E=",
          "dtype": "f4"
         },
         "yaxis": "y"
        },
        {
         "customdata": [
          [
           "17"
          ],
          [
           "17"
          ],
          [
           "17"
          ],
          [
           "17"
          ],
          [
           "17"
          ]
         ],
         "hovertemplate": "cluster=%{customdata[0]}<br>UMAP-1=%{x}<br>UMAP-2=%{y}<extra></extra>",
         "legendgroup": "17",
         "marker": {
          "color": "#FF9DA6",
          "opacity": 0.8,
          "size": 8,
          "symbol": "circle"
         },
         "mode": "markers",
         "name": "17",
         "showlegend": true,
         "type": "scattergl",
         "x": {
          "bdata": "er6Ewe7YhMHp9YTBIOeEweALhcE=",
          "dtype": "f4"
         },
         "xaxis": "x",
         "y": {
          "bdata": "gmECwYgtAsGoBwLBLQoCwbfFAcE=",
          "dtype": "f4"
         },
         "yaxis": "y"
        },
        {
         "customdata": [
          [
           "18"
          ],
          [
           "18"
          ],
          [
           "18"
          ],
          [
           "18"
          ],
          [
           "18"
          ]
         ],
         "hovertemplate": "cluster=%{customdata[0]}<br>UMAP-1=%{x}<br>UMAP-2=%{y}<extra></extra>",
         "legendgroup": "18",
         "marker": {
          "color": "#9D755D",
          "opacity": 0.8,
          "size": 8,
          "symbol": "circle"
         },
         "mode": "markers",
         "name": "18",
         "showlegend": true,
         "type": "scattergl",
         "x": {
          "bdata": "tT2EweJRhMHUO4TB20+EwUP8g8E=",
          "dtype": "f4"
         },
         "xaxis": "x",
         "y": {
          "bdata": "FcADwVCdA8EzvQPBlJ8Dwb9eBME=",
          "dtype": "f4"
         },
         "yaxis": "y"
        },
        {
         "customdata": [
          [
           "19"
          ],
          [
           "19"
          ],
          [
           "19"
          ],
          [
           "19"
          ],
          [
           "19"
          ]
         ],
         "hovertemplate": "cluster=%{customdata[0]}<br>UMAP-1=%{x}<br>UMAP-2=%{y}<extra></extra>",
         "legendgroup": "19",
         "marker": {
          "color": "#BAB0AC",
          "opacity": 0.8,
          "size": 8,
          "symbol": "circle"
         },
         "mode": "markers",
         "name": "19",
         "showlegend": true,
         "type": "scattergl",
         "x": {
          "bdata": "b9wzwVLXM8HLqTPBbYQzwbH4M8E=",
          "dtype": "f4"
         },
         "xaxis": "x",
         "y": {
          "bdata": "L96kv8UCpb/obqa/a5mnv4YApL8=",
          "dtype": "f4"
         },
         "yaxis": "y"
        },
        {
         "customdata": [
          [
           "20"
          ],
          [
           "20"
          ],
          [
           "20"
          ],
          [
           "20"
          ],
          [
           "20"
          ]
         ],
         "hovertemplate": "cluster=%{customdata[0]}<br>UMAP-1=%{x}<br>UMAP-2=%{y}<extra></extra>",
         "legendgroup": "20",
         "marker": {
          "color": "#4C78A8",
          "opacity": 0.8,
          "size": 8,
          "symbol": "circle"
         },
         "mode": "markers",
         "name": "20",
         "showlegend": true,
         "type": "scattergl",
         "x": {
          "bdata": "xUGFwYMKhcHdIoXBOPWEwdL9hME=",
          "dtype": "f4"
         },
         "xaxis": "x",
         "y": {
          "bdata": "7TEBwdyxAcEUdAHBmsgBwfvdAcE=",
          "dtype": "f4"
         },
         "yaxis": "y"
        },
        {
         "customdata": [
          [
           "21"
          ],
          [
           "21"
          ],
          [
           "21"
          ],
          [
           "21"
          ],
          [
           "21"
          ]
         ],
         "hovertemplate": "cluster=%{customdata[0]}<br>UMAP-1=%{x}<br>UMAP-2=%{y}<extra></extra>",
         "legendgroup": "21",
         "marker": {
          "color": "#F58518",
          "opacity": 0.8,
          "size": 8,
          "symbol": "circle"
         },
         "mode": "markers",
         "name": "21",
         "showlegend": true,
         "type": "scattergl",
         "x": {
          "bdata": "UINZvypqWb9OiFm/YthYv95zW78=",
          "dtype": "f4"
         },
         "xaxis": "x",
         "y": {
          "bdata": "lyQvwUskL8EmJi/BsxsvwbxEL8E=",
          "dtype": "f4"
         },
         "yaxis": "y"
        },
        {
         "customdata": [
          [
           "22"
          ],
          [
           "22"
          ],
          [
           "22"
          ],
          [
           "22"
          ],
          [
           "22"
          ]
         ],
         "hovertemplate": "cluster=%{customdata[0]}<br>UMAP-1=%{x}<br>UMAP-2=%{y}<extra></extra>",
         "legendgroup": "22",
         "marker": {
          "color": "#E45756",
          "opacity": 0.8,
          "size": 8,
          "symbol": "circle"
         },
         "mode": "markers",
         "name": "22",
         "showlegend": true,
         "type": "scattergl",
         "x": {
          "bdata": "HZOzwR54s8H3o7PB/JezwUKKs8E=",
          "dtype": "f4"
         },
         "xaxis": "x",
         "y": {
          "bdata": "Gs0yQJakM0BxRzJADqYyQMkUM0A=",
          "dtype": "f4"
         },
         "yaxis": "y"
        },
        {
         "customdata": [
          [
           "23"
          ],
          [
           "23"
          ],
          [
           "23"
          ],
          [
           "23"
          ],
          [
           "23"
          ]
         ],
         "hovertemplate": "cluster=%{customdata[0]}<br>UMAP-1=%{x}<br>UMAP-2=%{y}<extra></extra>",
         "legendgroup": "23",
         "marker": {
          "color": "#72B7B2",
          "opacity": 0.8,
          "size": 8,
          "symbol": "circle"
         },
         "mode": "markers",
         "name": "23",
         "showlegend": true,
         "type": "scattergl",
         "x": {
          "bdata": "AbFjwD9YYsCYe2HAIctiwKHaYsA=",
          "dtype": "f4"
         },
         "xaxis": "x",
         "y": {
          "bdata": "PMd+wJxwfcCuk3zA0uJ9wAvyfcA=",
          "dtype": "f4"
         },
         "yaxis": "y"
        },
        {
         "customdata": [
          [
           "24"
          ],
          [
           "24"
          ],
          [
           "24"
          ],
          [
           "24"
          ],
          [
           "24"
          ]
         ],
         "hovertemplate": "cluster=%{customdata[0]}<br>UMAP-1=%{x}<br>UMAP-2=%{y}<extra></extra>",
         "legendgroup": "24",
         "marker": {
          "color": "#54A24B",
          "opacity": 0.8,
          "size": 8,
          "symbol": "circle"
         },
         "mode": "markers",
         "name": "24",
         "showlegend": true,
         "type": "scattergl",
         "x": {
          "bdata": "azugwHJwoMDT8KDAW9yfwIkFocA=",
          "dtype": "f4"
         },
         "xaxis": "x",
         "y": {
          "bdata": "QYPHQEhNx0BJzsZARN3HQGC3xkA=",
          "dtype": "f4"
         },
         "yaxis": "y"
        },
        {
         "customdata": [
          [
           "25"
          ],
          [
           "25"
          ],
          [
           "25"
          ],
          [
           "25"
          ],
          [
           "25"
          ]
         ],
         "hovertemplate": "cluster=%{customdata[0]}<br>UMAP-1=%{x}<br>UMAP-2=%{y}<extra></extra>",
         "legendgroup": "25",
         "marker": {
          "color": "#EECA3B",
          "opacity": 0.8,
          "size": 8,
          "symbol": "circle"
         },
         "mode": "markers",
         "name": "25",
         "showlegend": true,
         "type": "scattergl",
         "x": {
          "bdata": "OiucwPIAncCWdJ3AJlucwFy6nMA=",
          "dtype": "f4"
         },
         "xaxis": "x",
         "y": {
          "bdata": "LIbLQL6vykAUOspAZVbLQK32ykA=",
          "dtype": "f4"
         },
         "yaxis": "y"
        },
        {
         "customdata": [
          [
           "-1"
          ],
          [
           "-1"
          ],
          [
           "-1"
          ],
          [
           "-1"
          ],
          [
           "-1"
          ],
          [
           "-1"
          ],
          [
           "-1"
          ],
          [
           "-1"
          ],
          [
           "-1"
          ],
          [
           "-1"
          ],
          [
           "-1"
          ],
          [
           "-1"
          ],
          [
           "-1"
          ],
          [
           "-1"
          ],
          [
           "-1"
          ],
          [
           "-1"
          ],
          [
           "-1"
          ],
          [
           "-1"
          ],
          [
           "-1"
          ],
          [
           "-1"
          ],
          [
           "-1"
          ],
          [
           "-1"
          ],
          [
           "-1"
          ],
          [
           "-1"
          ],
          [
           "-1"
          ],
          [
           "-1"
          ],
          [
           "-1"
          ],
          [
           "-1"
          ],
          [
           "-1"
          ],
          [
           "-1"
          ],
          [
           "-1"
          ],
          [
           "-1"
          ],
          [
           "-1"
          ],
          [
           "-1"
          ],
          [
           "-1"
          ],
          [
           "-1"
          ],
          [
           "-1"
          ],
          [
           "-1"
          ],
          [
           "-1"
          ],
          [
           "-1"
          ],
          [
           "-1"
          ],
          [
           "-1"
          ],
          [
           "-1"
          ],
          [
           "-1"
          ],
          [
           "-1"
          ],
          [
           "-1"
          ],
          [
           "-1"
          ],
          [
           "-1"
          ],
          [
           "-1"
          ],
          [
           "-1"
          ],
          [
           "-1"
          ],
          [
           "-1"
          ],
          [
           "-1"
          ],
          [
           "-1"
          ],
          [
           "-1"
          ],
          [
           "-1"
          ],
          [
           "-1"
          ],
          [
           "-1"
          ],
          [
           "-1"
          ],
          [
           "-1"
          ],
          [
           "-1"
          ],
          [
           "-1"
          ],
          [
           "-1"
          ],
          [
           "-1"
          ],
          [
           "-1"
          ],
          [
           "-1"
          ],
          [
           "-1"
          ],
          [
           "-1"
          ],
          [
           "-1"
          ],
          [
           "-1"
          ],
          [
           "-1"
          ],
          [
           "-1"
          ],
          [
           "-1"
          ],
          [
           "-1"
          ],
          [
           "-1"
          ],
          [
           "-1"
          ],
          [
           "-1"
          ],
          [
           "-1"
          ],
          [
           "-1"
          ],
          [
           "-1"
          ],
          [
           "-1"
          ],
          [
           "-1"
          ],
          [
           "-1"
          ],
          [
           "-1"
          ],
          [
           "-1"
          ],
          [
           "-1"
          ],
          [
           "-1"
          ],
          [
           "-1"
          ],
          [
           "-1"
          ],
          [
           "-1"
          ],
          [
           "-1"
          ],
          [
           "-1"
          ],
          [
           "-1"
          ],
          [
           "-1"
          ],
          [
           "-1"
          ],
          [
           "-1"
          ],
          [
           "-1"
          ],
          [
           "-1"
          ],
          [
           "-1"
          ],
          [
           "-1"
          ],
          [
           "-1"
          ],
          [
           "-1"
          ],
          [
           "-1"
          ],
          [
           "-1"
          ],
          [
           "-1"
          ],
          [
           "-1"
          ],
          [
           "-1"
          ],
          [
           "-1"
          ],
          [
           "-1"
          ],
          [
           "-1"
          ],
          [
           "-1"
          ],
          [
           "-1"
          ],
          [
           "-1"
          ],
          [
           "-1"
          ],
          [
           "-1"
          ]
         ],
         "hovertemplate": "cluster=%{customdata[0]}<br>UMAP-1=%{x}<br>UMAP-2=%{y}<extra></extra>",
         "legendgroup": "-1",
         "marker": {
          "color": "#B279A2",
          "opacity": 0.8,
          "size": 8,
          "symbol": "circle"
         },
         "mode": "markers",
         "name": "-1",
         "showlegend": true,
         "type": "scattergl",
         "x": {
          "bdata": "odEJwcabYT73c3LBpoRxwXHwzUAvgwrBkgFfPgpwcsFy23HBx+TNQDjBCcHQP2o+eidywZ/bccGw5c1AvOMJwU5YbD5hUHLBNMtxwWjqzUD/L0RAFXM3wLaoQUC461pA0W83wP4oREDDbjfAH2pBQPSiW0DPbDfAI3RDQBptN8CdK0FAqr9bQHJpN8DvpURAjm43wPxmQECULlpAqXI3wAkhUsHCLxXBWvVRwT608cAZSbs/FQFSwdttFcG4+1HBuF3ywPfkvz8O+VHBISUVwSL3UcFXifHAx/K6P6+7UcH3JxXBQfZRwZ9w8sBKabw/L4btwK5u+sCECvrA8QT7wEbG7MAj+OzAfmj6wAqu+sDb2/rANRDswPQ/7cCKoPnACf36wBLe+sByzOzAaHbtwGVh+sBaGPvAt9b6wKlr68D0SR7BqqWCwSHzH8Eugh7BXMcewQ4sgsEf8x/B3YgeweyRHsGClYLBhkEgwfyDHsEckR7BYIaCwb9aIMHKiB7Bmh5oQJHEZkBP42ZAB+xnQIEaaEDWQ2hAvLxnQBDxZ0Ccg2lAijZoQL7DZ0APRmpAMWFoQCqQZkAAzmdAoitoQC4ux0EOvj5BcbskQQ==",
          "dtype": "f4"
         },
         "xaxis": "x",
         "y": {
          "bdata": "PK9KQQmxXsGupAXB/QsGwRKi+kAlbkpBG6dewVKpBcFi4gXBqqP6QA+QSkGC017BkboFwdbiBcF1o/pAt7FKQfLcXsH4vQXBb+gFwcGi+kB4fjrB/TXMPavEOsFTYjvBHV7LPVlSOsGTO8s90ec6we5cO8FZOcs9d386wYQkyz1VfzrB8Z07wSHkyT1LfzrB8lvLPdHuOsEYNjvBDJbLPXdSTUATb9BAksVMQG5j1cC8e4HBhiFNQNXwz0D8/UxAZsLUwGLFgcGU3UxAcoPQQBfTTEDqkNXA3nWBwVHCS0AVedBAq9FMQBXM1MDijYHBPHDZwLQo2Dsg+oa71aXiPBwu2sDdC9rARrm5O5E7iDwg/bs8yuDawJ652cBxe5u8KXXVPNvAwDz4JtrAAYnZwKssoTuRnvg80F6tPB+G28DEJzfBA80Fwe3eOMGAYDfB0qU3wcsOBcFC3zjBKWc3wcxvN8HXygXBjy05wXxiN8FVbzfBulIFwdJGOcHsZzfBDOBbP0nkVz9aZVc/00FbP0TRWz/84l0/UdZaP2hBWz/xYWA/V6ldP2ucWz/CMFI/5f1bP1gGVz/OkFo/v3NbP1RJo8F9vwzBmrYFQA==",
          "dtype": "f4"
         },
         "yaxis": "y"
        },
        {
         "customdata": [
          [
           "26"
          ],
          [
           "26"
          ],
          [
           "26"
          ],
          [
           "26"
          ],
          [
           "26"
          ]
         ],
         "hovertemplate": "cluster=%{customdata[0]}<br>UMAP-1=%{x}<br>UMAP-2=%{y}<extra></extra>",
         "legendgroup": "26",
         "marker": {
          "color": "#FF9DA6",
          "opacity": 0.8,
          "size": 8,
          "symbol": "circle"
         },
         "mode": "markers",
         "name": "26",
         "showlegend": true,
         "type": "scattergl",
         "x": {
          "bdata": "ph8JQZweCUE3IQlBBxcJQYsgCUE=",
          "dtype": "f4"
         },
         "xaxis": "x",
         "y": {
          "bdata": "6vy0QOn7tEDb+LRAKOa0QAD+tEA=",
          "dtype": "f4"
         },
         "yaxis": "y"
        },
        {
         "customdata": [
          [
           "27"
          ],
          [
           "27"
          ],
          [
           "27"
          ],
          [
           "27"
          ],
          [
           "27"
          ]
         ],
         "hovertemplate": "cluster=%{customdata[0]}<br>UMAP-1=%{x}<br>UMAP-2=%{y}<extra></extra>",
         "legendgroup": "27",
         "marker": {
          "color": "#9D755D",
          "opacity": 0.8,
          "size": 8,
          "symbol": "circle"
         },
         "mode": "markers",
         "name": "27",
         "showlegend": true,
         "type": "scattergl",
         "x": {
          "bdata": "v71YPoivaz7wYWs+wPhrPqg3az4=",
          "dtype": "f4"
         },
         "xaxis": "x",
         "y": {
          "bdata": "d4VewTTZXsEx117BntpewRTTXsE=",
          "dtype": "f4"
         },
         "yaxis": "y"
        },
        {
         "customdata": [
          [
           "28"
          ],
          [
           "28"
          ],
          [
           "28"
          ],
          [
           "28"
          ],
          [
           "28"
          ]
         ],
         "hovertemplate": "cluster=%{customdata[0]}<br>UMAP-1=%{x}<br>UMAP-2=%{y}<extra></extra>",
         "legendgroup": "28",
         "marker": {
          "color": "#BAB0AC",
          "opacity": 0.8,
          "size": 8,
          "symbol": "circle"
         },
         "mode": "markers",
         "name": "28",
         "showlegend": true,
         "type": "scattergl",
         "x": {
          "bdata": "iSIJQYcfCUGrHwlBliEJQfkfCUE=",
          "dtype": "f4"
         },
         "xaxis": "x",
         "y": {
          "bdata": "kwS1QEf6tEA7/LRAj/60QGP8tEA=",
          "dtype": "f4"
         },
         "yaxis": "y"
        },
        {
         "customdata": [
          [
           "29"
          ],
          [
           "29"
          ],
          [
           "29"
          ],
          [
           "29"
          ],
          [
           "29"
          ]
         ],
         "hovertemplate": "cluster=%{customdata[0]}<br>UMAP-1=%{x}<br>UMAP-2=%{y}<extra></extra>",
         "legendgroup": "29",
         "marker": {
          "color": "#4C78A8",
          "opacity": 0.8,
          "size": 8,
          "symbol": "circle"
         },
         "mode": "markers",
         "name": "29",
         "showlegend": true,
         "type": "scattergl",
         "x": {
          "bdata": "IaNHP46kRz86fEc/WmRHPyigRz8=",
          "dtype": "f4"
         },
         "xaxis": "x",
         "y": {
          "bdata": "yUTQPoFY0D7RP9E+u+bRPnFx0D4=",
          "dtype": "f4"
         },
         "yaxis": "y"
        },
        {
         "customdata": [
          [
           "30"
          ],
          [
           "30"
          ],
          [
           "30"
          ],
          [
           "30"
          ],
          [
           "30"
          ]
         ],
         "hovertemplate": "cluster=%{customdata[0]}<br>UMAP-1=%{x}<br>UMAP-2=%{y}<extra></extra>",
         "legendgroup": "30",
         "marker": {
          "color": "#F58518",
          "opacity": 0.8,
          "size": 8,
          "symbol": "circle"
         },
         "mode": "markers",
         "name": "30",
         "showlegend": true,
         "type": "scattergl",
         "x": {
          "bdata": "B4KgwP47osAJoaDAMaKfwAi1oMA=",
          "dtype": "f4"
         },
         "xaxis": "x",
         "y": {
          "bdata": "d0HHQBuLxUAWI8dAvSHIQP4Mx0A=",
          "dtype": "f4"
         },
         "yaxis": "y"
        },
        {
         "customdata": [
          [
           "31"
          ],
          [
           "31"
          ],
          [
           "31"
          ],
          [
           "31"
          ],
          [
           "31"
          ]
         ],
         "hovertemplate": "cluster=%{customdata[0]}<br>UMAP-1=%{x}<br>UMAP-2=%{y}<extra></extra>",
         "legendgroup": "31",
         "marker": {
          "color": "#E45756",
          "opacity": 0.8,
          "size": 8,
          "symbol": "circle"
         },
         "mode": "markers",
         "name": "31",
         "showlegend": true,
         "type": "scattergl",
         "x": {
          "bdata": "+uGmwbPopsH29qbBUBCnwdfmpsE=",
          "dtype": "f4"
         },
         "xaxis": "x",
         "y": {
          "bdata": "SxICQfwfAkGBPAJBY28CQREcAkE=",
          "dtype": "f4"
         },
         "yaxis": "y"
        },
        {
         "customdata": [
          [
           "32"
          ],
          [
           "32"
          ],
          [
           "32"
          ],
          [
           "32"
          ],
          [
           "32"
          ]
         ],
         "hovertemplate": "cluster=%{customdata[0]}<br>UMAP-1=%{x}<br>UMAP-2=%{y}<extra></extra>",
         "legendgroup": "32",
         "marker": {
          "color": "#72B7B2",
          "opacity": 0.8,
          "size": 8,
          "symbol": "circle"
         },
         "mode": "markers",
         "name": "32",
         "showlegend": true,
         "type": "scattergl",
         "x": {
          "bdata": "meTNQEfjzUDt481A6OfNQEjkzUA=",
          "dtype": "f4"
         },
         "xaxis": "x",
         "y": {
          "bdata": "BKT6QGam+kAuo/pA5aP6QPOi+kA=",
          "dtype": "f4"
         },
         "yaxis": "y"
        },
        {
         "customdata": [
          [
           "33"
          ],
          [
           "33"
          ],
          [
           "33"
          ],
          [
           "33"
          ],
          [
           "33"
          ]
         ],
         "hovertemplate": "cluster=%{customdata[0]}<br>UMAP-1=%{x}<br>UMAP-2=%{y}<extra></extra>",
         "legendgroup": "33",
         "marker": {
          "color": "#54A24B",
          "opacity": 0.8,
          "size": 8,
          "symbol": "circle"
         },
         "mode": "markers",
         "name": "33",
         "showlegend": true,
         "type": "scattergl",
         "x": {
          "bdata": "gQenwRfypsEQDKfBJAinwXo3p8E=",
          "dtype": "f4"
         },
         "xaxis": "x",
         "y": {
          "bdata": "y10CQZIyAkHKZgJBMF8CQYi9AkE=",
          "dtype": "f4"
         },
         "yaxis": "y"
        },
        {
         "customdata": [
          [
           "34"
          ],
          [
           "34"
          ],
          [
           "34"
          ],
          [
           "34"
          ],
          [
           "34"
          ]
         ],
         "hovertemplate": "cluster=%{customdata[0]}<br>UMAP-1=%{x}<br>UMAP-2=%{y}<extra></extra>",
         "legendgroup": "34",
         "marker": {
          "color": "#EECA3B",
          "opacity": 0.8,
          "size": 8,
          "symbol": "circle"
         },
         "mode": "markers",
         "name": "34",
         "showlegend": true,
         "type": "scattergl",
         "x": {
          "bdata": "tRJLwS4sS8HgYkvBYEFLwdQGS8E=",
          "dtype": "f4"
         },
         "xaxis": "x",
         "y": {
          "bdata": "+uoPQPxjEEBzRxFAeL0QQDTHD0A=",
          "dtype": "f4"
         },
         "yaxis": "y"
        },
        {
         "customdata": [
          [
           "35"
          ],
          [
           "35"
          ],
          [
           "35"
          ],
          [
           "35"
          ],
          [
           "35"
          ]
         ],
         "hovertemplate": "cluster=%{customdata[0]}<br>UMAP-1=%{x}<br>UMAP-2=%{y}<extra></extra>",
         "legendgroup": "35",
         "marker": {
          "color": "#B279A2",
          "opacity": 0.8,
          "size": 8,
          "symbol": "circle"
         },
         "mode": "markers",
         "name": "35",
         "showlegend": true,
         "type": "scattergl",
         "x": {
          "bdata": "wtuewFZtn8ALZJ/ApLyewI5Gn8A=",
          "dtype": "f4"
         },
         "xaxis": "x",
         "y": {
          "bdata": "6dvIQBRFyEAnTshAM/XIQK95yEA=",
          "dtype": "f4"
         },
         "yaxis": "y"
        },
        {
         "customdata": [
          [
           "36"
          ],
          [
           "36"
          ],
          [
           "36"
          ],
          [
           "36"
          ],
          [
           "36"
          ]
         ],
         "hovertemplate": "cluster=%{customdata[0]}<br>UMAP-1=%{x}<br>UMAP-2=%{y}<extra></extra>",
         "legendgroup": "36",
         "marker": {
          "color": "#FF9DA6",
          "opacity": 0.8,
          "size": 8,
          "symbol": "circle"
         },
         "mode": "markers",
         "name": "36",
         "showlegend": true,
         "type": "scattergl",
         "x": {
          "bdata": "TcCZwJ1emsBFo5nA2wSawEoLmsA=",
          "dtype": "f4"
         },
         "xaxis": "x",
         "y": {
          "bdata": "Zu3NQHpPzUAbC85AHKvNQLmnzUA=",
          "dtype": "f4"
         },
         "yaxis": "y"
        },
        {
         "customdata": [
          [
           "37"
          ],
          [
           "37"
          ],
          [
           "37"
          ],
          [
           "37"
          ],
          [
           "37"
          ]
         ],
         "hovertemplate": "cluster=%{customdata[0]}<br>UMAP-1=%{x}<br>UMAP-2=%{y}<extra></extra>",
         "legendgroup": "37",
         "marker": {
          "color": "#9D755D",
          "opacity": 0.8,
          "size": 8,
          "symbol": "circle"
         },
         "mode": "markers",
         "name": "37",
         "showlegend": true,
         "type": "scattergl",
         "x": {
          "bdata": "0xpcwZYaXMEAG1zBWBpcwYkaXME=",
          "dtype": "f4"
         },
         "xaxis": "x",
         "y": {
          "bdata": "bPtJQWX7SUFx+0lBj/tJQbH7SUE=",
          "dtype": "f4"
         },
         "yaxis": "y"
        },
        {
         "customdata": [
          [
           "38"
          ],
          [
           "38"
          ],
          [
           "38"
          ],
          [
           "38"
          ],
          [
           "38"
          ]
         ],
         "hovertemplate": "cluster=%{customdata[0]}<br>UMAP-1=%{x}<br>UMAP-2=%{y}<extra></extra>",
         "legendgroup": "38",
         "marker": {
          "color": "#BAB0AC",
          "opacity": 0.8,
          "size": 8,
          "symbol": "circle"
         },
         "mode": "markers",
         "name": "38",
         "showlegend": true,
         "type": "scattergl",
         "x": {
          "bdata": "tL7ywLjI88D86fLAUdLywPr788A=",
          "dtype": "f4"
         },
         "xaxis": "x",
         "y": {
          "bdata": "zW/UwNNm08C8PtTAAVXUwKk608A=",
          "dtype": "f4"
         },
         "yaxis": "y"
        },
        {
         "customdata": [
          [
           "39"
          ],
          [
           "39"
          ],
          [
           "39"
          ],
          [
           "39"
          ],
          [
           "39"
          ]
         ],
         "hovertemplate": "cluster=%{customdata[0]}<br>UMAP-1=%{x}<br>UMAP-2=%{y}<extra></extra>",
         "legendgroup": "39",
         "marker": {
          "color": "#4C78A8",
          "opacity": 0.8,
          "size": 8,
          "symbol": "circle"
         },
         "mode": "markers",
         "name": "39",
         "showlegend": true,
         "type": "scattergl",
         "x": {
          "bdata": "fc7ywEuE88DZrvHARXLywHC18sA=",
          "dtype": "f4"
         },
         "xaxis": "x",
         "y": {
          "bdata": "3ErUwLCX08ATaNXAEqbUwIJj1MA=",
          "dtype": "f4"
         },
         "yaxis": "y"
        },
        {
         "customdata": [
          [
           "40"
          ],
          [
           "40"
          ],
          [
           "40"
          ],
          [
           "40"
          ],
          [
           "40"
          ]
         ],
         "hovertemplate": "cluster=%{customdata[0]}<br>UMAP-1=%{x}<br>UMAP-2=%{y}<extra></extra>",
         "legendgroup": "40",
         "marker": {
          "color": "#F58518",
          "opacity": 0.8,
          "size": 8,
          "symbol": "circle"
         },
         "mode": "markers",
         "name": "40",
         "showlegend": true,
         "type": "scattergl",
         "x": {
          "bdata": "oEWkvs5rpb6hcKW+DqKlvvhPpb4=",
          "dtype": "f4"
         },
         "xaxis": "x",
         "y": {
          "bdata": "yJ6Nv5PAjb+dvI2/oNuNv3PFjb8=",
          "dtype": "f4"
         },
         "yaxis": "y"
        },
        {
         "customdata": [
          [
           "41"
          ],
          [
           "41"
          ],
          [
           "41"
          ],
          [
           "41"
          ],
          [
           "41"
          ]
         ],
         "hovertemplate": "cluster=%{customdata[0]}<br>UMAP-1=%{x}<br>UMAP-2=%{y}<extra></extra>",
         "legendgroup": "41",
         "marker": {
          "color": "#E45756",
          "opacity": 0.8,
          "size": 8,
          "symbol": "circle"
         },
         "mode": "markers",
         "name": "41",
         "showlegend": true,
         "type": "scattergl",
         "x": {
          "bdata": "tsmKwajeisHJvorBi86Kwa/LisE=",
          "dtype": "f4"
         },
         "xaxis": "x",
         "y": {
          "bdata": "lc+hP72DoD/vgaI/UIWhP62xoT8=",
          "dtype": "f4"
         },
         "yaxis": "y"
        },
        {
         "customdata": [
          [
           "42"
          ],
          [
           "42"
          ],
          [
           "42"
          ],
          [
           "42"
          ],
          [
           "42"
          ]
         ],
         "hovertemplate": "cluster=%{customdata[0]}<br>UMAP-1=%{x}<br>UMAP-2=%{y}<extra></extra>",
         "legendgroup": "42",
         "marker": {
          "color": "#72B7B2",
          "opacity": 0.8,
          "size": 8,
          "symbol": "circle"
         },
         "mode": "markers",
         "name": "42",
         "showlegend": true,
         "type": "scattergl",
         "x": {
          "bdata": "8UQZwTZdGcH0+RjB/woZwXnwGME=",
          "dtype": "f4"
         },
         "xaxis": "x",
         "y": {
          "bdata": "uvK6QYrnukE8GbtBTBy7QZ8eu0E=",
          "dtype": "f4"
         },
         "yaxis": "y"
        },
        {
         "customdata": [
          [
           "43"
          ],
          [
           "43"
          ],
          [
           "43"
          ],
          [
           "43"
          ],
          [
           "43"
          ]
         ],
         "hovertemplate": "cluster=%{customdata[0]}<br>UMAP-1=%{x}<br>UMAP-2=%{y}<extra></extra>",
         "legendgroup": "43",
         "marker": {
          "color": "#54A24B",
          "opacity": 0.8,
          "size": 8,
          "symbol": "circle"
         },
         "mode": "markers",
         "name": "43",
         "showlegend": true,
         "type": "scattergl",
         "x": {
          "bdata": "WGzywJqH8sDiuvLAV7vywNCQ8sA=",
          "dtype": "f4"
         },
         "xaxis": "x",
         "y": {
          "bdata": "iqbUwOWN1MDLWdTAmFrUwM2G1MA=",
          "dtype": "f4"
         },
         "yaxis": "y"
        },
        {
         "customdata": [
          [
           "44"
          ],
          [
           "44"
          ],
          [
           "44"
          ],
          [
           "44"
          ],
          [
           "44"
          ]
         ],
         "hovertemplate": "cluster=%{customdata[0]}<br>UMAP-1=%{x}<br>UMAP-2=%{y}<extra></extra>",
         "legendgroup": "44",
         "marker": {
          "color": "#EECA3B",
          "opacity": 0.8,
          "size": 8,
          "symbol": "circle"
         },
         "mode": "markers",
         "name": "44",
         "showlegend": true,
         "type": "scattergl",
         "x": {
          "bdata": "WoMewY2iHsGDjB7B9Y0ewaeMHsE=",
          "dtype": "f4"
         },
         "xaxis": "x",
         "y": {
          "bdata": "sGM3wS6AN8GTajfBJWw3wfZqN8E=",
          "dtype": "f4"
         },
         "yaxis": "y"
        },
        {
         "customdata": [
          [
           "45"
          ],
          [
           "45"
          ],
          [
           "45"
          ],
          [
           "45"
          ],
          [
           "45"
          ]
         ],
         "hovertemplate": "cluster=%{customdata[0]}<br>UMAP-1=%{x}<br>UMAP-2=%{y}<extra></extra>",
         "legendgroup": "45",
         "marker": {
          "color": "#B279A2",
          "opacity": 0.8,
          "size": 8,
          "symbol": "circle"
         },
         "mode": "markers",
         "name": "45",
         "showlegend": true,
         "type": "scattergl",
         "x": {
          "bdata": "VZE1wAiSNcB/jTXATos1wKCQNcA=",
          "dtype": "f4"
         },
         "xaxis": "x",
         "y": {
          "bdata": "6g81wfwPNcFaEDXBsQ41wWsQNcE=",
          "dtype": "f4"
         },
         "yaxis": "y"
        },
        {
         "customdata": [
          [
           "46"
          ],
          [
           "46"
          ],
          [
           "46"
          ],
          [
           "46"
          ],
          [
           "46"
          ]
         ],
         "hovertemplate": "cluster=%{customdata[0]}<br>UMAP-1=%{x}<br>UMAP-2=%{y}<extra></extra>",
         "legendgroup": "46",
         "marker": {
          "color": "#FF9DA6",
          "opacity": 0.8,
          "size": 8,
          "symbol": "circle"
         },
         "mode": "markers",
         "name": "46",
         "showlegend": true,
         "type": "scattergl",
         "x": {
          "bdata": "9XI9wDN0PcCgcz3AInQ9wAdzPcA=",
          "dtype": "f4"
         },
         "xaxis": "x",
         "y": {
          "bdata": "jfQGwA70BsBe8QbAbfUGwE/2BsA=",
          "dtype": "f4"
         },
         "yaxis": "y"
        },
        {
         "customdata": [
          [
           "47"
          ],
          [
           "47"
          ],
          [
           "47"
          ],
          [
           "47"
          ],
          [
           "47"
          ]
         ],
         "hovertemplate": "cluster=%{customdata[0]}<br>UMAP-1=%{x}<br>UMAP-2=%{y}<extra></extra>",
         "legendgroup": "47",
         "marker": {
          "color": "#9D755D",
          "opacity": 0.8,
          "size": 8,
          "symbol": "circle"
         },
         "mode": "markers",
         "name": "47",
         "showlegend": true,
         "type": "scattergl",
         "x": {
          "bdata": "ISw6waQvOsEBJjrB8gY6wYMnOsE=",
          "dtype": "f4"
         },
         "xaxis": "x",
         "y": {
          "bdata": "uz23wJ40t8DLSLfAi4S3wJ1Dt8A=",
          "dtype": "f4"
         },
         "yaxis": "y"
        },
        {
         "customdata": [
          [
           "48"
          ],
          [
           "48"
          ],
          [
           "48"
          ],
          [
           "48"
          ],
          [
           "48"
          ]
         ],
         "hovertemplate": "cluster=%{customdata[0]}<br>UMAP-1=%{x}<br>UMAP-2=%{y}<extra></extra>",
         "legendgroup": "48",
         "marker": {
          "color": "#BAB0AC",
          "opacity": 0.8,
          "size": 8,
          "symbol": "circle"
         },
         "mode": "markers",
         "name": "48",
         "showlegend": true,
         "type": "scattergl",
         "x": {
          "bdata": "oCADwUfjAsEo9wLBC0MCwf6rAsE=",
          "dtype": "f4"
         },
         "xaxis": "x",
         "y": {
          "bdata": "VbZJQVaLSUEIr0lBLPBJQQ2xSUE=",
          "dtype": "f4"
         },
         "yaxis": "y"
        },
        {
         "customdata": [
          [
           "49"
          ],
          [
           "49"
          ],
          [
           "49"
          ],
          [
           "49"
          ],
          [
           "49"
          ]
         ],
         "hovertemplate": "cluster=%{customdata[0]}<br>UMAP-1=%{x}<br>UMAP-2=%{y}<extra></extra>",
         "legendgroup": "49",
         "marker": {
          "color": "#4C78A8",
          "opacity": 0.8,
          "size": 8,
          "symbol": "circle"
         },
         "mode": "markers",
         "name": "49",
         "showlegend": true,
         "type": "scattergl",
         "x": {
          "bdata": "V5v8wESc/MDem/zAJ5z8wJib/MA=",
          "dtype": "f4"
         },
         "xaxis": "x",
         "y": {
          "bdata": "yTF2wLMxdsBpNHbAIDN2wPo1dsA=",
          "dtype": "f4"
         },
         "yaxis": "y"
        },
        {
         "customdata": [
          [
           "50"
          ],
          [
           "50"
          ],
          [
           "50"
          ],
          [
           "50"
          ],
          [
           "50"
          ]
         ],
         "hovertemplate": "cluster=%{customdata[0]}<br>UMAP-1=%{x}<br>UMAP-2=%{y}<extra></extra>",
         "legendgroup": "50",
         "marker": {
          "color": "#F58518",
          "opacity": 0.8,
          "size": 8,
          "symbol": "circle"
         },
         "mode": "markers",
         "name": "50",
         "showlegend": true,
         "type": "scattergl",
         "x": {
          "bdata": "380CwVHSAsEoqALBID4CwedZAsE=",
          "dtype": "f4"
         },
         "xaxis": "x",
         "y": {
          "bdata": "EjxJQelCSUEfIUlBp9tIQRU4SUE=",
          "dtype": "f4"
         },
         "yaxis": "y"
        },
        {
         "customdata": [
          [
           "51"
          ],
          [
           "51"
          ],
          [
           "51"
          ],
          [
           "51"
          ],
          [
           "51"
          ]
         ],
         "hovertemplate": "cluster=%{customdata[0]}<br>UMAP-1=%{x}<br>UMAP-2=%{y}<extra></extra>",
         "legendgroup": "51",
         "marker": {
          "color": "#E45756",
          "opacity": 0.8,
          "size": 8,
          "symbol": "circle"
         },
         "mode": "markers",
         "name": "51",
         "showlegend": true,
         "type": "scattergl",
         "x": {
          "bdata": "sskCwTmmAsGg4QLBwKgCwd/gAsE=",
          "dtype": "f4"
         },
         "xaxis": "x",
         "y": {
          "bdata": "FztNQTBkTUHRY01BoUlNQRmnTUE=",
          "dtype": "f4"
         },
         "yaxis": "y"
        },
        {
         "customdata": [
          [
           "52"
          ],
          [
           "52"
          ],
          [
           "52"
          ],
          [
           "52"
          ],
          [
           "52"
          ]
         ],
         "hovertemplate": "cluster=%{customdata[0]}<br>UMAP-1=%{x}<br>UMAP-2=%{y}<extra></extra>",
         "legendgroup": "52",
         "marker": {
          "color": "#72B7B2",
          "opacity": 0.8,
          "size": 8,
          "symbol": "circle"
         },
         "mode": "markers",
         "name": "52",
         "showlegend": true,
         "type": "scattergl",
         "x": {
          "bdata": "mZICwer9AcG7CALBRc8BwZwQAsE=",
          "dtype": "f4"
         },
         "xaxis": "x",
         "y": {
          "bdata": "FBRJQRHrSEGQFUlBLbhIQXYhSUE=",
          "dtype": "f4"
         },
         "yaxis": "y"
        },
        {
         "customdata": [
          [
           "53"
          ],
          [
           "53"
          ],
          [
           "53"
          ],
          [
           "53"
          ],
          [
           "53"
          ]
         ],
         "hovertemplate": "cluster=%{customdata[0]}<br>UMAP-1=%{x}<br>UMAP-2=%{y}<extra></extra>",
         "legendgroup": "53",
         "marker": {
          "color": "#54A24B",
          "opacity": 0.8,
          "size": 8,
          "symbol": "circle"
         },
         "mode": "markers",
         "name": "53",
         "showlegend": true,
         "type": "scattergl",
         "x": {
          "bdata": "tc5JwX73ScGesknB1URKwZyOScE=",
          "dtype": "f4"
         },
         "xaxis": "x",
         "y": {
          "bdata": "y4kKQLEqC0BVEwpAhF4MQCuGCUA=",
          "dtype": "f4"
         },
         "yaxis": "y"
        },
        {
         "customdata": [
          [
           "54"
          ],
          [
           "54"
          ],
          [
           "54"
          ],
          [
           "54"
          ],
          [
           "54"
          ]
         ],
         "hovertemplate": "cluster=%{customdata[0]}<br>UMAP-1=%{x}<br>UMAP-2=%{y}<extra></extra>",
         "legendgroup": "54",
         "marker": {
          "color": "#EECA3B",
          "opacity": 0.8,
          "size": 8,
          "symbol": "circle"
         },
         "mode": "markers",
         "name": "54",
         "showlegend": true,
         "type": "scattergl",
         "x": {
          "bdata": "PlZXwa7aV8GUeFfBNcNXwTLaV8E=",
          "dtype": "f4"
         },
         "xaxis": "x",
         "y": {
          "bdata": "arSsQPymq0AvaKxAtNGrQOyoq0A=",
          "dtype": "f4"
         },
         "yaxis": "y"
        },
        {
         "customdata": [
          [
           "55"
          ],
          [
           "55"
          ],
          [
           "55"
          ],
          [
           "55"
          ],
          [
           "55"
          ]
         ],
         "hovertemplate": "cluster=%{customdata[0]}<br>UMAP-1=%{x}<br>UMAP-2=%{y}<extra></extra>",
         "legendgroup": "55",
         "marker": {
          "color": "#B279A2",
          "opacity": 0.8,
          "size": 8,
          "symbol": "circle"
         },
         "mode": "markers",
         "name": "55",
         "showlegend": true,
         "type": "scattergl",
         "x": {
          "bdata": "q3ECP0Z2Aj8cbwI/ijECPx1sAj8=",
          "dtype": "f4"
         },
         "xaxis": "x",
         "y": {
          "bdata": "a/8pwCH/KcCT/ynAyxcqwGv/KcA=",
          "dtype": "f4"
         },
         "yaxis": "y"
        },
        {
         "customdata": [
          [
           "56"
          ],
          [
           "56"
          ],
          [
           "56"
          ],
          [
           "56"
          ],
          [
           "56"
          ]
         ],
         "hovertemplate": "cluster=%{customdata[0]}<br>UMAP-1=%{x}<br>UMAP-2=%{y}<extra></extra>",
         "legendgroup": "56",
         "marker": {
          "color": "#FF9DA6",
          "opacity": 0.8,
          "size": 8,
          "symbol": "circle"
         },
         "mode": "markers",
         "name": "56",
         "showlegend": true,
         "type": "scattergl",
         "x": {
          "bdata": "KlWawFWTmsDj6JnAD7SawB99m8A=",
          "dtype": "f4"
         },
         "xaxis": "x",
         "y": {
          "bdata": "y13NQFgazUCOys1A2vvMQFUyzEA=",
          "dtype": "f4"
         },
         "yaxis": "y"
        },
        {
         "customdata": [
          [
           "57"
          ],
          [
           "57"
          ],
          [
           "57"
          ],
          [
           "57"
          ],
          [
           "57"
          ]
         ],
         "hovertemplate": "cluster=%{customdata[0]}<br>UMAP-1=%{x}<br>UMAP-2=%{y}<extra></extra>",
         "legendgroup": "57",
         "marker": {
          "color": "#9D755D",
          "opacity": 0.8,
          "size": 8,
          "symbol": "circle"
         },
         "mode": "markers",
         "name": "57",
         "showlegend": true,
         "type": "scattergl",
         "x": {
          "bdata": "qmBMwcp7TMGbh0zBlmJMwT+6TME=",
          "dtype": "f4"
         },
         "xaxis": "x",
         "y": {
          "bdata": "pUUWQDW4FkC55RZAOkIWQB9/F0A=",
          "dtype": "f4"
         },
         "yaxis": "y"
        },
        {
         "customdata": [
          [
           "58"
          ],
          [
           "58"
          ],
          [
           "58"
          ],
          [
           "58"
          ],
          [
           "58"
          ]
         ],
         "hovertemplate": "cluster=%{customdata[0]}<br>UMAP-1=%{x}<br>UMAP-2=%{y}<extra></extra>",
         "legendgroup": "58",
         "marker": {
          "color": "#BAB0AC",
          "opacity": 0.8,
          "size": 8,
          "symbol": "circle"
         },
         "mode": "markers",
         "name": "58",
         "showlegend": true,
         "type": "scattergl",
         "x": {
          "bdata": "cJv8wHac/MDom/zA0Jv8wEyd/MA=",
          "dtype": "f4"
         },
         "xaxis": "x",
         "y": {
          "bdata": "eDJ2wGAvdsDQMnbAJTN2wGMxdsA=",
          "dtype": "f4"
         },
         "yaxis": "y"
        },
        {
         "customdata": [
          [
           "59"
          ],
          [
           "59"
          ],
          [
           "59"
          ],
          [
           "59"
          ],
          [
           "59"
          ]
         ],
         "hovertemplate": "cluster=%{customdata[0]}<br>UMAP-1=%{x}<br>UMAP-2=%{y}<extra></extra>",
         "legendgroup": "59",
         "marker": {
          "color": "#4C78A8",
          "opacity": 0.8,
          "size": 8,
          "symbol": "circle"
         },
         "mode": "markers",
         "name": "59",
         "showlegend": true,
         "type": "scattergl",
         "x": {
          "bdata": "ysT6PYph+j13g/o9Jhv6PQMg+j0=",
          "dtype": "f4"
         },
         "xaxis": "x",
         "y": {
          "bdata": "jootQdqMLUGWjC1B5IwtQeKLLUE=",
          "dtype": "f4"
         },
         "yaxis": "y"
        },
        {
         "customdata": [
          [
           "60"
          ],
          [
           "60"
          ],
          [
           "60"
          ],
          [
           "60"
          ],
          [
           "60"
          ]
         ],
         "hovertemplate": "cluster=%{customdata[0]}<br>UMAP-1=%{x}<br>UMAP-2=%{y}<extra></extra>",
         "legendgroup": "60",
         "marker": {
          "color": "#F58518",
          "opacity": 0.8,
          "size": 8,
          "symbol": "circle"
         },
         "mode": "markers",
         "name": "60",
         "showlegend": true,
         "type": "scattergl",
         "x": {
          "bdata": "sxKEQK8ShEClFIRAHRKEQI4VhEA=",
          "dtype": "f4"
         },
         "xaxis": "x",
         "y": {
          "bdata": "LNiWQEfZlkDC15ZAE9mWQHjdlkA=",
          "dtype": "f4"
         },
         "yaxis": "y"
        },
        {
         "customdata": [
          [
           "61"
          ],
          [
           "61"
          ],
          [
           "61"
          ],
          [
           "61"
          ],
          [
           "61"
          ]
         ],
         "hovertemplate": "cluster=%{customdata[0]}<br>UMAP-1=%{x}<br>UMAP-2=%{y}<extra></extra>",
         "legendgroup": "61",
         "marker": {
          "color": "#E45756",
          "opacity": 0.8,
          "size": 8,
          "symbol": "circle"
         },
         "mode": "markers",
         "name": "61",
         "showlegend": true,
         "type": "scattergl",
         "x": {
          "bdata": "QOJmQDi8ZUDnLmhATQBoQHrOZkA=",
          "dtype": "f4"
         },
         "xaxis": "x",
         "y": {
          "bdata": "iJTBwFIwwsAp8MDA0QfBwA2hwcA=",
          "dtype": "f4"
         },
         "yaxis": "y"
        },
        {
         "customdata": [
          [
           "62"
          ],
          [
           "62"
          ],
          [
           "62"
          ],
          [
           "62"
          ],
          [
           "62"
          ]
         ],
         "hovertemplate": "cluster=%{customdata[0]}<br>UMAP-1=%{x}<br>UMAP-2=%{y}<extra></extra>",
         "legendgroup": "62",
         "marker": {
          "color": "#72B7B2",
          "opacity": 0.8,
          "size": 8,
          "symbol": "circle"
         },
         "mode": "markers",
         "name": "62",
         "showlegend": true,
         "type": "scattergl",
         "x": {
          "bdata": "IHwmQNN3JkBW0SZATtglQK10J0A=",
          "dtype": "f4"
         },
         "xaxis": "x",
         "y": {
          "bdata": "uE6twXZPrcEYRK3BXWOtwbcvrcE=",
          "dtype": "f4"
         },
         "yaxis": "y"
        },
        {
         "customdata": [
          [
           "63"
          ],
          [
           "63"
          ],
          [
           "63"
          ],
          [
           "63"
          ],
          [
           "63"
          ]
         ],
         "hovertemplate": "cluster=%{customdata[0]}<br>UMAP-1=%{x}<br>UMAP-2=%{y}<extra></extra>",
         "legendgroup": "63",
         "marker": {
          "color": "#54A24B",
          "opacity": 0.8,
          "size": 8,
          "symbol": "circle"
         },
         "mode": "markers",
         "name": "63",
         "showlegend": true,
         "type": "scattergl",
         "x": {
          "bdata": "EUeNvg13lL6e95S+A42RvkSZpb4=",
          "dtype": "f4"
         },
         "xaxis": "x",
         "y": {
          "bdata": "oWjHwBPdx8Bz48fAVKzHwIruyMA=",
          "dtype": "f4"
         },
         "yaxis": "y"
        },
        {
         "customdata": [
          [
           "64"
          ],
          [
           "64"
          ],
          [
           "64"
          ],
          [
           "64"
          ],
          [
           "64"
          ]
         ],
         "hovertemplate": "cluster=%{customdata[0]}<br>UMAP-1=%{x}<br>UMAP-2=%{y}<extra></extra>",
         "legendgroup": "64",
         "marker": {
          "color": "#EECA3B",
          "opacity": 0.8,
          "size": 8,
          "symbol": "circle"
         },
         "mode": "markers",
         "name": "64",
         "showlegend": true,
         "type": "scattergl",
         "x": {
          "bdata": "UPxiQLe5ZEAC12NADLNjQBX/Y0A=",
          "dtype": "f4"
         },
         "xaxis": "x",
         "y": {
          "bdata": "konDwIuowsCRHMPAOC7DwKcIw8A=",
          "dtype": "f4"
         },
         "yaxis": "y"
        },
        {
         "customdata": [
          [
           "65"
          ],
          [
           "65"
          ],
          [
           "65"
          ],
          [
           "65"
          ],
          [
           "65"
          ]
         ],
         "hovertemplate": "cluster=%{customdata[0]}<br>UMAP-1=%{x}<br>UMAP-2=%{y}<extra></extra>",
         "legendgroup": "65",
         "marker": {
          "color": "#B279A2",
          "opacity": 0.8,
          "size": 8,
          "symbol": "circle"
         },
         "mode": "markers",
         "name": "65",
         "showlegend": true,
         "type": "scattergl",
         "x": {
          "bdata": "sb6bQAifm0BlpJtAliubQCPXm0A=",
          "dtype": "f4"
         },
         "xaxis": "x",
         "y": {
          "bdata": "R+MAQdLzAEFn7wBBvSwBQefVAEE=",
          "dtype": "f4"
         },
         "yaxis": "y"
        },
        {
         "customdata": [
          [
           "66"
          ],
          [
           "66"
          ],
          [
           "66"
          ],
          [
           "66"
          ],
          [
           "66"
          ]
         ],
         "hovertemplate": "cluster=%{customdata[0]}<br>UMAP-1=%{x}<br>UMAP-2=%{y}<extra></extra>",
         "legendgroup": "66",
         "marker": {
          "color": "#FF9DA6",
          "opacity": 0.8,
          "size": 8,
          "symbol": "circle"
         },
         "mode": "markers",
         "name": "66",
         "showlegend": true,
         "type": "scattergl",
         "x": {
          "bdata": "71VaQIrEWkAwCltAuodbQGiMWkA=",
          "dtype": "f4"
         },
         "xaxis": "x",
         "y": {
          "bdata": "jzY7wZVlO8EJbTvBcWs7wf5CO8E=",
          "dtype": "f4"
         },
         "yaxis": "y"
        },
        {
         "customdata": [
          [
           "67"
          ],
          [
           "67"
          ],
          [
           "67"
          ],
          [
           "67"
          ],
          [
           "67"
          ]
         ],
         "hovertemplate": "cluster=%{customdata[0]}<br>UMAP-1=%{x}<br>UMAP-2=%{y}<extra></extra>",
         "legendgroup": "67",
         "marker": {
          "color": "#9D755D",
          "opacity": 0.8,
          "size": 8,
          "symbol": "circle"
         },
         "mode": "markers",
         "name": "67",
         "showlegend": true,
         "type": "scattergl",
         "x": {
          "bdata": "tHybQJ94m0B7YJtAFYibQCKHm0A=",
          "dtype": "f4"
         },
         "xaxis": "x",
         "y": {
          "bdata": "iwMBQccFAUHLEQFB0/0AQVn8AEE=",
          "dtype": "f4"
         },
         "yaxis": "y"
        },
        {
         "customdata": [
          [
           "68"
          ],
          [
           "68"
          ],
          [
           "68"
          ],
          [
           "68"
          ],
          [
           "68"
          ]
         ],
         "hovertemplate": "cluster=%{customdata[0]}<br>UMAP-1=%{x}<br>UMAP-2=%{y}<extra></extra>",
         "legendgroup": "68",
         "marker": {
          "color": "#BAB0AC",
          "opacity": 0.8,
          "size": 8,
          "symbol": "circle"
         },
         "mode": "markers",
         "name": "68",
         "showlegend": true,
         "type": "scattergl",
         "x": {
          "bdata": "m/1eQB/HXkCdwGBAdq5gQP0/X0A=",
          "dtype": "f4"
         },
         "xaxis": "x",
         "y": {
          "bdata": "J4fFwMeixcCRpcTAtq3EwGxlxcA=",
          "dtype": "f4"
         },
         "yaxis": "y"
        },
        {
         "customdata": [
          [
           "69"
          ],
          [
           "69"
          ],
          [
           "69"
          ],
          [
           "69"
          ],
          [
           "69"
          ]
         ],
         "hovertemplate": "cluster=%{customdata[0]}<br>UMAP-1=%{x}<br>UMAP-2=%{y}<extra></extra>",
         "legendgroup": "69",
         "marker": {
          "color": "#4C78A8",
          "opacity": 0.8,
          "size": 8,
          "symbol": "circle"
         },
         "mode": "markers",
         "name": "69",
         "showlegend": true,
         "type": "scattergl",
         "x": {
          "bdata": "xEVcQORGXkCa2V5AOJhfQEWPX0A=",
          "dtype": "f4"
         },
         "xaxis": "x",
         "y": {
          "bdata": "q+HGwGzexcDglsXAtDXFwAk2xcA=",
          "dtype": "f4"
         },
         "yaxis": "y"
        },
        {
         "customdata": [
          [
           "70"
          ],
          [
           "70"
          ],
          [
           "70"
          ],
          [
           "70"
          ],
          [
           "70"
          ]
         ],
         "hovertemplate": "cluster=%{customdata[0]}<br>UMAP-1=%{x}<br>UMAP-2=%{y}<extra></extra>",
         "legendgroup": "70",
         "marker": {
          "color": "#F58518",
          "opacity": 0.8,
          "size": 8,
          "symbol": "circle"
         },
         "mode": "markers",
         "name": "70",
         "showlegend": true,
         "type": "scattergl",
         "x": {
          "bdata": "TGxkQDuAZkDOhWVAeFRkQGy5ZEA=",
          "dtype": "f4"
         },
         "xaxis": "x",
         "y": {
          "bdata": "tdDCwM/GwcBDRcLA59rCwEKnwsA=",
          "dtype": "f4"
         },
         "yaxis": "y"
        },
        {
         "customdata": [
          [
           "71"
          ],
          [
           "71"
          ],
          [
           "71"
          ],
          [
           "71"
          ],
          [
           "71"
          ]
         ],
         "hovertemplate": "cluster=%{customdata[0]}<br>UMAP-1=%{x}<br>UMAP-2=%{y}<extra></extra>",
         "legendgroup": "71",
         "marker": {
          "color": "#E45756",
          "opacity": 0.8,
          "size": 8,
          "symbol": "circle"
         },
         "mode": "markers",
         "name": "71",
         "showlegend": true,
         "type": "scattergl",
         "x": {
          "bdata": "U8BLQINITEBGgUtA4jBLQDL7SkA=",
          "dtype": "f4"
         },
         "xaxis": "x",
         "y": {
          "bdata": "EKY2wZ/RNsHvDTbBFHU2weYiNsE=",
          "dtype": "f4"
         },
         "yaxis": "y"
        },
        {
         "customdata": [
          [
           "72"
          ],
          [
           "72"
          ],
          [
           "72"
          ],
          [
           "72"
          ],
          [
           "72"
          ]
         ],
         "hovertemplate": "cluster=%{customdata[0]}<br>UMAP-1=%{x}<br>UMAP-2=%{y}<extra></extra>",
         "legendgroup": "72",
         "marker": {
          "color": "#72B7B2",
          "opacity": 0.8,
          "size": 8,
          "symbol": "circle"
         },
         "mode": "markers",
         "name": "72",
         "showlegend": true,
         "type": "scattergl",
         "x": {
          "bdata": "Vi4nQCZYJkB6UyZAuVAmQFmMJUA=",
          "dtype": "f4"
         },
         "xaxis": "x",
         "y": {
          "bdata": "c2CtwXFUrcFbVa3B3FWtwa1urcE=",
          "dtype": "f4"
         },
         "yaxis": "y"
        },
        {
         "customdata": [
          [
           "73"
          ],
          [
           "73"
          ],
          [
           "73"
          ],
          [
           "73"
          ],
          [
           "73"
          ]
         ],
         "hovertemplate": "cluster=%{customdata[0]}<br>UMAP-1=%{x}<br>UMAP-2=%{y}<extra></extra>",
         "legendgroup": "73",
         "marker": {
          "color": "#54A24B",
          "opacity": 0.8,
          "size": 8,
          "symbol": "circle"
         },
         "mode": "markers",
         "name": "73",
         "showlegend": true,
         "type": "scattergl",
         "x": {
          "bdata": "+4/RQEYE0UC8xdBANdXRQHr/0UA=",
          "dtype": "f4"
         },
         "xaxis": "x",
         "y": {
          "bdata": "eJAdQMN1HEBv9RtAnhMeQPRmHkA=",
          "dtype": "f4"
         },
         "yaxis": "y"
        },
        {
         "customdata": [
          [
           "74"
          ],
          [
           "74"
          ],
          [
           "74"
          ],
          [
           "74"
          ],
          [
           "74"
          ]
         ],
         "hovertemplate": "cluster=%{customdata[0]}<br>UMAP-1=%{x}<br>UMAP-2=%{y}<extra></extra>",
         "legendgroup": "74",
         "marker": {
          "color": "#EECA3B",
          "opacity": 0.8,
          "size": 8,
          "symbol": "circle"
         },
         "mode": "markers",
         "name": "74",
         "showlegend": true,
         "type": "scattergl",
         "x": {
          "bdata": "ZOXSQAF400B/TtNAa/3SQIVI00A=",
          "dtype": "f4"
         },
         "xaxis": "x",
         "y": {
          "bdata": "bTsgQH1pIUCCCyFA/24gQMoDIUA=",
          "dtype": "f4"
         },
         "yaxis": "y"
        },
        {
         "customdata": [
          [
           "75"
          ],
          [
           "75"
          ],
          [
           "75"
          ],
          [
           "75"
          ],
          [
           "75"
          ]
         ],
         "hovertemplate": "cluster=%{customdata[0]}<br>UMAP-1=%{x}<br>UMAP-2=%{y}<extra></extra>",
         "legendgroup": "75",
         "marker": {
          "color": "#B279A2",
          "opacity": 0.8,
          "size": 8,
          "symbol": "circle"
         },
         "mode": "markers",
         "name": "75",
         "showlegend": true,
         "type": "scattergl",
         "x": {
          "bdata": "vBcev/odHr+aGh6/7Boev1QiHr8=",
          "dtype": "f4"
         },
         "xaxis": "x",
         "y": {
          "bdata": "8lGZwdFRmcHnUZnB+FGZwctRmcE=",
          "dtype": "f4"
         },
         "yaxis": "y"
        },
        {
         "customdata": [
          [
           "76"
          ],
          [
           "76"
          ],
          [
           "76"
          ],
          [
           "76"
          ],
          [
           "76"
          ]
         ],
         "hovertemplate": "cluster=%{customdata[0]}<br>UMAP-1=%{x}<br>UMAP-2=%{y}<extra></extra>",
         "legendgroup": "76",
         "marker": {
          "color": "#FF9DA6",
          "opacity": 0.8,
          "size": 8,
          "symbol": "circle"
         },
         "mode": "markers",
         "name": "76",
         "showlegend": true,
         "type": "scattergl",
         "x": {
          "bdata": "nNHQQCjJ0EDamtFAMdzQQBB00EA=",
          "dtype": "f4"
         },
         "xaxis": "x",
         "y": {
          "bdata": "RQgcQHLvG0Comh1AUB4cQABQG0A=",
          "dtype": "f4"
         },
         "yaxis": "y"
        },
        {
         "customdata": [
          [
           "77"
          ],
          [
           "77"
          ],
          [
           "77"
          ],
          [
           "77"
          ],
          [
           "77"
          ]
         ],
         "hovertemplate": "cluster=%{customdata[0]}<br>UMAP-1=%{x}<br>UMAP-2=%{y}<extra></extra>",
         "legendgroup": "77",
         "marker": {
          "color": "#9D755D",
          "opacity": 0.8,
          "size": 8,
          "symbol": "circle"
         },
         "mode": "markers",
         "name": "77",
         "showlegend": true,
         "type": "scattergl",
         "x": {
          "bdata": "VLnSQMZ70kDEBdJAeInSQG3F00A=",
          "dtype": "f4"
         },
         "xaxis": "x",
         "y": {
          "bdata": "kOEfQN1nH0C3eB5AsnkfQJb7IUA=",
          "dtype": "f4"
         },
         "yaxis": "y"
        },
        {
         "customdata": [
          [
           "78"
          ],
          [
           "78"
          ],
          [
           "78"
          ],
          [
           "78"
          ],
          [
           "78"
          ]
         ],
         "hovertemplate": "cluster=%{customdata[0]}<br>UMAP-1=%{x}<br>UMAP-2=%{y}<extra></extra>",
         "legendgroup": "78",
         "marker": {
          "color": "#BAB0AC",
          "opacity": 0.8,
          "size": 8,
          "symbol": "circle"
         },
         "mode": "markers",
         "name": "78",
         "showlegend": true,
         "type": "scattergl",
         "x": {
          "bdata": "VTz6wIBB+sBYQvrAQj/5wMwv+sA=",
          "dtype": "f4"
         },
         "xaxis": "x",
         "y": {
          "bdata": "1vbiuR+F9Dhz4be4aPgBvbYgL7s=",
          "dtype": "f4"
         },
         "yaxis": "y"
        },
        {
         "customdata": [
          [
           "79"
          ],
          [
           "79"
          ],
          [
           "79"
          ],
          [
           "79"
          ],
          [
           "79"
          ]
         ],
         "hovertemplate": "cluster=%{customdata[0]}<br>UMAP-1=%{x}<br>UMAP-2=%{y}<extra></extra>",
         "legendgroup": "79",
         "marker": {
          "color": "#4C78A8",
          "opacity": 0.8,
          "size": 8,
          "symbol": "circle"
         },
         "mode": "markers",
         "name": "79",
         "showlegend": true,
         "type": "scattergl",
         "x": {
          "bdata": "SZFxPsh8cz6hBHQ+STNzPkBjYT4=",
          "dtype": "f4"
         },
         "xaxis": "x",
         "y": {
          "bdata": "nvJewdz6XsFf/F7BD/pewTuxXsE=",
          "dtype": "f4"
         },
         "yaxis": "y"
        },
        {
         "customdata": [
          [
           "80"
          ],
          [
           "80"
          ],
          [
           "80"
          ],
          [
           "80"
          ],
          [
           "80"
          ]
         ],
         "hovertemplate": "cluster=%{customdata[0]}<br>UMAP-1=%{x}<br>UMAP-2=%{y}<extra></extra>",
         "legendgroup": "80",
         "marker": {
          "color": "#F58518",
          "opacity": 0.8,
          "size": 8,
          "symbol": "circle"
         },
         "mode": "markers",
         "name": "80",
         "showlegend": true,
         "type": "scattergl",
         "x": {
          "bdata": "IELQQMvp0EABls5Al8LQQIEk0EA=",
          "dtype": "f4"
         },
         "xaxis": "x",
         "y": {
          "bdata": "5e8aQCg+HEBLkhdAKu0bQByzGkA=",
          "dtype": "f4"
         },
         "yaxis": "y"
        },
        {
         "customdata": [
          [
           "81"
          ],
          [
           "81"
          ],
          [
           "81"
          ],
          [
           "81"
          ],
          [
           "81"
          ]
         ],
         "hovertemplate": "cluster=%{customdata[0]}<br>UMAP-1=%{x}<br>UMAP-2=%{y}<extra></extra>",
         "legendgroup": "81",
         "marker": {
          "color": "#E45756",
          "opacity": 0.8,
          "size": 8,
          "symbol": "circle"
         },
         "mode": "markers",
         "name": "81",
         "showlegend": true,
         "type": "scattergl",
         "x": {
          "bdata": "Zbx7PidMfD7e94U+qPCDPrjAeD4=",
          "dtype": "f4"
         },
         "xaxis": "x",
         "y": {
          "bdata": "zxtfweYdX8FjXF/BCE1fwWcQX8E=",
          "dtype": "f4"
         },
         "yaxis": "y"
        },
        {
         "customdata": [
          [
           "82"
          ],
          [
           "82"
          ],
          [
           "82"
          ],
          [
           "82"
          ],
          [
           "82"
          ]
         ],
         "hovertemplate": "cluster=%{customdata[0]}<br>UMAP-1=%{x}<br>UMAP-2=%{y}<extra></extra>",
         "legendgroup": "82",
         "marker": {
          "color": "#72B7B2",
          "opacity": 0.8,
          "size": 8,
          "symbol": "circle"
         },
         "mode": "markers",
         "name": "82",
         "showlegend": true,
         "type": "scattergl",
         "x": {
          "bdata": "rJsiv+L7Hb8sNR6/FFEevzNrH78=",
          "dtype": "f4"
         },
         "xaxis": "x",
         "y": {
          "bdata": "Ny6ZwTRTmcFaUZnBpFCZwTtLmcE=",
          "dtype": "f4"
         },
         "yaxis": "y"
        },
        {
         "customdata": [
          [
           "83"
          ],
          [
           "83"
          ],
          [
           "83"
          ],
          [
           "83"
          ],
          [
           "83"
          ]
         ],
         "hovertemplate": "cluster=%{customdata[0]}<br>UMAP-1=%{x}<br>UMAP-2=%{y}<extra></extra>",
         "legendgroup": "83",
         "marker": {
          "color": "#54A24B",
          "opacity": 0.8,
          "size": 8,
          "symbol": "circle"
         },
         "mode": "markers",
         "name": "83",
         "showlegend": true,
         "type": "scattergl",
         "x": {
          "bdata": "hRQXwZAMF8GIDhfBLAwXwWwMF8E=",
          "dtype": "f4"
         },
         "xaxis": "x",
         "y": {
          "bdata": "se0hQM04IUCIxyFAUMEhQPa+IUA=",
          "dtype": "f4"
         },
         "yaxis": "y"
        },
        {
         "customdata": [
          [
           "84"
          ],
          [
           "84"
          ],
          [
           "84"
          ],
          [
           "84"
          ],
          [
           "84"
          ]
         ],
         "hovertemplate": "cluster=%{customdata[0]}<br>UMAP-1=%{x}<br>UMAP-2=%{y}<extra></extra>",
         "legendgroup": "84",
         "marker": {
          "color": "#EECA3B",
          "opacity": 0.8,
          "size": 8,
          "symbol": "circle"
         },
         "mode": "markers",
         "name": "84",
         "showlegend": true,
         "type": "scattergl",
         "x": {
          "bdata": "+SfvwGlE8MDWjO7A9YLvwEOa78A=",
          "dtype": "f4"
         },
         "xaxis": "x",
         "y": {
          "bdata": "3tvXwK3F1sDCddjAUoHXwGJs18A=",
          "dtype": "f4"
         },
         "yaxis": "y"
        },
        {
         "customdata": [
          [
           "85"
          ],
          [
           "85"
          ],
          [
           "85"
          ],
          [
           "85"
          ],
          [
           "85"
          ]
         ],
         "hovertemplate": "cluster=%{customdata[0]}<br>UMAP-1=%{x}<br>UMAP-2=%{y}<extra></extra>",
         "legendgroup": "85",
         "marker": {
          "color": "#B279A2",
          "opacity": 0.8,
          "size": 8,
          "symbol": "circle"
         },
         "mode": "markers",
         "name": "85",
         "showlegend": true,
         "type": "scattergl",
         "x": {
          "bdata": "Qf8dv17eHr/qKh6/Mz8evxJaHr8=",
          "dtype": "f4"
         },
         "xaxis": "x",
         "y": {
          "bdata": "21KZwaBMmcG6UZnBilGZwY5QmcE=",
          "dtype": "f4"
         },
         "yaxis": "y"
        },
        {
         "customdata": [
          [
           "86"
          ],
          [
           "86"
          ],
          [
           "86"
          ],
          [
           "86"
          ],
          [
           "86"
          ]
         ],
         "hovertemplate": "cluster=%{customdata[0]}<br>UMAP-1=%{x}<br>UMAP-2=%{y}<extra></extra>",
         "legendgroup": "86",
         "marker": {
          "color": "#FF9DA6",
          "opacity": 0.8,
          "size": 8,
          "symbol": "circle"
         },
         "mode": "markers",
         "name": "86",
         "showlegend": true,
         "type": "scattergl",
         "x": {
          "bdata": "2sETwQjTE8Hv2RPB8s0TwYbZE8E=",
          "dtype": "f4"
         },
         "xaxis": "x",
         "y": {
          "bdata": "tWLTQKZF00DrMNNAsUrTQNM100A=",
          "dtype": "f4"
         },
         "yaxis": "y"
        },
        {
         "customdata": [
          [
           "87"
          ],
          [
           "87"
          ],
          [
           "87"
          ],
          [
           "87"
          ],
          [
           "87"
          ]
         ],
         "hovertemplate": "cluster=%{customdata[0]}<br>UMAP-1=%{x}<br>UMAP-2=%{y}<extra></extra>",
         "legendgroup": "87",
         "marker": {
          "color": "#9D755D",
          "opacity": 0.8,
          "size": 8,
          "symbol": "circle"
         },
         "mode": "markers",
         "name": "87",
         "showlegend": true,
         "type": "scattergl",
         "x": {
          "bdata": "KzgEwbCRBMGGJgTBJg8EwVCKBME=",
          "dtype": "f4"
         },
         "xaxis": "x",
         "y": {
          "bdata": "aZNLQVT9S0GyjUtBCEVLQeiJS0E=",
          "dtype": "f4"
         },
         "yaxis": "y"
        },
        {
         "customdata": [
          [
           "88"
          ],
          [
           "88"
          ],
          [
           "88"
          ],
          [
           "88"
          ],
          [
           "88"
          ]
         ],
         "hovertemplate": "cluster=%{customdata[0]}<br>UMAP-1=%{x}<br>UMAP-2=%{y}<extra></extra>",
         "legendgroup": "88",
         "marker": {
          "color": "#BAB0AC",
          "opacity": 0.8,
          "size": 8,
          "symbol": "circle"
         },
         "mode": "markers",
         "name": "88",
         "showlegend": true,
         "type": "scattergl",
         "x": {
          "bdata": "UrNzwSCic8GZoXPBOXFzwR59c8E=",
          "dtype": "f4"
         },
         "xaxis": "x",
         "y": {
          "bdata": "2gkFwQkCBcHkCwXB3DQFwZM4BcE=",
          "dtype": "f4"
         },
         "yaxis": "y"
        },
        {
         "customdata": [
          [
           "89"
          ],
          [
           "89"
          ],
          [
           "89"
          ],
          [
           "89"
          ],
          [
           "89"
          ]
         ],
         "hovertemplate": "cluster=%{customdata[0]}<br>UMAP-1=%{x}<br>UMAP-2=%{y}<extra></extra>",
         "legendgroup": "89",
         "marker": {
          "color": "#4C78A8",
          "opacity": 0.8,
          "size": 8,
          "symbol": "circle"
         },
         "mode": "markers",
         "name": "89",
         "showlegend": true,
         "type": "scattergl",
         "x": {
          "bdata": "6zaBwG82gcCON4HA+jSBwE80gcA=",
          "dtype": "f4"
         },
         "xaxis": "x",
         "y": {
          "bdata": "nxYjP1MlIz9NCSM/rRgjP9MRIz8=",
          "dtype": "f4"
         },
         "yaxis": "y"
        },
        {
         "customdata": [
          [
           "90"
          ],
          [
           "90"
          ],
          [
           "90"
          ],
          [
           "90"
          ],
          [
           "90"
          ]
         ],
         "hovertemplate": "cluster=%{customdata[0]}<br>UMAP-1=%{x}<br>UMAP-2=%{y}<extra></extra>",
         "legendgroup": "90",
         "marker": {
          "color": "#F58518",
          "opacity": 0.8,
          "size": 8,
          "symbol": "circle"
         },
         "mode": "markers",
         "name": "90",
         "showlegend": true,
         "type": "scattergl",
         "x": {
          "bdata": "rmZXwWNsV8HxaVfBqGxXwXn9VsE=",
          "dtype": "f4"
         },
         "xaxis": "x",
         "y": {
          "bdata": "/ZesQCearECok6xAw4+sQAhurUA=",
          "dtype": "f4"
         },
         "yaxis": "y"
        },
        {
         "customdata": [
          [
           "91"
          ],
          [
           "91"
          ],
          [
           "91"
          ],
          [
           "91"
          ],
          [
           "91"
          ]
         ],
         "hovertemplate": "cluster=%{customdata[0]}<br>UMAP-1=%{x}<br>UMAP-2=%{y}<extra></extra>",
         "legendgroup": "91",
         "marker": {
          "color": "#E45756",
          "opacity": 0.8,
          "size": 8,
          "symbol": "circle"
         },
         "mode": "markers",
         "name": "91",
         "showlegend": true,
         "type": "scattergl",
         "x": {
          "bdata": "faFXwdOZV8ES7VfBaXxXwfdsV8E=",
          "dtype": "f4"
         },
         "xaxis": "x",
         "y": {
          "bdata": "8iCsQK40rEBXe6tA4WKsQC2SrEA=",
          "dtype": "f4"
         },
         "yaxis": "y"
        },
        {
         "customdata": [
          [
           "92"
          ],
          [
           "92"
          ],
          [
           "92"
          ],
          [
           "92"
          ],
          [
           "92"
          ]
         ],
         "hovertemplate": "cluster=%{customdata[0]}<br>UMAP-1=%{x}<br>UMAP-2=%{y}<extra></extra>",
         "legendgroup": "92",
         "marker": {
          "color": "#72B7B2",
          "opacity": 0.8,
          "size": 8,
          "symbol": "circle"
         },
         "mode": "markers",
         "name": "92",
         "showlegend": true,
         "type": "scattergl",
         "x": {
          "bdata": "tBOjv+gPo792G6O/pA+jv2wbo78=",
          "dtype": "f4"
         },
         "xaxis": "x",
         "y": {
          "bdata": "LNqsP5XkrD+N3Kw/ec6sP+HcrD8=",
          "dtype": "f4"
         },
         "yaxis": "y"
        },
        {
         "customdata": [
          [
           "93"
          ],
          [
           "93"
          ],
          [
           "93"
          ],
          [
           "93"
          ],
          [
           "93"
          ]
         ],
         "hovertemplate": "cluster=%{customdata[0]}<br>UMAP-1=%{x}<br>UMAP-2=%{y}<extra></extra>",
         "legendgroup": "93",
         "marker": {
          "color": "#54A24B",
          "opacity": 0.8,
          "size": 8,
          "symbol": "circle"
         },
         "mode": "markers",
         "name": "93",
         "showlegend": true,
         "type": "scattergl",
         "x": {
          "bdata": "lq16QAetekB/rXpAdq56QBKqekA=",
          "dtype": "f4"
         },
         "xaxis": "x",
         "y": {
          "bdata": "mMhZQMTHWUAQyllAH8dZQB25WUA=",
          "dtype": "f4"
         },
         "yaxis": "y"
        },
        {
         "customdata": [
          [
           "94"
          ],
          [
           "94"
          ],
          [
           "94"
          ],
          [
           "94"
          ],
          [
           "94"
          ]
         ],
         "hovertemplate": "cluster=%{customdata[0]}<br>UMAP-1=%{x}<br>UMAP-2=%{y}<extra></extra>",
         "legendgroup": "94",
         "marker": {
          "color": "#EECA3B",
          "opacity": 0.8,
          "size": 8,
          "symbol": "circle"
         },
         "mode": "markers",
         "name": "94",
         "showlegend": true,
         "type": "scattergl",
         "x": {
          "bdata": "VE9SwUZPUsF7T1LBW09SwXVPUsE=",
          "dtype": "f4"
         },
         "xaxis": "x",
         "y": {
          "bdata": "OJSPQUiUj0EvlI9BZ5SPQTaUj0E=",
          "dtype": "f4"
         },
         "yaxis": "y"
        },
        {
         "customdata": [
          [
           "95"
          ],
          [
           "95"
          ],
          [
           "95"
          ],
          [
           "95"
          ],
          [
           "95"
          ]
         ],
         "hovertemplate": "cluster=%{customdata[0]}<br>UMAP-1=%{x}<br>UMAP-2=%{y}<extra></extra>",
         "legendgroup": "95",
         "marker": {
          "color": "#B279A2",
          "opacity": 0.8,
          "size": 8,
          "symbol": "circle"
         },
         "mode": "markers",
         "name": "95",
         "showlegend": true,
         "type": "scattergl",
         "x": {
          "bdata": "nxMxQMkTMUD+GDFABRgxQAgRMUA=",
          "dtype": "f4"
         },
         "xaxis": "x",
         "y": {
          "bdata": "6tlqQdjYakHw2mpBpdtqQfzZakE=",
          "dtype": "f4"
         },
         "yaxis": "y"
        },
        {
         "customdata": [
          [
           "96"
          ],
          [
           "96"
          ],
          [
           "96"
          ],
          [
           "96"
          ],
          [
           "96"
          ]
         ],
         "hovertemplate": "cluster=%{customdata[0]}<br>UMAP-1=%{x}<br>UMAP-2=%{y}<extra></extra>",
         "legendgroup": "96",
         "marker": {
          "color": "#FF9DA6",
          "opacity": 0.8,
          "size": 8,
          "symbol": "circle"
         },
         "mode": "markers",
         "name": "96",
         "showlegend": true,
         "type": "scattergl",
         "x": {
          "bdata": "Q4AyweBnMsEBmjLBlEcywVQtMsE=",
          "dtype": "f4"
         },
         "xaxis": "x",
         "y": {
          "bdata": "vMivv6yNsL/cGa+/5qCxvwlosr8=",
          "dtype": "f4"
         },
         "yaxis": "y"
        },
        {
         "customdata": [
          [
           "97"
          ],
          [
           "97"
          ],
          [
           "97"
          ],
          [
           "97"
          ],
          [
           "97"
          ]
         ],
         "hovertemplate": "cluster=%{customdata[0]}<br>UMAP-1=%{x}<br>UMAP-2=%{y}<extra></extra>",
         "legendgroup": "97",
         "marker": {
          "color": "#9D755D",
          "opacity": 0.8,
          "size": 8,
          "symbol": "circle"
         },
         "mode": "markers",
         "name": "97",
         "showlegend": true,
         "type": "scattergl",
         "x": {
          "bdata": "a4IywXStMsG0uTHBjIwywQeCMsE=",
          "dtype": "f4"
         },
         "xaxis": "x",
         "y": {
          "bdata": "7Livv6phrr9XBba/R2uvv4/Fr78=",
          "dtype": "f4"
         },
         "yaxis": "y"
        },
        {
         "customdata": [
          [
           "98"
          ],
          [
           "98"
          ],
          [
           "98"
          ],
          [
           "98"
          ],
          [
           "98"
          ]
         ],
         "hovertemplate": "cluster=%{customdata[0]}<br>UMAP-1=%{x}<br>UMAP-2=%{y}<extra></extra>",
         "legendgroup": "98",
         "marker": {
          "color": "#BAB0AC",
          "opacity": 0.8,
          "size": 8,
          "symbol": "circle"
         },
         "mode": "markers",
         "name": "98",
         "showlegend": true,
         "type": "scattergl",
         "x": {
          "bdata": "xy4zwRbxM8EWTDPBxoEzwaRoM8E=",
          "dtype": "f4"
         },
         "xaxis": "x",
         "y": {
          "bdata": "70+qv1k8pL8bcKm//rynv22IqL8=",
          "dtype": "f4"
         },
         "yaxis": "y"
        },
        {
         "customdata": [
          [
           "99"
          ],
          [
           "99"
          ],
          [
           "99"
          ],
          [
           "99"
          ],
          [
           "99"
          ]
         ],
         "hovertemplate": "cluster=%{customdata[0]}<br>UMAP-1=%{x}<br>UMAP-2=%{y}<extra></extra>",
         "legendgroup": "99",
         "marker": {
          "color": "#4C78A8",
          "opacity": 0.8,
          "size": 8,
          "symbol": "circle"
         },
         "mode": "markers",
         "name": "99",
         "showlegend": true,
         "type": "scattergl",
         "x": {
          "bdata": "7nwxwQIGMcFUNTHBXP8wweb6MME=",
          "dtype": "f4"
         },
         "xaxis": "x",
         "y": {
          "bdata": "Buu3v5yeu7+bJ7q/7tW7v+P+u78=",
          "dtype": "f4"
         },
         "yaxis": "y"
        },
        {
         "customdata": [
          [
           "100"
          ],
          [
           "100"
          ],
          [
           "100"
          ],
          [
           "100"
          ],
          [
           "100"
          ]
         ],
         "hovertemplate": "cluster=%{customdata[0]}<br>UMAP-1=%{x}<br>UMAP-2=%{y}<extra></extra>",
         "legendgroup": "100",
         "marker": {
          "color": "#F58518",
          "opacity": 0.8,
          "size": 8,
          "symbol": "circle"
         },
         "mode": "markers",
         "name": "100",
         "showlegend": true,
         "type": "scattergl",
         "x": {
          "bdata": "ak9SwYFPUsGHT1LBh09SwQ5QUsE=",
          "dtype": "f4"
         },
         "xaxis": "x",
         "y": {
          "bdata": "SJSPQVaUj0E2lI9BQ5SPQS+Uj0E=",
          "dtype": "f4"
         },
         "yaxis": "y"
        },
        {
         "customdata": [
          [
           "101"
          ],
          [
           "101"
          ],
          [
           "101"
          ],
          [
           "101"
          ],
          [
           "101"
          ]
         ],
         "hovertemplate": "cluster=%{customdata[0]}<br>UMAP-1=%{x}<br>UMAP-2=%{y}<extra></extra>",
         "legendgroup": "101",
         "marker": {
          "color": "#E45756",
          "opacity": 0.8,
          "size": 8,
          "symbol": "circle"
         },
         "mode": "markers",
         "name": "101",
         "showlegend": true,
         "type": "scattergl",
         "x": {
          "bdata": "IcyIwQeaiMHB14jBNrqIwRPPiME=",
          "dtype": "f4"
         },
         "xaxis": "x",
         "y": {
          "bdata": "emJPQUj+TkGAeU9Bmz5PQTJoT0E=",
          "dtype": "f4"
         },
         "yaxis": "y"
        },
        {
         "customdata": [
          [
           "102"
          ],
          [
           "102"
          ],
          [
           "102"
          ],
          [
           "102"
          ],
          [
           "102"
          ]
         ],
         "hovertemplate": "cluster=%{customdata[0]}<br>UMAP-1=%{x}<br>UMAP-2=%{y}<extra></extra>",
         "legendgroup": "102",
         "marker": {
          "color": "#72B7B2",
          "opacity": 0.8,
          "size": 8,
          "symbol": "circle"
         },
         "mode": "markers",
         "name": "102",
         "showlegend": true,
         "type": "scattergl",
         "x": {
          "bdata": "LLSCwQamgsGXrYLB+p+CwYqggsE=",
          "dtype": "f4"
         },
         "xaxis": "x",
         "y": {
          "bdata": "zpcIwTXBCMF2vAjByfMIwQvGCME=",
          "dtype": "f4"
         },
         "yaxis": "y"
        },
        {
         "customdata": [
          [
           "103"
          ],
          [
           "103"
          ],
          [
           "103"
          ],
          [
           "103"
          ],
          [
           "103"
          ]
         ],
         "hovertemplate": "cluster=%{customdata[0]}<br>UMAP-1=%{x}<br>UMAP-2=%{y}<extra></extra>",
         "legendgroup": "103",
         "marker": {
          "color": "#54A24B",
          "opacity": 0.8,
          "size": 8,
          "symbol": "circle"
         },
         "mode": "markers",
         "name": "103",
         "showlegend": true,
         "type": "scattergl",
         "x": {
          "bdata": "irMCweexAsHt1ALB9hEDweyAAsE=",
          "dtype": "f4"
         },
         "xaxis": "x",
         "y": {
          "bdata": "MF5JQfDMSUHaQ0lBG2hJQRh/SUE=",
          "dtype": "f4"
         },
         "yaxis": "y"
        },
        {
         "customdata": [
          [
           "104"
          ],
          [
           "104"
          ],
          [
           "104"
          ],
          [
           "104"
          ],
          [
           "104"
          ]
         ],
         "hovertemplate": "cluster=%{customdata[0]}<br>UMAP-1=%{x}<br>UMAP-2=%{y}<extra></extra>",
         "legendgroup": "104",
         "marker": {
          "color": "#EECA3B",
          "opacity": 0.8,
          "size": 8,
          "symbol": "circle"
         },
         "mode": "markers",
         "name": "104",
         "showlegend": true,
         "type": "scattergl",
         "x": {
          "bdata": "8CODweocg8E+RoPBJkWDwVRKg8E=",
          "dtype": "f4"
         },
         "xaxis": "x",
         "y": {
          "bdata": "I6EGwS+/BsHm5QbBTosGwfbkBsE=",
          "dtype": "f4"
         },
         "yaxis": "y"
        },
        {
         "customdata": [
          [
           "105"
          ],
          [
           "105"
          ],
          [
           "105"
          ],
          [
           "105"
          ],
          [
           "105"
          ]
         ],
         "hovertemplate": "cluster=%{customdata[0]}<br>UMAP-1=%{x}<br>UMAP-2=%{y}<extra></extra>",
         "legendgroup": "105",
         "marker": {
          "color": "#B279A2",
          "opacity": 0.8,
          "size": 8,
          "symbol": "circle"
         },
         "mode": "markers",
         "name": "105",
         "showlegend": true,
         "type": "scattergl",
         "x": {
          "bdata": "whg6we8XOsHvbDrB0Ok5waqBOsE=",
          "dtype": "f4"
         },
         "xaxis": "x",
         "y": {
          "bdata": "bny3wAJ5t8AJzbbAG9W3wBKmtsA=",
          "dtype": "f4"
         },
         "yaxis": "y"
        },
        {
         "customdata": [
          [
           "106"
          ],
          [
           "106"
          ],
          [
           "106"
          ],
          [
           "106"
          ],
          [
           "106"
          ]
         ],
         "hovertemplate": "cluster=%{customdata[0]}<br>UMAP-1=%{x}<br>UMAP-2=%{y}<extra></extra>",
         "legendgroup": "106",
         "marker": {
          "color": "#FF9DA6",
          "opacity": 0.8,
          "size": 8,
          "symbol": "circle"
         },
         "mode": "markers",
         "name": "106",
         "showlegend": true,
         "type": "scattergl",
         "x": {
          "bdata": "qQw6wZ3dOcFZjjnBZQ06wcEROsE=",
          "dtype": "f4"
         },
         "xaxis": "x",
         "y": {
          "bdata": "uXm3wJPst8DOjbjAYYa3wBSAt8A=",
          "dtype": "f4"
         },
         "yaxis": "y"
        },
        {
         "customdata": [
          [
           "107"
          ],
          [
           "107"
          ],
          [
           "107"
          ],
          [
           "107"
          ],
          [
           "107"
          ]
         ],
         "hovertemplate": "cluster=%{customdata[0]}<br>UMAP-1=%{x}<br>UMAP-2=%{y}<extra></extra>",
         "legendgroup": "107",
         "marker": {
          "color": "#9D755D",
          "opacity": 0.8,
          "size": 8,
          "symbol": "circle"
         },
         "mode": "markers",
         "name": "107",
         "showlegend": true,
         "type": "scattergl",
         "x": {
          "bdata": "WhpcwWIaXMGBEFzBexpcwaMaXME=",
          "dtype": "f4"
         },
         "xaxis": "x",
         "y": {
          "bdata": "oftJQZ77SUG4/0lBp/tJQcv7SUE=",
          "dtype": "f4"
         },
         "yaxis": "y"
        },
        {
         "customdata": [
          [
           "108"
          ],
          [
           "108"
          ],
          [
           "108"
          ],
          [
           "108"
          ],
          [
           "108"
          ]
         ],
         "hovertemplate": "cluster=%{customdata[0]}<br>UMAP-1=%{x}<br>UMAP-2=%{y}<extra></extra>",
         "legendgroup": "108",
         "marker": {
          "color": "#BAB0AC",
          "opacity": 0.8,
          "size": 8,
          "symbol": "circle"
         },
         "mode": "markers",
         "name": "108",
         "showlegend": true,
         "type": "scattergl",
         "x": {
          "bdata": "I0wNwORODcCQTQ3A3U0NwGRODcA=",
          "dtype": "f4"
         },
         "xaxis": "x",
         "y": {
          "bdata": "bx5DQJ8bQ0C/HENAaBtDQO4aQ0A=",
          "dtype": "f4"
         },
         "yaxis": "y"
        },
        {
         "customdata": [
          [
           "109"
          ],
          [
           "109"
          ],
          [
           "109"
          ],
          [
           "109"
          ],
          [
           "109"
          ]
         ],
         "hovertemplate": "cluster=%{customdata[0]}<br>UMAP-1=%{x}<br>UMAP-2=%{y}<extra></extra>",
         "legendgroup": "109",
         "marker": {
          "color": "#4C78A8",
          "opacity": 0.8,
          "size": 8,
          "symbol": "circle"
         },
         "mode": "markers",
         "name": "109",
         "showlegend": true,
         "type": "scattergl",
         "x": {
          "bdata": "Y7mDwdyBg8F8aoPB9FqDwRlbg8E=",
          "dtype": "f4"
         },
         "xaxis": "x",
         "y": {
          "bdata": "xo8Fwaj5BcGhDwbB0DoGwd5UBsE=",
          "dtype": "f4"
         },
         "yaxis": "y"
        },
        {
         "customdata": [
          [
           "110"
          ],
          [
           "110"
          ],
          [
           "110"
          ],
          [
           "110"
          ],
          [
           "110"
          ]
         ],
         "hovertemplate": "cluster=%{customdata[0]}<br>UMAP-1=%{x}<br>UMAP-2=%{y}<extra></extra>",
         "legendgroup": "110",
         "marker": {
          "color": "#F58518",
          "opacity": 0.8,
          "size": 8,
          "symbol": "circle"
         },
         "mode": "markers",
         "name": "110",
         "showlegend": true,
         "type": "scattergl",
         "x": {
          "bdata": "EybhwCL14MCh8uDAsfDgwK7v4MA=",
          "dtype": "f4"
         },
         "xaxis": "x",
         "y": {
          "bdata": "dQqCwYsTgsFSFILB2hSCwSQVgsE=",
          "dtype": "f4"
         },
         "yaxis": "y"
        },
        {
         "customdata": [
          [
           "111"
          ],
          [
           "111"
          ],
          [
           "111"
          ],
          [
           "111"
          ],
          [
           "111"
          ]
         ],
         "hovertemplate": "cluster=%{customdata[0]}<br>UMAP-1=%{x}<br>UMAP-2=%{y}<extra></extra>",
         "legendgroup": "111",
         "marker": {
          "color": "#E45756",
          "opacity": 0.8,
          "size": 8,
          "symbol": "circle"
         },
         "mode": "markers",
         "name": "111",
         "showlegend": true,
         "type": "scattergl",
         "x": {
          "bdata": "Cbe7P20DvD+b3Lw/eqK7P8WNuz8=",
          "dtype": "f4"
         },
         "xaxis": "x",
         "y": {
          "bdata": "/4GBwcyHgcELlYHB7ICBweF/gcE=",
          "dtype": "f4"
         },
         "yaxis": "y"
        },
        {
         "customdata": [
          [
           "112"
          ],
          [
           "112"
          ],
          [
           "112"
          ],
          [
           "112"
          ],
          [
           "112"
          ]
         ],
         "hovertemplate": "cluster=%{customdata[0]}<br>UMAP-1=%{x}<br>UMAP-2=%{y}<extra></extra>",
         "legendgroup": "112",
         "marker": {
          "color": "#72B7B2",
          "opacity": 0.8,
          "size": 8,
          "symbol": "circle"
         },
         "mode": "markers",
         "name": "112",
         "showlegend": true,
         "type": "scattergl",
         "x": {
          "bdata": "OdvtQLhE7kDA8u1ANSHuQCfC7kA=",
          "dtype": "f4"
         },
         "xaxis": "x",
         "y": {
          "bdata": "w2CywCXLssAWc7LAUKGywBdDs8A=",
          "dtype": "f4"
         },
         "yaxis": "y"
        },
        {
         "customdata": [
          [
           "113"
          ],
          [
           "113"
          ],
          [
           "113"
          ],
          [
           "113"
          ],
          [
           "113"
          ]
         ],
         "hovertemplate": "cluster=%{customdata[0]}<br>UMAP-1=%{x}<br>UMAP-2=%{y}<extra></extra>",
         "legendgroup": "113",
         "marker": {
          "color": "#54A24B",
          "opacity": 0.8,
          "size": 8,
          "symbol": "circle"
         },
         "mode": "markers",
         "name": "113",
         "showlegend": true,
         "type": "scattergl",
         "x": {
          "bdata": "0eXgwF2+4MDqIODA0NXgwAzT4MA=",
          "dtype": "f4"
         },
         "xaxis": "x",
         "y": {
          "bdata": "XxWCwVMWgsGGRoLBhBmCwREagsE=",
          "dtype": "f4"
         },
         "yaxis": "y"
        },
        {
         "customdata": [
          [
           "114"
          ],
          [
           "114"
          ],
          [
           "114"
          ],
          [
           "114"
          ],
          [
           "114"
          ]
         ],
         "hovertemplate": "cluster=%{customdata[0]}<br>UMAP-1=%{x}<br>UMAP-2=%{y}<extra></extra>",
         "legendgroup": "114",
         "marker": {
          "color": "#EECA3B",
          "opacity": 0.8,
          "size": 8,
          "symbol": "circle"
         },
         "mode": "markers",
         "name": "114",
         "showlegend": true,
         "type": "scattergl",
         "x": {
          "bdata": "hu47wZPpO8ElCTzBzCY8wZe4O8E=",
          "dtype": "f4"
         },
         "xaxis": "x",
         "y": {
          "bdata": "vFRowQBQaMGdb2jB3oxowRAfaME=",
          "dtype": "f4"
         },
         "yaxis": "y"
        },
        {
         "customdata": [
          [
           "115"
          ],
          [
           "115"
          ],
          [
           "115"
          ],
          [
           "115"
          ],
          [
           "115"
          ]
         ],
         "hovertemplate": "cluster=%{customdata[0]}<br>UMAP-1=%{x}<br>UMAP-2=%{y}<extra></extra>",
         "legendgroup": "115",
         "marker": {
          "color": "#B279A2",
          "opacity": 0.8,
          "size": 8,
          "symbol": "circle"
         },
         "mode": "markers",
         "name": "115",
         "showlegend": true,
         "type": "scattergl",
         "x": {
          "bdata": "ZaDgwPNi4MC05ODAfEDgwFae4cA=",
          "dtype": "f4"
         },
         "xaxis": "x",
         "y": {
          "bdata": "pieCwaM9gsHqFoLBpjuCwVTogcE=",
          "dtype": "f4"
         },
         "yaxis": "y"
        },
        {
         "customdata": [
          [
           "116"
          ],
          [
           "116"
          ],
          [
           "116"
          ],
          [
           "116"
          ],
          [
           "116"
          ]
         ],
         "hovertemplate": "cluster=%{customdata[0]}<br>UMAP-1=%{x}<br>UMAP-2=%{y}<extra></extra>",
         "legendgroup": "116",
         "marker": {
          "color": "#FF9DA6",
          "opacity": 0.8,
          "size": 8,
          "symbol": "circle"
         },
         "mode": "markers",
         "name": "116",
         "showlegend": true,
         "type": "scattergl",
         "x": {
          "bdata": "wUC5wDb8uMCJ+rjAkNe4wDL4uMA=",
          "dtype": "f4"
         },
         "xaxis": "x",
         "y": {
          "bdata": "LCm2wMrltcBt47XA6L+1wJDitcA=",
          "dtype": "f4"
         },
         "yaxis": "y"
        },
        {
         "customdata": [
          [
           "117"
          ],
          [
           "117"
          ],
          [
           "117"
          ],
          [
           "117"
          ],
          [
           "117"
          ]
         ],
         "hovertemplate": "cluster=%{customdata[0]}<br>UMAP-1=%{x}<br>UMAP-2=%{y}<extra></extra>",
         "legendgroup": "117",
         "marker": {
          "color": "#9D755D",
          "opacity": 0.8,
          "size": 8,
          "symbol": "circle"
         },
         "mode": "markers",
         "name": "117",
         "showlegend": true,
         "type": "scattergl",
         "x": {
          "bdata": "NEC4wLf7uMDBBbnAAPu4wEVrucA=",
          "dtype": "f4"
         },
         "xaxis": "x",
         "y": {
          "bdata": "1C+1wDDltcBN7bXACue1wLpVtsA=",
          "dtype": "f4"
         },
         "yaxis": "y"
        },
        {
         "customdata": [
          [
           "118"
          ],
          [
           "118"
          ],
          [
           "118"
          ],
          [
           "118"
          ],
          [
           "118"
          ]
         ],
         "hovertemplate": "cluster=%{customdata[0]}<br>UMAP-1=%{x}<br>UMAP-2=%{y}<extra></extra>",
         "legendgroup": "118",
         "marker": {
          "color": "#BAB0AC",
          "opacity": 0.8,
          "size": 8,
          "symbol": "circle"
         },
         "mode": "markers",
         "name": "118",
         "showlegend": true,
         "type": "scattergl",
         "x": {
          "bdata": "IbE7wa7hO8HHyjvBTuo7wZPHO8E=",
          "dtype": "f4"
         },
         "xaxis": "x",
         "y": {
          "bdata": "cBdowRlIaMFvMWjBIVFowUEuaME=",
          "dtype": "f4"
         },
         "yaxis": "y"
        },
        {
         "customdata": [
          [
           "119"
          ],
          [
           "119"
          ],
          [
           "119"
          ],
          [
           "119"
          ],
          [
           "119"
          ]
         ],
         "hovertemplate": "cluster=%{customdata[0]}<br>UMAP-1=%{x}<br>UMAP-2=%{y}<extra></extra>",
         "legendgroup": "119",
         "marker": {
          "color": "#4C78A8",
          "opacity": 0.8,
          "size": 8,
          "symbol": "circle"
         },
         "mode": "markers",
         "name": "119",
         "showlegend": true,
         "type": "scattergl",
         "x": {
          "bdata": "cMU7wRJ8PMEQ8zvBGfI7wZ3kO8E=",
          "dtype": "f4"
         },
         "xaxis": "x",
         "y": {
          "bdata": "qytowc/iaMF4WWjBsVhowfNKaME=",
          "dtype": "f4"
         },
         "yaxis": "y"
        },
        {
         "customdata": [
          [
           "120"
          ],
          [
           "120"
          ],
          [
           "120"
          ],
          [
           "120"
          ],
          [
           "120"
          ]
         ],
         "hovertemplate": "cluster=%{customdata[0]}<br>UMAP-1=%{x}<br>UMAP-2=%{y}<extra></extra>",
         "legendgroup": "120",
         "marker": {
          "color": "#F58518",
          "opacity": 0.8,
          "size": 8,
          "symbol": "circle"
         },
         "mode": "markers",
         "name": "120",
         "showlegend": true,
         "type": "scattergl",
         "x": {
          "bdata": "FdCuvzpIs7/7RrK/VJqzv6SBsb8=",
          "dtype": "f4"
         },
         "xaxis": "x",
         "y": {
          "bdata": "sgbcQMsj3UCD4txAFzndQDGz3EA=",
          "dtype": "f4"
         },
         "yaxis": "y"
        },
        {
         "customdata": [
          [
           "121"
          ],
          [
           "121"
          ],
          [
           "121"
          ],
          [
           "121"
          ],
          [
           "121"
          ]
         ],
         "hovertemplate": "cluster=%{customdata[0]}<br>UMAP-1=%{x}<br>UMAP-2=%{y}<extra></extra>",
         "legendgroup": "121",
         "marker": {
          "color": "#E45756",
          "opacity": 0.8,
          "size": 8,
          "symbol": "circle"
         },
         "mode": "markers",
         "name": "121",
         "showlegend": true,
         "type": "scattergl",
         "x": {
          "bdata": "lCeLvokzkb5z/4q+J9WCvqDWmL4=",
          "dtype": "f4"
         },
         "xaxis": "x",
         "y": {
          "bdata": "P0THwCekx8BQPsfArr3GwHYfyMA=",
          "dtype": "f4"
         },
         "yaxis": "y"
        },
        {
         "customdata": [
          [
           "122"
          ],
          [
           "122"
          ],
          [
           "122"
          ],
          [
           "122"
          ],
          [
           "122"
          ]
         ],
         "hovertemplate": "cluster=%{customdata[0]}<br>UMAP-1=%{x}<br>UMAP-2=%{y}<extra></extra>",
         "legendgroup": "122",
         "marker": {
          "color": "#72B7B2",
          "opacity": 0.8,
          "size": 8,
          "symbol": "circle"
         },
         "mode": "markers",
         "name": "122",
         "showlegend": true,
         "type": "scattergl",
         "x": {
          "bdata": "RxeGvo7mgL7em4K+gQ6DvqcCcb4=",
          "dtype": "f4"
         },
         "xaxis": "x",
         "y": {
          "bdata": "lPLGwJycxsD3usbAer/GwP4dxsA=",
          "dtype": "f4"
         },
         "yaxis": "y"
        },
        {
         "customdata": [
          [
           "123"
          ],
          [
           "123"
          ],
          [
           "123"
          ],
          [
           "123"
          ],
          [
           "123"
          ]
         ],
         "hovertemplate": "cluster=%{customdata[0]}<br>UMAP-1=%{x}<br>UMAP-2=%{y}<extra></extra>",
         "legendgroup": "123",
         "marker": {
          "color": "#54A24B",
          "opacity": 0.8,
          "size": 8,
          "symbol": "circle"
         },
         "mode": "markers",
         "name": "123",
         "showlegend": true,
         "type": "scattergl",
         "x": {
          "bdata": "x7SLwbvri8EYCozB0eyLwQrmi8E=",
          "dtype": "f4"
         },
         "xaxis": "x",
         "y": {
          "bdata": "6puSP2ohjz+WQI0/XROPPwJ/jz8=",
          "dtype": "f4"
         },
         "yaxis": "y"
        },
        {
         "customdata": [
          [
           "124"
          ],
          [
           "124"
          ],
          [
           "124"
          ],
          [
           "124"
          ],
          [
           "124"
          ]
         ],
         "hovertemplate": "cluster=%{customdata[0]}<br>UMAP-1=%{x}<br>UMAP-2=%{y}<extra></extra>",
         "legendgroup": "124",
         "marker": {
          "color": "#EECA3B",
          "opacity": 0.8,
          "size": 8,
          "symbol": "circle"
         },
         "mode": "markers",
         "name": "124",
         "showlegend": true,
         "type": "scattergl",
         "x": {
          "bdata": "GPR2wcKjdsGOnXbBTH12waV+dsE=",
          "dtype": "f4"
         },
         "xaxis": "x",
         "y": {
          "bdata": "p0UDwRtTA8FfbAPBDFoDwcArA8E=",
          "dtype": "f4"
         },
         "yaxis": "y"
        },
        {
         "customdata": [
          [
           "125"
          ],
          [
           "125"
          ],
          [
           "125"
          ],
          [
           "125"
          ],
          [
           "125"
          ]
         ],
         "hovertemplate": "cluster=%{customdata[0]}<br>UMAP-1=%{x}<br>UMAP-2=%{y}<extra></extra>",
         "legendgroup": "125",
         "marker": {
          "color": "#B279A2",
          "opacity": 0.8,
          "size": 8,
          "symbol": "circle"
         },
         "mode": "markers",
         "name": "125",
         "showlegend": true,
         "type": "scattergl",
         "x": {
          "bdata": "nSShv7Ulo78nl6O/71qgv30Por8=",
          "dtype": "f4"
         },
         "xaxis": "x",
         "y": {
          "bdata": "2FzMQQxxzEEne8xBR07MQdhczEE=",
          "dtype": "f4"
         },
         "yaxis": "y"
        },
        {
         "customdata": [
          [
           "126"
          ],
          [
           "126"
          ],
          [
           "126"
          ],
          [
           "126"
          ],
          [
           "126"
          ]
         ],
         "hovertemplate": "cluster=%{customdata[0]}<br>UMAP-1=%{x}<br>UMAP-2=%{y}<extra></extra>",
         "legendgroup": "126",
         "marker": {
          "color": "#FF9DA6",
          "opacity": 0.8,
          "size": 8,
          "symbol": "circle"
         },
         "mode": "markers",
         "name": "126",
         "showlegend": true,
         "type": "scattergl",
         "x": {
          "bdata": "OxKjQDgxo0AGyKJAavyhQHO9okA=",
          "dtype": "f4"
         },
         "xaxis": "x",
         "y": {
          "bdata": "Am2FQXFrhUFxdIVBfzqFQR2HhUE=",
          "dtype": "f4"
         },
         "yaxis": "y"
        },
        {
         "customdata": [
          [
           "127"
          ],
          [
           "127"
          ],
          [
           "127"
          ],
          [
           "127"
          ],
          [
           "127"
          ]
         ],
         "hovertemplate": "cluster=%{customdata[0]}<br>UMAP-1=%{x}<br>UMAP-2=%{y}<extra></extra>",
         "legendgroup": "127",
         "marker": {
          "color": "#9D755D",
          "opacity": 0.8,
          "size": 8,
          "symbol": "circle"
         },
         "mode": "markers",
         "name": "127",
         "showlegend": true,
         "type": "scattergl",
         "x": {
          "bdata": "R3PqwG796cAtPuvAmOHpwKcb6sA=",
          "dtype": "f4"
         },
         "xaxis": "x",
         "y": {
          "bdata": "FETgQclh4EG4EeBB0mjgQW5a4EE=",
          "dtype": "f4"
         },
         "yaxis": "y"
        },
        {
         "customdata": [
          [
           "128"
          ],
          [
           "128"
          ],
          [
           "128"
          ],
          [
           "128"
          ],
          [
           "128"
          ]
         ],
         "hovertemplate": "cluster=%{customdata[0]}<br>UMAP-1=%{x}<br>UMAP-2=%{y}<extra></extra>",
         "legendgroup": "128",
         "marker": {
          "color": "#BAB0AC",
          "opacity": 0.8,
          "size": 8,
          "symbol": "circle"
         },
         "mode": "markers",
         "name": "128",
         "showlegend": true,
         "type": "scattergl",
         "x": {
          "bdata": "bjDmwECq5sAJx+bALPzmwNse58A=",
          "dtype": "f4"
         },
         "xaxis": "x",
         "y": {
          "bdata": "SFThQbk14UG6LuFBXSHhQdEY4UE=",
          "dtype": "f4"
         },
         "yaxis": "y"
        },
        {
         "customdata": [
          [
           "129"
          ],
          [
           "129"
          ],
          [
           "129"
          ],
          [
           "129"
          ],
          [
           "129"
          ]
         ],
         "hovertemplate": "cluster=%{customdata[0]}<br>UMAP-1=%{x}<br>UMAP-2=%{y}<extra></extra>",
         "legendgroup": "129",
         "marker": {
          "color": "#4C78A8",
          "opacity": 0.8,
          "size": 8,
          "symbol": "circle"
         },
         "mode": "markers",
         "name": "129",
         "showlegend": true,
         "type": "scattergl",
         "x": {
          "bdata": "v/9vv+cNcb/k13O/3Ahxv4hpbb8=",
          "dtype": "f4"
         },
         "xaxis": "x",
         "y": {
          "bdata": "YOugQZPioEFRyaBBk+KgQe3/oEE=",
          "dtype": "f4"
         },
         "yaxis": "y"
        },
        {
         "customdata": [
          [
           "130"
          ],
          [
           "130"
          ],
          [
           "130"
          ],
          [
           "130"
          ],
          [
           "130"
          ]
         ],
         "hovertemplate": "cluster=%{customdata[0]}<br>UMAP-1=%{x}<br>UMAP-2=%{y}<extra></extra>",
         "legendgroup": "130",
         "marker": {
          "color": "#F58518",
          "opacity": 0.8,
          "size": 8,
          "symbol": "circle"
         },
         "mode": "markers",
         "name": "130",
         "showlegend": true,
         "type": "scattergl",
         "x": {
          "bdata": "CGyiQNT0okBeiKJAGvyhQAKCokA=",
          "dtype": "f4"
         },
         "xaxis": "x",
         "y": {
          "bdata": "DEyFQXU2hUFVkYVBmnaFQWuKhUE=",
          "dtype": "f4"
         },
         "yaxis": "y"
        },
        {
         "customdata": [
          [
           "131"
          ],
          [
           "131"
          ],
          [
           "131"
          ],
          [
           "131"
          ],
          [
           "131"
          ]
         ],
         "hovertemplate": "cluster=%{customdata[0]}<br>UMAP-1=%{x}<br>UMAP-2=%{y}<extra></extra>",
         "legendgroup": "131",
         "marker": {
          "color": "#E45756",
          "opacity": 0.8,
          "size": 8,
          "symbol": "circle"
         },
         "mode": "markers",
         "name": "131",
         "showlegend": true,
         "type": "scattergl",
         "x": {
          "bdata": "1rWiQGPSokC/s6JAnmOiQHbrokA=",
          "dtype": "f4"
         },
         "xaxis": "x",
         "y": {
          "bdata": "L/uFQVfThUEIoIVBiamFQZXLhUE=",
          "dtype": "f4"
         },
         "yaxis": "y"
        },
        {
         "customdata": [
          [
           "132"
          ],
          [
           "132"
          ],
          [
           "132"
          ],
          [
           "132"
          ],
          [
           "132"
          ]
         ],
         "hovertemplate": "cluster=%{customdata[0]}<br>UMAP-1=%{x}<br>UMAP-2=%{y}<extra></extra>",
         "legendgroup": "132",
         "marker": {
          "color": "#72B7B2",
          "opacity": 0.8,
          "size": 8,
          "symbol": "circle"
         },
         "mode": "markers",
         "name": "132",
         "showlegend": true,
         "type": "scattergl",
         "x": {
          "bdata": "ESH8wCjR/MDZJ/3AfWj8wNb6/MA=",
          "dtype": "f4"
         },
         "xaxis": "x",
         "y": {
          "bdata": "e9ucQY4InUGnHZ1B9u2cQdYSnUE=",
          "dtype": "f4"
         },
         "yaxis": "y"
        },
        {
         "customdata": [
          [
           "133"
          ],
          [
           "133"
          ],
          [
           "133"
          ],
          [
           "133"
          ],
          [
           "133"
          ]
         ],
         "hovertemplate": "cluster=%{customdata[0]}<br>UMAP-1=%{x}<br>UMAP-2=%{y}<extra></extra>",
         "legendgroup": "133",
         "marker": {
          "color": "#54A24B",
          "opacity": 0.8,
          "size": 8,
          "symbol": "circle"
         },
         "mode": "markers",
         "name": "133",
         "showlegend": true,
         "type": "scattergl",
         "x": {
          "bdata": "xsuYv6WemL9rr5e/6vqYvx9rlr8=",
          "dtype": "f4"
         },
         "xaxis": "x",
         "y": {
          "bdata": "LdbLQXvUy0HYyMtByNrLQa+yy0E=",
          "dtype": "f4"
         },
         "yaxis": "y"
        },
        {
         "customdata": [
          [
           "134"
          ],
          [
           "134"
          ],
          [
           "134"
          ],
          [
           "134"
          ],
          [
           "134"
          ]
         ],
         "hovertemplate": "cluster=%{customdata[0]}<br>UMAP-1=%{x}<br>UMAP-2=%{y}<extra></extra>",
         "legendgroup": "134",
         "marker": {
          "color": "#EECA3B",
          "opacity": 0.8,
          "size": 8,
          "symbol": "circle"
         },
         "mode": "markers",
         "name": "134",
         "showlegend": true,
         "type": "scattergl",
         "x": {
          "bdata": "5wBfwNHjXsAKEF/A6HRfwB/MXcA=",
          "dtype": "f4"
         },
         "xaxis": "x",
         "y": {
          "bdata": "ID9aQaNFWkE6O1pBGSJaQRSOWkE=",
          "dtype": "f4"
         },
         "yaxis": "y"
        },
        {
         "customdata": [
          [
           "135"
          ],
          [
           "135"
          ],
          [
           "135"
          ],
          [
           "135"
          ],
          [
           "135"
          ]
         ],
         "hovertemplate": "cluster=%{customdata[0]}<br>UMAP-1=%{x}<br>UMAP-2=%{y}<extra></extra>",
         "legendgroup": "135",
         "marker": {
          "color": "#B279A2",
          "opacity": 0.8,
          "size": 8,
          "symbol": "circle"
         },
         "mode": "markers",
         "name": "135",
         "showlegend": true,
         "type": "scattergl",
         "x": {
          "bdata": "os5pQEzRaUC3HGpAr9ZpQCfYaUA=",
          "dtype": "f4"
         },
         "xaxis": "x",
         "y": {
          "bdata": "nojBv0+Jwb8gZMG/yn3Bv5p9wb8=",
          "dtype": "f4"
         },
         "yaxis": "y"
        },
        {
         "customdata": [
          [
           "136"
          ],
          [
           "136"
          ],
          [
           "136"
          ],
          [
           "136"
          ],
          [
           "136"
          ]
         ],
         "hovertemplate": "cluster=%{customdata[0]}<br>UMAP-1=%{x}<br>UMAP-2=%{y}<extra></extra>",
         "legendgroup": "136",
         "marker": {
          "color": "#FF9DA6",
          "opacity": 0.8,
          "size": 8,
          "symbol": "circle"
         },
         "mode": "markers",
         "name": "136",
         "showlegend": true,
         "type": "scattergl",
         "x": {
          "bdata": "Zy7fwF3f3sDT2t7AgGPfwDkM38A=",
          "dtype": "f4"
         },
         "xaxis": "x",
         "y": {
          "bdata": "F2HOP+Gnzz9ZsM8/SZfNPw3kzj8=",
          "dtype": "f4"
         },
         "yaxis": "y"
        },
        {
         "customdata": [
          [
           "137"
          ],
          [
           "137"
          ],
          [
           "137"
          ],
          [
           "137"
          ],
          [
           "137"
          ]
         ],
         "hovertemplate": "cluster=%{customdata[0]}<br>UMAP-1=%{x}<br>UMAP-2=%{y}<extra></extra>",
         "legendgroup": "137",
         "marker": {
          "color": "#9D755D",
          "opacity": 0.8,
          "size": 8,
          "symbol": "circle"
         },
         "mode": "markers",
         "name": "137",
         "showlegend": true,
         "type": "scattergl",
         "x": {
          "bdata": "s5evwGSlr8DWpK/A4qSvwKOrr8A=",
          "dtype": "f4"
         },
         "xaxis": "x",
         "y": {
          "bdata": "UEygQVtMoEGETKBBXkygQTVMoEE=",
          "dtype": "f4"
         },
         "yaxis": "y"
        },
        {
         "customdata": [
          [
           "138"
          ],
          [
           "138"
          ],
          [
           "138"
          ],
          [
           "138"
          ],
          [
           "138"
          ]
         ],
         "hovertemplate": "cluster=%{customdata[0]}<br>UMAP-1=%{x}<br>UMAP-2=%{y}<extra></extra>",
         "legendgroup": "138",
         "marker": {
          "color": "#BAB0AC",
          "opacity": 0.8,
          "size": 8,
          "symbol": "circle"
         },
         "mode": "markers",
         "name": "138",
         "showlegend": true,
         "type": "scattergl",
         "x": {
          "bdata": "5ALdwJMK3cAzSd3A0ljdwGpw3cA=",
          "dtype": "f4"
         },
         "xaxis": "x",
         "y": {
          "bdata": "viDXP8Tx1j9lBNY/I8DVP+dp1T8=",
          "dtype": "f4"
         },
         "yaxis": "y"
        },
        {
         "customdata": [
          [
           "139"
          ],
          [
           "139"
          ],
          [
           "139"
          ],
          [
           "139"
          ],
          [
           "139"
          ]
         ],
         "hovertemplate": "cluster=%{customdata[0]}<br>UMAP-1=%{x}<br>UMAP-2=%{y}<extra></extra>",
         "legendgroup": "139",
         "marker": {
          "color": "#4C78A8",
          "opacity": 0.8,
          "size": 8,
          "symbol": "circle"
         },
         "mode": "markers",
         "name": "139",
         "showlegend": true,
         "type": "scattergl",
         "x": {
          "bdata": "j5XewNN+3sDjL97AXoDewBu83sA=",
          "dtype": "f4"
         },
         "xaxis": "x",
         "y": {
          "bdata": "usnQP3ke0T9NZtI/DiTRP7450D8=",
          "dtype": "f4"
         },
         "yaxis": "y"
        },
        {
         "customdata": [
          [
           "140"
          ],
          [
           "140"
          ],
          [
           "140"
          ],
          [
           "140"
          ],
          [
           "140"
          ]
         ],
         "hovertemplate": "cluster=%{customdata[0]}<br>UMAP-1=%{x}<br>UMAP-2=%{y}<extra></extra>",
         "legendgroup": "140",
         "marker": {
          "color": "#F58518",
          "opacity": 0.8,
          "size": 8,
          "symbol": "circle"
         },
         "mode": "markers",
         "name": "140",
         "showlegend": true,
         "type": "scattergl",
         "x": {
          "bdata": "GkXQwM1G0MA+48/AAGDQwG/4z8A=",
          "dtype": "f4"
         },
         "xaxis": "x",
         "y": {
          "bdata": "MLgkQam3JEHz6yRBuqwkQULgJEE=",
          "dtype": "f4"
         },
         "yaxis": "y"
        },
        {
         "customdata": [
          [
           "141"
          ],
          [
           "141"
          ],
          [
           "141"
          ],
          [
           "141"
          ],
          [
           "141"
          ]
         ],
         "hovertemplate": "cluster=%{customdata[0]}<br>UMAP-1=%{x}<br>UMAP-2=%{y}<extra></extra>",
         "legendgroup": "141",
         "marker": {
          "color": "#E45756",
          "opacity": 0.8,
          "size": 8,
          "symbol": "circle"
         },
         "mode": "markers",
         "name": "141",
         "showlegend": true,
         "type": "scattergl",
         "x": {
          "bdata": "mGWbQONmm0CdMZtAwWWbQJtlm0A=",
          "dtype": "f4"
         },
         "xaxis": "x",
         "y": {
          "bdata": "aQ4BQeQNAUGHKgFByQ4BQekOAUE=",
          "dtype": "f4"
         },
         "yaxis": "y"
        },
        {
         "customdata": [
          [
           "142"
          ],
          [
           "142"
          ],
          [
           "142"
          ],
          [
           "142"
          ],
          [
           "142"
          ]
         ],
         "hovertemplate": "cluster=%{customdata[0]}<br>UMAP-1=%{x}<br>UMAP-2=%{y}<extra></extra>",
         "legendgroup": "142",
         "marker": {
          "color": "#72B7B2",
          "opacity": 0.8,
          "size": 8,
          "symbol": "circle"
         },
         "mode": "markers",
         "name": "142",
         "showlegend": true,
         "type": "scattergl",
         "x": {
          "bdata": "GUfQwFDP0MCA0tDA2UnQwKZK0MA=",
          "dtype": "f4"
         },
         "xaxis": "x",
         "y": {
          "bdata": "ArkkQXFzJEHMcyRB0rckQQ+3JEE=",
          "dtype": "f4"
         },
         "yaxis": "y"
        },
        {
         "customdata": [
          [
           "143"
          ],
          [
           "143"
          ],
          [
           "143"
          ],
          [
           "143"
          ],
          [
           "143"
          ]
         ],
         "hovertemplate": "cluster=%{customdata[0]}<br>UMAP-1=%{x}<br>UMAP-2=%{y}<extra></extra>",
         "legendgroup": "143",
         "marker": {
          "color": "#54A24B",
          "opacity": 0.8,
          "size": 8,
          "symbol": "circle"
         },
         "mode": "markers",
         "name": "143",
         "showlegend": true,
         "type": "scattergl",
         "x": {
          "bdata": "lGjdwKPO3cB3Rt7AYaPdwKTY3cA=",
          "dtype": "f4"
         },
         "xaxis": "x",
         "y": {
          "bdata": "gXXVP+Pn0z9KEdI/gJbUP5a60z8=",
          "dtype": "f4"
         },
         "yaxis": "y"
        },
        {
         "customdata": [
          [
           "144"
          ],
          [
           "144"
          ],
          [
           "144"
          ],
          [
           "144"
          ],
          [
           "144"
          ]
         ],
         "hovertemplate": "cluster=%{customdata[0]}<br>UMAP-1=%{x}<br>UMAP-2=%{y}<extra></extra>",
         "legendgroup": "144",
         "marker": {
          "color": "#EECA3B",
          "opacity": 0.8,
          "size": 8,
          "symbol": "circle"
         },
         "mode": "markers",
         "name": "144",
         "showlegend": true,
         "type": "scattergl",
         "x": {
          "bdata": "MCu7v6YgvL/3t7m/ege7v9wFu78=",
          "dtype": "f4"
         },
         "xaxis": "x",
         "y": {
          "bdata": "hBLfQMNP30CUst5AmArfQJ0K30A=",
          "dtype": "f4"
         },
         "yaxis": "y"
        },
        {
         "customdata": [
          [
           "145"
          ],
          [
           "145"
          ],
          [
           "145"
          ],
          [
           "145"
          ],
          [
           "145"
          ]
         ],
         "hovertemplate": "cluster=%{customdata[0]}<br>UMAP-1=%{x}<br>UMAP-2=%{y}<extra></extra>",
         "legendgroup": "145",
         "marker": {
          "color": "#B279A2",
          "opacity": 0.8,
          "size": 8,
          "symbol": "circle"
         },
         "mode": "markers",
         "name": "145",
         "showlegend": true,
         "type": "scattergl",
         "x": {
          "bdata": "S+lawA/vWsDx2VrADvBawBfqWsA=",
          "dtype": "f4"
         },
         "xaxis": "x",
         "y": {
          "bdata": "nOHiQDDf4kBm5eJAA+DiQPTi4kA=",
          "dtype": "f4"
         },
         "yaxis": "y"
        },
        {
         "customdata": [
          [
           "146"
          ],
          [
           "146"
          ],
          [
           "146"
          ],
          [
           "146"
          ],
          [
           "146"
          ]
         ],
         "hovertemplate": "cluster=%{customdata[0]}<br>UMAP-1=%{x}<br>UMAP-2=%{y}<extra></extra>",
         "legendgroup": "146",
         "marker": {
          "color": "#FF9DA6",
          "opacity": 0.8,
          "size": 8,
          "symbol": "circle"
         },
         "mode": "markers",
         "name": "146",
         "showlegend": true,
         "type": "scattergl",
         "x": {
          "bdata": "yNAIv7HHCL8Fzgi/0NAIvx/iCL8=",
          "dtype": "f4"
         },
         "xaxis": "x",
         "y": {
          "bdata": "UNtGQRLbRkHz2kZBiNtGQd3dRkE=",
          "dtype": "f4"
         },
         "yaxis": "y"
        },
        {
         "customdata": [
          [
           "147"
          ],
          [
           "147"
          ],
          [
           "147"
          ],
          [
           "147"
          ],
          [
           "147"
          ]
         ],
         "hovertemplate": "cluster=%{customdata[0]}<br>UMAP-1=%{x}<br>UMAP-2=%{y}<extra></extra>",
         "legendgroup": "147",
         "marker": {
          "color": "#9D755D",
          "opacity": 0.8,
          "size": 8,
          "symbol": "circle"
         },
         "mode": "markers",
         "name": "147",
         "showlegend": true,
         "type": "scattergl",
         "x": {
          "bdata": "gJRewBTkXsCWYVvAgN9ewJ91XsA=",
          "dtype": "f4"
         },
         "xaxis": "x",
         "y": {
          "bdata": "PFdaQdpFWkHNJFtBn0VaQWlgWkE=",
          "dtype": "f4"
         },
         "yaxis": "y"
        },
        {
         "customdata": [
          [
           "148"
          ],
          [
           "148"
          ],
          [
           "148"
          ],
          [
           "148"
          ],
          [
           "148"
          ]
         ],
         "hovertemplate": "cluster=%{customdata[0]}<br>UMAP-1=%{x}<br>UMAP-2=%{y}<extra></extra>",
         "legendgroup": "148",
         "marker": {
          "color": "#BAB0AC",
          "opacity": 0.8,
          "size": 8,
          "symbol": "circle"
         },
         "mode": "markers",
         "name": "148",
         "showlegend": true,
         "type": "scattergl",
         "x": {
          "bdata": "gQY0QDgQNECnCzRAEA00QFULNEA=",
          "dtype": "f4"
         },
         "xaxis": "x",
         "y": {
          "bdata": "3ggcQdUMHEHeDRxBbQ0cQS8NHEE=",
          "dtype": "f4"
         },
         "yaxis": "y"
        },
        {
         "customdata": [
          [
           "149"
          ],
          [
           "149"
          ],
          [
           "149"
          ],
          [
           "149"
          ],
          [
           "149"
          ],
          [
           "149"
          ],
          [
           "149"
          ],
          [
           "149"
          ],
          [
           "149"
          ],
          [
           "149"
          ],
          [
           "149"
          ],
          [
           "149"
          ],
          [
           "149"
          ],
          [
           "149"
          ],
          [
           "149"
          ]
         ],
         "hovertemplate": "cluster=%{customdata[0]}<br>UMAP-1=%{x}<br>UMAP-2=%{y}<extra></extra>",
         "legendgroup": "149",
         "marker": {
          "color": "#4C78A8",
          "opacity": 0.8,
          "size": 8,
          "symbol": "circle"
         },
         "mode": "markers",
         "name": "149",
         "showlegend": true,
         "type": "scattergl",
         "x": {
          "bdata": "aaQBQY2jAUF7fQFBOXEBQW6gAUHzqwFBQqUBQWSgAUH11AFBbaIBQbagAUF1qAFB55QBQVOiAUG6pQFB",
          "dtype": "f4"
         },
         "xaxis": "x",
         "y": {
          "bdata": "sglyQdQJckEpMXJB/jtyQS4OckEGA3JBLwlyQY4QckHR2nFBBQ1yQW4OckHJHXJBMhlyQS4PckGVC3JB",
          "dtype": "f4"
         },
         "yaxis": "y"
        },
        {
         "customdata": [
          [
           "150"
          ],
          [
           "150"
          ],
          [
           "150"
          ],
          [
           "150"
          ],
          [
           "150"
          ]
         ],
         "hovertemplate": "cluster=%{customdata[0]}<br>UMAP-1=%{x}<br>UMAP-2=%{y}<extra></extra>",
         "legendgroup": "150",
         "marker": {
          "color": "#F58518",
          "opacity": 0.8,
          "size": 8,
          "symbol": "circle"
         },
         "mode": "markers",
         "name": "150",
         "showlegend": true,
         "type": "scattergl",
         "x": {
          "bdata": "3zEZwa+VGcHHTBnBX4cZwXZQGcE=",
          "dtype": "f4"
         },
         "xaxis": "x",
         "y": {
          "bdata": "xgC7Qe/OukFq87pB1tq6QaDyukE=",
          "dtype": "f4"
         },
         "yaxis": "y"
        },
        {
         "customdata": [
          [
           "151"
          ],
          [
           "151"
          ],
          [
           "151"
          ],
          [
           "151"
          ],
          [
           "151"
          ]
         ],
         "hovertemplate": "cluster=%{customdata[0]}<br>UMAP-1=%{x}<br>UMAP-2=%{y}<extra></extra>",
         "legendgroup": "151",
         "marker": {
          "color": "#E45756",
          "opacity": 0.8,
          "size": 8,
          "symbol": "circle"
         },
         "mode": "markers",
         "name": "151",
         "showlegend": true,
         "type": "scattergl",
         "x": {
          "bdata": "JlgYweKrGMEHDxnBCkUYwWpqGME=",
          "dtype": "f4"
         },
         "xaxis": "x",
         "y": {
          "bdata": "/XG7QUZHu0HIFbtBrHq7QV1ou0E=",
          "dtype": "f4"
         },
         "yaxis": "y"
        },
        {
         "customdata": [
          [
           "152"
          ],
          [
           "152"
          ],
          [
           "152"
          ],
          [
           "152"
          ],
          [
           "152"
          ]
         ],
         "hovertemplate": "cluster=%{customdata[0]}<br>UMAP-1=%{x}<br>UMAP-2=%{y}<extra></extra>",
         "legendgroup": "152",
         "marker": {
          "color": "#72B7B2",
          "opacity": 0.8,
          "size": 8,
          "symbol": "circle"
         },
         "mode": "markers",
         "name": "152",
         "showlegend": true,
         "type": "scattergl",
         "x": {
          "bdata": "OZKLwZ+Ui8HXW4vBu9CLwcNki8E=",
          "dtype": "f4"
         },
         "xaxis": "x",
         "y": {
          "bdata": "ETmVP2kUlT/eoZg/AkqRP0ETmD8=",
          "dtype": "f4"
         },
         "yaxis": "y"
        },
        {
         "customdata": [
          [
           "153"
          ],
          [
           "153"
          ],
          [
           "153"
          ],
          [
           "153"
          ],
          [
           "153"
          ]
         ],
         "hovertemplate": "cluster=%{customdata[0]}<br>UMAP-1=%{x}<br>UMAP-2=%{y}<extra></extra>",
         "legendgroup": "153",
         "marker": {
          "color": "#54A24B",
          "opacity": 0.8,
          "size": 8,
          "symbol": "circle"
         },
         "mode": "markers",
         "name": "153",
         "showlegend": true,
         "type": "scattergl",
         "x": {
          "bdata": "u56LwQNwi8GukIvBRZWLwYOIi8E=",
          "dtype": "f4"
         },
         "xaxis": "x",
         "y": {
          "bdata": "WqCUP/+Nlz9OhJU/OjqVP5EFlj8=",
          "dtype": "f4"
         },
         "yaxis": "y"
        },
        {
         "customdata": [
          [
           "154"
          ],
          [
           "154"
          ],
          [
           "154"
          ],
          [
           "154"
          ],
          [
           "154"
          ]
         ],
         "hovertemplate": "cluster=%{customdata[0]}<br>UMAP-1=%{x}<br>UMAP-2=%{y}<extra></extra>",
         "legendgroup": "154",
         "marker": {
          "color": "#EECA3B",
          "opacity": 0.8,
          "size": 8,
          "symbol": "circle"
         },
         "mode": "markers",
         "name": "154",
         "showlegend": true,
         "type": "scattergl",
         "x": {
          "bdata": "byizwXwOs8H3MrPBpkazwfMas8E=",
          "dtype": "f4"
         },
         "xaxis": "x",
         "y": {
          "bdata": "5SI2QMfyNkCUzzVAQjI1QOmONkA=",
          "dtype": "f4"
         },
         "yaxis": "y"
        },
        {
         "customdata": [
          [
           "155"
          ],
          [
           "155"
          ],
          [
           "155"
          ],
          [
           "155"
          ],
          [
           "155"
          ]
         ],
         "hovertemplate": "cluster=%{customdata[0]}<br>UMAP-1=%{x}<br>UMAP-2=%{y}<extra></extra>",
         "legendgroup": "155",
         "marker": {
          "color": "#B279A2",
          "opacity": 0.8,
          "size": 8,
          "symbol": "circle"
         },
         "mode": "markers",
         "name": "155",
         "showlegend": true,
         "type": "scattergl",
         "x": {
          "bdata": "eQKzwfO/ssGGz7LByuSywcHxssE=",
          "dtype": "f4"
         },
         "xaxis": "x",
         "y": {
          "bdata": "MVE3QJhmOUDT6ThAzUA4QJXaN0A=",
          "dtype": "f4"
         },
         "yaxis": "y"
        },
        {
         "customdata": [
          [
           "156"
          ],
          [
           "156"
          ],
          [
           "156"
          ],
          [
           "156"
          ],
          [
           "156"
          ]
         ],
         "hovertemplate": "cluster=%{customdata[0]}<br>UMAP-1=%{x}<br>UMAP-2=%{y}<extra></extra>",
         "legendgroup": "156",
         "marker": {
          "color": "#FF9DA6",
          "opacity": 0.8,
          "size": 8,
          "symbol": "circle"
         },
         "mode": "markers",
         "name": "156",
         "showlegend": true,
         "type": "scattergl",
         "x": {
          "bdata": "T4OLwZRki8GyUYvBNH2LwcRYi8E=",
          "dtype": "f4"
         },
         "xaxis": "x",
         "y": {
          "bdata": "FnuWPxxkmD/Mk5k/CNiWP0gfmT8=",
          "dtype": "f4"
         },
         "yaxis": "y"
        },
        {
         "customdata": [
          [
           "157"
          ],
          [
           "157"
          ],
          [
           "157"
          ],
          [
           "157"
          ],
          [
           "157"
          ]
         ],
         "hovertemplate": "cluster=%{customdata[0]}<br>UMAP-1=%{x}<br>UMAP-2=%{y}<extra></extra>",
         "legendgroup": "157",
         "marker": {
          "color": "#9D755D",
          "opacity": 0.8,
          "size": 8,
          "symbol": "circle"
         },
         "mode": "markers",
         "name": "157",
         "showlegend": true,
         "type": "scattergl",
         "x": {
          "bdata": "b8gYwRLrF8FrlxjBKFcYwaBMGME=",
          "dtype": "f4"
         },
         "xaxis": "x",
         "y": {
          "bdata": "ajm7QQKou0HFUbtB73G7QQh3u0E=",
          "dtype": "f4"
         },
         "yaxis": "y"
        },
        {
         "customdata": [
          [
           "158"
          ],
          [
           "158"
          ],
          [
           "158"
          ],
          [
           "158"
          ],
          [
           "158"
          ]
         ],
         "hovertemplate": "cluster=%{customdata[0]}<br>UMAP-1=%{x}<br>UMAP-2=%{y}<extra></extra>",
         "legendgroup": "158",
         "marker": {
          "color": "#BAB0AC",
          "opacity": 0.8,
          "size": 8,
          "symbol": "circle"
         },
         "mode": "markers",
         "name": "158",
         "showlegend": true,
         "type": "scattergl",
         "x": {
          "bdata": "DwYcQay7G0H2/RtBzP0bQcSwG0E=",
          "dtype": "f4"
         },
         "xaxis": "x",
         "y": {
          "bdata": "msgJwGuhCMCNqAnAqacJwCu1CMA=",
          "dtype": "f4"
         },
         "yaxis": "y"
        },
        {
         "customdata": [
          [
           "159"
          ],
          [
           "159"
          ],
          [
           "159"
          ],
          [
           "159"
          ],
          [
           "159"
          ]
         ],
         "hovertemplate": "cluster=%{customdata[0]}<br>UMAP-1=%{x}<br>UMAP-2=%{y}<extra></extra>",
         "legendgroup": "159",
         "marker": {
          "color": "#4C78A8",
          "opacity": 0.8,
          "size": 8,
          "symbol": "circle"
         },
         "mode": "markers",
         "name": "159",
         "showlegend": true,
         "type": "scattergl",
         "x": {
          "bdata": "SQscQaV/HEEKkhxBUFMcQVWGHEE=",
          "dtype": "f4"
         },
         "xaxis": "x",
         "y": {
          "bdata": "SHIJwH6PC8AR1wvA1d4KwLGpC8A=",
          "dtype": "f4"
         },
         "yaxis": "y"
        },
        {
         "customdata": [
          [
           "160"
          ],
          [
           "160"
          ],
          [
           "160"
          ],
          [
           "160"
          ],
          [
           "160"
          ]
         ],
         "hovertemplate": "cluster=%{customdata[0]}<br>UMAP-1=%{x}<br>UMAP-2=%{y}<extra></extra>",
         "legendgroup": "160",
         "marker": {
          "color": "#F58518",
          "opacity": 0.8,
          "size": 8,
          "symbol": "circle"
         },
         "mode": "markers",
         "name": "160",
         "showlegend": true,
         "type": "scattergl",
         "x": {
          "bdata": "LhcZwVudGcGmeRnBTfYYwYGhGME=",
          "dtype": "f4"
         },
         "xaxis": "x",
         "y": {
          "bdata": "IP66QVO7ukEuzbpBHA+7Qbg5u0E=",
          "dtype": "f4"
         },
         "yaxis": "y"
        },
        {
         "customdata": [
          [
           "161"
          ],
          [
           "161"
          ],
          [
           "161"
          ],
          [
           "161"
          ],
          [
           "161"
          ]
         ],
         "hovertemplate": "cluster=%{customdata[0]}<br>UMAP-1=%{x}<br>UMAP-2=%{y}<extra></extra>",
         "legendgroup": "161",
         "marker": {
          "color": "#E45756",
          "opacity": 0.8,
          "size": 8,
          "symbol": "circle"
         },
         "mode": "markers",
         "name": "161",
         "showlegend": true,
         "type": "scattergl",
         "x": {
          "bdata": "o54OwaNPDsF1hA7BDW4OwS/mDsE=",
          "dtype": "f4"
         },
         "xaxis": "x",
         "y": {
          "bdata": "FGFJQXB8SUELdklBFZZJQR8ySUE=",
          "dtype": "f4"
         },
         "yaxis": "y"
        },
        {
         "customdata": [
          [
           "162"
          ],
          [
           "162"
          ],
          [
           "162"
          ],
          [
           "162"
          ],
          [
           "162"
          ]
         ],
         "hovertemplate": "cluster=%{customdata[0]}<br>UMAP-1=%{x}<br>UMAP-2=%{y}<extra></extra>",
         "legendgroup": "162",
         "marker": {
          "color": "#72B7B2",
          "opacity": 0.8,
          "size": 8,
          "symbol": "circle"
         },
         "mode": "markers",
         "name": "162",
         "showlegend": true,
         "type": "scattergl",
         "x": {
          "bdata": "uMoQwfniEMELHhHBSo8RwQbjEME=",
          "dtype": "f4"
         },
         "xaxis": "x",
         "y": {
          "bdata": "nOVHQaDdR0E/uEdB7l9HQQfPR0E=",
          "dtype": "f4"
         },
         "yaxis": "y"
        },
        {
         "customdata": [
          [
           "163"
          ],
          [
           "163"
          ],
          [
           "163"
          ],
          [
           "163"
          ],
          [
           "163"
          ]
         ],
         "hovertemplate": "cluster=%{customdata[0]}<br>UMAP-1=%{x}<br>UMAP-2=%{y}<extra></extra>",
         "legendgroup": "163",
         "marker": {
          "color": "#54A24B",
          "opacity": 0.8,
          "size": 8,
          "symbol": "circle"
         },
         "mode": "markers",
         "name": "163",
         "showlegend": true,
         "type": "scattergl",
         "x": {
          "bdata": "6ReLwS4hi8GYCYvBzf2KwQ35isE=",
          "dtype": "f4"
         },
         "xaxis": "x",
         "y": {
          "bdata": "X+ucP1FWnD/bzp0/442eP9vbnj8=",
          "dtype": "f4"
         },
         "yaxis": "y"
        },
        {
         "customdata": [
          [
           "164"
          ],
          [
           "164"
          ],
          [
           "164"
          ],
          [
           "164"
          ],
          [
           "164"
          ]
         ],
         "hovertemplate": "cluster=%{customdata[0]}<br>UMAP-1=%{x}<br>UMAP-2=%{y}<extra></extra>",
         "legendgroup": "164",
         "marker": {
          "color": "#EECA3B",
          "opacity": 0.8,
          "size": 8,
          "symbol": "circle"
         },
         "mode": "markers",
         "name": "164",
         "showlegend": true,
         "type": "scattergl",
         "x": {
          "bdata": "mBMZweKEGcH3axjBjzUZwT9IGcE=",
          "dtype": "f4"
         },
         "xaxis": "x",
         "y": {
          "bdata": "9w67QQ7WukEfYrtBMiq7QRL1ukE=",
          "dtype": "f4"
         },
         "yaxis": "y"
        },
        {
         "customdata": [
          [
           "165"
          ],
          [
           "165"
          ],
          [
           "165"
          ],
          [
           "165"
          ],
          [
           "165"
          ]
         ],
         "hovertemplate": "cluster=%{customdata[0]}<br>UMAP-1=%{x}<br>UMAP-2=%{y}<extra></extra>",
         "legendgroup": "165",
         "marker": {
          "color": "#B279A2",
          "opacity": 0.8,
          "size": 8,
          "symbol": "circle"
         },
         "mode": "markers",
         "name": "165",
         "showlegend": true,
         "type": "scattergl",
         "x": {
          "bdata": "dEsOwaqNDsFn/Q7BBkEOwW/cDsE=",
          "dtype": "f4"
         },
         "xaxis": "x",
         "y": {
          "bdata": "FXNKQf0/SkH7aUpBl5dKQVyBSkE=",
          "dtype": "f4"
         },
         "yaxis": "y"
        },
        {
         "customdata": [
          [
           "166"
          ],
          [
           "166"
          ],
          [
           "166"
          ],
          [
           "166"
          ],
          [
           "166"
          ]
         ],
         "hovertemplate": "cluster=%{customdata[0]}<br>UMAP-1=%{x}<br>UMAP-2=%{y}<extra></extra>",
         "legendgroup": "166",
         "marker": {
          "color": "#FF9DA6",
          "opacity": 0.8,
          "size": 8,
          "symbol": "circle"
         },
         "mode": "markers",
         "name": "166",
         "showlegend": true,
         "type": "scattergl",
         "x": {
          "bdata": "s5kZwTclGcFmzxnBCJQZwRIZGcE=",
          "dtype": "f4"
         },
         "xaxis": "x",
         "y": {
          "bdata": "tKq6QeTtukEOnrpB0ri6QWjcukE=",
          "dtype": "f4"
         },
         "yaxis": "y"
        },
        {
         "customdata": [
          [
           "167"
          ],
          [
           "167"
          ],
          [
           "167"
          ],
          [
           "167"
          ],
          [
           "167"
          ]
         ],
         "hovertemplate": "cluster=%{customdata[0]}<br>UMAP-1=%{x}<br>UMAP-2=%{y}<extra></extra>",
         "legendgroup": "167",
         "marker": {
          "color": "#9D755D",
          "opacity": 0.8,
          "size": 8,
          "symbol": "circle"
         },
         "mode": "markers",
         "name": "167",
         "showlegend": true,
         "type": "scattergl",
         "x": {
          "bdata": "O38OwW9kDsEYSg7B1pQOwYpYDsE=",
          "dtype": "f4"
         },
         "xaxis": "x",
         "y": {
          "bdata": "JStKQalDSkH3k0pBdupJQROHSkE=",
          "dtype": "f4"
         },
         "yaxis": "y"
        },
        {
         "customdata": [
          [
           "168"
          ],
          [
           "168"
          ],
          [
           "168"
          ],
          [
           "168"
          ],
          [
           "168"
          ]
         ],
         "hovertemplate": "cluster=%{customdata[0]}<br>UMAP-1=%{x}<br>UMAP-2=%{y}<extra></extra>",
         "legendgroup": "168",
         "marker": {
          "color": "#BAB0AC",
          "opacity": 0.8,
          "size": 8,
          "symbol": "circle"
         },
         "mode": "markers",
         "name": "168",
         "showlegend": true,
         "type": "scattergl",
         "x": {
          "bdata": "/jkQwdxrEMHYZRDBbkEQwc3pEME=",
          "dtype": "f4"
         },
         "xaxis": "x",
         "y": {
          "bdata": "215IQVovSEHrL0hBFllIQYe1R0E=",
          "dtype": "f4"
         },
         "yaxis": "y"
        },
        {
         "customdata": [
          [
           "169"
          ],
          [
           "169"
          ],
          [
           "169"
          ],
          [
           "169"
          ],
          [
           "169"
          ]
         ],
         "hovertemplate": "cluster=%{customdata[0]}<br>UMAP-1=%{x}<br>UMAP-2=%{y}<extra></extra>",
         "legendgroup": "169",
         "marker": {
          "color": "#4C78A8",
          "opacity": 0.8,
          "size": 8,
          "symbol": "circle"
         },
         "mode": "markers",
         "name": "169",
         "showlegend": true,
         "type": "scattergl",
         "x": {
          "bdata": "HvgQweOdEMGxPRHBockQwWW5EME=",
          "dtype": "f4"
         },
         "xaxis": "x",
         "y": {
          "bdata": "RK5HQS0SSEEUZUdBm+lHQaL0R0E=",
          "dtype": "f4"
         },
         "yaxis": "y"
        },
        {
         "customdata": [
          [
           "170"
          ],
          [
           "170"
          ],
          [
           "170"
          ],
          [
           "170"
          ],
          [
           "170"
          ]
         ],
         "hovertemplate": "cluster=%{customdata[0]}<br>UMAP-1=%{x}<br>UMAP-2=%{y}<extra></extra>",
         "legendgroup": "170",
         "marker": {
          "color": "#F58518",
          "opacity": 0.8,
          "size": 8,
          "symbol": "circle"
         },
         "mode": "markers",
         "name": "170",
         "showlegend": true,
         "type": "scattergl",
         "x": {
          "bdata": "4wGdQDfLnEB3v5xA7JucQDsAnUA=",
          "dtype": "f4"
         },
         "xaxis": "x",
         "y": {
          "bdata": "W2ZJwE37SMCk6UjAsHtIwCZdScA=",
          "dtype": "f4"
         },
         "yaxis": "y"
        },
        {
         "customdata": [
          [
           "171"
          ],
          [
           "171"
          ],
          [
           "171"
          ],
          [
           "171"
          ],
          [
           "171"
          ]
         ],
         "hovertemplate": "cluster=%{customdata[0]}<br>UMAP-1=%{x}<br>UMAP-2=%{y}<extra></extra>",
         "legendgroup": "171",
         "marker": {
          "color": "#E45756",
          "opacity": 0.8,
          "size": 8,
          "symbol": "circle"
         },
         "mode": "markers",
         "name": "171",
         "showlegend": true,
         "type": "scattergl",
         "x": {
          "bdata": "eU4cQX8LHEGqMRxBSxocQW2MHEE=",
          "dtype": "f4"
         },
         "xaxis": "x",
         "y": {
          "bdata": "/tgKwEDPCcAeZArAegcKwPXLC8A=",
          "dtype": "f4"
         },
         "yaxis": "y"
        },
        {
         "customdata": [
          [
           "172"
          ],
          [
           "172"
          ],
          [
           "172"
          ],
          [
           "172"
          ],
          [
           "172"
          ]
         ],
         "hovertemplate": "cluster=%{customdata[0]}<br>UMAP-1=%{x}<br>UMAP-2=%{y}<extra></extra>",
         "legendgroup": "172",
         "marker": {
          "color": "#72B7B2",
          "opacity": 0.8,
          "size": 8,
          "symbol": "circle"
         },
         "mode": "markers",
         "name": "172",
         "showlegend": true,
         "type": "scattergl",
         "x": {
          "bdata": "lhD9wPZ7/cBbHf3AkuL6wP1b/cA=",
          "dtype": "f4"
         },
         "xaxis": "x",
         "y": {
          "bdata": "IxidQYoznUH1G51BU42cQVUrnUE=",
          "dtype": "f4"
         },
         "yaxis": "y"
        },
        {
         "customdata": [
          [
           "173"
          ],
          [
           "173"
          ],
          [
           "173"
          ],
          [
           "173"
          ],
          [
           "173"
          ]
         ],
         "hovertemplate": "cluster=%{customdata[0]}<br>UMAP-1=%{x}<br>UMAP-2=%{y}<extra></extra>",
         "legendgroup": "173",
         "marker": {
          "color": "#54A24B",
          "opacity": 0.8,
          "size": 8,
          "symbol": "circle"
         },
         "mode": "markers",
         "name": "173",
         "showlegend": true,
         "type": "scattergl",
         "x": {
          "bdata": "dRYcQYffG0GV4BtBAm8bQZefG0E=",
          "dtype": "f4"
         },
         "xaxis": "x",
         "y": {
          "bdata": "hxYKwKo2CcAURAnAkIAHwBJACMA=",
          "dtype": "f4"
         },
         "yaxis": "y"
        },
        {
         "customdata": [
          [
           "174"
          ],
          [
           "174"
          ],
          [
           "174"
          ],
          [
           "174"
          ],
          [
           "174"
          ]
         ],
         "hovertemplate": "cluster=%{customdata[0]}<br>UMAP-1=%{x}<br>UMAP-2=%{y}<extra></extra>",
         "legendgroup": "174",
         "marker": {
          "color": "#EECA3B",
          "opacity": 0.8,
          "size": 8,
          "symbol": "circle"
         },
         "mode": "markers",
         "name": "174",
         "showlegend": true,
         "type": "scattergl",
         "x": {
          "bdata": "Xg4XwXFBF8EMExfB7aQWwSENF8E=",
          "dtype": "f4"
         },
         "xaxis": "x",
         "y": {
          "bdata": "nqQhQNzhIEASjiFAXPUfQJuSIUA=",
          "dtype": "f4"
         },
         "yaxis": "y"
        },
        {
         "customdata": [
          [
           "175"
          ],
          [
           "175"
          ],
          [
           "175"
          ],
          [
           "175"
          ],
          [
           "175"
          ]
         ],
         "hovertemplate": "cluster=%{customdata[0]}<br>UMAP-1=%{x}<br>UMAP-2=%{y}<extra></extra>",
         "legendgroup": "175",
         "marker": {
          "color": "#B279A2",
          "opacity": 0.8,
          "size": 8,
          "symbol": "circle"
         },
         "mode": "markers",
         "name": "175",
         "showlegend": true,
         "type": "scattergl",
         "x": {
          "bdata": "R2icQDNnnED4ZpxAzg+cQD2GnEA=",
          "dtype": "f4"
         },
         "xaxis": "x",
         "y": {
          "bdata": "4CtIwKRBSMDPKkjAn3tHwOpySMA=",
          "dtype": "f4"
         },
         "yaxis": "y"
        },
        {
         "customdata": [
          [
           "176"
          ],
          [
           "176"
          ],
          [
           "176"
          ],
          [
           "176"
          ],
          [
           "176"
          ]
         ],
         "hovertemplate": "cluster=%{customdata[0]}<br>UMAP-1=%{x}<br>UMAP-2=%{y}<extra></extra>",
         "legendgroup": "176",
         "marker": {
          "color": "#FF9DA6",
          "opacity": 0.8,
          "size": 8,
          "symbol": "circle"
         },
         "mode": "markers",
         "name": "176",
         "showlegend": true,
         "type": "scattergl",
         "x": {
          "bdata": "7w4XwaQGF8GLDhfBOU0XwVsTF8E=",
          "dtype": "f4"
         },
         "xaxis": "x",
         "y": {
          "bdata": "3eshQHQtIkBu7CFAceQiQM7xIUA=",
          "dtype": "f4"
         },
         "yaxis": "y"
        },
        {
         "customdata": [
          [
           "177"
          ],
          [
           "177"
          ],
          [
           "177"
          ],
          [
           "177"
          ],
          [
           "177"
          ]
         ],
         "hovertemplate": "cluster=%{customdata[0]}<br>UMAP-1=%{x}<br>UMAP-2=%{y}<extra></extra>",
         "legendgroup": "177",
         "marker": {
          "color": "#9D755D",
          "opacity": 0.8,
          "size": 8,
          "symbol": "circle"
         },
         "mode": "markers",
         "name": "177",
         "showlegend": true,
         "type": "scattergl",
         "x": {
          "bdata": "lEmJwa1NicGYb4nBEkqJwQNIicE=",
          "dtype": "f4"
         },
         "xaxis": "x",
         "y": {
          "bdata": "tl1QQQhmUEEhqVBBvl5QQRtaUEE=",
          "dtype": "f4"
         },
         "yaxis": "y"
        },
        {
         "customdata": [
          [
           "178"
          ],
          [
           "178"
          ],
          [
           "178"
          ],
          [
           "178"
          ],
          [
           "178"
          ]
         ],
         "hovertemplate": "cluster=%{customdata[0]}<br>UMAP-1=%{x}<br>UMAP-2=%{y}<extra></extra>",
         "legendgroup": "178",
         "marker": {
          "color": "#BAB0AC",
          "opacity": 0.8,
          "size": 8,
          "symbol": "circle"
         },
         "mode": "markers",
         "name": "178",
         "showlegend": true,
         "type": "scattergl",
         "x": {
          "bdata": "jhCDwa26gsEa0YLBAIeDwUYSg8E=",
          "dtype": "f4"
         },
         "xaxis": "x",
         "y": {
          "bdata": "PLkGwcUkBsEqXQbBIBAGwW5TBsE=",
          "dtype": "f4"
         },
         "yaxis": "y"
        },
        {
         "customdata": [
          [
           "179"
          ],
          [
           "179"
          ],
          [
           "179"
          ],
          [
           "179"
          ],
          [
           "179"
          ]
         ],
         "hovertemplate": "cluster=%{customdata[0]}<br>UMAP-1=%{x}<br>UMAP-2=%{y}<extra></extra>",
         "legendgroup": "179",
         "marker": {
          "color": "#4C78A8",
          "opacity": 0.8,
          "size": 8,
          "symbol": "circle"
         },
         "mode": "markers",
         "name": "179",
         "showlegend": true,
         "type": "scattergl",
         "x": {
          "bdata": "q7CtQCMBrkATp61A9QWuQISorUA=",
          "dtype": "f4"
         },
         "xaxis": "x",
         "y": {
          "bdata": "Uv6qwCRSq8DE66rAM2arwHnzqsA=",
          "dtype": "f4"
         },
         "yaxis": "y"
        },
        {
         "customdata": [
          [
           "180"
          ],
          [
           "180"
          ],
          [
           "180"
          ],
          [
           "180"
          ],
          [
           "180"
          ]
         ],
         "hovertemplate": "cluster=%{customdata[0]}<br>UMAP-1=%{x}<br>UMAP-2=%{y}<extra></extra>",
         "legendgroup": "180",
         "marker": {
          "color": "#F58518",
          "opacity": 0.8,
          "size": 8,
          "symbol": "circle"
         },
         "mode": "markers",
         "name": "180",
         "showlegend": true,
         "type": "scattergl",
         "x": {
          "bdata": "1jY5wWccOcGqHDnB4Bw5wQ8cOcE=",
          "dtype": "f4"
         },
         "xaxis": "x",
         "y": {
          "bdata": "RHUIwUmECME4hAjBJoQIwbmECME=",
          "dtype": "f4"
         },
         "yaxis": "y"
        },
        {
         "customdata": [
          [
           "181"
          ],
          [
           "181"
          ],
          [
           "181"
          ],
          [
           "181"
          ],
          [
           "181"
          ]
         ],
         "hovertemplate": "cluster=%{customdata[0]}<br>UMAP-1=%{x}<br>UMAP-2=%{y}<extra></extra>",
         "legendgroup": "181",
         "marker": {
          "color": "#E45756",
          "opacity": 0.8,
          "size": 8,
          "symbol": "circle"
         },
         "mode": "markers",
         "name": "181",
         "showlegend": true,
         "type": "scattergl",
         "x": {
          "bdata": "F6nBQNNMwUDNYMFAPqvCQG01wkA=",
          "dtype": "f4"
         },
         "xaxis": "x",
         "y": {
          "bdata": "NeqdwXfTncEW2Z3BDSuewRYOnsE=",
          "dtype": "f4"
         },
         "yaxis": "y"
        },
        {
         "customdata": [
          [
           "182"
          ],
          [
           "182"
          ],
          [
           "182"
          ],
          [
           "182"
          ],
          [
           "182"
          ]
         ],
         "hovertemplate": "cluster=%{customdata[0]}<br>UMAP-1=%{x}<br>UMAP-2=%{y}<extra></extra>",
         "legendgroup": "182",
         "marker": {
          "color": "#72B7B2",
          "opacity": 0.8,
          "size": 8,
          "symbol": "circle"
         },
         "mode": "markers",
         "name": "182",
         "showlegend": true,
         "type": "scattergl",
         "x": {
          "bdata": "T2LtQMWS7UAnIe1Ay3LtQBVR7UA=",
          "dtype": "f4"
         },
         "xaxis": "x",
         "y": {
          "bdata": "ceexwEQZssALo7HAZPCxwE7KscA=",
          "dtype": "f4"
         },
         "yaxis": "y"
        },
        {
         "customdata": [
          [
           "183"
          ],
          [
           "183"
          ],
          [
           "183"
          ],
          [
           "183"
          ],
          [
           "183"
          ]
         ],
         "hovertemplate": "cluster=%{customdata[0]}<br>UMAP-1=%{x}<br>UMAP-2=%{y}<extra></extra>",
         "legendgroup": "183",
         "marker": {
          "color": "#54A24B",
          "opacity": 0.8,
          "size": 8,
          "symbol": "circle"
         },
         "mode": "markers",
         "name": "183",
         "showlegend": true,
         "type": "scattergl",
         "x": {
          "bdata": "MeTtQHe27UCMr+1AqLftQHWy7UA=",
          "dtype": "f4"
         },
         "xaxis": "x",
         "y": {
          "bdata": "zYOywJ45ssDFMLLAbjOywJ8yssA=",
          "dtype": "f4"
         },
         "yaxis": "y"
        },
        {
         "customdata": [
          [
           "184"
          ],
          [
           "184"
          ],
          [
           "184"
          ],
          [
           "184"
          ],
          [
           "184"
          ]
         ],
         "hovertemplate": "cluster=%{customdata[0]}<br>UMAP-1=%{x}<br>UMAP-2=%{y}<extra></extra>",
         "legendgroup": "184",
         "marker": {
          "color": "#EECA3B",
          "opacity": 0.8,
          "size": 8,
          "symbol": "circle"
         },
         "mode": "markers",
         "name": "184",
         "showlegend": true,
         "type": "scattergl",
         "x": {
          "bdata": "4XutQGYKrkCrc61AKIGtQKPQrEA=",
          "dtype": "f4"
         },
         "xaxis": "x",
         "y": {
          "bdata": "ZKiqwOF5qsBToqrA1J6qwG74qcA=",
          "dtype": "f4"
         },
         "yaxis": "y"
        },
        {
         "customdata": [
          [
           "185"
          ],
          [
           "185"
          ],
          [
           "185"
          ],
          [
           "185"
          ],
          [
           "185"
          ]
         ],
         "hovertemplate": "cluster=%{customdata[0]}<br>UMAP-1=%{x}<br>UMAP-2=%{y}<extra></extra>",
         "legendgroup": "185",
         "marker": {
          "color": "#B279A2",
          "opacity": 0.8,
          "size": 8,
          "symbol": "circle"
         },
         "mode": "markers",
         "name": "185",
         "showlegend": true,
         "type": "scattergl",
         "x": {
          "bdata": "gWdIQOljSEAv2khAMYdIQK56SEA=",
          "dtype": "f4"
         },
         "xaxis": "x",
         "y": {
          "bdata": "aK00wTm3NMFI1TTBqEA0wcCANME=",
          "dtype": "f4"
         },
         "yaxis": "y"
        },
        {
         "customdata": [
          [
           "186"
          ],
          [
           "186"
          ],
          [
           "186"
          ],
          [
           "186"
          ],
          [
           "186"
          ]
         ],
         "hovertemplate": "cluster=%{customdata[0]}<br>UMAP-1=%{x}<br>UMAP-2=%{y}<extra></extra>",
         "legendgroup": "186",
         "marker": {
          "color": "#FF9DA6",
          "opacity": 0.8,
          "size": 8,
          "symbol": "circle"
         },
         "mode": "markers",
         "name": "186",
         "showlegend": true,
         "type": "scattergl",
         "x": {
          "bdata": "QDzBQPoiwUCHx8BACRfBQLMgwUA=",
          "dtype": "f4"
         },
         "xaxis": "x",
         "y": {
          "bdata": "fc+dwVTKncEnsp3BZ8adwXbIncE=",
          "dtype": "f4"
         },
         "yaxis": "y"
        },
        {
         "customdata": [
          [
           "187"
          ],
          [
           "187"
          ],
          [
           "187"
          ],
          [
           "187"
          ],
          [
           "187"
          ]
         ],
         "hovertemplate": "cluster=%{customdata[0]}<br>UMAP-1=%{x}<br>UMAP-2=%{y}<extra></extra>",
         "legendgroup": "187",
         "marker": {
          "color": "#9D755D",
          "opacity": 0.8,
          "size": 8,
          "symbol": "circle"
         },
         "mode": "markers",
         "name": "187",
         "showlegend": true,
         "type": "scattergl",
         "x": {
          "bdata": "I22DwZQHg8HHXYPBde2CweAhg8E=",
          "dtype": "f4"
         },
         "xaxis": "x",
         "y": {
          "bdata": "kCkGwaRpB8HoHgbBTzAHwZjHBsE=",
          "dtype": "f4"
         },
         "yaxis": "y"
        },
        {
         "customdata": [
          [
           "188"
          ],
          [
           "188"
          ],
          [
           "188"
          ],
          [
           "188"
          ],
          [
           "188"
          ]
         ],
         "hovertemplate": "cluster=%{customdata[0]}<br>UMAP-1=%{x}<br>UMAP-2=%{y}<extra></extra>",
         "legendgroup": "188",
         "marker": {
          "color": "#BAB0AC",
          "opacity": 0.8,
          "size": 8,
          "symbol": "circle"
         },
         "mode": "markers",
         "name": "188",
         "showlegend": true,
         "type": "scattergl",
         "x": {
          "bdata": "D6s7wRO0O8GkUTvBPa87wRv0O8E=",
          "dtype": "f4"
         },
         "xaxis": "x",
         "y": {
          "bdata": "qxFowbUaaMFsuGfByBVowaRaaME=",
          "dtype": "f4"
         },
         "yaxis": "y"
        },
        {
         "customdata": [
          [
           "189"
          ],
          [
           "189"
          ],
          [
           "189"
          ],
          [
           "189"
          ],
          [
           "189"
          ]
         ],
         "hovertemplate": "cluster=%{customdata[0]}<br>UMAP-1=%{x}<br>UMAP-2=%{y}<extra></extra>",
         "legendgroup": "189",
         "marker": {
          "color": "#4C78A8",
          "opacity": 0.8,
          "size": 8,
          "symbol": "circle"
         },
         "mode": "markers",
         "name": "189",
         "showlegend": true,
         "type": "scattergl",
         "x": {
          "bdata": "ICcQwfMEEMEmHhDBTvUPwTTPD8E=",
          "dtype": "f4"
         },
         "xaxis": "x",
         "y": {
          "bdata": "P6jaQC3o2kBAvNpAaxHbQFUy20A=",
          "dtype": "f4"
         },
         "yaxis": "y"
        },
        {
         "customdata": [
          [
           "190"
          ],
          [
           "190"
          ],
          [
           "190"
          ],
          [
           "190"
          ],
          [
           "190"
          ]
         ],
         "hovertemplate": "cluster=%{customdata[0]}<br>UMAP-1=%{x}<br>UMAP-2=%{y}<extra></extra>",
         "legendgroup": "190",
         "marker": {
          "color": "#F58518",
          "opacity": 0.8,
          "size": 8,
          "symbol": "circle"
         },
         "mode": "markers",
         "name": "190",
         "showlegend": true,
         "type": "scattergl",
         "x": {
          "bdata": "OVwQwU9NEMHRXRDBX4gQwSicEME=",
          "dtype": "f4"
         },
         "xaxis": "x",
         "y": {
          "bdata": "OmvaQDqG2kA/a9pAXxbaQNnw2UA=",
          "dtype": "f4"
         },
         "yaxis": "y"
        },
        {
         "customdata": [
          [
           "191"
          ],
          [
           "191"
          ],
          [
           "191"
          ],
          [
           "191"
          ],
          [
           "191"
          ]
         ],
         "hovertemplate": "cluster=%{customdata[0]}<br>UMAP-1=%{x}<br>UMAP-2=%{y}<extra></extra>",
         "legendgroup": "191",
         "marker": {
          "color": "#E45756",
          "opacity": 0.8,
          "size": 8,
          "symbol": "circle"
         },
         "mode": "markers",
         "name": "191",
         "showlegend": true,
         "type": "scattergl",
         "x": {
          "bdata": "2KsPwbX5D8H0/Q/BfHMQwTI/EME=",
          "dtype": "f4"
         },
         "xaxis": "x",
         "y": {
          "bdata": "V+3bQFGw20DbWdtA2VDbQMKq20A=",
          "dtype": "f4"
         },
         "yaxis": "y"
        },
        {
         "customdata": [
          [
           "192"
          ],
          [
           "192"
          ],
          [
           "192"
          ],
          [
           "192"
          ],
          [
           "192"
          ]
         ],
         "hovertemplate": "cluster=%{customdata[0]}<br>UMAP-1=%{x}<br>UMAP-2=%{y}<extra></extra>",
         "legendgroup": "192",
         "marker": {
          "color": "#72B7B2",
          "opacity": 0.8,
          "size": 8,
          "symbol": "circle"
         },
         "mode": "markers",
         "name": "192",
         "showlegend": true,
         "type": "scattergl",
         "x": {
          "bdata": "tmifwNiZn8DPK5/AoIifwH5Kn8A=",
          "dtype": "f4"
         },
         "xaxis": "x",
         "y": {
          "bdata": "BUvIQOASyEDrgshAjCbIQN5kyEA=",
          "dtype": "f4"
         },
         "yaxis": "y"
        },
        {
         "customdata": [
          [
           "193"
          ],
          [
           "193"
          ],
          [
           "193"
          ],
          [
           "193"
          ],
          [
           "193"
          ]
         ],
         "hovertemplate": "cluster=%{customdata[0]}<br>UMAP-1=%{x}<br>UMAP-2=%{y}<extra></extra>",
         "legendgroup": "193",
         "marker": {
          "color": "#54A24B",
          "opacity": 0.8,
          "size": 8,
          "symbol": "circle"
         },
         "mode": "markers",
         "name": "193",
         "showlegend": true,
         "type": "scattergl",
         "x": {
          "bdata": "JEcWwWMmFsF+chbBhuEVwcUaFsE=",
          "dtype": "f4"
         },
         "xaxis": "x",
         "y": {
          "bdata": "WiHOQNdlzkDOzc1AEfDOQB98zkA=",
          "dtype": "f4"
         },
         "yaxis": "y"
        },
        {
         "customdata": [
          [
           "194"
          ],
          [
           "194"
          ],
          [
           "194"
          ],
          [
           "194"
          ],
          [
           "194"
          ]
         ],
         "hovertemplate": "cluster=%{customdata[0]}<br>UMAP-1=%{x}<br>UMAP-2=%{y}<extra></extra>",
         "legendgroup": "194",
         "marker": {
          "color": "#EECA3B",
          "opacity": 0.8,
          "size": 8,
          "symbol": "circle"
         },
         "mode": "markers",
         "name": "194",
         "showlegend": true,
         "type": "scattergl",
         "x": {
          "bdata": "PnLpwJP/6MDAVenAhHnowLZk6cA=",
          "dtype": "f4"
         },
         "xaxis": "x",
         "y": {
          "bdata": "tr4AQZX3AEEPzQBBgzoBQXLEAEE=",
          "dtype": "f4"
         },
         "yaxis": "y"
        },
        {
         "customdata": [
          [
           "195"
          ],
          [
           "195"
          ],
          [
           "195"
          ],
          [
           "195"
          ],
          [
           "195"
          ]
         ],
         "hovertemplate": "cluster=%{customdata[0]}<br>UMAP-1=%{x}<br>UMAP-2=%{y}<extra></extra>",
         "legendgroup": "195",
         "marker": {
          "color": "#B279A2",
          "opacity": 0.8,
          "size": 8,
          "symbol": "circle"
         },
         "mode": "markers",
         "name": "195",
         "showlegend": true,
         "type": "scattergl",
         "x": {
          "bdata": "TGgXwUdpF8FNaBfB4qAXwZyeF8E=",
          "dtype": "f4"
         },
         "xaxis": "x",
         "y": {
          "bdata": "J0NAQT1GQEH3RUBBswpAQbYLQEE=",
          "dtype": "f4"
         },
         "yaxis": "y"
        },
        {
         "customdata": [
          [
           "196"
          ],
          [
           "196"
          ],
          [
           "196"
          ],
          [
           "196"
          ],
          [
           "196"
          ]
         ],
         "hovertemplate": "cluster=%{customdata[0]}<br>UMAP-1=%{x}<br>UMAP-2=%{y}<extra></extra>",
         "legendgroup": "196",
         "marker": {
          "color": "#FF9DA6",
          "opacity": 0.8,
          "size": 8,
          "symbol": "circle"
         },
         "mode": "markers",
         "name": "196",
         "showlegend": true,
         "type": "scattergl",
         "x": {
          "bdata": "DZw1wMchNsDAljXArJc1wOKgNcA=",
          "dtype": "f4"
         },
         "xaxis": "x",
         "y": {
          "bdata": "JxE1wcNCNcEPEjXBbBI1wRgTNcE=",
          "dtype": "f4"
         },
         "yaxis": "y"
        },
        {
         "customdata": [
          [
           "197"
          ],
          [
           "197"
          ],
          [
           "197"
          ],
          [
           "197"
          ],
          [
           "197"
          ]
         ],
         "hovertemplate": "cluster=%{customdata[0]}<br>UMAP-1=%{x}<br>UMAP-2=%{y}<extra></extra>",
         "legendgroup": "197",
         "marker": {
          "color": "#9D755D",
          "opacity": 0.8,
          "size": 8,
          "symbol": "circle"
         },
         "mode": "markers",
         "name": "197",
         "showlegend": true,
         "type": "scattergl",
         "x": {
          "bdata": "K0gQwPslEMBJQhDA5gAQwHhAEMA=",
          "dtype": "f4"
         },
         "xaxis": "x",
         "y": {
          "bdata": "sNZCwH24QsAR0kLAoH5CwErNQsA=",
          "dtype": "f4"
         },
         "yaxis": "y"
        },
        {
         "customdata": [
          [
           "198"
          ],
          [
           "198"
          ],
          [
           "198"
          ],
          [
           "198"
          ],
          [
           "198"
          ]
         ],
         "hovertemplate": "cluster=%{customdata[0]}<br>UMAP-1=%{x}<br>UMAP-2=%{y}<extra></extra>",
         "legendgroup": "198",
         "marker": {
          "color": "#BAB0AC",
          "opacity": 0.8,
          "size": 8,
          "symbol": "circle"
         },
         "mode": "markers",
         "name": "198",
         "showlegend": true,
         "type": "scattergl",
         "x": {
          "bdata": "amZkwFtsZMBFZGTA/3tkwD1oY8A=",
          "dtype": "f4"
         },
         "xaxis": "x",
         "y": {
          "bdata": "O5QCQCWUAkDXlgJA27sCQJTmAUA=",
          "dtype": "f4"
         },
         "yaxis": "y"
        },
        {
         "customdata": [
          [
           "199"
          ],
          [
           "199"
          ],
          [
           "199"
          ],
          [
           "199"
          ],
          [
           "199"
          ]
         ],
         "hovertemplate": "cluster=%{customdata[0]}<br>UMAP-1=%{x}<br>UMAP-2=%{y}<extra></extra>",
         "legendgroup": "199",
         "marker": {
          "color": "#4C78A8",
          "opacity": 0.8,
          "size": 8,
          "symbol": "circle"
         },
         "mode": "markers",
         "name": "199",
         "showlegend": true,
         "type": "scattergl",
         "x": {
          "bdata": "DWtkwDZjZMAMdWPAJUVkwAdYZMA=",
          "dtype": "f4"
         },
         "xaxis": "x",
         "y": {
          "bdata": "E5MCQHOZAkAVqQNAz8gCQCmdAkA=",
          "dtype": "f4"
         },
         "yaxis": "y"
        },
        {
         "customdata": [
          [
           "200"
          ],
          [
           "200"
          ],
          [
           "200"
          ],
          [
           "200"
          ],
          [
           "200"
          ]
         ],
         "hovertemplate": "cluster=%{customdata[0]}<br>UMAP-1=%{x}<br>UMAP-2=%{y}<extra></extra>",
         "legendgroup": "200",
         "marker": {
          "color": "#F58518",
          "opacity": 0.8,
          "size": 8,
          "symbol": "circle"
         },
         "mode": "markers",
         "name": "200",
         "showlegend": true,
         "type": "scattergl",
         "x": {
          "bdata": "eKthwFqtYcBKrmHAC65hwMu8YcA=",
          "dtype": "f4"
         },
         "xaxis": "x",
         "y": {
          "bdata": "JvsGwRn7BsFV+wbBc/sGwUD9BsE=",
          "dtype": "f4"
         },
         "yaxis": "y"
        },
        {
         "customdata": [
          [
           "201"
          ],
          [
           "201"
          ],
          [
           "201"
          ],
          [
           "201"
          ],
          [
           "201"
          ]
         ],
         "hovertemplate": "cluster=%{customdata[0]}<br>UMAP-1=%{x}<br>UMAP-2=%{y}<extra></extra>",
         "legendgroup": "201",
         "marker": {
          "color": "#E45756",
          "opacity": 0.8,
          "size": 8,
          "symbol": "circle"
         },
         "mode": "markers",
         "name": "201",
         "showlegend": true,
         "type": "scattergl",
         "x": {
          "bdata": "ns1SwfFQUsEQUVLBLlFSwQRSUsE=",
          "dtype": "f4"
         },
         "xaxis": "x",
         "y": {
          "bdata": "TfalQRs1pkEfNaZBCDWmQRs1pkE=",
          "dtype": "f4"
         },
         "yaxis": "y"
        },
        {
         "customdata": [
          [
           "202"
          ],
          [
           "202"
          ],
          [
           "202"
          ],
          [
           "202"
          ],
          [
           "202"
          ]
         ],
         "hovertemplate": "cluster=%{customdata[0]}<br>UMAP-1=%{x}<br>UMAP-2=%{y}<extra></extra>",
         "legendgroup": "202",
         "marker": {
          "color": "#72B7B2",
          "opacity": 0.8,
          "size": 8,
          "symbol": "circle"
         },
         "mode": "markers",
         "name": "202",
         "showlegend": true,
         "type": "scattergl",
         "x": {
          "bdata": "Fm8CP51tAj/FcQI/ooACPwZrAj8=",
          "dtype": "f4"
         },
         "xaxis": "x",
         "y": {
          "bdata": "7f4pwAUBKsCOASrALgkqwJcCKsA=",
          "dtype": "f4"
         },
         "yaxis": "y"
        },
        {
         "customdata": [
          [
           "203"
          ],
          [
           "203"
          ],
          [
           "203"
          ],
          [
           "203"
          ],
          [
           "203"
          ]
         ],
         "hovertemplate": "cluster=%{customdata[0]}<br>UMAP-1=%{x}<br>UMAP-2=%{y}<extra></extra>",
         "legendgroup": "203",
         "marker": {
          "color": "#54A24B",
          "opacity": 0.8,
          "size": 8,
          "symbol": "circle"
         },
         "mode": "markers",
         "name": "203",
         "showlegend": true,
         "type": "scattergl",
         "x": {
          "bdata": "l63pwOPJ6cAWj+nAIZrpwI9g6cA=",
          "dtype": "f4"
         },
         "xaxis": "x",
         "y": {
          "bdata": "ZqIAQSKSAEHksABBk6oAQdbHAEE=",
          "dtype": "f4"
         },
         "yaxis": "y"
        },
        {
         "customdata": [
          [
           "204"
          ],
          [
           "204"
          ],
          [
           "204"
          ],
          [
           "204"
          ],
          [
           "204"
          ]
         ],
         "hovertemplate": "cluster=%{customdata[0]}<br>UMAP-1=%{x}<br>UMAP-2=%{y}<extra></extra>",
         "legendgroup": "204",
         "marker": {
          "color": "#EECA3B",
          "opacity": 0.8,
          "size": 8,
          "symbol": "circle"
         },
         "mode": "markers",
         "name": "204",
         "showlegend": true,
         "type": "scattergl",
         "x": {
          "bdata": "k5mIwXp+iMHsc4jB/JKIwSBkiME=",
          "dtype": "f4"
         },
         "xaxis": "x",
         "y": {
          "bdata": "hvxOQTrGTkErsU5BNPBOQQGSTkE=",
          "dtype": "f4"
         },
         "yaxis": "y"
        },
        {
         "customdata": [
          [
           "205"
          ],
          [
           "205"
          ],
          [
           "205"
          ],
          [
           "205"
          ],
          [
           "205"
          ]
         ],
         "hovertemplate": "cluster=%{customdata[0]}<br>UMAP-1=%{x}<br>UMAP-2=%{y}<extra></extra>",
         "legendgroup": "205",
         "marker": {
          "color": "#B279A2",
          "opacity": 0.8,
          "size": 8,
          "symbol": "circle"
         },
         "mode": "markers",
         "name": "205",
         "showlegend": true,
         "type": "scattergl",
         "x": {
          "bdata": "a2TeQFFk3kBYYt5ARWPeQGBi3kA=",
          "dtype": "f4"
         },
         "xaxis": "x",
         "y": {
          "bdata": "qJ6bQGKTm0DDoptADZ6bQLedm0A=",
          "dtype": "f4"
         },
         "yaxis": "y"
        },
        {
         "customdata": [
          [
           "206"
          ],
          [
           "206"
          ],
          [
           "206"
          ],
          [
           "206"
          ],
          [
           "206"
          ]
         ],
         "hovertemplate": "cluster=%{customdata[0]}<br>UMAP-1=%{x}<br>UMAP-2=%{y}<extra></extra>",
         "legendgroup": "206",
         "marker": {
          "color": "#FF9DA6",
          "opacity": 0.8,
          "size": 8,
          "symbol": "circle"
         },
         "mode": "markers",
         "name": "206",
         "showlegend": true,
         "type": "scattergl",
         "x": {
          "bdata": "p0eIwcwYiMHkR4jBDDCIwY1qiME=",
          "dtype": "f4"
         },
         "xaxis": "x",
         "y": {
          "bdata": "1FhOQTz7TUFkWU5BiSlOQceeTkE=",
          "dtype": "f4"
         },
         "yaxis": "y"
        },
        {
         "customdata": [
          [
           "207"
          ],
          [
           "207"
          ],
          [
           "207"
          ],
          [
           "207"
          ],
          [
           "207"
          ]
         ],
         "hovertemplate": "cluster=%{customdata[0]}<br>UMAP-1=%{x}<br>UMAP-2=%{y}<extra></extra>",
         "legendgroup": "207",
         "marker": {
          "color": "#9D755D",
          "opacity": 0.8,
          "size": 8,
          "symbol": "circle"
         },
         "mode": "markers",
         "name": "207",
         "showlegend": true,
         "type": "scattergl",
         "x": {
          "bdata": "KnGtPw5wrT/vmq0/rnWtPwFurT8=",
          "dtype": "f4"
         },
         "xaxis": "x",
         "y": {
          "bdata": "KBMAwUsUAMHuJgDBlBQAwTMSAME=",
          "dtype": "f4"
         },
         "yaxis": "y"
        },
        {
         "customdata": [
          [
           "208"
          ],
          [
           "208"
          ],
          [
           "208"
          ],
          [
           "208"
          ],
          [
           "208"
          ]
         ],
         "hovertemplate": "cluster=%{customdata[0]}<br>UMAP-1=%{x}<br>UMAP-2=%{y}<extra></extra>",
         "legendgroup": "208",
         "marker": {
          "color": "#BAB0AC",
          "opacity": 0.8,
          "size": 8,
          "symbol": "circle"
         },
         "mode": "markers",
         "name": "208",
         "showlegend": true,
         "type": "scattergl",
         "x": {
          "bdata": "PtyEvgidjL54FY6+MmCTvq7Yj74=",
          "dtype": "f4"
         },
         "xaxis": "x",
         "y": {
          "bdata": "utLGwLVYx8Byb8fAlcTHwAWNx8A=",
          "dtype": "f4"
         },
         "yaxis": "y"
        },
        {
         "customdata": [
          [
           "209"
          ],
          [
           "209"
          ],
          [
           "209"
          ],
          [
           "209"
          ],
          [
           "209"
          ]
         ],
         "hovertemplate": "cluster=%{customdata[0]}<br>UMAP-1=%{x}<br>UMAP-2=%{y}<extra></extra>",
         "legendgroup": "209",
         "marker": {
          "color": "#4C78A8",
          "opacity": 0.8,
          "size": 8,
          "symbol": "circle"
         },
         "mode": "markers",
         "name": "209",
         "showlegend": true,
         "type": "scattergl",
         "x": {
          "bdata": "e+mywc4ss8Gl7bLBPB6zwdMbs8E=",
          "dtype": "f4"
         },
         "xaxis": "x",
         "y": {
          "bdata": "Oh44QJIFNkDh+zdAsHU2QDeKNkA=",
          "dtype": "f4"
         },
         "yaxis": "y"
        },
        {
         "customdata": [
          [
           "210"
          ],
          [
           "210"
          ],
          [
           "210"
          ],
          [
           "210"
          ],
          [
           "210"
          ]
         ],
         "hovertemplate": "cluster=%{customdata[0]}<br>UMAP-1=%{x}<br>UMAP-2=%{y}<extra></extra>",
         "legendgroup": "210",
         "marker": {
          "color": "#F58518",
          "opacity": 0.8,
          "size": 8,
          "symbol": "circle"
         },
         "mode": "markers",
         "name": "210",
         "showlegend": true,
         "type": "scattergl",
         "x": {
          "bdata": "NxtjwL2RY8CZxmTAAgNkwBo4Y8A=",
          "dtype": "f4"
         },
         "xaxis": "x",
         "y": {
          "bdata": "8TV+wFClfsAO4H/Ahhl/wJRRfsA=",
          "dtype": "f4"
         },
         "yaxis": "y"
        },
        {
         "customdata": [
          [
           "211"
          ],
          [
           "211"
          ],
          [
           "211"
          ],
          [
           "211"
          ],
          [
           "211"
          ]
         ],
         "hovertemplate": "cluster=%{customdata[0]}<br>UMAP-1=%{x}<br>UMAP-2=%{y}<extra></extra>",
         "legendgroup": "211",
         "marker": {
          "color": "#E45756",
          "opacity": 0.8,
          "size": 8,
          "symbol": "circle"
         },
         "mode": "markers",
         "name": "211",
         "showlegend": true,
         "type": "scattergl",
         "x": {
          "bdata": "PQgDwd4hA8GCJgPBPaMDwcPoAsE=",
          "dtype": "f4"
         },
         "xaxis": "x",
         "y": {
          "bdata": "KO9MQUTgTEFu3kxBKw9NQUAVTUE=",
          "dtype": "f4"
         },
         "yaxis": "y"
        },
        {
         "customdata": [
          [
           "212"
          ],
          [
           "212"
          ],
          [
           "212"
          ],
          [
           "212"
          ],
          [
           "212"
          ]
         ],
         "hovertemplate": "cluster=%{customdata[0]}<br>UMAP-1=%{x}<br>UMAP-2=%{y}<extra></extra>",
         "legendgroup": "212",
         "marker": {
          "color": "#72B7B2",
          "opacity": 0.8,
          "size": 8,
          "symbol": "circle"
         },
         "mode": "markers",
         "name": "212",
         "showlegend": true,
         "type": "scattergl",
         "x": {
          "bdata": "nDhZv5QTVr/G/1i/wThcvzffWL8=",
          "dtype": "f4"
         },
         "xaxis": "x",
         "y": {
          "bdata": "SCEvwa/vLsFxHS/BhFMvwU8aL8E=",
          "dtype": "f4"
         },
         "yaxis": "y"
        },
        {
         "customdata": [
          [
           "213"
          ],
          [
           "213"
          ],
          [
           "213"
          ],
          [
           "213"
          ],
          [
           "213"
          ]
         ],
         "hovertemplate": "cluster=%{customdata[0]}<br>UMAP-1=%{x}<br>UMAP-2=%{y}<extra></extra>",
         "legendgroup": "213",
         "marker": {
          "color": "#54A24B",
          "opacity": 0.8,
          "size": 8,
          "symbol": "circle"
         },
         "mode": "markers",
         "name": "213",
         "showlegend": true,
         "type": "scattergl",
         "x": {
          "bdata": "Nf1Yv03eWL9x1li/y+tYv+l/V78=",
          "dtype": "f4"
         },
         "xaxis": "x",
         "y": {
          "bdata": "LR0vwVgbL8G3GS/B+BovwaIFL8E=",
          "dtype": "f4"
         },
         "yaxis": "y"
        },
        {
         "customdata": [
          [
           "214"
          ],
          [
           "214"
          ],
          [
           "214"
          ],
          [
           "214"
          ],
          [
           "214"
          ]
         ],
         "hovertemplate": "cluster=%{customdata[0]}<br>UMAP-1=%{x}<br>UMAP-2=%{y}<extra></extra>",
         "legendgroup": "214",
         "marker": {
          "color": "#EECA3B",
          "opacity": 0.8,
          "size": 8,
          "symbol": "circle"
         },
         "mode": "markers",
         "name": "214",
         "showlegend": true,
         "type": "scattergl",
         "x": {
          "bdata": "nK6zweyys8HJtbPBUfyzwX3gs8E=",
          "dtype": "f4"
         },
         "xaxis": "x",
         "y": {
          "bdata": "lvAxQJHOMUCKtzFADYIvQHBhMEA=",
          "dtype": "f4"
         },
         "yaxis": "y"
        },
        {
         "customdata": [
          [
           "215"
          ],
          [
           "215"
          ],
          [
           "215"
          ],
          [
           "215"
          ],
          [
           "215"
          ]
         ],
         "hovertemplate": "cluster=%{customdata[0]}<br>UMAP-1=%{x}<br>UMAP-2=%{y}<extra></extra>",
         "legendgroup": "215",
         "marker": {
          "color": "#B279A2",
          "opacity": 0.8,
          "size": 8,
          "symbol": "circle"
         },
         "mode": "markers",
         "name": "215",
         "showlegend": true,
         "type": "scattergl",
         "x": {
          "bdata": "SYZiwO6FYsAdZGLArExiwP+IYsA=",
          "dtype": "f4"
         },
         "xaxis": "x",
         "y": {
          "bdata": "up19wDmefcDIen3AtF99wEyefcA=",
          "dtype": "f4"
         },
         "yaxis": "y"
        },
        {
         "customdata": [
          [
           "216"
          ],
          [
           "216"
          ],
          [
           "216"
          ],
          [
           "216"
          ],
          [
           "216"
          ]
         ],
         "hovertemplate": "cluster=%{customdata[0]}<br>UMAP-1=%{x}<br>UMAP-2=%{y}<extra></extra>",
         "legendgroup": "216",
         "marker": {
          "color": "#FF9DA6",
          "opacity": 0.8,
          "size": 8,
          "symbol": "circle"
         },
         "mode": "markers",
         "name": "216",
         "showlegend": true,
         "type": "scattergl",
         "x": {
          "bdata": "Fh6nwYEzp8HrE6fBHj2nwTkVp8E=",
          "dtype": "f4"
         },
         "xaxis": "x",
         "y": {
          "bdata": "iooCQRW2AkFXdgJB78gCQep4AkE=",
          "dtype": "f4"
         },
         "yaxis": "y"
        },
        {
         "customdata": [
          [
           "217"
          ],
          [
           "217"
          ],
          [
           "217"
          ],
          [
           "217"
          ],
          [
           "217"
          ]
         ],
         "hovertemplate": "cluster=%{customdata[0]}<br>UMAP-1=%{x}<br>UMAP-2=%{y}<extra></extra>",
         "legendgroup": "217",
         "marker": {
          "color": "#9D755D",
          "opacity": 0.8,
          "size": 8,
          "symbol": "circle"
         },
         "mode": "markers",
         "name": "217",
         "showlegend": true,
         "type": "scattergl",
         "x": {
          "bdata": "uwlLwfoBS8GFL0vBijRLwbUYS8E=",
          "dtype": "f4"
         },
         "xaxis": "x",
         "y": {
          "bdata": "IbsPQEGWD0CyURBAj1cQQA7oD0A=",
          "dtype": "f4"
         },
         "yaxis": "y"
        },
        {
         "customdata": [
          [
           "218"
          ],
          [
           "218"
          ],
          [
           "218"
          ],
          [
           "218"
          ],
          [
           "218"
          ]
         ],
         "hovertemplate": "cluster=%{customdata[0]}<br>UMAP-1=%{x}<br>UMAP-2=%{y}<extra></extra>",
         "legendgroup": "218",
         "marker": {
          "color": "#BAB0AC",
          "opacity": 0.8,
          "size": 8,
          "symbol": "circle"
         },
         "mode": "markers",
         "name": "218",
         "showlegend": true,
         "type": "scattergl",
         "x": {
          "bdata": "rKsKweeWCcGX/QnBpAQKwZo2CsE=",
          "dtype": "f4"
         },
         "xaxis": "x",
         "y": {
          "bdata": "bW5KQe/uSkHqqUpBybNKQe+6SkE=",
          "dtype": "f4"
         },
         "yaxis": "y"
        },
        {
         "customdata": [
          [
           "219"
          ],
          [
           "219"
          ],
          [
           "219"
          ],
          [
           "219"
          ],
          [
           "219"
          ]
         ],
         "hovertemplate": "cluster=%{customdata[0]}<br>UMAP-1=%{x}<br>UMAP-2=%{y}<extra></extra>",
         "legendgroup": "219",
         "marker": {
          "color": "#4C78A8",
          "opacity": 0.8,
          "size": 8,
          "symbol": "circle"
         },
         "mode": "markers",
         "name": "219",
         "showlegend": true,
         "type": "scattergl",
         "x": {
          "bdata": "X6pMwbZJTMGm+UvBlXJMwQwuTME=",
          "dtype": "f4"
         },
         "xaxis": "x",
         "y": {
          "bdata": "DSAXQLJ+FUA9SBRAAx0WQEsKFUA=",
          "dtype": "f4"
         },
         "yaxis": "y"
        },
        {
         "customdata": [
          [
           "220"
          ],
          [
           "220"
          ],
          [
           "220"
          ],
          [
           "220"
          ],
          [
           "220"
          ]
         ],
         "hovertemplate": "cluster=%{customdata[0]}<br>UMAP-1=%{x}<br>UMAP-2=%{y}<extra></extra>",
         "legendgroup": "220",
         "marker": {
          "color": "#F58518",
          "opacity": 0.8,
          "size": 8,
          "symbol": "circle"
         },
         "mode": "markers",
         "name": "220",
         "showlegend": true,
         "type": "scattergl",
         "x": {
          "bdata": "P1OcQOQrnEAHUpxAuXycQNyBnEA=",
          "dtype": "f4"
         },
         "xaxis": "x",
         "y": {
          "bdata": "mV97wa9Le8GnX3vBxXR7wSV3e8E=",
          "dtype": "f4"
         },
         "yaxis": "y"
        },
        {
         "customdata": [
          [
           "221"
          ],
          [
           "221"
          ],
          [
           "221"
          ],
          [
           "221"
          ],
          [
           "221"
          ]
         ],
         "hovertemplate": "cluster=%{customdata[0]}<br>UMAP-1=%{x}<br>UMAP-2=%{y}<extra></extra>",
         "legendgroup": "221",
         "marker": {
          "color": "#E45756",
          "opacity": 0.8,
          "size": 8,
          "symbol": "circle"
         },
         "mode": "markers",
         "name": "221",
         "showlegend": true,
         "type": "scattergl",
         "x": {
          "bdata": "0h6dQA2knECFP5xAzEScQGw7nEA=",
          "dtype": "f4"
         },
         "xaxis": "x",
         "y": {
          "bdata": "wsl7wXmJe8ETV3vBg1l7wVtVe8E=",
          "dtype": "f4"
         },
         "yaxis": "y"
        },
        {
         "customdata": [
          [
           "222"
          ],
          [
           "222"
          ],
          [
           "222"
          ],
          [
           "222"
          ],
          [
           "222"
          ]
         ],
         "hovertemplate": "cluster=%{customdata[0]}<br>UMAP-1=%{x}<br>UMAP-2=%{y}<extra></extra>",
         "legendgroup": "222",
         "marker": {
          "color": "#72B7B2",
          "opacity": 0.8,
          "size": 8,
          "symbol": "circle"
         },
         "mode": "markers",
         "name": "222",
         "showlegend": true,
         "type": "scattergl",
         "x": {
          "bdata": "U6SvwDStr8AMpq/AsaOvwH+mr8A=",
          "dtype": "f4"
         },
         "xaxis": "x",
         "y": {
          "bdata": "cUygQdpIoEE3TKBBUEygQWNMoEE=",
          "dtype": "f4"
         },
         "yaxis": "y"
        },
        {
         "customdata": [
          [
           "223"
          ],
          [
           "223"
          ],
          [
           "223"
          ],
          [
           "223"
          ],
          [
           "223"
          ]
         ],
         "hovertemplate": "cluster=%{customdata[0]}<br>UMAP-1=%{x}<br>UMAP-2=%{y}<extra></extra>",
         "legendgroup": "223",
         "marker": {
          "color": "#54A24B",
          "opacity": 0.8,
          "size": 8,
          "symbol": "circle"
         },
         "mode": "markers",
         "name": "223",
         "showlegend": true,
         "type": "scattergl",
         "x": {
          "bdata": "eH9OQFpUUEALU1FAVQ9QQCHGUUA=",
          "dtype": "f4"
         },
         "xaxis": "x",
         "y": {
          "bdata": "dDc5wZ4KOcFVpjnBNYg5we2gOcE=",
          "dtype": "f4"
         },
         "yaxis": "y"
        },
        {
         "customdata": [
          [
           "224"
          ],
          [
           "224"
          ],
          [
           "224"
          ],
          [
           "224"
          ],
          [
           "224"
          ]
         ],
         "hovertemplate": "cluster=%{customdata[0]}<br>UMAP-1=%{x}<br>UMAP-2=%{y}<extra></extra>",
         "legendgroup": "224",
         "marker": {
          "color": "#EECA3B",
          "opacity": 0.8,
          "size": 8,
          "symbol": "circle"
         },
         "mode": "markers",
         "name": "224",
         "showlegend": true,
         "type": "scattergl",
         "x": {
          "bdata": "elVbQNi5V0Da/FlA22VZQNsWW0A=",
          "dtype": "f4"
         },
         "xaxis": "x",
         "y": {
          "bdata": "syA7wZ27OsFHNjvBJ/A6wWNUO8E=",
          "dtype": "f4"
         },
         "yaxis": "y"
        },
        {
         "customdata": [
          [
           "225"
          ],
          [
           "225"
          ],
          [
           "225"
          ],
          [
           "225"
          ],
          [
           "225"
          ]
         ],
         "hovertemplate": "cluster=%{customdata[0]}<br>UMAP-1=%{x}<br>UMAP-2=%{y}<extra></extra>",
         "legendgroup": "225",
         "marker": {
          "color": "#B279A2",
          "opacity": 0.8,
          "size": 8,
          "symbol": "circle"
         },
         "mode": "markers",
         "name": "225",
         "showlegend": true,
         "type": "scattergl",
         "x": {
          "bdata": "6x1IQN9OSUBKIUdAQEpIQD5cRUA=",
          "dtype": "f4"
         },
         "xaxis": "x",
         "y": {
          "bdata": "Up00wVKQNMGlbDTBrlU0wTm6M8E=",
          "dtype": "f4"
         },
         "yaxis": "y"
        },
        {
         "customdata": [
          [
           "226"
          ],
          [
           "226"
          ],
          [
           "226"
          ],
          [
           "226"
          ],
          [
           "226"
          ]
         ],
         "hovertemplate": "cluster=%{customdata[0]}<br>UMAP-1=%{x}<br>UMAP-2=%{y}<extra></extra>",
         "legendgroup": "226",
         "marker": {
          "color": "#FF9DA6",
          "opacity": 0.8,
          "size": 8,
          "symbol": "circle"
         },
         "mode": "markers",
         "name": "226",
         "showlegend": true,
         "type": "scattergl",
         "x": {
          "bdata": "Ot1bQKFOXEAgBVtAm9tcQMEGXUA=",
          "dtype": "f4"
         },
         "xaxis": "x",
         "y": {
          "bdata": "M5Y7wRyAO8ElYDvBm9c7wfDNO8E=",
          "dtype": "f4"
         },
         "yaxis": "y"
        },
        {
         "customdata": [
          [
           "227"
          ],
          [
           "227"
          ],
          [
           "227"
          ],
          [
           "227"
          ],
          [
           "227"
          ]
         ],
         "hovertemplate": "cluster=%{customdata[0]}<br>UMAP-1=%{x}<br>UMAP-2=%{y}<extra></extra>",
         "legendgroup": "227",
         "marker": {
          "color": "#9D755D",
          "opacity": 0.8,
          "size": 8,
          "symbol": "circle"
         },
         "mode": "markers",
         "name": "227",
         "showlegend": true,
         "type": "scattergl",
         "x": {
          "bdata": "tyYSwS0aEsGBkhHBreIRwdi/EcE=",
          "dtype": "f4"
         },
         "xaxis": "x",
         "y": {
          "bdata": "rrPWQCXO1kAd4NdAoT7XQHqE10A=",
          "dtype": "f4"
         },
         "yaxis": "y"
        },
        {
         "customdata": [
          [
           "228"
          ],
          [
           "228"
          ],
          [
           "228"
          ],
          [
           "228"
          ],
          [
           "228"
          ]
         ],
         "hovertemplate": "cluster=%{customdata[0]}<br>UMAP-1=%{x}<br>UMAP-2=%{y}<extra></extra>",
         "legendgroup": "228",
         "marker": {
          "color": "#BAB0AC",
          "opacity": 0.8,
          "size": 8,
          "symbol": "circle"
         },
         "mode": "markers",
         "name": "228",
         "showlegend": true,
         "type": "scattergl",
         "x": {
          "bdata": "B2o6wRMsOsE1DzrBOV86wU69OcE=",
          "dtype": "f4"
         },
         "xaxis": "x",
         "y": {
          "bdata": "0ay2wGkqt8Bi5LbAA8C2wFEEuMA=",
          "dtype": "f4"
         },
         "yaxis": "y"
        },
        {
         "customdata": [
          [
           "229"
          ],
          [
           "229"
          ],
          [
           "229"
          ],
          [
           "229"
          ],
          [
           "229"
          ]
         ],
         "hovertemplate": "cluster=%{customdata[0]}<br>UMAP-1=%{x}<br>UMAP-2=%{y}<extra></extra>",
         "legendgroup": "229",
         "marker": {
          "color": "#4C78A8",
          "opacity": 0.8,
          "size": 8,
          "symbol": "circle"
         },
         "mode": "markers",
         "name": "229",
         "showlegend": true,
         "type": "scattergl",
         "x": {
          "bdata": "71aZvzBsmL9pt5q/XA6av1uDmb8=",
          "dtype": "f4"
         },
         "xaxis": "x",
         "y": {
          "bdata": "vuHLQUnUy0Fj+ctBM+vLQaHey0E=",
          "dtype": "f4"
         },
         "yaxis": "y"
        },
        {
         "customdata": [
          [
           "230"
          ],
          [
           "230"
          ],
          [
           "230"
          ],
          [
           "230"
          ],
          [
           "230"
          ]
         ],
         "hovertemplate": "cluster=%{customdata[0]}<br>UMAP-1=%{x}<br>UMAP-2=%{y}<extra></extra>",
         "legendgroup": "230",
         "marker": {
          "color": "#F58518",
          "opacity": 0.8,
          "size": 8,
          "symbol": "circle"
         },
         "mode": "markers",
         "name": "230",
         "showlegend": true,
         "type": "scattergl",
         "x": {
          "bdata": "Fl3Cv3Obw7/u/sK/YdXEv3Ocw78=",
          "dtype": "f4"
         },
         "xaxis": "x",
         "y": {
          "bdata": "PwzOQQoWzkHiec5BhFHOQSMlzkE=",
          "dtype": "f4"
         },
         "yaxis": "y"
        },
        {
         "customdata": [
          [
           "231"
          ],
          [
           "231"
          ],
          [
           "231"
          ],
          [
           "231"
          ],
          [
           "231"
          ]
         ],
         "hovertemplate": "cluster=%{customdata[0]}<br>UMAP-1=%{x}<br>UMAP-2=%{y}<extra></extra>",
         "legendgroup": "231",
         "marker": {
          "color": "#E45756",
          "opacity": 0.8,
          "size": 8,
          "symbol": "circle"
         },
         "mode": "markers",
         "name": "231",
         "showlegend": true,
         "type": "scattergl",
         "x": {
          "bdata": "AQ1zv2KBcr9xtXi/3Glyv0Bhcr8=",
          "dtype": "f4"
         },
         "xaxis": "x",
         "y": {
          "bdata": "0tGgQa7WoEH0pKBBotegQb7XoEE=",
          "dtype": "f4"
         },
         "yaxis": "y"
        },
        {
         "customdata": [
          [
           "232"
          ],
          [
           "232"
          ],
          [
           "232"
          ],
          [
           "232"
          ],
          [
           "232"
          ]
         ],
         "hovertemplate": "cluster=%{customdata[0]}<br>UMAP-1=%{x}<br>UMAP-2=%{y}<extra></extra>",
         "legendgroup": "232",
         "marker": {
          "color": "#72B7B2",
          "opacity": 0.8,
          "size": 8,
          "symbol": "circle"
         },
         "mode": "markers",
         "name": "232",
         "showlegend": true,
         "type": "scattergl",
         "x": {
          "bdata": "ORHnwNbe58BckOfAMdnnwHqF58A=",
          "dtype": "f4"
         },
         "xaxis": "x",
         "y": {
          "bdata": "FxzhQc/o4EFX/OBBbergQVz/4EE=",
          "dtype": "f4"
         },
         "yaxis": "y"
        },
        {
         "customdata": [
          [
           "233"
          ],
          [
           "233"
          ],
          [
           "233"
          ],
          [
           "233"
          ],
          [
           "233"
          ]
         ],
         "hovertemplate": "cluster=%{customdata[0]}<br>UMAP-1=%{x}<br>UMAP-2=%{y}<extra></extra>",
         "legendgroup": "233",
         "marker": {
          "color": "#54A24B",
          "opacity": 0.8,
          "size": 8,
          "symbol": "circle"
         },
         "mode": "markers",
         "name": "233",
         "showlegend": true,
         "type": "scattergl",
         "x": {
          "bdata": "Hl0DQdBYA0EMYgNBOYQDQWNdA0E=",
          "dtype": "f4"
         },
         "xaxis": "x",
         "y": {
          "bdata": "IKGhQeadoUGZoKFBsLShQWehoUE=",
          "dtype": "f4"
         },
         "yaxis": "y"
        },
        {
         "customdata": [
          [
           "234"
          ],
          [
           "234"
          ],
          [
           "234"
          ],
          [
           "234"
          ],
          [
           "234"
          ]
         ],
         "hovertemplate": "cluster=%{customdata[0]}<br>UMAP-1=%{x}<br>UMAP-2=%{y}<extra></extra>",
         "legendgroup": "234",
         "marker": {
          "color": "#EECA3B",
          "opacity": 0.8,
          "size": 8,
          "symbol": "circle"
         },
         "mode": "markers",
         "name": "234",
         "showlegend": true,
         "type": "scattergl",
         "x": {
          "bdata": "MacTwaClE8GkiRPBWowTwcCRE8E=",
          "dtype": "f4"
         },
         "xaxis": "x",
         "y": {
          "bdata": "x53TQPOf00AD19NAlMzTQIrG00A=",
          "dtype": "f4"
         },
         "yaxis": "y"
        },
        {
         "customdata": [
          [
           "235"
          ],
          [
           "235"
          ],
          [
           "235"
          ],
          [
           "235"
          ],
          [
           "235"
          ]
         ],
         "hovertemplate": "cluster=%{customdata[0]}<br>UMAP-1=%{x}<br>UMAP-2=%{y}<extra></extra>",
         "legendgroup": "235",
         "marker": {
          "color": "#B279A2",
          "opacity": 0.8,
          "size": 8,
          "symbol": "circle"
         },
         "mode": "markers",
         "name": "235",
         "showlegend": true,
         "type": "scattergl",
         "x": {
          "bdata": "B4dJwf/5ScHahUrB4FdKwSh6SsE=",
          "dtype": "f4"
         },
         "xaxis": "x",
         "y": {
          "bdata": "03oJQGpDC0CMbw1A+LsMQKBJDUA=",
          "dtype": "f4"
         },
         "yaxis": "y"
        },
        {
         "customdata": [
          [
           "236"
          ],
          [
           "236"
          ],
          [
           "236"
          ],
          [
           "236"
          ],
          [
           "236"
          ]
         ],
         "hovertemplate": "cluster=%{customdata[0]}<br>UMAP-1=%{x}<br>UMAP-2=%{y}<extra></extra>",
         "legendgroup": "236",
         "marker": {
          "color": "#FF9DA6",
          "opacity": 0.8,
          "size": 8,
          "symbol": "circle"
         },
         "mode": "markers",
         "name": "236",
         "showlegend": true,
         "type": "scattergl",
         "x": {
          "bdata": "0a2cQJuEnECUg5xA04ScQCiFnEA=",
          "dtype": "f4"
         },
         "xaxis": "x",
         "y": {
          "bdata": "HY57wRN5e8HueHvBdXl7wb55e8E=",
          "dtype": "f4"
         },
         "yaxis": "y"
        },
        {
         "customdata": [
          [
           "237"
          ],
          [
           "237"
          ],
          [
           "237"
          ],
          [
           "237"
          ],
          [
           "237"
          ]
         ],
         "hovertemplate": "cluster=%{customdata[0]}<br>UMAP-1=%{x}<br>UMAP-2=%{y}<extra></extra>",
         "legendgroup": "237",
         "marker": {
          "color": "#9D755D",
          "opacity": 0.8,
          "size": 8,
          "symbol": "circle"
         },
         "mode": "markers",
         "name": "237",
         "showlegend": true,
         "type": "scattergl",
         "x": {
          "bdata": "4x+MwbgvjMHjYozBAUmMwaknjME=",
          "dtype": "f4"
         },
         "xaxis": "x",
         "y": {
          "bdata": "yL2LPyS2ij85gIc/mCSJP6c6iz8=",
          "dtype": "f4"
         },
         "yaxis": "y"
        },
        {
         "customdata": [
          [
           "238"
          ],
          [
           "238"
          ],
          [
           "238"
          ],
          [
           "238"
          ],
          [
           "238"
          ]
         ],
         "hovertemplate": "cluster=%{customdata[0]}<br>UMAP-1=%{x}<br>UMAP-2=%{y}<extra></extra>",
         "legendgroup": "238",
         "marker": {
          "color": "#BAB0AC",
          "opacity": 0.8,
          "size": 8,
          "symbol": "circle"
         },
         "mode": "markers",
         "name": "238",
         "showlegend": true,
         "type": "scattergl",
         "x": {
          "bdata": "feXtQG7l7UAt5e1Ao+btQPvl7UA=",
          "dtype": "f4"
         },
         "xaxis": "x",
         "y": {
          "bdata": "5t+BPlDLgT7h2YE+APKBPhTjgT4=",
          "dtype": "f4"
         },
         "yaxis": "y"
        },
        {
         "customdata": [
          [
           "239"
          ],
          [
           "239"
          ],
          [
           "239"
          ],
          [
           "239"
          ],
          [
           "239"
          ]
         ],
         "hovertemplate": "cluster=%{customdata[0]}<br>UMAP-1=%{x}<br>UMAP-2=%{y}<extra></extra>",
         "legendgroup": "239",
         "marker": {
          "color": "#4C78A8",
          "opacity": 0.8,
          "size": 8,
          "symbol": "circle"
         },
         "mode": "markers",
         "name": "239",
         "showlegend": true,
         "type": "scattergl",
         "x": {
          "bdata": "XIAxwcQOMcHkYTHBk2wxwXFcMcE=",
          "dtype": "f4"
         },
         "xaxis": "x",
         "y": {
          "bdata": "M9u3v9Zju79My7i/2XO4vxnxuL8=",
          "dtype": "f4"
         },
         "yaxis": "y"
        },
        {
         "customdata": [
          [
           "240"
          ],
          [
           "240"
          ],
          [
           "240"
          ],
          [
           "240"
          ],
          [
           "240"
          ]
         ],
         "hovertemplate": "cluster=%{customdata[0]}<br>UMAP-1=%{x}<br>UMAP-2=%{y}<extra></extra>",
         "legendgroup": "240",
         "marker": {
          "color": "#F58518",
          "opacity": 0.8,
          "size": 8,
          "symbol": "circle"
         },
         "mode": "markers",
         "name": "240",
         "showlegend": true,
         "type": "scattergl",
         "x": {
          "bdata": "p9wNQG7cDUDC3A1ALdoNQMDbDUA=",
          "dtype": "f4"
         },
         "xaxis": "x",
         "y": {
          "bdata": "fr4CQdC+AkHivgJBr74CQQq/AkE=",
          "dtype": "f4"
         },
         "yaxis": "y"
        },
        {
         "customdata": [
          [
           "241"
          ],
          [
           "241"
          ],
          [
           "241"
          ],
          [
           "241"
          ],
          [
           "241"
          ]
         ],
         "hovertemplate": "cluster=%{customdata[0]}<br>UMAP-1=%{x}<br>UMAP-2=%{y}<extra></extra>",
         "legendgroup": "241",
         "marker": {
          "color": "#E45756",
          "opacity": 0.8,
          "size": 8,
          "symbol": "circle"
         },
         "mode": "markers",
         "name": "241",
         "showlegend": true,
         "type": "scattergl",
         "x": {
          "bdata": "loNRQH5mUUD/gFFALYRRQMeCUUA=",
          "dtype": "f4"
         },
         "xaxis": "x",
         "y": {
          "bdata": "lgwHwacFB8HlDAfBeQwHwdAMB8E=",
          "dtype": "f4"
         },
         "yaxis": "y"
        },
        {
         "customdata": [
          [
           "242"
          ],
          [
           "242"
          ],
          [
           "242"
          ],
          [
           "242"
          ],
          [
           "242"
          ]
         ],
         "hovertemplate": "cluster=%{customdata[0]}<br>UMAP-1=%{x}<br>UMAP-2=%{y}<extra></extra>",
         "legendgroup": "242",
         "marker": {
          "color": "#72B7B2",
          "opacity": 0.8,
          "size": 8,
          "symbol": "circle"
         },
         "mode": "markers",
         "name": "242",
         "showlegend": true,
         "type": "scattergl",
         "x": {
          "bdata": "4Ci8P0pMuj/iUr0/CAO+P1SfvT8=",
          "dtype": "f4"
         },
         "xaxis": "x",
         "y": {
          "bdata": "EYmBwd5rgcFym4HBC6eBwb6ggcE=",
          "dtype": "f4"
         },
         "yaxis": "y"
        },
        {
         "customdata": [
          [
           "243"
          ],
          [
           "243"
          ],
          [
           "243"
          ],
          [
           "243"
          ],
          [
           "243"
          ]
         ],
         "hovertemplate": "cluster=%{customdata[0]}<br>UMAP-1=%{x}<br>UMAP-2=%{y}<extra></extra>",
         "legendgroup": "243",
         "marker": {
          "color": "#54A24B",
          "opacity": 0.8,
          "size": 8,
          "symbol": "circle"
         },
         "mode": "markers",
         "name": "243",
         "showlegend": true,
         "type": "scattergl",
         "x": {
          "bdata": "l4JRQDuCUUBWglFAyoFRQJuDUUA=",
          "dtype": "f4"
         },
         "xaxis": "x",
         "y": {
          "bdata": "YQwHwXANB8EUDAfBdQ4HwTIMB8E=",
          "dtype": "f4"
         },
         "yaxis": "y"
        },
        {
         "customdata": [
          [
           "244"
          ],
          [
           "244"
          ],
          [
           "244"
          ],
          [
           "244"
          ],
          [
           "244"
          ]
         ],
         "hovertemplate": "cluster=%{customdata[0]}<br>UMAP-1=%{x}<br>UMAP-2=%{y}<extra></extra>",
         "legendgroup": "244",
         "marker": {
          "color": "#EECA3B",
          "opacity": 0.8,
          "size": 8,
          "symbol": "circle"
         },
         "mode": "markers",
         "name": "244",
         "showlegend": true,
         "type": "scattergl",
         "x": {
          "bdata": "3YR4wfe9d8Giy3fBMLN3wSmBd8E=",
          "dtype": "f4"
         },
         "xaxis": "x",
         "y": {
          "bdata": "PckDwZu2A8GcqgPB57UDwf3LA8E=",
          "dtype": "f4"
         },
         "yaxis": "y"
        },
        {
         "customdata": [
          [
           "245"
          ],
          [
           "245"
          ],
          [
           "245"
          ],
          [
           "245"
          ],
          [
           "245"
          ]
         ],
         "hovertemplate": "cluster=%{customdata[0]}<br>UMAP-1=%{x}<br>UMAP-2=%{y}<extra></extra>",
         "legendgroup": "245",
         "marker": {
          "color": "#B279A2",
          "opacity": 0.8,
          "size": 8,
          "symbol": "circle"
         },
         "mode": "markers",
         "name": "245",
         "showlegend": true,
         "type": "scattergl",
         "x": {
          "bdata": "MEF1wYFJdcEs6HTB7RJ1wTYIdcE=",
          "dtype": "f4"
         },
         "xaxis": "x",
         "y": {
          "bdata": "VzQEwV8XBMEygATB5DYEwaVFBME=",
          "dtype": "f4"
         },
         "yaxis": "y"
        },
        {
         "customdata": [
          [
           "246"
          ],
          [
           "246"
          ],
          [
           "246"
          ],
          [
           "246"
          ],
          [
           "246"
          ]
         ],
         "hovertemplate": "cluster=%{customdata[0]}<br>UMAP-1=%{x}<br>UMAP-2=%{y}<extra></extra>",
         "legendgroup": "246",
         "marker": {
          "color": "#FF9DA6",
          "opacity": 0.8,
          "size": 8,
          "symbol": "circle"
         },
         "mode": "markers",
         "name": "246",
         "showlegend": true,
         "type": "scattergl",
         "x": {
          "bdata": "Gr2tP/BVrT/9aa0/an+qP4VArD8=",
          "dtype": "f4"
         },
         "xaxis": "x",
         "y": {
          "bdata": "KwQAwVASAMFMEgDBezn/wC3c/8A=",
          "dtype": "f4"
         },
         "yaxis": "y"
        },
        {
         "customdata": [
          [
           "247"
          ],
          [
           "247"
          ],
          [
           "247"
          ],
          [
           "247"
          ],
          [
           "247"
          ]
         ],
         "hovertemplate": "cluster=%{customdata[0]}<br>UMAP-1=%{x}<br>UMAP-2=%{y}<extra></extra>",
         "legendgroup": "247",
         "marker": {
          "color": "#9D755D",
          "opacity": 0.8,
          "size": 8,
          "symbol": "circle"
         },
         "mode": "markers",
         "name": "247",
         "showlegend": true,
         "type": "scattergl",
         "x": {
          "bdata": "C452wbhJdsHe+XbBxHl2wYVMdsE=",
          "dtype": "f4"
         },
         "xaxis": "x",
         "y": {
          "bdata": "DKkDwRvlA8E5YQPBJ64DwbZsA8E=",
          "dtype": "f4"
         },
         "yaxis": "y"
        },
        {
         "customdata": [
          [
           "248"
          ],
          [
           "248"
          ],
          [
           "248"
          ],
          [
           "248"
          ],
          [
           "248"
          ]
         ],
         "hovertemplate": "cluster=%{customdata[0]}<br>UMAP-1=%{x}<br>UMAP-2=%{y}<extra></extra>",
         "legendgroup": "248",
         "marker": {
          "color": "#BAB0AC",
          "opacity": 0.8,
          "size": 8,
          "symbol": "circle"
         },
         "mode": "markers",
         "name": "248",
         "showlegend": true,
         "type": "scattergl",
         "x": {
          "bdata": "Uh05wd0cOcEXHTnB+Bw5wWgdOcE=",
          "dtype": "f4"
         },
         "xaxis": "x",
         "y": {
          "bdata": "doQIwVSECMFGhAjBLYQIwf6ECME=",
          "dtype": "f4"
         },
         "yaxis": "y"
        },
        {
         "customdata": [
          [
           "249"
          ],
          [
           "249"
          ],
          [
           "249"
          ],
          [
           "249"
          ],
          [
           "249"
          ]
         ],
         "hovertemplate": "cluster=%{customdata[0]}<br>UMAP-1=%{x}<br>UMAP-2=%{y}<extra></extra>",
         "legendgroup": "249",
         "marker": {
          "color": "#4C78A8",
          "opacity": 0.8,
          "size": 8,
          "symbol": "circle"
         },
         "mode": "markers",
         "name": "249",
         "showlegend": true,
         "type": "scattergl",
         "x": {
          "bdata": "rxYmQJKVJ0AmuyZA0N0mQKy5JkA=",
          "dtype": "f4"
         },
         "xaxis": "x",
         "y": {
          "bdata": "YFutwZsrrcEPR63BeUKtwQxHrcE=",
          "dtype": "f4"
         },
         "yaxis": "y"
        },
        {
         "customdata": [
          [
           "250"
          ],
          [
           "250"
          ],
          [
           "250"
          ],
          [
           "250"
          ],
          [
           "250"
          ]
         ],
         "hovertemplate": "cluster=%{customdata[0]}<br>UMAP-1=%{x}<br>UMAP-2=%{y}<extra></extra>",
         "legendgroup": "250",
         "marker": {
          "color": "#F58518",
          "opacity": 0.8,
          "size": 8,
          "symbol": "circle"
         },
         "mode": "markers",
         "name": "250",
         "showlegend": true,
         "type": "scattergl",
         "x": {
          "bdata": "cqFQvmieUL5WmFC+S9FPvt+HUL4=",
          "dtype": "f4"
         },
         "xaxis": "x",
         "y": {
          "bdata": "Pi7yPy0x8j9TNfI/+D7yPxIt8j8=",
          "dtype": "f4"
         },
         "yaxis": "y"
        },
        {
         "customdata": [
          [
           "251"
          ],
          [
           "251"
          ],
          [
           "251"
          ],
          [
           "251"
          ],
          [
           "251"
          ]
         ],
         "hovertemplate": "cluster=%{customdata[0]}<br>UMAP-1=%{x}<br>UMAP-2=%{y}<extra></extra>",
         "legendgroup": "251",
         "marker": {
          "color": "#E45756",
          "opacity": 0.8,
          "size": 8,
          "symbol": "circle"
         },
         "mode": "markers",
         "name": "251",
         "showlegend": true,
         "type": "scattergl",
         "x": {
          "bdata": "1kiZP79KmT+WR5k/80SZP9ZcmT8=",
          "dtype": "f4"
         },
         "xaxis": "x",
         "y": {
          "bdata": "tuoAv+PqAL9R+AC/C/kAv4MqAb8=",
          "dtype": "f4"
         },
         "yaxis": "y"
        },
        {
         "customdata": [
          [
           "252"
          ],
          [
           "252"
          ],
          [
           "252"
          ],
          [
           "252"
          ],
          [
           "252"
          ]
         ],
         "hovertemplate": "cluster=%{customdata[0]}<br>UMAP-1=%{x}<br>UMAP-2=%{y}<extra></extra>",
         "legendgroup": "252",
         "marker": {
          "color": "#72B7B2",
          "opacity": 0.8,
          "size": 8,
          "symbol": "circle"
         },
         "mode": "markers",
         "name": "252",
         "showlegend": true,
         "type": "scattergl",
         "x": {
          "bdata": "M0WZP+BFmj9qUZk/ZuaXPwFDmT8=",
          "dtype": "f4"
         },
         "xaxis": "x",
         "y": {
          "bdata": "Yu4Av6P7A7/E9gC/laj8vsT6AL8=",
          "dtype": "f4"
         },
         "yaxis": "y"
        },
        {
         "customdata": [
          [
           "253"
          ],
          [
           "253"
          ],
          [
           "253"
          ],
          [
           "253"
          ],
          [
           "253"
          ]
         ],
         "hovertemplate": "cluster=%{customdata[0]}<br>UMAP-1=%{x}<br>UMAP-2=%{y}<extra></extra>",
         "legendgroup": "253",
         "marker": {
          "color": "#54A24B",
          "opacity": 0.8,
          "size": 8,
          "symbol": "circle"
         },
         "mode": "markers",
         "name": "253",
         "showlegend": true,
         "type": "scattergl",
         "x": {
          "bdata": "zKYWwYa2FsHXhBbBdJYWwR8eF8E=",
          "dtype": "f4"
         },
         "xaxis": "x",
         "y": {
          "bdata": "kWPNQLw9zUAZos1Ay33NQEdqzEA=",
          "dtype": "f4"
         },
         "yaxis": "y"
        },
        {
         "customdata": [
          [
           "254"
          ],
          [
           "254"
          ],
          [
           "254"
          ],
          [
           "254"
          ],
          [
           "254"
          ]
         ],
         "hovertemplate": "cluster=%{customdata[0]}<br>UMAP-1=%{x}<br>UMAP-2=%{y}<extra></extra>",
         "legendgroup": "254",
         "marker": {
          "color": "#EECA3B",
          "opacity": 0.8,
          "size": 8,
          "symbol": "circle"
         },
         "mode": "markers",
         "name": "254",
         "showlegend": true,
         "type": "scattergl",
         "x": {
          "bdata": "OHCvv73qrb86Zq+/aQqvv2kgrr8=",
          "dtype": "f4"
         },
         "xaxis": "x",
         "y": {
          "bdata": "eSXNQUUKzUF9Hc1BfBTNQYYGzUE=",
          "dtype": "f4"
         },
         "yaxis": "y"
        },
        {
         "customdata": [
          [
           "255"
          ],
          [
           "255"
          ],
          [
           "255"
          ],
          [
           "255"
          ],
          [
           "255"
          ]
         ],
         "hovertemplate": "cluster=%{customdata[0]}<br>UMAP-1=%{x}<br>UMAP-2=%{y}<extra></extra>",
         "legendgroup": "255",
         "marker": {
          "color": "#B279A2",
          "opacity": 0.8,
          "size": 8,
          "symbol": "circle"
         },
         "mode": "markers",
         "name": "255",
         "showlegend": true,
         "type": "scattergl",
         "x": {
          "bdata": "uxnOv7dCzb+0vMu/da/Kv+3lzr8=",
          "dtype": "f4"
         },
         "xaxis": "x",
         "y": {
          "bdata": "KbbPQWrUz0Enhc9BSGbPQRDOz0E=",
          "dtype": "f4"
         },
         "yaxis": "y"
        },
        {
         "customdata": [
          [
           "256"
          ],
          [
           "256"
          ],
          [
           "256"
          ],
          [
           "256"
          ],
          [
           "256"
          ]
         ],
         "hovertemplate": "cluster=%{customdata[0]}<br>UMAP-1=%{x}<br>UMAP-2=%{y}<extra></extra>",
         "legendgroup": "256",
         "marker": {
          "color": "#FF9DA6",
          "opacity": 0.8,
          "size": 8,
          "symbol": "circle"
         },
         "mode": "markers",
         "name": "256",
         "showlegend": true,
         "type": "scattergl",
         "x": {
          "bdata": "hGgaQJZoGkB5ZxpAD2gaQEpqGkA=",
          "dtype": "f4"
         },
         "xaxis": "x",
         "y": {
          "bdata": "npSeQamUnkG+lJ5BzpSeQbuUnkE=",
          "dtype": "f4"
         },
         "yaxis": "y"
        },
        {
         "customdata": [
          [
           "257"
          ],
          [
           "257"
          ],
          [
           "257"
          ],
          [
           "257"
          ],
          [
           "257"
          ]
         ],
         "hovertemplate": "cluster=%{customdata[0]}<br>UMAP-1=%{x}<br>UMAP-2=%{y}<extra></extra>",
         "legendgroup": "257",
         "marker": {
          "color": "#9D755D",
          "opacity": 0.8,
          "size": 8,
          "symbol": "circle"
         },
         "mode": "markers",
         "name": "257",
         "showlegend": true,
         "type": "scattergl",
         "x": {
          "bdata": "Vmd2wG3Pd8Dr0XfALw94wOADecA=",
          "dtype": "f4"
         },
         "xaxis": "x",
         "y": {
          "bdata": "lkqNQXcbjUGOG41B8hONQdX0jEE=",
          "dtype": "f4"
         },
         "yaxis": "y"
        },
        {
         "customdata": [
          [
           "258"
          ],
          [
           "258"
          ],
          [
           "258"
          ],
          [
           "258"
          ],
          [
           "258"
          ]
         ],
         "hovertemplate": "cluster=%{customdata[0]}<br>UMAP-1=%{x}<br>UMAP-2=%{y}<extra></extra>",
         "legendgroup": "258",
         "marker": {
          "color": "#BAB0AC",
          "opacity": 0.8,
          "size": 8,
          "symbol": "circle"
         },
         "mode": "markers",
         "name": "258",
         "showlegend": true,
         "type": "scattergl",
         "x": {
          "bdata": "66gtv+iqLb9SqC2/ppktvySeLb8=",
          "dtype": "f4"
         },
         "xaxis": "x",
         "y": {
          "bdata": "0zCJQd0wiUHoMIlBnTCJQecwiUE=",
          "dtype": "f4"
         },
         "yaxis": "y"
        },
        {
         "customdata": [
          [
           "259"
          ],
          [
           "259"
          ],
          [
           "259"
          ],
          [
           "259"
          ],
          [
           "259"
          ]
         ],
         "hovertemplate": "cluster=%{customdata[0]}<br>UMAP-1=%{x}<br>UMAP-2=%{y}<extra></extra>",
         "legendgroup": "259",
         "marker": {
          "color": "#4C78A8",
          "opacity": 0.8,
          "size": 8,
          "symbol": "circle"
         },
         "mode": "markers",
         "name": "259",
         "showlegend": true,
         "type": "scattergl",
         "x": {
          "bdata": "j3t3wNTRd8COz3fAy9Z3wAwrd8A=",
          "dtype": "f4"
         },
         "xaxis": "x",
         "y": {
          "bdata": "OSeNQX4bjUGmG41BDxuNQZwvjUE=",
          "dtype": "f4"
         },
         "yaxis": "y"
        },
        {
         "customdata": [
          [
           "260"
          ],
          [
           "260"
          ],
          [
           "260"
          ],
          [
           "260"
          ],
          [
           "260"
          ]
         ],
         "hovertemplate": "cluster=%{customdata[0]}<br>UMAP-1=%{x}<br>UMAP-2=%{y}<extra></extra>",
         "legendgroup": "260",
         "marker": {
          "color": "#F58518",
          "opacity": 0.8,
          "size": 8,
          "symbol": "circle"
         },
         "mode": "markers",
         "name": "260",
         "showlegend": true,
         "type": "scattergl",
         "x": {
          "bdata": "BIbJwFuGycDrhcnAIYbJwCmGycA=",
          "dtype": "f4"
         },
         "xaxis": "x",
         "y": {
          "bdata": "UuyAQSfsgEEm7IBBXOyAQYnsgEE=",
          "dtype": "f4"
         },
         "yaxis": "y"
        },
        {
         "customdata": [
          [
           "261"
          ],
          [
           "261"
          ],
          [
           "261"
          ],
          [
           "261"
          ],
          [
           "261"
          ]
         ],
         "hovertemplate": "cluster=%{customdata[0]}<br>UMAP-1=%{x}<br>UMAP-2=%{y}<extra></extra>",
         "legendgroup": "261",
         "marker": {
          "color": "#E45756",
          "opacity": 0.8,
          "size": 8,
          "symbol": "circle"
         },
         "mode": "markers",
         "name": "261",
         "showlegend": true,
         "type": "scattergl",
         "x": {
          "bdata": "1mgaQJRnGkBzVxpAM2kaQKdnGkA=",
          "dtype": "f4"
         },
         "xaxis": "x",
         "y": {
          "bdata": "15SeQdCUnkEwlZ5B2JSeQaiUnkE=",
          "dtype": "f4"
         },
         "yaxis": "y"
        },
        {
         "customdata": [
          [
           "262"
          ],
          [
           "262"
          ],
          [
           "262"
          ],
          [
           "262"
          ],
          [
           "262"
          ]
         ],
         "hovertemplate": "cluster=%{customdata[0]}<br>UMAP-1=%{x}<br>UMAP-2=%{y}<extra></extra>",
         "legendgroup": "262",
         "marker": {
          "color": "#72B7B2",
          "opacity": 0.8,
          "size": 8,
          "symbol": "circle"
         },
         "mode": "markers",
         "name": "262",
         "showlegend": true,
         "type": "scattergl",
         "x": {
          "bdata": "CUtSwQdLUsHCWFLBaUtSwQ5NUsE=",
          "dtype": "f4"
         },
         "xaxis": "x",
         "y": {
          "bdata": "zDimQbw4pkH0MaZByzimQfA3pkE=",
          "dtype": "f4"
         },
         "yaxis": "y"
        },
        {
         "customdata": [
          [
           "263"
          ],
          [
           "263"
          ],
          [
           "263"
          ],
          [
           "263"
          ],
          [
           "263"
          ]
         ],
         "hovertemplate": "cluster=%{customdata[0]}<br>UMAP-1=%{x}<br>UMAP-2=%{y}<extra></extra>",
         "legendgroup": "263",
         "marker": {
          "color": "#54A24B",
          "opacity": 0.8,
          "size": 8,
          "symbol": "circle"
         },
         "mode": "markers",
         "name": "263",
         "showlegend": true,
         "type": "scattergl",
         "x": {
          "bdata": "7UJSwYFDUsGqRlLBb0VSwRVGUsE=",
          "dtype": "f4"
         },
         "xaxis": "x",
         "y": {
          "bdata": "8DymQfA8pkF6O6ZB7DumQaQ7pkE=",
          "dtype": "f4"
         },
         "yaxis": "y"
        },
        {
         "customdata": [
          [
           "264"
          ],
          [
           "264"
          ],
          [
           "264"
          ],
          [
           "264"
          ],
          [
           "264"
          ]
         ],
         "hovertemplate": "cluster=%{customdata[0]}<br>UMAP-1=%{x}<br>UMAP-2=%{y}<extra></extra>",
         "legendgroup": "264",
         "marker": {
          "color": "#EECA3B",
          "opacity": 0.8,
          "size": 8,
          "symbol": "circle"
         },
         "mode": "markers",
         "name": "264",
         "showlegend": true,
         "type": "scattergl",
         "x": {
          "bdata": "B4bJwNaFycD9hcnAfYbJwB6GycA=",
          "dtype": "f4"
         },
         "xaxis": "x",
         "y": {
          "bdata": "TuyAQS/sgEFd7IBBX+yAQZfrgEE=",
          "dtype": "f4"
         },
         "yaxis": "y"
        },
        {
         "customdata": [
          [
           "265"
          ],
          [
           "265"
          ],
          [
           "265"
          ],
          [
           "265"
          ],
          [
           "265"
          ]
         ],
         "hovertemplate": "cluster=%{customdata[0]}<br>UMAP-1=%{x}<br>UMAP-2=%{y}<extra></extra>",
         "legendgroup": "265",
         "marker": {
          "color": "#B279A2",
          "opacity": 0.8,
          "size": 8,
          "symbol": "circle"
         },
         "mode": "markers",
         "name": "265",
         "showlegend": true,
         "type": "scattergl",
         "x": {
          "bdata": "chXLv7HnzL9Rxc2/r6bLv+24zb8=",
          "dtype": "f4"
         },
         "xaxis": "x",
         "y": {
          "bdata": "ZgfOQYEfzkHl181BgqXNQZUfzkE=",
          "dtype": "f4"
         },
         "yaxis": "y"
        },
        {
         "customdata": [
          [
           "266"
          ],
          [
           "266"
          ],
          [
           "266"
          ],
          [
           "266"
          ],
          [
           "266"
          ]
         ],
         "hovertemplate": "cluster=%{customdata[0]}<br>UMAP-1=%{x}<br>UMAP-2=%{y}<extra></extra>",
         "legendgroup": "266",
         "marker": {
          "color": "#FF9DA6",
          "opacity": 0.8,
          "size": 8,
          "symbol": "circle"
         },
         "mode": "markers",
         "name": "266",
         "showlegend": true,
         "type": "scattergl",
         "x": {
          "bdata": "jfOovwttrr+1Aqi/UGKpvwQhq78=",
          "dtype": "f4"
         },
         "xaxis": "x",
         "y": {
          "bdata": "oMLMQTANzUFap8xBOMDMQYvfzEE=",
          "dtype": "f4"
         },
         "yaxis": "y"
        },
        {
         "customdata": [
          [
           "267"
          ],
          [
           "267"
          ],
          [
           "267"
          ],
          [
           "267"
          ],
          [
           "267"
          ]
         ],
         "hovertemplate": "cluster=%{customdata[0]}<br>UMAP-1=%{x}<br>UMAP-2=%{y}<extra></extra>",
         "legendgroup": "267",
         "marker": {
          "color": "#9D755D",
          "opacity": 0.8,
          "size": 8,
          "symbol": "circle"
         },
         "mode": "markers",
         "name": "267",
         "showlegend": true,
         "type": "scattergl",
         "x": {
          "bdata": "LHjOv6bVzb/pKc+/PvvTv68Ozr8=",
          "dtype": "f4"
         },
         "xaxis": "x",
         "y": {
          "bdata": "XAXOQeK0zUFA381BMR7OQUwpzkE=",
          "dtype": "f4"
         },
         "yaxis": "y"
        },
        {
         "customdata": [
          [
           "268"
          ],
          [
           "268"
          ],
          [
           "268"
          ],
          [
           "268"
          ],
          [
           "268"
          ]
         ],
         "hovertemplate": "cluster=%{customdata[0]}<br>UMAP-1=%{x}<br>UMAP-2=%{y}<extra></extra>",
         "legendgroup": "268",
         "marker": {
          "color": "#BAB0AC",
          "opacity": 0.8,
          "size": 8,
          "symbol": "circle"
         },
         "mode": "markers",
         "name": "268",
         "showlegend": true,
         "type": "scattergl",
         "x": {
          "bdata": "IdD+wLSp/sDEA//AjQf+wD1O/8A=",
          "dtype": "f4"
         },
         "xaxis": "x",
         "y": {
          "bdata": "uYmdQdh+nUGplZ1By1adQfWnnUE=",
          "dtype": "f4"
         },
         "yaxis": "y"
        },
        {
         "customdata": [
          [
           "269"
          ],
          [
           "269"
          ],
          [
           "269"
          ],
          [
           "269"
          ],
          [
           "269"
          ]
         ],
         "hovertemplate": "cluster=%{customdata[0]}<br>UMAP-1=%{x}<br>UMAP-2=%{y}<extra></extra>",
         "legendgroup": "269",
         "marker": {
          "color": "#4C78A8",
          "opacity": 0.8,
          "size": 8,
          "symbol": "circle"
         },
         "mode": "markers",
         "name": "269",
         "showlegend": true,
         "type": "scattergl",
         "x": {
          "bdata": "APj+wAtD/8Dlyv7A+gH/wAZ1/8A=",
          "dtype": "f4"
         },
         "xaxis": "x",
         "y": {
          "bdata": "MJSdQQamnUHciJ1BkpWdQfSynUE=",
          "dtype": "f4"
         },
         "yaxis": "y"
        },
        {
         "customdata": [
          [
           "270"
          ],
          [
           "270"
          ],
          [
           "270"
          ],
          [
           "270"
          ],
          [
           "270"
          ]
         ],
         "hovertemplate": "cluster=%{customdata[0]}<br>UMAP-1=%{x}<br>UMAP-2=%{y}<extra></extra>",
         "legendgroup": "270",
         "marker": {
          "color": "#F58518",
          "opacity": 0.8,
          "size": 8,
          "symbol": "circle"
         },
         "mode": "markers",
         "name": "270",
         "showlegend": true,
         "type": "scattergl",
         "x": {
          "bdata": "I4aJwRGDicG3hInBVmuJwQ7HicE=",
          "dtype": "f4"
         },
         "xaxis": "x",
         "y": {
          "bdata": "6dZQQTrQUEH301BBBqFQQZVYUUE=",
          "dtype": "f4"
         },
         "yaxis": "y"
        },
        {
         "customdata": [
          [
           "271"
          ],
          [
           "271"
          ],
          [
           "271"
          ],
          [
           "271"
          ],
          [
           "271"
          ]
         ],
         "hovertemplate": "cluster=%{customdata[0]}<br>UMAP-1=%{x}<br>UMAP-2=%{y}<extra></extra>",
         "legendgroup": "271",
         "marker": {
          "color": "#E45756",
          "opacity": 0.8,
          "size": 8,
          "symbol": "circle"
         },
         "mode": "markers",
         "name": "271",
         "showlegend": true,
         "type": "scattergl",
         "x": {
          "bdata": "Cjp8wFo7fMDXN3zAejh8wNM4fMA=",
          "dtype": "f4"
         },
         "xaxis": "x",
         "y": {
          "bdata": "sZmCQAyagkAtmIJA8ZaCQPeXgkA=",
          "dtype": "f4"
         },
         "yaxis": "y"
        },
        {
         "customdata": [
          [
           "272"
          ],
          [
           "272"
          ],
          [
           "272"
          ],
          [
           "272"
          ],
          [
           "272"
          ]
         ],
         "hovertemplate": "cluster=%{customdata[0]}<br>UMAP-1=%{x}<br>UMAP-2=%{y}<extra></extra>",
         "legendgroup": "272",
         "marker": {
          "color": "#72B7B2",
          "opacity": 0.8,
          "size": 8,
          "symbol": "circle"
         },
         "mode": "markers",
         "name": "272",
         "showlegend": true,
         "type": "scattergl",
         "x": {
          "bdata": "Ia+CwJqsgsAkrILAjK2CwLHPgsA=",
          "dtype": "f4"
         },
         "xaxis": "x",
         "y": {
          "bdata": "281BQTTPQUFP0EFBctBBQcT4QUE=",
          "dtype": "f4"
         },
         "yaxis": "y"
        },
        {
         "customdata": [
          [
           "273"
          ],
          [
           "273"
          ],
          [
           "273"
          ],
          [
           "273"
          ],
          [
           "273"
          ]
         ],
         "hovertemplate": "cluster=%{customdata[0]}<br>UMAP-1=%{x}<br>UMAP-2=%{y}<extra></extra>",
         "legendgroup": "273",
         "marker": {
          "color": "#54A24B",
          "opacity": 0.8,
          "size": 8,
          "symbol": "circle"
         },
         "mode": "markers",
         "name": "273",
         "showlegend": true,
         "type": "scattergl",
         "x": {
          "bdata": "S5pGQTOTRkH9kkZBoPBGQQe+RkE=",
          "dtype": "f4"
         },
         "xaxis": "x",
         "y": {
          "bdata": "0BybQSkZm0EkGZtBH0ibQZgvm0E=",
          "dtype": "f4"
         },
         "yaxis": "y"
        },
        {
         "customdata": [
          [
           "274"
          ],
          [
           "274"
          ],
          [
           "274"
          ],
          [
           "274"
          ],
          [
           "274"
          ]
         ],
         "hovertemplate": "cluster=%{customdata[0]}<br>UMAP-1=%{x}<br>UMAP-2=%{y}<extra></extra>",
         "legendgroup": "274",
         "marker": {
          "color": "#EECA3B",
          "opacity": 0.8,
          "size": 8,
          "symbol": "circle"
         },
         "mode": "markers",
         "name": "274",
         "showlegend": true,
         "type": "scattergl",
         "x": {
          "bdata": "Qz0DQaaZA0GAXgNBtV8DQahHA0E=",
          "dtype": "f4"
         },
         "xaxis": "x",
         "y": {
          "bdata": "nJahQei/oUEfoqFBL6KhQY2foUE=",
          "dtype": "f4"
         },
         "yaxis": "y"
        },
        {
         "customdata": [
          [
           "275"
          ],
          [
           "275"
          ],
          [
           "275"
          ],
          [
           "275"
          ],
          [
           "275"
          ]
         ],
         "hovertemplate": "cluster=%{customdata[0]}<br>UMAP-1=%{x}<br>UMAP-2=%{y}<extra></extra>",
         "legendgroup": "275",
         "marker": {
          "color": "#B279A2",
          "opacity": 0.8,
          "size": 8,
          "symbol": "circle"
         },
         "mode": "markers",
         "name": "275",
         "showlegend": true,
         "type": "scattergl",
         "x": {
          "bdata": "/Sr9wAs//sB58/zA3r78wN1G/cA=",
          "dtype": "f4"
         },
         "xaxis": "x",
         "y": {
          "bdata": "fh6dQflinUGBEJ1BJAOdQZUlnUE=",
          "dtype": "f4"
         },
         "yaxis": "y"
        },
        {
         "customdata": [
          [
           "276"
          ],
          [
           "276"
          ],
          [
           "276"
          ],
          [
           "276"
          ],
          [
           "276"
          ]
         ],
         "hovertemplate": "cluster=%{customdata[0]}<br>UMAP-1=%{x}<br>UMAP-2=%{y}<extra></extra>",
         "legendgroup": "276",
         "marker": {
          "color": "#FF9DA6",
          "opacity": 0.8,
          "size": 8,
          "symbol": "circle"
         },
         "mode": "markers",
         "name": "276",
         "showlegend": true,
         "type": "scattergl",
         "x": {
          "bdata": "Ig7owGUF6MApnufA+9znwLsG6MA=",
          "dtype": "f4"
         },
         "xaxis": "x",
         "y": {
          "bdata": "kN3gQbHf4EFz+eBBqurgQV7f4EE=",
          "dtype": "f4"
         },
         "yaxis": "y"
        },
        {
         "customdata": [
          [
           "277"
          ],
          [
           "277"
          ],
          [
           "277"
          ],
          [
           "277"
          ],
          [
           "277"
          ]
         ],
         "hovertemplate": "cluster=%{customdata[0]}<br>UMAP-1=%{x}<br>UMAP-2=%{y}<extra></extra>",
         "legendgroup": "277",
         "marker": {
          "color": "#9D755D",
          "opacity": 0.8,
          "size": 8,
          "symbol": "circle"
         },
         "mode": "markers",
         "name": "277",
         "showlegend": true,
         "type": "scattergl",
         "x": {
          "bdata": "DvRqv1qwcb8xR2+/aAVrvz5acb8=",
          "dtype": "f4"
         },
         "xaxis": "x",
         "y": {
          "bdata": "DhOhQZTdoEGM8KBBWxOhQb3foEE=",
          "dtype": "f4"
         },
         "yaxis": "y"
        },
        {
         "customdata": [
          [
           "278"
          ],
          [
           "278"
          ],
          [
           "278"
          ],
          [
           "278"
          ],
          [
           "278"
          ]
         ],
         "hovertemplate": "cluster=%{customdata[0]}<br>UMAP-1=%{x}<br>UMAP-2=%{y}<extra></extra>",
         "legendgroup": "278",
         "marker": {
          "color": "#BAB0AC",
          "opacity": 0.8,
          "size": 8,
          "symbol": "circle"
         },
         "mode": "markers",
         "name": "278",
         "showlegend": true,
         "type": "scattergl",
         "x": {
          "bdata": "1J38wBsQ/cC+QPzAfyT8wEun/MA=",
          "dtype": "f4"
         },
         "xaxis": "x",
         "y": {
          "bdata": "lfqcQScXnUFH45xB3tucQUP9nEE=",
          "dtype": "f4"
         },
         "yaxis": "y"
        },
        {
         "customdata": [
          [
           "279"
          ],
          [
           "279"
          ],
          [
           "279"
          ],
          [
           "279"
          ],
          [
           "279"
          ]
         ],
         "hovertemplate": "cluster=%{customdata[0]}<br>UMAP-1=%{x}<br>UMAP-2=%{y}<extra></extra>",
         "legendgroup": "279",
         "marker": {
          "color": "#4C78A8",
          "opacity": 0.8,
          "size": 8,
          "symbol": "circle"
         },
         "mode": "markers",
         "name": "279",
         "showlegend": true,
         "type": "scattergl",
         "x": {
          "bdata": "D5KHQCCIh0A1iIdAc3yHQM+Fh0A=",
          "dtype": "f4"
         },
         "xaxis": "x",
         "y": {
          "bdata": "bqNbQcySW0G5kltBqJpbQSuTW0E=",
          "dtype": "f4"
         },
         "yaxis": "y"
        },
        {
         "customdata": [
          [
           "280"
          ],
          [
           "280"
          ],
          [
           "280"
          ],
          [
           "280"
          ],
          [
           "280"
          ]
         ],
         "hovertemplate": "cluster=%{customdata[0]}<br>UMAP-1=%{x}<br>UMAP-2=%{y}<extra></extra>",
         "legendgroup": "280",
         "marker": {
          "color": "#F58518",
          "opacity": 0.8,
          "size": 8,
          "symbol": "circle"
         },
         "mode": "markers",
         "name": "280",
         "showlegend": true,
         "type": "scattergl",
         "x": {
          "bdata": "V1CqP34/qj9Kaqo/BWSqP51vqj8=",
          "dtype": "f4"
         },
         "xaxis": "x",
         "y": {
          "bdata": "g4qMQDeOjEBUhYxASISMQMWCjEA=",
          "dtype": "f4"
         },
         "yaxis": "y"
        },
        {
         "customdata": [
          [
           "281"
          ],
          [
           "281"
          ],
          [
           "281"
          ],
          [
           "281"
          ],
          [
           "281"
          ]
         ],
         "hovertemplate": "cluster=%{customdata[0]}<br>UMAP-1=%{x}<br>UMAP-2=%{y}<extra></extra>",
         "legendgroup": "281",
         "marker": {
          "color": "#E45756",
          "opacity": 0.8,
          "size": 8,
          "symbol": "circle"
         },
         "mode": "markers",
         "name": "281",
         "showlegend": true,
         "type": "scattergl",
         "x": {
          "bdata": "DKD8P1Wi/D9Dkvw/6Jr8P4md/D8=",
          "dtype": "f4"
         },
         "xaxis": "x",
         "y": {
          "bdata": "Ue69QLzuvUDr8L1ARu69QPruvUA=",
          "dtype": "f4"
         },
         "yaxis": "y"
        },
        {
         "customdata": [
          [
           "282"
          ],
          [
           "282"
          ],
          [
           "282"
          ],
          [
           "282"
          ],
          [
           "282"
          ]
         ],
         "hovertemplate": "cluster=%{customdata[0]}<br>UMAP-1=%{x}<br>UMAP-2=%{y}<extra></extra>",
         "legendgroup": "282",
         "marker": {
          "color": "#72B7B2",
          "opacity": 0.8,
          "size": 8,
          "symbol": "circle"
         },
         "mode": "markers",
         "name": "282",
         "showlegend": true,
         "type": "scattergl",
         "x": {
          "bdata": "dPmhQJYookDk16FAJ9uiQECToUA=",
          "dtype": "f4"
         },
         "xaxis": "x",
         "y": {
          "bdata": "PtSGQV6VhkHG7oZBHQuHQTIoh0E=",
          "dtype": "f4"
         },
         "yaxis": "y"
        },
        {
         "customdata": [
          [
           "283"
          ],
          [
           "283"
          ],
          [
           "283"
          ],
          [
           "283"
          ],
          [
           "283"
          ]
         ],
         "hovertemplate": "cluster=%{customdata[0]}<br>UMAP-1=%{x}<br>UMAP-2=%{y}<extra></extra>",
         "legendgroup": "283",
         "marker": {
          "color": "#54A24B",
          "opacity": 0.8,
          "size": 8,
          "symbol": "circle"
         },
         "mode": "markers",
         "name": "283",
         "showlegend": true,
         "type": "scattergl",
         "x": {
          "bdata": "a0ahQMLaoEAMcqFANmWhQFJfoUA=",
          "dtype": "f4"
         },
         "xaxis": "x",
         "y": {
          "bdata": "Hv2HQY8oiEH+7IdBLOCHQbPjh0E=",
          "dtype": "f4"
         },
         "yaxis": "y"
        },
        {
         "customdata": [
          [
           "284"
          ],
          [
           "284"
          ],
          [
           "284"
          ],
          [
           "284"
          ],
          [
           "284"
          ]
         ],
         "hovertemplate": "cluster=%{customdata[0]}<br>UMAP-1=%{x}<br>UMAP-2=%{y}<extra></extra>",
         "legendgroup": "284",
         "marker": {
          "color": "#EECA3B",
          "opacity": 0.8,
          "size": 8,
          "symbol": "circle"
         },
         "mode": "markers",
         "name": "284",
         "showlegend": true,
         "type": "scattergl",
         "x": {
          "bdata": "gvOIwUS5iME16IjBtsuIwYqpiME=",
          "dtype": "f4"
         },
         "xaxis": "x",
         "y": {
          "bdata": "wLBPQW88T0Fimk9BH2FPQbwcT0E=",
          "dtype": "f4"
         },
         "yaxis": "y"
        },
        {
         "customdata": [
          [
           "285"
          ],
          [
           "285"
          ],
          [
           "285"
          ],
          [
           "285"
          ],
          [
           "285"
          ]
         ],
         "hovertemplate": "cluster=%{customdata[0]}<br>UMAP-1=%{x}<br>UMAP-2=%{y}<extra></extra>",
         "legendgroup": "285",
         "marker": {
          "color": "#B279A2",
          "opacity": 0.8,
          "size": 8,
          "symbol": "circle"
         },
         "mode": "markers",
         "name": "285",
         "showlegend": true,
         "type": "scattergl",
         "x": {
          "bdata": "okCiQGlBokC8P6JA6kCiQMpGokA=",
          "dtype": "f4"
         },
         "xaxis": "x",
         "y": {
          "bdata": "YL0hQVTAIUFPviFBRb8hQYK9IUE=",
          "dtype": "f4"
         },
         "yaxis": "y"
        },
        {
         "customdata": [
          [
           "286"
          ],
          [
           "286"
          ],
          [
           "286"
          ],
          [
           "286"
          ],
          [
           "286"
          ]
         ],
         "hovertemplate": "cluster=%{customdata[0]}<br>UMAP-1=%{x}<br>UMAP-2=%{y}<extra></extra>",
         "legendgroup": "286",
         "marker": {
          "color": "#FF9DA6",
          "opacity": 0.8,
          "size": 8,
          "symbol": "circle"
         },
         "mode": "markers",
         "name": "286",
         "showlegend": true,
         "type": "scattergl",
         "x": {
          "bdata": "+/YDQJxoA0DtUgNALmgDQFVHAkA=",
          "dtype": "f4"
         },
         "xaxis": "x",
         "y": {
          "bdata": "w43UQbqA1EEVftRBxYDUQfRb1EE=",
          "dtype": "f4"
         },
         "yaxis": "y"
        },
        {
         "customdata": [
          [
           "287"
          ],
          [
           "287"
          ],
          [
           "287"
          ],
          [
           "287"
          ],
          [
           "287"
          ]
         ],
         "hovertemplate": "cluster=%{customdata[0]}<br>UMAP-1=%{x}<br>UMAP-2=%{y}<extra></extra>",
         "legendgroup": "287",
         "marker": {
          "color": "#9D755D",
          "opacity": 0.8,
          "size": 8,
          "symbol": "circle"
         },
         "mode": "markers",
         "name": "287",
         "showlegend": true,
         "type": "scattergl",
         "x": {
          "bdata": "XnuzQEN7s0C/erNAx3qzQJpvs0A=",
          "dtype": "f4"
         },
         "xaxis": "x",
         "y": {
          "bdata": "Tiq7QUoqu0EuKrtBKyq7QUYmu0E=",
          "dtype": "f4"
         },
         "yaxis": "y"
        },
        {
         "customdata": [
          [
           "288"
          ],
          [
           "288"
          ],
          [
           "288"
          ],
          [
           "288"
          ],
          [
           "288"
          ]
         ],
         "hovertemplate": "cluster=%{customdata[0]}<br>UMAP-1=%{x}<br>UMAP-2=%{y}<extra></extra>",
         "legendgroup": "288",
         "marker": {
          "color": "#BAB0AC",
          "opacity": 0.8,
          "size": 8,
          "symbol": "circle"
         },
         "mode": "markers",
         "name": "288",
         "showlegend": true,
         "type": "scattergl",
         "x": {
          "bdata": "6Es4QIxMOED8SzhAtks4QDhLOEA=",
          "dtype": "f4"
         },
         "xaxis": "x",
         "y": {
          "bdata": "z7csQUi3LEGVtyxBlrcsQRC3LEE=",
          "dtype": "f4"
         },
         "yaxis": "y"
        },
        {
         "customdata": [
          [
           "289"
          ],
          [
           "289"
          ],
          [
           "289"
          ],
          [
           "289"
          ],
          [
           "289"
          ]
         ],
         "hovertemplate": "cluster=%{customdata[0]}<br>UMAP-1=%{x}<br>UMAP-2=%{y}<extra></extra>",
         "legendgroup": "289",
         "marker": {
          "color": "#4C78A8",
          "opacity": 0.8,
          "size": 8,
          "symbol": "circle"
         },
         "mode": "markers",
         "name": "289",
         "showlegend": true,
         "type": "scattergl",
         "x": {
          "bdata": "2mm+vjBsvr4Xab6+5mi+vlA7vr4=",
          "dtype": "f4"
         },
         "xaxis": "x",
         "y": {
          "bdata": "AZZ4QT+WeEEjlnhB45V4QVuSeEE=",
          "dtype": "f4"
         },
         "yaxis": "y"
        },
        {
         "customdata": [
          [
           "290"
          ],
          [
           "290"
          ],
          [
           "290"
          ],
          [
           "290"
          ],
          [
           "290"
          ]
         ],
         "hovertemplate": "cluster=%{customdata[0]}<br>UMAP-1=%{x}<br>UMAP-2=%{y}<extra></extra>",
         "legendgroup": "290",
         "marker": {
          "color": "#F58518",
          "opacity": 0.8,
          "size": 8,
          "symbol": "circle"
         },
         "mode": "markers",
         "name": "290",
         "showlegend": true,
         "type": "scattergl",
         "x": {
          "bdata": "+gPCQOYDwkBC9sFAivTBQAQYwkA=",
          "dtype": "f4"
         },
         "xaxis": "x",
         "y": {
          "bdata": "j6eiQX6nokGCsaJBt6SiQTqvokE=",
          "dtype": "f4"
         },
         "yaxis": "y"
        },
        {
         "customdata": [
          [
           "291"
          ],
          [
           "291"
          ],
          [
           "291"
          ],
          [
           "291"
          ],
          [
           "291"
          ]
         ],
         "hovertemplate": "cluster=%{customdata[0]}<br>UMAP-1=%{x}<br>UMAP-2=%{y}<extra></extra>",
         "legendgroup": "291",
         "marker": {
          "color": "#E45756",
          "opacity": 0.8,
          "size": 8,
          "symbol": "circle"
         },
         "mode": "markers",
         "name": "291",
         "showlegend": true,
         "type": "scattergl",
         "x": {
          "bdata": "QvvBQHtVwkATC8JAzQXCQIUGwkA=",
          "dtype": "f4"
         },
         "xaxis": "x",
         "y": {
          "bdata": "0Z+iQTi8okEfq6JBCamiQX6pokE=",
          "dtype": "f4"
         },
         "yaxis": "y"
        },
        {
         "customdata": [
          [
           "292"
          ],
          [
           "292"
          ],
          [
           "292"
          ],
          [
           "292"
          ],
          [
           "292"
          ]
         ],
         "hovertemplate": "cluster=%{customdata[0]}<br>UMAP-1=%{x}<br>UMAP-2=%{y}<extra></extra>",
         "legendgroup": "292",
         "marker": {
          "color": "#72B7B2",
          "opacity": 0.8,
          "size": 8,
          "symbol": "circle"
         },
         "mode": "markers",
         "name": "292",
         "showlegend": true,
         "type": "scattergl",
         "x": {
          "bdata": "UrHpwJch6sDN5enAkyzqwL636cA=",
          "dtype": "f4"
         },
         "xaxis": "x",
         "y": {
          "bdata": "Up8AQTpnAEFWhQBBCmMAQROcAEE=",
          "dtype": "f4"
         },
         "yaxis": "y"
        },
        {
         "customdata": [
          [
           "293"
          ],
          [
           "293"
          ],
          [
           "293"
          ],
          [
           "293"
          ],
          [
           "293"
          ]
         ],
         "hovertemplate": "cluster=%{customdata[0]}<br>UMAP-1=%{x}<br>UMAP-2=%{y}<extra></extra>",
         "legendgroup": "293",
         "marker": {
          "color": "#54A24B",
          "opacity": 0.8,
          "size": 8,
          "symbol": "circle"
         },
         "mode": "markers",
         "name": "293",
         "showlegend": true,
         "type": "scattergl",
         "x": {
          "bdata": "XcdeQC4VXUAzOF5AWjVdQJYxXkA=",
          "dtype": "f4"
         },
         "xaxis": "x",
         "y": {
          "bdata": "MZXFwBd2xsD85cXACV/GwMjnxcA=",
          "dtype": "f4"
         },
         "yaxis": "y"
        },
        {
         "customdata": [
          [
           "294"
          ],
          [
           "294"
          ],
          [
           "294"
          ],
          [
           "294"
          ],
          [
           "294"
          ]
         ],
         "hovertemplate": "cluster=%{customdata[0]}<br>UMAP-1=%{x}<br>UMAP-2=%{y}<extra></extra>",
         "legendgroup": "294",
         "marker": {
          "color": "#EECA3B",
          "opacity": 0.8,
          "size": 8,
          "symbol": "circle"
         },
         "mode": "markers",
         "name": "294",
         "showlegend": true,
         "type": "scattergl",
         "x": {
          "bdata": "JkkSQaFJEkHgTxJB9EkSQSBKEkE=",
          "dtype": "f4"
         },
         "xaxis": "x",
         "y": {
          "bdata": "rXxSQfp8UkGff1JBzX1SQUZ9UkE=",
          "dtype": "f4"
         },
         "yaxis": "y"
        },
        {
         "customdata": [
          [
           "295"
          ],
          [
           "295"
          ],
          [
           "295"
          ],
          [
           "295"
          ],
          [
           "295"
          ]
         ],
         "hovertemplate": "cluster=%{customdata[0]}<br>UMAP-1=%{x}<br>UMAP-2=%{y}<extra></extra>",
         "legendgroup": "295",
         "marker": {
          "color": "#B279A2",
          "opacity": 0.8,
          "size": 8,
          "symbol": "circle"
         },
         "mode": "markers",
         "name": "295",
         "showlegend": true,
         "type": "scattergl",
         "x": {
          "bdata": "l04SQW9LEkH3SRJB1UkSQR1KEkE=",
          "dtype": "f4"
         },
         "xaxis": "x",
         "y": {
          "bdata": "14JSQZN9UkFEfVJBH31SQSp9UkE=",
          "dtype": "f4"
         },
         "yaxis": "y"
        },
        {
         "customdata": [
          [
           "296"
          ],
          [
           "296"
          ],
          [
           "296"
          ],
          [
           "296"
          ],
          [
           "296"
          ]
         ],
         "hovertemplate": "cluster=%{customdata[0]}<br>UMAP-1=%{x}<br>UMAP-2=%{y}<extra></extra>",
         "legendgroup": "296",
         "marker": {
          "color": "#FF9DA6",
          "opacity": 0.8,
          "size": 8,
          "symbol": "circle"
         },
         "mode": "markers",
         "name": "296",
         "showlegend": true,
         "type": "scattergl",
         "x": {
          "bdata": "t4yCwKWugsBwzoLAqLCCwEuvgsA=",
          "dtype": "f4"
         },
         "xaxis": "x",
         "y": {
          "bdata": "1JxBQX3RQUHm/kFBwNNBQVvTQUE=",
          "dtype": "f4"
         },
         "yaxis": "y"
        },
        {
         "customdata": [
          [
           "297"
          ],
          [
           "297"
          ],
          [
           "297"
          ],
          [
           "297"
          ],
          [
           "297"
          ]
         ],
         "hovertemplate": "cluster=%{customdata[0]}<br>UMAP-1=%{x}<br>UMAP-2=%{y}<extra></extra>",
         "legendgroup": "297",
         "marker": {
          "color": "#9D755D",
          "opacity": 0.8,
          "size": 8,
          "symbol": "circle"
         },
         "mode": "markers",
         "name": "297",
         "showlegend": true,
         "type": "scattergl",
         "x": {
          "bdata": "Zgbjv/c64r/KZ+K/L9jev1+v4r8=",
          "dtype": "f4"
         },
         "xaxis": "x",
         "y": {
          "bdata": "0NvRQXbP0UHe1tFBQZrRQZLi0UE=",
          "dtype": "f4"
         },
         "yaxis": "y"
        },
        {
         "customdata": [
          [
           "298"
          ],
          [
           "298"
          ],
          [
           "298"
          ],
          [
           "298"
          ],
          [
           "298"
          ]
         ],
         "hovertemplate": "cluster=%{customdata[0]}<br>UMAP-1=%{x}<br>UMAP-2=%{y}<extra></extra>",
         "legendgroup": "298",
         "marker": {
          "color": "#BAB0AC",
          "opacity": 0.8,
          "size": 8,
          "symbol": "circle"
         },
         "mode": "markers",
         "name": "298",
         "showlegend": true,
         "type": "scattergl",
         "x": {
          "bdata": "kTDlvzp7478Jhue/jbDjv8za5L8=",
          "dtype": "f4"
         },
         "xaxis": "x",
         "y": {
          "bdata": "FgjSQRvn0UHyP9JBhu3RQVsK0kE=",
          "dtype": "f4"
         },
         "yaxis": "y"
        },
        {
         "customdata": [
          [
           "299"
          ],
          [
           "299"
          ],
          [
           "299"
          ],
          [
           "299"
          ],
          [
           "299"
          ]
         ],
         "hovertemplate": "cluster=%{customdata[0]}<br>UMAP-1=%{x}<br>UMAP-2=%{y}<extra></extra>",
         "legendgroup": "299",
         "marker": {
          "color": "#4C78A8",
          "opacity": 0.8,
          "size": 8,
          "symbol": "circle"
         },
         "mode": "markers",
         "name": "299",
         "showlegend": true,
         "type": "scattergl",
         "x": {
          "bdata": "iwvVv9IA2L+O0tm/E+DWv7EA2L8=",
          "dtype": "f4"
         },
         "xaxis": "x",
         "y": {
          "bdata": "ydbQQSci0UFOO9FBGQDRQXH80EE=",
          "dtype": "f4"
         },
         "yaxis": "y"
        },
        {
         "customdata": [
          [
           "300"
          ],
          [
           "300"
          ],
          [
           "300"
          ],
          [
           "300"
          ],
          [
           "300"
          ]
         ],
         "hovertemplate": "cluster=%{customdata[0]}<br>UMAP-1=%{x}<br>UMAP-2=%{y}<extra></extra>",
         "legendgroup": "300",
         "marker": {
          "color": "#F58518",
          "opacity": 0.8,
          "size": 8,
          "symbol": "circle"
         },
         "mode": "markers",
         "name": "300",
         "showlegend": true,
         "type": "scattergl",
         "x": {
          "bdata": "kl/nv0un579GW+a/OmXlv4h25b8=",
          "dtype": "f4"
         },
         "xaxis": "x",
         "y": {
          "bdata": "RyrSQXJE0kFUGtJBYgrSQawK0kE=",
          "dtype": "f4"
         },
         "yaxis": "y"
        },
        {
         "customdata": [
          [
           "301"
          ],
          [
           "301"
          ],
          [
           "301"
          ],
          [
           "301"
          ],
          [
           "301"
          ]
         ],
         "hovertemplate": "cluster=%{customdata[0]}<br>UMAP-1=%{x}<br>UMAP-2=%{y}<extra></extra>",
         "legendgroup": "301",
         "marker": {
          "color": "#E45756",
          "opacity": 0.8,
          "size": 8,
          "symbol": "circle"
         },
         "mode": "markers",
         "name": "301",
         "showlegend": true,
         "type": "scattergl",
         "x": {
          "bdata": "+2PeQKhj3kBWZN5A+GPeQCNk3kA=",
          "dtype": "f4"
         },
         "xaxis": "x",
         "y": {
          "bdata": "WZ+bQHedm0BRoJtAGp+bQFmgm0A=",
          "dtype": "f4"
         },
         "yaxis": "y"
        },
        {
         "customdata": [
          [
           "302"
          ],
          [
           "302"
          ],
          [
           "302"
          ],
          [
           "302"
          ],
          [
           "302"
          ]
         ],
         "hovertemplate": "cluster=%{customdata[0]}<br>UMAP-1=%{x}<br>UMAP-2=%{y}<extra></extra>",
         "legendgroup": "302",
         "marker": {
          "color": "#72B7B2",
          "opacity": 0.8,
          "size": 8,
          "symbol": "circle"
         },
         "mode": "markers",
         "name": "302",
         "showlegend": true,
         "type": "scattergl",
         "x": {
          "bdata": "4U0DQA5KA0BI8wJAvTkDQFf2A0A=",
          "dtype": "f4"
         },
         "xaxis": "x",
         "y": {
          "bdata": "Jn7UQYZ91EEhiNRBW3vUQfKT1EE=",
          "dtype": "f4"
         },
         "yaxis": "y"
        },
        {
         "customdata": [
          [
           "303"
          ],
          [
           "303"
          ],
          [
           "303"
          ],
          [
           "303"
          ],
          [
           "303"
          ]
         ],
         "hovertemplate": "cluster=%{customdata[0]}<br>UMAP-1=%{x}<br>UMAP-2=%{y}<extra></extra>",
         "legendgroup": "303",
         "marker": {
          "color": "#54A24B",
          "opacity": 0.8,
          "size": 8,
          "symbol": "circle"
         },
         "mode": "markers",
         "name": "303",
         "showlegend": true,
         "type": "scattergl",
         "x": {
          "bdata": "RwbVv57A1b+VHti/ZznZv1Nr178=",
          "dtype": "f4"
         },
         "xaxis": "x",
         "y": {
          "bdata": "+9bQQazo0EHOENFBLiPRQbMv0UE=",
          "dtype": "f4"
         },
         "yaxis": "y"
        },
        {
         "customdata": [
          [
           "304"
          ],
          [
           "304"
          ],
          [
           "304"
          ],
          [
           "304"
          ],
          [
           "304"
          ]
         ],
         "hovertemplate": "cluster=%{customdata[0]}<br>UMAP-1=%{x}<br>UMAP-2=%{y}<extra></extra>",
         "legendgroup": "304",
         "marker": {
          "color": "#EECA3B",
          "opacity": 0.8,
          "size": 8,
          "symbol": "circle"
         },
         "mode": "markers",
         "name": "304",
         "showlegend": true,
         "type": "scattergl",
         "x": {
          "bdata": "heICQAlMA0CVTANAFgMCQAU6BEA=",
          "dtype": "f4"
         },
         "xaxis": "x",
         "y": {
          "bdata": "IHHUQT5+1EEmf9RBq1XUQZ2d1EE=",
          "dtype": "f4"
         },
         "yaxis": "y"
        },
        {
         "customdata": [
          [
           "305"
          ],
          [
           "305"
          ],
          [
           "305"
          ],
          [
           "305"
          ],
          [
           "305"
          ]
         ],
         "hovertemplate": "cluster=%{customdata[0]}<br>UMAP-1=%{x}<br>UMAP-2=%{y}<extra></extra>",
         "legendgroup": "305",
         "marker": {
          "color": "#B279A2",
          "opacity": 0.8,
          "size": 8,
          "symbol": "circle"
         },
         "mode": "markers",
         "name": "305",
         "showlegend": true,
         "type": "scattergl",
         "x": {
          "bdata": "3DWzQM+Es0D7d7RA8oqzQK+Js0A=",
          "dtype": "f4"
         },
         "xaxis": "x",
         "y": {
          "bdata": "WBm7QdAtu0F4artBgy+7QcMuu0E=",
          "dtype": "f4"
         },
         "yaxis": "y"
        },
        {
         "customdata": [
          [
           "306"
          ],
          [
           "306"
          ],
          [
           "306"
          ],
          [
           "306"
          ],
          [
           "306"
          ]
         ],
         "hovertemplate": "cluster=%{customdata[0]}<br>UMAP-1=%{x}<br>UMAP-2=%{y}<extra></extra>",
         "legendgroup": "306",
         "marker": {
          "color": "#FF9DA6",
          "opacity": 0.8,
          "size": 8,
          "symbol": "circle"
         },
         "mode": "markers",
         "name": "306",
         "showlegend": true,
         "type": "scattergl",
         "x": {
          "bdata": "UpGzQAfgs0CUkLNAZI+zQLOPs0A=",
          "dtype": "f4"
         },
         "xaxis": "x",
         "y": {
          "bdata": "jzG7QcVEu0EEMbtBoTC7QaYwu0E=",
          "dtype": "f4"
         },
         "yaxis": "y"
        },
        {
         "customdata": [
          [
           "307"
          ],
          [
           "307"
          ],
          [
           "307"
          ],
          [
           "307"
          ],
          [
           "307"
          ]
         ],
         "hovertemplate": "cluster=%{customdata[0]}<br>UMAP-1=%{x}<br>UMAP-2=%{y}<extra></extra>",
         "legendgroup": "307",
         "marker": {
          "color": "#9D755D",
          "opacity": 0.8,
          "size": 8,
          "symbol": "circle"
         },
         "mode": "markers",
         "name": "307",
         "showlegend": true,
         "type": "scattergl",
         "x": {
          "bdata": "9T7pwJE+6cBPcerA2D3pwFaB6cA=",
          "dtype": "f4"
         },
         "xaxis": "x",
         "y": {
          "bdata": "hpHgQbCR4EEbReBB9JHgQUWB4EE=",
          "dtype": "f4"
         },
         "yaxis": "y"
        },
        {
         "customdata": [
          [
           "308"
          ],
          [
           "308"
          ],
          [
           "308"
          ],
          [
           "308"
          ],
          [
           "308"
          ]
         ],
         "hovertemplate": "cluster=%{customdata[0]}<br>UMAP-1=%{x}<br>UMAP-2=%{y}<extra></extra>",
         "legendgroup": "308",
         "marker": {
          "color": "#BAB0AC",
          "opacity": 0.8,
          "size": 8,
          "symbol": "circle"
         },
         "mode": "markers",
         "name": "308",
         "showlegend": true,
         "type": "scattergl",
         "x": {
          "bdata": "yOa7P1Bxuz+XZbs/L2W7PwJpuz8=",
          "dtype": "f4"
         },
         "xaxis": "x",
         "y": {
          "bdata": "ayiGQWUthkHpLoZB6y2GQfgthkE=",
          "dtype": "f4"
         },
         "yaxis": "y"
        },
        {
         "customdata": [
          [
           "309"
          ],
          [
           "309"
          ],
          [
           "309"
          ],
          [
           "309"
          ],
          [
           "309"
          ]
         ],
         "hovertemplate": "cluster=%{customdata[0]}<br>UMAP-1=%{x}<br>UMAP-2=%{y}<extra></extra>",
         "legendgroup": "309",
         "marker": {
          "color": "#4C78A8",
          "opacity": 0.8,
          "size": 8,
          "symbol": "circle"
         },
         "mode": "markers",
         "name": "309",
         "showlegend": true,
         "type": "scattergl",
         "x": {
          "bdata": "nhRewKkTXsC0C17Aq+tdwIs3XsA=",
          "dtype": "f4"
         },
         "xaxis": "x",
         "y": {
          "bdata": "7HNaQf50WkGZdlpBrn1aQZhuWkE=",
          "dtype": "f4"
         },
         "yaxis": "y"
        },
        {
         "customdata": [
          [
           "310"
          ],
          [
           "310"
          ],
          [
           "310"
          ],
          [
           "310"
          ],
          [
           "310"
          ]
         ],
         "hovertemplate": "cluster=%{customdata[0]}<br>UMAP-1=%{x}<br>UMAP-2=%{y}<extra></extra>",
         "legendgroup": "310",
         "marker": {
          "color": "#F58518",
          "opacity": 0.8,
          "size": 8,
          "symbol": "circle"
         },
         "mode": "markers",
         "name": "310",
         "showlegend": true,
         "type": "scattergl",
         "x": {
          "bdata": "CA4JQKYPCUB3HQlAORIJQK4SCUA=",
          "dtype": "f4"
         },
         "xaxis": "x",
         "y": {
          "bdata": "uvVjQMPzY0Cx5GNA/e9jQEDzY0A=",
          "dtype": "f4"
         },
         "yaxis": "y"
        },
        {
         "customdata": [
          [
           "311"
          ],
          [
           "311"
          ],
          [
           "311"
          ],
          [
           "311"
          ],
          [
           "311"
          ]
         ],
         "hovertemplate": "cluster=%{customdata[0]}<br>UMAP-1=%{x}<br>UMAP-2=%{y}<extra></extra>",
         "legendgroup": "311",
         "marker": {
          "color": "#E45756",
          "opacity": 0.8,
          "size": 8,
          "symbol": "circle"
         },
         "mode": "markers",
         "name": "311",
         "showlegend": true,
         "type": "scattergl",
         "x": {
          "bdata": "/BJewOMUXMDfm13A8Y5dwCOAXsA=",
          "dtype": "f4"
         },
         "xaxis": "x",
         "y": {
          "bdata": "h3RaQV7zWkFDkVpBBJNaQS9XWkE=",
          "dtype": "f4"
         },
         "yaxis": "y"
        },
        {
         "customdata": [
          [
           "312"
          ],
          [
           "312"
          ],
          [
           "312"
          ],
          [
           "312"
          ],
          [
           "312"
          ]
         ],
         "hovertemplate": "cluster=%{customdata[0]}<br>UMAP-1=%{x}<br>UMAP-2=%{y}<extra></extra>",
         "legendgroup": "312",
         "marker": {
          "color": "#72B7B2",
          "opacity": 0.8,
          "size": 8,
          "symbol": "circle"
         },
         "mode": "markers",
         "name": "312",
         "showlegend": true,
         "type": "scattergl",
         "x": {
          "bdata": "LbWsQGe0rECus6xAtp+sQN2vrEA=",
          "dtype": "f4"
         },
         "xaxis": "x",
         "y": {
          "bdata": "IPAyQXvvMkF67jJBW/QyQZrwMkE=",
          "dtype": "f4"
         },
         "yaxis": "y"
        },
        {
         "customdata": [
          [
           "313"
          ],
          [
           "313"
          ],
          [
           "313"
          ],
          [
           "313"
          ],
          [
           "313"
          ]
         ],
         "hovertemplate": "cluster=%{customdata[0]}<br>UMAP-1=%{x}<br>UMAP-2=%{y}<extra></extra>",
         "legendgroup": "313",
         "marker": {
          "color": "#54A24B",
          "opacity": 0.8,
          "size": 8,
          "symbol": "circle"
         },
         "mode": "markers",
         "name": "313",
         "showlegend": true,
         "type": "scattergl",
         "x": {
          "bdata": "OncjwCtmI8CrbiPAoX0jwPduI8A=",
          "dtype": "f4"
         },
         "xaxis": "x",
         "y": {
          "bdata": "Fcn/QHHE/0Bwwv9Aisj/QInG/0A=",
          "dtype": "f4"
         },
         "yaxis": "y"
        },
        {
         "customdata": [
          [
           "314"
          ],
          [
           "314"
          ],
          [
           "314"
          ],
          [
           "314"
          ],
          [
           "314"
          ]
         ],
         "hovertemplate": "cluster=%{customdata[0]}<br>UMAP-1=%{x}<br>UMAP-2=%{y}<extra></extra>",
         "legendgroup": "314",
         "marker": {
          "color": "#EECA3B",
          "opacity": 0.8,
          "size": 8,
          "symbol": "circle"
         },
         "mode": "markers",
         "name": "314",
         "showlegend": true,
         "type": "scattergl",
         "x": {
          "bdata": "14X7wEOE+8CVSPzAWr37wAkn+8A=",
          "dtype": "f4"
         },
         "xaxis": "x",
         "y": {
          "bdata": "T7acQSG2nEEO55xBM8ScQaqenEE=",
          "dtype": "f4"
         },
         "yaxis": "y"
        },
        {
         "customdata": [
          [
           "315"
          ],
          [
           "315"
          ],
          [
           "315"
          ],
          [
           "315"
          ],
          [
           "315"
          ]
         ],
         "hovertemplate": "cluster=%{customdata[0]}<br>UMAP-1=%{x}<br>UMAP-2=%{y}<extra></extra>",
         "legendgroup": "315",
         "marker": {
          "color": "#B279A2",
          "opacity": 0.8,
          "size": 8,
          "symbol": "circle"
         },
         "mode": "markers",
         "name": "315",
         "showlegend": true,
         "type": "scattergl",
         "x": {
          "bdata": "6XG7P1Fquz9Nxbo/M2a7P85luz8=",
          "dtype": "f4"
         },
         "xaxis": "x",
         "y": {
          "bdata": "RC2GQd4thkESNYZB/y2GQf4thkE=",
          "dtype": "f4"
         },
         "yaxis": "y"
        },
        {
         "customdata": [
          [
           "316"
          ],
          [
           "316"
          ],
          [
           "316"
          ],
          [
           "316"
          ],
          [
           "316"
          ]
         ],
         "hovertemplate": "cluster=%{customdata[0]}<br>UMAP-1=%{x}<br>UMAP-2=%{y}<extra></extra>",
         "legendgroup": "316",
         "marker": {
          "color": "#FF9DA6",
          "opacity": 0.8,
          "size": 8,
          "symbol": "circle"
         },
         "mode": "markers",
         "name": "316",
         "showlegend": true,
         "type": "scattergl",
         "x": {
          "bdata": "/EuhQJqfoEARO6BACqWgQMLsoEA=",
          "dtype": "f4"
         },
         "xaxis": "x",
         "y": {
          "bdata": "wumHQWFLiEGER4hB7kiIQagjiEE=",
          "dtype": "f4"
         },
         "yaxis": "y"
        },
        {
         "customdata": [
          [
           "317"
          ],
          [
           "317"
          ],
          [
           "317"
          ],
          [
           "317"
          ],
          [
           "317"
          ]
         ],
         "hovertemplate": "cluster=%{customdata[0]}<br>UMAP-1=%{x}<br>UMAP-2=%{y}<extra></extra>",
         "legendgroup": "317",
         "marker": {
          "color": "#9D755D",
          "opacity": 0.8,
          "size": 8,
          "symbol": "circle"
         },
         "mode": "markers",
         "name": "317",
         "showlegend": true,
         "type": "scattergl",
         "x": {
          "bdata": "zoeHQJaIh0CeiodAYYaHQDaNh0A=",
          "dtype": "f4"
         },
         "xaxis": "x",
         "y": {
          "bdata": "SJNbQeWTW0G6k1tBFpJbQfqTW0E=",
          "dtype": "f4"
         },
         "yaxis": "y"
        },
        {
         "customdata": [
          [
           "318"
          ],
          [
           "318"
          ],
          [
           "318"
          ],
          [
           "318"
          ],
          [
           "318"
          ]
         ],
         "hovertemplate": "cluster=%{customdata[0]}<br>UMAP-1=%{x}<br>UMAP-2=%{y}<extra></extra>",
         "legendgroup": "318",
         "marker": {
          "color": "#BAB0AC",
          "opacity": 0.8,
          "size": 8,
          "symbol": "circle"
         },
         "mode": "markers",
         "name": "318",
         "showlegend": true,
         "type": "scattergl",
         "x": {
          "bdata": "MKOZQVnAmUEDl5lBGZ2ZQQGZmUE=",
          "dtype": "f4"
         },
         "xaxis": "x",
         "y": {
          "bdata": "aYQ+wMuNPcDx5z7AFbQ+wKzSPsA=",
          "dtype": "f4"
         },
         "yaxis": "y"
        },
        {
         "customdata": [
          [
           "319"
          ],
          [
           "319"
          ],
          [
           "319"
          ],
          [
           "319"
          ],
          [
           "319"
          ]
         ],
         "hovertemplate": "cluster=%{customdata[0]}<br>UMAP-1=%{x}<br>UMAP-2=%{y}<extra></extra>",
         "legendgroup": "319",
         "marker": {
          "color": "#4C78A8",
          "opacity": 0.8,
          "size": 8,
          "symbol": "circle"
         },
         "mode": "markers",
         "name": "319",
         "showlegend": true,
         "type": "scattergl",
         "x": {
          "bdata": "Dz6hQGTsoECfHKFAJOGhQFK+oEA=",
          "dtype": "f4"
         },
         "xaxis": "x",
         "y": {
          "bdata": "/fuHQWwciEEVHYhBzdqHQa9ciEE=",
          "dtype": "f4"
         },
         "yaxis": "y"
        },
        {
         "customdata": [
          [
           "320"
          ],
          [
           "320"
          ],
          [
           "320"
          ],
          [
           "320"
          ],
          [
           "320"
          ]
         ],
         "hovertemplate": "cluster=%{customdata[0]}<br>UMAP-1=%{x}<br>UMAP-2=%{y}<extra></extra>",
         "legendgroup": "320",
         "marker": {
          "color": "#F58518",
          "opacity": 0.8,
          "size": 8,
          "symbol": "circle"
         },
         "mode": "markers",
         "name": "320",
         "showlegend": true,
         "type": "scattergl",
         "x": {
          "bdata": "R5GfQFjNoEANjqBAbnegQN+IoEA=",
          "dtype": "f4"
         },
         "xaxis": "x",
         "y": {
          "bdata": "vqmIQfxAiEEyT4hBemqIQZlQiEE=",
          "dtype": "f4"
         },
         "yaxis": "y"
        },
        {
         "customdata": [
          [
           "321"
          ],
          [
           "321"
          ],
          [
           "321"
          ],
          [
           "321"
          ],
          [
           "321"
          ]
         ],
         "hovertemplate": "cluster=%{customdata[0]}<br>UMAP-1=%{x}<br>UMAP-2=%{y}<extra></extra>",
         "legendgroup": "321",
         "marker": {
          "color": "#E45756",
          "opacity": 0.8,
          "size": 8,
          "symbol": "circle"
         },
         "mode": "markers",
         "name": "321",
         "showlegend": true,
         "type": "scattergl",
         "x": {
          "bdata": "X8Gkv53ZpL/h0KG/Gq+jv/eXp78=",
          "dtype": "f4"
         },
         "xaxis": "x",
         "y": {
          "bdata": "NIzZQCWT2UAu0NhAH0jZQGpB2kA=",
          "dtype": "f4"
         },
         "yaxis": "y"
        },
        {
         "customdata": [
          [
           "322"
          ],
          [
           "322"
          ],
          [
           "322"
          ],
          [
           "322"
          ],
          [
           "322"
          ]
         ],
         "hovertemplate": "cluster=%{customdata[0]}<br>UMAP-1=%{x}<br>UMAP-2=%{y}<extra></extra>",
         "legendgroup": "322",
         "marker": {
          "color": "#72B7B2",
          "opacity": 0.8,
          "size": 8,
          "symbol": "circle"
         },
         "mode": "markers",
         "name": "322",
         "showlegend": true,
         "type": "scattergl",
         "x": {
          "bdata": "d1O5P+Fjuz+yu7g/L8K5P1CWuj8=",
          "dtype": "f4"
         },
         "xaxis": "x",
         "y": {
          "bdata": "l1yBwRl+gcHkUoHBhGOBweZwgcE=",
          "dtype": "f4"
         },
         "yaxis": "y"
        },
        {
         "customdata": [
          [
           "323"
          ],
          [
           "323"
          ],
          [
           "323"
          ],
          [
           "323"
          ],
          [
           "323"
          ]
         ],
         "hovertemplate": "cluster=%{customdata[0]}<br>UMAP-1=%{x}<br>UMAP-2=%{y}<extra></extra>",
         "legendgroup": "323",
         "marker": {
          "color": "#54A24B",
          "opacity": 0.8,
          "size": 8,
          "symbol": "circle"
         },
         "mode": "markers",
         "name": "323",
         "showlegend": true,
         "type": "scattergl",
         "x": {
          "bdata": "s5Osv4Rrqr+rtqq/c0KtvzmgrL8=",
          "dtype": "f4"
         },
         "xaxis": "x",
         "y": {
          "bdata": "5H7bQFX12kBMA9tAk6nbQDSC20A=",
          "dtype": "f4"
         },
         "yaxis": "y"
        },
        {
         "customdata": [
          [
           "324"
          ],
          [
           "324"
          ],
          [
           "324"
          ],
          [
           "324"
          ],
          [
           "324"
          ]
         ],
         "hovertemplate": "cluster=%{customdata[0]}<br>UMAP-1=%{x}<br>UMAP-2=%{y}<extra></extra>",
         "legendgroup": "324",
         "marker": {
          "color": "#EECA3B",
          "opacity": 0.8,
          "size": 8,
          "symbol": "circle"
         },
         "mode": "markers",
         "name": "324",
         "showlegend": true,
         "type": "scattergl",
         "x": {
          "bdata": "KTWcQJdCnECW3JtAHxicQLzpm0A=",
          "dtype": "f4"
         },
         "xaxis": "x",
         "y": {
          "bdata": "WdFHwM7qR8AYGUfAGpVHwKQwR8A=",
          "dtype": "f4"
         },
         "yaxis": "y"
        },
        {
         "customdata": [
          [
           "325"
          ],
          [
           "325"
          ],
          [
           "325"
          ],
          [
           "325"
          ],
          [
           "325"
          ]
         ],
         "hovertemplate": "cluster=%{customdata[0]}<br>UMAP-1=%{x}<br>UMAP-2=%{y}<extra></extra>",
         "legendgroup": "325",
         "marker": {
          "color": "#B279A2",
          "opacity": 0.8,
          "size": 8,
          "symbol": "circle"
         },
         "mode": "markers",
         "name": "325",
         "showlegend": true,
         "type": "scattergl",
         "x": {
          "bdata": "Ldeev0romb97AJ2/jlyfvzJ1nb8=",
          "dtype": "f4"
         },
         "xaxis": "x",
         "y": {
          "bdata": "RxfYQKbY1kCtm9dA3zXYQCO+10A=",
          "dtype": "f4"
         },
         "yaxis": "y"
        },
        {
         "customdata": [
          [
           "326"
          ],
          [
           "326"
          ],
          [
           "326"
          ],
          [
           "326"
          ],
          [
           "326"
          ]
         ],
         "hovertemplate": "cluster=%{customdata[0]}<br>UMAP-1=%{x}<br>UMAP-2=%{y}<extra></extra>",
         "legendgroup": "326",
         "marker": {
          "color": "#FF9DA6",
          "opacity": 0.8,
          "size": 8,
          "symbol": "circle"
         },
         "mode": "markers",
         "name": "326",
         "showlegend": true,
         "type": "scattergl",
         "x": {
          "bdata": "1nOdv7Iyob9M9Jy/aricv4cXn78=",
          "dtype": "f4"
         },
         "xaxis": "x",
         "y": {
          "bdata": "+bzXQPep2EA3oNdA8I7XQLsi2EA=",
          "dtype": "f4"
         },
         "yaxis": "y"
        },
        {
         "customdata": [
          [
           "327"
          ],
          [
           "327"
          ],
          [
           "327"
          ],
          [
           "327"
          ],
          [
           "327"
          ]
         ],
         "hovertemplate": "cluster=%{customdata[0]}<br>UMAP-1=%{x}<br>UMAP-2=%{y}<extra></extra>",
         "legendgroup": "327",
         "marker": {
          "color": "#9D755D",
          "opacity": 0.8,
          "size": 8,
          "symbol": "circle"
         },
         "mode": "markers",
         "name": "327",
         "showlegend": true,
         "type": "scattergl",
         "x": {
          "bdata": "Bembv7vLm7+w85y/iNKcvxNCn78=",
          "dtype": "f4"
         },
         "xaxis": "x",
         "y": {
          "bdata": "dFnXQHxS10DGl9dAkZTXQFYu2EA=",
          "dtype": "f4"
         },
         "yaxis": "y"
        },
        {
         "customdata": [
          [
           "328"
          ],
          [
           "328"
          ],
          [
           "328"
          ],
          [
           "328"
          ],
          [
           "328"
          ],
          [
           "328"
          ],
          [
           "328"
          ],
          [
           "328"
          ],
          [
           "328"
          ],
          [
           "328"
          ],
          [
           "328"
          ],
          [
           "328"
          ],
          [
           "328"
          ],
          [
           "328"
          ],
          [
           "328"
          ],
          [
           "328"
          ],
          [
           "328"
          ],
          [
           "328"
          ],
          [
           "328"
          ],
          [
           "328"
          ]
         ],
         "hovertemplate": "cluster=%{customdata[0]}<br>UMAP-1=%{x}<br>UMAP-2=%{y}<extra></extra>",
         "legendgroup": "328",
         "marker": {
          "color": "#BAB0AC",
          "opacity": 0.8,
          "size": 8,
          "symbol": "circle"
         },
         "mode": "markers",
         "name": "328",
         "showlegend": true,
         "type": "scattergl",
         "x": {
          "bdata": "MUzHQQ0ux0HtP8dBxkPHQXo+x0GoQMdBlETHQdlCx0F4G8dBYjPHQUkax0E9I8dBGtDFQZs9x0FLMcdBrEjHQRFPxkH+CsdBkYjHQa4gx0E=",
          "dtype": "f4"
         },
         "xaxis": "x",
         "y": {
          "bdata": "d2ejwSlJo8EWW6PB/V6jwaxZo8HdW6PBvV+jwUZeo8GNNqPBjE6jwU01o8E+PqPBl+ehweBYo8FhTKPBzmOjwRtnosEHJqPBnqOjwbQ7o8E=",
          "dtype": "f4"
         },
         "yaxis": "y"
        },
        {
         "customdata": [
          [
           "329"
          ],
          [
           "329"
          ],
          [
           "329"
          ],
          [
           "329"
          ],
          [
           "329"
          ],
          [
           "329"
          ],
          [
           "329"
          ],
          [
           "329"
          ],
          [
           "329"
          ],
          [
           "329"
          ],
          [
           "329"
          ],
          [
           "329"
          ],
          [
           "329"
          ],
          [
           "329"
          ],
          [
           "329"
          ],
          [
           "329"
          ],
          [
           "329"
          ],
          [
           "329"
          ],
          [
           "329"
          ],
          [
           "329"
          ]
         ],
         "hovertemplate": "cluster=%{customdata[0]}<br>UMAP-1=%{x}<br>UMAP-2=%{y}<extra></extra>",
         "legendgroup": "329",
         "marker": {
          "color": "#4C78A8",
          "opacity": 0.8,
          "size": 8,
          "symbol": "circle"
         },
         "mode": "markers",
         "name": "329",
         "showlegend": true,
         "type": "scattergl",
         "x": {
          "bdata": "QgoRQlETEUKvDRFCjBkRQpsBEUJCDhFCYPIQQkUNEUJcNhFCRe0QQmwCEUKDHBFCJfcQQuYKEUJO7xBC5QoRQnL4EELARhFCuykRQsANEUI=",
          "dtype": "f4"
         },
         "xaxis": "x",
         "y": {
          "bdata": "DPeNwLqujcD3243AQ32NwHE8jsBS143ArLaOwAjfjcAYl4zAZt+OwEw2jsDdZY3ArJCOwMDyjcBVz47Az/KNwIOGjsA6FIzAqPyMwErcjcA=",
          "dtype": "f4"
         },
         "yaxis": "y"
        },
        {
         "customdata": [
          [
           "330"
          ],
          [
           "330"
          ],
          [
           "330"
          ],
          [
           "330"
          ],
          [
           "330"
          ],
          [
           "330"
          ],
          [
           "330"
          ],
          [
           "330"
          ],
          [
           "330"
          ],
          [
           "330"
          ],
          [
           "330"
          ],
          [
           "330"
          ],
          [
           "330"
          ],
          [
           "330"
          ],
          [
           "330"
          ],
          [
           "330"
          ],
          [
           "330"
          ],
          [
           "330"
          ],
          [
           "330"
          ],
          [
           "330"
          ]
         ],
         "hovertemplate": "cluster=%{customdata[0]}<br>UMAP-1=%{x}<br>UMAP-2=%{y}<extra></extra>",
         "legendgroup": "330",
         "marker": {
          "color": "#F58518",
          "opacity": 0.8,
          "size": 8,
          "symbol": "circle"
         },
         "mode": "markers",
         "name": "330",
         "showlegend": true,
         "type": "scattergl",
         "x": {
          "bdata": "btRsQSSSa0GT3mxB/m1tQUEdbUEL0WxBJOJsQX7gbEEg82xBueFsQSz6bEECDW1BZBJtQSUNbUHZw2xB5iptQQbsbEFAeG1Bhw1tQTLBakE=",
          "dtype": "f4"
         },
         "xaxis": "x",
         "y": {
          "bdata": "wPwtQeLALEEgBy5BN5YuQQ9OLkGKAS5BZAsuQZ4ILkH7GS5BFQouQUwfLkG8NC5ByzkuQW82LkE76i1Bt1UuQZMTLkFcnS5BijIuQYTwK0E=",
          "dtype": "f4"
         },
         "yaxis": "y"
        },
        {
         "customdata": [
          [
           "331"
          ],
          [
           "331"
          ],
          [
           "331"
          ],
          [
           "331"
          ],
          [
           "331"
          ],
          [
           "331"
          ],
          [
           "331"
          ],
          [
           "331"
          ],
          [
           "331"
          ],
          [
           "331"
          ],
          [
           "331"
          ],
          [
           "331"
          ],
          [
           "331"
          ],
          [
           "331"
          ],
          [
           "331"
          ],
          [
           "331"
          ],
          [
           "331"
          ],
          [
           "331"
          ],
          [
           "331"
          ],
          [
           "331"
          ]
         ],
         "hovertemplate": "cluster=%{customdata[0]}<br>UMAP-1=%{x}<br>UMAP-2=%{y}<extra></extra>",
         "legendgroup": "331",
         "marker": {
          "color": "#E45756",
          "opacity": 0.8,
          "size": 8,
          "symbol": "circle"
         },
         "mode": "markers",
         "name": "331",
         "showlegend": true,
         "type": "scattergl",
         "x": {
          "bdata": "axwAQo0BAEI2//9BgYr/QRQWAEJQPABCBP3/QaMuAEInpABCLDkAQpwMAELi1v9B2AsAQq70/0EIDgBCmQUAQicCAEITLQBCT/j/QQgIAEI=",
          "dtype": "f4"
         },
         "xaxis": "x",
         "y": {
          "bdata": "LwFHQOSgSECviEhAn2ReQNyiRkA6+ENA5ApJQG78REBDWj5AVP1DQG+nR0CnK0pAbtpHQBm9SEAepkdAQMBIQIgzSEBVvkVA+btIQCGxR0A=",
          "dtype": "f4"
         },
         "yaxis": "y"
        },
        {
         "customdata": [
          [
           "332"
          ],
          [
           "332"
          ],
          [
           "332"
          ],
          [
           "332"
          ],
          [
           "332"
          ],
          [
           "332"
          ],
          [
           "332"
          ],
          [
           "332"
          ],
          [
           "332"
          ],
          [
           "332"
          ],
          [
           "332"
          ],
          [
           "332"
          ]
         ],
         "hovertemplate": "cluster=%{customdata[0]}<br>UMAP-1=%{x}<br>UMAP-2=%{y}<extra></extra>",
         "legendgroup": "332",
         "marker": {
          "color": "#72B7B2",
          "opacity": 0.8,
          "size": 8,
          "symbol": "circle"
         },
         "mode": "markers",
         "name": "332",
         "showlegend": true,
         "type": "scattergl",
         "x": {
          "bdata": "lmrHQaRqx0E6XcdBGWrHQV5ox0HVacdBP1vHQZJpx0HHacdBtGrHQYB3x0F+U8dB",
          "dtype": "f4"
         },
         "xaxis": "x",
         "y": {
          "bdata": "/x4YQckeGEHPKRhBRB8YQb8dGEFMIBhBkSoYQX8gGEE7IBhBpB8YQbYQGEEcVBhB",
          "dtype": "f4"
         },
         "yaxis": "y"
        },
        {
         "customdata": [
          [
           "333"
          ],
          [
           "333"
          ],
          [
           "333"
          ],
          [
           "333"
          ],
          [
           "333"
          ],
          [
           "333"
          ],
          [
           "333"
          ],
          [
           "333"
          ],
          [
           "333"
          ],
          [
           "333"
          ],
          [
           "333"
          ],
          [
           "333"
          ]
         ],
         "hovertemplate": "cluster=%{customdata[0]}<br>UMAP-1=%{x}<br>UMAP-2=%{y}<extra></extra>",
         "legendgroup": "333",
         "marker": {
          "color": "#54A24B",
          "opacity": 0.8,
          "size": 8,
          "symbol": "circle"
         },
         "mode": "markers",
         "name": "333",
         "showlegend": true,
         "type": "scattergl",
         "x": {
          "bdata": "kDSzQbYPs0E8GrJBBAWyQWwAskERurFBnaSxQfoEskH2FrJB7hayQRggskFt4bFB",
          "dtype": "f4"
         },
         "xaxis": "x",
         "y": {
          "bdata": "ImrGwDbWxcCfA8LA/K7BwMibwcDRg8DAzSzAwP6twcCE9sHAWvbBwMUbwsCuIMHA",
          "dtype": "f4"
         },
         "yaxis": "y"
        },
        {
         "customdata": [
          [
           "334"
          ],
          [
           "334"
          ],
          [
           "334"
          ],
          [
           "334"
          ],
          [
           "334"
          ],
          [
           "334"
          ],
          [
           "334"
          ],
          [
           "334"
          ],
          [
           "334"
          ],
          [
           "334"
          ],
          [
           "334"
          ],
          [
           "334"
          ]
         ],
         "hovertemplate": "cluster=%{customdata[0]}<br>UMAP-1=%{x}<br>UMAP-2=%{y}<extra></extra>",
         "legendgroup": "334",
         "marker": {
          "color": "#EECA3B",
          "opacity": 0.8,
          "size": 8,
          "symbol": "circle"
         },
         "mode": "markers",
         "name": "334",
         "showlegend": true,
         "type": "scattergl",
         "x": {
          "bdata": "9e6hQVGFokFhI6JBlx2iQb4ZokHDC6JBTECiQSMTokEULaJBDDeiQT6FoUEmFaJB",
          "dtype": "f4"
         },
         "xaxis": "x",
         "y": {
          "bdata": "EK6qQDtkokCWwqlAueypQAtGqkDeSKpAJBypQKoRqkAm2qlAzImpQNnrrUCNt6tA",
          "dtype": "f4"
         },
         "yaxis": "y"
        },
        {
         "customdata": [
          [
           "335"
          ],
          [
           "335"
          ],
          [
           "335"
          ],
          [
           "335"
          ],
          [
           "335"
          ],
          [
           "335"
          ],
          [
           "335"
          ],
          [
           "335"
          ],
          [
           "335"
          ],
          [
           "335"
          ],
          [
           "335"
          ],
          [
           "335"
          ]
         ],
         "hovertemplate": "cluster=%{customdata[0]}<br>UMAP-1=%{x}<br>UMAP-2=%{y}<extra></extra>",
         "legendgroup": "335",
         "marker": {
          "color": "#B279A2",
          "opacity": 0.8,
          "size": 8,
          "symbol": "circle"
         },
         "mode": "markers",
         "name": "335",
         "showlegend": true,
         "type": "scattergl",
         "x": {
          "bdata": "UrPnQRxe50EB1OdBAJfnQWbI50EEH+dBFKfnQZcv50FdGOdBTZTnQf5p50GMi+dB",
          "dtype": "f4"
         },
         "xaxis": "x",
         "y": {
          "bdata": "+/SWwIaglcDXd5fATYOWwD5Jl8CYpJTATMSWwKTmlMANipTAVHiWwOzPlcAwVZbA",
          "dtype": "f4"
         },
         "yaxis": "y"
        },
        {
         "customdata": [
          [
           "336"
          ],
          [
           "336"
          ],
          [
           "336"
          ],
          [
           "336"
          ],
          [
           "336"
          ],
          [
           "336"
          ],
          [
           "336"
          ],
          [
           "336"
          ],
          [
           "336"
          ],
          [
           "336"
          ],
          [
           "336"
          ],
          [
           "336"
          ]
         ],
         "hovertemplate": "cluster=%{customdata[0]}<br>UMAP-1=%{x}<br>UMAP-2=%{y}<extra></extra>",
         "legendgroup": "336",
         "marker": {
          "color": "#FF9DA6",
          "opacity": 0.8,
          "size": 8,
          "symbol": "circle"
         },
         "mode": "markers",
         "name": "336",
         "showlegend": true,
         "type": "scattergl",
         "x": {
          "bdata": "kDqmQSpTpkHwU6ZBa1KmQQRQpkGKVKZBcU+mQQdUpkH0SKZBAmumQTJUpkFkU6ZB",
          "dtype": "f4"
         },
         "xaxis": "x",
         "y": {
          "bdata": "fzOsP+REqj8gNKo/LWKqP9aLqj+nMKo/N6uqP389qj/gDas/NMeoP540qj+OSao/",
          "dtype": "f4"
         },
         "yaxis": "y"
        },
        {
         "customdata": [
          [
           "337"
          ],
          [
           "337"
          ],
          [
           "337"
          ],
          [
           "337"
          ],
          [
           "337"
          ],
          [
           "337"
          ],
          [
           "337"
          ],
          [
           "337"
          ],
          [
           "337"
          ],
          [
           "337"
          ],
          [
           "337"
          ],
          [
           "337"
          ]
         ],
         "hovertemplate": "cluster=%{customdata[0]}<br>UMAP-1=%{x}<br>UMAP-2=%{y}<extra></extra>",
         "legendgroup": "337",
         "marker": {
          "color": "#9D755D",
          "opacity": 0.8,
          "size": 8,
          "symbol": "circle"
         },
         "mode": "markers",
         "name": "337",
         "showlegend": true,
         "type": "scattergl",
         "x": {
          "bdata": "Sn8+QVifPkGMsD5Bxd4+QUHLPkGWxj5BHZ1AQUibPkHWHj5BDtY+QS5wQEH7Wz5B",
          "dtype": "f4"
         },
         "xaxis": "x",
         "y": {
          "bdata": "YNyGQF4ch0DgPYdAPZ2HQOJyh0DoaodAtBSLQEgSh0AUGoZAf4iHQPO5ikDVlIZA",
          "dtype": "f4"
         },
         "yaxis": "y"
        },
        {
         "customdata": [
          [
           "338"
          ],
          [
           "338"
          ],
          [
           "338"
          ],
          [
           "338"
          ],
          [
           "338"
          ],
          [
           "338"
          ],
          [
           "338"
          ],
          [
           "338"
          ],
          [
           "338"
          ],
          [
           "338"
          ],
          [
           "338"
          ],
          [
           "338"
          ]
         ],
         "hovertemplate": "cluster=%{customdata[0]}<br>UMAP-1=%{x}<br>UMAP-2=%{y}<extra></extra>",
         "legendgroup": "338",
         "marker": {
          "color": "#BAB0AC",
          "opacity": 0.8,
          "size": 8,
          "symbol": "circle"
         },
         "mode": "markers",
         "name": "338",
         "showlegend": true,
         "type": "scattergl",
         "x": {
          "bdata": "ygOeQYYEnkF8Cp5BEsGdQRj+nUE+Ap5BQwKeQfABnkG8AZ5BYwGeQVQBnkE8/p1B",
          "dtype": "f4"
         },
         "xaxis": "x",
         "y": {
          "bdata": "Cyx9QZolfUGxOX1Ba5d8QbwifUFhKH1B/yd9QR8ofUHMJ31BKCd9QdMmfUHYDH1B",
          "dtype": "f4"
         },
         "yaxis": "y"
        },
        {
         "customdata": [
          [
           "339"
          ],
          [
           "339"
          ],
          [
           "339"
          ],
          [
           "339"
          ],
          [
           "339"
          ],
          [
           "339"
          ],
          [
           "339"
          ],
          [
           "339"
          ],
          [
           "339"
          ],
          [
           "339"
          ],
          [
           "339"
          ],
          [
           "339"
          ]
         ],
         "hovertemplate": "cluster=%{customdata[0]}<br>UMAP-1=%{x}<br>UMAP-2=%{y}<extra></extra>",
         "legendgroup": "339",
         "marker": {
          "color": "#4C78A8",
          "opacity": 0.8,
          "size": 8,
          "symbol": "circle"
         },
         "mode": "markers",
         "name": "339",
         "showlegend": true,
         "type": "scattergl",
         "x": {
          "bdata": "uizxQPrn8UA85/FA0enxQCjn8UDHMvJAjurxQEfq8UDD6vFA2urxQMDo8UAP3vFA",
          "dtype": "f4"
         },
         "xaxis": "x",
         "y": {
          "bdata": "AiklQaSHJUGOhyVBsIclQf+IJUFprSVBeIglQW+IJUF1iCVBy4glQayHJUGSfCVB",
          "dtype": "f4"
         },
         "yaxis": "y"
        },
        {
         "customdata": [
          [
           "340"
          ],
          [
           "340"
          ],
          [
           "340"
          ],
          [
           "340"
          ],
          [
           "340"
          ],
          [
           "340"
          ],
          [
           "340"
          ],
          [
           "340"
          ],
          [
           "340"
          ],
          [
           "340"
          ],
          [
           "340"
          ],
          [
           "340"
          ]
         ],
         "hovertemplate": "cluster=%{customdata[0]}<br>UMAP-1=%{x}<br>UMAP-2=%{y}<extra></extra>",
         "legendgroup": "340",
         "marker": {
          "color": "#F58518",
          "opacity": 0.8,
          "size": 8,
          "symbol": "circle"
         },
         "mode": "markers",
         "name": "340",
         "showlegend": true,
         "type": "scattergl",
         "x": {
          "bdata": "l4lBQTqdQUEil0FBfYhBQeWTQUFthUFBF4xBQXaCQUG6kEFBKIpAQVsqQkH6i0FB",
          "dtype": "f4"
         },
         "xaxis": "x",
         "y": {
          "bdata": "5DbhQbhP4UGcUuFBzTvhQcIz4UFcOuFBnDLhQQU54UEkS+FBcpfeQffu4EGTLuFB",
          "dtype": "f4"
         },
         "yaxis": "y"
        },
        {
         "customdata": [
          [
           "341"
          ],
          [
           "341"
          ],
          [
           "341"
          ],
          [
           "341"
          ],
          [
           "341"
          ],
          [
           "341"
          ],
          [
           "341"
          ],
          [
           "341"
          ],
          [
           "341"
          ],
          [
           "341"
          ],
          [
           "341"
          ],
          [
           "341"
          ]
         ],
         "hovertemplate": "cluster=%{customdata[0]}<br>UMAP-1=%{x}<br>UMAP-2=%{y}<extra></extra>",
         "legendgroup": "341",
         "marker": {
          "color": "#E45756",
          "opacity": 0.8,
          "size": 8,
          "symbol": "circle"
         },
         "mode": "markers",
         "name": "341",
         "showlegend": true,
         "type": "scattergl",
         "x": {
          "bdata": "pNgjQVv7I0EFFiNBELQjQaBjI0Hb9CJB42MjQYsmI0EEIyNB4DAjQQVRI0FlvCJB",
          "dtype": "f4"
         },
         "xaxis": "x",
         "y": {
          "bdata": "GTQCQGTAAkArYP4/c6QBQDVmAEBbV/0/A2oAQOXg/j91xf4/zDH/P+sLAEDlkPs/",
          "dtype": "f4"
         },
         "yaxis": "y"
        },
        {
         "customdata": [
          [
           "342"
          ],
          [
           "342"
          ],
          [
           "342"
          ],
          [
           "342"
          ],
          [
           "342"
          ],
          [
           "342"
          ],
          [
           "342"
          ],
          [
           "342"
          ],
          [
           "342"
          ],
          [
           "342"
          ],
          [
           "342"
          ],
          [
           "342"
          ]
         ],
         "hovertemplate": "cluster=%{customdata[0]}<br>UMAP-1=%{x}<br>UMAP-2=%{y}<extra></extra>",
         "legendgroup": "342",
         "marker": {
          "color": "#72B7B2",
          "opacity": 0.8,
          "size": 8,
          "symbol": "circle"
         },
         "mode": "markers",
         "name": "342",
         "showlegend": true,
         "type": "scattergl",
         "x": {
          "bdata": "sVQkQQkvJEHzWCRBil0kQZxXJEFIhCRBQ1kkQb4+JEEl2SRB5ZEkQR1eJEFXfCRB",
          "dtype": "f4"
         },
         "xaxis": "x",
         "y": {
          "bdata": "gSEEQCSMA0CFMgRAu0IEQBUsBEAL4ARA6DIEQI3EA0BkMQZA5hMFQKNFBEA2vQRA",
          "dtype": "f4"
         },
         "yaxis": "y"
        },
        {
         "customdata": [
          [
           "343"
          ],
          [
           "343"
          ],
          [
           "343"
          ],
          [
           "343"
          ],
          [
           "343"
          ],
          [
           "343"
          ],
          [
           "343"
          ],
          [
           "343"
          ],
          [
           "343"
          ],
          [
           "343"
          ],
          [
           "343"
          ],
          [
           "343"
          ],
          [
           "343"
          ]
         ],
         "hovertemplate": "cluster=%{customdata[0]}<br>UMAP-1=%{x}<br>UMAP-2=%{y}<extra></extra>",
         "legendgroup": "343",
         "marker": {
          "color": "#54A24B",
          "opacity": 0.8,
          "size": 8,
          "symbol": "circle"
         },
         "mode": "markers",
         "name": "343",
         "showlegend": true,
         "type": "scattergl",
         "x": {
          "bdata": "ARbFQeIhxUFHIMVB5ibFQeUZxUEPIcVBegnEQWN6xEHJP8VB9D/FQdMkxUGOQ8VBGT/FQQ==",
          "dtype": "f4"
         },
         "xaxis": "x",
         "y": {
          "bdata": "YCqhwUw2ocGrNKHBZDuhwXIuocFRNaHBEBygwTGNoMGKVKHBqlShwSg5ocFRWKHBnFOhwQ==",
          "dtype": "f4"
         },
         "yaxis": "y"
        },
        {
         "customdata": [
          [
           "344"
          ],
          [
           "344"
          ],
          [
           "344"
          ],
          [
           "344"
          ],
          [
           "344"
          ],
          [
           "344"
          ],
          [
           "344"
          ],
          [
           "344"
          ],
          [
           "344"
          ],
          [
           "344"
          ],
          [
           "344"
          ],
          [
           "344"
          ],
          [
           "344"
          ]
         ],
         "hovertemplate": "cluster=%{customdata[0]}<br>UMAP-1=%{x}<br>UMAP-2=%{y}<extra></extra>",
         "legendgroup": "344",
         "marker": {
          "color": "#EECA3B",
          "opacity": 0.8,
          "size": 8,
          "symbol": "circle"
         },
         "mode": "markers",
         "name": "344",
         "showlegend": true,
         "type": "scattergl",
         "x": {
          "bdata": "jctfQXzoX0E0u19B1mtfQeSIX0Go1l9B99dfQYGuX0F61F9BzchfQf6bX0HCuF9BLtBfQQ==",
          "dtype": "f4"
         },
         "xaxis": "x",
         "y": {
          "bdata": "BKoxwbuJMcFBvDHBRwkywSnsMcECnzHBO58xwTHIMcGUojHBc60xwRPbMcEfvTHBYqYxwQ==",
          "dtype": "f4"
         },
         "yaxis": "y"
        },
        {
         "customdata": [
          [
           "345"
          ],
          [
           "345"
          ],
          [
           "345"
          ],
          [
           "345"
          ],
          [
           "345"
          ],
          [
           "345"
          ],
          [
           "345"
          ],
          [
           "345"
          ],
          [
           "345"
          ],
          [
           "345"
          ],
          [
           "345"
          ],
          [
           "345"
          ],
          [
           "345"
          ]
         ],
         "hovertemplate": "cluster=%{customdata[0]}<br>UMAP-1=%{x}<br>UMAP-2=%{y}<extra></extra>",
         "legendgroup": "345",
         "marker": {
          "color": "#B279A2",
          "opacity": 0.8,
          "size": 8,
          "symbol": "circle"
         },
         "mode": "markers",
         "name": "345",
         "showlegend": true,
         "type": "scattergl",
         "x": {
          "bdata": "e4EmQW2cJkGDgyZB14ImQViGJkFShCZBZIQmQbiFJkHeWyZB64ImQemCJkEXgyZBf9AmQQ==",
          "dtype": "f4"
         },
         "xaxis": "x",
         "y": {
          "bdata": "+iPCwP7qwcAYH8LA3B7CwMYewsCcIcLAqR/CwAMSwsDebcLAXSHCwHUgwsBgJMLAhLzBwA==",
          "dtype": "f4"
         },
         "yaxis": "y"
        },
        {
         "customdata": [
          [
           "346"
          ],
          [
           "346"
          ],
          [
           "346"
          ],
          [
           "346"
          ],
          [
           "346"
          ],
          [
           "346"
          ],
          [
           "346"
          ],
          [
           "346"
          ],
          [
           "346"
          ],
          [
           "346"
          ],
          [
           "346"
          ],
          [
           "346"
          ],
          [
           "346"
          ]
         ],
         "hovertemplate": "cluster=%{customdata[0]}<br>UMAP-1=%{x}<br>UMAP-2=%{y}<extra></extra>",
         "legendgroup": "346",
         "marker": {
          "color": "#FF9DA6",
          "opacity": 0.8,
          "size": 8,
          "symbol": "circle"
         },
         "mode": "markers",
         "name": "346",
         "showlegend": true,
         "type": "scattergl",
         "x": {
          "bdata": "K6jDQXOfw0F8ucNBmKzDQdqnw0F0ocNBRKTDQXqlw0GepMNB7nbDQRqdw0E+lsNB8KLDQQ==",
          "dtype": "f4"
         },
         "xaxis": "x",
         "y": {
          "bdata": "gLmfwbKwn8HOyp/B772fwSe5n8Gxsp/BhbWfwcS2n8HNtZ/BzYefwV+un8Gbp5/BRrSfwQ==",
          "dtype": "f4"
         },
         "yaxis": "y"
        },
        {
         "customdata": [
          [
           "347"
          ],
          [
           "347"
          ],
          [
           "347"
          ],
          [
           "347"
          ],
          [
           "347"
          ],
          [
           "347"
          ],
          [
           "347"
          ],
          [
           "347"
          ],
          [
           "347"
          ],
          [
           "347"
          ],
          [
           "347"
          ],
          [
           "347"
          ],
          [
           "347"
          ]
         ],
         "hovertemplate": "cluster=%{customdata[0]}<br>UMAP-1=%{x}<br>UMAP-2=%{y}<extra></extra>",
         "legendgroup": "347",
         "marker": {
          "color": "#9D755D",
          "opacity": 0.8,
          "size": 8,
          "symbol": "circle"
         },
         "mode": "markers",
         "name": "347",
         "showlegend": true,
         "type": "scattergl",
         "x": {
          "bdata": "B8YhQdktIkEP9CFB5/ghQUUcIkETqSFBMDAiQYL3IUHpjCFBpTEiQfr3IUH8ECJBJvghQQ==",
          "dtype": "f4"
         },
         "xaxis": "x",
         "y": {
          "bdata": "URtTwb+EU8E6S1PBa09TwZ1wU8FFAFPBpodTwcNOU8G641LBLYhTwdROU8HPZ1PBT09TwQ==",
          "dtype": "f4"
         },
         "yaxis": "y"
        },
        {
         "customdata": [
          [
           "348"
          ],
          [
           "348"
          ],
          [
           "348"
          ],
          [
           "348"
          ],
          [
           "348"
          ],
          [
           "348"
          ],
          [
           "348"
          ],
          [
           "348"
          ],
          [
           "348"
          ],
          [
           "348"
          ],
          [
           "348"
          ],
          [
           "348"
          ],
          [
           "348"
          ]
         ],
         "hovertemplate": "cluster=%{customdata[0]}<br>UMAP-1=%{x}<br>UMAP-2=%{y}<extra></extra>",
         "legendgroup": "348",
         "marker": {
          "color": "#BAB0AC",
          "opacity": 0.8,
          "size": 8,
          "symbol": "circle"
         },
         "mode": "markers",
         "name": "348",
         "showlegend": true,
         "type": "scattergl",
         "x": {
          "bdata": "mXUkQaFzJEFUESRBUBskQQYOJEHQQiRBfOAjQW3KI0EoQSRBX1IkQUkXJEGzQSRB4z4kQQ==",
          "dtype": "f4"
         },
         "xaxis": "x",
         "y": {
          "bdata": "cJCYwXmRmMF5wpjB4ryYwefDmME0qpjB5dqYwR3mmMGiqpjBRKKYwSTAmMGzqpjB6auYwQ==",
          "dtype": "f4"
         },
         "yaxis": "y"
        },
        {
         "customdata": [
          [
           "349"
          ],
          [
           "349"
          ],
          [
           "349"
          ],
          [
           "349"
          ],
          [
           "349"
          ],
          [
           "349"
          ],
          [
           "349"
          ],
          [
           "349"
          ],
          [
           "349"
          ],
          [
           "349"
          ],
          [
           "349"
          ]
         ],
         "hovertemplate": "cluster=%{customdata[0]}<br>UMAP-1=%{x}<br>UMAP-2=%{y}<extra></extra>",
         "legendgroup": "349",
         "marker": {
          "color": "#4C78A8",
          "opacity": 0.8,
          "size": 8,
          "symbol": "circle"
         },
         "mode": "markers",
         "name": "349",
         "showlegend": true,
         "type": "scattergl",
         "x": {
          "bdata": "O8aDQW5/g0FNhYNBA0SDQXPrg0Gu3YNBjLqDQRjAg0Fye4NByymEQZnyg0E=",
          "dtype": "f4"
         },
         "xaxis": "x",
         "y": {
          "bdata": "PWwTwfndEsHE6BLBIWgSwSG1E8F/mxPBZFETwdJfE8GY1RLBCjMUwZfEE8E=",
          "dtype": "f4"
         },
         "yaxis": "y"
        },
        {
         "customdata": [
          [
           "350"
          ],
          [
           "350"
          ],
          [
           "350"
          ],
          [
           "350"
          ],
          [
           "350"
          ],
          [
           "350"
          ],
          [
           "350"
          ],
          [
           "350"
          ],
          [
           "350"
          ],
          [
           "350"
          ],
          [
           "350"
          ]
         ],
         "hovertemplate": "cluster=%{customdata[0]}<br>UMAP-1=%{x}<br>UMAP-2=%{y}<extra></extra>",
         "legendgroup": "350",
         "marker": {
          "color": "#F58518",
          "opacity": 0.8,
          "size": 8,
          "symbol": "circle"
         },
         "mode": "markers",
         "name": "350",
         "showlegend": true,
         "type": "scattergl",
         "x": {
          "bdata": "RXGDQWNkg0GXY4NB01GDQeqMg0EXNYNB22aDQV9yg0Guj4NBMHuDQdgng0E=",
          "dtype": "f4"
         },
         "xaxis": "x",
         "y": {
          "bdata": "778SwT+mEsEJphLBxYESwaX2EsEVSBLBPqsSwcbBEsFu+hLBe9YSweorEsE=",
          "dtype": "f4"
         },
         "yaxis": "y"
        },
        {
         "customdata": [
          [
           "351"
          ],
          [
           "351"
          ],
          [
           "351"
          ],
          [
           "351"
          ],
          [
           "351"
          ],
          [
           "351"
          ],
          [
           "351"
          ],
          [
           "351"
          ],
          [
           "351"
          ],
          [
           "351"
          ],
          [
           "351"
          ]
         ],
         "hovertemplate": "cluster=%{customdata[0]}<br>UMAP-1=%{x}<br>UMAP-2=%{y}<extra></extra>",
         "legendgroup": "351",
         "marker": {
          "color": "#E45756",
          "opacity": 0.8,
          "size": 8,
          "symbol": "circle"
         },
         "mode": "markers",
         "name": "351",
         "showlegend": true,
         "type": "scattergl",
         "x": {
          "bdata": "94XFQRvQxUEwhsVBUYXFQXp8xUHrf8VBd3zFQb+CxUEJgsVBuG/FQaeZxUE=",
          "dtype": "f4"
         },
         "xaxis": "x",
         "y": {
          "bdata": "AeJDwZB2RMHl4kPBIOFDwYTPQ8F91kPBu9BDwRDcQ8Gn2kPBFrZDwbEJRME=",
          "dtype": "f4"
         },
         "yaxis": "y"
        },
        {
         "customdata": [
          [
           "352"
          ],
          [
           "352"
          ],
          [
           "352"
          ],
          [
           "352"
          ],
          [
           "352"
          ],
          [
           "352"
          ],
          [
           "352"
          ],
          [
           "352"
          ],
          [
           "352"
          ],
          [
           "352"
          ],
          [
           "352"
          ]
         ],
         "hovertemplate": "cluster=%{customdata[0]}<br>UMAP-1=%{x}<br>UMAP-2=%{y}<extra></extra>",
         "legendgroup": "352",
         "marker": {
          "color": "#72B7B2",
          "opacity": 0.8,
          "size": 8,
          "symbol": "circle"
         },
         "mode": "markers",
         "name": "352",
         "showlegend": true,
         "type": "scattergl",
         "x": {
          "bdata": "CTuEQf9AhEGvW4RBV1WEQSMlhEFZS4RBWgKEQVYwhEFdMYRB+hiEQew/hEE=",
          "dtype": "f4"
         },
         "xaxis": "x",
         "y": {
          "bdata": "G1QUwSxgFME0lxTBf4gUwbsoFMH2dRTBguUTwd4/FMFGQxTBEQ8UwVpdFME=",
          "dtype": "f4"
         },
         "yaxis": "y"
        },
        {
         "customdata": [
          [
           "353"
          ],
          [
           "353"
          ],
          [
           "353"
          ],
          [
           "353"
          ],
          [
           "353"
          ],
          [
           "353"
          ],
          [
           "353"
          ],
          [
           "353"
          ],
          [
           "353"
          ],
          [
           "353"
          ],
          [
           "353"
          ]
         ],
         "hovertemplate": "cluster=%{customdata[0]}<br>UMAP-1=%{x}<br>UMAP-2=%{y}<extra></extra>",
         "legendgroup": "353",
         "marker": {
          "color": "#54A24B",
          "opacity": 0.8,
          "size": 8,
          "symbol": "circle"
         },
         "mode": "markers",
         "name": "353",
         "showlegend": true,
         "type": "scattergl",
         "x": {
          "bdata": "8COWQcwmlkE5KJZBOCiWQVQZlkFmN5ZBViiWQadGlkGfLZZB/CmWQZsplkE=",
          "dtype": "f4"
         },
         "xaxis": "x",
         "y": {
          "bdata": "Gx7xwMol8cAvJ/HA7ibxwK7z8MDQJPHAFCXxwPie8cCgIfHA5ifxwFwn8cA=",
          "dtype": "f4"
         },
         "yaxis": "y"
        },
        {
         "customdata": [
          [
           "354"
          ],
          [
           "354"
          ],
          [
           "354"
          ],
          [
           "354"
          ],
          [
           "354"
          ],
          [
           "354"
          ],
          [
           "354"
          ],
          [
           "354"
          ],
          [
           "354"
          ],
          [
           "354"
          ],
          [
           "354"
          ]
         ],
         "hovertemplate": "cluster=%{customdata[0]}<br>UMAP-1=%{x}<br>UMAP-2=%{y}<extra></extra>",
         "legendgroup": "354",
         "marker": {
          "color": "#EECA3B",
          "opacity": 0.8,
          "size": 8,
          "symbol": "circle"
         },
         "mode": "markers",
         "name": "354",
         "showlegend": true,
         "type": "scattergl",
         "x": {
          "bdata": "ga0lQfpEJUGxpyVBVD4lQeCfJUFzWCZB85AlQUyKJUHjoiVBCqMlQZN6JkE=",
          "dtype": "f4"
         },
         "xaxis": "x",
         "y": {
          "bdata": "d4WJQfpQiUFLgolBlU2JQUR+iUFd2olByXaJQZZziUG8f4lBH4CJQQjsiUE=",
          "dtype": "f4"
         },
         "yaxis": "y"
        },
        {
         "customdata": [
          [
           "355"
          ],
          [
           "355"
          ],
          [
           "355"
          ],
          [
           "355"
          ],
          [
           "355"
          ],
          [
           "355"
          ],
          [
           "355"
          ],
          [
           "355"
          ],
          [
           "355"
          ],
          [
           "355"
          ],
          [
           "355"
          ],
          [
           "355"
          ],
          [
           "355"
          ]
         ],
         "hovertemplate": "cluster=%{customdata[0]}<br>UMAP-1=%{x}<br>UMAP-2=%{y}<extra></extra>",
         "legendgroup": "355",
         "marker": {
          "color": "#B279A2",
          "opacity": 0.8,
          "size": 8,
          "symbol": "circle"
         },
         "mode": "markers",
         "name": "355",
         "showlegend": true,
         "type": "scattergl",
         "x": {
          "bdata": "3aPFQYWIxUGJcsVB6n3FQVB6xUGHYMVBy13FQR+exUFvfMVBpwvFQRpOxUHBf8VBm3fFQQ==",
          "dtype": "f4"
         },
         "xaxis": "x",
         "y": {
          "bdata": "zx1EwTDnQ8ECu0PBA9JDwXvKQ8Esl0PB/ZFDwWoSRMHZzEPBWO5CwdhyQ8GA1UPBG8VDwQ==",
          "dtype": "f4"
         },
         "yaxis": "y"
        },
        {
         "customdata": [
          [
           "356"
          ],
          [
           "356"
          ],
          [
           "356"
          ],
          [
           "356"
          ],
          [
           "356"
          ],
          [
           "356"
          ],
          [
           "356"
          ],
          [
           "356"
          ],
          [
           "356"
          ],
          [
           "356"
          ],
          [
           "356"
          ],
          [
           "356"
          ],
          [
           "356"
          ]
         ],
         "hovertemplate": "cluster=%{customdata[0]}<br>UMAP-1=%{x}<br>UMAP-2=%{y}<extra></extra>",
         "legendgroup": "356",
         "marker": {
          "color": "#FF9DA6",
          "opacity": 0.8,
          "size": 8,
          "symbol": "circle"
         },
         "mode": "markers",
         "name": "356",
         "showlegend": true,
         "type": "scattergl",
         "x": {
          "bdata": "g8iDQViZg0Gvx4NB08eDQUq4g0F3v4NBzdiDQbOzg0Fm2oNBG56DQQzOg0HRwINBnoWDQQ==",
          "dtype": "f4"
         },
         "xaxis": "x",
         "y": {
          "bdata": "iJNaQSEeWkFRaVpB6GJaQe5ZWkFLWFpBaX5aQYxFWkEdjlpBR2RaQRpXWkHcRFpBqfVZQQ==",
          "dtype": "f4"
         },
         "yaxis": "y"
        },
        {
         "customdata": [
          [
           "357"
          ],
          [
           "357"
          ],
          [
           "357"
          ],
          [
           "357"
          ],
          [
           "357"
          ],
          [
           "357"
          ],
          [
           "357"
          ],
          [
           "357"
          ],
          [
           "357"
          ],
          [
           "357"
          ],
          [
           "357"
          ],
          [
           "357"
          ],
          [
           "357"
          ]
         ],
         "hovertemplate": "cluster=%{customdata[0]}<br>UMAP-1=%{x}<br>UMAP-2=%{y}<extra></extra>",
         "legendgroup": "357",
         "marker": {
          "color": "#9D755D",
          "opacity": 0.8,
          "size": 8,
          "symbol": "circle"
         },
         "mode": "markers",
         "name": "357",
         "showlegend": true,
         "type": "scattergl",
         "x": {
          "bdata": "ZYJSQfaBUkE9kFJBRYRSQYWFUkFOjlJB5XRSQTKEUkGnzVJB3btSQa6GUkFCclJBjpFSQQ==",
          "dtype": "f4"
         },
         "xaxis": "x",
         "y": {
          "bdata": "wZO1QDWVtUCJk7VAU5i1QIyZtUBuorVAEXm1QAqYtUB6LrZAtPq1QOKatUDBm7VAR7K1QA==",
          "dtype": "f4"
         },
         "yaxis": "y"
        },
        {
         "customdata": [
          [
           "358"
          ],
          [
           "358"
          ],
          [
           "358"
          ],
          [
           "358"
          ],
          [
           "358"
          ],
          [
           "358"
          ],
          [
           "358"
          ],
          [
           "358"
          ],
          [
           "358"
          ],
          [
           "358"
          ],
          [
           "358"
          ],
          [
           "358"
          ],
          [
           "358"
          ]
         ],
         "hovertemplate": "cluster=%{customdata[0]}<br>UMAP-1=%{x}<br>UMAP-2=%{y}<extra></extra>",
         "legendgroup": "358",
         "marker": {
          "color": "#BAB0AC",
          "opacity": 0.8,
          "size": 8,
          "symbol": "circle"
         },
         "mode": "markers",
         "name": "358",
         "showlegend": true,
         "type": "scattergl",
         "x": {
          "bdata": "DB2CQQcFf0EWSIJB9DyCQTL3gUGOaoJB40OCQbtYgkH7KIJB0TqCQfs3gkGOFYNB28CCQQ==",
          "dtype": "f4"
         },
         "xaxis": "x",
         "y": {
          "bdata": "YcFYQaNBWEEd7lhBDu1YQVprWEEaRVlBFe5YQbbyWEG5bFhBLeZYQXPjWEHUt1lBbyBZQQ==",
          "dtype": "f4"
         },
         "yaxis": "y"
        },
        {
         "customdata": [
          [
           "359"
          ],
          [
           "359"
          ],
          [
           "359"
          ],
          [
           "359"
          ],
          [
           "359"
          ],
          [
           "359"
          ],
          [
           "359"
          ],
          [
           "359"
          ],
          [
           "359"
          ],
          [
           "359"
          ],
          [
           "359"
          ],
          [
           "359"
          ],
          [
           "359"
          ]
         ],
         "hovertemplate": "cluster=%{customdata[0]}<br>UMAP-1=%{x}<br>UMAP-2=%{y}<extra></extra>",
         "legendgroup": "359",
         "marker": {
          "color": "#4C78A8",
          "opacity": 0.8,
          "size": 8,
          "symbol": "circle"
         },
         "mode": "markers",
         "name": "359",
         "showlegend": true,
         "type": "scattergl",
         "x": {
          "bdata": "NXI0QbuzNEHprDRBqWg0QfSoNEG3zTRBjqk0QbfSNEH52zRB6q80QaxbNEFokjRBFBk1QQ==",
          "dtype": "f4"
         },
         "xaxis": "x",
         "y": {
          "bdata": "jBaAwQM3gMGpM4DB5RGAwW0xgMH/Q4DBkTGAwRdHgMEYS4DBYzWAwVkLgMGTJoDBH2qAwQ==",
          "dtype": "f4"
         },
         "yaxis": "y"
        },
        {
         "customdata": [
          [
           "360"
          ],
          [
           "360"
          ],
          [
           "360"
          ],
          [
           "360"
          ],
          [
           "360"
          ],
          [
           "360"
          ],
          [
           "360"
          ],
          [
           "360"
          ],
          [
           "360"
          ],
          [
           "360"
          ],
          [
           "360"
          ],
          [
           "360"
          ],
          [
           "360"
          ]
         ],
         "hovertemplate": "cluster=%{customdata[0]}<br>UMAP-1=%{x}<br>UMAP-2=%{y}<extra></extra>",
         "legendgroup": "360",
         "marker": {
          "color": "#F58518",
          "opacity": 0.8,
          "size": 8,
          "symbol": "circle"
         },
         "mode": "markers",
         "name": "360",
         "showlegend": true,
         "type": "scattergl",
         "x": {
          "bdata": "PleIQXpZiEE/WYhBU1mIQY9ZiEHKWYhBy1mIQY1ZiEFiWIhBt1mIQYlZiEGzW4hBcVmIQQ==",
          "dtype": "f4"
         },
         "xaxis": "x",
         "y": {
          "bdata": "Ts2hwNXCocCdwaHA1cKhwJLCocBqwqHAGMKhwL3CocBAwaHA/8KhwFbCocCWwqHAhcWhwA==",
          "dtype": "f4"
         },
         "yaxis": "y"
        },
        {
         "customdata": [
          [
           "361"
          ],
          [
           "361"
          ],
          [
           "361"
          ],
          [
           "361"
          ],
          [
           "361"
          ],
          [
           "361"
          ],
          [
           "361"
          ],
          [
           "361"
          ],
          [
           "361"
          ],
          [
           "361"
          ],
          [
           "361"
          ],
          [
           "361"
          ],
          [
           "361"
          ]
         ],
         "hovertemplate": "cluster=%{customdata[0]}<br>UMAP-1=%{x}<br>UMAP-2=%{y}<extra></extra>",
         "legendgroup": "361",
         "marker": {
          "color": "#E45756",
          "opacity": 0.8,
          "size": 8,
          "symbol": "circle"
         },
         "mode": "markers",
         "name": "361",
         "showlegend": true,
         "type": "scattergl",
         "x": {
          "bdata": "jN1pQc+oaUHyTmlBlrJpQfJQaUFIdWlBs4FpQZafaUGasmlBlGNpQZJOaUE3PGlBiRxpQQ==",
          "dtype": "f4"
         },
         "xaxis": "x",
         "y": {
          "bdata": "CxIrQc3eKkEJhCpBKecqQf2LKkGBqypBBLcqQZjUKkED6CpBopoqQWWFKkEYdCpB9VIqQQ==",
          "dtype": "f4"
         },
         "yaxis": "y"
        },
        {
         "customdata": [
          [
           "362"
          ],
          [
           "362"
          ],
          [
           "362"
          ],
          [
           "362"
          ],
          [
           "362"
          ],
          [
           "362"
          ],
          [
           "362"
          ],
          [
           "362"
          ],
          [
           "362"
          ],
          [
           "362"
          ],
          [
           "362"
          ],
          [
           "362"
          ],
          [
           "362"
          ]
         ],
         "hovertemplate": "cluster=%{customdata[0]}<br>UMAP-1=%{x}<br>UMAP-2=%{y}<extra></extra>",
         "legendgroup": "362",
         "marker": {
          "color": "#72B7B2",
          "opacity": 0.8,
          "size": 8,
          "symbol": "circle"
         },
         "mode": "markers",
         "name": "362",
         "showlegend": true,
         "type": "scattergl",
         "x": {
          "bdata": "7sZdQQzHXUGpx11BscddQW/HXUGSkV1BUMZdQbbGXUFK/l1BDcxdQQPKXUEr2V1BJthdQQ==",
          "dtype": "f4"
         },
         "xaxis": "x",
         "y": {
          "bdata": "ZxGMwYYRjMGzEYzBuRGMwdURjMHW9ovB/RCMwWIRjMFHJYzBzxKMwZcSjMFKGYzB5xmMwQ==",
          "dtype": "f4"
         },
         "yaxis": "y"
        },
        {
         "customdata": [
          [
           "363"
          ],
          [
           "363"
          ],
          [
           "363"
          ],
          [
           "363"
          ],
          [
           "363"
          ],
          [
           "363"
          ],
          [
           "363"
          ],
          [
           "363"
          ],
          [
           "363"
          ],
          [
           "363"
          ],
          [
           "363"
          ],
          [
           "363"
          ],
          [
           "363"
          ]
         ],
         "hovertemplate": "cluster=%{customdata[0]}<br>UMAP-1=%{x}<br>UMAP-2=%{y}<extra></extra>",
         "legendgroup": "363",
         "marker": {
          "color": "#54A24B",
          "opacity": 0.8,
          "size": 8,
          "symbol": "circle"
         },
         "mode": "markers",
         "name": "363",
         "showlegend": true,
         "type": "scattergl",
         "x": {
          "bdata": "n/ZzQcLtc0HF7XNBu+1zQYf/c0H98HNBM+5zQTjVc0FV7XNBpe1zQYztc0HP7HNBkO1zQQ==",
          "dtype": "f4"
         },
         "xaxis": "x",
         "y": {
          "bdata": "O+SswcrgrMGy4KzBreCswYLprMFf4qzBGuGswT/UrMFk4KzBueCswc3grMGw4KzB4OCswQ==",
          "dtype": "f4"
         },
         "yaxis": "y"
        },
        {
         "customdata": [
          [
           "364"
          ],
          [
           "364"
          ],
          [
           "364"
          ],
          [
           "364"
          ],
          [
           "364"
          ],
          [
           "364"
          ],
          [
           "364"
          ],
          [
           "364"
          ],
          [
           "364"
          ],
          [
           "364"
          ],
          [
           "364"
          ],
          [
           "364"
          ],
          [
           "364"
          ]
         ],
         "hovertemplate": "cluster=%{customdata[0]}<br>UMAP-1=%{x}<br>UMAP-2=%{y}<extra></extra>",
         "legendgroup": "364",
         "marker": {
          "color": "#EECA3B",
          "opacity": 0.8,
          "size": 8,
          "symbol": "circle"
         },
         "mode": "markers",
         "name": "364",
         "showlegend": true,
         "type": "scattergl",
         "x": {
          "bdata": "yQBBQdgAQUEZ/UBBEbxAQeNVQUGN/UBBTwFBQQABQUH/AEFBTgFBQW8BQUEDAkFBlAFBQQ==",
          "dtype": "f4"
         },
         "xaxis": "x",
         "y": {
          "bdata": "r0HDQZtBw0GPPsNB6STDQXhsw0FnQMNBrUHDQdJBw0FcQcNBtEHDQcBAw0HbQcNB6UHDQQ==",
          "dtype": "f4"
         },
         "yaxis": "y"
        },
        {
         "customdata": [
          [
           "365"
          ],
          [
           "365"
          ],
          [
           "365"
          ],
          [
           "365"
          ],
          [
           "365"
          ],
          [
           "365"
          ],
          [
           "365"
          ],
          [
           "365"
          ],
          [
           "365"
          ],
          [
           "365"
          ],
          [
           "365"
          ],
          [
           "365"
          ],
          [
           "365"
          ]
         ],
         "hovertemplate": "cluster=%{customdata[0]}<br>UMAP-1=%{x}<br>UMAP-2=%{y}<extra></extra>",
         "legendgroup": "365",
         "marker": {
          "color": "#B279A2",
          "opacity": 0.8,
          "size": 8,
          "symbol": "circle"
         },
         "mode": "markers",
         "name": "365",
         "showlegend": true,
         "type": "scattergl",
         "x": {
          "bdata": "94q8Qd6fvEG3n7xBJ6C8QW+HvEFEnrxBorW8QY6gvEFuorxBiKK8QZegvEE+prxBDaG8QQ==",
          "dtype": "f4"
         },
         "xaxis": "x",
         "y": {
          "bdata": "Fj6xQIM6sUCuOrFAmDqxQOXRsEDlNLFAbpKxQFU7sUB9RrFAZ0yxQJA8sUANTbFAnDyxQA==",
          "dtype": "f4"
         },
         "yaxis": "y"
        },
        {
         "customdata": [
          [
           "366"
          ],
          [
           "366"
          ],
          [
           "366"
          ],
          [
           "366"
          ],
          [
           "366"
          ],
          [
           "366"
          ],
          [
           "366"
          ],
          [
           "366"
          ],
          [
           "366"
          ],
          [
           "366"
          ],
          [
           "366"
          ],
          [
           "366"
          ],
          [
           "366"
          ]
         ],
         "hovertemplate": "cluster=%{customdata[0]}<br>UMAP-1=%{x}<br>UMAP-2=%{y}<extra></extra>",
         "legendgroup": "366",
         "marker": {
          "color": "#FF9DA6",
          "opacity": 0.8,
          "size": 8,
          "symbol": "circle"
         },
         "mode": "markers",
         "name": "366",
         "showlegend": true,
         "type": "scattergl",
         "x": {
          "bdata": "nhWmQKwGpkCfFKZAWpmlQDgbpkCgE6ZAwCmmQCkPpkAZEaZAgBSmQGcQpkDIEKZAhA+mQA==",
          "dtype": "f4"
         },
         "xaxis": "x",
         "y": {
          "bdata": "WSNcv9KzXL+FBV2/uPpfv/y2Xb+2KV2/ogBev6weXb9XEV2/LDxdvwVCXb+6SF2/nj9dvw==",
          "dtype": "f4"
         },
         "yaxis": "y"
        },
        {
         "customdata": [
          [
           "367"
          ],
          [
           "367"
          ],
          [
           "367"
          ],
          [
           "367"
          ],
          [
           "367"
          ],
          [
           "367"
          ],
          [
           "367"
          ],
          [
           "367"
          ],
          [
           "367"
          ],
          [
           "367"
          ],
          [
           "367"
          ],
          [
           "367"
          ],
          [
           "367"
          ]
         ],
         "hovertemplate": "cluster=%{customdata[0]}<br>UMAP-1=%{x}<br>UMAP-2=%{y}<extra></extra>",
         "legendgroup": "367",
         "marker": {
          "color": "#9D755D",
          "opacity": 0.8,
          "size": 8,
          "symbol": "circle"
         },
         "mode": "markers",
         "name": "367",
         "showlegend": true,
         "type": "scattergl",
         "x": {
          "bdata": "NjmqQfxFqkGcQqpBLj6qQVRBqkF9QqpBdEKqQTZDqkFsQqpBBUKqQfJDqkH1fqpBVjGqQQ==",
          "dtype": "f4"
         },
         "xaxis": "x",
         "y": {
          "bdata": "qne+QchqvkFgbr5Bw3K+QbVvvkGdbr5Bm26+QfNtvkGnbr5BHm++QUNtvkGuMr5Bu4K+QQ==",
          "dtype": "f4"
         },
         "yaxis": "y"
        },
        {
         "customdata": [
          [
           "368"
          ],
          [
           "368"
          ],
          [
           "368"
          ],
          [
           "368"
          ],
          [
           "368"
          ],
          [
           "368"
          ],
          [
           "368"
          ],
          [
           "368"
          ],
          [
           "368"
          ],
          [
           "368"
          ],
          [
           "368"
          ],
          [
           "368"
          ],
          [
           "368"
          ]
         ],
         "hovertemplate": "cluster=%{customdata[0]}<br>UMAP-1=%{x}<br>UMAP-2=%{y}<extra></extra>",
         "legendgroup": "368",
         "marker": {
          "color": "#BAB0AC",
          "opacity": 0.8,
          "size": 8,
          "symbol": "circle"
         },
         "mode": "markers",
         "name": "368",
         "showlegend": true,
         "type": "scattergl",
         "x": {
          "bdata": "T5zNQOgfzUD65cxAjDDNQBUW0UDNTNBAIBfOQBIszkCki81A5IfMQHdgzUCvcctA3i7KQA==",
          "dtype": "f4"
         },
         "xaxis": "x",
         "y": {
          "bdata": "a1DxQX0x8UEOI/FBljXxQUgw8kHK/fFBXm/xQc908UGoTPFBAQzxQRxC8UG8xvBBKnbwQQ==",
          "dtype": "f4"
         },
         "yaxis": "y"
        },
        {
         "customdata": [
          [
           "369"
          ],
          [
           "369"
          ],
          [
           "369"
          ],
          [
           "369"
          ],
          [
           "369"
          ],
          [
           "369"
          ],
          [
           "369"
          ],
          [
           "369"
          ],
          [
           "369"
          ],
          [
           "369"
          ],
          [
           "369"
          ],
          [
           "369"
          ],
          [
           "369"
          ]
         ],
         "hovertemplate": "cluster=%{customdata[0]}<br>UMAP-1=%{x}<br>UMAP-2=%{y}<extra></extra>",
         "legendgroup": "369",
         "marker": {
          "color": "#4C78A8",
          "opacity": 0.8,
          "size": 8,
          "symbol": "circle"
         },
         "mode": "markers",
         "name": "369",
         "showlegend": true,
         "type": "scattergl",
         "x": {
          "bdata": "FfzTQGag00AI29NAIyzTQDuO00AeHtRAKabTQHga1UChy9NAMpLTQJ/c00ALF9VA7QPUQA==",
          "dtype": "f4"
         },
         "xaxis": "x",
         "y": {
          "bdata": "N+ryQTjT8kEZ4vJBPLbyQevO8kHz8vJB39TyQQ4y80FF3vJBINDyQW7i8kEwMfNBn+zyQQ==",
          "dtype": "f4"
         },
         "yaxis": "y"
        },
        {
         "customdata": [
          [
           "370"
          ],
          [
           "370"
          ],
          [
           "370"
          ],
          [
           "370"
          ],
          [
           "370"
          ],
          [
           "370"
          ],
          [
           "370"
          ],
          [
           "370"
          ],
          [
           "370"
          ],
          [
           "370"
          ],
          [
           "370"
          ],
          [
           "370"
          ],
          [
           "370"
          ]
         ],
         "hovertemplate": "cluster=%{customdata[0]}<br>UMAP-1=%{x}<br>UMAP-2=%{y}<extra></extra>",
         "legendgroup": "370",
         "marker": {
          "color": "#F58518",
          "opacity": 0.8,
          "size": 8,
          "symbol": "circle"
         },
         "mode": "markers",
         "name": "370",
         "showlegend": true,
         "type": "scattergl",
         "x": {
          "bdata": "k/3ZP3X+2T8M9Nk/dv/ZPyta2z83Wto/UfXZPx8v2D9Y/tk/mhXaP88A2j/m/Nk/0vjZPw==",
          "dtype": "f4"
         },
         "xaxis": "x",
         "y": {
          "bdata": "K7RVQVq0VUGZs1VBkLRVQfnfVUFYwFVBX7RVQcV7VUHWtFVB5bZVQWu0VUF6tFVBWLRVQQ==",
          "dtype": "f4"
         },
         "yaxis": "y"
        },
        {
         "customdata": [
          [
           "371"
          ],
          [
           "371"
          ],
          [
           "371"
          ],
          [
           "371"
          ],
          [
           "371"
          ],
          [
           "371"
          ],
          [
           "371"
          ],
          [
           "371"
          ],
          [
           "371"
          ],
          [
           "371"
          ],
          [
           "371"
          ],
          [
           "371"
          ],
          [
           "371"
          ]
         ],
         "hovertemplate": "cluster=%{customdata[0]}<br>UMAP-1=%{x}<br>UMAP-2=%{y}<extra></extra>",
         "legendgroup": "371",
         "marker": {
          "color": "#E45756",
          "opacity": 0.8,
          "size": 8,
          "symbol": "circle"
         },
         "mode": "markers",
         "name": "371",
         "showlegend": true,
         "type": "scattergl",
         "x": {
          "bdata": "sdPHQHG2x0DVLMhAc7HHQMEhyEAlL8hAX/rHQHYfyEBBtcdAkWTHQCsMyECEo8dAPLzIQA==",
          "dtype": "f4"
         },
         "xaxis": "x",
         "y": {
          "bdata": "Qd/vQfXX70Gd9e9Bw9bvQfvy70GE9u9BDenvQW7y70Hs1+9Bx8PvQbHt70HB0+9BWBrwQQ==",
          "dtype": "f4"
         },
         "yaxis": "y"
        },
        {
         "customdata": [
          [
           "372"
          ],
          [
           "372"
          ],
          [
           "372"
          ],
          [
           "372"
          ],
          [
           "372"
          ],
          [
           "372"
          ],
          [
           "372"
          ],
          [
           "372"
          ],
          [
           "372"
          ],
          [
           "372"
          ],
          [
           "372"
          ],
          [
           "372"
          ],
          [
           "372"
          ]
         ],
         "hovertemplate": "cluster=%{customdata[0]}<br>UMAP-1=%{x}<br>UMAP-2=%{y}<extra></extra>",
         "legendgroup": "372",
         "marker": {
          "color": "#72B7B2",
          "opacity": 0.8,
          "size": 8,
          "symbol": "circle"
         },
         "mode": "markers",
         "name": "372",
         "showlegend": true,
         "type": "scattergl",
         "x": {
          "bdata": "I+F4QWzQeEF45HhBaMh4QQsqeUFzQnlBYbp4Qdu2eEGYtXhBWLV4QcC1eEEGEHlBvgJ2QQ==",
          "dtype": "f4"
         },
         "xaxis": "x",
         "y": {
          "bdata": "Z6mRQXqzkUHMqJFBPreRQRGIkUHKe5FBUL2RQRW/kUGYv5FB3r+RQYi/kUGRlpFBdPqSQQ==",
          "dtype": "f4"
         },
         "yaxis": "y"
        },
        {
         "customdata": [
          [
           "373"
          ],
          [
           "373"
          ],
          [
           "373"
          ],
          [
           "373"
          ],
          [
           "373"
          ],
          [
           "373"
          ],
          [
           "373"
          ],
          [
           "373"
          ],
          [
           "373"
          ],
          [
           "373"
          ],
          [
           "373"
          ],
          [
           "373"
          ],
          [
           "373"
          ]
         ],
         "hovertemplate": "cluster=%{customdata[0]}<br>UMAP-1=%{x}<br>UMAP-2=%{y}<extra></extra>",
         "legendgroup": "373",
         "marker": {
          "color": "#54A24B",
          "opacity": 0.8,
          "size": 8,
          "symbol": "circle"
         },
         "mode": "markers",
         "name": "373",
         "showlegend": true,
         "type": "scattergl",
         "x": {
          "bdata": "yYYcQYKKHEGOnhxBfXQcQbmiHEF9exxBmYccQW7JHEHisBxBHYwcQVlqHEG/iRxB3U4cQQ==",
          "dtype": "f4"
         },
         "xaxis": "x",
         "y": {
          "bdata": "q3wfQdF5H0FpYx9BBIwfQQJgH0FUhh9BxXsfQWY6H0ELUx9B4nYfQSqaH0EUeh9BA7QfQQ==",
          "dtype": "f4"
         },
         "yaxis": "y"
        },
        {
         "customdata": [
          [
           "374"
          ],
          [
           "374"
          ],
          [
           "374"
          ],
          [
           "374"
          ],
          [
           "374"
          ],
          [
           "374"
          ],
          [
           "374"
          ],
          [
           "374"
          ],
          [
           "374"
          ],
          [
           "374"
          ],
          [
           "374"
          ],
          [
           "374"
          ],
          [
           "374"
          ]
         ],
         "hovertemplate": "cluster=%{customdata[0]}<br>UMAP-1=%{x}<br>UMAP-2=%{y}<extra></extra>",
         "legendgroup": "374",
         "marker": {
          "color": "#EECA3B",
          "opacity": 0.8,
          "size": 8,
          "symbol": "circle"
         },
         "mode": "markers",
         "name": "374",
         "showlegend": true,
         "type": "scattergl",
         "x": {
          "bdata": "2A0nQfw3J0E1/yZB/gAnQYQYJ0Hg2yZBWf4mQc38JkFICSdBIwQnQeENJ0GAACdBVUAnQQ==",
          "dtype": "f4"
         },
         "xaxis": "x",
         "y": {
          "bdata": "lTWKQXRKikFELopBKi+KQfo6ikHAHIpBmS2KQRktikFXM4pBaTCKQVI0ikGTLopB0E6KQQ==",
          "dtype": "f4"
         },
         "yaxis": "y"
        },
        {
         "customdata": [
          [
           "375"
          ],
          [
           "375"
          ],
          [
           "375"
          ],
          [
           "375"
          ],
          [
           "375"
          ],
          [
           "375"
          ],
          [
           "375"
          ],
          [
           "375"
          ],
          [
           "375"
          ],
          [
           "375"
          ]
         ],
         "hovertemplate": "cluster=%{customdata[0]}<br>UMAP-1=%{x}<br>UMAP-2=%{y}<extra></extra>",
         "legendgroup": "375",
         "marker": {
          "color": "#B279A2",
          "opacity": 0.8,
          "size": 8,
          "symbol": "circle"
         },
         "mode": "markers",
         "name": "375",
         "showlegend": true,
         "type": "scattergl",
         "x": {
          "bdata": "Nf6JQQEtikEDYIpBtyuKQV5QikGNeopB2zKKQcFMikFOCopBgzCKQQ==",
          "dtype": "f4"
         },
         "xaxis": "x",
         "y": {
          "bdata": "x6mLwVjYi8GsC4zBFNeLwav8i8H9JYzBTN6LwYL4i8FXtYvBgdmLwQ==",
          "dtype": "f4"
         },
         "yaxis": "y"
        },
        {
         "customdata": [
          [
           "376"
          ],
          [
           "376"
          ],
          [
           "376"
          ],
          [
           "376"
          ],
          [
           "376"
          ],
          [
           "376"
          ],
          [
           "376"
          ],
          [
           "376"
          ],
          [
           "376"
          ],
          [
           "376"
          ]
         ],
         "hovertemplate": "cluster=%{customdata[0]}<br>UMAP-1=%{x}<br>UMAP-2=%{y}<extra></extra>",
         "legendgroup": "376",
         "marker": {
          "color": "#FF9DA6",
          "opacity": 0.8,
          "size": 8,
          "symbol": "circle"
         },
         "mode": "markers",
         "name": "376",
         "showlegend": true,
         "type": "scattergl",
         "x": {
          "bdata": "EWOKQY0CikFvlopBylSKQREXikEJDopBfqOJQRzliUG+VYpBuESKQQ==",
          "dtype": "f4"
         },
         "xaxis": "x",
         "y": {
          "bdata": "yBGMweKyi8FjRYzB2AGMwcPFi8GiuovBNlKLwTeSi8FCA4zBD/KLwQ==",
          "dtype": "f4"
         },
         "yaxis": "y"
        },
        {
         "customdata": [
          [
           "377"
          ],
          [
           "377"
          ],
          [
           "377"
          ],
          [
           "377"
          ],
          [
           "377"
          ],
          [
           "377"
          ],
          [
           "377"
          ],
          [
           "377"
          ],
          [
           "377"
          ],
          [
           "377"
          ]
         ],
         "hovertemplate": "cluster=%{customdata[0]}<br>UMAP-1=%{x}<br>UMAP-2=%{y}<extra></extra>",
         "legendgroup": "377",
         "marker": {
          "color": "#9D755D",
          "opacity": 0.8,
          "size": 8,
          "symbol": "circle"
         },
         "mode": "markers",
         "name": "377",
         "showlegend": true,
         "type": "scattergl",
         "x": {
          "bdata": "rZnwQJK38UCMePFATqzxQG2v8UA1lfBA6c/xQKnX8UBKY/FAQ9/xQA==",
          "dtype": "f4"
         },
         "xaxis": "x",
         "y": {
          "bdata": "DYPUwRY81MGuS9TBwj7UwQU+1MFyhNTBJDbUwfIz1MEsUdTBoDLUwQ==",
          "dtype": "f4"
         },
         "yaxis": "y"
        },
        {
         "customdata": [
          [
           "378"
          ],
          [
           "378"
          ],
          [
           "378"
          ],
          [
           "378"
          ],
          [
           "378"
          ],
          [
           "378"
          ],
          [
           "378"
          ],
          [
           "378"
          ],
          [
           "378"
          ],
          [
           "378"
          ]
         ],
         "hovertemplate": "cluster=%{customdata[0]}<br>UMAP-1=%{x}<br>UMAP-2=%{y}<extra></extra>",
         "legendgroup": "378",
         "marker": {
          "color": "#BAB0AC",
          "opacity": 0.8,
          "size": 8,
          "symbol": "circle"
         },
         "mode": "markers",
         "name": "378",
         "showlegend": true,
         "type": "scattergl",
         "x": {
          "bdata": "QKOKQR/DikFe44pBjNSKQdcOi0GexYpBo96KQY3HikEmPYtB3h6LQQ==",
          "dtype": "f4"
         },
         "xaxis": "x",
         "y": {
          "bdata": "ZFKMwWByjMF7kozBYYOMwSK+jMHBdIzBy42MwVt2jMEB7IzBd82MwQ==",
          "dtype": "f4"
         },
         "yaxis": "y"
        },
        {
         "customdata": [
          [
           "379"
          ],
          [
           "379"
          ],
          [
           "379"
          ],
          [
           "379"
          ],
          [
           "379"
          ],
          [
           "379"
          ],
          [
           "379"
          ],
          [
           "379"
          ],
          [
           "379"
          ],
          [
           "379"
          ]
         ],
         "hovertemplate": "cluster=%{customdata[0]}<br>UMAP-1=%{x}<br>UMAP-2=%{y}<extra></extra>",
         "legendgroup": "379",
         "marker": {
          "color": "#4C78A8",
          "opacity": 0.8,
          "size": 8,
          "symbol": "circle"
         },
         "mode": "markers",
         "name": "379",
         "showlegend": true,
         "type": "scattergl",
         "x": {
          "bdata": "PtqJQYpsiUFD3YlB24iJQWVNiUH7SYlB6lKJQZzQiUElk4lBa7SJQQ==",
          "dtype": "f4"
         },
         "xaxis": "x",
         "y": {
          "bdata": "FImLwUgci8Hgi4vBiTiLwSf9isHD+YrBiAKLwUZ/i8H1QYvBkGKLwQ==",
          "dtype": "f4"
         },
         "yaxis": "y"
        },
        {
         "customdata": [
          [
           "380"
          ],
          [
           "380"
          ],
          [
           "380"
          ],
          [
           "380"
          ],
          [
           "380"
          ],
          [
           "380"
          ],
          [
           "380"
          ],
          [
           "380"
          ],
          [
           "380"
          ],
          [
           "380"
          ]
         ],
         "hovertemplate": "cluster=%{customdata[0]}<br>UMAP-1=%{x}<br>UMAP-2=%{y}<extra></extra>",
         "legendgroup": "380",
         "marker": {
          "color": "#F58518",
          "opacity": 0.8,
          "size": 8,
          "symbol": "circle"
         },
         "mode": "markers",
         "name": "380",
         "showlegend": true,
         "type": "scattergl",
         "x": {
          "bdata": "uD5hQZ3NYEF7uGBBZ8pgQXbrYEEd92BBC7xgQZW8YEG4TWBBri9gQQ==",
          "dtype": "f4"
         },
         "xaxis": "x",
         "y": {
          "bdata": "1jQwwU6jMMHQuzDBRKYwwRaJMMHhfDDBrbcwwSS3MMHQJzHBQ0gxwQ==",
          "dtype": "f4"
         },
         "yaxis": "y"
        },
        {
         "customdata": [
          [
           "381"
          ],
          [
           "381"
          ],
          [
           "381"
          ],
          [
           "381"
          ],
          [
           "381"
          ],
          [
           "381"
          ],
          [
           "381"
          ],
          [
           "381"
          ],
          [
           "381"
          ],
          [
           "381"
          ]
         ],
         "hovertemplate": "cluster=%{customdata[0]}<br>UMAP-1=%{x}<br>UMAP-2=%{y}<extra></extra>",
         "legendgroup": "381",
         "marker": {
          "color": "#E45756",
          "opacity": 0.8,
          "size": 8,
          "symbol": "circle"
         },
         "mode": "markers",
         "name": "381",
         "showlegend": true,
         "type": "scattergl",
         "x": {
          "bdata": "L/00Qf39NEF/4DRBXb80QUS+NEHm9jRB5do0QcMBNUHS3TRB5BQ1QQ==",
          "dtype": "f4"
         },
         "xaxis": "x",
         "y": {
          "bdata": "4ViAwb1bgMGQTYDBuTyAwe87gMHoVYDBPkqAwVBegMELTIDBpWeAwQ==",
          "dtype": "f4"
         },
         "yaxis": "y"
        },
        {
         "customdata": [
          [
           "382"
          ],
          [
           "382"
          ],
          [
           "382"
          ],
          [
           "382"
          ],
          [
           "382"
          ],
          [
           "382"
          ],
          [
           "382"
          ],
          [
           "382"
          ],
          [
           "382"
          ],
          [
           "382"
          ],
          [
           "382"
          ]
         ],
         "hovertemplate": "cluster=%{customdata[0]}<br>UMAP-1=%{x}<br>UMAP-2=%{y}<extra></extra>",
         "legendgroup": "382",
         "marker": {
          "color": "#72B7B2",
          "opacity": 0.8,
          "size": 8,
          "symbol": "circle"
         },
         "mode": "markers",
         "name": "382",
         "showlegend": true,
         "type": "scattergl",
         "x": {
          "bdata": "LwZoQfwDaEG/E2hBoztoQbsPaEGdDmhB3EJoQc33Z0FNF2hB2kloQdAXaEE=",
          "dtype": "f4"
         },
         "xaxis": "x",
         "y": {
          "bdata": "vSyqQbYrqkHOMqpBUUWqQegwqkEUMKpBd0qqQagkqkGJNKpBzE2qQQQ1qkE=",
          "dtype": "f4"
         },
         "yaxis": "y"
        },
        {
         "customdata": [
          [
           "383"
          ],
          [
           "383"
          ],
          [
           "383"
          ],
          [
           "383"
          ],
          [
           "383"
          ],
          [
           "383"
          ],
          [
           "383"
          ],
          [
           "383"
          ],
          [
           "383"
          ],
          [
           "383"
          ],
          [
           "383"
          ]
         ],
         "hovertemplate": "cluster=%{customdata[0]}<br>UMAP-1=%{x}<br>UMAP-2=%{y}<extra></extra>",
         "legendgroup": "383",
         "marker": {
          "color": "#54A24B",
          "opacity": 0.8,
          "size": 8,
          "symbol": "circle"
         },
         "mode": "markers",
         "name": "383",
         "showlegend": true,
         "type": "scattergl",
         "x": {
          "bdata": "dEA9QU92PUHuWj1BvAY+QdemPUEGjj1B9eY7QVodPEGPITxB6BA9QVSIPEE=",
          "dtype": "f4"
         },
         "xaxis": "x",
         "y": {
          "bdata": "rurbQXgI3EE+ANxBT1ncQc8h3EHfEdxBqVrbQXRm20EVZttBuyDcQaud20E=",
          "dtype": "f4"
         },
         "yaxis": "y"
        },
        {
         "customdata": [
          [
           "384"
          ],
          [
           "384"
          ],
          [
           "384"
          ],
          [
           "384"
          ],
          [
           "384"
          ],
          [
           "384"
          ],
          [
           "384"
          ],
          [
           "384"
          ],
          [
           "384"
          ],
          [
           "384"
          ],
          [
           "384"
          ]
         ],
         "hovertemplate": "cluster=%{customdata[0]}<br>UMAP-1=%{x}<br>UMAP-2=%{y}<extra></extra>",
         "legendgroup": "384",
         "marker": {
          "color": "#EECA3B",
          "opacity": 0.8,
          "size": 8,
          "symbol": "circle"
         },
         "mode": "markers",
         "name": "384",
         "showlegend": true,
         "type": "scattergl",
         "x": {
          "bdata": "mDWSQT55kkHpEZJBzS2SQcI6kkGdOpJB4/SRQS8BkkFhOZJBbqKSQXs/kkE=",
          "dtype": "f4"
         },
         "xaxis": "x",
         "y": {
          "bdata": "XyDGQfNgxkE9/MVBbBjGQc4ixkGRJcZBJN/FQRHrxUEqJMZB3Y7GQWIqxkE=",
          "dtype": "f4"
         },
         "yaxis": "y"
        },
        {
         "customdata": [
          [
           "385"
          ],
          [
           "385"
          ],
          [
           "385"
          ],
          [
           "385"
          ],
          [
           "385"
          ],
          [
           "385"
          ],
          [
           "385"
          ],
          [
           "385"
          ],
          [
           "385"
          ],
          [
           "385"
          ],
          [
           "385"
          ]
         ],
         "hovertemplate": "cluster=%{customdata[0]}<br>UMAP-1=%{x}<br>UMAP-2=%{y}<extra></extra>",
         "legendgroup": "385",
         "marker": {
          "color": "#B279A2",
          "opacity": 0.8,
          "size": 8,
          "symbol": "circle"
         },
         "mode": "markers",
         "name": "385",
         "showlegend": true,
         "type": "scattergl",
         "x": {
          "bdata": "418RQsCKEUITYhFC9GQRQl59EUJXYxFCcXsRQgF7EUL5jBFCaYARQgxsEUI=",
          "dtype": "f4"
         },
         "xaxis": "x",
         "y": {
          "bdata": "vkqLwPLzicCcOYvAwCKLwCZfisBJL4vASm+KwBZyisBK4onAxEWKwMrpisA=",
          "dtype": "f4"
         },
         "yaxis": "y"
        },
        {
         "customdata": [
          [
           "386"
          ],
          [
           "386"
          ],
          [
           "386"
          ],
          [
           "386"
          ],
          [
           "386"
          ],
          [
           "386"
          ],
          [
           "386"
          ],
          [
           "386"
          ],
          [
           "386"
          ],
          [
           "386"
          ],
          [
           "386"
          ]
         ],
         "hovertemplate": "cluster=%{customdata[0]}<br>UMAP-1=%{x}<br>UMAP-2=%{y}<extra></extra>",
         "legendgroup": "386",
         "marker": {
          "color": "#FF9DA6",
          "opacity": 0.8,
          "size": 8,
          "symbol": "circle"
         },
         "mode": "markers",
         "name": "386",
         "showlegend": true,
         "type": "scattergl",
         "x": {
          "bdata": "1+MqQSSWKkHL5CpBZ+EqQVPQKkHR7ipB2csqQTHhKkEltSpBgukqQcbSKkE=",
          "dtype": "f4"
         },
         "xaxis": "x",
         "y": {
          "bdata": "JVpowL0dZ8CUU2jA7UFowEIQaMBpZGjAHgJowNlHaMCYQmfAKElowI8IaMA=",
          "dtype": "f4"
         },
         "yaxis": "y"
        },
        {
         "customdata": [
          [
           "387"
          ],
          [
           "387"
          ],
          [
           "387"
          ],
          [
           "387"
          ],
          [
           "387"
          ],
          [
           "387"
          ],
          [
           "387"
          ],
          [
           "387"
          ],
          [
           "387"
          ],
          [
           "387"
          ],
          [
           "387"
          ]
         ],
         "hovertemplate": "cluster=%{customdata[0]}<br>UMAP-1=%{x}<br>UMAP-2=%{y}<extra></extra>",
         "legendgroup": "387",
         "marker": {
          "color": "#9D755D",
          "opacity": 0.8,
          "size": 8,
          "symbol": "circle"
         },
         "mode": "markers",
         "name": "387",
         "showlegend": true,
         "type": "scattergl",
         "x": {
          "bdata": "gCUAQtAVAELBGABCYycAQj4YAEJ+JQBCWQkAQjYUAEJcIwBCpR0AQktEAEI=",
          "dtype": "f4"
         },
         "xaxis": "x",
         "y": {
          "bdata": "nZmEQPgthEA0O4RAxdyEQBiPhEC1joRAd7SEQOtLhEA9wYRA3IaEQP88hkA=",
          "dtype": "f4"
         },
         "yaxis": "y"
        },
        {
         "customdata": [
          [
           "388"
          ],
          [
           "388"
          ],
          [
           "388"
          ],
          [
           "388"
          ],
          [
           "388"
          ],
          [
           "388"
          ],
          [
           "388"
          ],
          [
           "388"
          ],
          [
           "388"
          ],
          [
           "388"
          ],
          [
           "388"
          ]
         ],
         "hovertemplate": "cluster=%{customdata[0]}<br>UMAP-1=%{x}<br>UMAP-2=%{y}<extra></extra>",
         "legendgroup": "388",
         "marker": {
          "color": "#BAB0AC",
          "opacity": 0.8,
          "size": 8,
          "symbol": "circle"
         },
         "mode": "markers",
         "name": "388",
         "showlegend": true,
         "type": "scattergl",
         "x": {
          "bdata": "tEpGQfGeRkHwgEZB7YBGQQGiRkG850ZBEydHQVmHRkHwq0ZBDzdGQXiDRkE=",
          "dtype": "f4"
         },
         "xaxis": "x",
         "y": {
          "bdata": "7fSaQZEfm0F6EJtBTBCbQdYgm0HBQ5tB3mObQZwTm0HNKJtBMeuaQYcOm0E=",
          "dtype": "f4"
         },
         "yaxis": "y"
        },
        {
         "customdata": [
          [
           "389"
          ],
          [
           "389"
          ],
          [
           "389"
          ],
          [
           "389"
          ],
          [
           "389"
          ],
          [
           "389"
          ],
          [
           "389"
          ],
          [
           "389"
          ],
          [
           "389"
          ],
          [
           "389"
          ],
          [
           "389"
          ]
         ],
         "hovertemplate": "cluster=%{customdata[0]}<br>UMAP-1=%{x}<br>UMAP-2=%{y}<extra></extra>",
         "legendgroup": "389",
         "marker": {
          "color": "#4C78A8",
          "opacity": 0.8,
          "size": 8,
          "symbol": "circle"
         },
         "mode": "markers",
         "name": "389",
         "showlegend": true,
         "type": "scattergl",
         "x": {
          "bdata": "7n6sQQK2rEGBmKxBqJKsQV+orEGPbqxBHk6sQdhvrEFjjKxBwo+sQYuerEE=",
          "dtype": "f4"
         },
         "xaxis": "x",
         "y": {
          "bdata": "62hYQRjbWEFHhlhBbYxYQQvRWEHalFhBI/dYQWWhWEHcqFhBdLRYQTGWWEE=",
          "dtype": "f4"
         },
         "yaxis": "y"
        },
        {
         "customdata": [
          [
           "390"
          ],
          [
           "390"
          ],
          [
           "390"
          ],
          [
           "390"
          ],
          [
           "390"
          ],
          [
           "390"
          ],
          [
           "390"
          ],
          [
           "390"
          ],
          [
           "390"
          ],
          [
           "390"
          ],
          [
           "390"
          ]
         ],
         "hovertemplate": "cluster=%{customdata[0]}<br>UMAP-1=%{x}<br>UMAP-2=%{y}<extra></extra>",
         "legendgroup": "390",
         "marker": {
          "color": "#F58518",
          "opacity": 0.8,
          "size": 8,
          "symbol": "circle"
         },
         "mode": "markers",
         "name": "390",
         "showlegend": true,
         "type": "scattergl",
         "x": {
          "bdata": "4+D/QfWT/0HmJABCS6b/QRuh/0GQo/9BlJ7/QT6m/0H2x/9B2O3/QaCf/0E=",
          "dtype": "f4"
         },
         "xaxis": "x",
         "y": {
          "bdata": "6suBQJhff0Af9YNAx8h/QOK7f0BG039AtwCAQCDqf0AveIFAt42CQPfZf0A=",
          "dtype": "f4"
         },
         "yaxis": "y"
        },
        {
         "customdata": [
          [
           "391"
          ],
          [
           "391"
          ],
          [
           "391"
          ],
          [
           "391"
          ],
          [
           "391"
          ],
          [
           "391"
          ],
          [
           "391"
          ],
          [
           "391"
          ],
          [
           "391"
          ],
          [
           "391"
          ],
          [
           "391"
          ]
         ],
         "hovertemplate": "cluster=%{customdata[0]}<br>UMAP-1=%{x}<br>UMAP-2=%{y}<extra></extra>",
         "legendgroup": "391",
         "marker": {
          "color": "#E45756",
          "opacity": 0.8,
          "size": 8,
          "symbol": "circle"
         },
         "mode": "markers",
         "name": "391",
         "showlegend": true,
         "type": "scattergl",
         "x": {
          "bdata": "8qPmQU+y5kEzquZBwaPmQd2+5kG4y+ZBDLDmQYqf5kEAgeZBvYHmQTmv5kE=",
          "dtype": "f4"
         },
         "xaxis": "x",
         "y": {
          "bdata": "criSwDfyksCC0ZLAZ7iSwDAkk8DIV5PAQuiSwKamksB4K5LAgC+SwEDkksA=",
          "dtype": "f4"
         },
         "yaxis": "y"
        },
        {
         "customdata": [
          [
           "392"
          ],
          [
           "392"
          ],
          [
           "392"
          ],
          [
           "392"
          ],
          [
           "392"
          ],
          [
           "392"
          ],
          [
           "392"
          ],
          [
           "392"
          ],
          [
           "392"
          ],
          [
           "392"
          ],
          [
           "392"
          ],
          [
           "392"
          ],
          [
           "392"
          ],
          [
           "392"
          ],
          [
           "392"
          ]
         ],
         "hovertemplate": "cluster=%{customdata[0]}<br>UMAP-1=%{x}<br>UMAP-2=%{y}<extra></extra>",
         "legendgroup": "392",
         "marker": {
          "color": "#72B7B2",
          "opacity": 0.8,
          "size": 8,
          "symbol": "circle"
         },
         "mode": "markers",
         "name": "392",
         "showlegend": true,
         "type": "scattergl",
         "x": {
          "bdata": "THGiQW9xokECa6JBKXGiQQ1xokHIcKJBE3GiQTtxokERcaJBInGiQZNwokEicaJB+HCiQSNxokE6caJB",
          "dtype": "f4"
         },
         "xaxis": "x",
         "y": {
          "bdata": "XRc3waMXN8GLKjfBIRg3wcUXN8FAFzfBKRg3wWUYN8E6GDfB8Bk3wW0YN8FRGDfBmRg3wcMYN8E5GTfB",
          "dtype": "f4"
         },
         "yaxis": "y"
        },
        {
         "customdata": [
          [
           "393"
          ],
          [
           "393"
          ],
          [
           "393"
          ],
          [
           "393"
          ],
          [
           "393"
          ],
          [
           "393"
          ],
          [
           "393"
          ],
          [
           "393"
          ],
          [
           "393"
          ],
          [
           "393"
          ],
          [
           "393"
          ],
          [
           "393"
          ],
          [
           "393"
          ],
          [
           "393"
          ],
          [
           "393"
          ]
         ],
         "hovertemplate": "cluster=%{customdata[0]}<br>UMAP-1=%{x}<br>UMAP-2=%{y}<extra></extra>",
         "legendgroup": "393",
         "marker": {
          "color": "#54A24B",
          "opacity": 0.8,
          "size": 8,
          "symbol": "circle"
         },
         "mode": "markers",
         "name": "393",
         "showlegend": true,
         "type": "scattergl",
         "x": {
          "bdata": "dQkiQSYZIkHzCiJBNA0iQUgHIkGYDCJBWAsiQXkLIkEVCSJBdgoiQS+iIUEmDSJBtwciQXEwIkHHBiJB",
          "dtype": "f4"
         },
         "xaxis": "x",
         "y": {
          "bdata": "vWzlQJCJ5UDKbuVAAXLlQPVj5UDoZeVAcW/lQJdu5UBgaOVAxG3lQFib5EDxcOVAzWflQNjC5UDhYuVA",
          "dtype": "f4"
         },
         "yaxis": "y"
        },
        {
         "customdata": [
          [
           "394"
          ],
          [
           "394"
          ],
          [
           "394"
          ],
          [
           "394"
          ],
          [
           "394"
          ],
          [
           "394"
          ],
          [
           "394"
          ],
          [
           "394"
          ],
          [
           "394"
          ],
          [
           "394"
          ],
          [
           "394"
          ],
          [
           "394"
          ],
          [
           "394"
          ],
          [
           "394"
          ],
          [
           "394"
          ]
         ],
         "hovertemplate": "cluster=%{customdata[0]}<br>UMAP-1=%{x}<br>UMAP-2=%{y}<extra></extra>",
         "legendgroup": "394",
         "marker": {
          "color": "#EECA3B",
          "opacity": 0.8,
          "size": 8,
          "symbol": "circle"
         },
         "mode": "markers",
         "name": "394",
         "showlegend": true,
         "type": "scattergl",
         "x": {
          "bdata": "8OcLQeTjC0H76QtBleQLQcPjC0GZ2wtB7OILQZjjC0FB4wtB+skLQXHiC0FD8AtBJuMLQRbjC0E94wtB",
          "dtype": "f4"
         },
         "xaxis": "x",
         "y": {
          "bdata": "3BQtwaUKLcEdEy3BQAstwYoKLcFOCC3BMwotwdQKLcGDCi3BIvEswRIKLcGlEi3Bjwotwd8KLcETCy3B",
          "dtype": "f4"
         },
         "yaxis": "y"
        },
        {
         "customdata": [
          [
           "395"
          ],
          [
           "395"
          ],
          [
           "395"
          ],
          [
           "395"
          ],
          [
           "395"
          ],
          [
           "395"
          ],
          [
           "395"
          ],
          [
           "395"
          ],
          [
           "395"
          ],
          [
           "395"
          ],
          [
           "395"
          ],
          [
           "395"
          ],
          [
           "395"
          ],
          [
           "395"
          ],
          [
           "395"
          ]
         ],
         "hovertemplate": "cluster=%{customdata[0]}<br>UMAP-1=%{x}<br>UMAP-2=%{y}<extra></extra>",
         "legendgroup": "395",
         "marker": {
          "color": "#B279A2",
          "opacity": 0.8,
          "size": 8,
          "symbol": "circle"
         },
         "mode": "markers",
         "name": "395",
         "showlegend": true,
         "type": "scattergl",
         "x": {
          "bdata": "EN0YQeubGEFDShlBucQYQcMJGUGvmBhBZI0YQVK3GEGDfBhBVL0YQXyrFkEAzBZBuacYQcepGEEc5hhB",
          "dtype": "f4"
         },
         "xaxis": "x",
         "y": {
          "bdata": "nhO5Qe/zuEHjSrlBgwi5QcgquUFv8rhBm+y4QY8CuUGi5LhB8gS5QXL9t0HIDbhBUPq4QWX7uEFFGblB",
          "dtype": "f4"
         },
         "yaxis": "y"
        },
        {
         "customdata": [
          [
           "396"
          ],
          [
           "396"
          ],
          [
           "396"
          ],
          [
           "396"
          ],
          [
           "396"
          ],
          [
           "396"
          ],
          [
           "396"
          ],
          [
           "396"
          ],
          [
           "396"
          ],
          [
           "396"
          ],
          [
           "396"
          ],
          [
           "396"
          ],
          [
           "396"
          ],
          [
           "396"
          ],
          [
           "396"
          ]
         ],
         "hovertemplate": "cluster=%{customdata[0]}<br>UMAP-1=%{x}<br>UMAP-2=%{y}<extra></extra>",
         "legendgroup": "396",
         "marker": {
          "color": "#FF9DA6",
          "opacity": 0.8,
          "size": 8,
          "symbol": "circle"
         },
         "mode": "markers",
         "name": "396",
         "showlegend": true,
         "type": "scattergl",
         "x": {
          "bdata": "yF6zQeFYs0EeVbNBTVazQZ0ds0EChbNB82+zQY9Ys0HCWLNBJlyzQUFYs0EeP7NBSFizQe9Rs0HyV7NB",
          "dtype": "f4"
         },
         "xaxis": "x",
         "y": {
          "bdata": "B/wav/hTGr8g2Rm/mfkZv/bqEr/P0R+/GCwdvzZAGr9OPRq/DLAavz1AGr8LERe/TEIavyF4Gb81MRq/",
          "dtype": "f4"
         },
         "yaxis": "y"
        },
        {
         "customdata": [
          [
           "397"
          ],
          [
           "397"
          ],
          [
           "397"
          ],
          [
           "397"
          ],
          [
           "397"
          ],
          [
           "397"
          ],
          [
           "397"
          ],
          [
           "397"
          ],
          [
           "397"
          ],
          [
           "397"
          ],
          [
           "397"
          ],
          [
           "397"
          ],
          [
           "397"
          ],
          [
           "397"
          ]
         ],
         "hovertemplate": "cluster=%{customdata[0]}<br>UMAP-1=%{x}<br>UMAP-2=%{y}<extra></extra>",
         "legendgroup": "397",
         "marker": {
          "color": "#9D755D",
          "opacity": 0.8,
          "size": 8,
          "symbol": "circle"
         },
         "mode": "markers",
         "name": "397",
         "showlegend": true,
         "type": "scattergl",
         "x": {
          "bdata": "dDq8QcQrvEGPLbxBjC28QbUSvEF6JrxBHBS8QcY+vEEZPrxBcUK8QSMOvEGR5LtBNzq8QdQ4vEE=",
          "dtype": "f4"
         },
         "xaxis": "x",
         "y": {
          "bdata": "wQ9ZQe4UWUEGEVlBhxNZQZM+WUE8GVlBYjxZQRoHWUFlCllBsvNYQacvWUGLj1lBOgtZQZIPWUE=",
          "dtype": "f4"
         },
         "yaxis": "y"
        },
        {
         "customdata": [
          [
           "398"
          ],
          [
           "398"
          ],
          [
           "398"
          ],
          [
           "398"
          ],
          [
           "398"
          ],
          [
           "398"
          ],
          [
           "398"
          ],
          [
           "398"
          ],
          [
           "398"
          ],
          [
           "398"
          ],
          [
           "398"
          ],
          [
           "398"
          ],
          [
           "398"
          ],
          [
           "398"
          ]
         ],
         "hovertemplate": "cluster=%{customdata[0]}<br>UMAP-1=%{x}<br>UMAP-2=%{y}<extra></extra>",
         "legendgroup": "398",
         "marker": {
          "color": "#BAB0AC",
          "opacity": 0.8,
          "size": 8,
          "symbol": "circle"
         },
         "mode": "markers",
         "name": "398",
         "showlegend": true,
         "type": "scattergl",
         "x": {
          "bdata": "SJ6SQQ0Vk0H14JJBjveSQXq/kkHU05JBk6CSQbg2k0G2hZJBe6uTQXKik0FgWJNBZlmSQQGdkkE=",
          "dtype": "f4"
         },
         "xaxis": "x",
         "y": {
          "bdata": "bIrGQeIBx0HLzcZBjOTGQUGtxkGgwMZBao3GQTkkx0HvcsZBeJrHQbOQx0GnRsdBiUXGQV2JxkE=",
          "dtype": "f4"
         },
         "yaxis": "y"
        },
        {
         "customdata": [
          [
           "399"
          ],
          [
           "399"
          ],
          [
           "399"
          ],
          [
           "399"
          ],
          [
           "399"
          ],
          [
           "399"
          ],
          [
           "399"
          ],
          [
           "399"
          ],
          [
           "399"
          ],
          [
           "399"
          ],
          [
           "399"
          ],
          [
           "399"
          ],
          [
           "399"
          ],
          [
           "399"
          ]
         ],
         "hovertemplate": "cluster=%{customdata[0]}<br>UMAP-1=%{x}<br>UMAP-2=%{y}<extra></extra>",
         "legendgroup": "399",
         "marker": {
          "color": "#4C78A8",
          "opacity": 0.8,
          "size": 8,
          "symbol": "circle"
         },
         "mode": "markers",
         "name": "399",
         "showlegend": true,
         "type": "scattergl",
         "x": {
          "bdata": "/aMBQjGQAUJAmgFChIIBQqqhAUI4mwFCTpwBQoCUAUL4rgFCocYBQgCwAUKymwFCYKYBQkWSAUI=",
          "dtype": "f4"
         },
         "xaxis": "x",
         "y": {
          "bdata": "5xExQBw9MkCsijFA0fkyQLG+MEBViTFAp3QxQPvcMUBQYDBAWbguQFYdMECRdjFAtsQwQEEjMkA=",
          "dtype": "f4"
         },
         "yaxis": "y"
        },
        {
         "customdata": [
          [
           "400"
          ],
          [
           "400"
          ],
          [
           "400"
          ],
          [
           "400"
          ],
          [
           "400"
          ],
          [
           "400"
          ],
          [
           "400"
          ],
          [
           "400"
          ],
          [
           "400"
          ],
          [
           "400"
          ],
          [
           "400"
          ],
          [
           "400"
          ],
          [
           "400"
          ],
          [
           "400"
          ]
         ],
         "hovertemplate": "cluster=%{customdata[0]}<br>UMAP-1=%{x}<br>UMAP-2=%{y}<extra></extra>",
         "legendgroup": "400",
         "marker": {
          "color": "#F58518",
          "opacity": 0.8,
          "size": 8,
          "symbol": "circle"
         },
         "mode": "markers",
         "name": "400",
         "showlegend": true,
         "type": "scattergl",
         "x": {
          "bdata": "hx2tQfZXrUHF/axBBBqtQWHXrUGlNq1BE4OtQbFJrUES16xBKlStQaaxrUHHqa1BczKtQSVOrUE=",
          "dtype": "f4"
         },
         "xaxis": "x",
         "y": {
          "bdata": "On1XQcfHV0GQG1hBupdXQRQEWEEQpldBpw9YQSnzV0E8gVhBeaJXQVflV0GxkFhB4I1XQe9RV0E=",
          "dtype": "f4"
         },
         "yaxis": "y"
        },
        {
         "customdata": [
          [
           "401"
          ],
          [
           "401"
          ],
          [
           "401"
          ],
          [
           "401"
          ],
          [
           "401"
          ],
          [
           "401"
          ],
          [
           "401"
          ],
          [
           "401"
          ],
          [
           "401"
          ],
          [
           "401"
          ],
          [
           "401"
          ],
          [
           "401"
          ],
          [
           "401"
          ],
          [
           "401"
          ]
         ],
         "hovertemplate": "cluster=%{customdata[0]}<br>UMAP-1=%{x}<br>UMAP-2=%{y}<extra></extra>",
         "legendgroup": "401",
         "marker": {
          "color": "#E45756",
          "opacity": 0.8,
          "size": 8,
          "symbol": "circle"
         },
         "mode": "markers",
         "name": "401",
         "showlegend": true,
         "type": "scattergl",
         "x": {
          "bdata": "KgW5QdP+uEHO87hBlY26QYAGuUFk6rhBOxC5QeK9uEFE/7hB2/+4QREEuUEaurhBdw+5QdkEuUE=",
          "dtype": "f4"
         },
         "xaxis": "x",
         "y": {
          "bdata": "KApbQRQOW0F8EVtBmBRaQYEGW0EgHFtB5QdbQQtXW0EfC1tBQAFbQcQIW0EkYVtBPxBbQVkbW0E=",
          "dtype": "f4"
         },
         "yaxis": "y"
        },
        {
         "customdata": [
          [
           "402"
          ],
          [
           "402"
          ],
          [
           "402"
          ],
          [
           "402"
          ],
          [
           "402"
          ],
          [
           "402"
          ],
          [
           "402"
          ],
          [
           "402"
          ],
          [
           "402"
          ],
          [
           "402"
          ],
          [
           "402"
          ],
          [
           "402"
          ],
          [
           "402"
          ],
          [
           "402"
          ]
         ],
         "hovertemplate": "cluster=%{customdata[0]}<br>UMAP-1=%{x}<br>UMAP-2=%{y}<extra></extra>",
         "legendgroup": "402",
         "marker": {
          "color": "#72B7B2",
          "opacity": 0.8,
          "size": 8,
          "symbol": "circle"
         },
         "mode": "markers",
         "name": "402",
         "showlegend": true,
         "type": "scattergl",
         "x": {
          "bdata": "K8ejQTnAo0GF4KNBXc6jQZRspEGGzaNBc72jQbzlo0G+zaNBCdOjQUCxo0HoyqNBCLijQQLpo0E=",
          "dtype": "f4"
         },
         "xaxis": "x",
         "y": {
          "bdata": "nk/XQFNT10AD19dARa/XQNLm30AXmtdAFyrYQB0y2EDTuddA/vbXQFb31kDGhtdAnDHXQD9B2EA=",
          "dtype": "f4"
         },
         "yaxis": "y"
        },
        {
         "customdata": [
          [
           "403"
          ],
          [
           "403"
          ],
          [
           "403"
          ],
          [
           "403"
          ],
          [
           "403"
          ],
          [
           "403"
          ],
          [
           "403"
          ],
          [
           "403"
          ],
          [
           "403"
          ],
          [
           "403"
          ],
          [
           "403"
          ],
          [
           "403"
          ],
          [
           "403"
          ],
          [
           "403"
          ]
         ],
         "hovertemplate": "cluster=%{customdata[0]}<br>UMAP-1=%{x}<br>UMAP-2=%{y}<extra></extra>",
         "legendgroup": "403",
         "marker": {
          "color": "#54A24B",
          "opacity": 0.8,
          "size": 8,
          "symbol": "circle"
         },
         "mode": "markers",
         "name": "403",
         "showlegend": true,
         "type": "scattergl",
         "x": {
          "bdata": "wM7+Qfz6/kGQB/9B5QP/QY79/kHQR/9BQj3/QQLo/kGmBP9B4P7+QYr4/kExyP5BJgH/QQPg/kE=",
          "dtype": "f4"
         },
         "xaxis": "x",
         "y": {
          "bdata": "oblyQB/Wc0C3wnZAVVR0QIbddUB4a3lA6Nd4QGWwc0AgOXRAF110QCfVc0AF/HFAc1V0QAuNckA=",
          "dtype": "f4"
         },
         "yaxis": "y"
        },
        {
         "customdata": [
          [
           "404"
          ],
          [
           "404"
          ],
          [
           "404"
          ],
          [
           "404"
          ],
          [
           "404"
          ],
          [
           "404"
          ],
          [
           "404"
          ],
          [
           "404"
          ],
          [
           "404"
          ],
          [
           "404"
          ]
         ],
         "hovertemplate": "cluster=%{customdata[0]}<br>UMAP-1=%{x}<br>UMAP-2=%{y}<extra></extra>",
         "legendgroup": "404",
         "marker": {
          "color": "#EECA3B",
          "opacity": 0.8,
          "size": 8,
          "symbol": "circle"
         },
         "mode": "markers",
         "name": "404",
         "showlegend": true,
         "type": "scattergl",
         "x": {
          "bdata": "swhzQZUSc0GvMHNB1wlzQSsIc0GoCXNBBf5yQQTSckGmB3NB7QVzQQ==",
          "dtype": "f4"
         },
         "xaxis": "x",
         "y": {
          "bdata": "dXukwKZfpMBrbaTAtHakwJB5pMATd6TANVKkwIPhpMC6eKTA63mkwA==",
          "dtype": "f4"
         },
         "yaxis": "y"
        },
        {
         "customdata": [
          [
           "405"
          ],
          [
           "405"
          ],
          [
           "405"
          ],
          [
           "405"
          ],
          [
           "405"
          ],
          [
           "405"
          ],
          [
           "405"
          ],
          [
           "405"
          ],
          [
           "405"
          ],
          [
           "405"
          ]
         ],
         "hovertemplate": "cluster=%{customdata[0]}<br>UMAP-1=%{x}<br>UMAP-2=%{y}<extra></extra>",
         "legendgroup": "405",
         "marker": {
          "color": "#B279A2",
          "opacity": 0.8,
          "size": 8,
          "symbol": "circle"
         },
         "mode": "markers",
         "name": "405",
         "showlegend": true,
         "type": "scattergl",
         "x": {
          "bdata": "hWffQBxm30ChcN9AJ2bfQAZn30B/Zt9AVlvfQGhh30BZZN9Avx7fQA==",
          "dtype": "f4"
         },
         "xaxis": "x",
         "y": {
          "bdata": "cv9XQSz/V0HUAlhBffxXQd3+V0G9/ldB+fRXQQb8V0EK/ldBp95XQQ==",
          "dtype": "f4"
         },
         "yaxis": "y"
        },
        {
         "customdata": [
          [
           "406"
          ],
          [
           "406"
          ],
          [
           "406"
          ],
          [
           "406"
          ],
          [
           "406"
          ],
          [
           "406"
          ],
          [
           "406"
          ],
          [
           "406"
          ],
          [
           "406"
          ],
          [
           "406"
          ]
         ],
         "hovertemplate": "cluster=%{customdata[0]}<br>UMAP-1=%{x}<br>UMAP-2=%{y}<extra></extra>",
         "legendgroup": "406",
         "marker": {
          "color": "#FF9DA6",
          "opacity": 0.8,
          "size": 8,
          "symbol": "circle"
         },
         "mode": "markers",
         "name": "406",
         "showlegend": true,
         "type": "scattergl",
         "x": {
          "bdata": "RmkAQtxlAEJXfABCcWIAQo9uAELGWwBCL1kAQqppAELyLQBCLXAAQg==",
          "dtype": "f4"
         },
         "xaxis": "x",
         "y": {
          "bdata": "qZNAQE28QEAUaT9AosBAQLACQEAiCUFA2bVAQP8qQEB+MERApwVAQA==",
          "dtype": "f4"
         },
         "yaxis": "y"
        },
        {
         "customdata": [
          [
           "407"
          ],
          [
           "407"
          ],
          [
           "407"
          ],
          [
           "407"
          ],
          [
           "407"
          ],
          [
           "407"
          ],
          [
           "407"
          ],
          [
           "407"
          ],
          [
           "407"
          ],
          [
           "407"
          ]
         ],
         "hovertemplate": "cluster=%{customdata[0]}<br>UMAP-1=%{x}<br>UMAP-2=%{y}<extra></extra>",
         "legendgroup": "407",
         "marker": {
          "color": "#9D755D",
          "opacity": 0.8,
          "size": 8,
          "symbol": "circle"
         },
         "mode": "markers",
         "name": "407",
         "showlegend": true,
         "type": "scattergl",
         "x": {
          "bdata": "2svmQRO65kE2o+ZBEbrmQT++5kGbreZBAbLmQWHW5kGeluZBwrrmQQ==",
          "dtype": "f4"
         },
         "xaxis": "x",
         "y": {
          "bdata": "MxQ/Qeo3P0HpZT9BJzg/QbMvP0EvUT9Bw0g/QYAAP0FWfz9BSzc/QQ==",
          "dtype": "f4"
         },
         "yaxis": "y"
        },
        {
         "customdata": [
          [
           "408"
          ],
          [
           "408"
          ],
          [
           "408"
          ],
          [
           "408"
          ],
          [
           "408"
          ],
          [
           "408"
          ],
          [
           "408"
          ],
          [
           "408"
          ],
          [
           "408"
          ],
          [
           "408"
          ]
         ],
         "hovertemplate": "cluster=%{customdata[0]}<br>UMAP-1=%{x}<br>UMAP-2=%{y}<extra></extra>",
         "legendgroup": "408",
         "marker": {
          "color": "#BAB0AC",
          "opacity": 0.8,
          "size": 8,
          "symbol": "circle"
         },
         "mode": "markers",
         "name": "408",
         "showlegend": true,
         "type": "scattergl",
         "x": {
          "bdata": "ScGeQTzBnkFcwZ5BV8GeQU7BnkFjwZ5BTMGeQWDBnkFcwZ5BnsGeQQ==",
          "dtype": "f4"
         },
         "xaxis": "x",
         "y": {
          "bdata": "1MKhQcLCoUG9wqFB5sKhQdfCoUEQw6FB5MKhQd3CoUEBw6FBdcOhQQ==",
          "dtype": "f4"
         },
         "yaxis": "y"
        },
        {
         "customdata": [
          [
           "409"
          ],
          [
           "409"
          ],
          [
           "409"
          ],
          [
           "409"
          ],
          [
           "409"
          ],
          [
           "409"
          ],
          [
           "409"
          ],
          [
           "409"
          ],
          [
           "409"
          ],
          [
           "409"
          ]
         ],
         "hovertemplate": "cluster=%{customdata[0]}<br>UMAP-1=%{x}<br>UMAP-2=%{y}<extra></extra>",
         "legendgroup": "409",
         "marker": {
          "color": "#4C78A8",
          "opacity": 0.8,
          "size": 8,
          "symbol": "circle"
         },
         "mode": "markers",
         "name": "409",
         "showlegend": true,
         "type": "scattergl",
         "x": {
          "bdata": "S67mQUGv5kHJlOZBWLTmQSPJ5kEaxOZBbYHmQSWx5kE72OZBCcXmQQ==",
          "dtype": "f4"
         },
         "xaxis": "x",
         "y": {
          "bdata": "j04/QcZMP0HFgT9BnEM/QWAZP0FFJD9Bz6k/QZFJP0ED/D5B4CI/QQ==",
          "dtype": "f4"
         },
         "yaxis": "y"
        },
        {
         "customdata": [
          [
           "410"
          ],
          [
           "410"
          ],
          [
           "410"
          ],
          [
           "410"
          ],
          [
           "410"
          ],
          [
           "410"
          ],
          [
           "410"
          ],
          [
           "410"
          ],
          [
           "410"
          ],
          [
           "410"
          ]
         ],
         "hovertemplate": "cluster=%{customdata[0]}<br>UMAP-1=%{x}<br>UMAP-2=%{y}<extra></extra>",
         "legendgroup": "410",
         "marker": {
          "color": "#F58518",
          "opacity": 0.8,
          "size": 8,
          "symbol": "circle"
         },
         "mode": "markers",
         "name": "410",
         "showlegend": true,
         "type": "scattergl",
         "x": {
          "bdata": "h8BFQWnbRUGqkEVBA6NFQQWgRUED1EVBVC9GQZtsRkEnakZBEAhGQQ==",
          "dtype": "f4"
         },
         "xaxis": "x",
         "y": {
          "bdata": "Qq+aQRK8mkF/lppBXKCaQR6fmkGouJpBN+eaQbEFm0GlAptBQ9OaQQ==",
          "dtype": "f4"
         },
         "yaxis": "y"
        },
        {
         "customdata": [
          [
           "411"
          ],
          [
           "411"
          ],
          [
           "411"
          ],
          [
           "411"
          ],
          [
           "411"
          ],
          [
           "411"
          ],
          [
           "411"
          ],
          [
           "411"
          ],
          [
           "411"
          ],
          [
           "411"
          ],
          [
           "411"
          ]
         ],
         "hovertemplate": "cluster=%{customdata[0]}<br>UMAP-1=%{x}<br>UMAP-2=%{y}<extra></extra>",
         "legendgroup": "411",
         "marker": {
          "color": "#E45756",
          "opacity": 0.8,
          "size": 8,
          "symbol": "circle"
         },
         "mode": "markers",
         "name": "411",
         "showlegend": true,
         "type": "scattergl",
         "x": {
          "bdata": "hZHdQTaz3UFOnN1Bf6TdQWy03UGJk91BSqbdQeen3UFMsd1BrH/dQXek3UE=",
          "dtype": "f4"
         },
         "xaxis": "x",
         "y": {
          "bdata": "wUeYQRommEHpPJhB0jSYQfMkmEHbRZhBHTOYQZAxmEE7KJhB6FmYQQc1mEE=",
          "dtype": "f4"
         },
         "yaxis": "y"
        },
        {
         "customdata": [
          [
           "412"
          ],
          [
           "412"
          ],
          [
           "412"
          ],
          [
           "412"
          ],
          [
           "412"
          ],
          [
           "412"
          ],
          [
           "412"
          ],
          [
           "412"
          ],
          [
           "412"
          ],
          [
           "412"
          ],
          [
           "412"
          ]
         ],
         "hovertemplate": "cluster=%{customdata[0]}<br>UMAP-1=%{x}<br>UMAP-2=%{y}<extra></extra>",
         "legendgroup": "412",
         "marker": {
          "color": "#72B7B2",
          "opacity": 0.8,
          "size": 8,
          "symbol": "circle"
         },
         "mode": "markers",
         "name": "412",
         "showlegend": true,
         "type": "scattergl",
         "x": {
          "bdata": "i1muQVAaskENcq5BnViuQWdlrkG3bq5BnRiuQZB9rkFZhK5BK5OuQeVrrkE=",
          "dtype": "f4"
         },
         "xaxis": "x",
         "y": {
          "bdata": "d3NYQQJ7W0GvX1hBZYVYQbaQWEEzclhB25pXQWqyWEFDj1hBt3lYQT+DWEE=",
          "dtype": "f4"
         },
         "yaxis": "y"
        },
        {
         "customdata": [
          [
           "413"
          ],
          [
           "413"
          ],
          [
           "413"
          ],
          [
           "413"
          ],
          [
           "413"
          ],
          [
           "413"
          ],
          [
           "413"
          ],
          [
           "413"
          ],
          [
           "413"
          ],
          [
           "413"
          ],
          [
           "413"
          ]
         ],
         "hovertemplate": "cluster=%{customdata[0]}<br>UMAP-1=%{x}<br>UMAP-2=%{y}<extra></extra>",
         "legendgroup": "413",
         "marker": {
          "color": "#54A24B",
          "opacity": 0.8,
          "size": 8,
          "symbol": "circle"
         },
         "mode": "markers",
         "name": "413",
         "showlegend": true,
         "type": "scattergl",
         "x": {
          "bdata": "ffmTQQf2k0Em8JNBswyUQe3uk0F/yZNBjTyUQeXik0Fx8ZNB+P+TQQcAlEE=",
          "dtype": "f4"
         },
         "xaxis": "x",
         "y": {
          "bdata": "F+nHQXvlx0GG38dB0fvHQVvex0HHuMdBIizIQVPSx0GZ4MdBUu/HQcjvx0E=",
          "dtype": "f4"
         },
         "yaxis": "y"
        },
        {
         "customdata": [
          [
           "414"
          ],
          [
           "414"
          ],
          [
           "414"
          ],
          [
           "414"
          ],
          [
           "414"
          ],
          [
           "414"
          ],
          [
           "414"
          ],
          [
           "414"
          ],
          [
           "414"
          ],
          [
           "414"
          ],
          [
           "414"
          ]
         ],
         "hovertemplate": "cluster=%{customdata[0]}<br>UMAP-1=%{x}<br>UMAP-2=%{y}<extra></extra>",
         "legendgroup": "414",
         "marker": {
          "color": "#EECA3B",
          "opacity": 0.8,
          "size": 8,
          "symbol": "circle"
         },
         "mode": "markers",
         "name": "414",
         "showlegend": true,
         "type": "scattergl",
         "x": {
          "bdata": "uk87QY9DO0E1ETtBsV87QWUsO0Hf1DpBjlc7QSRUO0G5dTtBZUE7Qad8OkE=",
          "dtype": "f4"
         },
         "xaxis": "x",
         "y": {
          "bdata": "/QjbQbQD20HM6dpBaRDbQcv62kHgzNpBZw3bQQMJ20HaHNtBNhzbQSeo2kE=",
          "dtype": "f4"
         },
         "yaxis": "y"
        },
        {
         "customdata": [
          [
           "415"
          ],
          [
           "415"
          ],
          [
           "415"
          ],
          [
           "415"
          ],
          [
           "415"
          ],
          [
           "415"
          ],
          [
           "415"
          ],
          [
           "415"
          ],
          [
           "415"
          ],
          [
           "415"
          ],
          [
           "415"
          ]
         ],
         "hovertemplate": "cluster=%{customdata[0]}<br>UMAP-1=%{x}<br>UMAP-2=%{y}<extra></extra>",
         "legendgroup": "415",
         "marker": {
          "color": "#B279A2",
          "opacity": 0.8,
          "size": 8,
          "symbol": "circle"
         },
         "mode": "markers",
         "name": "415",
         "showlegend": true,
         "type": "scattergl",
         "x": {
          "bdata": "6ADeQTwm3kE1C95BFgXeQaEc3kGGMt5BCE/eQe8K3kFcFt5B3THeQe0P3kE=",
          "dtype": "f4"
         },
         "xaxis": "x",
         "y": {
          "bdata": "stiXQVmzl0F9zpdBp9SXQRO9l0E6p5dBqIqXQePOl0HSxJdBAaiXQQXKl0E=",
          "dtype": "f4"
         },
         "yaxis": "y"
        },
        {
         "customdata": [
          [
           "416"
          ],
          [
           "416"
          ],
          [
           "416"
          ],
          [
           "416"
          ],
          [
           "416"
          ],
          [
           "416"
          ],
          [
           "416"
          ],
          [
           "416"
          ],
          [
           "416"
          ],
          [
           "416"
          ],
          [
           "416"
          ],
          [
           "416"
          ],
          [
           "416"
          ]
         ],
         "hovertemplate": "cluster=%{customdata[0]}<br>UMAP-1=%{x}<br>UMAP-2=%{y}<extra></extra>",
         "legendgroup": "416",
         "marker": {
          "color": "#FF9DA6",
          "opacity": 0.8,
          "size": 8,
          "symbol": "circle"
         },
         "mode": "markers",
         "name": "416",
         "showlegend": true,
         "type": "scattergl",
         "x": {
          "bdata": "o4exQVBjsUF4Y7FBXDuxQfw5sUEmkLFBwHyxQUEKsUH1+7BBKmGxQYw+sUFtYrFBkkKxQQ==",
          "dtype": "f4"
         },
         "xaxis": "x",
         "y": {
          "bdata": "Lbm/wLwov8BPKr/AXIm+wEWEvsDg27/AbY2/wJPEvcDYir3AFiC/wJGVvsBbJL/An6W+wA==",
          "dtype": "f4"
         },
         "yaxis": "y"
        },
        {
         "customdata": [
          [
           "417"
          ],
          [
           "417"
          ],
          [
           "417"
          ],
          [
           "417"
          ],
          [
           "417"
          ],
          [
           "417"
          ],
          [
           "417"
          ],
          [
           "417"
          ],
          [
           "417"
          ],
          [
           "417"
          ],
          [
           "417"
          ],
          [
           "417"
          ],
          [
           "417"
          ]
         ],
         "hovertemplate": "cluster=%{customdata[0]}<br>UMAP-1=%{x}<br>UMAP-2=%{y}<extra></extra>",
         "legendgroup": "417",
         "marker": {
          "color": "#9D755D",
          "opacity": 0.8,
          "size": 8,
          "symbol": "circle"
         },
         "mode": "markers",
         "name": "417",
         "showlegend": true,
         "type": "scattergl",
         "x": {
          "bdata": "DOKzQdYUtEE5H7RBsxa0QeTns0FL27NB6uOzQQPgs0FD8LNBS9azQX/Us0Fc+7NBTRq0QQ==",
          "dtype": "f4"
         },
         "xaxis": "x",
         "y": {
          "bdata": "Px7JwDzpycBUEsrAxPDJwCo1ycDdA8nANiTJwFEWycDjVcnAqO/IwCfoyMBgg8nA8P3JwA==",
          "dtype": "f4"
         },
         "yaxis": "y"
        },
        {
         "customdata": [
          [
           "418"
          ],
          [
           "418"
          ],
          [
           "418"
          ],
          [
           "418"
          ],
          [
           "418"
          ],
          [
           "418"
          ],
          [
           "418"
          ],
          [
           "418"
          ],
          [
           "418"
          ],
          [
           "418"
          ],
          [
           "418"
          ],
          [
           "418"
          ],
          [
           "418"
          ]
         ],
         "hovertemplate": "cluster=%{customdata[0]}<br>UMAP-1=%{x}<br>UMAP-2=%{y}<extra></extra>",
         "legendgroup": "418",
         "marker": {
          "color": "#BAB0AC",
          "opacity": 0.8,
          "size": 8,
          "symbol": "circle"
         },
         "mode": "markers",
         "name": "418",
         "showlegend": true,
         "type": "scattergl",
         "x": {
          "bdata": "7p2ZQV2vmUFjnplBDpWZQc2dmUEcnplBMaCZQYagmUF1nplBapuZQXpjmUFjnJlB4puZQQ==",
          "dtype": "f4"
         },
         "xaxis": "x",
         "y": {
          "bdata": "u60+wK8hPsCOqT7A4/E+wOy4PsAgrj7ArZI+wKKOPsCKqj7A2MM+wP6JQMAcuj7A/rw+wA==",
          "dtype": "f4"
         },
         "yaxis": "y"
        },
        {
         "customdata": [
          [
           "419"
          ],
          [
           "419"
          ],
          [
           "419"
          ],
          [
           "419"
          ],
          [
           "419"
          ],
          [
           "419"
          ],
          [
           "419"
          ],
          [
           "419"
          ],
          [
           "419"
          ],
          [
           "419"
          ],
          [
           "419"
          ],
          [
           "419"
          ],
          [
           "419"
          ]
         ],
         "hovertemplate": "cluster=%{customdata[0]}<br>UMAP-1=%{x}<br>UMAP-2=%{y}<extra></extra>",
         "legendgroup": "419",
         "marker": {
          "color": "#4C78A8",
          "opacity": 0.8,
          "size": 8,
          "symbol": "circle"
         },
         "mode": "markers",
         "name": "419",
         "showlegend": true,
         "type": "scattergl",
         "x": {
          "bdata": "WUzQQWtM0EFpTNBBnUzQQVdM0EGGTNBBfEzQQaZM0EH+S9BBekzQQWxM0EGMTNBBikzQQQ==",
          "dtype": "f4"
         },
         "xaxis": "x",
         "y": {
          "bdata": "49MeP3HUHj9y0x4/S9kePy7THj/10x4/49IeP5XZHj+azB4/SdQeP4XSHj9S0B4/+9IePw==",
          "dtype": "f4"
         },
         "yaxis": "y"
        },
        {
         "customdata": [
          [
           "420"
          ],
          [
           "420"
          ],
          [
           "420"
          ],
          [
           "420"
          ],
          [
           "420"
          ],
          [
           "420"
          ],
          [
           "420"
          ],
          [
           "420"
          ],
          [
           "420"
          ],
          [
           "420"
          ],
          [
           "420"
          ],
          [
           "420"
          ],
          [
           "420"
          ]
         ],
         "hovertemplate": "cluster=%{customdata[0]}<br>UMAP-1=%{x}<br>UMAP-2=%{y}<extra></extra>",
         "legendgroup": "420",
         "marker": {
          "color": "#F58518",
          "opacity": 0.8,
          "size": 8,
          "symbol": "circle"
         },
         "mode": "markers",
         "name": "420",
         "showlegend": true,
         "type": "scattergl",
         "x": {
          "bdata": "LgF9QWHFfEG0/3xB1Vp8QZDlfEFBu3xB/gV9QV/2fEGgwHxBD1Z8QU38fEGOVHxBeYx+QQ==",
          "dtype": "f4"
         },
         "xaxis": "x",
         "y": {
          "bdata": "RWtovzVubb+u52i/yPZ2v3GtbL8ZLXK/pWFovxW1a7/dPW6/Ou54v7CPa7+/O3m/WSAUvw==",
          "dtype": "f4"
         },
         "yaxis": "y"
        },
        {
         "customdata": [
          [
           "421"
          ],
          [
           "421"
          ],
          [
           "421"
          ],
          [
           "421"
          ],
          [
           "421"
          ],
          [
           "421"
          ],
          [
           "421"
          ],
          [
           "421"
          ],
          [
           "421"
          ],
          [
           "421"
          ],
          [
           "421"
          ],
          [
           "421"
          ],
          [
           "421"
          ]
         ],
         "hovertemplate": "cluster=%{customdata[0]}<br>UMAP-1=%{x}<br>UMAP-2=%{y}<extra></extra>",
         "legendgroup": "421",
         "marker": {
          "color": "#E45756",
          "opacity": 0.8,
          "size": 8,
          "symbol": "circle"
         },
         "mode": "markers",
         "name": "421",
         "showlegend": true,
         "type": "scattergl",
         "x": {
          "bdata": "ZgdBQbbXQEGEHEFBPLNAQb2kQEGS8UBB/KRAQdB+QEFJgUBBnXdAQSbyQEFYhEBBFZ5AQQ==",
          "dtype": "f4"
         },
         "xaxis": "x",
         "y": {
          "bdata": "HSANwZPLDMEHLg3BQNwMwajhDMFCCA3BpuIMwdG9DMGlwwzBGLcMwaKPDMHXwQzBdNoMwQ==",
          "dtype": "f4"
         },
         "yaxis": "y"
        },
        {
         "customdata": [
          [
           "422"
          ],
          [
           "422"
          ],
          [
           "422"
          ],
          [
           "422"
          ],
          [
           "422"
          ],
          [
           "422"
          ],
          [
           "422"
          ],
          [
           "422"
          ],
          [
           "422"
          ],
          [
           "422"
          ],
          [
           "422"
          ],
          [
           "422"
          ],
          [
           "422"
          ]
         ],
         "hovertemplate": "cluster=%{customdata[0]}<br>UMAP-1=%{x}<br>UMAP-2=%{y}<extra></extra>",
         "legendgroup": "422",
         "marker": {
          "color": "#72B7B2",
          "opacity": 0.8,
          "size": 8,
          "symbol": "circle"
         },
         "mode": "markers",
         "name": "422",
         "showlegend": true,
         "type": "scattergl",
         "x": {
          "bdata": "cMTdQVCo3UHkst1Bao/dQe0l3UHcEd1BcWndQaU+3UEpId1BPyvdQeYr3UGqPt1BkOfdQQ==",
          "dtype": "f4"
         },
         "xaxis": "x",
         "y": {
          "bdata": "mBWYQa8xmEFOJ5hB2EqYQSG0mEFEyJhBynCYQYabmEELuZhB/K6YQWOumEGlm5hByfKXQQ==",
          "dtype": "f4"
         },
         "yaxis": "y"
        },
        {
         "customdata": [
          [
           "423"
          ],
          [
           "423"
          ],
          [
           "423"
          ],
          [
           "423"
          ],
          [
           "423"
          ],
          [
           "423"
          ],
          [
           "423"
          ],
          [
           "423"
          ],
          [
           "423"
          ],
          [
           "423"
          ],
          [
           "423"
          ],
          [
           "423"
          ],
          [
           "423"
          ],
          [
           "423"
          ]
         ],
         "hovertemplate": "cluster=%{customdata[0]}<br>UMAP-1=%{x}<br>UMAP-2=%{y}<extra></extra>",
         "legendgroup": "423",
         "marker": {
          "color": "#54A24B",
          "opacity": 0.8,
          "size": 8,
          "symbol": "circle"
         },
         "mode": "markers",
         "name": "423",
         "showlegend": true,
         "type": "scattergl",
         "x": {
          "bdata": "N/SiQfPcokHo3aJB2OCiQYsFo0E2CKNB5uiiQcj6okG6A6NBVPaiQZf6okFV/qJBahujQcH9okE=",
          "dtype": "f4"
         },
         "xaxis": "x",
         "y": {
          "bdata": "GQacQPRpnECFbpxAfVGcQJJem0CMg5tAliWcQAPim0CgW5tAhFScQF2qm0Am15tAXoKcQNvGm0A=",
          "dtype": "f4"
         },
         "yaxis": "y"
        },
        {
         "customdata": [
          [
           "424"
          ],
          [
           "424"
          ],
          [
           "424"
          ],
          [
           "424"
          ],
          [
           "424"
          ],
          [
           "424"
          ],
          [
           "424"
          ],
          [
           "424"
          ],
          [
           "424"
          ],
          [
           "424"
          ],
          [
           "424"
          ],
          [
           "424"
          ],
          [
           "424"
          ],
          [
           "424"
          ]
         ],
         "hovertemplate": "cluster=%{customdata[0]}<br>UMAP-1=%{x}<br>UMAP-2=%{y}<extra></extra>",
         "legendgroup": "424",
         "marker": {
          "color": "#EECA3B",
          "opacity": 0.8,
          "size": 8,
          "symbol": "circle"
         },
         "mode": "markers",
         "name": "424",
         "showlegend": true,
         "type": "scattergl",
         "x": {
          "bdata": "/my0QauDtEE2c7RBgFi0QWRktEH8crRBToS0Qe5ptEFee7RBgG+0QZGGtEF+YrRB5I60Qa9qtEE=",
          "dtype": "f4"
         },
         "xaxis": "x",
         "y": {
          "bdata": "inJkQTLCZEGLkWRBpEZkQTJqZEFLjGRBuaRkQcCEZEEihmRBkZ1kQc2nZEFAWmRBNa5kQfppZEE=",
          "dtype": "f4"
         },
         "yaxis": "y"
        },
        {
         "customdata": [
          [
           "425"
          ],
          [
           "425"
          ],
          [
           "425"
          ],
          [
           "425"
          ],
          [
           "425"
          ],
          [
           "425"
          ],
          [
           "425"
          ],
          [
           "425"
          ],
          [
           "425"
          ],
          [
           "425"
          ],
          [
           "425"
          ],
          [
           "425"
          ],
          [
           "425"
          ],
          [
           "425"
          ]
         ],
         "hovertemplate": "cluster=%{customdata[0]}<br>UMAP-1=%{x}<br>UMAP-2=%{y}<extra></extra>",
         "legendgroup": "425",
         "marker": {
          "color": "#B279A2",
          "opacity": 0.8,
          "size": 8,
          "symbol": "circle"
         },
         "mode": "markers",
         "name": "425",
         "showlegend": true,
         "type": "scattergl",
         "x": {
          "bdata": "mli0QaYVtEGWSrRBilq0QZz1s0GmGbRB1ga2QRoatEFNG7RBh+izQYXus0GzIrRBtSG0QTsktEE=",
          "dtype": "f4"
         },
         "xaxis": "x",
         "y": {
          "bdata": "YzthQdVPXUETZ11B8gtdQfG8XEHrFl1BLj1cQcgMXUGPIl1BFaxcQYPCXEELGV1B0uxcQV0KXUE=",
          "dtype": "f4"
         },
         "yaxis": "y"
        },
        {
         "customdata": [
          [
           "426"
          ],
          [
           "426"
          ],
          [
           "426"
          ],
          [
           "426"
          ],
          [
           "426"
          ],
          [
           "426"
          ],
          [
           "426"
          ],
          [
           "426"
          ],
          [
           "426"
          ],
          [
           "426"
          ],
          [
           "426"
          ],
          [
           "426"
          ],
          [
           "426"
          ],
          [
           "426"
          ]
         ],
         "hovertemplate": "cluster=%{customdata[0]}<br>UMAP-1=%{x}<br>UMAP-2=%{y}<extra></extra>",
         "legendgroup": "426",
         "marker": {
          "color": "#FF9DA6",
          "opacity": 0.8,
          "size": 8,
          "symbol": "circle"
         },
         "mode": "markers",
         "name": "426",
         "showlegend": true,
         "type": "scattergl",
         "x": {
          "bdata": "gf+iQT5Fo0EQ5qJBHPiiQfESo0Hp9KJBNvaiQTgCo0G4CaNBRfmiQTjlokFDF6NBdPuiQcMZo0E=",
          "dtype": "f4"
         },
         "xaxis": "x",
         "y": {
          "bdata": "WhPFQLEUzEDt2cRAax3FQJibxUBr98RAs+vEQJA/xUBbdMVA8AnFQNe+xED0m8VAnAPFQOaOxUA=",
          "dtype": "f4"
         },
         "yaxis": "y"
        },
        {
         "customdata": [
          [
           "427"
          ],
          [
           "427"
          ],
          [
           "427"
          ],
          [
           "427"
          ],
          [
           "427"
          ],
          [
           "427"
          ],
          [
           "427"
          ],
          [
           "427"
          ],
          [
           "427"
          ],
          [
           "427"
          ],
          [
           "427"
          ],
          [
           "427"
          ],
          [
           "427"
          ],
          [
           "427"
          ]
         ],
         "hovertemplate": "cluster=%{customdata[0]}<br>UMAP-1=%{x}<br>UMAP-2=%{y}<extra></extra>",
         "legendgroup": "427",
         "marker": {
          "color": "#9D755D",
          "opacity": 0.8,
          "size": 8,
          "symbol": "circle"
         },
         "mode": "markers",
         "name": "427",
         "showlegend": true,
         "type": "scattergl",
         "x": {
          "bdata": "2rCdQUufnUGxf51BrI2dQW56nUHonp1BXYCdQZKPnUFJfJ1BkHidQQianUFllp1BIHedQRR3nUE=",
          "dtype": "f4"
         },
         "xaxis": "x",
         "y": {
          "bdata": "5l6uQFCgrkA7mK5AuY+uQBQ0rkDsga5APoauQKyWrkD7nK5ALgmvQMK4rkA/jq5Ao4euQJInrkA=",
          "dtype": "f4"
         },
         "yaxis": "y"
        },
        {
         "customdata": [
          [
           "428"
          ],
          [
           "428"
          ],
          [
           "428"
          ],
          [
           "428"
          ],
          [
           "428"
          ],
          [
           "428"
          ],
          [
           "428"
          ],
          [
           "428"
          ],
          [
           "428"
          ],
          [
           "428"
          ],
          [
           "428"
          ],
          [
           "428"
          ],
          [
           "428"
          ],
          [
           "428"
          ]
         ],
         "hovertemplate": "cluster=%{customdata[0]}<br>UMAP-1=%{x}<br>UMAP-2=%{y}<extra></extra>",
         "legendgroup": "428",
         "marker": {
          "color": "#BAB0AC",
          "opacity": 0.8,
          "size": 8,
          "symbol": "circle"
         },
         "mode": "markers",
         "name": "428",
         "showlegend": true,
         "type": "scattergl",
         "x": {
          "bdata": "uvOkQTrbpEH2/KRBaPmkQcTdpEHz76RB5dqkQZf3pEFm0aRBj/+kQQi+pUGT76RBTtGkQRHppEE=",
          "dtype": "f4"
         },
         "xaxis": "x",
         "y": {
          "bdata": "ObnmQEt05kAwDedAx+vmQEJd5kCS5eZAZ3LmQOft5kCwauZAsm/nQOaj7EDb4uZAvT7nQOud5kA=",
          "dtype": "f4"
         },
         "yaxis": "y"
        },
        {
         "customdata": [
          [
           "429"
          ],
          [
           "429"
          ],
          [
           "429"
          ],
          [
           "429"
          ],
          [
           "429"
          ],
          [
           "429"
          ],
          [
           "429"
          ],
          [
           "429"
          ],
          [
           "429"
          ],
          [
           "429"
          ],
          [
           "429"
          ],
          [
           "429"
          ],
          [
           "429"
          ],
          [
           "429"
          ]
         ],
         "hovertemplate": "cluster=%{customdata[0]}<br>UMAP-1=%{x}<br>UMAP-2=%{y}<extra></extra>",
         "legendgroup": "429",
         "marker": {
          "color": "#4C78A8",
          "opacity": 0.8,
          "size": 8,
          "symbol": "circle"
         },
         "mode": "markers",
         "name": "429",
         "showlegend": true,
         "type": "scattergl",
         "x": {
          "bdata": "DqymQTCxpkEppqZBRbCmQYu+pkEKsqZBhsqmQQSzpkFEvKZBzLmmQcW1pkEbsaZBZ+umQZTNpkE=",
          "dtype": "f4"
         },
         "xaxis": "x",
         "y": {
          "bdata": "Y/PyQBj68kB7xPJAmPTyQLxt80B9BvNAynjzQNAL80C+U/NAeTvzQIgt80BC+fJABwL0QDik80A=",
          "dtype": "f4"
         },
         "yaxis": "y"
        },
        {
         "customdata": [
          [
           "430"
          ],
          [
           "430"
          ],
          [
           "430"
          ],
          [
           "430"
          ],
          [
           "430"
          ],
          [
           "430"
          ],
          [
           "430"
          ],
          [
           "430"
          ],
          [
           "430"
          ],
          [
           "430"
          ],
          [
           "430"
          ],
          [
           "430"
          ],
          [
           "430"
          ],
          [
           "430"
          ]
         ],
         "hovertemplate": "cluster=%{customdata[0]}<br>UMAP-1=%{x}<br>UMAP-2=%{y}<extra></extra>",
         "legendgroup": "430",
         "marker": {
          "color": "#F58518",
          "opacity": 0.8,
          "size": 8,
          "symbol": "circle"
         },
         "mode": "markers",
         "name": "430",
         "showlegend": true,
         "type": "scattergl",
         "x": {
          "bdata": "vTB2QQ2OdkHjLHZBmGN2QQQkdkFRP3ZBzDR2QXpPdkEOMXZBsiN2QYHkdUEtEHZBR+91QcHpdUE=",
          "dtype": "f4"
         },
         "xaxis": "x",
         "y": {
          "bdata": "pepVQUUjVkHXElZBHy5WQR/IVUFcClZB3xVWQckiVkG5B1ZBRxNWQRlNVkEPPFZBTAVWQb3LVUE=",
          "dtype": "f4"
         },
         "yaxis": "y"
        },
        {
         "customdata": [
          [
           "431"
          ],
          [
           "431"
          ],
          [
           "431"
          ],
          [
           "431"
          ],
          [
           "431"
          ],
          [
           "431"
          ],
          [
           "431"
          ],
          [
           "431"
          ],
          [
           "431"
          ],
          [
           "431"
          ],
          [
           "431"
          ],
          [
           "431"
          ],
          [
           "431"
          ],
          [
           "431"
          ]
         ],
         "hovertemplate": "cluster=%{customdata[0]}<br>UMAP-1=%{x}<br>UMAP-2=%{y}<extra></extra>",
         "legendgroup": "431",
         "marker": {
          "color": "#E45756",
          "opacity": 0.8,
          "size": 8,
          "symbol": "circle"
         },
         "mode": "markers",
         "name": "431",
         "showlegend": true,
         "type": "scattergl",
         "x": {
          "bdata": "0P95QYsBfUGbpHxBW9R8Qd65fEH6VXxBLL58QUwSfUEs3HxBUN58QSoDfEF8XnxBzb98QeF9fEE=",
          "dtype": "f4"
         },
         "xaxis": "x",
         "y": {
          "bdata": "zC1XQSDzV0Gy11dBY+hXQZ/gV0H7qVdBEuhXQXn4V0Ea81dBUMNXQUiXV0FWmFdBVrpXQXqiV0E=",
          "dtype": "f4"
         },
         "yaxis": "y"
        },
        {
         "customdata": [
          [
           "432"
          ],
          [
           "432"
          ],
          [
           "432"
          ],
          [
           "432"
          ],
          [
           "432"
          ],
          [
           "432"
          ],
          [
           "432"
          ],
          [
           "432"
          ],
          [
           "432"
          ],
          [
           "432"
          ],
          [
           "432"
          ],
          [
           "432"
          ],
          [
           "432"
          ],
          [
           "432"
          ]
         ],
         "hovertemplate": "cluster=%{customdata[0]}<br>UMAP-1=%{x}<br>UMAP-2=%{y}<extra></extra>",
         "legendgroup": "432",
         "marker": {
          "color": "#72B7B2",
          "opacity": 0.8,
          "size": 8,
          "symbol": "circle"
         },
         "mode": "markers",
         "name": "432",
         "showlegend": true,
         "type": "scattergl",
         "x": {
          "bdata": "6ht/QdMnf0E1Kn9B0it/QUyxfkGdh39B5SF/QWIhf0GoI39BkuJ+Qf8ff0HtB39BDXR/QQIof0E=",
          "dtype": "f4"
         },
         "xaxis": "x",
         "y": {
          "bdata": "ePf0vrgz8L4uHfC+E9TuvsE//77FaOO+TOHuvvJz8r4c6/G+1bb6vrP68b67IPm+hSfjvkaS8L4=",
          "dtype": "f4"
         },
         "yaxis": "y"
        },
        {
         "customdata": [
          [
           "433"
          ],
          [
           "433"
          ],
          [
           "433"
          ],
          [
           "433"
          ],
          [
           "433"
          ],
          [
           "433"
          ],
          [
           "433"
          ],
          [
           "433"
          ],
          [
           "433"
          ],
          [
           "433"
          ],
          [
           "433"
          ],
          [
           "433"
          ],
          [
           "433"
          ]
         ],
         "hovertemplate": "cluster=%{customdata[0]}<br>UMAP-1=%{x}<br>UMAP-2=%{y}<extra></extra>",
         "legendgroup": "433",
         "marker": {
          "color": "#54A24B",
          "opacity": 0.8,
          "size": 8,
          "symbol": "circle"
         },
         "mode": "markers",
         "name": "433",
         "showlegend": true,
         "type": "scattergl",
         "x": {
          "bdata": "AebTQV7h00H95tNB6M3TQYfm00EH5tNBq+jTQQLm00Hb59NBIebTQUPQ00Ht5dNBceXTQQ==",
          "dtype": "f4"
         },
         "xaxis": "x",
         "y": {
          "bdata": "+IAUwUCdFMHfexTBukcUwd95FMEoexTBsmEUwdB5FMGigxTBU3oUwQ2bFMGndhTBL3oUwQ==",
          "dtype": "f4"
         },
         "yaxis": "y"
        },
        {
         "customdata": [
          [
           "434"
          ],
          [
           "434"
          ],
          [
           "434"
          ],
          [
           "434"
          ],
          [
           "434"
          ],
          [
           "434"
          ],
          [
           "434"
          ],
          [
           "434"
          ],
          [
           "434"
          ],
          [
           "434"
          ],
          [
           "434"
          ],
          [
           "434"
          ],
          [
           "434"
          ]
         ],
         "hovertemplate": "cluster=%{customdata[0]}<br>UMAP-1=%{x}<br>UMAP-2=%{y}<extra></extra>",
         "legendgroup": "434",
         "marker": {
          "color": "#EECA3B",
          "opacity": 0.8,
          "size": 8,
          "symbol": "circle"
         },
         "mode": "markers",
         "name": "434",
         "showlegend": true,
         "type": "scattergl",
         "x": {
          "bdata": "bhFBQTqMQEE2AEFBOpZAQT+UQEGUuEBBKsdAQb+2QEFocUBB4GZAQXLpQEF4tkBBpSlBQQ==",
          "dtype": "f4"
         },
         "xaxis": "x",
         "y": {
          "bdata": "pvmLQJzwikCy14tAQAWLQBABi0BVR4tA8mOLQE9Gi0BAv4pAOqeKQAiui0D0RotAxyuMQA==",
          "dtype": "f4"
         },
         "yaxis": "y"
        },
        {
         "customdata": [
          [
           "435"
          ],
          [
           "435"
          ],
          [
           "435"
          ],
          [
           "435"
          ],
          [
           "435"
          ],
          [
           "435"
          ],
          [
           "435"
          ],
          [
           "435"
          ],
          [
           "435"
          ],
          [
           "435"
          ],
          [
           "435"
          ],
          [
           "435"
          ],
          [
           "435"
          ]
         ],
         "hovertemplate": "cluster=%{customdata[0]}<br>UMAP-1=%{x}<br>UMAP-2=%{y}<extra></extra>",
         "legendgroup": "435",
         "marker": {
          "color": "#B279A2",
          "opacity": 0.8,
          "size": 8,
          "symbol": "circle"
         },
         "mode": "markers",
         "name": "435",
         "showlegend": true,
         "type": "scattergl",
         "x": {
          "bdata": "QFw9QTSEPUHUOD1BbY49Qc2OPUHkfj1B4qw9QXkgPUGwej1BQ349QaAGPUFx1z1BEX89QQ==",
          "dtype": "f4"
         },
         "xaxis": "x",
         "y": {
          "bdata": "CqgMwbWtDMHepgzBY7kMwZ26DMEkrQzBjtQMwYtzDMFsrAzB1K8MwYebDME3Iw3B/bEMwQ==",
          "dtype": "f4"
         },
         "yaxis": "y"
        },
        {
         "customdata": [
          [
           "436"
          ],
          [
           "436"
          ],
          [
           "436"
          ],
          [
           "436"
          ],
          [
           "436"
          ],
          [
           "436"
          ],
          [
           "436"
          ],
          [
           "436"
          ],
          [
           "436"
          ],
          [
           "436"
          ],
          [
           "436"
          ],
          [
           "436"
          ],
          [
           "436"
          ]
         ],
         "hovertemplate": "cluster=%{customdata[0]}<br>UMAP-1=%{x}<br>UMAP-2=%{y}<extra></extra>",
         "legendgroup": "436",
         "marker": {
          "color": "#FF9DA6",
          "opacity": 0.8,
          "size": 8,
          "symbol": "circle"
         },
         "mode": "markers",
         "name": "436",
         "showlegend": true,
         "type": "scattergl",
         "x": {
          "bdata": "4iVNQZEJTUHkLE1BRClNQcMpTUF8QU1Bu1hNQWVNTUFtK01BIhJNQWYLTUENA01BdylNQQ==",
          "dtype": "f4"
         },
         "xaxis": "x",
         "y": {
          "bdata": "b9pHQd/1R0Fd0kdB5tRHQXPUR0HhvUdBuKZHQYSyR0EN0kdB9exHQWnyR0Hg+UdB29RHQQ==",
          "dtype": "f4"
         },
         "yaxis": "y"
        },
        {
         "customdata": [
          [
           "437"
          ],
          [
           "437"
          ],
          [
           "437"
          ],
          [
           "437"
          ],
          [
           "437"
          ],
          [
           "437"
          ],
          [
           "437"
          ],
          [
           "437"
          ],
          [
           "437"
          ],
          [
           "437"
          ],
          [
           "437"
          ],
          [
           "437"
          ],
          [
           "437"
          ]
         ],
         "hovertemplate": "cluster=%{customdata[0]}<br>UMAP-1=%{x}<br>UMAP-2=%{y}<extra></extra>",
         "legendgroup": "437",
         "marker": {
          "color": "#9D755D",
          "opacity": 0.8,
          "size": 8,
          "symbol": "circle"
         },
         "mode": "markers",
         "name": "437",
         "showlegend": true,
         "type": "scattergl",
         "x": {
          "bdata": "mYBKQdcLSkGTDEpBVxpKQQt5SkGALkpBlSBKQbAaSkFYPUpB4i5KQQCYSkGnNEpB1uRJQQ==",
          "dtype": "f4"
         },
         "xaxis": "x",
         "y": {
          "bdata": "54VYwOCRWsClilrAX1ZawCynWMBAAlrAkDpawJZRWsAc0lnAAwVawDdeWMCDGFrA4iNbwA==",
          "dtype": "f4"
         },
         "yaxis": "y"
        },
        {
         "customdata": [
          [
           "438"
          ],
          [
           "438"
          ],
          [
           "438"
          ],
          [
           "438"
          ],
          [
           "438"
          ],
          [
           "438"
          ],
          [
           "438"
          ],
          [
           "438"
          ],
          [
           "438"
          ],
          [
           "438"
          ],
          [
           "438"
          ],
          [
           "438"
          ],
          [
           "438"
          ]
         ],
         "hovertemplate": "cluster=%{customdata[0]}<br>UMAP-1=%{x}<br>UMAP-2=%{y}<extra></extra>",
         "legendgroup": "438",
         "marker": {
          "color": "#BAB0AC",
          "opacity": 0.8,
          "size": 8,
          "symbol": "circle"
         },
         "mode": "markers",
         "name": "438",
         "showlegend": true,
         "type": "scattergl",
         "x": {
          "bdata": "BDcmQYlrJkF8cCZBql8mQRaIJkEWryZBJIMmQZYfJkEG0SVBjnEmQbdxJkEQvSZBtwcmQQ==",
          "dtype": "f4"
         },
         "xaxis": "x",
         "y": {
          "bdata": "1q+XwXCVl8EXk5fBhJuXwYCHl8HAc5fBEYqXwU27l8F345fBpZKXwdGSl8G5bZfB4ceXwQ==",
          "dtype": "f4"
         },
         "yaxis": "y"
        },
        {
         "customdata": [
          [
           "439"
          ],
          [
           "439"
          ],
          [
           "439"
          ],
          [
           "439"
          ],
          [
           "439"
          ],
          [
           "439"
          ],
          [
           "439"
          ],
          [
           "439"
          ],
          [
           "439"
          ],
          [
           "439"
          ],
          [
           "439"
          ],
          [
           "439"
          ],
          [
           "439"
          ]
         ],
         "hovertemplate": "cluster=%{customdata[0]}<br>UMAP-1=%{x}<br>UMAP-2=%{y}<extra></extra>",
         "legendgroup": "439",
         "marker": {
          "color": "#4C78A8",
          "opacity": 0.8,
          "size": 8,
          "symbol": "circle"
         },
         "mode": "markers",
         "name": "439",
         "showlegend": true,
         "type": "scattergl",
         "x": {
          "bdata": "IDUWQcS3FUHnkxVBNJEVQb7bFUEqvRVBGasVQXfQFUFAuxVBC1IWQRqNFUFJuxVB9SUWQQ==",
          "dtype": "f4"
         },
         "xaxis": "x",
         "y": {
          "bdata": "DsO3QZCEt0G1crdBa3G3QW6Wt0Fih7dB+323QaSQt0FchrdB9NG3Qchvt0EhhrdBPLy3QQ==",
          "dtype": "f4"
         },
         "yaxis": "y"
        },
        {
         "customdata": [
          [
           "440"
          ],
          [
           "440"
          ],
          [
           "440"
          ],
          [
           "440"
          ],
          [
           "440"
          ],
          [
           "440"
          ],
          [
           "440"
          ],
          [
           "440"
          ],
          [
           "440"
          ],
          [
           "440"
          ],
          [
           "440"
          ],
          [
           "440"
          ],
          [
           "440"
          ]
         ],
         "hovertemplate": "cluster=%{customdata[0]}<br>UMAP-1=%{x}<br>UMAP-2=%{y}<extra></extra>",
         "legendgroup": "440",
         "marker": {
          "color": "#F58518",
          "opacity": 0.8,
          "size": 8,
          "symbol": "circle"
         },
         "mode": "markers",
         "name": "440",
         "showlegend": true,
         "type": "scattergl",
         "x": {
          "bdata": "Y/xKQaLTSkGbHEtBLv1KQU74SkE8WUtBn/lKQX77SkGIiUpBfOpKQT77SkEZQEtBSflKQQ==",
          "dtype": "f4"
         },
         "xaxis": "x",
         "y": {
          "bdata": "CnRWwPUFV8Cm6lXAW3FWwJSAVsCjAlXAt3pWwJ1yVsChO1jAa7tWwLOHVsDq71TAN3xWwA==",
          "dtype": "f4"
         },
         "yaxis": "y"
        },
        {
         "customdata": [
          [
           "441"
          ],
          [
           "441"
          ],
          [
           "441"
          ],
          [
           "441"
          ],
          [
           "441"
          ],
          [
           "441"
          ],
          [
           "441"
          ],
          [
           "441"
          ],
          [
           "441"
          ],
          [
           "441"
          ],
          [
           "441"
          ],
          [
           "441"
          ],
          [
           "441"
          ],
          [
           "441"
          ]
         ],
         "hovertemplate": "cluster=%{customdata[0]}<br>UMAP-1=%{x}<br>UMAP-2=%{y}<extra></extra>",
         "legendgroup": "441",
         "marker": {
          "color": "#E45756",
          "opacity": 0.8,
          "size": 8,
          "symbol": "circle"
         },
         "mode": "markers",
         "name": "441",
         "showlegend": true,
         "type": "scattergl",
         "x": {
          "bdata": "3mqhQSYsoUFYLaFB10uhQXDXn0HkcKFBFV6hQc9ZoUHkRKFB6EihQWgsoUEpB6FBDSOhQZ8GokE=",
          "dtype": "f4"
         },
         "xaxis": "x",
         "y": {
          "bdata": "eT6uQPHnr0CloK9Az5CvQEEfr0AvTa5AC5CuQBpKr0Drjq9Aw3CvQIjkr0BdV7BAsfSvQJt1uUA=",
          "dtype": "f4"
         },
         "yaxis": "y"
        },
        {
         "customdata": [
          [
           "442"
          ],
          [
           "442"
          ],
          [
           "442"
          ],
          [
           "442"
          ],
          [
           "442"
          ],
          [
           "442"
          ],
          [
           "442"
          ],
          [
           "442"
          ],
          [
           "442"
          ],
          [
           "442"
          ],
          [
           "442"
          ],
          [
           "442"
          ],
          [
           "442"
          ],
          [
           "442"
          ]
         ],
         "hovertemplate": "cluster=%{customdata[0]}<br>UMAP-1=%{x}<br>UMAP-2=%{y}<extra></extra>",
         "legendgroup": "442",
         "marker": {
          "color": "#72B7B2",
          "opacity": 0.8,
          "size": 8,
          "symbol": "circle"
         },
         "mode": "markers",
         "name": "442",
         "showlegend": true,
         "type": "scattergl",
         "x": {
          "bdata": "5rBxQWh6cUGUr3FBCrBxQTmpcUFIr3FB2K5xQdiucUG6tHFBdrBxQbu0cUGFsHFBsqdxQWOkcUE=",
          "dtype": "f4"
         },
         "xaxis": "x",
         "y": {
          "bdata": "EDhlQNmXZECmNGVAWzFlQE8WZUBCMWVA+jJlQK0yZUAgSmVAei9lQNfaZEDrJ2VABjJmQN4oZUA=",
          "dtype": "f4"
         },
         "yaxis": "y"
        },
        {
         "customdata": [
          [
           "443"
          ],
          [
           "443"
          ],
          [
           "443"
          ],
          [
           "443"
          ],
          [
           "443"
          ],
          [
           "443"
          ],
          [
           "443"
          ],
          [
           "443"
          ],
          [
           "443"
          ],
          [
           "443"
          ],
          [
           "443"
          ],
          [
           "443"
          ],
          [
           "443"
          ],
          [
           "443"
          ]
         ],
         "hovertemplate": "cluster=%{customdata[0]}<br>UMAP-1=%{x}<br>UMAP-2=%{y}<extra></extra>",
         "legendgroup": "443",
         "marker": {
          "color": "#54A24B",
          "opacity": 0.8,
          "size": 8,
          "symbol": "circle"
         },
         "mode": "markers",
         "name": "443",
         "showlegend": true,
         "type": "scattergl",
         "x": {
          "bdata": "XJNHQbbSR0GrsUdB4qlHQYDcR0GN9EZBqetHQVvbR0F1k0dBEMlHQT0QSEFr2kdBOsdHQeuYR0E=",
          "dtype": "f4"
         },
         "xaxis": "x",
         "y": {
          "bdata": "JCvdQdYc3UGeLd1BAyjdQbwy3UGh2NxBGTHdQfsn3UEUIt1B1SbdQYM23UG6G91B/CbdQfEl3UE=",
          "dtype": "f4"
         },
         "yaxis": "y"
        },
        {
         "customdata": [
          [
           "444"
          ],
          [
           "444"
          ],
          [
           "444"
          ],
          [
           "444"
          ],
          [
           "444"
          ],
          [
           "444"
          ],
          [
           "444"
          ],
          [
           "444"
          ],
          [
           "444"
          ],
          [
           "444"
          ],
          [
           "444"
          ],
          [
           "444"
          ],
          [
           "444"
          ],
          [
           "444"
          ]
         ],
         "hovertemplate": "cluster=%{customdata[0]}<br>UMAP-1=%{x}<br>UMAP-2=%{y}<extra></extra>",
         "legendgroup": "444",
         "marker": {
          "color": "#EECA3B",
          "opacity": 0.8,
          "size": 8,
          "symbol": "circle"
         },
         "mode": "markers",
         "name": "444",
         "showlegend": true,
         "type": "scattergl",
         "x": {
          "bdata": "dxxAQaFiREHKEUBBg6s/QUc0QEH9E0BBcKQ/QScMP0F6DD9B8q4+QbNuQEHYRUBBV4g+Qcl/P0E=",
          "dtype": "f4"
         },
         "xaxis": "x",
         "y": {
          "bdata": "sELdQYMK3UFhRN1BYw7dQVk+3UExH91BgvXcQcHx3EFwsdxBxH/cQR9c3UHmUt1BVIzcQQkG3UE=",
          "dtype": "f4"
         },
         "yaxis": "y"
        },
        {
         "customdata": [
          [
           "445"
          ],
          [
           "445"
          ],
          [
           "445"
          ],
          [
           "445"
          ],
          [
           "445"
          ],
          [
           "445"
          ],
          [
           "445"
          ],
          [
           "445"
          ],
          [
           "445"
          ],
          [
           "445"
          ],
          [
           "445"
          ],
          [
           "445"
          ],
          [
           "445"
          ],
          [
           "445"
          ]
         ],
         "hovertemplate": "cluster=%{customdata[0]}<br>UMAP-1=%{x}<br>UMAP-2=%{y}<extra></extra>",
         "legendgroup": "445",
         "marker": {
          "color": "#B279A2",
          "opacity": 0.8,
          "size": 8,
          "symbol": "circle"
         },
         "mode": "markers",
         "name": "445",
         "showlegend": true,
         "type": "scattergl",
         "x": {
          "bdata": "f5J0QZOHdEE/nXRBPZ10QbiAdEHSB3VBlZt0QeuXdEFOnXRBvpl0QSCMdEH/iXRBYZp0QdRydEE=",
          "dtype": "f4"
         },
         "xaxis": "x",
         "y": {
          "bdata": "c6OTQWiok0EpoJNBfp6TQbSrk0EKaZNBNJ+TQeigk0E5npNBYaCTQd6mk0HIp5NBbJ+TQSCwk0E=",
          "dtype": "f4"
         },
         "yaxis": "y"
        },
        {
         "customdata": [
          [
           "446"
          ],
          [
           "446"
          ],
          [
           "446"
          ],
          [
           "446"
          ],
          [
           "446"
          ],
          [
           "446"
          ],
          [
           "446"
          ],
          [
           "446"
          ],
          [
           "446"
          ],
          [
           "446"
          ],
          [
           "446"
          ]
         ],
         "hovertemplate": "cluster=%{customdata[0]}<br>UMAP-1=%{x}<br>UMAP-2=%{y}<extra></extra>",
         "legendgroup": "446",
         "marker": {
          "color": "#FF9DA6",
          "opacity": 0.8,
          "size": 8,
          "symbol": "circle"
         },
         "mode": "markers",
         "name": "446",
         "showlegend": true,
         "type": "scattergl",
         "x": {
          "bdata": "9r/nQfTu50Gl0edB1vDnQSAQ6EGaGuhBacLnQXfu50HiJuhB/ernQWYa6EE=",
          "dtype": "f4"
         },
         "xaxis": "x",
         "y": {
          "bdata": "ryeXwPvil8ALbpfAPOuXwFZomMAMlJjAPjCXwAfhl8Abw5jAKNSXwLeQmMA=",
          "dtype": "f4"
         },
         "yaxis": "y"
        },
        {
         "customdata": [
          [
           "447"
          ],
          [
           "447"
          ],
          [
           "447"
          ],
          [
           "447"
          ],
          [
           "447"
          ],
          [
           "447"
          ],
          [
           "447"
          ],
          [
           "447"
          ],
          [
           "447"
          ],
          [
           "447"
          ],
          [
           "447"
          ]
         ],
         "hovertemplate": "cluster=%{customdata[0]}<br>UMAP-1=%{x}<br>UMAP-2=%{y}<extra></extra>",
         "legendgroup": "447",
         "marker": {
          "color": "#9D755D",
          "opacity": 0.8,
          "size": 8,
          "symbol": "circle"
         },
         "mode": "markers",
         "name": "447",
         "showlegend": true,
         "type": "scattergl",
         "x": {
          "bdata": "u8nyQJvU8UBepfJADu/xQCw/8kCz8fFAorjxQFhs8kD0KPJACd3xQKp58kA=",
          "dtype": "f4"
         },
         "xaxis": "x",
         "y": {
          "bdata": "qvfTwfs01MHbANTBeC7UwXEa1MHvLdTBGzzUwTUP1MHsH9TB9TLUwcIL1ME=",
          "dtype": "f4"
         },
         "yaxis": "y"
        },
        {
         "customdata": [
          [
           "448"
          ],
          [
           "448"
          ],
          [
           "448"
          ],
          [
           "448"
          ],
          [
           "448"
          ],
          [
           "448"
          ],
          [
           "448"
          ],
          [
           "448"
          ],
          [
           "448"
          ],
          [
           "448"
          ],
          [
           "448"
          ]
         ],
         "hovertemplate": "cluster=%{customdata[0]}<br>UMAP-1=%{x}<br>UMAP-2=%{y}<extra></extra>",
         "legendgroup": "448",
         "marker": {
          "color": "#BAB0AC",
          "opacity": 0.8,
          "size": 8,
          "symbol": "circle"
         },
         "mode": "markers",
         "name": "448",
         "showlegend": true,
         "type": "scattergl",
         "x": {
          "bdata": "Iwh8QQIAfEGQCHxBfQt8QWZje0E+uXtBOr17QT9LfEE7E3xBlRJ8QUkJfEE=",
          "dtype": "f4"
         },
         "xaxis": "x",
         "y": {
          "bdata": "7ACAv3gOgL9LHYC/Y9+Av3c1hb/GHYK/VVOCv9mTfL8siH+/jaKCv0PCgL8=",
          "dtype": "f4"
         },
         "yaxis": "y"
        }
       ],
       "layout": {
        "height": 700,
        "legend": {
         "title": {
          "text": "cluster"
         },
         "tracegroupgap": 0
        },
        "template": {
         "data": {
          "bar": [
           {
            "error_x": {
             "color": "#2a3f5f"
            },
            "error_y": {
             "color": "#2a3f5f"
            },
            "marker": {
             "line": {
              "color": "#E5ECF6",
              "width": 0.5
             },
             "pattern": {
              "fillmode": "overlay",
              "size": 10,
              "solidity": 0.2
             }
            },
            "type": "bar"
           }
          ],
          "barpolar": [
           {
            "marker": {
             "line": {
              "color": "#E5ECF6",
              "width": 0.5
             },
             "pattern": {
              "fillmode": "overlay",
              "size": 10,
              "solidity": 0.2
             }
            },
            "type": "barpolar"
           }
          ],
          "carpet": [
           {
            "aaxis": {
             "endlinecolor": "#2a3f5f",
             "gridcolor": "white",
             "linecolor": "white",
             "minorgridcolor": "white",
             "startlinecolor": "#2a3f5f"
            },
            "baxis": {
             "endlinecolor": "#2a3f5f",
             "gridcolor": "white",
             "linecolor": "white",
             "minorgridcolor": "white",
             "startlinecolor": "#2a3f5f"
            },
            "type": "carpet"
           }
          ],
          "choropleth": [
           {
            "colorbar": {
             "outlinewidth": 0,
             "ticks": ""
            },
            "type": "choropleth"
           }
          ],
          "contour": [
           {
            "colorbar": {
             "outlinewidth": 0,
             "ticks": ""
            },
            "colorscale": [
             [
              0,
              "#0d0887"
             ],
             [
              0.1111111111111111,
              "#46039f"
             ],
             [
              0.2222222222222222,
              "#7201a8"
             ],
             [
              0.3333333333333333,
              "#9c179e"
             ],
             [
              0.4444444444444444,
              "#bd3786"
             ],
             [
              0.5555555555555556,
              "#d8576b"
             ],
             [
              0.6666666666666666,
              "#ed7953"
             ],
             [
              0.7777777777777778,
              "#fb9f3a"
             ],
             [
              0.8888888888888888,
              "#fdca26"
             ],
             [
              1,
              "#f0f921"
             ]
            ],
            "type": "contour"
           }
          ],
          "contourcarpet": [
           {
            "colorbar": {
             "outlinewidth": 0,
             "ticks": ""
            },
            "type": "contourcarpet"
           }
          ],
          "heatmap": [
           {
            "colorbar": {
             "outlinewidth": 0,
             "ticks": ""
            },
            "colorscale": [
             [
              0,
              "#0d0887"
             ],
             [
              0.1111111111111111,
              "#46039f"
             ],
             [
              0.2222222222222222,
              "#7201a8"
             ],
             [
              0.3333333333333333,
              "#9c179e"
             ],
             [
              0.4444444444444444,
              "#bd3786"
             ],
             [
              0.5555555555555556,
              "#d8576b"
             ],
             [
              0.6666666666666666,
              "#ed7953"
             ],
             [
              0.7777777777777778,
              "#fb9f3a"
             ],
             [
              0.8888888888888888,
              "#fdca26"
             ],
             [
              1,
              "#f0f921"
             ]
            ],
            "type": "heatmap"
           }
          ],
          "histogram": [
           {
            "marker": {
             "pattern": {
              "fillmode": "overlay",
              "size": 10,
              "solidity": 0.2
             }
            },
            "type": "histogram"
           }
          ],
          "histogram2d": [
           {
            "colorbar": {
             "outlinewidth": 0,
             "ticks": ""
            },
            "colorscale": [
             [
              0,
              "#0d0887"
             ],
             [
              0.1111111111111111,
              "#46039f"
             ],
             [
              0.2222222222222222,
              "#7201a8"
             ],
             [
              0.3333333333333333,
              "#9c179e"
             ],
             [
              0.4444444444444444,
              "#bd3786"
             ],
             [
              0.5555555555555556,
              "#d8576b"
             ],
             [
              0.6666666666666666,
              "#ed7953"
             ],
             [
              0.7777777777777778,
              "#fb9f3a"
             ],
             [
              0.8888888888888888,
              "#fdca26"
             ],
             [
              1,
              "#f0f921"
             ]
            ],
            "type": "histogram2d"
           }
          ],
          "histogram2dcontour": [
           {
            "colorbar": {
             "outlinewidth": 0,
             "ticks": ""
            },
            "colorscale": [
             [
              0,
              "#0d0887"
             ],
             [
              0.1111111111111111,
              "#46039f"
             ],
             [
              0.2222222222222222,
              "#7201a8"
             ],
             [
              0.3333333333333333,
              "#9c179e"
             ],
             [
              0.4444444444444444,
              "#bd3786"
             ],
             [
              0.5555555555555556,
              "#d8576b"
             ],
             [
              0.6666666666666666,
              "#ed7953"
             ],
             [
              0.7777777777777778,
              "#fb9f3a"
             ],
             [
              0.8888888888888888,
              "#fdca26"
             ],
             [
              1,
              "#f0f921"
             ]
            ],
            "type": "histogram2dcontour"
           }
          ],
          "mesh3d": [
           {
            "colorbar": {
             "outlinewidth": 0,
             "ticks": ""
            },
            "type": "mesh3d"
           }
          ],
          "parcoords": [
           {
            "line": {
             "colorbar": {
              "outlinewidth": 0,
              "ticks": ""
             }
            },
            "type": "parcoords"
           }
          ],
          "pie": [
           {
            "automargin": true,
            "type": "pie"
           }
          ],
          "scatter": [
           {
            "fillpattern": {
             "fillmode": "overlay",
             "size": 10,
             "solidity": 0.2
            },
            "type": "scatter"
           }
          ],
          "scatter3d": [
           {
            "line": {
             "colorbar": {
              "outlinewidth": 0,
              "ticks": ""
             }
            },
            "marker": {
             "colorbar": {
              "outlinewidth": 0,
              "ticks": ""
             }
            },
            "type": "scatter3d"
           }
          ],
          "scattercarpet": [
           {
            "marker": {
             "colorbar": {
              "outlinewidth": 0,
              "ticks": ""
             }
            },
            "type": "scattercarpet"
           }
          ],
          "scattergeo": [
           {
            "marker": {
             "colorbar": {
              "outlinewidth": 0,
              "ticks": ""
             }
            },
            "type": "scattergeo"
           }
          ],
          "scattergl": [
           {
            "marker": {
             "colorbar": {
              "outlinewidth": 0,
              "ticks": ""
             }
            },
            "type": "scattergl"
           }
          ],
          "scattermap": [
           {
            "marker": {
             "colorbar": {
              "outlinewidth": 0,
              "ticks": ""
             }
            },
            "type": "scattermap"
           }
          ],
          "scattermapbox": [
           {
            "marker": {
             "colorbar": {
              "outlinewidth": 0,
              "ticks": ""
             }
            },
            "type": "scattermapbox"
           }
          ],
          "scatterpolar": [
           {
            "marker": {
             "colorbar": {
              "outlinewidth": 0,
              "ticks": ""
             }
            },
            "type": "scatterpolar"
           }
          ],
          "scatterpolargl": [
           {
            "marker": {
             "colorbar": {
              "outlinewidth": 0,
              "ticks": ""
             }
            },
            "type": "scatterpolargl"
           }
          ],
          "scatterternary": [
           {
            "marker": {
             "colorbar": {
              "outlinewidth": 0,
              "ticks": ""
             }
            },
            "type": "scatterternary"
           }
          ],
          "surface": [
           {
            "colorbar": {
             "outlinewidth": 0,
             "ticks": ""
            },
            "colorscale": [
             [
              0,
              "#0d0887"
             ],
             [
              0.1111111111111111,
              "#46039f"
             ],
             [
              0.2222222222222222,
              "#7201a8"
             ],
             [
              0.3333333333333333,
              "#9c179e"
             ],
             [
              0.4444444444444444,
              "#bd3786"
             ],
             [
              0.5555555555555556,
              "#d8576b"
             ],
             [
              0.6666666666666666,
              "#ed7953"
             ],
             [
              0.7777777777777778,
              "#fb9f3a"
             ],
             [
              0.8888888888888888,
              "#fdca26"
             ],
             [
              1,
              "#f0f921"
             ]
            ],
            "type": "surface"
           }
          ],
          "table": [
           {
            "cells": {
             "fill": {
              "color": "#EBF0F8"
             },
             "line": {
              "color": "white"
             }
            },
            "header": {
             "fill": {
              "color": "#C8D4E3"
             },
             "line": {
              "color": "white"
             }
            },
            "type": "table"
           }
          ]
         },
         "layout": {
          "annotationdefaults": {
           "arrowcolor": "#2a3f5f",
           "arrowhead": 0,
           "arrowwidth": 1
          },
          "autotypenumbers": "strict",
          "coloraxis": {
           "colorbar": {
            "outlinewidth": 0,
            "ticks": ""
           }
          },
          "colorscale": {
           "diverging": [
            [
             0,
             "#8e0152"
            ],
            [
             0.1,
             "#c51b7d"
            ],
            [
             0.2,
             "#de77ae"
            ],
            [
             0.3,
             "#f1b6da"
            ],
            [
             0.4,
             "#fde0ef"
            ],
            [
             0.5,
             "#f7f7f7"
            ],
            [
             0.6,
             "#e6f5d0"
            ],
            [
             0.7,
             "#b8e186"
            ],
            [
             0.8,
             "#7fbc41"
            ],
            [
             0.9,
             "#4d9221"
            ],
            [
             1,
             "#276419"
            ]
           ],
           "sequential": [
            [
             0,
             "#0d0887"
            ],
            [
             0.1111111111111111,
             "#46039f"
            ],
            [
             0.2222222222222222,
             "#7201a8"
            ],
            [
             0.3333333333333333,
             "#9c179e"
            ],
            [
             0.4444444444444444,
             "#bd3786"
            ],
            [
             0.5555555555555556,
             "#d8576b"
            ],
            [
             0.6666666666666666,
             "#ed7953"
            ],
            [
             0.7777777777777778,
             "#fb9f3a"
            ],
            [
             0.8888888888888888,
             "#fdca26"
            ],
            [
             1,
             "#f0f921"
            ]
           ],
           "sequentialminus": [
            [
             0,
             "#0d0887"
            ],
            [
             0.1111111111111111,
             "#46039f"
            ],
            [
             0.2222222222222222,
             "#7201a8"
            ],
            [
             0.3333333333333333,
             "#9c179e"
            ],
            [
             0.4444444444444444,
             "#bd3786"
            ],
            [
             0.5555555555555556,
             "#d8576b"
            ],
            [
             0.6666666666666666,
             "#ed7953"
            ],
            [
             0.7777777777777778,
             "#fb9f3a"
            ],
            [
             0.8888888888888888,
             "#fdca26"
            ],
            [
             1,
             "#f0f921"
            ]
           ]
          },
          "colorway": [
           "#636efa",
           "#EF553B",
           "#00cc96",
           "#ab63fa",
           "#FFA15A",
           "#19d3f3",
           "#FF6692",
           "#B6E880",
           "#FF97FF",
           "#FECB52"
          ],
          "font": {
           "color": "#2a3f5f"
          },
          "geo": {
           "bgcolor": "white",
           "lakecolor": "white",
           "landcolor": "#E5ECF6",
           "showlakes": true,
           "showland": true,
           "subunitcolor": "white"
          },
          "hoverlabel": {
           "align": "left"
          },
          "hovermode": "closest",
          "mapbox": {
           "style": "light"
          },
          "paper_bgcolor": "white",
          "plot_bgcolor": "#E5ECF6",
          "polar": {
           "angularaxis": {
            "gridcolor": "white",
            "linecolor": "white",
            "ticks": ""
           },
           "bgcolor": "#E5ECF6",
           "radialaxis": {
            "gridcolor": "white",
            "linecolor": "white",
            "ticks": ""
           }
          },
          "scene": {
           "xaxis": {
            "backgroundcolor": "#E5ECF6",
            "gridcolor": "white",
            "gridwidth": 2,
            "linecolor": "white",
            "showbackground": true,
            "ticks": "",
            "zerolinecolor": "white"
           },
           "yaxis": {
            "backgroundcolor": "#E5ECF6",
            "gridcolor": "white",
            "gridwidth": 2,
            "linecolor": "white",
            "showbackground": true,
            "ticks": "",
            "zerolinecolor": "white"
           },
           "zaxis": {
            "backgroundcolor": "#E5ECF6",
            "gridcolor": "white",
            "gridwidth": 2,
            "linecolor": "white",
            "showbackground": true,
            "ticks": "",
            "zerolinecolor": "white"
           }
          },
          "shapedefaults": {
           "line": {
            "color": "#2a3f5f"
           }
          },
          "ternary": {
           "aaxis": {
            "gridcolor": "white",
            "linecolor": "white",
            "ticks": ""
           },
           "baxis": {
            "gridcolor": "white",
            "linecolor": "white",
            "ticks": ""
           },
           "bgcolor": "#E5ECF6",
           "caxis": {
            "gridcolor": "white",
            "linecolor": "white",
            "ticks": ""
           }
          },
          "title": {
           "x": 0.05
          },
          "xaxis": {
           "automargin": true,
           "gridcolor": "white",
           "linecolor": "white",
           "ticks": "",
           "title": {
            "standoff": 15
           },
           "zerolinecolor": "white",
           "zerolinewidth": 2
          },
          "yaxis": {
           "automargin": true,
           "gridcolor": "white",
           "linecolor": "white",
           "ticks": "",
           "title": {
            "standoff": 15
           },
           "zerolinecolor": "white",
           "zerolinewidth": 2
          }
         }
        },
        "title": {
         "text": "Context Clusters (UMAP 2D + DBSCAN)"
        },
        "width": 900,
        "xaxis": {
         "anchor": "y",
         "domain": [
          0,
          1
         ],
         "title": {
          "text": "UMAP-1"
         }
        },
        "yaxis": {
         "anchor": "x",
         "domain": [
          0,
          1
         ],
         "title": {
          "text": "UMAP-2"
         }
        }
       }
      }
     },
     "metadata": {},
     "output_type": "display_data"
    }
   ],
   "source": [
    "plot_df = pd.DataFrame({\n",
    "    \"UMAP-1\": X_2d[:, 0],\n",
    "    \"UMAP-2\": X_2d[:, 1],\n",
    "    \"cluster\": labels.astype(str)\n",
    "})\n",
    "\n",
    "fig = px.scatter(\n",
    "    plot_df,\n",
    "    x=\"UMAP-1\",\n",
    "    y=\"UMAP-2\",\n",
    "    color=\"cluster\",\n",
    "    color_discrete_sequence=px.colors.qualitative.T10,\n",
    "    hover_data=[\"cluster\"],\n",
    "    title=\"Context Clusters (UMAP 2D + DBSCAN)\",\n",
    "    width=900,\n",
    "    height=700\n",
    ")\n",
    "\n",
    "fig.update_traces(marker=dict(size=8, opacity=0.8))\n",
    "fig.show()"
   ]
  },
  {
   "cell_type": "code",
   "execution_count": 80,
   "metadata": {},
   "outputs": [],
   "source": [
    "df_train.to_excel(\"./data/labelled/squad_train_v1_semantic_chunking_clustered.xlsx\", index=False)\n",
    "df_val.to_excel(\"./data/labelled/squad_val_v1_semantic_chunking_clustered.xlsx\", index=False)\n",
    "\n",
    "np.save(\"./data/labelled/squad_train_v1_semantic_chunking_clustered.npy\", X_train)\n",
    "np.save(\"./data/labelled/squad_val_v1_semantic_chunking_clustered.npy\", X_val)"
   ]
  },
  {
   "cell_type": "code",
   "execution_count": null,
   "metadata": {},
   "outputs": [],
   "source": []
  },
  {
   "cell_type": "code",
   "execution_count": 12,
   "metadata": {},
   "outputs": [
    {
     "data": {
      "text/plain": [
       "context_id\n",
       "148    13\n",
       "152    13\n",
       "239    13\n",
       "240    13\n",
       "241    13\n",
       "       ..\n",
       "188     2\n",
       "187     2\n",
       "186     2\n",
       "185     2\n",
       "189     2\n",
       "Name: count, Length: 500, dtype: int64"
      ]
     },
     "execution_count": 12,
     "metadata": {},
     "output_type": "execute_result"
    }
   ],
   "source": [
    "df_train['context_id'].value_counts()"
   ]
  },
  {
   "cell_type": "code",
   "execution_count": null,
   "metadata": {},
   "outputs": [],
   "source": []
  }
 ],
 "metadata": {
  "kernelspec": {
   "display_name": "tdk_szakdoga",
   "language": "python",
   "name": "python3"
  },
  "language_info": {
   "codemirror_mode": {
    "name": "ipython",
    "version": 3
   },
   "file_extension": ".py",
   "mimetype": "text/x-python",
   "name": "python",
   "nbconvert_exporter": "python",
   "pygments_lexer": "ipython3",
   "version": "3.12.11"
  }
 },
 "nbformat": 4,
 "nbformat_minor": 2
}
