{
 "cells": [
  {
   "cell_type": "markdown",
   "metadata": {},
   "source": [
    "# Clustering\n",
    "\n",
    "This notebook contains the code of the embedding clustering.\n",
    "The aim is to find the best possible clustering of the embeddings to improve the efficiency (speed, accuracy) of chunk retrieval.\n"
   ]
  },
  {
   "cell_type": "code",
   "execution_count": 1,
   "metadata": {},
   "outputs": [
    {
     "name": "stderr",
     "output_type": "stream",
     "text": [
      "/opt/anaconda3/envs/tdk_szakdoga/lib/python3.12/site-packages/tqdm/auto.py:21: TqdmWarning: IProgress not found. Please update jupyter and ipywidgets. See https://ipywidgets.readthedocs.io/en/stable/user_install.html\n",
      "  from .autonotebook import tqdm as notebook_tqdm\n"
     ]
    }
   ],
   "source": [
    "import pandas as pd\n",
    "import numpy as np\n",
    "import matplotlib.pyplot as plt\n",
    "import plotly.express as px\n",
    "from tqdm import tqdm\n",
    "import warnings\n",
    "\n",
    "from sklearn.cluster import DBSCAN, KMeans, AgglomerativeClustering\n",
    "from sklearn.preprocessing import StandardScaler\n",
    "from sklearn.metrics import silhouette_score\n",
    "import umap.umap_ as umap\n",
    "from sklearn.decomposition import PCA\n",
    "\n",
    "warnings.filterwarnings(\"ignore\")"
   ]
  },
  {
   "cell_type": "markdown",
   "metadata": {},
   "source": [
    "# Classes and functions"
   ]
  },
  {
   "cell_type": "code",
   "execution_count": 2,
   "metadata": {},
   "outputs": [],
   "source": [
    "# -------------------------------\n",
    "# 1️⃣ UMAP Dimensionality Reduction\n",
    "# -------------------------------\n",
    "def reduce_with_umap(embeddings, n_neighbors=15, min_dist=0.1, n_components=2, random_state=42):\n",
    "    \"\"\"\n",
    "    Reduce high-dimensional embeddings to low-dimensional space using UMAP.\n",
    "    \"\"\"\n",
    "    reducer = umap.UMAP(\n",
    "        n_neighbors=n_neighbors,\n",
    "        min_dist=min_dist,\n",
    "        n_components=n_components,\n",
    "        random_state=random_state\n",
    "    )\n",
    "    return reducer.fit_transform(embeddings)\n"
   ]
  },
  {
   "cell_type": "code",
   "execution_count": 3,
   "metadata": {},
   "outputs": [],
   "source": [
    "# -------------------------------\n",
    "# 2️⃣ Clustering Function (Supports Multiple Methods)\n",
    "# -------------------------------\n",
    "def run_clustering(\n",
    "    embeddings,\n",
    "    method=\"dbscan\",\n",
    "    scale=True,\n",
    "    **kwargs\n",
    "):\n",
    "    \"\"\"\n",
    "    Perform clustering using DBSCAN, KMeans, or Agglomerative.\n",
    "\n",
    "    Args:\n",
    "        embeddings: np.ndarray — input embeddings\n",
    "        method: str — \"dbscan\", \"kmeans\", or \"hierarchical\"\n",
    "        scale: bool — whether to standardize embeddings\n",
    "        kwargs: dict — model-specific parameters\n",
    "\n",
    "    Returns:\n",
    "        labels: np.ndarray — cluster labels\n",
    "        model: fitted model\n",
    "    \"\"\"\n",
    "    if scale:\n",
    "        embeddings = StandardScaler().fit_transform(embeddings)\n",
    "\n",
    "    method = method.lower()\n",
    "    if method == \"dbscan\":\n",
    "        model = DBSCAN(**kwargs)\n",
    "    elif method == \"kmeans\":\n",
    "        model = KMeans(**kwargs)\n",
    "    elif method == \"hierarchical\":\n",
    "        model = AgglomerativeClustering(**kwargs)\n",
    "    else:\n",
    "        raise ValueError(\"Invalid method. Choose 'dbscan', 'kmeans', or 'hierarchical'.\")\n",
    "\n",
    "    labels = model.fit_predict(embeddings)\n",
    "    return labels, model"
   ]
  },
  {
   "cell_type": "code",
   "execution_count": 4,
   "metadata": {},
   "outputs": [],
   "source": [
    "# -------------------------------\n",
    "# 3️⃣ Visualization\n",
    "# -------------------------------\n",
    "def plot_clusters(umap_2d, labels, title=\"Clusters (UMAP 2D Projection)\"):\n",
    "    \"\"\"\n",
    "    Plot 2D embeddings with cluster labels.\n",
    "    \"\"\"\n",
    "    plt.figure(figsize=(10, 7))\n",
    "    scatter = plt.scatter(\n",
    "        umap_2d[:, 0],\n",
    "        umap_2d[:, 1],\n",
    "        c=labels,\n",
    "        cmap=\"Spectral\",\n",
    "        s=20,\n",
    "        alpha=0.8\n",
    "    )\n",
    "    plt.colorbar(scatter, label=\"Cluster ID\")\n",
    "    plt.title(title)\n",
    "    plt.xlabel(\"UMAP-1\")\n",
    "    plt.ylabel(\"UMAP-2\")\n",
    "\n",
    "    # Mark noise points if DBSCAN is used\n",
    "    if -1 in labels:\n",
    "        noise_mask = labels == -1\n",
    "        plt.scatter(umap_2d[noise_mask, 0], umap_2d[noise_mask, 1], \n",
    "                    c=\"k\", s=20, alpha=0.5, label=\"Noise\")\n",
    "        plt.legend()\n",
    "\n",
    "    plt.show()"
   ]
  },
  {
   "cell_type": "code",
   "execution_count": 5,
   "metadata": {},
   "outputs": [],
   "source": [
    "# -------------------------------\n",
    "# 4️⃣ Full Pipeline Wrapper\n",
    "# -------------------------------\n",
    "def cluster_and_plot(\n",
    "    embeddings,\n",
    "    df=None,\n",
    "    cluster_method=\"dbscan\",\n",
    "    scale=True,\n",
    "    cluster_params=None,\n",
    "    umap_params=None,\n",
    "    cluster_col_name=\"cluster\",\n",
    "    plot=True\n",
    "):\n",
    "    \"\"\"\n",
    "    Full pipeline: clustering + UMAP + optional visualization.\n",
    "\n",
    "    Args:\n",
    "        embeddings: np.ndarray — embedding matrix\n",
    "        df: DataFrame (optional) — if provided, adds cluster labels\n",
    "        cluster_method: \"dbscan\", \"kmeans\", \"hierarchical\"\n",
    "        scale: bool — whether to standardize before clustering\n",
    "        cluster_params: dict — model parameters (eps, n_clusters, etc.)\n",
    "        umap_params: dict — UMAP params\n",
    "        cluster_col_name: str — column name for cluster labels in df\n",
    "        plot: bool — whether to visualize\n",
    "\n",
    "    Returns:\n",
    "        df_with_clusters (if df provided), labels, umap_2d\n",
    "    \"\"\"\n",
    "    if cluster_params is None:\n",
    "        cluster_params = {}\n",
    "    if umap_params is None:\n",
    "        umap_params = {}\n",
    "\n",
    "    # 1️⃣ Run clustering\n",
    "    labels, model = run_clustering(\n",
    "        embeddings=embeddings,\n",
    "        method=cluster_method,\n",
    "        scale=scale,\n",
    "        **cluster_params\n",
    "    )\n",
    "    print(\"Finished clustering.\")\n",
    "\n",
    "    # 2️⃣ UMAP projection\n",
    "    umap_2d = reduce_with_umap(\n",
    "        embeddings if not scale else StandardScaler().fit_transform(embeddings),\n",
    "        **umap_params\n",
    "    )\n",
    "    print(\"Finished UMAP reduction.\")\n",
    "\n",
    "    # 3️⃣ Plot clusters\n",
    "    if plot:\n",
    "        title = f\"{cluster_method.upper()} Clusters (UMAP Projection)\"\n",
    "        plot_clusters(umap_2d, labels, title=title)\n",
    "\n",
    "    # 4️⃣ Save cluster labels to DataFrame\n",
    "    if df is not None:\n",
    "        df_out = df.copy()\n",
    "        df_out[cluster_col_name] = labels\n",
    "        return df_out, labels, umap_2d\n",
    "\n",
    "    return labels, umap_2d"
   ]
  },
  {
   "cell_type": "code",
   "execution_count": null,
   "metadata": {},
   "outputs": [],
   "source": []
  },
  {
   "cell_type": "code",
   "execution_count": null,
   "metadata": {},
   "outputs": [],
   "source": []
  },
  {
   "cell_type": "markdown",
   "metadata": {},
   "source": [
    "# Workflow"
   ]
  },
  {
   "cell_type": "code",
   "execution_count": 6,
   "metadata": {},
   "outputs": [],
   "source": [
    "# Load data\n",
    "X_train = np.load(\"./data/tensors/squad_train_v1_semantic_chunking.npy\")\n",
    "df_semantic_train = pd.read_excel(\"./data/prepared/squad_train_v1_semantic_chunking.xlsx\")"
   ]
  },
  {
   "cell_type": "code",
   "execution_count": null,
   "metadata": {},
   "outputs": [],
   "source": []
  },
  {
   "cell_type": "code",
   "execution_count": 7,
   "metadata": {},
   "outputs": [],
   "source": [
    "df_train = df_semantic_train[df_semantic_train['context_id']<500].copy()\n",
    "X_train = X_train[df_train.index]"
   ]
  },
  {
   "cell_type": "code",
   "execution_count": null,
   "metadata": {},
   "outputs": [],
   "source": []
  },
  {
   "cell_type": "code",
   "execution_count": null,
   "metadata": {},
   "outputs": [],
   "source": []
  },
  {
   "cell_type": "code",
   "execution_count": 46,
   "metadata": {},
   "outputs": [
    {
     "name": "stdout",
     "output_type": "stream",
     "text": [
      "Finished clustering.\n",
      "Finished UMAP reduction.\n"
     ]
    },
    {
     "data": {
      "image/png": "[encoded data removed]",
      "text/plain": [
       "<Figure size 1000x700 with 2 Axes>"
      ]
     },
     "metadata": {},
     "output_type": "display_data"
    }
   ],
   "source": [
    "df_clustered, labels, umap_2d = cluster_and_plot(\n",
    "    embeddings=X_train,\n",
    "    df=df_train,\n",
    "    cluster_method=\"kmeans\",\n",
    "    cluster_params={\"n_clusters\": 10, \"random_state\": 42},\n",
    "    umap_params={\"n_neighbors\": 15, \"min_dist\": 0.1}\n",
    ")"
   ]
  },
  {
   "cell_type": "code",
   "execution_count": 63,
   "metadata": {},
   "outputs": [
    {
     "name": "stdout",
     "output_type": "stream",
     "text": [
      "Finished clustering.\n",
      "Finished UMAP reduction.\n"
     ]
    },
    {
     "data": {
      "image/png": "[encoded data removed]",
      "text/plain": [
       "<Figure size 1000x700 with 2 Axes>"
      ]
     },
     "metadata": {},
     "output_type": "display_data"
    }
   ],
   "source": [
    "df_clustered, labels, umap_2d = cluster_and_plot(\n",
    "    embeddings=X_train,\n",
    "    df=df_train,\n",
    "    cluster_method=\"dbscan\",\n",
    "    cluster_params={\"eps\": 0.000005, \"min_samples\": 4, \"metric\": \"cosine\"},\n",
    "    umap_params={\"n_neighbors\": 15, \"min_dist\": 0.05}\n",
    ")"
   ]
  },
  {
   "cell_type": "code",
   "execution_count": 56,
   "metadata": {},
   "outputs": [
    {
     "data": {
      "text/plain": [
       "array([0, 0, 0, 0, 0, 0, 0, 0, 0, 0, 0, 0, 0, 0, 0, 0, 0, 0, 0, 0, 0, 0,\n",
       "       0, 0, 0, 0, 0, 0, 0, 0, 0, 0, 0, 0, 0, 0, 0, 0, 0, 0, 0, 0, 0, 0,\n",
       "       0, 0, 0, 0, 0, 0, 0, 0, 0, 0, 0, 0, 0, 0, 0, 0, 0, 0, 0, 0, 0, 0,\n",
       "       0, 0, 0, 0, 0, 0, 0, 0, 0, 0, 0, 0, 0, 0])"
      ]
     },
     "execution_count": 56,
     "metadata": {},
     "output_type": "execute_result"
    }
   ],
   "source": [
    "labels"
   ]
  },
  {
   "cell_type": "code",
   "execution_count": null,
   "metadata": {},
   "outputs": [],
   "source": []
  },
  {
   "cell_type": "code",
   "execution_count": null,
   "metadata": {},
   "outputs": [],
   "source": []
  },
  {
   "cell_type": "code",
   "execution_count": null,
   "metadata": {},
   "outputs": [],
   "source": []
  },
  {
   "cell_type": "code",
   "execution_count": null,
   "metadata": {},
   "outputs": [],
   "source": []
  },
  {
   "cell_type": "code",
   "execution_count": 8,
   "metadata": {},
   "outputs": [],
   "source": [
    "umap_2d = umap.UMAP(n_neighbors=15, min_dist=0.1, n_components=2, random_state=42)\n",
    "X_2d = umap_2d.fit_transform(X_train)"
   ]
  },
  {
   "cell_type": "code",
   "execution_count": 9,
   "metadata": {},
   "outputs": [],
   "source": [
    "dbscan = DBSCAN(eps=0.5, min_samples=5)\n",
    "labels = dbscan.fit_predict(X_2d)"
   ]
  },
  {
   "cell_type": "code",
   "execution_count": 10,
   "metadata": {},
   "outputs": [
    {
     "data": {
      "application/vnd.plotly.v1+json": {
       "config": {
        "plotlyServerURL": "https://plot.ly"
       },
       "data": [
        {
         "customdata": [
          [
           "0"
          ],
          [
           "0"
          ],
          [
           "0"
          ],
          [
           "0"
          ],
          [
           "0"
          ],
          [
           "0"
          ],
          [
           "0"
          ],
          [
           "0"
          ],
          [
           "0"
          ],
          [
           "0"
          ],
          [
           "0"
          ],
          [
           "0"
          ],
          [
           "0"
          ],
          [
           "0"
          ],
          [
           "0"
          ],
          [
           "0"
          ],
          [
           "0"
          ],
          [
           "0"
          ],
          [
           "0"
          ],
          [
           "0"
          ],
          [
           "0"
          ],
          [
           "0"
          ],
          [
           "0"
          ],
          [
           "0"
          ],
          [
           "0"
          ],
          [
           "0"
          ],
          [
           "0"
          ],
          [
           "0"
          ],
          [
           "0"
          ],
          [
           "0"
          ],
          [
           "0"
          ],
          [
           "0"
          ],
          [
           "0"
          ],
          [
           "0"
          ],
          [
           "0"
          ],
          [
           "0"
          ],
          [
           "0"
          ],
          [
           "0"
          ],
          [
           "0"
          ],
          [
           "0"
          ],
          [
           "0"
          ],
          [
           "0"
          ],
          [
           "0"
          ],
          [
           "0"
          ],
          [
           "0"
          ],
          [
           "0"
          ],
          [
           "0"
          ],
          [
           "0"
          ],
          [
           "0"
          ],
          [
           "0"
          ],
          [
           "0"
          ],
          [
           "0"
          ],
          [
           "0"
          ],
          [
           "0"
          ]
         ],
         "hovertemplate": "cluster=%{customdata[0]}<br>UMAP-1=%{x}<br>UMAP-2=%{y}<extra></extra>",
         "legendgroup": "0",
         "marker": {
          "color": "#4C78A8",
          "opacity": 0.8,
          "size": 8,
          "symbol": "circle"
         },
         "mode": "markers",
         "name": "0",
         "showlegend": true,
         "type": "scattergl",
         "x": {
          "bdata": "l8CCwX6ygsGtBoPBQcOCwSnDgsHr34LBer6EwbU9hMHFQYXBJACDwe7YhMHiUYTBgwqFwejpgsHp9YTB1DuEwd0ihcE/0ILBIOeEwdtPhME49YTB09qCweALhcFD/IPB0v2EwSy0gsHwI4PBY7mDwQamgsHqHIPB3IGDwZetgsE+RoPBfGqDwfqfgsEmRYPB9FqDwYqggsFUSoPBGVuDwY4Qg8EjbYPBrbqCwZQHg8Ea0YLBx12DwQCHg8F17YLBRhKDweAhg8GqpYLBDiyCwYKVgsFghoLB",
          "dtype": "f4"
         },
         "xaxis": "x",
         "y": {
          "bdata": "f7AFwYasBcFx1wXBFScGwaXtBcEyIgjBgmECwRXAA8HtMQHBd90HwYgtAsFQnQPB3LEBwf7JB8GoBwLBM70DwRR0AcEF1AfBLQoCwZSfA8GayAHBVnkHwbfFAcG/XgTB+90Bwc6XCMEjoQbBxo8FwTXBCMEvvwbBqPkFwXa8CMHm5QbBoQ8GwcnzCMFOiwbB0DoGwQvGCMH25AbB3lQGwTy5BsGQKQbBxSQGwaRpB8EqXQbB6B4GwSAQBsFPMAfBblMGwZjHBsEDzQXByw4FwdfKBcG6UgXB",
          "dtype": "f4"
         },
         "yaxis": "y"
        },
        {
         "customdata": [
          [
           "1"
          ],
          [
           "1"
          ],
          [
           "1"
          ],
          [
           "1"
          ],
          [
           "1"
          ],
          [
           "1"
          ],
          [
           "1"
          ],
          [
           "1"
          ],
          [
           "1"
          ],
          [
           "1"
          ],
          [
           "1"
          ],
          [
           "1"
          ],
          [
           "1"
          ],
          [
           "1"
          ],
          [
           "1"
          ]
         ],
         "hovertemplate": "cluster=%{customdata[0]}<br>UMAP-1=%{x}<br>UMAP-2=%{y}<extra></extra>",
         "legendgroup": "1",
         "marker": {
          "color": "#F58518",
          "opacity": 0.8,
          "size": 8,
          "symbol": "circle"
         },
         "mode": "markers",
         "name": "1",
         "showlegend": true,
         "type": "scattergl",
         "x": {
          "bdata": "amNZQXJaWUGwZFlBUHNZQTZaWUFGbllBmmdZQVhcWUGd21lBf2pZQaJgWUHfcVlBoJpZQY1DWUFAdFlB",
          "dtype": "f4"
         },
         "xaxis": "x",
         "y": {
          "bdata": "SrHQwOfB0MBmstDAgJrQwLnC0MAdndDARazQwAar0MAuwc/AI6TQwAu00MBkl9DA+knQwJDv0MChlNDA",
          "dtype": "f4"
         },
         "yaxis": "y"
        },
        {
         "customdata": [
          [
           "2"
          ],
          [
           "2"
          ],
          [
           "2"
          ],
          [
           "2"
          ],
          [
           "2"
          ],
          [
           "2"
          ],
          [
           "2"
          ],
          [
           "2"
          ],
          [
           "2"
          ],
          [
           "2"
          ],
          [
           "2"
          ],
          [
           "2"
          ],
          [
           "2"
          ],
          [
           "2"
          ],
          [
           "2"
          ]
         ],
         "hovertemplate": "cluster=%{customdata[0]}<br>UMAP-1=%{x}<br>UMAP-2=%{y}<extra></extra>",
         "legendgroup": "2",
         "marker": {
          "color": "#E45756",
          "opacity": 0.8,
          "size": 8,
          "symbol": "circle"
         },
         "mode": "markers",
         "name": "2",
         "showlegend": true,
         "type": "scattergl",
         "x": {
          "bdata": "vUWtQEvvrUB60axAMZOtQCuQrUCrsK1A4XutQCMBrkBmCq5AE6etQKtzrUD1Ba5AKIGtQISorUCj0KxA",
          "dtype": "f4"
         },
         "xaxis": "x",
         "y": {
          "bdata": "hHyqwBQjq8DfDarAWciqwCTKqsBS/qrAZKiqwCRSq8DhearAxOuqwFOiqsAzZqvA1J6qwHnzqsBu+KnA",
          "dtype": "f4"
         },
         "yaxis": "y"
        },
        {
         "customdata": [
          [
           "3"
          ],
          [
           "3"
          ],
          [
           "3"
          ],
          [
           "3"
          ],
          [
           "3"
          ],
          [
           "3"
          ],
          [
           "3"
          ],
          [
           "3"
          ],
          [
           "3"
          ],
          [
           "3"
          ],
          [
           "3"
          ],
          [
           "3"
          ],
          [
           "3"
          ],
          [
           "3"
          ],
          [
           "3"
          ],
          [
           "3"
          ],
          [
           "3"
          ],
          [
           "3"
          ],
          [
           "3"
          ],
          [
           "3"
          ]
         ],
         "hovertemplate": "cluster=%{customdata[0]}<br>UMAP-1=%{x}<br>UMAP-2=%{y}<extra></extra>",
         "legendgroup": "3",
         "marker": {
          "color": "#72B7B2",
          "opacity": 0.8,
          "size": 8,
          "symbol": "circle"
         },
         "mode": "markers",
         "name": "3",
         "showlegend": true,
         "type": "scattergl",
         "x": {
          "bdata": "iA/AQCp2wEAsCcBAGSTAQDE1v0B4JcBARaS/QIESwEDjK79A2fS/QBepwUBAPMFA00zBQPoiwUDNYMFAh8fAQD6rwkAJF8FAbTXCQLMgwUA=",
          "dtype": "f4"
         },
         "xaxis": "x",
         "y": {
          "bdata": "YYOdwTWdncHMgZ3B3Iidwf9LncEbiZ3BUGidwbiEncGfSp3Bgn2dwTXqncF9z53Bd9OdwVTKncEW2Z3BJ7KdwQ0rnsFnxp3BFg6ewXbIncE=",
          "dtype": "f4"
         },
         "yaxis": "y"
        },
        {
         "customdata": [
          [
           "4"
          ],
          [
           "4"
          ],
          [
           "4"
          ],
          [
           "4"
          ],
          [
           "4"
          ]
         ],
         "hovertemplate": "cluster=%{customdata[0]}<br>UMAP-1=%{x}<br>UMAP-2=%{y}<extra></extra>",
         "legendgroup": "4",
         "marker": {
          "color": "#54A24B",
          "opacity": 0.8,
          "size": 8,
          "symbol": "circle"
         },
         "mode": "markers",
         "name": "4",
         "showlegend": true,
         "type": "scattergl",
         "x": {
          "bdata": "6AdFwJcMRcDcI0XAzA9FwLQdRcA=",
          "dtype": "f4"
         },
         "xaxis": "x",
         "y": {
          "bdata": "l/IrQRj1K0HjACxBFfYrQYX5K0E=",
          "dtype": "f4"
         },
         "yaxis": "y"
        },
        {
         "customdata": [
          [
           "5"
          ],
          [
           "5"
          ],
          [
           "5"
          ],
          [
           "5"
          ],
          [
           "5"
          ],
          [
           "5"
          ],
          [
           "5"
          ],
          [
           "5"
          ],
          [
           "5"
          ],
          [
           "5"
          ],
          [
           "5"
          ],
          [
           "5"
          ],
          [
           "5"
          ],
          [
           "5"
          ],
          [
           "5"
          ]
         ],
         "hovertemplate": "cluster=%{customdata[0]}<br>UMAP-1=%{x}<br>UMAP-2=%{y}<extra></extra>",
         "legendgroup": "5",
         "marker": {
          "color": "#EECA3B",
          "opacity": 0.8,
          "size": 8,
          "symbol": "circle"
         },
         "mode": "markers",
         "name": "5",
         "showlegend": true,
         "type": "scattergl",
         "x": {
          "bdata": "jP72QEFs90ADQvdA3kr3QPJl90ALGfdA+Nz2QFPS90AXOPdAc0r3QOVj90BuP/dArPn2QOhg90DXl/ZA",
          "dtype": "f4"
         },
         "xaxis": "x",
         "y": {
          "bdata": "bdbpwFIF6sAi2+nArOPpwC4K6sAYvOnAv2fqwOJ96sAM4OnA5/vpwGkV6sB+4enAO1bqwOYV6sCbVOnA",
          "dtype": "f4"
         },
         "yaxis": "y"
        },
        {
         "customdata": [
          [
           "6"
          ],
          [
           "6"
          ],
          [
           "6"
          ],
          [
           "6"
          ],
          [
           "6"
          ],
          [
           "6"
          ],
          [
           "6"
          ],
          [
           "6"
          ],
          [
           "6"
          ],
          [
           "6"
          ],
          [
           "6"
          ],
          [
           "6"
          ],
          [
           "6"
          ],
          [
           "6"
          ],
          [
           "6"
          ]
         ],
         "hovertemplate": "cluster=%{customdata[0]}<br>UMAP-1=%{x}<br>UMAP-2=%{y}<extra></extra>",
         "legendgroup": "6",
         "marker": {
          "color": "#B279A2",
          "opacity": 0.8,
          "size": 8,
          "symbol": "circle"
         },
         "mode": "markers",
         "name": "6",
         "showlegend": true,
         "type": "scattergl",
         "x": {
          "bdata": "1c4PwJvVD8DH2g/AMfsNwFqcD8D7wA/AP8IPwJDCD8AI0w/ARcEPwGK4D8BwVA/AQasPwF+yD8Cxrg/A",
          "dtype": "f4"
         },
         "xaxis": "x",
         "y": {
          "bdata": "vY4cQbqKHEGXkxxBKxccQeZ1HEGbjhxB4YocQeGFHEE/lhxBOYocQS6CHEEVfBxBGoQcQfeGHEHzkhxB",
          "dtype": "f4"
         },
         "yaxis": "y"
        },
        {
         "customdata": [
          [
           "7"
          ],
          [
           "7"
          ],
          [
           "7"
          ],
          [
           "7"
          ],
          [
           "7"
          ]
         ],
         "hovertemplate": "cluster=%{customdata[0]}<br>UMAP-1=%{x}<br>UMAP-2=%{y}<extra></extra>",
         "legendgroup": "7",
         "marker": {
          "color": "#FF9DA6",
          "opacity": 0.8,
          "size": 8,
          "symbol": "circle"
         },
         "mode": "markers",
         "name": "7",
         "showlegend": true,
         "type": "scattergl",
         "x": {
          "bdata": "dYjwQEvI8EDRxPBAusDwQJ/A8EA=",
          "dtype": "f4"
         },
         "xaxis": "x",
         "y": {
          "bdata": "vbbbQKZ320DMettAHX7bQMx920A=",
          "dtype": "f4"
         },
         "yaxis": "y"
        },
        {
         "customdata": [
          [
           "8"
          ],
          [
           "8"
          ],
          [
           "8"
          ],
          [
           "8"
          ],
          [
           "8"
          ],
          [
           "8"
          ],
          [
           "8"
          ],
          [
           "8"
          ],
          [
           "8"
          ],
          [
           "8"
          ],
          [
           "8"
          ],
          [
           "8"
          ],
          [
           "8"
          ],
          [
           "8"
          ],
          [
           "8"
          ],
          [
           "8"
          ],
          [
           "8"
          ],
          [
           "8"
          ],
          [
           "8"
          ],
          [
           "8"
          ],
          [
           "8"
          ],
          [
           "8"
          ],
          [
           "8"
          ],
          [
           "8"
          ],
          [
           "8"
          ],
          [
           "8"
          ],
          [
           "8"
          ],
          [
           "8"
          ],
          [
           "8"
          ],
          [
           "8"
          ],
          [
           "8"
          ],
          [
           "8"
          ],
          [
           "8"
          ],
          [
           "8"
          ],
          [
           "8"
          ],
          [
           "8"
          ],
          [
           "8"
          ],
          [
           "8"
          ],
          [
           "8"
          ],
          [
           "8"
          ],
          [
           "8"
          ],
          [
           "8"
          ],
          [
           "8"
          ],
          [
           "8"
          ],
          [
           "8"
          ],
          [
           "8"
          ],
          [
           "8"
          ],
          [
           "8"
          ],
          [
           "8"
          ],
          [
           "8"
          ],
          [
           "8"
          ],
          [
           "8"
          ]
         ],
         "hovertemplate": "cluster=%{customdata[0]}<br>UMAP-1=%{x}<br>UMAP-2=%{y}<extra></extra>",
         "legendgroup": "8",
         "marker": {
          "color": "#9D755D",
          "opacity": 0.8,
          "size": 8,
          "symbol": "circle"
         },
         "mode": "markers",
         "name": "8",
         "showlegend": true,
         "type": "scattergl",
         "x": {
          "bdata": "09o/QIrvP0Agz0BATnVBQO0lQUDvVVpAisRaQDAKW0C6h1tAaIxaQFPAS0CDSExARoFLQOIwS0Ay+0pA/y9EQLaoQUC461pA/ihEQB9qQUD0oltAI3RDQJ0rQUCqv1tA76VEQPxmQECULlpAgWdIQOljSEAv2khAMYdIQK56SEB4f05AelVbQOsdSEA63VtAWlRQQNi5V0DfTklAoU5cQAtTUUDa/FlASiFHQCAFW0BVD1BA22VZQEBKSECb21xAIcZRQNsWW0A+XEVAwQZdQA==",
          "dtype": "f4"
         },
         "xaxis": "x",
         "y": {
          "bdata": "cDA7wXEIO8G4PTvBh946wYQVO8GPNjvBlWU7wQltO8FxazvB/kI7wRCmNsGf0TbB7w02wRR1NsHmIjbBeH46wavEOsFTYjvBWVI6wdHnOsHuXDvBd386wVV/OsHxnTvBS386wdHuOsEYNjvBaK00wTm3NMFI1TTBqEA0wcCANMF0NznBsyA7wVKdNMEzljvBngo5wZ27OsFSkDTBHIA7wVWmOcFHNjvBpWw0wSVgO8E1iDnBJ/A6wa5VNMGb1zvB7aA5wWNUO8E5ujPB8M07wQ==",
          "dtype": "f4"
         },
         "yaxis": "y"
        },
        {
         "customdata": [
          [
           "9"
          ],
          [
           "9"
          ],
          [
           "9"
          ],
          [
           "9"
          ],
          [
           "9"
          ],
          [
           "9"
          ],
          [
           "9"
          ],
          [
           "9"
          ],
          [
           "9"
          ],
          [
           "9"
          ],
          [
           "9"
          ],
          [
           "9"
          ],
          [
           "9"
          ],
          [
           "9"
          ],
          [
           "9"
          ],
          [
           "9"
          ],
          [
           "9"
          ],
          [
           "9"
          ],
          [
           "9"
          ],
          [
           "9"
          ],
          [
           "9"
          ],
          [
           "9"
          ],
          [
           "9"
          ],
          [
           "9"
          ],
          [
           "9"
          ],
          [
           "9"
          ],
          [
           "9"
          ],
          [
           "9"
          ],
          [
           "9"
          ],
          [
           "9"
          ]
         ],
         "hovertemplate": "cluster=%{customdata[0]}<br>UMAP-1=%{x}<br>UMAP-2=%{y}<extra></extra>",
         "legendgroup": "9",
         "marker": {
          "color": "#BAB0AC",
          "opacity": 0.8,
          "size": 8,
          "symbol": "circle"
         },
         "mode": "markers",
         "name": "9",
         "showlegend": true,
         "type": "scattergl",
         "x": {
          "bdata": "b9wzwVLXM8HLqTPBbYQzwbH4M8FDgDLBa4IywccuM8HufDHB4GcywXStMsEW8TPBAgYxwQGaMsG0uTHBFkwzwVQ1McGURzLBjIwywcaBM8Fc/zDBVC0ywQeCMsGkaDPB5vowwVyAMcHEDjHB5GExwZNsMcFxXDHB",
          "dtype": "f4"
         },
         "xaxis": "x",
         "y": {
          "bdata": "L96kv8UCpb/obqa/a5mnv4YApL+8yK+/7Livv+9Pqr8G67e/rI2wv6phrr9ZPKS/nJ67v9wZr79XBba/G3Cpv5snur/moLG/R2uvv/68p7/u1bu/CWiyv4/Fr79tiKi/4/67vzPbt7/WY7u/TMu4v9lzuL8Z8bi/",
          "dtype": "f4"
         },
         "yaxis": "y"
        },
        {
         "customdata": [
          [
           "10"
          ],
          [
           "10"
          ],
          [
           "10"
          ],
          [
           "10"
          ],
          [
           "10"
          ],
          [
           "10"
          ],
          [
           "10"
          ],
          [
           "10"
          ],
          [
           "10"
          ],
          [
           "10"
          ],
          [
           "10"
          ],
          [
           "10"
          ],
          [
           "10"
          ],
          [
           "10"
          ],
          [
           "10"
          ]
         ],
         "hovertemplate": "cluster=%{customdata[0]}<br>UMAP-1=%{x}<br>UMAP-2=%{y}<extra></extra>",
         "legendgroup": "10",
         "marker": {
          "color": "#4C78A8",
          "opacity": 0.8,
          "size": 8,
          "symbol": "circle"
         },
         "mode": "markers",
         "name": "10",
         "showlegend": true,
         "type": "scattergl",
         "x": {
          "bdata": "UINZvypqWb9OiFm/YthYv95zW7+cOFm/Nf1Yv5QTVr9N3li/xv9Yv3HWWL/BOFy/y+tYvzffWL/pf1e/",
          "dtype": "f4"
         },
         "xaxis": "x",
         "y": {
          "bdata": "lyQvwUskL8EmJi/BsxsvwbxEL8FIIS/BLR0vwa/vLsFYGy/BcR0vwbcZL8GEUy/B+BovwU8aL8GiBS/B",
          "dtype": "f4"
         },
         "yaxis": "y"
        },
        {
         "customdata": [
          [
           "11"
          ],
          [
           "11"
          ],
          [
           "11"
          ],
          [
           "11"
          ],
          [
           "11"
          ],
          [
           "11"
          ],
          [
           "11"
          ],
          [
           "11"
          ],
          [
           "11"
          ],
          [
           "11"
          ],
          [
           "11"
          ],
          [
           "11"
          ],
          [
           "11"
          ],
          [
           "11"
          ],
          [
           "11"
          ],
          [
           "11"
          ],
          [
           "11"
          ],
          [
           "11"
          ],
          [
           "11"
          ],
          [
           "11"
          ],
          [
           "11"
          ],
          [
           "11"
          ],
          [
           "11"
          ],
          [
           "11"
          ],
          [
           "11"
          ]
         ],
         "hovertemplate": "cluster=%{customdata[0]}<br>UMAP-1=%{x}<br>UMAP-2=%{y}<extra></extra>",
         "legendgroup": "11",
         "marker": {
          "color": "#F58518",
          "opacity": 0.8,
          "size": 8,
          "symbol": "circle"
         },
         "mode": "markers",
         "name": "11",
         "showlegend": true,
         "type": "scattergl",
         "x": {
          "bdata": "HZOzwR54s8H3o7PB/JezwUKKs8FvKLPBeQKzwXwOs8Hzv7LB9zKzwYbPssGmRrPByuSywfMas8HB8bLBe+mywc4ss8Gl7bLBPB6zwdMbs8GcrrPB7LKzwcm1s8FR/LPBfeCzwQ==",
          "dtype": "f4"
         },
         "xaxis": "x",
         "y": {
          "bdata": "Gs0yQJakM0BxRzJADqYyQMkUM0DlIjZAMVE3QMfyNkCYZjlAlM81QNPpOEBCMjVAzUA4QOmONkCV2jdAOh44QJIFNkDh+zdAsHU2QDeKNkCW8DFAkc4xQIq3MUANgi9AcGEwQA==",
          "dtype": "f4"
         },
         "yaxis": "y"
        },
        {
         "customdata": [
          [
           "12"
          ],
          [
           "12"
          ],
          [
           "12"
          ],
          [
           "12"
          ],
          [
           "12"
          ],
          [
           "12"
          ],
          [
           "12"
          ],
          [
           "12"
          ],
          [
           "12"
          ],
          [
           "12"
          ],
          [
           "12"
          ],
          [
           "12"
          ],
          [
           "12"
          ],
          [
           "12"
          ],
          [
           "12"
          ]
         ],
         "hovertemplate": "cluster=%{customdata[0]}<br>UMAP-1=%{x}<br>UMAP-2=%{y}<extra></extra>",
         "legendgroup": "12",
         "marker": {
          "color": "#E45756",
          "opacity": 0.8,
          "size": 8,
          "symbol": "circle"
         },
         "mode": "markers",
         "name": "12",
         "showlegend": true,
         "type": "scattergl",
         "x": {
          "bdata": "AbFjwD9YYsCYe2HAIctiwKHaYsA3G2PAvZFjwJnGZMACA2TAGjhjwEmGYsDuhWLAHWRiwKxMYsD/iGLA",
          "dtype": "f4"
         },
         "xaxis": "x",
         "y": {
          "bdata": "PMd+wJxwfcCuk3zA0uJ9wAvyfcDxNX7AUKV+wA7gf8CGGX/AlFF+wLqdfcA5nn3AyHp9wLRffcBMnn3A",
          "dtype": "f4"
         },
         "yaxis": "y"
        },
        {
         "customdata": [
          [
           "13"
          ],
          [
           "13"
          ],
          [
           "13"
          ],
          [
           "13"
          ],
          [
           "13"
          ],
          [
           "13"
          ],
          [
           "13"
          ],
          [
           "13"
          ],
          [
           "13"
          ],
          [
           "13"
          ],
          [
           "13"
          ],
          [
           "13"
          ],
          [
           "13"
          ],
          [
           "13"
          ],
          [
           "13"
          ],
          [
           "13"
          ],
          [
           "13"
          ],
          [
           "13"
          ],
          [
           "13"
          ],
          [
           "13"
          ],
          [
           "13"
          ],
          [
           "13"
          ],
          [
           "13"
          ],
          [
           "13"
          ],
          [
           "13"
          ],
          [
           "13"
          ],
          [
           "13"
          ],
          [
           "13"
          ],
          [
           "13"
          ],
          [
           "13"
          ],
          [
           "13"
          ],
          [
           "13"
          ],
          [
           "13"
          ],
          [
           "13"
          ],
          [
           "13"
          ]
         ],
         "hovertemplate": "cluster=%{customdata[0]}<br>UMAP-1=%{x}<br>UMAP-2=%{y}<extra></extra>",
         "legendgroup": "13",
         "marker": {
          "color": "#72B7B2",
          "opacity": 0.8,
          "size": 8,
          "symbol": "circle"
         },
         "mode": "markers",
         "name": "13",
         "showlegend": true,
         "type": "scattergl",
         "x": {
          "bdata": "azugwDornMBycKDA8gCdwNPwoMCWdJ3AW9yfwCZbnMCJBaHAXLqcwAeCoMDC257ATcCZwP47osBWbZ/AnV6awAmhoMALZJ/ARaOZwDGin8CkvJ7A2wSawAi1oMCORp/ASguawCpVmsBVk5rA4+iZwA+0msAffZvAtmifwNiZn8DPK5/AoIifwH5Kn8A=",
          "dtype": "f4"
         },
         "xaxis": "x",
         "y": {
          "bdata": "QYPHQCyGy0BITcdAvq/KQEnOxkAUOspARN3HQGVWy0Bgt8ZArfbKQHdBx0Dp28hAZu3NQBuLxUAURchAek/NQBYjx0AnTshAGwvOQL0hyEAz9chAHKvNQP4Mx0CvechAuafNQMtdzUBYGs1AjsrNQNr7zEBVMsxABUvIQOASyEDrgshAjCbIQN5kyEA=",
          "dtype": "f4"
         },
         "yaxis": "y"
        },
        {
         "customdata": [
          [
           "14"
          ],
          [
           "14"
          ],
          [
           "14"
          ],
          [
           "14"
          ],
          [
           "14"
          ],
          [
           "14"
          ],
          [
           "14"
          ],
          [
           "14"
          ],
          [
           "14"
          ],
          [
           "14"
          ],
          [
           "14"
          ],
          [
           "14"
          ],
          [
           "14"
          ],
          [
           "14"
          ],
          [
           "14"
          ],
          [
           "14"
          ],
          [
           "14"
          ],
          [
           "14"
          ],
          [
           "14"
          ],
          [
           "14"
          ],
          [
           "14"
          ],
          [
           "14"
          ],
          [
           "14"
          ],
          [
           "14"
          ],
          [
           "14"
          ],
          [
           "14"
          ],
          [
           "14"
          ],
          [
           "14"
          ],
          [
           "14"
          ],
          [
           "14"
          ],
          [
           "14"
          ],
          [
           "14"
          ],
          [
           "14"
          ],
          [
           "14"
          ],
          [
           "14"
          ],
          [
           "14"
          ],
          [
           "14"
          ],
          [
           "14"
          ],
          [
           "14"
          ],
          [
           "14"
          ],
          [
           "14"
          ],
          [
           "14"
          ],
          [
           "14"
          ],
          [
           "14"
          ],
          [
           "14"
          ],
          [
           "14"
          ],
          [
           "14"
          ],
          [
           "14"
          ],
          [
           "14"
          ],
          [
           "14"
          ],
          [
           "14"
          ],
          [
           "14"
          ],
          [
           "14"
          ],
          [
           "14"
          ],
          [
           "14"
          ],
          [
           "14"
          ],
          [
           "14"
          ],
          [
           "14"
          ],
          [
           "14"
          ],
          [
           "14"
          ],
          [
           "14"
          ],
          [
           "14"
          ],
          [
           "14"
          ],
          [
           "14"
          ],
          [
           "14"
          ],
          [
           "14"
          ],
          [
           "14"
          ],
          [
           "14"
          ],
          [
           "14"
          ],
          [
           "14"
          ],
          [
           "14"
          ],
          [
           "14"
          ],
          [
           "14"
          ],
          [
           "14"
          ]
         ],
         "hovertemplate": "cluster=%{customdata[0]}<br>UMAP-1=%{x}<br>UMAP-2=%{y}<extra></extra>",
         "legendgroup": "14",
         "marker": {
          "color": "#54A24B",
          "opacity": 0.8,
          "size": 8,
          "symbol": "circle"
         },
         "mode": "markers",
         "name": "14",
         "showlegend": true,
         "type": "scattergl",
         "x": {
          "bdata": "odEJwS+DCsE4wQnBvOMJwaAgA8HfzQLBsskCwZmSAsFH4wLBUdICwTmmAsHq/QHBKPcCwSioAsGg4QLBuwgCwQtDAsEgPgLBwKgCwUXPAcH+qwLB51kCwd/gAsGcEALBKzgEwbCRBMGGJgTBJg8EwVCKBMGKswLB57ECwe3UAsH2EQPB7IACwaOeDsG4yhDBdEsOwTt/DsH+ORDBHvgQwaNPDsH54hDBqo0OwW9kDsHcaxDB450QwXWEDsELHhHBZ/0OwRhKDsHYZRDBsT0RwQ1uDsFKjxHBBkEOwdaUDsFuQRDBockQwS/mDsEG4xDBb9wOwYpYDsHN6RDBZbkQwT0IA8HeIQPBgiYDwT2jA8HD6ALBrKsKweeWCcGX/QnBpAQKwZo2CsE=",
          "dtype": "f4"
         },
         "xaxis": "x",
         "y": {
          "bdata": "PK9KQSVuSkEPkEpBt7FKQVW2SUESPElBFztNQRQUSUFWi0lB6UJJQTBkTUER60hBCK9JQR8hSUHRY01BkBVJQSzwSUGn20hBoUlNQS24SEENsUlBFThJQRmnTUF2IUlBaZNLQVT9S0GyjUtBCEVLQeiJS0EwXklB8MxJQdpDSUEbaElBGH9JQRRhSUGc5UdBFXNKQSUrSkHbXkhBRK5HQXB8SUGg3UdB/T9KQalDSkFaL0hBLRJIQQt2SUE/uEdB+2lKQfeTSkHrL0hBFGVHQRWWSUHuX0dBl5dKQXbqSUEWWUhBm+lHQR8ySUEHz0dBXIFKQROHSkGHtUdBovRHQSjvTEFE4ExBbt5MQSsPTUFAFU1BbW5KQe/uSkHqqUpBybNKQe+6SkE=",
          "dtype": "f4"
         },
         "yaxis": "y"
        },
        {
         "customdata": [
          [
           "15"
          ],
          [
           "15"
          ],
          [
           "15"
          ],
          [
           "15"
          ],
          [
           "15"
          ],
          [
           "15"
          ],
          [
           "15"
          ],
          [
           "15"
          ],
          [
           "15"
          ],
          [
           "15"
          ],
          [
           "15"
          ],
          [
           "15"
          ],
          [
           "15"
          ],
          [
           "15"
          ],
          [
           "15"
          ],
          [
           "15"
          ],
          [
           "15"
          ],
          [
           "15"
          ],
          [
           "15"
          ]
         ],
         "hovertemplate": "cluster=%{customdata[0]}<br>UMAP-1=%{x}<br>UMAP-2=%{y}<extra></extra>",
         "legendgroup": "15",
         "marker": {
          "color": "#EECA3B",
          "opacity": 0.8,
          "size": 8,
          "symbol": "circle"
         },
         "mode": "markers",
         "name": "15",
         "showlegend": true,
         "type": "scattergl",
         "x": {
          "bdata": "xpthPpIBXz7QP2o+TlhsPr+9WD6Ir2s+8GFrPsD4az6oN2s+SZFxPmW8ez7IfHM+J0x8PqEEdD7e94U+STNzPqjwgz5AY2E+uMB4Pg==",
          "dtype": "f4"
         },
         "xaxis": "x",
         "y": {
          "bdata": "CbFewRunXsGC017B8txewXeFXsE02V7BMddewZ7aXsEU017BnvJewc8bX8Hc+l7B5h1fwV/8XsFjXF/BD/pewQhNX8E7sV7BZxBfwQ==",
          "dtype": "f4"
         },
         "yaxis": "y"
        },
        {
         "customdata": [
          [
           "16"
          ],
          [
           "16"
          ],
          [
           "16"
          ],
          [
           "16"
          ],
          [
           "16"
          ],
          [
           "16"
          ],
          [
           "16"
          ],
          [
           "16"
          ],
          [
           "16"
          ],
          [
           "16"
          ],
          [
           "16"
          ],
          [
           "16"
          ],
          [
           "16"
          ],
          [
           "16"
          ],
          [
           "16"
          ],
          [
           "16"
          ],
          [
           "16"
          ],
          [
           "16"
          ],
          [
           "16"
          ],
          [
           "16"
          ],
          [
           "16"
          ],
          [
           "16"
          ],
          [
           "16"
          ],
          [
           "16"
          ],
          [
           "16"
          ],
          [
           "16"
          ],
          [
           "16"
          ],
          [
           "16"
          ],
          [
           "16"
          ],
          [
           "16"
          ],
          [
           "16"
          ],
          [
           "16"
          ],
          [
           "16"
          ]
         ],
         "hovertemplate": "cluster=%{customdata[0]}<br>UMAP-1=%{x}<br>UMAP-2=%{y}<extra></extra>",
         "legendgroup": "16",
         "marker": {
          "color": "#B279A2",
          "opacity": 0.8,
          "size": 8,
          "symbol": "circle"
         },
         "mode": "markers",
         "name": "16",
         "showlegend": true,
         "type": "scattergl",
         "x": {
          "bdata": "93NywaaEccEKcHLBcttxwXoncsGf23HBYVBywTTLccFSs3PBIKJzwZmhc8E5cXPBHn1zwRj0dsHCo3bBjp12wUx9dsGlfnbB3YR4wTBBdcH3vXfBgUl1waLLd8Es6HTBMLN3we0SdcEpgXfBNgh1wQuOdsG4SXbB3vl2wcR5dsGFTHbB",
          "dtype": "f4"
         },
         "xaxis": "x",
         "y": {
          "bdata": "rqQFwf0LBsFSqQXBYuIFwZG6BcHW4gXB+L0FwW/oBcHaCQXBCQIFweQLBcHcNAXBkzgFwadFA8EbUwPBX2wDwQxaA8HAKwPBPckDwVc0BMGbtgPBXxcEwZyqA8EygATB57UDweQ2BMH9ywPBpUUEwQypA8Eb5QPBOWEDwSeuA8G2bAPB",
          "dtype": "f4"
         },
         "yaxis": "y"
        },
        {
         "customdata": [
          [
           "17"
          ],
          [
           "17"
          ],
          [
           "17"
          ],
          [
           "17"
          ],
          [
           "17"
          ],
          [
           "17"
          ],
          [
           "17"
          ],
          [
           "17"
          ],
          [
           "17"
          ]
         ],
         "hovertemplate": "cluster=%{customdata[0]}<br>UMAP-1=%{x}<br>UMAP-2=%{y}<extra></extra>",
         "legendgroup": "17",
         "marker": {
          "color": "#FF9DA6",
          "opacity": 0.8,
          "size": 8,
          "symbol": "circle"
         },
         "mode": "markers",
         "name": "17",
         "showlegend": true,
         "type": "scattergl",
         "x": {
          "bdata": "cfDNQMfkzUCw5c1AaOrNQJnkzUBH481A7ePNQOjnzUBI5M1A",
          "dtype": "f4"
         },
         "xaxis": "x",
         "y": {
          "bdata": "EqL6QKqj+kB1o/pAwaL6QASk+kBmpvpALqP6QOWj+kDzovpA",
          "dtype": "f4"
         },
         "yaxis": "y"
        },
        {
         "customdata": [
          [
           "18"
          ],
          [
           "18"
          ],
          [
           "18"
          ],
          [
           "18"
          ],
          [
           "18"
          ],
          [
           "18"
          ],
          [
           "18"
          ],
          [
           "18"
          ],
          [
           "18"
          ],
          [
           "18"
          ]
         ],
         "hovertemplate": "cluster=%{customdata[0]}<br>UMAP-1=%{x}<br>UMAP-2=%{y}<extra></extra>",
         "legendgroup": "18",
         "marker": {
          "color": "#9D755D",
          "opacity": 0.8,
          "size": 8,
          "symbol": "circle"
         },
         "mode": "markers",
         "name": "18",
         "showlegend": true,
         "type": "scattergl",
         "x": {
          "bdata": "ph8JQYkiCUGcHglBhx8JQTchCUGrHwlBBxcJQZYhCUGLIAlB+R8JQQ==",
          "dtype": "f4"
         },
         "xaxis": "x",
         "y": {
          "bdata": "6vy0QJMEtUDp+7RAR/q0QNv4tEA7/LRAKOa0QI/+tEAA/rRAY/y0QA==",
          "dtype": "f4"
         },
         "yaxis": "y"
        },
        {
         "customdata": [
          [
           "19"
          ],
          [
           "19"
          ],
          [
           "19"
          ],
          [
           "19"
          ],
          [
           "19"
          ]
         ],
         "hovertemplate": "cluster=%{customdata[0]}<br>UMAP-1=%{x}<br>UMAP-2=%{y}<extra></extra>",
         "legendgroup": "19",
         "marker": {
          "color": "#BAB0AC",
          "opacity": 0.8,
          "size": 8,
          "symbol": "circle"
         },
         "mode": "markers",
         "name": "19",
         "showlegend": true,
         "type": "scattergl",
         "x": {
          "bdata": "IaNHP46kRz86fEc/WmRHPyigRz8=",
          "dtype": "f4"
         },
         "xaxis": "x",
         "y": {
          "bdata": "yUTQPoFY0D7RP9E+u+bRPnFx0D4=",
          "dtype": "f4"
         },
         "yaxis": "y"
        },
        {
         "customdata": [
          [
           "20"
          ],
          [
           "20"
          ],
          [
           "20"
          ],
          [
           "20"
          ],
          [
           "20"
          ],
          [
           "20"
          ],
          [
           "20"
          ],
          [
           "20"
          ],
          [
           "20"
          ],
          [
           "20"
          ],
          [
           "20"
          ],
          [
           "20"
          ],
          [
           "20"
          ],
          [
           "20"
          ],
          [
           "20"
          ]
         ],
         "hovertemplate": "cluster=%{customdata[0]}<br>UMAP-1=%{x}<br>UMAP-2=%{y}<extra></extra>",
         "legendgroup": "20",
         "marker": {
          "color": "#4C78A8",
          "opacity": 0.8,
          "size": 8,
          "symbol": "circle"
         },
         "mode": "markers",
         "name": "20",
         "showlegend": true,
         "type": "scattergl",
         "x": {
          "bdata": "+uGmwYEHp8Gz6KbBF/Kmwfb2psEQDKfBUBCnwSQIp8HX5qbBejenwRYep8GBM6fB6xOnwR49p8E5FafB",
          "dtype": "f4"
         },
         "xaxis": "x",
         "y": {
          "bdata": "SxICQctdAkH8HwJBkjICQYE8AkHKZgJBY28CQTBfAkERHAJBiL0CQYqKAkEVtgJBV3YCQe/IAkHqeAJB",
          "dtype": "f4"
         },
         "yaxis": "y"
        },
        {
         "customdata": [
          [
           "21"
          ],
          [
           "21"
          ],
          [
           "21"
          ],
          [
           "21"
          ],
          [
           "21"
          ],
          [
           "21"
          ],
          [
           "21"
          ],
          [
           "21"
          ],
          [
           "21"
          ],
          [
           "21"
          ],
          [
           "21"
          ],
          [
           "21"
          ],
          [
           "21"
          ],
          [
           "21"
          ],
          [
           "21"
          ],
          [
           "21"
          ],
          [
           "21"
          ],
          [
           "21"
          ],
          [
           "21"
          ],
          [
           "21"
          ],
          [
           "21"
          ],
          [
           "21"
          ],
          [
           "21"
          ],
          [
           "21"
          ],
          [
           "21"
          ],
          [
           "21"
          ],
          [
           "21"
          ],
          [
           "21"
          ],
          [
           "21"
          ],
          [
           "21"
          ]
         ],
         "hovertemplate": "cluster=%{customdata[0]}<br>UMAP-1=%{x}<br>UMAP-2=%{y}<extra></extra>",
         "legendgroup": "21",
         "marker": {
          "color": "#F58518",
          "opacity": 0.8,
          "size": 8,
          "symbol": "circle"
         },
         "mode": "markers",
         "name": "21",
         "showlegend": true,
         "type": "scattergl",
         "x": {
          "bdata": "tRJLwS4sS8HgYkvBYEFLwdQGS8G1zknBfvdJwZ6yScHVRErBnI5JwapgTMHKe0zBm4dMwZZiTME/ukzBuwlLwV+qTMH6AUvBtklMwYUvS8Gm+UvBijRLwZVyTMG1GEvBDC5MwQeHScH/+UnB2oVKweBXSsEoekrB",
          "dtype": "f4"
         },
         "xaxis": "x",
         "y": {
          "bdata": "+uoPQPxjEEBzRxFAeL0QQDTHD0DLiQpAsSoLQFUTCkCEXgxAK4YJQKVFFkA1uBZAueUWQDpCFkAffxdAIbsPQA0gF0BBlg9Asn4VQLJREEA9SBRAj1cQQAMdFkAO6A9ASwoVQNN6CUBqQwtAjG8NQPi7DECgSQ1A",
          "dtype": "f4"
         },
         "yaxis": "y"
        },
        {
         "customdata": [
          [
           "22"
          ],
          [
           "22"
          ],
          [
           "22"
          ],
          [
           "22"
          ],
          [
           "22"
          ],
          [
           "22"
          ],
          [
           "22"
          ],
          [
           "22"
          ],
          [
           "22"
          ],
          [
           "22"
          ]
         ],
         "hovertemplate": "cluster=%{customdata[0]}<br>UMAP-1=%{x}<br>UMAP-2=%{y}<extra></extra>",
         "legendgroup": "22",
         "marker": {
          "color": "#E45756",
          "opacity": 0.8,
          "size": 8,
          "symbol": "circle"
         },
         "mode": "markers",
         "name": "22",
         "showlegend": true,
         "type": "scattergl",
         "x": {
          "bdata": "0xpcwZYaXMEAG1zBWBpcwYkaXMFaGlzBYhpcwYEQXMF7GlzBoxpcwQ==",
          "dtype": "f4"
         },
         "xaxis": "x",
         "y": {
          "bdata": "bPtJQWX7SUFx+0lBj/tJQbH7SUGh+0lBnvtJQbj/SUGn+0lBy/tJQQ==",
          "dtype": "f4"
         },
         "yaxis": "y"
        },
        {
         "customdata": [
          [
           "23"
          ],
          [
           "23"
          ],
          [
           "23"
          ],
          [
           "23"
          ],
          [
           "23"
          ],
          [
           "23"
          ],
          [
           "23"
          ],
          [
           "23"
          ],
          [
           "23"
          ],
          [
           "23"
          ],
          [
           "23"
          ],
          [
           "23"
          ],
          [
           "23"
          ],
          [
           "23"
          ],
          [
           "23"
          ],
          [
           "23"
          ],
          [
           "23"
          ],
          [
           "23"
          ],
          [
           "23"
          ],
          [
           "23"
          ],
          [
           "23"
          ],
          [
           "23"
          ],
          [
           "23"
          ],
          [
           "23"
          ],
          [
           "23"
          ],
          [
           "23"
          ],
          [
           "23"
          ],
          [
           "23"
          ],
          [
           "23"
          ],
          [
           "23"
          ],
          [
           "23"
          ],
          [
           "23"
          ]
         ],
         "hovertemplate": "cluster=%{customdata[0]}<br>UMAP-1=%{x}<br>UMAP-2=%{y}<extra></extra>",
         "legendgroup": "23",
         "marker": {
          "color": "#72B7B2",
          "opacity": 0.8,
          "size": 8,
          "symbol": "circle"
         },
         "mode": "markers",
         "name": "23",
         "showlegend": true,
         "type": "scattergl",
         "x": {
          "bdata": "tL7ywH3O8sBYbPLAuMjzwEuE88Cah/LA/OnywNmu8cDiuvLAUdLywEVy8sBXu/LA+vvzwHC18sDQkPLA+SfvwGlE8MDWjO7A9YLvwEOa78A+tPHAuF3ywFeJ8cCfcPLAL4btwEbG7MAj+OzANRDswPQ/7cByzOzAaHbtwKlr68A=",
          "dtype": "f4"
         },
         "xaxis": "x",
         "y": {
          "bdata": "zW/UwNxK1MCKptTA02bTwLCX08DljdTAvD7UwBNo1cDLWdTAAVXUwBKm1MCYWtTAqTrTwIJj1MDNhtTA3tvXwK3F1sDCddjAUoHXwGJs18BuY9XAZsLUwOqQ1cAVzNTAPHDZwBwu2sDdC9rAyuDawJ652cD4JtrAAYnZwB+G28A=",
          "dtype": "f4"
         },
         "yaxis": "y"
        },
        {
         "customdata": [
          [
           "24"
          ],
          [
           "24"
          ],
          [
           "24"
          ],
          [
           "24"
          ],
          [
           "24"
          ]
         ],
         "hovertemplate": "cluster=%{customdata[0]}<br>UMAP-1=%{x}<br>UMAP-2=%{y}<extra></extra>",
         "legendgroup": "24",
         "marker": {
          "color": "#54A24B",
          "opacity": 0.8,
          "size": 8,
          "symbol": "circle"
         },
         "mode": "markers",
         "name": "24",
         "showlegend": true,
         "type": "scattergl",
         "x": {
          "bdata": "oEWkvs5rpb6hcKW+DqKlvvhPpb4=",
          "dtype": "f4"
         },
         "xaxis": "x",
         "y": {
          "bdata": "yJ6Nv5PAjb+dvI2/oNuNv3PFjb8=",
          "dtype": "f4"
         },
         "yaxis": "y"
        },
        {
         "customdata": [
          [
           "25"
          ],
          [
           "25"
          ],
          [
           "25"
          ],
          [
           "25"
          ],
          [
           "25"
          ],
          [
           "25"
          ],
          [
           "25"
          ],
          [
           "25"
          ],
          [
           "25"
          ],
          [
           "25"
          ],
          [
           "25"
          ],
          [
           "25"
          ],
          [
           "25"
          ],
          [
           "25"
          ],
          [
           "25"
          ],
          [
           "25"
          ],
          [
           "25"
          ],
          [
           "25"
          ],
          [
           "25"
          ],
          [
           "25"
          ],
          [
           "25"
          ],
          [
           "25"
          ],
          [
           "25"
          ],
          [
           "25"
          ],
          [
           "25"
          ],
          [
           "25"
          ],
          [
           "25"
          ],
          [
           "25"
          ],
          [
           "25"
          ],
          [
           "25"
          ],
          [
           "25"
          ],
          [
           "25"
          ],
          [
           "25"
          ],
          [
           "25"
          ],
          [
           "25"
          ]
         ],
         "hovertemplate": "cluster=%{customdata[0]}<br>UMAP-1=%{x}<br>UMAP-2=%{y}<extra></extra>",
         "legendgroup": "25",
         "marker": {
          "color": "#EECA3B",
          "opacity": 0.8,
          "size": 8,
          "symbol": "circle"
         },
         "mode": "markers",
         "name": "25",
         "showlegend": true,
         "type": "scattergl",
         "x": {
          "bdata": "tsmKwajeisHJvorBi86Kwa/LisHHtIvBu+uLwRgKjMHR7IvBCuaLwTmSi8G7novBT4OLwZ+Ui8EDcIvBlGSLwddbi8GukIvBslGLwbvQi8FFlYvBNH2LwcNki8GDiIvBxFiLwekXi8EuIYvBmAmLwc39isEN+YrB4x+MwbgvjMHjYozBAUmMwaknjME=",
          "dtype": "f4"
         },
         "xaxis": "x",
         "y": {
          "bdata": "lc+hP72DoD/vgaI/UIWhP62xoT/qm5I/aiGPP5ZAjT9dE48/An+PPxE5lT9aoJQ/FnuWP2kUlT//jZc/HGSYP96hmD9OhJU/zJOZPwJKkT86OpU/CNiWP0ETmD+RBZY/SB+ZP1/rnD9RVpw/286dP+ONnj/b254/yL2LPyS2ij85gIc/mCSJP6c6iz8=",
          "dtype": "f4"
         },
         "yaxis": "y"
        },
        {
         "customdata": [
          [
           "26"
          ],
          [
           "26"
          ],
          [
           "26"
          ],
          [
           "26"
          ],
          [
           "26"
          ],
          [
           "26"
          ],
          [
           "26"
          ],
          [
           "26"
          ],
          [
           "26"
          ],
          [
           "26"
          ],
          [
           "26"
          ],
          [
           "26"
          ],
          [
           "26"
          ],
          [
           "26"
          ],
          [
           "26"
          ],
          [
           "26"
          ],
          [
           "26"
          ],
          [
           "26"
          ],
          [
           "26"
          ],
          [
           "26"
          ],
          [
           "26"
          ],
          [
           "26"
          ],
          [
           "26"
          ],
          [
           "26"
          ],
          [
           "26"
          ],
          [
           "26"
          ],
          [
           "26"
          ],
          [
           "26"
          ],
          [
           "26"
          ],
          [
           "26"
          ],
          [
           "26"
          ],
          [
           "26"
          ],
          [
           "26"
          ],
          [
           "26"
          ],
          [
           "26"
          ]
         ],
         "hovertemplate": "cluster=%{customdata[0]}<br>UMAP-1=%{x}<br>UMAP-2=%{y}<extra></extra>",
         "legendgroup": "26",
         "marker": {
          "color": "#B279A2",
          "opacity": 0.8,
          "size": 8,
          "symbol": "circle"
         },
         "mode": "markers",
         "name": "26",
         "showlegend": true,
         "type": "scattergl",
         "x": {
          "bdata": "8UQZwTZdGcH0+RjB/woZwXnwGMHfMRnBJlgYwa+VGcHiqxjBx0wZwQcPGcFfhxnBCkUYwXZQGcFqahjBb8gYwRLrF8FrlxjBKFcYwaBMGMEuFxnBmBMZwbOZGcFbnRnB4oQZwTclGcGmeRnB92sYwWbPGcFN9hjBjzUZwQiUGcGBoRjBP0gZwRIZGcE=",
          "dtype": "f4"
         },
         "xaxis": "x",
         "y": {
          "bdata": "uvK6QYrnukE8GbtBTBy7QZ8eu0HGALtB/XG7Qe/OukFGR7tBavO6QcgVu0HW2rpBrHq7QaDyukFdaLtBajm7QQKou0HFUbtB73G7QQh3u0Eg/rpB9w67QbSqukFTu7pBDta6QeTtukEuzbpBH2K7QQ6eukEcD7tBMiq7QdK4ukG4ObtBEvW6QWjcukE=",
          "dtype": "f4"
         },
         "yaxis": "y"
        },
        {
         "customdata": [
          [
           "27"
          ],
          [
           "27"
          ],
          [
           "27"
          ],
          [
           "27"
          ],
          [
           "27"
          ],
          [
           "27"
          ],
          [
           "27"
          ],
          [
           "27"
          ],
          [
           "27"
          ],
          [
           "27"
          ],
          [
           "27"
          ],
          [
           "27"
          ],
          [
           "27"
          ],
          [
           "27"
          ],
          [
           "27"
          ],
          [
           "27"
          ],
          [
           "27"
          ]
         ],
         "hovertemplate": "cluster=%{customdata[0]}<br>UMAP-1=%{x}<br>UMAP-2=%{y}<extra></extra>",
         "legendgroup": "27",
         "marker": {
          "color": "#FF9DA6",
          "opacity": 0.8,
          "size": 8,
          "symbol": "circle"
         },
         "mode": "markers",
         "name": "27",
         "showlegend": true,
         "type": "scattergl",
         "x": {
          "bdata": "WoMewY2iHsGDjB7B9Y0ewaeMHsH0SR7BIfMfwS6CHsFcxx7BH/Mfwd2IHsHskR7BhkEgwfyDHsEckR7Bv1ogwcqIHsE=",
          "dtype": "f4"
         },
         "xaxis": "x",
         "y": {
          "bdata": "sGM3wS6AN8GTajfBJWw3wfZqN8HEJzfB7d44wYBgN8HSpTfBQt84wSlnN8HMbzfBjy05wXxiN8FVbzfB0kY5wexnN8E=",
          "dtype": "f4"
         },
         "yaxis": "y"
        },
        {
         "customdata": [
          [
           "28"
          ],
          [
           "28"
          ],
          [
           "28"
          ],
          [
           "28"
          ],
          [
           "28"
          ],
          [
           "28"
          ],
          [
           "28"
          ],
          [
           "28"
          ],
          [
           "28"
          ],
          [
           "28"
          ]
         ],
         "hovertemplate": "cluster=%{customdata[0]}<br>UMAP-1=%{x}<br>UMAP-2=%{y}<extra></extra>",
         "legendgroup": "28",
         "marker": {
          "color": "#9D755D",
          "opacity": 0.8,
          "size": 8,
          "symbol": "circle"
         },
         "mode": "markers",
         "name": "28",
         "showlegend": true,
         "type": "scattergl",
         "x": {
          "bdata": "VZE1wAiSNcB/jTXATos1wKCQNcANnDXAxyE2wMCWNcCslzXA4qA1wA==",
          "dtype": "f4"
         },
         "xaxis": "x",
         "y": {
          "bdata": "6g81wfwPNcFaEDXBsQ41wWsQNcEnETXBw0I1wQ8SNcFsEjXBGBM1wQ==",
          "dtype": "f4"
         },
         "yaxis": "y"
        },
        {
         "customdata": [
          [
           "29"
          ],
          [
           "29"
          ],
          [
           "29"
          ],
          [
           "29"
          ],
          [
           "29"
          ]
         ],
         "hovertemplate": "cluster=%{customdata[0]}<br>UMAP-1=%{x}<br>UMAP-2=%{y}<extra></extra>",
         "legendgroup": "29",
         "marker": {
          "color": "#BAB0AC",
          "opacity": 0.8,
          "size": 8,
          "symbol": "circle"
         },
         "mode": "markers",
         "name": "29",
         "showlegend": true,
         "type": "scattergl",
         "x": {
          "bdata": "9XI9wDN0PcCgcz3AInQ9wAdzPcA=",
          "dtype": "f4"
         },
         "xaxis": "x",
         "y": {
          "bdata": "jfQGwA70BsBe8QbAbfUGwE/2BsA=",
          "dtype": "f4"
         },
         "yaxis": "y"
        },
        {
         "customdata": [
          [
           "30"
          ],
          [
           "30"
          ],
          [
           "30"
          ],
          [
           "30"
          ],
          [
           "30"
          ],
          [
           "30"
          ],
          [
           "30"
          ],
          [
           "30"
          ],
          [
           "30"
          ],
          [
           "30"
          ],
          [
           "30"
          ],
          [
           "30"
          ],
          [
           "30"
          ],
          [
           "30"
          ],
          [
           "30"
          ],
          [
           "30"
          ],
          [
           "30"
          ],
          [
           "30"
          ],
          [
           "30"
          ],
          [
           "30"
          ]
         ],
         "hovertemplate": "cluster=%{customdata[0]}<br>UMAP-1=%{x}<br>UMAP-2=%{y}<extra></extra>",
         "legendgroup": "30",
         "marker": {
          "color": "#4C78A8",
          "opacity": 0.8,
          "size": 8,
          "symbol": "circle"
         },
         "mode": "markers",
         "name": "30",
         "showlegend": true,
         "type": "scattergl",
         "x": {
          "bdata": "ISw6waQvOsEBJjrB8gY6wYMnOsHCGDrBqQw6we8XOsGd3TnB72w6wVmOOcHQ6TnBZQ06waqBOsHBETrBB2o6wRMsOsE1DzrBOV86wU69OcE=",
          "dtype": "f4"
         },
         "xaxis": "x",
         "y": {
          "bdata": "uz23wJ40t8DLSLfAi4S3wJ1Dt8BufLfAuXm3wAJ5t8CT7LfACc22wM6NuMAb1bfAYYa3wBKmtsAUgLfA0ay2wGkqt8Bi5LbAA8C2wFEEuMA=",
          "dtype": "f4"
         },
         "yaxis": "y"
        },
        {
         "customdata": [
          [
           "31"
          ],
          [
           "31"
          ],
          [
           "31"
          ],
          [
           "31"
          ],
          [
           "31"
          ],
          [
           "31"
          ],
          [
           "31"
          ],
          [
           "31"
          ],
          [
           "31"
          ],
          [
           "31"
          ]
         ],
         "hovertemplate": "cluster=%{customdata[0]}<br>UMAP-1=%{x}<br>UMAP-2=%{y}<extra></extra>",
         "legendgroup": "31",
         "marker": {
          "color": "#F58518",
          "opacity": 0.8,
          "size": 8,
          "symbol": "circle"
         },
         "mode": "markers",
         "name": "31",
         "showlegend": true,
         "type": "scattergl",
         "x": {
          "bdata": "V5v8wESc/MDem/zAJ5z8wJib/MBwm/zAdpz8wOib/MDQm/zATJ38wA==",
          "dtype": "f4"
         },
         "xaxis": "x",
         "y": {
          "bdata": "yTF2wLMxdsBpNHbAIDN2wPo1dsB4MnbAYC92wNAydsAlM3bAYzF2wA==",
          "dtype": "f4"
         },
         "yaxis": "y"
        },
        {
         "customdata": [
          [
           "32"
          ],
          [
           "32"
          ],
          [
           "32"
          ],
          [
           "32"
          ],
          [
           "32"
          ],
          [
           "32"
          ],
          [
           "32"
          ],
          [
           "32"
          ],
          [
           "32"
          ],
          [
           "32"
          ],
          [
           "32"
          ],
          [
           "32"
          ],
          [
           "32"
          ],
          [
           "32"
          ],
          [
           "32"
          ]
         ],
         "hovertemplate": "cluster=%{customdata[0]}<br>UMAP-1=%{x}<br>UMAP-2=%{y}<extra></extra>",
         "legendgroup": "32",
         "marker": {
          "color": "#E45756",
          "opacity": 0.8,
          "size": 8,
          "symbol": "circle"
         },
         "mode": "markers",
         "name": "32",
         "showlegend": true,
         "type": "scattergl",
         "x": {
          "bdata": "PlZXwa7aV8GUeFfBNcNXwTLaV8GuZlfBfaFXwWNsV8HTmVfB8WlXwRLtV8GobFfBaXxXwXn9VsH3bFfB",
          "dtype": "f4"
         },
         "xaxis": "x",
         "y": {
          "bdata": "arSsQPymq0AvaKxAtNGrQOyoq0D9l6xA8iCsQCearECuNKxAqJOsQFd7q0DDj6xA4WKsQAhurUAtkqxA",
          "dtype": "f4"
         },
         "yaxis": "y"
        },
        {
         "customdata": [
          [
           "33"
          ],
          [
           "33"
          ],
          [
           "33"
          ],
          [
           "33"
          ],
          [
           "33"
          ],
          [
           "33"
          ],
          [
           "33"
          ],
          [
           "33"
          ],
          [
           "33"
          ],
          [
           "33"
          ]
         ],
         "hovertemplate": "cluster=%{customdata[0]}<br>UMAP-1=%{x}<br>UMAP-2=%{y}<extra></extra>",
         "legendgroup": "33",
         "marker": {
          "color": "#72B7B2",
          "opacity": 0.8,
          "size": 8,
          "symbol": "circle"
         },
         "mode": "markers",
         "name": "33",
         "showlegend": true,
         "type": "scattergl",
         "x": {
          "bdata": "q3ECP0Z2Aj8cbwI/ijECPx1sAj8WbwI/nW0CP8VxAj+igAI/BmsCPw==",
          "dtype": "f4"
         },
         "xaxis": "x",
         "y": {
          "bdata": "a/8pwCH/KcCT/ynAyxcqwGv/KcDt/inABQEqwI4BKsAuCSrAlwIqwA==",
          "dtype": "f4"
         },
         "yaxis": "y"
        },
        {
         "customdata": [
          [
           "34"
          ],
          [
           "34"
          ],
          [
           "34"
          ],
          [
           "34"
          ],
          [
           "34"
          ]
         ],
         "hovertemplate": "cluster=%{customdata[0]}<br>UMAP-1=%{x}<br>UMAP-2=%{y}<extra></extra>",
         "legendgroup": "34",
         "marker": {
          "color": "#54A24B",
          "opacity": 0.8,
          "size": 8,
          "symbol": "circle"
         },
         "mode": "markers",
         "name": "34",
         "showlegend": true,
         "type": "scattergl",
         "x": {
          "bdata": "ysT6PYph+j13g/o9Jhv6PQMg+j0=",
          "dtype": "f4"
         },
         "xaxis": "x",
         "y": {
          "bdata": "jootQdqMLUGWjC1B5IwtQeKLLUE=",
          "dtype": "f4"
         },
         "yaxis": "y"
        },
        {
         "customdata": [
          [
           "35"
          ],
          [
           "35"
          ],
          [
           "35"
          ],
          [
           "35"
          ],
          [
           "35"
          ]
         ],
         "hovertemplate": "cluster=%{customdata[0]}<br>UMAP-1=%{x}<br>UMAP-2=%{y}<extra></extra>",
         "legendgroup": "35",
         "marker": {
          "color": "#EECA3B",
          "opacity": 0.8,
          "size": 8,
          "symbol": "circle"
         },
         "mode": "markers",
         "name": "35",
         "showlegend": true,
         "type": "scattergl",
         "x": {
          "bdata": "sxKEQK8ShEClFIRAHRKEQI4VhEA=",
          "dtype": "f4"
         },
         "xaxis": "x",
         "y": {
          "bdata": "LNiWQEfZlkDC15ZAE9mWQHjdlkA=",
          "dtype": "f4"
         },
         "yaxis": "y"
        },
        {
         "customdata": [
          [
           "36"
          ],
          [
           "36"
          ],
          [
           "36"
          ],
          [
           "36"
          ],
          [
           "36"
          ],
          [
           "36"
          ],
          [
           "36"
          ],
          [
           "36"
          ],
          [
           "36"
          ],
          [
           "36"
          ],
          [
           "36"
          ],
          [
           "36"
          ],
          [
           "36"
          ],
          [
           "36"
          ],
          [
           "36"
          ],
          [
           "36"
          ],
          [
           "36"
          ],
          [
           "36"
          ],
          [
           "36"
          ],
          [
           "36"
          ],
          [
           "36"
          ],
          [
           "36"
          ],
          [
           "36"
          ],
          [
           "36"
          ],
          [
           "36"
          ],
          [
           "36"
          ],
          [
           "36"
          ],
          [
           "36"
          ],
          [
           "36"
          ],
          [
           "36"
          ]
         ],
         "hovertemplate": "cluster=%{customdata[0]}<br>UMAP-1=%{x}<br>UMAP-2=%{y}<extra></extra>",
         "legendgroup": "36",
         "marker": {
          "color": "#B279A2",
          "opacity": 0.8,
          "size": 8,
          "symbol": "circle"
         },
         "mode": "markers",
         "name": "36",
         "showlegend": true,
         "type": "scattergl",
         "x": {
          "bdata": "QOJmQFD8YkCb/V5AOLxlQLe5ZEAfx15A5y5oQALXY0CdwGBATQBoQAyzY0B2rmBAes5mQBX/Y0D9P19AxEVcQExsZEDkRl5AO4BmQJrZXkDOhWVAOJhfQHhUZEBFj19AbLlkQF3HXkAuFV1AMzheQFo1XUCWMV5A",
          "dtype": "f4"
         },
         "xaxis": "x",
         "y": {
          "bdata": "iJTBwJKJw8Anh8XAUjDCwIuowsDHosXAKfDAwJEcw8CRpcTA0QfBwDguw8C2rcTADaHBwKcIw8BsZcXAq+HGwLXQwsBs3sXAz8bBwOCWxcBDRcLAtDXFwOfawsAJNsXAQqfCwDGVxcAXdsbA/OXFwAlfxsDI58XA",
          "dtype": "f4"
         },
         "yaxis": "y"
        },
        {
         "customdata": [
          [
           "37"
          ],
          [
           "37"
          ],
          [
           "37"
          ],
          [
           "37"
          ],
          [
           "37"
          ],
          [
           "37"
          ],
          [
           "37"
          ],
          [
           "37"
          ],
          [
           "37"
          ],
          [
           "37"
          ],
          [
           "37"
          ],
          [
           "37"
          ],
          [
           "37"
          ],
          [
           "37"
          ],
          [
           "37"
          ]
         ],
         "hovertemplate": "cluster=%{customdata[0]}<br>UMAP-1=%{x}<br>UMAP-2=%{y}<extra></extra>",
         "legendgroup": "37",
         "marker": {
          "color": "#FF9DA6",
          "opacity": 0.8,
          "size": 8,
          "symbol": "circle"
         },
         "mode": "markers",
         "name": "37",
         "showlegend": true,
         "type": "scattergl",
         "x": {
          "bdata": "IHwmQNN3JkBW0SZATtglQK10J0BWLidAJlgmQHpTJkC5UCZAWYwlQK8WJkCSlSdAJrsmQNDdJkCsuSZA",
          "dtype": "f4"
         },
         "xaxis": "x",
         "y": {
          "bdata": "uE6twXZPrcEYRK3BXWOtwbcvrcFzYK3BcVStwVtVrcHcVa3BrW6twWBbrcGbK63BD0etwXlCrcEMR63B",
          "dtype": "f4"
         },
         "yaxis": "y"
        },
        {
         "customdata": [
          [
           "38"
          ],
          [
           "38"
          ],
          [
           "38"
          ],
          [
           "38"
          ],
          [
           "38"
          ],
          [
           "38"
          ],
          [
           "38"
          ],
          [
           "38"
          ],
          [
           "38"
          ],
          [
           "38"
          ],
          [
           "38"
          ],
          [
           "38"
          ],
          [
           "38"
          ],
          [
           "38"
          ],
          [
           "38"
          ],
          [
           "38"
          ],
          [
           "38"
          ],
          [
           "38"
          ],
          [
           "38"
          ],
          [
           "38"
          ]
         ],
         "hovertemplate": "cluster=%{customdata[0]}<br>UMAP-1=%{x}<br>UMAP-2=%{y}<extra></extra>",
         "legendgroup": "38",
         "marker": {
          "color": "#9D755D",
          "opacity": 0.8,
          "size": 8,
          "symbol": "circle"
         },
         "mode": "markers",
         "name": "38",
         "showlegend": true,
         "type": "scattergl",
         "x": {
          "bdata": "EUeNvg13lL6e95S+A42RvkSZpb6UJ4u+RxeGvokzkb6O5oC+c/+Kvt6bgr4n1YK+gQ6DvqDWmL6nAnG+PtyEvgidjL54FY6+MmCTvq7Yj74=",
          "dtype": "f4"
         },
         "xaxis": "x",
         "y": {
          "bdata": "oWjHwBPdx8Bz48fAVKzHwIruyMA/RMfAlPLGwCekx8CcnMbAUD7HwPe6xsCuvcbAer/GwHYfyMD+HcbAutLGwLVYx8Byb8fAlcTHwAWNx8A=",
          "dtype": "f4"
         },
         "yaxis": "y"
        },
        {
         "customdata": [
          [
           "39"
          ],
          [
           "39"
          ],
          [
           "39"
          ],
          [
           "39"
          ],
          [
           "39"
          ],
          [
           "39"
          ],
          [
           "39"
          ],
          [
           "39"
          ],
          [
           "39"
          ],
          [
           "39"
          ],
          [
           "39"
          ],
          [
           "39"
          ],
          [
           "39"
          ],
          [
           "39"
          ],
          [
           "39"
          ]
         ],
         "hovertemplate": "cluster=%{customdata[0]}<br>UMAP-1=%{x}<br>UMAP-2=%{y}<extra></extra>",
         "legendgroup": "39",
         "marker": {
          "color": "#BAB0AC",
          "opacity": 0.8,
          "size": 8,
          "symbol": "circle"
         },
         "mode": "markers",
         "name": "39",
         "showlegend": true,
         "type": "scattergl",
         "x": {
          "bdata": "sb6bQLR8m0AIn5tAn3ibQGWkm0B7YJtAliubQBWIm0Aj15tAIoebQJhlm0DjZptAnTGbQMFlm0CbZZtA",
          "dtype": "f4"
         },
         "xaxis": "x",
         "y": {
          "bdata": "R+MAQYsDAUHS8wBBxwUBQWfvAEHLEQFBvSwBQdP9AEHn1QBBWfwAQWkOAUHkDQFBhyoBQckOAUHpDgFB",
          "dtype": "f4"
         },
         "yaxis": "y"
        },
        {
         "customdata": [
          [
           "40"
          ],
          [
           "40"
          ],
          [
           "40"
          ],
          [
           "40"
          ],
          [
           "40"
          ],
          [
           "40"
          ],
          [
           "40"
          ],
          [
           "40"
          ],
          [
           "40"
          ],
          [
           "40"
          ],
          [
           "40"
          ],
          [
           "40"
          ],
          [
           "40"
          ],
          [
           "40"
          ],
          [
           "40"
          ],
          [
           "40"
          ],
          [
           "40"
          ],
          [
           "40"
          ],
          [
           "40"
          ],
          [
           "40"
          ],
          [
           "40"
          ],
          [
           "40"
          ],
          [
           "40"
          ],
          [
           "40"
          ],
          [
           "40"
          ]
         ],
         "hovertemplate": "cluster=%{customdata[0]}<br>UMAP-1=%{x}<br>UMAP-2=%{y}<extra></extra>",
         "legendgroup": "40",
         "marker": {
          "color": "#4C78A8",
          "opacity": 0.8,
          "size": 8,
          "symbol": "circle"
         },
         "mode": "markers",
         "name": "40",
         "showlegend": true,
         "type": "scattergl",
         "x": {
          "bdata": "+4/RQGTl0kCc0dBAVLnSQCBC0EBGBNFAAXjTQCjJ0EDGe9JAy+nQQLzF0EB/TtNA2prRQMQF0kABls5ANdXRQGv90kAx3NBAeInSQJfC0EB6/9FAhUjTQBB00EBtxdNAgSTQQA==",
          "dtype": "f4"
         },
         "xaxis": "x",
         "y": {
          "bdata": "eJAdQG07IEBFCBxAkOEfQOXvGkDDdRxAfWkhQHLvG0DdZx9AKD4cQG/1G0CCCyFAqJodQLd4HkBLkhdAnhMeQP9uIEBQHhxAsnkfQCrtG0D0Zh5AygMhQABQG0CW+yFAHLMaQA==",
          "dtype": "f4"
         },
         "yaxis": "y"
        },
        {
         "customdata": [
          [
           "41"
          ],
          [
           "41"
          ],
          [
           "41"
          ],
          [
           "41"
          ],
          [
           "41"
          ],
          [
           "41"
          ],
          [
           "41"
          ],
          [
           "41"
          ],
          [
           "41"
          ],
          [
           "41"
          ],
          [
           "41"
          ],
          [
           "41"
          ],
          [
           "41"
          ],
          [
           "41"
          ],
          [
           "41"
          ]
         ],
         "hovertemplate": "cluster=%{customdata[0]}<br>UMAP-1=%{x}<br>UMAP-2=%{y}<extra></extra>",
         "legendgroup": "41",
         "marker": {
          "color": "#F58518",
          "opacity": 0.8,
          "size": 8,
          "symbol": "circle"
         },
         "mode": "markers",
         "name": "41",
         "showlegend": true,
         "type": "scattergl",
         "x": {
          "bdata": "vBcev/odHr+aGh6/7Boev1QiHr+smyK/Qf8dv+L7Hb9e3h6/LDUev+oqHr8UUR6/Mz8evzNrH78SWh6/",
          "dtype": "f4"
         },
         "xaxis": "x",
         "y": {
          "bdata": "8lGZwdFRmcHnUZnB+FGZwctRmcE3LpnB21KZwTRTmcGgTJnBWlGZwbpRmcGkUJnBilGZwTtLmcGOUJnB",
          "dtype": "f4"
         },
         "yaxis": "y"
        },
        {
         "customdata": [
          [
           "42"
          ],
          [
           "42"
          ],
          [
           "42"
          ],
          [
           "42"
          ],
          [
           "42"
          ],
          [
           "42"
          ],
          [
           "42"
          ],
          [
           "42"
          ],
          [
           "42"
          ],
          [
           "42"
          ],
          [
           "42"
          ],
          [
           "42"
          ],
          [
           "42"
          ],
          [
           "42"
          ],
          [
           "42"
          ],
          [
           "42"
          ],
          [
           "42"
          ]
         ],
         "hovertemplate": "cluster=%{customdata[0]}<br>UMAP-1=%{x}<br>UMAP-2=%{y}<extra></extra>",
         "legendgroup": "42",
         "marker": {
          "color": "#E45756",
          "opacity": 0.8,
          "size": 8,
          "symbol": "circle"
         },
         "mode": "markers",
         "name": "42",
         "showlegend": true,
         "type": "scattergl",
         "x": {
          "bdata": "VTz6wIBB+sBYQvrAQj/5wMwv+sCubvrAhAr6wPEE+8B+aPrACq76wNvb+sCKoPnACf36wBLe+sBlYfrAWhj7wLfW+sA=",
          "dtype": "f4"
         },
         "xaxis": "x",
         "y": {
          "bdata": "1vbiuR+F9Dhz4be4aPgBvbYgL7u0KNg7IPqGu9Wl4jxGubk7kTuIPCD9uzxxe5u8KXXVPNvAwDyrLKE7kZ74PNBerTw=",
          "dtype": "f4"
         },
         "yaxis": "y"
        },
        {
         "customdata": [
          [
           "43"
          ],
          [
           "43"
          ],
          [
           "43"
          ],
          [
           "43"
          ],
          [
           "43"
          ],
          [
           "43"
          ],
          [
           "43"
          ],
          [
           "43"
          ]
         ],
         "hovertemplate": "cluster=%{customdata[0]}<br>UMAP-1=%{x}<br>UMAP-2=%{y}<extra></extra>",
         "legendgroup": "43",
         "marker": {
          "color": "#72B7B2",
          "opacity": 0.8,
          "size": 8,
          "symbol": "circle"
         },
         "mode": "markers",
         "name": "43",
         "showlegend": true,
         "type": "scattergl",
         "x": {
          "bdata": "FXM3wNFvN8DDbjfAz2w3wBptN8ByaTfAjm43wKlyN8A=",
          "dtype": "f4"
         },
         "xaxis": "x",
         "y": {
          "bdata": "/TXMPR1eyz2TO8s9WTnLPYQkyz0h5Mk98lvLPQyWyz0=",
          "dtype": "f4"
         },
         "yaxis": "y"
        },
        {
         "customdata": [
          [
           "44"
          ],
          [
           "44"
          ],
          [
           "44"
          ],
          [
           "44"
          ],
          [
           "44"
          ],
          [
           "44"
          ],
          [
           "44"
          ],
          [
           "44"
          ],
          [
           "44"
          ],
          [
           "44"
          ],
          [
           "44"
          ],
          [
           "44"
          ],
          [
           "44"
          ],
          [
           "44"
          ],
          [
           "44"
          ]
         ],
         "hovertemplate": "cluster=%{customdata[0]}<br>UMAP-1=%{x}<br>UMAP-2=%{y}<extra></extra>",
         "legendgroup": "44",
         "marker": {
          "color": "#54A24B",
          "opacity": 0.8,
          "size": 8,
          "symbol": "circle"
         },
         "mode": "markers",
         "name": "44",
         "showlegend": true,
         "type": "scattergl",
         "x": {
          "bdata": "hRQXwZAMF8GIDhfBLAwXwWwMF8FeDhfB7w4XwXFBF8GkBhfBDBMXwYsOF8HtpBbBOU0XwSENF8FbExfB",
          "dtype": "f4"
         },
         "xaxis": "x",
         "y": {
          "bdata": "se0hQM04IUCIxyFAUMEhQPa+IUCepCFA3eshQNzhIEB0LSJAEo4hQG7sIUBc9R9AceQiQJuSIUDO8SFA",
          "dtype": "f4"
         },
         "yaxis": "y"
        },
        {
         "customdata": [
          [
           "45"
          ],
          [
           "45"
          ],
          [
           "45"
          ],
          [
           "45"
          ],
          [
           "45"
          ],
          [
           "45"
          ],
          [
           "45"
          ],
          [
           "45"
          ],
          [
           "45"
          ],
          [
           "45"
          ],
          [
           "45"
          ],
          [
           "45"
          ],
          [
           "45"
          ],
          [
           "45"
          ],
          [
           "45"
          ],
          [
           "45"
          ],
          [
           "45"
          ],
          [
           "45"
          ],
          [
           "45"
          ],
          [
           "45"
          ],
          [
           "45"
          ],
          [
           "45"
          ],
          [
           "45"
          ],
          [
           "45"
          ],
          [
           "45"
          ],
          [
           "45"
          ],
          [
           "45"
          ],
          [
           "45"
          ],
          [
           "45"
          ],
          [
           "45"
          ],
          [
           "45"
          ],
          [
           "45"
          ],
          [
           "45"
          ],
          [
           "45"
          ],
          [
           "45"
          ],
          [
           "45"
          ],
          [
           "45"
          ],
          [
           "45"
          ],
          [
           "45"
          ],
          [
           "45"
          ],
          [
           "45"
          ],
          [
           "45"
          ],
          [
           "45"
          ],
          [
           "45"
          ]
         ],
         "hovertemplate": "cluster=%{customdata[0]}<br>UMAP-1=%{x}<br>UMAP-2=%{y}<extra></extra>",
         "legendgroup": "45",
         "marker": {
          "color": "#EECA3B",
          "opacity": 0.8,
          "size": 8,
          "symbol": "circle"
         },
         "mode": "markers",
         "name": "45",
         "showlegend": true,
         "type": "scattergl",
         "x": {
          "bdata": "2sETwQjTE8Hv2RPB8s0TwYbZE8EgJxDBOVwQwdirD8EkRxbB8wQQwU9NEMG1+Q/BYyYWwSYeEMHRXRDB9P0PwX5yFsFO9Q/BX4gQwXxzEMGG4RXBNM8PwSicEMEyPxDBxRoWwcIvFcHbbRXBISUVwfcnFcG3JhLBLRoSwYGSEcGt4hHB2L8RwTGnE8GgpRPBpIkTwVqME8HAkRPBzKYWwYa2FsHXhBbBdJYWwR8eF8E=",
          "dtype": "f4"
         },
         "xaxis": "x",
         "y": {
          "bdata": "tWLTQKZF00DrMNNAsUrTQNM100A/qNpAOmvaQFft20BaIc5ALejaQDqG2kBRsNtA12XOQEC82kA/a9pA21nbQM7NzUBrEdtAXxbaQNlQ20AR8M5AVTLbQNnw2UDCqttAH3zOQBNv0EDV8M9AcoPQQBV50ECus9ZAJc7WQB3g10ChPtdAeoTXQMed00Dzn9NAA9fTQJTM00CKxtNAkWPNQLw9zUAZos1Ay33NQEdqzEA=",
          "dtype": "f4"
         },
         "yaxis": "y"
        },
        {
         "customdata": [
          [
           "46"
          ],
          [
           "46"
          ],
          [
           "46"
          ],
          [
           "46"
          ],
          [
           "46"
          ]
         ],
         "hovertemplate": "cluster=%{customdata[0]}<br>UMAP-1=%{x}<br>UMAP-2=%{y}<extra></extra>",
         "legendgroup": "46",
         "marker": {
          "color": "#B279A2",
          "opacity": 0.8,
          "size": 8,
          "symbol": "circle"
         },
         "mode": "markers",
         "name": "46",
         "showlegend": true,
         "type": "scattergl",
         "x": {
          "bdata": "6zaBwG82gcCON4HA+jSBwE80gcA=",
          "dtype": "f4"
         },
         "xaxis": "x",
         "y": {
          "bdata": "nxYjP1MlIz9NCSM/rRgjP9MRIz8=",
          "dtype": "f4"
         },
         "yaxis": "y"
        },
        {
         "customdata": [
          [
           "47"
          ],
          [
           "47"
          ],
          [
           "47"
          ],
          [
           "47"
          ],
          [
           "47"
          ]
         ],
         "hovertemplate": "cluster=%{customdata[0]}<br>UMAP-1=%{x}<br>UMAP-2=%{y}<extra></extra>",
         "legendgroup": "47",
         "marker": {
          "color": "#FF9DA6",
          "opacity": 0.8,
          "size": 8,
          "symbol": "circle"
         },
         "mode": "markers",
         "name": "47",
         "showlegend": true,
         "type": "scattergl",
         "x": {
          "bdata": "tBOjv+gPo792G6O/pA+jv2wbo78=",
          "dtype": "f4"
         },
         "xaxis": "x",
         "y": {
          "bdata": "LNqsP5XkrD+N3Kw/ec6sP+HcrD8=",
          "dtype": "f4"
         },
         "yaxis": "y"
        },
        {
         "customdata": [
          [
           "48"
          ],
          [
           "48"
          ],
          [
           "48"
          ],
          [
           "48"
          ],
          [
           "48"
          ]
         ],
         "hovertemplate": "cluster=%{customdata[0]}<br>UMAP-1=%{x}<br>UMAP-2=%{y}<extra></extra>",
         "legendgroup": "48",
         "marker": {
          "color": "#9D755D",
          "opacity": 0.8,
          "size": 8,
          "symbol": "circle"
         },
         "mode": "markers",
         "name": "48",
         "showlegend": true,
         "type": "scattergl",
         "x": {
          "bdata": "lq16QAetekB/rXpAdq56QBKqekA=",
          "dtype": "f4"
         },
         "xaxis": "x",
         "y": {
          "bdata": "mMhZQMTHWUAQyllAH8dZQB25WUA=",
          "dtype": "f4"
         },
         "yaxis": "y"
        },
        {
         "customdata": [
          [
           "49"
          ],
          [
           "49"
          ],
          [
           "49"
          ],
          [
           "49"
          ],
          [
           "49"
          ],
          [
           "49"
          ],
          [
           "49"
          ],
          [
           "49"
          ],
          [
           "49"
          ],
          [
           "49"
          ]
         ],
         "hovertemplate": "cluster=%{customdata[0]}<br>UMAP-1=%{x}<br>UMAP-2=%{y}<extra></extra>",
         "legendgroup": "49",
         "marker": {
          "color": "#BAB0AC",
          "opacity": 0.8,
          "size": 8,
          "symbol": "circle"
         },
         "mode": "markers",
         "name": "49",
         "showlegend": true,
         "type": "scattergl",
         "x": {
          "bdata": "VE9SwUZPUsF7T1LBW09SwXVPUsFqT1LBgU9SwYdPUsGHT1LBDlBSwQ==",
          "dtype": "f4"
         },
         "xaxis": "x",
         "y": {
          "bdata": "OJSPQUiUj0EvlI9BZ5SPQTaUj0FIlI9BVpSPQTaUj0FDlI9BL5SPQQ==",
          "dtype": "f4"
         },
         "yaxis": "y"
        },
        {
         "customdata": [
          [
           "50"
          ],
          [
           "50"
          ],
          [
           "50"
          ],
          [
           "50"
          ],
          [
           "50"
          ]
         ],
         "hovertemplate": "cluster=%{customdata[0]}<br>UMAP-1=%{x}<br>UMAP-2=%{y}<extra></extra>",
         "legendgroup": "50",
         "marker": {
          "color": "#4C78A8",
          "opacity": 0.8,
          "size": 8,
          "symbol": "circle"
         },
         "mode": "markers",
         "name": "50",
         "showlegend": true,
         "type": "scattergl",
         "x": {
          "bdata": "nxMxQMkTMUD+GDFABRgxQAgRMUA=",
          "dtype": "f4"
         },
         "xaxis": "x",
         "y": {
          "bdata": "6tlqQdjYakHw2mpBpdtqQfzZakE=",
          "dtype": "f4"
         },
         "yaxis": "y"
        },
        {
         "customdata": [
          [
           "51"
          ],
          [
           "51"
          ],
          [
           "51"
          ],
          [
           "51"
          ],
          [
           "51"
          ],
          [
           "51"
          ],
          [
           "51"
          ],
          [
           "51"
          ],
          [
           "51"
          ],
          [
           "51"
          ],
          [
           "51"
          ],
          [
           "51"
          ],
          [
           "51"
          ],
          [
           "51"
          ],
          [
           "51"
          ],
          [
           "51"
          ],
          [
           "51"
          ],
          [
           "51"
          ],
          [
           "51"
          ],
          [
           "51"
          ],
          [
           "51"
          ],
          [
           "51"
          ],
          [
           "51"
          ],
          [
           "51"
          ],
          [
           "51"
          ],
          [
           "51"
          ],
          [
           "51"
          ],
          [
           "51"
          ],
          [
           "51"
          ],
          [
           "51"
          ]
         ],
         "hovertemplate": "cluster=%{customdata[0]}<br>UMAP-1=%{x}<br>UMAP-2=%{y}<extra></extra>",
         "legendgroup": "51",
         "marker": {
          "color": "#F58518",
          "opacity": 0.8,
          "size": 8,
          "symbol": "circle"
         },
         "mode": "markers",
         "name": "51",
         "showlegend": true,
         "type": "scattergl",
         "x": {
          "bdata": "IcyIwQeaiMHB14jBNrqIwRPPiMGUSYnBrU2JwZhvicESSonBA0iJwZOZiMGnR4jBen6IwcwYiMHsc4jB5EeIwfySiMEMMIjBIGSIwY1qiMEjhonBEYOJwbeEicFWa4nBDseJwYLziMFEuYjBNeiIwbbLiMGKqYjB",
          "dtype": "f4"
         },
         "xaxis": "x",
         "y": {
          "bdata": "emJPQUj+TkGAeU9Bmz5PQTJoT0G2XVBBCGZQQSGpUEG+XlBBG1pQQYb8TkHUWE5BOsZOQTz7TUErsU5BZFlOQTTwTkGJKU5BAZJOQceeTkHp1lBBOtBQQffTUEEGoVBBlVhRQcCwT0FvPE9BYppPQR9hT0G8HE9B",
          "dtype": "f4"
         },
         "yaxis": "y"
        },
        {
         "customdata": [
          [
           "52"
          ],
          [
           "52"
          ],
          [
           "52"
          ],
          [
           "52"
          ],
          [
           "52"
          ]
         ],
         "hovertemplate": "cluster=%{customdata[0]}<br>UMAP-1=%{x}<br>UMAP-2=%{y}<extra></extra>",
         "legendgroup": "52",
         "marker": {
          "color": "#E45756",
          "opacity": 0.8,
          "size": 8,
          "symbol": "circle"
         },
         "mode": "markers",
         "name": "52",
         "showlegend": true,
         "type": "scattergl",
         "x": {
          "bdata": "I0wNwORODcCQTQ3A3U0NwGRODcA=",
          "dtype": "f4"
         },
         "xaxis": "x",
         "y": {
          "bdata": "bx5DQJ8bQ0C/HENAaBtDQO4aQ0A=",
          "dtype": "f4"
         },
         "yaxis": "y"
        },
        {
         "customdata": [
          [
           "53"
          ],
          [
           "53"
          ],
          [
           "53"
          ],
          [
           "53"
          ],
          [
           "53"
          ],
          [
           "53"
          ],
          [
           "53"
          ],
          [
           "53"
          ],
          [
           "53"
          ],
          [
           "53"
          ],
          [
           "53"
          ],
          [
           "53"
          ],
          [
           "53"
          ],
          [
           "53"
          ],
          [
           "53"
          ]
         ],
         "hovertemplate": "cluster=%{customdata[0]}<br>UMAP-1=%{x}<br>UMAP-2=%{y}<extra></extra>",
         "legendgroup": "53",
         "marker": {
          "color": "#72B7B2",
          "opacity": 0.8,
          "size": 8,
          "symbol": "circle"
         },
         "mode": "markers",
         "name": "53",
         "showlegend": true,
         "type": "scattergl",
         "x": {
          "bdata": "EybhwNHl4MBloODAIvXgwF2+4MDzYuDAofLgwOog4MC05ODAsfDgwNDV4MB8QODAru/gwAzT4MBWnuHA",
          "dtype": "f4"
         },
         "xaxis": "x",
         "y": {
          "bdata": "dQqCwV8VgsGmJ4LBixOCwVMWgsGjPYLBUhSCwYZGgsHqFoLB2hSCwYQZgsGmO4LBJBWCwREagsFU6IHB",
          "dtype": "f4"
         },
         "yaxis": "y"
        },
        {
         "customdata": [
          [
           "54"
          ],
          [
           "54"
          ],
          [
           "54"
          ],
          [
           "54"
          ],
          [
           "54"
          ],
          [
           "54"
          ],
          [
           "54"
          ],
          [
           "54"
          ],
          [
           "54"
          ],
          [
           "54"
          ],
          [
           "54"
          ],
          [
           "54"
          ],
          [
           "54"
          ],
          [
           "54"
          ],
          [
           "54"
          ],
          [
           "54"
          ],
          [
           "54"
          ],
          [
           "54"
          ],
          [
           "54"
          ]
         ],
         "hovertemplate": "cluster=%{customdata[0]}<br>UMAP-1=%{x}<br>UMAP-2=%{y}<extra></extra>",
         "legendgroup": "54",
         "marker": {
          "color": "#54A24B",
          "opacity": 0.8,
          "size": 8,
          "symbol": "circle"
         },
         "mode": "markers",
         "name": "54",
         "showlegend": true,
         "type": "scattergl",
         "x": {
          "bdata": "Cbe7P20DvD+b3Lw/eqK7P8WNuz8ZSbs/9+S/P8fyuj9Kabw/4Ci8P0pMuj/iUr0/CAO+P1SfvT93U7k/4WO7P7K7uD8vwrk/UJa6Pw==",
          "dtype": "f4"
         },
         "xaxis": "x",
         "y": {
          "bdata": "/4GBwcyHgcELlYHB7ICBweF/gcG8e4HBYsWBwd51gcHijYHBEYmBwd5rgcFym4HBC6eBwb6ggcGXXIHBGX6BweRSgcGEY4HB5nCBwQ==",
          "dtype": "f4"
         },
         "yaxis": "y"
        },
        {
         "customdata": [
          [
           "55"
          ],
          [
           "55"
          ],
          [
           "55"
          ],
          [
           "55"
          ],
          [
           "55"
          ],
          [
           "55"
          ],
          [
           "55"
          ],
          [
           "55"
          ],
          [
           "55"
          ],
          [
           "55"
          ],
          [
           "55"
          ],
          [
           "55"
          ],
          [
           "55"
          ],
          [
           "55"
          ],
          [
           "55"
          ]
         ],
         "hovertemplate": "cluster=%{customdata[0]}<br>UMAP-1=%{x}<br>UMAP-2=%{y}<extra></extra>",
         "legendgroup": "55",
         "marker": {
          "color": "#EECA3B",
          "opacity": 0.8,
          "size": 8,
          "symbol": "circle"
         },
         "mode": "markers",
         "name": "55",
         "showlegend": true,
         "type": "scattergl",
         "x": {
          "bdata": "OdvtQLhE7kDA8u1ANSHuQCfC7kBPYu1AMeTtQMWS7UB3tu1AJyHtQIyv7UDLcu1AqLftQBVR7UB1su1A",
          "dtype": "f4"
         },
         "xaxis": "x",
         "y": {
          "bdata": "w2CywCXLssAWc7LAUKGywBdDs8Bx57HAzYOywEQZssCeObLAC6OxwMUwssBk8LHAbjOywE7KscCfMrLA",
          "dtype": "f4"
         },
         "yaxis": "y"
        },
        {
         "customdata": [
          [
           "56"
          ],
          [
           "56"
          ],
          [
           "56"
          ],
          [
           "56"
          ],
          [
           "56"
          ],
          [
           "56"
          ],
          [
           "56"
          ],
          [
           "56"
          ],
          [
           "56"
          ],
          [
           "56"
          ],
          [
           "56"
          ],
          [
           "56"
          ],
          [
           "56"
          ],
          [
           "56"
          ],
          [
           "56"
          ],
          [
           "56"
          ],
          [
           "56"
          ],
          [
           "56"
          ],
          [
           "56"
          ],
          [
           "56"
          ]
         ],
         "hovertemplate": "cluster=%{customdata[0]}<br>UMAP-1=%{x}<br>UMAP-2=%{y}<extra></extra>",
         "legendgroup": "56",
         "marker": {
          "color": "#B279A2",
          "opacity": 0.8,
          "size": 8,
          "symbol": "circle"
         },
         "mode": "markers",
         "name": "56",
         "showlegend": true,
         "type": "scattergl",
         "x": {
          "bdata": "hu47wSGxO8FwxTvBk+k7wa7hO8ESfDzBJQk8wcfKO8EQ8zvBzCY8wU7qO8EZ8jvBl7g7wZPHO8Gd5DvBD6s7wRO0O8GkUTvBPa87wRv0O8E=",
          "dtype": "f4"
         },
         "xaxis": "x",
         "y": {
          "bdata": "vFRowXAXaMGrK2jBAFBowRlIaMHP4mjBnW9owW8xaMF4WWjB3oxowSFRaMGxWGjBEB9owUEuaMHzSmjBqxFowbUaaMFsuGfByBVowaRaaME=",
          "dtype": "f4"
         },
         "yaxis": "y"
        },
        {
         "customdata": [
          [
           "57"
          ],
          [
           "57"
          ],
          [
           "57"
          ],
          [
           "57"
          ],
          [
           "57"
          ],
          [
           "57"
          ],
          [
           "57"
          ],
          [
           "57"
          ],
          [
           "57"
          ],
          [
           "57"
          ]
         ],
         "hovertemplate": "cluster=%{customdata[0]}<br>UMAP-1=%{x}<br>UMAP-2=%{y}<extra></extra>",
         "legendgroup": "57",
         "marker": {
          "color": "#FF9DA6",
          "opacity": 0.8,
          "size": 8,
          "symbol": "circle"
         },
         "mode": "markers",
         "name": "57",
         "showlegend": true,
         "type": "scattergl",
         "x": {
          "bdata": "wUC5wDRAuMA2/LjAt/u4wIn6uMDBBbnAkNe4wAD7uMAy+LjARWu5wA==",
          "dtype": "f4"
         },
         "xaxis": "x",
         "y": {
          "bdata": "LCm2wNQvtcDK5bXAMOW1wG3jtcBN7bXA6L+1wArntcCQ4rXAulW2wA==",
          "dtype": "f4"
         },
         "yaxis": "y"
        },
        {
         "customdata": [
          [
           "58"
          ],
          [
           "58"
          ],
          [
           "58"
          ],
          [
           "58"
          ],
          [
           "58"
          ],
          [
           "58"
          ],
          [
           "58"
          ],
          [
           "58"
          ],
          [
           "58"
          ],
          [
           "58"
          ],
          [
           "58"
          ],
          [
           "58"
          ],
          [
           "58"
          ],
          [
           "58"
          ],
          [
           "58"
          ],
          [
           "58"
          ],
          [
           "58"
          ],
          [
           "58"
          ],
          [
           "58"
          ],
          [
           "58"
          ],
          [
           "58"
          ],
          [
           "58"
          ],
          [
           "58"
          ],
          [
           "58"
          ],
          [
           "58"
          ],
          [
           "58"
          ],
          [
           "58"
          ],
          [
           "58"
          ],
          [
           "58"
          ],
          [
           "58"
          ],
          [
           "58"
          ],
          [
           "58"
          ],
          [
           "58"
          ],
          [
           "58"
          ],
          [
           "58"
          ]
         ],
         "hovertemplate": "cluster=%{customdata[0]}<br>UMAP-1=%{x}<br>UMAP-2=%{y}<extra></extra>",
         "legendgroup": "58",
         "marker": {
          "color": "#9D755D",
          "opacity": 0.8,
          "size": 8,
          "symbol": "circle"
         },
         "mode": "markers",
         "name": "58",
         "showlegend": true,
         "type": "scattergl",
         "x": {
          "bdata": "FdCuvzpIs7/7RrK/VJqzv6SBsb8wK7u/piC8v/e3ub96B7u/3AW7v1/BpL+zk6y/Ldeev9Zznb8F6Zu/ndmkv4Rrqr9K6Jm/sjKhv7vLm7/h0KG/q7aqv3sAnb9M9Jy/sPOcvxqvo79zQq2/jlyfv2q4nL+I0py/95envzmgrL8ydZ2/hxefvxNCn78=",
          "dtype": "f4"
         },
         "xaxis": "x",
         "y": {
          "bdata": "sgbcQMsj3UCD4txAFzndQDGz3ECEEt9Aw0/fQJSy3kCYCt9AnQrfQDSM2UDkfttARxfYQPm810B0WddAJZPZQFX12kCm2NZA96nYQHxS10Au0NhATAPbQK2b10A3oNdAxpfXQB9I2UCTqdtA3zXYQPCO10CRlNdAakHaQDSC20AjvtdAuyLYQFYu2EA=",
          "dtype": "f4"
         },
         "yaxis": "y"
        },
        {
         "customdata": [
          [
           "59"
          ],
          [
           "59"
          ],
          [
           "59"
          ],
          [
           "59"
          ],
          [
           "59"
          ],
          [
           "59"
          ],
          [
           "59"
          ],
          [
           "59"
          ],
          [
           "59"
          ],
          [
           "59"
          ],
          [
           "59"
          ],
          [
           "59"
          ],
          [
           "59"
          ],
          [
           "59"
          ],
          [
           "59"
          ],
          [
           "59"
          ],
          [
           "59"
          ],
          [
           "59"
          ],
          [
           "59"
          ],
          [
           "59"
          ],
          [
           "59"
          ],
          [
           "59"
          ],
          [
           "59"
          ],
          [
           "59"
          ],
          [
           "59"
          ],
          [
           "59"
          ],
          [
           "59"
          ],
          [
           "59"
          ],
          [
           "59"
          ],
          [
           "59"
          ],
          [
           "59"
          ],
          [
           "59"
          ],
          [
           "59"
          ],
          [
           "59"
          ],
          [
           "59"
          ],
          [
           "59"
          ],
          [
           "59"
          ],
          [
           "59"
          ],
          [
           "59"
          ],
          [
           "59"
          ],
          [
           "59"
          ],
          [
           "59"
          ],
          [
           "59"
          ],
          [
           "59"
          ],
          [
           "59"
          ],
          [
           "59"
          ],
          [
           "59"
          ],
          [
           "59"
          ],
          [
           "59"
          ],
          [
           "59"
          ],
          [
           "59"
          ],
          [
           "59"
          ],
          [
           "59"
          ],
          [
           "59"
          ],
          [
           "59"
          ],
          [
           "59"
          ],
          [
           "59"
          ],
          [
           "59"
          ],
          [
           "59"
          ],
          [
           "59"
          ],
          [
           "59"
          ],
          [
           "59"
          ],
          [
           "59"
          ],
          [
           "59"
          ],
          [
           "59"
          ],
          [
           "59"
          ],
          [
           "59"
          ],
          [
           "59"
          ],
          [
           "59"
          ],
          [
           "59"
          ]
         ],
         "hovertemplate": "cluster=%{customdata[0]}<br>UMAP-1=%{x}<br>UMAP-2=%{y}<extra></extra>",
         "legendgroup": "59",
         "marker": {
          "color": "#BAB0AC",
          "opacity": 0.8,
          "size": 8,
          "symbol": "circle"
         },
         "mode": "markers",
         "name": "59",
         "showlegend": true,
         "type": "scattergl",
         "x": {
          "bdata": "nSShv7Ulo78nl6O/71qgv30Por/Gy5i/pZ6Yv2uvl7/q+pi/H2uWv+9Wmb8WXcK/MGyYv3Obw79pt5q/7v7Cv1wOmr9h1cS/W4OZv3Ocw784cK+/uxnOv73qrb+3Qs2/Omavv7S8y79pCq+/da/Kv2kgrr/t5c6/chXLv43zqL8seM6/sefMvwttrr+m1c2/UcXNv7UCqL/pKc+/r6bLv1Biqb8++9O/7bjNvwQhq7+vDs6/Zgbjv5Ew5b+LC9W/kl/nv0cG1b/3OuK/Onvjv9IA2L9Lp+e/nsDVv8pn4r8Jhue/jtLZv0Zb5r+VHti/L9jev42w478T4Na/OmXlv2c52b9fr+K/zNrkv7EA2L+IduW/U2vXvw==",
          "dtype": "f4"
         },
         "xaxis": "x",
         "y": {
          "bdata": "2FzMQQxxzEEne8xBR07MQdhczEEt1stBe9TLQdjIy0HI2stBr7LLQb7hy0E/DM5BSdTLQQoWzkFj+ctB4nnOQTPry0GEUc5Bod7LQSMlzkF5Jc1BKbbPQUUKzUFq1M9BfR3NQSeFz0F8FM1BSGbPQYYGzUEQzs9BZgfOQaDCzEFcBc5BgR/OQTANzUHitM1B5dfNQVqnzEFA381BgqXNQTjAzEExHs5BlR/OQYvfzEFMKc5B0NvRQRYI0kHJ1tBBRyrSQfvW0EF2z9FBG+fRQSci0UFyRNJBrOjQQd7W0UHyP9JBTjvRQVQa0kHOENFBQZrRQYbt0UEZANFBYgrSQS4j0UGS4tFBWwrSQXH80EGsCtJBsy/RQQ==",
          "dtype": "f4"
         },
         "yaxis": "y"
        },
        {
         "customdata": [
          [
           "60"
          ],
          [
           "60"
          ],
          [
           "60"
          ],
          [
           "60"
          ],
          [
           "60"
          ],
          [
           "60"
          ],
          [
           "60"
          ],
          [
           "60"
          ],
          [
           "60"
          ],
          [
           "60"
          ],
          [
           "60"
          ],
          [
           "60"
          ],
          [
           "60"
          ],
          [
           "60"
          ],
          [
           "60"
          ],
          [
           "60"
          ],
          [
           "60"
          ],
          [
           "60"
          ],
          [
           "60"
          ],
          [
           "60"
          ],
          [
           "60"
          ],
          [
           "60"
          ],
          [
           "60"
          ],
          [
           "60"
          ],
          [
           "60"
          ],
          [
           "60"
          ],
          [
           "60"
          ],
          [
           "60"
          ],
          [
           "60"
          ],
          [
           "60"
          ],
          [
           "60"
          ],
          [
           "60"
          ],
          [
           "60"
          ],
          [
           "60"
          ],
          [
           "60"
          ],
          [
           "60"
          ],
          [
           "60"
          ],
          [
           "60"
          ],
          [
           "60"
          ],
          [
           "60"
          ]
         ],
         "hovertemplate": "cluster=%{customdata[0]}<br>UMAP-1=%{x}<br>UMAP-2=%{y}<extra></extra>",
         "legendgroup": "60",
         "marker": {
          "color": "#4C78A8",
          "opacity": 0.8,
          "size": 8,
          "symbol": "circle"
         },
         "mode": "markers",
         "name": "60",
         "showlegend": true,
         "type": "scattergl",
         "x": {
          "bdata": "OxKjQAhsokDWtaJAODGjQNT0okBj0qJABsiiQF6IokC/s6JAavyhQBr8oUCeY6JAc72iQAKCokB266JAdPmhQGtGoUCWKKJAwtqgQOTXoUAMcqFAJ9uiQDZloUBAk6FAUl+hQPxLoUAPPqFAR5GfQJqfoEBk7KBAWM2gQBE7oECfHKFADY6gQAqloEAk4aFAbnegQMLsoEBSvqBA34igQA==",
          "dtype": "f4"
         },
         "xaxis": "x",
         "y": {
          "bdata": "Am2FQQxMhUEv+4VBcWuFQXU2hUFX04VBcXSFQVWRhUEIoIVBfzqFQZp2hUGJqYVBHYeFQWuKhUGVy4VBPtSGQR79h0FelYZBjyiIQcbuhkH+7IdBHQuHQSzgh0EyKIdBs+OHQcLph0H9+4dBvqmIQWFLiEFsHIhB/ECIQYRHiEEVHYhBMk+IQe5IiEHN2odBemqIQagjiEGvXIhBmVCIQQ==",
          "dtype": "f4"
         },
         "yaxis": "y"
        },
        {
         "customdata": [
          [
           "61"
          ],
          [
           "61"
          ],
          [
           "61"
          ],
          [
           "61"
          ],
          [
           "61"
          ],
          [
           "61"
          ],
          [
           "61"
          ],
          [
           "61"
          ],
          [
           "61"
          ],
          [
           "61"
          ],
          [
           "61"
          ],
          [
           "61"
          ],
          [
           "61"
          ],
          [
           "61"
          ],
          [
           "61"
          ],
          [
           "61"
          ],
          [
           "61"
          ],
          [
           "61"
          ],
          [
           "61"
          ],
          [
           "61"
          ],
          [
           "61"
          ],
          [
           "61"
          ],
          [
           "61"
          ],
          [
           "61"
          ],
          [
           "61"
          ]
         ],
         "hovertemplate": "cluster=%{customdata[0]}<br>UMAP-1=%{x}<br>UMAP-2=%{y}<extra></extra>",
         "legendgroup": "61",
         "marker": {
          "color": "#F58518",
          "opacity": 0.8,
          "size": 8,
          "symbol": "circle"
         },
         "mode": "markers",
         "name": "61",
         "showlegend": true,
         "type": "scattergl",
         "x": {
          "bdata": "R3PqwG4w5sBu/enAQKrmwC0+68AJx+bAmOHpwCz85sCnG+rA2x7nwDkR58DW3ufAXJDnwDHZ58B6hefAIg7owGUF6MApnufA+9znwLsG6MD1PunAkT7pwE9x6sDYPenAVoHpwA==",
          "dtype": "f4"
         },
         "xaxis": "x",
         "y": {
          "bdata": "FETgQUhU4UHJYeBBuTXhQbgR4EG6LuFB0mjgQV0h4UFuWuBB0RjhQRcc4UHP6OBBV/zgQW3q4EFc/+BBkN3gQbHf4EFz+eBBqurgQV7f4EGGkeBBsJHgQRtF4EH0keBBRYHgQQ==",
          "dtype": "f4"
         },
         "yaxis": "y"
        },
        {
         "customdata": [
          [
           "62"
          ],
          [
           "62"
          ],
          [
           "62"
          ],
          [
           "62"
          ],
          [
           "62"
          ],
          [
           "62"
          ],
          [
           "62"
          ],
          [
           "62"
          ],
          [
           "62"
          ],
          [
           "62"
          ],
          [
           "62"
          ],
          [
           "62"
          ],
          [
           "62"
          ],
          [
           "62"
          ],
          [
           "62"
          ]
         ],
         "hovertemplate": "cluster=%{customdata[0]}<br>UMAP-1=%{x}<br>UMAP-2=%{y}<extra></extra>",
         "legendgroup": "62",
         "marker": {
          "color": "#E45756",
          "opacity": 0.8,
          "size": 8,
          "symbol": "circle"
         },
         "mode": "markers",
         "name": "62",
         "showlegend": true,
         "type": "scattergl",
         "x": {
          "bdata": "v/9vv+cNcb/k13O/3Ahxv4hpbb8BDXO/YoFyv3G1eL/caXK/QGFyvw70ar9asHG/MUdvv2gFa78+WnG/",
          "dtype": "f4"
         },
         "xaxis": "x",
         "y": {
          "bdata": "YOugQZPioEFRyaBBk+KgQe3/oEHS0aBBrtagQfSkoEGi16BBvtegQQ4ToUGU3aBBjPCgQVsToUG936BB",
          "dtype": "f4"
         },
         "yaxis": "y"
        },
        {
         "customdata": [
          [
           "63"
          ],
          [
           "63"
          ],
          [
           "63"
          ],
          [
           "63"
          ],
          [
           "63"
          ],
          [
           "63"
          ],
          [
           "63"
          ],
          [
           "63"
          ],
          [
           "63"
          ],
          [
           "63"
          ],
          [
           "63"
          ],
          [
           "63"
          ],
          [
           "63"
          ],
          [
           "63"
          ],
          [
           "63"
          ],
          [
           "63"
          ],
          [
           "63"
          ],
          [
           "63"
          ],
          [
           "63"
          ],
          [
           "63"
          ],
          [
           "63"
          ],
          [
           "63"
          ],
          [
           "63"
          ],
          [
           "63"
          ],
          [
           "63"
          ],
          [
           "63"
          ],
          [
           "63"
          ],
          [
           "63"
          ],
          [
           "63"
          ],
          [
           "63"
          ],
          [
           "63"
          ],
          [
           "63"
          ],
          [
           "63"
          ],
          [
           "63"
          ],
          [
           "63"
          ]
         ],
         "hovertemplate": "cluster=%{customdata[0]}<br>UMAP-1=%{x}<br>UMAP-2=%{y}<extra></extra>",
         "legendgroup": "63",
         "marker": {
          "color": "#72B7B2",
          "opacity": 0.8,
          "size": 8,
          "symbol": "circle"
         },
         "mode": "markers",
         "name": "63",
         "showlegend": true,
         "type": "scattergl",
         "x": {
          "bdata": "ESH8wCjR/MDZJ/3AfWj8wNb6/MCWEP3A9nv9wFsd/cCS4vrA/Vv9wCHQ/sAA+P7AtKn+wAtD/8DEA//A5cr+wI0H/sD6Af/APU7/wAZ1/8D9Kv3A1J38wAs//sAbEP3AefP8wL5A/MDevvzAfyT8wN1G/cBLp/zA14X7wEOE+8CVSPzAWr37wAkn+8A=",
          "dtype": "f4"
         },
         "xaxis": "x",
         "y": {
          "bdata": "e9ucQY4InUGnHZ1B9u2cQdYSnUEjGJ1BijOdQfUbnUFTjZxBVSudQbmJnUEwlJ1B2H6dQQamnUGplZ1B3IidQctWnUGSlZ1B9aedQfSynUF+Hp1BlfqcQflinUEnF51BgRCdQUfjnEEkA51B3tucQZUlnUFD/ZxBT7acQSG2nEEO55xBM8ScQaqenEE=",
          "dtype": "f4"
         },
         "yaxis": "y"
        },
        {
         "customdata": [
          [
           "64"
          ],
          [
           "64"
          ],
          [
           "64"
          ],
          [
           "64"
          ],
          [
           "64"
          ],
          [
           "64"
          ],
          [
           "64"
          ],
          [
           "64"
          ],
          [
           "64"
          ],
          [
           "64"
          ],
          [
           "64"
          ],
          [
           "64"
          ],
          [
           "64"
          ],
          [
           "64"
          ],
          [
           "64"
          ],
          [
           "64"
          ],
          [
           "64"
          ],
          [
           "64"
          ],
          [
           "64"
          ],
          [
           "64"
          ]
         ],
         "hovertemplate": "cluster=%{customdata[0]}<br>UMAP-1=%{x}<br>UMAP-2=%{y}<extra></extra>",
         "legendgroup": "64",
         "marker": {
          "color": "#54A24B",
          "opacity": 0.8,
          "size": 8,
          "symbol": "circle"
         },
         "mode": "markers",
         "name": "64",
         "showlegend": true,
         "type": "scattergl",
         "x": {
          "bdata": "5wBfwNHjXsAKEF/A6HRfwB/MXcCAlF7AFORewJZhW8CA317An3VewJ4UXsD8El7AqRNewOMUXMC0C17A35tdwKvrXcDxjl3AizdewCOAXsA=",
          "dtype": "f4"
         },
         "xaxis": "x",
         "y": {
          "bdata": "ID9aQaNFWkE6O1pBGSJaQRSOWkE8V1pB2kVaQc0kW0GfRVpBaWBaQexzWkGHdFpB/nRaQV7zWkGZdlpBQ5FaQa59WkEEk1pBmG5aQS9XWkE=",
          "dtype": "f4"
         },
         "yaxis": "y"
        },
        {
         "customdata": [
          [
           "65"
          ],
          [
           "65"
          ],
          [
           "65"
          ],
          [
           "65"
          ],
          [
           "65"
          ]
         ],
         "hovertemplate": "cluster=%{customdata[0]}<br>UMAP-1=%{x}<br>UMAP-2=%{y}<extra></extra>",
         "legendgroup": "65",
         "marker": {
          "color": "#EECA3B",
          "opacity": 0.8,
          "size": 8,
          "symbol": "circle"
         },
         "mode": "markers",
         "name": "65",
         "showlegend": true,
         "type": "scattergl",
         "x": {
          "bdata": "os5pQEzRaUC3HGpAr9ZpQCfYaUA=",
          "dtype": "f4"
         },
         "xaxis": "x",
         "y": {
          "bdata": "nojBv0+Jwb8gZMG/yn3Bv5p9wb8=",
          "dtype": "f4"
         },
         "yaxis": "y"
        },
        {
         "customdata": [
          [
           "66"
          ],
          [
           "66"
          ],
          [
           "66"
          ],
          [
           "66"
          ],
          [
           "66"
          ],
          [
           "66"
          ],
          [
           "66"
          ],
          [
           "66"
          ],
          [
           "66"
          ],
          [
           "66"
          ],
          [
           "66"
          ],
          [
           "66"
          ],
          [
           "66"
          ],
          [
           "66"
          ],
          [
           "66"
          ],
          [
           "66"
          ],
          [
           "66"
          ],
          [
           "66"
          ],
          [
           "66"
          ],
          [
           "66"
          ]
         ],
         "hovertemplate": "cluster=%{customdata[0]}<br>UMAP-1=%{x}<br>UMAP-2=%{y}<extra></extra>",
         "legendgroup": "66",
         "marker": {
          "color": "#B279A2",
          "opacity": 0.8,
          "size": 8,
          "symbol": "circle"
         },
         "mode": "markers",
         "name": "66",
         "showlegend": true,
         "type": "scattergl",
         "x": {
          "bdata": "Zy7fwOQC3cCPld7AlGjdwF3f3sCTCt3A037ewKPO3cDT2t7AM0ndwOMv3sB3Rt7AgGPfwNJY3cBegN7AYaPdwDkM38BqcN3AG7zewKTY3cA=",
          "dtype": "f4"
         },
         "xaxis": "x",
         "y": {
          "bdata": "F2HOP74g1z+6ydA/gXXVP+Gnzz/E8dY/eR7RP+Pn0z9ZsM8/ZQTWP01m0j9KEdI/SZfNPyPA1T8OJNE/gJbUPw3kzj/nadU/vjnQP5a60z8=",
          "dtype": "f4"
         },
         "yaxis": "y"
        },
        {
         "customdata": [
          [
           "67"
          ],
          [
           "67"
          ],
          [
           "67"
          ],
          [
           "67"
          ],
          [
           "67"
          ],
          [
           "67"
          ],
          [
           "67"
          ],
          [
           "67"
          ],
          [
           "67"
          ],
          [
           "67"
          ]
         ],
         "hovertemplate": "cluster=%{customdata[0]}<br>UMAP-1=%{x}<br>UMAP-2=%{y}<extra></extra>",
         "legendgroup": "67",
         "marker": {
          "color": "#FF9DA6",
          "opacity": 0.8,
          "size": 8,
          "symbol": "circle"
         },
         "mode": "markers",
         "name": "67",
         "showlegend": true,
         "type": "scattergl",
         "x": {
          "bdata": "s5evwGSlr8DWpK/A4qSvwKOrr8BTpK/ANK2vwAymr8Cxo6/Af6avwA==",
          "dtype": "f4"
         },
         "xaxis": "x",
         "y": {
          "bdata": "UEygQVtMoEGETKBBXkygQTVMoEFxTKBB2kigQTdMoEFQTKBBY0ygQQ==",
          "dtype": "f4"
         },
         "yaxis": "y"
        },
        {
         "customdata": [
          [
           "68"
          ],
          [
           "68"
          ],
          [
           "68"
          ],
          [
           "68"
          ],
          [
           "68"
          ],
          [
           "68"
          ],
          [
           "68"
          ],
          [
           "68"
          ],
          [
           "68"
          ],
          [
           "68"
          ]
         ],
         "hovertemplate": "cluster=%{customdata[0]}<br>UMAP-1=%{x}<br>UMAP-2=%{y}<extra></extra>",
         "legendgroup": "68",
         "marker": {
          "color": "#9D755D",
          "opacity": 0.8,
          "size": 8,
          "symbol": "circle"
         },
         "mode": "markers",
         "name": "68",
         "showlegend": true,
         "type": "scattergl",
         "x": {
          "bdata": "GkXQwBlH0MDNRtDAUM/QwD7jz8CA0tDAAGDQwNlJ0MBv+M/ApkrQwA==",
          "dtype": "f4"
         },
         "xaxis": "x",
         "y": {
          "bdata": "MLgkQQK5JEGptyRBcXMkQfPrJEHMcyRBuqwkQdK3JEFC4CRBD7ckQQ==",
          "dtype": "f4"
         },
         "yaxis": "y"
        },
        {
         "customdata": [
          [
           "69"
          ],
          [
           "69"
          ],
          [
           "69"
          ],
          [
           "69"
          ],
          [
           "69"
          ]
         ],
         "hovertemplate": "cluster=%{customdata[0]}<br>UMAP-1=%{x}<br>UMAP-2=%{y}<extra></extra>",
         "legendgroup": "69",
         "marker": {
          "color": "#BAB0AC",
          "opacity": 0.8,
          "size": 8,
          "symbol": "circle"
         },
         "mode": "markers",
         "name": "69",
         "showlegend": true,
         "type": "scattergl",
         "x": {
          "bdata": "S+lawA/vWsDx2VrADvBawBfqWsA=",
          "dtype": "f4"
         },
         "xaxis": "x",
         "y": {
          "bdata": "nOHiQDDf4kBm5eJAA+DiQPTi4kA=",
          "dtype": "f4"
         },
         "yaxis": "y"
        },
        {
         "customdata": [
          [
           "70"
          ],
          [
           "70"
          ],
          [
           "70"
          ],
          [
           "70"
          ],
          [
           "70"
          ]
         ],
         "hovertemplate": "cluster=%{customdata[0]}<br>UMAP-1=%{x}<br>UMAP-2=%{y}<extra></extra>",
         "legendgroup": "70",
         "marker": {
          "color": "#4C78A8",
          "opacity": 0.8,
          "size": 8,
          "symbol": "circle"
         },
         "mode": "markers",
         "name": "70",
         "showlegend": true,
         "type": "scattergl",
         "x": {
          "bdata": "yNAIv7HHCL8Fzgi/0NAIvx/iCL8=",
          "dtype": "f4"
         },
         "xaxis": "x",
         "y": {
          "bdata": "UNtGQRLbRkHz2kZBiNtGQd3dRkE=",
          "dtype": "f4"
         },
         "yaxis": "y"
        },
        {
         "customdata": [
          [
           "71"
          ],
          [
           "71"
          ],
          [
           "71"
          ],
          [
           "71"
          ],
          [
           "71"
          ]
         ],
         "hovertemplate": "cluster=%{customdata[0]}<br>UMAP-1=%{x}<br>UMAP-2=%{y}<extra></extra>",
         "legendgroup": "71",
         "marker": {
          "color": "#F58518",
          "opacity": 0.8,
          "size": 8,
          "symbol": "circle"
         },
         "mode": "markers",
         "name": "71",
         "showlegend": true,
         "type": "scattergl",
         "x": {
          "bdata": "gQY0QDgQNECnCzRAEA00QFULNEA=",
          "dtype": "f4"
         },
         "xaxis": "x",
         "y": {
          "bdata": "3ggcQdUMHEHeDRxBbQ0cQS8NHEE=",
          "dtype": "f4"
         },
         "yaxis": "y"
        },
        {
         "customdata": [
          [
           "72"
          ],
          [
           "72"
          ],
          [
           "72"
          ],
          [
           "72"
          ],
          [
           "72"
          ],
          [
           "72"
          ],
          [
           "72"
          ],
          [
           "72"
          ],
          [
           "72"
          ],
          [
           "72"
          ],
          [
           "72"
          ],
          [
           "72"
          ],
          [
           "72"
          ],
          [
           "72"
          ],
          [
           "72"
          ]
         ],
         "hovertemplate": "cluster=%{customdata[0]}<br>UMAP-1=%{x}<br>UMAP-2=%{y}<extra></extra>",
         "legendgroup": "72",
         "marker": {
          "color": "#E45756",
          "opacity": 0.8,
          "size": 8,
          "symbol": "circle"
         },
         "mode": "markers",
         "name": "72",
         "showlegend": true,
         "type": "scattergl",
         "x": {
          "bdata": "aaQBQY2jAUF7fQFBOXEBQW6gAUHzqwFBQqUBQWSgAUH11AFBbaIBQbagAUF1qAFB55QBQVOiAUG6pQFB",
          "dtype": "f4"
         },
         "xaxis": "x",
         "y": {
          "bdata": "sglyQdQJckEpMXJB/jtyQS4OckEGA3JBLwlyQY4QckHR2nFBBQ1yQW4OckHJHXJBMhlyQS4PckGVC3JB",
          "dtype": "f4"
         },
         "yaxis": "y"
        },
        {
         "customdata": [
          [
           "73"
          ],
          [
           "73"
          ],
          [
           "73"
          ],
          [
           "73"
          ],
          [
           "73"
          ],
          [
           "73"
          ],
          [
           "73"
          ],
          [
           "73"
          ],
          [
           "73"
          ],
          [
           "73"
          ],
          [
           "73"
          ],
          [
           "73"
          ],
          [
           "73"
          ],
          [
           "73"
          ],
          [
           "73"
          ],
          [
           "73"
          ],
          [
           "73"
          ],
          [
           "73"
          ],
          [
           "73"
          ],
          [
           "73"
          ]
         ],
         "hovertemplate": "cluster=%{customdata[0]}<br>UMAP-1=%{x}<br>UMAP-2=%{y}<extra></extra>",
         "legendgroup": "73",
         "marker": {
          "color": "#72B7B2",
          "opacity": 0.8,
          "size": 8,
          "symbol": "circle"
         },
         "mode": "markers",
         "name": "73",
         "showlegend": true,
         "type": "scattergl",
         "x": {
          "bdata": "DwYcQUkLHEGsuxtBpX8cQfb9G0EKkhxBzP0bQVBTHEHEsBtBVYYcQXlOHEF1FhxBfwscQYffG0GqMRxBleAbQUsaHEECbxtBbYwcQZefG0E=",
          "dtype": "f4"
         },
         "xaxis": "x",
         "y": {
          "bdata": "msgJwEhyCcBroQjAfo8LwI2oCcAR1wvAqacJwNXeCsArtQjAsakLwP7YCsCHFgrAQM8JwKo2CcAeZArAFEQJwHoHCsCQgAfA9csLwBJACMA=",
          "dtype": "f4"
         },
         "yaxis": "y"
        },
        {
         "customdata": [
          [
           "74"
          ],
          [
           "74"
          ],
          [
           "74"
          ],
          [
           "74"
          ],
          [
           "74"
          ],
          [
           "74"
          ],
          [
           "74"
          ],
          [
           "74"
          ],
          [
           "74"
          ],
          [
           "74"
          ],
          [
           "74"
          ],
          [
           "74"
          ],
          [
           "74"
          ],
          [
           "74"
          ],
          [
           "74"
          ]
         ],
         "hovertemplate": "cluster=%{customdata[0]}<br>UMAP-1=%{x}<br>UMAP-2=%{y}<extra></extra>",
         "legendgroup": "74",
         "marker": {
          "color": "#54A24B",
          "opacity": 0.8,
          "size": 8,
          "symbol": "circle"
         },
         "mode": "markers",
         "name": "74",
         "showlegend": true,
         "type": "scattergl",
         "x": {
          "bdata": "4wGdQDfLnEB3v5xA7JucQDsAnUBHaJxAM2ecQPhmnEDOD5xAPYacQCk1nECXQpxAltybQB8YnEC86ZtA",
          "dtype": "f4"
         },
         "xaxis": "x",
         "y": {
          "bdata": "W2ZJwE37SMCk6UjAsHtIwCZdScDgK0jApEFIwM8qSMCfe0fA6nJIwFnRR8DO6kfAGBlHwBqVR8CkMEfA",
          "dtype": "f4"
         },
         "yaxis": "y"
        },
        {
         "customdata": [
          [
           "75"
          ],
          [
           "75"
          ],
          [
           "75"
          ],
          [
           "75"
          ],
          [
           "75"
          ],
          [
           "75"
          ],
          [
           "75"
          ],
          [
           "75"
          ],
          [
           "75"
          ],
          [
           "75"
          ]
         ],
         "hovertemplate": "cluster=%{customdata[0]}<br>UMAP-1=%{x}<br>UMAP-2=%{y}<extra></extra>",
         "legendgroup": "75",
         "marker": {
          "color": "#EECA3B",
          "opacity": 0.8,
          "size": 8,
          "symbol": "circle"
         },
         "mode": "markers",
         "name": "75",
         "showlegend": true,
         "type": "scattergl",
         "x": {
          "bdata": "1jY5wWccOcGqHDnB4Bw5wQ8cOcFSHTnB3Rw5wRcdOcH4HDnBaB05wQ==",
          "dtype": "f4"
         },
         "xaxis": "x",
         "y": {
          "bdata": "RHUIwUmECME4hAjBJoQIwbmECMF2hAjBVIQIwUaECMEthAjB/oQIwQ==",
          "dtype": "f4"
         },
         "yaxis": "y"
        },
        {
         "customdata": [
          [
           "76"
          ],
          [
           "76"
          ],
          [
           "76"
          ],
          [
           "76"
          ],
          [
           "76"
          ],
          [
           "76"
          ],
          [
           "76"
          ],
          [
           "76"
          ],
          [
           "76"
          ],
          [
           "76"
          ],
          [
           "76"
          ],
          [
           "76"
          ],
          [
           "76"
          ],
          [
           "76"
          ],
          [
           "76"
          ]
         ],
         "hovertemplate": "cluster=%{customdata[0]}<br>UMAP-1=%{x}<br>UMAP-2=%{y}<extra></extra>",
         "legendgroup": "76",
         "marker": {
          "color": "#B279A2",
          "opacity": 0.8,
          "size": 8,
          "symbol": "circle"
         },
         "mode": "markers",
         "name": "76",
         "showlegend": true,
         "type": "scattergl",
         "x": {
          "bdata": "PnLpwJet6cCT/+jA48npwMBV6cAWj+nAhHnowCGa6cC2ZOnAj2DpwFKx6cCXIerAzeXpwJMs6sC+t+nA",
          "dtype": "f4"
         },
         "xaxis": "x",
         "y": {
          "bdata": "tr4AQWaiAEGV9wBBIpIAQQ/NAEHksABBgzoBQZOqAEFyxABB1scAQVKfAEE6ZwBBVoUAQQpjAEETnABB",
          "dtype": "f4"
         },
         "yaxis": "y"
        },
        {
         "customdata": [
          [
           "77"
          ],
          [
           "77"
          ],
          [
           "77"
          ],
          [
           "77"
          ],
          [
           "77"
          ]
         ],
         "hovertemplate": "cluster=%{customdata[0]}<br>UMAP-1=%{x}<br>UMAP-2=%{y}<extra></extra>",
         "legendgroup": "77",
         "marker": {
          "color": "#FF9DA6",
          "opacity": 0.8,
          "size": 8,
          "symbol": "circle"
         },
         "mode": "markers",
         "name": "77",
         "showlegend": true,
         "type": "scattergl",
         "x": {
          "bdata": "TGgXwUdpF8FNaBfB4qAXwZyeF8E=",
          "dtype": "f4"
         },
         "xaxis": "x",
         "y": {
          "bdata": "J0NAQT1GQEH3RUBBswpAQbYLQEE=",
          "dtype": "f4"
         },
         "yaxis": "y"
        },
        {
         "customdata": [
          [
           "78"
          ],
          [
           "78"
          ],
          [
           "78"
          ],
          [
           "78"
          ],
          [
           "78"
          ]
         ],
         "hovertemplate": "cluster=%{customdata[0]}<br>UMAP-1=%{x}<br>UMAP-2=%{y}<extra></extra>",
         "legendgroup": "78",
         "marker": {
          "color": "#9D755D",
          "opacity": 0.8,
          "size": 8,
          "symbol": "circle"
         },
         "mode": "markers",
         "name": "78",
         "showlegend": true,
         "type": "scattergl",
         "x": {
          "bdata": "K0gQwPslEMBJQhDA5gAQwHhAEMA=",
          "dtype": "f4"
         },
         "xaxis": "x",
         "y": {
          "bdata": "sNZCwH24QsAR0kLAoH5CwErNQsA=",
          "dtype": "f4"
         },
         "yaxis": "y"
        },
        {
         "customdata": [
          [
           "79"
          ],
          [
           "79"
          ],
          [
           "79"
          ],
          [
           "79"
          ],
          [
           "79"
          ],
          [
           "79"
          ],
          [
           "79"
          ],
          [
           "79"
          ],
          [
           "79"
          ],
          [
           "79"
          ]
         ],
         "hovertemplate": "cluster=%{customdata[0]}<br>UMAP-1=%{x}<br>UMAP-2=%{y}<extra></extra>",
         "legendgroup": "79",
         "marker": {
          "color": "#BAB0AC",
          "opacity": 0.8,
          "size": 8,
          "symbol": "circle"
         },
         "mode": "markers",
         "name": "79",
         "showlegend": true,
         "type": "scattergl",
         "x": {
          "bdata": "amZkwA1rZMBbbGTANmNkwEVkZMAMdWPA/3tkwCVFZMA9aGPAB1hkwA==",
          "dtype": "f4"
         },
         "xaxis": "x",
         "y": {
          "bdata": "O5QCQBOTAkAllAJAc5kCQNeWAkAVqQNA27sCQM/IAkCU5gFAKZ0CQA==",
          "dtype": "f4"
         },
         "yaxis": "y"
        },
        {
         "customdata": [
          [
           "80"
          ],
          [
           "80"
          ],
          [
           "80"
          ],
          [
           "80"
          ],
          [
           "80"
          ]
         ],
         "hovertemplate": "cluster=%{customdata[0]}<br>UMAP-1=%{x}<br>UMAP-2=%{y}<extra></extra>",
         "legendgroup": "80",
         "marker": {
          "color": "#4C78A8",
          "opacity": 0.8,
          "size": 8,
          "symbol": "circle"
         },
         "mode": "markers",
         "name": "80",
         "showlegend": true,
         "type": "scattergl",
         "x": {
          "bdata": "eKthwFqtYcBKrmHAC65hwMu8YcA=",
          "dtype": "f4"
         },
         "xaxis": "x",
         "y": {
          "bdata": "JvsGwRn7BsFV+wbBc/sGwUD9BsE=",
          "dtype": "f4"
         },
         "yaxis": "y"
        },
        {
         "customdata": [
          [
           "81"
          ],
          [
           "81"
          ],
          [
           "81"
          ],
          [
           "81"
          ],
          [
           "81"
          ],
          [
           "81"
          ],
          [
           "81"
          ],
          [
           "81"
          ],
          [
           "81"
          ],
          [
           "81"
          ],
          [
           "81"
          ],
          [
           "81"
          ],
          [
           "81"
          ],
          [
           "81"
          ],
          [
           "81"
          ]
         ],
         "hovertemplate": "cluster=%{customdata[0]}<br>UMAP-1=%{x}<br>UMAP-2=%{y}<extra></extra>",
         "legendgroup": "81",
         "marker": {
          "color": "#F58518",
          "opacity": 0.8,
          "size": 8,
          "symbol": "circle"
         },
         "mode": "markers",
         "name": "81",
         "showlegend": true,
         "type": "scattergl",
         "x": {
          "bdata": "ns1SwfFQUsEQUVLBLlFSwQRSUsEJS1LB7UJSwQdLUsGBQ1LBwlhSwapGUsFpS1LBb0VSwQ5NUsEVRlLB",
          "dtype": "f4"
         },
         "xaxis": "x",
         "y": {
          "bdata": "TfalQRs1pkEfNaZBCDWmQRs1pkHMOKZB8DymQbw4pkHwPKZB9DGmQXo7pkHLOKZB7DumQfA3pkGkO6ZB",
          "dtype": "f4"
         },
         "yaxis": "y"
        },
        {
         "customdata": [
          [
           "82"
          ],
          [
           "82"
          ],
          [
           "82"
          ],
          [
           "82"
          ],
          [
           "82"
          ],
          [
           "82"
          ],
          [
           "82"
          ],
          [
           "82"
          ],
          [
           "82"
          ],
          [
           "82"
          ]
         ],
         "hovertemplate": "cluster=%{customdata[0]}<br>UMAP-1=%{x}<br>UMAP-2=%{y}<extra></extra>",
         "legendgroup": "82",
         "marker": {
          "color": "#E45756",
          "opacity": 0.8,
          "size": 8,
          "symbol": "circle"
         },
         "mode": "markers",
         "name": "82",
         "showlegend": true,
         "type": "scattergl",
         "x": {
          "bdata": "a2TeQFFk3kBYYt5ARWPeQGBi3kD7Y95AqGPeQFZk3kD4Y95AI2TeQA==",
          "dtype": "f4"
         },
         "xaxis": "x",
         "y": {
          "bdata": "qJ6bQGKTm0DDoptADZ6bQLedm0BZn5tAd52bQFGgm0Aan5tAWaCbQA==",
          "dtype": "f4"
         },
         "yaxis": "y"
        },
        {
         "customdata": [
          [
           "83"
          ],
          [
           "83"
          ],
          [
           "83"
          ],
          [
           "83"
          ],
          [
           "83"
          ],
          [
           "83"
          ],
          [
           "83"
          ],
          [
           "83"
          ]
         ],
         "hovertemplate": "cluster=%{customdata[0]}<br>UMAP-1=%{x}<br>UMAP-2=%{y}<extra></extra>",
         "legendgroup": "83",
         "marker": {
          "color": "#72B7B2",
          "opacity": 0.8,
          "size": 8,
          "symbol": "circle"
         },
         "mode": "markers",
         "name": "83",
         "showlegend": true,
         "type": "scattergl",
         "x": {
          "bdata": "CSFSwVr1UcEVAVLBuPtRwQ75UcEi91HBr7tRwUH2UcE=",
          "dtype": "f4"
         },
         "xaxis": "x",
         "y": {
          "bdata": "d1JNQJLFTECGIU1A/P1MQJTdTEAX00xAUcJLQKvRTEA=",
          "dtype": "f4"
         },
         "yaxis": "y"
        },
        {
         "customdata": [
          [
           "84"
          ],
          [
           "84"
          ],
          [
           "84"
          ],
          [
           "84"
          ],
          [
           "84"
          ],
          [
           "84"
          ],
          [
           "84"
          ],
          [
           "84"
          ],
          [
           "84"
          ],
          [
           "84"
          ]
         ],
         "hovertemplate": "cluster=%{customdata[0]}<br>UMAP-1=%{x}<br>UMAP-2=%{y}<extra></extra>",
         "legendgroup": "84",
         "marker": {
          "color": "#54A24B",
          "opacity": 0.8,
          "size": 8,
          "symbol": "circle"
         },
         "mode": "markers",
         "name": "84",
         "showlegend": true,
         "type": "scattergl",
         "x": {
          "bdata": "KnGtPw5wrT/vmq0/rnWtPwFurT8ava0/8FWtP/1prT9qf6o/hUCsPw==",
          "dtype": "f4"
         },
         "xaxis": "x",
         "y": {
          "bdata": "KBMAwUsUAMHuJgDBlBQAwTMSAMErBADBUBIAwUwSAMF7Of/ALdz/wA==",
          "dtype": "f4"
         },
         "yaxis": "y"
        },
        {
         "customdata": [
          [
           "85"
          ],
          [
           "85"
          ],
          [
           "85"
          ],
          [
           "85"
          ],
          [
           "85"
          ],
          [
           "85"
          ],
          [
           "85"
          ],
          [
           "85"
          ],
          [
           "85"
          ],
          [
           "85"
          ],
          [
           "85"
          ],
          [
           "85"
          ],
          [
           "85"
          ],
          [
           "85"
          ],
          [
           "85"
          ]
         ],
         "hovertemplate": "cluster=%{customdata[0]}<br>UMAP-1=%{x}<br>UMAP-2=%{y}<extra></extra>",
         "legendgroup": "85",
         "marker": {
          "color": "#EECA3B",
          "opacity": 0.8,
          "size": 8,
          "symbol": "circle"
         },
         "mode": "markers",
         "name": "85",
         "showlegend": true,
         "type": "scattergl",
         "x": {
          "bdata": "P1OcQNIenUDkK5xADaScQAdSnECFP5xAuXycQMxEnEDcgZxAbDucQNGtnECbhJxAlIOcQNOEnEAohZxA",
          "dtype": "f4"
         },
         "xaxis": "x",
         "y": {
          "bdata": "mV97wcLJe8GvS3vBeYl7wadfe8ETV3vBxXR7wYNZe8Eld3vBW1V7wR2Oe8ETeXvB7nh7wXV5e8G+eXvB",
          "dtype": "f4"
         },
         "yaxis": "y"
        },
        {
         "customdata": [
          [
           "86"
          ],
          [
           "86"
          ],
          [
           "86"
          ],
          [
           "86"
          ],
          [
           "86"
          ],
          [
           "86"
          ],
          [
           "86"
          ],
          [
           "86"
          ],
          [
           "86"
          ],
          [
           "86"
          ]
         ],
         "hovertemplate": "cluster=%{customdata[0]}<br>UMAP-1=%{x}<br>UMAP-2=%{y}<extra></extra>",
         "legendgroup": "86",
         "marker": {
          "color": "#B279A2",
          "opacity": 0.8,
          "size": 8,
          "symbol": "circle"
         },
         "mode": "markers",
         "name": "86",
         "showlegend": true,
         "type": "scattergl",
         "x": {
          "bdata": "Hl0DQdBYA0EMYgNBOYQDQWNdA0FDPQNBppkDQYBeA0G1XwNBqEcDQQ==",
          "dtype": "f4"
         },
         "xaxis": "x",
         "y": {
          "bdata": "IKGhQeadoUGZoKFBsLShQWehoUGclqFB6L+hQR+ioUEvoqFBjZ+hQQ==",
          "dtype": "f4"
         },
         "yaxis": "y"
        },
        {
         "customdata": [
          [
           "87"
          ],
          [
           "87"
          ],
          [
           "87"
          ],
          [
           "87"
          ],
          [
           "87"
          ]
         ],
         "hovertemplate": "cluster=%{customdata[0]}<br>UMAP-1=%{x}<br>UMAP-2=%{y}<extra></extra>",
         "legendgroup": "87",
         "marker": {
          "color": "#FF9DA6",
          "opacity": 0.8,
          "size": 8,
          "symbol": "circle"
         },
         "mode": "markers",
         "name": "87",
         "showlegend": true,
         "type": "scattergl",
         "x": {
          "bdata": "feXtQG7l7UAt5e1Ao+btQPvl7UA=",
          "dtype": "f4"
         },
         "xaxis": "x",
         "y": {
          "bdata": "5t+BPlDLgT7h2YE+APKBPhTjgT4=",
          "dtype": "f4"
         },
         "yaxis": "y"
        },
        {
         "customdata": [
          [
           "88"
          ],
          [
           "88"
          ],
          [
           "88"
          ],
          [
           "88"
          ],
          [
           "88"
          ]
         ],
         "hovertemplate": "cluster=%{customdata[0]}<br>UMAP-1=%{x}<br>UMAP-2=%{y}<extra></extra>",
         "legendgroup": "88",
         "marker": {
          "color": "#9D755D",
          "opacity": 0.8,
          "size": 8,
          "symbol": "circle"
         },
         "mode": "markers",
         "name": "88",
         "showlegend": true,
         "type": "scattergl",
         "x": {
          "bdata": "p9wNQG7cDUDC3A1ALdoNQMDbDUA=",
          "dtype": "f4"
         },
         "xaxis": "x",
         "y": {
          "bdata": "fr4CQdC+AkHivgJBr74CQQq/AkE=",
          "dtype": "f4"
         },
         "yaxis": "y"
        },
        {
         "customdata": [
          [
           "89"
          ],
          [
           "89"
          ],
          [
           "89"
          ],
          [
           "89"
          ],
          [
           "89"
          ],
          [
           "89"
          ],
          [
           "89"
          ],
          [
           "89"
          ],
          [
           "89"
          ],
          [
           "89"
          ]
         ],
         "hovertemplate": "cluster=%{customdata[0]}<br>UMAP-1=%{x}<br>UMAP-2=%{y}<extra></extra>",
         "legendgroup": "89",
         "marker": {
          "color": "#BAB0AC",
          "opacity": 0.8,
          "size": 8,
          "symbol": "circle"
         },
         "mode": "markers",
         "name": "89",
         "showlegend": true,
         "type": "scattergl",
         "x": {
          "bdata": "loNRQJeCUUB+ZlFAO4JRQP+AUUBWglFALYRRQMqBUUDHglFAm4NRQA==",
          "dtype": "f4"
         },
         "xaxis": "x",
         "y": {
          "bdata": "lgwHwWEMB8GnBQfBcA0HweUMB8EUDAfBeQwHwXUOB8HQDAfBMgwHwQ==",
          "dtype": "f4"
         },
         "yaxis": "y"
        },
        {
         "customdata": [
          [
           "90"
          ],
          [
           "90"
          ],
          [
           "90"
          ],
          [
           "90"
          ],
          [
           "90"
          ]
         ],
         "hovertemplate": "cluster=%{customdata[0]}<br>UMAP-1=%{x}<br>UMAP-2=%{y}<extra></extra>",
         "legendgroup": "90",
         "marker": {
          "color": "#4C78A8",
          "opacity": 0.8,
          "size": 8,
          "symbol": "circle"
         },
         "mode": "markers",
         "name": "90",
         "showlegend": true,
         "type": "scattergl",
         "x": {
          "bdata": "cqFQvmieUL5WmFC+S9FPvt+HUL4=",
          "dtype": "f4"
         },
         "xaxis": "x",
         "y": {
          "bdata": "Pi7yPy0x8j9TNfI/+D7yPxIt8j8=",
          "dtype": "f4"
         },
         "yaxis": "y"
        },
        {
         "customdata": [
          [
           "91"
          ],
          [
           "91"
          ],
          [
           "91"
          ],
          [
           "91"
          ],
          [
           "91"
          ],
          [
           "91"
          ],
          [
           "91"
          ],
          [
           "91"
          ],
          [
           "91"
          ],
          [
           "91"
          ],
          [
           "91"
          ],
          [
           "91"
          ],
          [
           "91"
          ],
          [
           "91"
          ],
          [
           "91"
          ],
          [
           "91"
          ]
         ],
         "hovertemplate": "cluster=%{customdata[0]}<br>UMAP-1=%{x}<br>UMAP-2=%{y}<extra></extra>",
         "legendgroup": "91",
         "marker": {
          "color": "#F58518",
          "opacity": 0.8,
          "size": 8,
          "symbol": "circle"
         },
         "mode": "markers",
         "name": "91",
         "showlegend": true,
         "type": "scattergl",
         "x": {
          "bdata": "mh5oQJHEZkBP42ZAB+xnQIEaaEDWQ2hAvLxnQBDxZ0Ccg2lAijZoQL7DZ0APRmpAMWFoQCqQZkAAzmdAoitoQA==",
          "dtype": "f4"
         },
         "xaxis": "x",
         "y": {
          "bdata": "DOBbP0nkVz9aZVc/00FbP0TRWz/84l0/UdZaP2hBWz/xYWA/V6ldP2ucWz/CMFI/5f1bP1gGVz/OkFo/v3NbPw==",
          "dtype": "f4"
         },
         "yaxis": "y"
        },
        {
         "customdata": [
          [
           "92"
          ],
          [
           "92"
          ],
          [
           "92"
          ],
          [
           "92"
          ],
          [
           "92"
          ],
          [
           "92"
          ],
          [
           "92"
          ],
          [
           "92"
          ],
          [
           "92"
          ],
          [
           "92"
          ]
         ],
         "hovertemplate": "cluster=%{customdata[0]}<br>UMAP-1=%{x}<br>UMAP-2=%{y}<extra></extra>",
         "legendgroup": "92",
         "marker": {
          "color": "#E45756",
          "opacity": 0.8,
          "size": 8,
          "symbol": "circle"
         },
         "mode": "markers",
         "name": "92",
         "showlegend": true,
         "type": "scattergl",
         "x": {
          "bdata": "1kiZPzNFmT+/Spk/4EWaP5ZHmT9qUZk/80SZP2bmlz/WXJk/AUOZPw==",
          "dtype": "f4"
         },
         "xaxis": "x",
         "y": {
          "bdata": "tuoAv2LuAL/j6gC/o/sDv1H4AL/E9gC/C/kAv5Wo/L6DKgG/xPoAvw==",
          "dtype": "f4"
         },
         "yaxis": "y"
        },
        {
         "customdata": [
          [
           "93"
          ],
          [
           "93"
          ],
          [
           "93"
          ],
          [
           "93"
          ],
          [
           "93"
          ],
          [
           "93"
          ],
          [
           "93"
          ],
          [
           "93"
          ],
          [
           "93"
          ],
          [
           "93"
          ]
         ],
         "hovertemplate": "cluster=%{customdata[0]}<br>UMAP-1=%{x}<br>UMAP-2=%{y}<extra></extra>",
         "legendgroup": "93",
         "marker": {
          "color": "#72B7B2",
          "opacity": 0.8,
          "size": 8,
          "symbol": "circle"
         },
         "mode": "markers",
         "name": "93",
         "showlegend": true,
         "type": "scattergl",
         "x": {
          "bdata": "hGgaQJZoGkB5ZxpAD2gaQEpqGkDWaBpAlGcaQHNXGkAzaRpAp2caQA==",
          "dtype": "f4"
         },
         "xaxis": "x",
         "y": {
          "bdata": "npSeQamUnkG+lJ5BzpSeQbuUnkHXlJ5B0JSeQTCVnkHYlJ5BqJSeQQ==",
          "dtype": "f4"
         },
         "yaxis": "y"
        },
        {
         "customdata": [
          [
           "94"
          ],
          [
           "94"
          ],
          [
           "94"
          ],
          [
           "94"
          ],
          [
           "94"
          ],
          [
           "94"
          ],
          [
           "94"
          ],
          [
           "94"
          ],
          [
           "94"
          ],
          [
           "94"
          ]
         ],
         "hovertemplate": "cluster=%{customdata[0]}<br>UMAP-1=%{x}<br>UMAP-2=%{y}<extra></extra>",
         "legendgroup": "94",
         "marker": {
          "color": "#54A24B",
          "opacity": 0.8,
          "size": 8,
          "symbol": "circle"
         },
         "mode": "markers",
         "name": "94",
         "showlegend": true,
         "type": "scattergl",
         "x": {
          "bdata": "Vmd2wI97d8Btz3fA1NF3wOvRd8COz3fALw94wMvWd8DgA3nADCt3wA==",
          "dtype": "f4"
         },
         "xaxis": "x",
         "y": {
          "bdata": "lkqNQTknjUF3G41BfhuNQY4bjUGmG41B8hONQQ8bjUHV9IxBnC+NQQ==",
          "dtype": "f4"
         },
         "yaxis": "y"
        },
        {
         "customdata": [
          [
           "95"
          ],
          [
           "95"
          ],
          [
           "95"
          ],
          [
           "95"
          ],
          [
           "95"
          ]
         ],
         "hovertemplate": "cluster=%{customdata[0]}<br>UMAP-1=%{x}<br>UMAP-2=%{y}<extra></extra>",
         "legendgroup": "95",
         "marker": {
          "color": "#EECA3B",
          "opacity": 0.8,
          "size": 8,
          "symbol": "circle"
         },
         "mode": "markers",
         "name": "95",
         "showlegend": true,
         "type": "scattergl",
         "x": {
          "bdata": "66gtv+iqLb9SqC2/ppktvySeLb8=",
          "dtype": "f4"
         },
         "xaxis": "x",
         "y": {
          "bdata": "0zCJQd0wiUHoMIlBnTCJQecwiUE=",
          "dtype": "f4"
         },
         "yaxis": "y"
        },
        {
         "customdata": [
          [
           "96"
          ],
          [
           "96"
          ],
          [
           "96"
          ],
          [
           "96"
          ],
          [
           "96"
          ],
          [
           "96"
          ],
          [
           "96"
          ],
          [
           "96"
          ],
          [
           "96"
          ],
          [
           "96"
          ]
         ],
         "hovertemplate": "cluster=%{customdata[0]}<br>UMAP-1=%{x}<br>UMAP-2=%{y}<extra></extra>",
         "legendgroup": "96",
         "marker": {
          "color": "#B279A2",
          "opacity": 0.8,
          "size": 8,
          "symbol": "circle"
         },
         "mode": "markers",
         "name": "96",
         "showlegend": true,
         "type": "scattergl",
         "x": {
          "bdata": "BIbJwAeGycBbhsnA1oXJwOuFycD9hcnAIYbJwH2GycAphsnAHobJwA==",
          "dtype": "f4"
         },
         "xaxis": "x",
         "y": {
          "bdata": "UuyAQU7sgEEn7IBBL+yAQSbsgEFd7IBBXOyAQV/sgEGJ7IBBl+uAQQ==",
          "dtype": "f4"
         },
         "yaxis": "y"
        },
        {
         "customdata": [
          [
           "97"
          ],
          [
           "97"
          ],
          [
           "97"
          ],
          [
           "97"
          ],
          [
           "97"
          ]
         ],
         "hovertemplate": "cluster=%{customdata[0]}<br>UMAP-1=%{x}<br>UMAP-2=%{y}<extra></extra>",
         "legendgroup": "97",
         "marker": {
          "color": "#FF9DA6",
          "opacity": 0.8,
          "size": 8,
          "symbol": "circle"
         },
         "mode": "markers",
         "name": "97",
         "showlegend": true,
         "type": "scattergl",
         "x": {
          "bdata": "Cjp8wFo7fMDXN3zAejh8wNM4fMA=",
          "dtype": "f4"
         },
         "xaxis": "x",
         "y": {
          "bdata": "sZmCQAyagkAtmIJA8ZaCQPeXgkA=",
          "dtype": "f4"
         },
         "yaxis": "y"
        },
        {
         "customdata": [
          [
           "98"
          ],
          [
           "98"
          ],
          [
           "98"
          ],
          [
           "98"
          ],
          [
           "98"
          ],
          [
           "98"
          ],
          [
           "98"
          ],
          [
           "98"
          ],
          [
           "98"
          ],
          [
           "98"
          ]
         ],
         "hovertemplate": "cluster=%{customdata[0]}<br>UMAP-1=%{x}<br>UMAP-2=%{y}<extra></extra>",
         "legendgroup": "98",
         "marker": {
          "color": "#9D755D",
          "opacity": 0.8,
          "size": 8,
          "symbol": "circle"
         },
         "mode": "markers",
         "name": "98",
         "showlegend": true,
         "type": "scattergl",
         "x": {
          "bdata": "Ia+CwJqsgsAkrILAjK2CwLHPgsC3jILApa6CwHDOgsCosILAS6+CwA==",
          "dtype": "f4"
         },
         "xaxis": "x",
         "y": {
          "bdata": "281BQTTPQUFP0EFBctBBQcT4QUHUnEFBfdFBQeb+QUHA00FBW9NBQQ==",
          "dtype": "f4"
         },
         "yaxis": "y"
        },
        {
         "customdata": [
          [
           "99"
          ],
          [
           "99"
          ],
          [
           "99"
          ],
          [
           "99"
          ],
          [
           "99"
          ],
          [
           "99"
          ],
          [
           "99"
          ],
          [
           "99"
          ],
          [
           "99"
          ],
          [
           "99"
          ],
          [
           "99"
          ],
          [
           "99"
          ],
          [
           "99"
          ],
          [
           "99"
          ],
          [
           "99"
          ],
          [
           "99"
          ],
          [
           "99"
          ],
          [
           "99"
          ],
          [
           "99"
          ],
          [
           "99"
          ],
          [
           "99"
          ],
          [
           "99"
          ],
          [
           "99"
          ],
          [
           "99"
          ],
          [
           "99"
          ],
          [
           "99"
          ]
         ],
         "hovertemplate": "cluster=%{customdata[0]}<br>UMAP-1=%{x}<br>UMAP-2=%{y}<extra></extra>",
         "legendgroup": "99",
         "marker": {
          "color": "#BAB0AC",
          "opacity": 0.8,
          "size": 8,
          "symbol": "circle"
         },
         "mode": "markers",
         "name": "99",
         "showlegend": true,
         "type": "scattergl",
         "x": {
          "bdata": "S5pGQTOTRkH9kkZBoPBGQQe+RkG0SkZB8Z5GQfCARkHtgEZBAaJGQbznRkETJ0dBWYdGQfCrRkEPN0ZBeINGQYfARUFp20VBqpBFQQOjRUEFoEVBA9RFQVQvRkGbbEZBJ2pGQRAIRkE=",
          "dtype": "f4"
         },
         "xaxis": "x",
         "y": {
          "bdata": "0BybQSkZm0EkGZtBH0ibQZgvm0Ht9JpBkR+bQXoQm0FMEJtB1iCbQcFDm0HeY5tBnBObQc0om0Ex65pBhw6bQUKvmkESvJpBf5aaQVygmkEen5pBqLiaQTfnmkGxBZtBpQKbQUPTmkE=",
          "dtype": "f4"
         },
         "yaxis": "y"
        },
        {
         "customdata": [
          [
           "100"
          ],
          [
           "100"
          ],
          [
           "100"
          ],
          [
           "100"
          ],
          [
           "100"
          ],
          [
           "100"
          ],
          [
           "100"
          ],
          [
           "100"
          ],
          [
           "100"
          ],
          [
           "100"
          ]
         ],
         "hovertemplate": "cluster=%{customdata[0]}<br>UMAP-1=%{x}<br>UMAP-2=%{y}<extra></extra>",
         "legendgroup": "100",
         "marker": {
          "color": "#4C78A8",
          "opacity": 0.8,
          "size": 8,
          "symbol": "circle"
         },
         "mode": "markers",
         "name": "100",
         "showlegend": true,
         "type": "scattergl",
         "x": {
          "bdata": "D5KHQCCIh0A1iIdAc3yHQM+Fh0DOh4dAloiHQJ6Kh0BhhodANo2HQA==",
          "dtype": "f4"
         },
         "xaxis": "x",
         "y": {
          "bdata": "bqNbQcySW0G5kltBqJpbQSuTW0FIk1tB5ZNbQbqTW0EWkltB+pNbQQ==",
          "dtype": "f4"
         },
         "yaxis": "y"
        },
        {
         "customdata": [
          [
           "101"
          ],
          [
           "101"
          ],
          [
           "101"
          ],
          [
           "101"
          ],
          [
           "101"
          ]
         ],
         "hovertemplate": "cluster=%{customdata[0]}<br>UMAP-1=%{x}<br>UMAP-2=%{y}<extra></extra>",
         "legendgroup": "101",
         "marker": {
          "color": "#F58518",
          "opacity": 0.8,
          "size": 8,
          "symbol": "circle"
         },
         "mode": "markers",
         "name": "101",
         "showlegend": true,
         "type": "scattergl",
         "x": {
          "bdata": "V1CqP34/qj9Kaqo/BWSqP51vqj8=",
          "dtype": "f4"
         },
         "xaxis": "x",
         "y": {
          "bdata": "g4qMQDeOjEBUhYxASISMQMWCjEA=",
          "dtype": "f4"
         },
         "yaxis": "y"
        },
        {
         "customdata": [
          [
           "102"
          ],
          [
           "102"
          ],
          [
           "102"
          ],
          [
           "102"
          ],
          [
           "102"
          ]
         ],
         "hovertemplate": "cluster=%{customdata[0]}<br>UMAP-1=%{x}<br>UMAP-2=%{y}<extra></extra>",
         "legendgroup": "102",
         "marker": {
          "color": "#E45756",
          "opacity": 0.8,
          "size": 8,
          "symbol": "circle"
         },
         "mode": "markers",
         "name": "102",
         "showlegend": true,
         "type": "scattergl",
         "x": {
          "bdata": "DKD8P1Wi/D9Dkvw/6Jr8P4md/D8=",
          "dtype": "f4"
         },
         "xaxis": "x",
         "y": {
          "bdata": "Ue69QLzuvUDr8L1ARu69QPruvUA=",
          "dtype": "f4"
         },
         "yaxis": "y"
        },
        {
         "customdata": [
          [
           "103"
          ],
          [
           "103"
          ],
          [
           "103"
          ],
          [
           "103"
          ],
          [
           "103"
          ]
         ],
         "hovertemplate": "cluster=%{customdata[0]}<br>UMAP-1=%{x}<br>UMAP-2=%{y}<extra></extra>",
         "legendgroup": "103",
         "marker": {
          "color": "#72B7B2",
          "opacity": 0.8,
          "size": 8,
          "symbol": "circle"
         },
         "mode": "markers",
         "name": "103",
         "showlegend": true,
         "type": "scattergl",
         "x": {
          "bdata": "okCiQGlBokC8P6JA6kCiQMpGokA=",
          "dtype": "f4"
         },
         "xaxis": "x",
         "y": {
          "bdata": "YL0hQVTAIUFPviFBRb8hQYK9IUE=",
          "dtype": "f4"
         },
         "yaxis": "y"
        },
        {
         "customdata": [
          [
           "104"
          ],
          [
           "104"
          ],
          [
           "104"
          ],
          [
           "104"
          ],
          [
           "104"
          ],
          [
           "104"
          ],
          [
           "104"
          ],
          [
           "104"
          ],
          [
           "104"
          ],
          [
           "104"
          ],
          [
           "104"
          ],
          [
           "104"
          ],
          [
           "104"
          ],
          [
           "104"
          ],
          [
           "104"
          ]
         ],
         "hovertemplate": "cluster=%{customdata[0]}<br>UMAP-1=%{x}<br>UMAP-2=%{y}<extra></extra>",
         "legendgroup": "104",
         "marker": {
          "color": "#54A24B",
          "opacity": 0.8,
          "size": 8,
          "symbol": "circle"
         },
         "mode": "markers",
         "name": "104",
         "showlegend": true,
         "type": "scattergl",
         "x": {
          "bdata": "+/YDQJxoA0DtUgNALmgDQFVHAkDhTQNAheICQA5KA0AJTANASPMCQJVMA0C9OQNAFgMCQFf2A0AFOgRA",
          "dtype": "f4"
         },
         "xaxis": "x",
         "y": {
          "bdata": "w43UQbqA1EEVftRBxYDUQfRb1EEmftRBIHHUQYZ91EE+ftRBIYjUQSZ/1EFbe9RBq1XUQfKT1EGdndRB",
          "dtype": "f4"
         },
         "yaxis": "y"
        },
        {
         "customdata": [
          [
           "105"
          ],
          [
           "105"
          ],
          [
           "105"
          ],
          [
           "105"
          ],
          [
           "105"
          ],
          [
           "105"
          ],
          [
           "105"
          ],
          [
           "105"
          ],
          [
           "105"
          ],
          [
           "105"
          ],
          [
           "105"
          ],
          [
           "105"
          ],
          [
           "105"
          ],
          [
           "105"
          ],
          [
           "105"
          ]
         ],
         "hovertemplate": "cluster=%{customdata[0]}<br>UMAP-1=%{x}<br>UMAP-2=%{y}<extra></extra>",
         "legendgroup": "105",
         "marker": {
          "color": "#EECA3B",
          "opacity": 0.8,
          "size": 8,
          "symbol": "circle"
         },
         "mode": "markers",
         "name": "105",
         "showlegend": true,
         "type": "scattergl",
         "x": {
          "bdata": "XnuzQEN7s0C/erNAx3qzQJpvs0DcNbNAUpGzQM+Es0AH4LNA+3e0QJSQs0DyirNAZI+zQK+Js0Czj7NA",
          "dtype": "f4"
         },
         "xaxis": "x",
         "y": {
          "bdata": "Tiq7QUoqu0EuKrtBKyq7QUYmu0FYGbtBjzG7QdAtu0HFRLtBeGq7QQQxu0GDL7tBoTC7QcMuu0GmMLtB",
          "dtype": "f4"
         },
         "yaxis": "y"
        },
        {
         "customdata": [
          [
           "106"
          ],
          [
           "106"
          ],
          [
           "106"
          ],
          [
           "106"
          ],
          [
           "106"
          ]
         ],
         "hovertemplate": "cluster=%{customdata[0]}<br>UMAP-1=%{x}<br>UMAP-2=%{y}<extra></extra>",
         "legendgroup": "106",
         "marker": {
          "color": "#B279A2",
          "opacity": 0.8,
          "size": 8,
          "symbol": "circle"
         },
         "mode": "markers",
         "name": "106",
         "showlegend": true,
         "type": "scattergl",
         "x": {
          "bdata": "6Es4QIxMOED8SzhAtks4QDhLOEA=",
          "dtype": "f4"
         },
         "xaxis": "x",
         "y": {
          "bdata": "z7csQUi3LEGVtyxBlrcsQRC3LEE=",
          "dtype": "f4"
         },
         "yaxis": "y"
        },
        {
         "customdata": [
          [
           "107"
          ],
          [
           "107"
          ],
          [
           "107"
          ],
          [
           "107"
          ],
          [
           "107"
          ]
         ],
         "hovertemplate": "cluster=%{customdata[0]}<br>UMAP-1=%{x}<br>UMAP-2=%{y}<extra></extra>",
         "legendgroup": "107",
         "marker": {
          "color": "#FF9DA6",
          "opacity": 0.8,
          "size": 8,
          "symbol": "circle"
         },
         "mode": "markers",
         "name": "107",
         "showlegend": true,
         "type": "scattergl",
         "x": {
          "bdata": "2mm+vjBsvr4Xab6+5mi+vlA7vr4=",
          "dtype": "f4"
         },
         "xaxis": "x",
         "y": {
          "bdata": "AZZ4QT+WeEEjlnhB45V4QVuSeEE=",
          "dtype": "f4"
         },
         "yaxis": "y"
        },
        {
         "customdata": [
          [
           "108"
          ],
          [
           "108"
          ],
          [
           "108"
          ],
          [
           "108"
          ],
          [
           "108"
          ],
          [
           "108"
          ],
          [
           "108"
          ],
          [
           "108"
          ],
          [
           "108"
          ],
          [
           "108"
          ]
         ],
         "hovertemplate": "cluster=%{customdata[0]}<br>UMAP-1=%{x}<br>UMAP-2=%{y}<extra></extra>",
         "legendgroup": "108",
         "marker": {
          "color": "#9D755D",
          "opacity": 0.8,
          "size": 8,
          "symbol": "circle"
         },
         "mode": "markers",
         "name": "108",
         "showlegend": true,
         "type": "scattergl",
         "x": {
          "bdata": "+gPCQEL7wUDmA8JAe1XCQEL2wUATC8JAivTBQM0FwkAEGMJAhQbCQA==",
          "dtype": "f4"
         },
         "xaxis": "x",
         "y": {
          "bdata": "j6eiQdGfokF+p6JBOLyiQYKxokEfq6JBt6SiQQmpokE6r6JBfqmiQQ==",
          "dtype": "f4"
         },
         "yaxis": "y"
        },
        {
         "customdata": [
          [
           "109"
          ],
          [
           "109"
          ],
          [
           "109"
          ],
          [
           "109"
          ],
          [
           "109"
          ],
          [
           "109"
          ],
          [
           "109"
          ],
          [
           "109"
          ],
          [
           "109"
          ],
          [
           "109"
          ]
         ],
         "hovertemplate": "cluster=%{customdata[0]}<br>UMAP-1=%{x}<br>UMAP-2=%{y}<extra></extra>",
         "legendgroup": "109",
         "marker": {
          "color": "#BAB0AC",
          "opacity": 0.8,
          "size": 8,
          "symbol": "circle"
         },
         "mode": "markers",
         "name": "109",
         "showlegend": true,
         "type": "scattergl",
         "x": {
          "bdata": "JkkSQZdOEkGhSRJBb0sSQeBPEkH3SRJB9EkSQdVJEkEgShJBHUoSQQ==",
          "dtype": "f4"
         },
         "xaxis": "x",
         "y": {
          "bdata": "rXxSQdeCUkH6fFJBk31SQZ9/UkFEfVJBzX1SQR99UkFGfVJBKn1SQQ==",
          "dtype": "f4"
         },
         "yaxis": "y"
        },
        {
         "customdata": [
          [
           "110"
          ],
          [
           "110"
          ],
          [
           "110"
          ],
          [
           "110"
          ],
          [
           "110"
          ],
          [
           "110"
          ],
          [
           "110"
          ],
          [
           "110"
          ],
          [
           "110"
          ],
          [
           "110"
          ]
         ],
         "hovertemplate": "cluster=%{customdata[0]}<br>UMAP-1=%{x}<br>UMAP-2=%{y}<extra></extra>",
         "legendgroup": "110",
         "marker": {
          "color": "#4C78A8",
          "opacity": 0.8,
          "size": 8,
          "symbol": "circle"
         },
         "mode": "markers",
         "name": "110",
         "showlegend": true,
         "type": "scattergl",
         "x": {
          "bdata": "yOa7P+lxuz9Qcbs/UWq7P5dluz9Nxbo/L2W7PzNmuz8Cabs/zmW7Pw==",
          "dtype": "f4"
         },
         "xaxis": "x",
         "y": {
          "bdata": "ayiGQUQthkFlLYZB3i2GQekuhkESNYZB6y2GQf8thkH4LYZB/i2GQQ==",
          "dtype": "f4"
         },
         "yaxis": "y"
        },
        {
         "customdata": [
          [
           "111"
          ],
          [
           "111"
          ],
          [
           "111"
          ],
          [
           "111"
          ],
          [
           "111"
          ]
         ],
         "hovertemplate": "cluster=%{customdata[0]}<br>UMAP-1=%{x}<br>UMAP-2=%{y}<extra></extra>",
         "legendgroup": "111",
         "marker": {
          "color": "#F58518",
          "opacity": 0.8,
          "size": 8,
          "symbol": "circle"
         },
         "mode": "markers",
         "name": "111",
         "showlegend": true,
         "type": "scattergl",
         "x": {
          "bdata": "CA4JQKYPCUB3HQlAORIJQK4SCUA=",
          "dtype": "f4"
         },
         "xaxis": "x",
         "y": {
          "bdata": "uvVjQMPzY0Cx5GNA/e9jQEDzY0A=",
          "dtype": "f4"
         },
         "yaxis": "y"
        },
        {
         "customdata": [
          [
           "112"
          ],
          [
           "112"
          ],
          [
           "112"
          ],
          [
           "112"
          ],
          [
           "112"
          ]
         ],
         "hovertemplate": "cluster=%{customdata[0]}<br>UMAP-1=%{x}<br>UMAP-2=%{y}<extra></extra>",
         "legendgroup": "112",
         "marker": {
          "color": "#E45756",
          "opacity": 0.8,
          "size": 8,
          "symbol": "circle"
         },
         "mode": "markers",
         "name": "112",
         "showlegend": true,
         "type": "scattergl",
         "x": {
          "bdata": "LbWsQGe0rECus6xAtp+sQN2vrEA=",
          "dtype": "f4"
         },
         "xaxis": "x",
         "y": {
          "bdata": "IPAyQXvvMkF67jJBW/QyQZrwMkE=",
          "dtype": "f4"
         },
         "yaxis": "y"
        },
        {
         "customdata": [
          [
           "113"
          ],
          [
           "113"
          ],
          [
           "113"
          ],
          [
           "113"
          ],
          [
           "113"
          ]
         ],
         "hovertemplate": "cluster=%{customdata[0]}<br>UMAP-1=%{x}<br>UMAP-2=%{y}<extra></extra>",
         "legendgroup": "113",
         "marker": {
          "color": "#72B7B2",
          "opacity": 0.8,
          "size": 8,
          "symbol": "circle"
         },
         "mode": "markers",
         "name": "113",
         "showlegend": true,
         "type": "scattergl",
         "x": {
          "bdata": "OncjwCtmI8CrbiPAoX0jwPduI8A=",
          "dtype": "f4"
         },
         "xaxis": "x",
         "y": {
          "bdata": "Fcn/QHHE/0Bwwv9Aisj/QInG/0A=",
          "dtype": "f4"
         },
         "yaxis": "y"
        },
        {
         "customdata": [
          [
           "114"
          ],
          [
           "114"
          ],
          [
           "114"
          ],
          [
           "114"
          ],
          [
           "114"
          ],
          [
           "114"
          ],
          [
           "114"
          ],
          [
           "114"
          ],
          [
           "114"
          ],
          [
           "114"
          ],
          [
           "114"
          ],
          [
           "114"
          ],
          [
           "114"
          ],
          [
           "114"
          ],
          [
           "114"
          ],
          [
           "114"
          ],
          [
           "114"
          ],
          [
           "114"
          ]
         ],
         "hovertemplate": "cluster=%{customdata[0]}<br>UMAP-1=%{x}<br>UMAP-2=%{y}<extra></extra>",
         "legendgroup": "114",
         "marker": {
          "color": "#54A24B",
          "opacity": 0.8,
          "size": 8,
          "symbol": "circle"
         },
         "mode": "markers",
         "name": "114",
         "showlegend": true,
         "type": "scattergl",
         "x": {
          "bdata": "MKOZQVnAmUEDl5lBGZ2ZQQGZmUHunZlBXa+ZQWOemUEOlZlBzZ2ZQRyemUExoJlBhqCZQXWemUFqm5lBemOZQWOcmUHim5lB",
          "dtype": "f4"
         },
         "xaxis": "x",
         "y": {
          "bdata": "aYQ+wMuNPcDx5z7AFbQ+wKzSPsC7rT7AryE+wI6pPsDj8T7A7Lg+wCCuPsCtkj7Aoo4+wIqqPsDYwz7A/olAwBy6PsD+vD7A",
          "dtype": "f4"
         },
         "yaxis": "y"
        },
        {
         "customdata": [
          [
           "115"
          ],
          [
           "115"
          ],
          [
           "115"
          ],
          [
           "115"
          ],
          [
           "115"
          ],
          [
           "115"
          ],
          [
           "115"
          ],
          [
           "115"
          ],
          [
           "115"
          ],
          [
           "115"
          ],
          [
           "115"
          ],
          [
           "115"
          ],
          [
           "115"
          ],
          [
           "115"
          ],
          [
           "115"
          ],
          [
           "115"
          ],
          [
           "115"
          ],
          [
           "115"
          ],
          [
           "115"
          ],
          [
           "115"
          ],
          [
           "115"
          ],
          [
           "115"
          ],
          [
           "115"
          ],
          [
           "115"
          ],
          [
           "115"
          ],
          [
           "115"
          ],
          [
           "115"
          ],
          [
           "115"
          ],
          [
           "115"
          ],
          [
           "115"
          ],
          [
           "115"
          ],
          [
           "115"
          ],
          [
           "115"
          ],
          [
           "115"
          ],
          [
           "115"
          ],
          [
           "115"
          ],
          [
           "115"
          ],
          [
           "115"
          ],
          [
           "115"
          ],
          [
           "115"
          ],
          [
           "115"
          ],
          [
           "115"
          ],
          [
           "115"
          ],
          [
           "115"
          ],
          [
           "115"
          ],
          [
           "115"
          ],
          [
           "115"
          ]
         ],
         "hovertemplate": "cluster=%{customdata[0]}<br>UMAP-1=%{x}<br>UMAP-2=%{y}<extra></extra>",
         "legendgroup": "115",
         "marker": {
          "color": "#EECA3B",
          "opacity": 0.8,
          "size": 8,
          "symbol": "circle"
         },
         "mode": "markers",
         "name": "115",
         "showlegend": true,
         "type": "scattergl",
         "x": {
          "bdata": "MUzHQQ0ux0HtP8dBxkPHQXo+x0GoQMdBlETHQdlCx0F4G8dBYjPHQUkax0E9I8dBGtDFQZs9x0FLMcdBrEjHQRFPxkH+CsdBkYjHQa4gx0EBFsVBK6jDQeIhxUFzn8NBRyDFQXy5w0HmJsVBmKzDQeUZxUHap8NBDyHFQXShw0F6CcRBRKTDQWN6xEF6pcNByT/FQZ6kw0H0P8VB7nbDQdMkxUEancNBjkPFQT6Ww0EZP8VB8KLDQS4ux0E=",
          "dtype": "f4"
         },
         "xaxis": "x",
         "y": {
          "bdata": "d2ejwSlJo8EWW6PB/V6jwaxZo8HdW6PBvV+jwUZeo8GNNqPBjE6jwU01o8E+PqPBl+ehweBYo8FhTKPBzmOjwRtnosEHJqPBnqOjwbQ7o8FgKqHBgLmfwUw2ocGysJ/BqzShwc7Kn8FkO6HB772fwXIuocEnuZ/BUTWhwbGyn8EQHKDBhbWfwTGNoMHEtp/BilShwc21n8GqVKHBzYefwSg5ocFfrp/BUVihwZunn8GcU6HBRrSfwVRJo8E=",
          "dtype": "f4"
         },
         "yaxis": "y"
        },
        {
         "customdata": [
          [
           "116"
          ],
          [
           "116"
          ],
          [
           "116"
          ],
          [
           "116"
          ],
          [
           "116"
          ],
          [
           "116"
          ],
          [
           "116"
          ],
          [
           "116"
          ],
          [
           "116"
          ],
          [
           "116"
          ],
          [
           "116"
          ],
          [
           "116"
          ],
          [
           "116"
          ],
          [
           "116"
          ],
          [
           "116"
          ],
          [
           "116"
          ],
          [
           "116"
          ],
          [
           "116"
          ],
          [
           "116"
          ],
          [
           "116"
          ],
          [
           "116"
          ],
          [
           "116"
          ],
          [
           "116"
          ],
          [
           "116"
          ],
          [
           "116"
          ],
          [
           "116"
          ],
          [
           "116"
          ],
          [
           "116"
          ],
          [
           "116"
          ],
          [
           "116"
          ],
          [
           "116"
          ]
         ],
         "hovertemplate": "cluster=%{customdata[0]}<br>UMAP-1=%{x}<br>UMAP-2=%{y}<extra></extra>",
         "legendgroup": "116",
         "marker": {
          "color": "#B279A2",
          "opacity": 0.8,
          "size": 8,
          "symbol": "circle"
         },
         "mode": "markers",
         "name": "116",
         "showlegend": true,
         "type": "scattergl",
         "x": {
          "bdata": "QgoRQlETEUKvDRFCjBkRQpsBEUJCDhFCYPIQQkUNEUJcNhFCRe0QQmwCEUKDHBFCJfcQQuYKEUJO7xBC5QoRQnL4EELARhFCuykRQsANEULjXxFCwIoRQhNiEUL0ZBFCXn0RQldjEUJxexFCAXsRQvmMEUJpgBFCDGwRQg==",
          "dtype": "f4"
         },
         "xaxis": "x",
         "y": {
          "bdata": "DPeNwLqujcD3243AQ32NwHE8jsBS143ArLaOwAjfjcAYl4zAZt+OwEw2jsDdZY3ArJCOwMDyjcBVz47Az/KNwIOGjsA6FIzAqPyMwErcjcC+SovA8vOJwJw5i8DAIovAJl+KwEkvi8BKb4rAFnKKwEriicDERYrAyumKwA==",
          "dtype": "f4"
         },
         "yaxis": "y"
        },
        {
         "customdata": [
          [
           "117"
          ],
          [
           "117"
          ],
          [
           "117"
          ],
          [
           "117"
          ],
          [
           "117"
          ],
          [
           "117"
          ],
          [
           "117"
          ],
          [
           "117"
          ],
          [
           "117"
          ],
          [
           "117"
          ],
          [
           "117"
          ],
          [
           "117"
          ],
          [
           "117"
          ],
          [
           "117"
          ],
          [
           "117"
          ],
          [
           "117"
          ],
          [
           "117"
          ],
          [
           "117"
          ],
          [
           "117"
          ],
          [
           "117"
          ],
          [
           "117"
          ],
          [
           "117"
          ],
          [
           "117"
          ],
          [
           "117"
          ],
          [
           "117"
          ],
          [
           "117"
          ],
          [
           "117"
          ],
          [
           "117"
          ],
          [
           "117"
          ],
          [
           "117"
          ],
          [
           "117"
          ],
          [
           "117"
          ],
          [
           "117"
          ]
         ],
         "hovertemplate": "cluster=%{customdata[0]}<br>UMAP-1=%{x}<br>UMAP-2=%{y}<extra></extra>",
         "legendgroup": "117",
         "marker": {
          "color": "#FF9DA6",
          "opacity": 0.8,
          "size": 8,
          "symbol": "circle"
         },
         "mode": "markers",
         "name": "117",
         "showlegend": true,
         "type": "scattergl",
         "x": {
          "bdata": "btRsQSSSa0GT3mxB/m1tQUEdbUEL0WxBJOJsQX7gbEEg82xBueFsQSz6bEECDW1BZBJtQSUNbUHZw2xB5iptQQbsbEFAeG1Bhw1tQTLBakGM3WlBz6hpQfJOaUGWsmlB8lBpQUh1aUGzgWlBlp9pQZqyaUGUY2lBkk5pQTc8aUGJHGlB",
          "dtype": "f4"
         },
         "xaxis": "x",
         "y": {
          "bdata": "wPwtQeLALEEgBy5BN5YuQQ9OLkGKAS5BZAsuQZ4ILkH7GS5BFQouQUwfLkG8NC5ByzkuQW82LkE76i1Bt1UuQZMTLkFcnS5BijIuQYTwK0ELEitBzd4qQQmEKkEp5ypB/YsqQYGrKkEEtypBmNQqQQPoKkGimipBZYUqQRh0KkH1UipB",
          "dtype": "f4"
         },
         "yaxis": "y"
        },
        {
         "customdata": [
          [
           "118"
          ],
          [
           "118"
          ],
          [
           "118"
          ],
          [
           "118"
          ],
          [
           "118"
          ],
          [
           "118"
          ],
          [
           "118"
          ],
          [
           "118"
          ],
          [
           "118"
          ],
          [
           "118"
          ],
          [
           "118"
          ],
          [
           "118"
          ],
          [
           "118"
          ],
          [
           "118"
          ],
          [
           "118"
          ],
          [
           "118"
          ],
          [
           "118"
          ],
          [
           "118"
          ],
          [
           "118"
          ],
          [
           "118"
          ],
          [
           "118"
          ],
          [
           "118"
          ],
          [
           "118"
          ],
          [
           "118"
          ],
          [
           "118"
          ],
          [
           "118"
          ],
          [
           "118"
          ],
          [
           "118"
          ],
          [
           "118"
          ],
          [
           "118"
          ],
          [
           "118"
          ],
          [
           "118"
          ],
          [
           "118"
          ],
          [
           "118"
          ],
          [
           "118"
          ],
          [
           "118"
          ],
          [
           "118"
          ],
          [
           "118"
          ],
          [
           "118"
          ],
          [
           "118"
          ],
          [
           "118"
          ],
          [
           "118"
          ],
          [
           "118"
          ],
          [
           "118"
          ],
          [
           "118"
          ],
          [
           "118"
          ],
          [
           "118"
          ],
          [
           "118"
          ],
          [
           "118"
          ],
          [
           "118"
          ],
          [
           "118"
          ],
          [
           "118"
          ],
          [
           "118"
          ],
          [
           "118"
          ],
          [
           "118"
          ],
          [
           "118"
          ],
          [
           "118"
          ],
          [
           "118"
          ],
          [
           "118"
          ],
          [
           "118"
          ],
          [
           "118"
          ],
          [
           "118"
          ],
          [
           "118"
          ],
          [
           "118"
          ],
          [
           "118"
          ],
          [
           "118"
          ],
          [
           "118"
          ],
          [
           "118"
          ],
          [
           "118"
          ],
          [
           "118"
          ],
          [
           "118"
          ],
          [
           "118"
          ],
          [
           "118"
          ],
          [
           "118"
          ],
          [
           "118"
          ],
          [
           "118"
          ],
          [
           "118"
          ],
          [
           "118"
          ],
          [
           "118"
          ],
          [
           "118"
          ]
         ],
         "hovertemplate": "cluster=%{customdata[0]}<br>UMAP-1=%{x}<br>UMAP-2=%{y}<extra></extra>",
         "legendgroup": "118",
         "marker": {
          "color": "#9D755D",
          "opacity": 0.8,
          "size": 8,
          "symbol": "circle"
         },
         "mode": "markers",
         "name": "118",
         "showlegend": true,
         "type": "scattergl",
         "x": {
          "bdata": "axwAQo0BAEI2//9BgYr/QRQWAEJQPABCBP3/QaMuAEInpABCLDkAQpwMAELi1v9B2AsAQq70/0EIDgBCmQUAQicCAEITLQBCT/j/QQgIAEKAJQBC4+D/QdAVAEL1k/9BwRgAQuYkAEJjJwBCS6b/QT4YAEIbof9BfiUAQpCj/0FZCQBClJ7/QTYUAEI+pv9BXCMAQvbH/0GlHQBC2O3/QUtEAEKgn/9B/aMBQsDO/kExkAFC/Pr+QUCaAUKQB/9BhIIBQuUD/0GqoQFCjv3+QTibAULQR/9BTpwBQkI9/0GAlAFCAuj+QfiuAUKmBP9BocYBQuD+/kEAsAFCivj+QbKbAUIxyP5BYKYBQiYB/0FFkgFCA+D+QUZpAELcZQBCV3wAQnFiAEKPbgBCxlsAQi9ZAEKqaQBC8i0AQi1wAEI=",
          "dtype": "f4"
         },
         "xaxis": "x",
         "y": {
          "bdata": "LwFHQOSgSECviEhAn2ReQNyiRkA6+ENA5ApJQG78REBDWj5AVP1DQG+nR0CnK0pAbtpHQBm9SEAepkdAQMBIQIgzSEBVvkVA+btIQCGxR0CdmYRA6suBQPgthECYX39ANDuEQB/1g0DF3IRAx8h/QBiPhEDiu39AtY6EQEbTf0B3tIRAtwCAQOtLhEAg6n9APcGEQC94gUDchoRAt42CQP88hkD32X9A5xExQKG5ckAcPTJAH9ZzQKyKMUC3wnZA0fkyQFVUdECxvjBAht11QFWJMUB4a3lAp3QxQOjXeED73DFAZbBzQFBgMEAgOXRAWbguQBdddEBWHTBAJ9VzQJF2MUAF/HFAtsQwQHNVdEBBIzJAC41yQKmTQEBNvEBAFGk/QKLAQECwAkBAIglBQNm1QED/KkBAfjBEQKcFQEA=",
          "dtype": "f4"
         },
         "yaxis": "y"
        },
        {
         "customdata": [
          [
           "119"
          ],
          [
           "119"
          ],
          [
           "119"
          ],
          [
           "119"
          ],
          [
           "119"
          ],
          [
           "119"
          ],
          [
           "119"
          ],
          [
           "119"
          ],
          [
           "119"
          ],
          [
           "119"
          ],
          [
           "119"
          ],
          [
           "119"
          ]
         ],
         "hovertemplate": "cluster=%{customdata[0]}<br>UMAP-1=%{x}<br>UMAP-2=%{y}<extra></extra>",
         "legendgroup": "119",
         "marker": {
          "color": "#BAB0AC",
          "opacity": 0.8,
          "size": 8,
          "symbol": "circle"
         },
         "mode": "markers",
         "name": "119",
         "showlegend": true,
         "type": "scattergl",
         "x": {
          "bdata": "lmrHQaRqx0E6XcdBGWrHQV5ox0HVacdBP1vHQZJpx0HHacdBtGrHQYB3x0F+U8dB",
          "dtype": "f4"
         },
         "xaxis": "x",
         "y": {
          "bdata": "/x4YQckeGEHPKRhBRB8YQb8dGEFMIBhBkSoYQX8gGEE7IBhBpB8YQbYQGEEcVBhB",
          "dtype": "f4"
         },
         "yaxis": "y"
        },
        {
         "customdata": [
          [
           "120"
          ],
          [
           "120"
          ],
          [
           "120"
          ],
          [
           "120"
          ],
          [
           "120"
          ],
          [
           "120"
          ],
          [
           "120"
          ],
          [
           "120"
          ],
          [
           "120"
          ],
          [
           "120"
          ],
          [
           "120"
          ],
          [
           "120"
          ],
          [
           "120"
          ],
          [
           "120"
          ],
          [
           "120"
          ],
          [
           "120"
          ],
          [
           "120"
          ],
          [
           "120"
          ],
          [
           "120"
          ],
          [
           "120"
          ],
          [
           "120"
          ],
          [
           "120"
          ],
          [
           "120"
          ],
          [
           "120"
          ],
          [
           "120"
          ],
          [
           "120"
          ],
          [
           "120"
          ],
          [
           "120"
          ],
          [
           "120"
          ],
          [
           "120"
          ],
          [
           "120"
          ],
          [
           "120"
          ],
          [
           "120"
          ],
          [
           "120"
          ],
          [
           "120"
          ],
          [
           "120"
          ],
          [
           "120"
          ],
          [
           "120"
          ]
         ],
         "hovertemplate": "cluster=%{customdata[0]}<br>UMAP-1=%{x}<br>UMAP-2=%{y}<extra></extra>",
         "legendgroup": "120",
         "marker": {
          "color": "#4C78A8",
          "opacity": 0.8,
          "size": 8,
          "symbol": "circle"
         },
         "mode": "markers",
         "name": "120",
         "showlegend": true,
         "type": "scattergl",
         "x": {
          "bdata": "kDSzQbYPs0E8GrJBBAWyQWwAskERurFBnaSxQfoEskH2FrJB7hayQRggskFt4bFBo4exQQzis0FQY7FB1hS0QXhjsUE5H7RBXDuxQbMWtEH8ObFB5OezQSaQsUFL27NBwHyxQerjs0FBCrFBA+CzQfX7sEFD8LNBKmGxQUvWs0GMPrFBf9SzQW1isUFc+7NBkkKxQU0atEE=",
          "dtype": "f4"
         },
         "xaxis": "x",
         "y": {
          "bdata": "ImrGwDbWxcCfA8LA/K7BwMibwcDRg8DAzSzAwP6twcCE9sHAWvbBwMUbwsCuIMHALbm/wD8eycC8KL/APOnJwE8qv8BUEsrAXIm+wMTwycBFhL7AKjXJwODbv8DdA8nAbY2/wDYkycCTxL3AURbJwNiKvcDjVcnAFiC/wKjvyMCRlb7AJ+jIwFskv8Bgg8nAn6W+wPD9ycA=",
          "dtype": "f4"
         },
         "yaxis": "y"
        },
        {
         "customdata": [
          [
           "121"
          ],
          [
           "121"
          ],
          [
           "121"
          ],
          [
           "121"
          ],
          [
           "121"
          ],
          [
           "121"
          ],
          [
           "121"
          ],
          [
           "121"
          ],
          [
           "121"
          ],
          [
           "121"
          ],
          [
           "121"
          ],
          [
           "121"
          ],
          [
           "121"
          ],
          [
           "121"
          ],
          [
           "121"
          ],
          [
           "121"
          ],
          [
           "121"
          ],
          [
           "121"
          ],
          [
           "121"
          ],
          [
           "121"
          ],
          [
           "121"
          ],
          [
           "121"
          ],
          [
           "121"
          ],
          [
           "121"
          ],
          [
           "121"
          ],
          [
           "121"
          ],
          [
           "121"
          ],
          [
           "121"
          ],
          [
           "121"
          ],
          [
           "121"
          ],
          [
           "121"
          ],
          [
           "121"
          ],
          [
           "121"
          ],
          [
           "121"
          ],
          [
           "121"
          ],
          [
           "121"
          ],
          [
           "121"
          ],
          [
           "121"
          ],
          [
           "121"
          ],
          [
           "121"
          ],
          [
           "121"
          ],
          [
           "121"
          ],
          [
           "121"
          ],
          [
           "121"
          ],
          [
           "121"
          ],
          [
           "121"
          ],
          [
           "121"
          ],
          [
           "121"
          ],
          [
           "121"
          ],
          [
           "121"
          ],
          [
           "121"
          ],
          [
           "121"
          ],
          [
           "121"
          ],
          [
           "121"
          ],
          [
           "121"
          ],
          [
           "121"
          ],
          [
           "121"
          ],
          [
           "121"
          ],
          [
           "121"
          ],
          [
           "121"
          ],
          [
           "121"
          ],
          [
           "121"
          ],
          [
           "121"
          ],
          [
           "121"
          ],
          [
           "121"
          ],
          [
           "121"
          ],
          [
           "121"
          ],
          [
           "121"
          ],
          [
           "121"
          ],
          [
           "121"
          ],
          [
           "121"
          ],
          [
           "121"
          ],
          [
           "121"
          ],
          [
           "121"
          ],
          [
           "121"
          ],
          [
           "121"
          ],
          [
           "121"
          ],
          [
           "121"
          ],
          [
           "121"
          ],
          [
           "121"
          ],
          [
           "121"
          ],
          [
           "121"
          ],
          [
           "121"
          ],
          [
           "121"
          ],
          [
           "121"
          ],
          [
           "121"
          ],
          [
           "121"
          ],
          [
           "121"
          ],
          [
           "121"
          ],
          [
           "121"
          ],
          [
           "121"
          ],
          [
           "121"
          ],
          [
           "121"
          ],
          [
           "121"
          ],
          [
           "121"
          ],
          [
           "121"
          ],
          [
           "121"
          ],
          [
           "121"
          ],
          [
           "121"
          ],
          [
           "121"
          ],
          [
           "121"
          ],
          [
           "121"
          ],
          [
           "121"
          ],
          [
           "121"
          ],
          [
           "121"
          ],
          [
           "121"
          ],
          [
           "121"
          ],
          [
           "121"
          ],
          [
           "121"
          ],
          [
           "121"
          ]
         ],
         "hovertemplate": "cluster=%{customdata[0]}<br>UMAP-1=%{x}<br>UMAP-2=%{y}<extra></extra>",
         "legendgroup": "121",
         "marker": {
          "color": "#F58518",
          "opacity": 0.8,
          "size": 8,
          "symbol": "circle"
         },
         "mode": "markers",
         "name": "121",
         "showlegend": true,
         "type": "scattergl",
         "x": {
          "bdata": "9e6hQVGFokFhI6JBlx2iQb4ZokHDC6JBTECiQSMTokEULaJBDDeiQT6FoUEmFaJBK8ejQTnAo0GF4KNBXc6jQZRspEGGzaNBc72jQbzlo0G+zaNBCdOjQUCxo0HoyqNBCLijQQLpo0E39KJBgf+iQdqwnUG686RBDqymQfPcokE+RaNBS5+dQTrbpEEwsaZB6N2iQRDmokGxf51B9vykQSmmpkHY4KJBHPiiQayNnUFo+aRBRbCmQYsFo0HxEqNBbnqdQcTdpEGLvqZBNgijQen0okHonp1B8++kQQqypkHm6KJBNvaiQV2AnUHl2qRBhsqmQcj6okE4AqNBko+dQZf3pEEEs6ZBugOjQbgJo0FJfJ1BZtGkQUS8pkFU9qJBRfmiQZB4nUGP/6RBzLmmQZf6okE45aJBCJqdQQi+pUHFtaZBVf6iQUMXo0Fllp1Bk++kQRuxpkFqG6NBdPuiQSB3nUFO0aRBZ+umQcH9okHDGaNBFHedQRHppEGUzaZB3mqhQSYsoUFYLaFB10uhQXDXn0HkcKFBFV6hQc9ZoUHkRKFB6EihQWgsoUEpB6FBDSOhQZ8GokE=",
          "dtype": "f4"
         },
         "xaxis": "x",
         "y": {
          "bdata": "EK6qQDtkokCWwqlAueypQAtGqkDeSKpAJBypQKoRqkAm2qlAzImpQNnrrUCNt6tAnk/XQFNT10AD19dARa/XQNLm30AXmtdAFyrYQB0y2EDTuddA/vbXQFb31kDGhtdAnDHXQD9B2EAZBpxAWhPFQOZerkA5ueZAY/PyQPRpnECxFMxAUKCuQEt05kAY+vJAhW6cQO3ZxEA7mK5AMA3nQHvE8kB9UZxAax3FQLmPrkDH6+ZAmPTyQJJem0CYm8VAFDSuQEJd5kC8bfNAjIObQGv3xEDsga5AkuXmQH0G80CWJZxAs+vEQD6GrkBncuZAynjzQAPim0CQP8VArJauQOft5kDQC/NAoFubQFt0xUD7nK5AsGrmQL5T80CEVJxA8AnFQC4Jr0Cyb+dAeTvzQF2qm0DXvsRAwriuQOaj7ECILfNAJtebQPSbxUA/jq5A2+LmQEL58kBegpxAnAPFQKOHrkC9PudABwL0QNvGm0DmjsVAkieuQOud5kA4pPNAeT6uQPHnr0CloK9Az5CvQEEfr0AvTa5AC5CuQBpKr0Drjq9Aw3CvQIjkr0BdV7BAsfSvQJt1uUA=",
          "dtype": "f4"
         },
         "yaxis": "y"
        },
        {
         "customdata": [
          [
           "122"
          ],
          [
           "122"
          ],
          [
           "122"
          ],
          [
           "122"
          ],
          [
           "122"
          ],
          [
           "122"
          ],
          [
           "122"
          ],
          [
           "122"
          ],
          [
           "122"
          ],
          [
           "122"
          ],
          [
           "122"
          ],
          [
           "122"
          ],
          [
           "122"
          ],
          [
           "122"
          ],
          [
           "122"
          ],
          [
           "122"
          ],
          [
           "122"
          ],
          [
           "122"
          ],
          [
           "122"
          ],
          [
           "122"
          ],
          [
           "122"
          ],
          [
           "122"
          ],
          [
           "122"
          ],
          [
           "122"
          ],
          [
           "122"
          ],
          [
           "122"
          ],
          [
           "122"
          ],
          [
           "122"
          ],
          [
           "122"
          ],
          [
           "122"
          ],
          [
           "122"
          ],
          [
           "122"
          ],
          [
           "122"
          ],
          [
           "122"
          ]
         ],
         "hovertemplate": "cluster=%{customdata[0]}<br>UMAP-1=%{x}<br>UMAP-2=%{y}<extra></extra>",
         "legendgroup": "122",
         "marker": {
          "color": "#E45756",
          "opacity": 0.8,
          "size": 8,
          "symbol": "circle"
         },
         "mode": "markers",
         "name": "122",
         "showlegend": true,
         "type": "scattergl",
         "x": {
          "bdata": "UrPnQRxe50EB1OdBAJfnQWbI50EEH+dBFKfnQZcv50FdGOdBTZTnQf5p50GMi+dB8qPmQU+y5kEzquZBwaPmQd2+5kG4y+ZBDLDmQYqf5kEAgeZBvYHmQTmv5kH2v+dB9O7nQaXR50HW8OdBIBDoQZoa6EFpwudBd+7nQeIm6EH96udBZhroQQ==",
          "dtype": "f4"
         },
         "xaxis": "x",
         "y": {
          "bdata": "+/SWwIaglcDXd5fATYOWwD5Jl8CYpJTATMSWwKTmlMANipTAVHiWwOzPlcAwVZbAcriSwDfyksCC0ZLAZ7iSwDAkk8DIV5PAQuiSwKamksB4K5LAgC+SwEDkksCvJ5fA++KXwAtul8A865fAVmiYwAyUmMA+MJfAB+GXwBvDmMAo1JfAt5CYwA==",
          "dtype": "f4"
         },
         "yaxis": "y"
        },
        {
         "customdata": [
          [
           "123"
          ],
          [
           "123"
          ],
          [
           "123"
          ],
          [
           "123"
          ],
          [
           "123"
          ],
          [
           "123"
          ],
          [
           "123"
          ],
          [
           "123"
          ],
          [
           "123"
          ],
          [
           "123"
          ],
          [
           "123"
          ],
          [
           "123"
          ]
         ],
         "hovertemplate": "cluster=%{customdata[0]}<br>UMAP-1=%{x}<br>UMAP-2=%{y}<extra></extra>",
         "legendgroup": "123",
         "marker": {
          "color": "#72B7B2",
          "opacity": 0.8,
          "size": 8,
          "symbol": "circle"
         },
         "mode": "markers",
         "name": "123",
         "showlegend": true,
         "type": "scattergl",
         "x": {
          "bdata": "kDqmQSpTpkHwU6ZBa1KmQQRQpkGKVKZBcU+mQQdUpkH0SKZBAmumQTJUpkFkU6ZB",
          "dtype": "f4"
         },
         "xaxis": "x",
         "y": {
          "bdata": "fzOsP+REqj8gNKo/LWKqP9aLqj+nMKo/N6uqP389qj/gDas/NMeoP540qj+OSao/",
          "dtype": "f4"
         },
         "yaxis": "y"
        },
        {
         "customdata": [
          [
           "124"
          ],
          [
           "124"
          ],
          [
           "124"
          ],
          [
           "124"
          ],
          [
           "124"
          ],
          [
           "124"
          ],
          [
           "124"
          ],
          [
           "124"
          ],
          [
           "124"
          ],
          [
           "124"
          ],
          [
           "124"
          ],
          [
           "124"
          ],
          [
           "124"
          ],
          [
           "124"
          ],
          [
           "124"
          ],
          [
           "124"
          ],
          [
           "124"
          ],
          [
           "124"
          ],
          [
           "124"
          ],
          [
           "124"
          ],
          [
           "124"
          ],
          [
           "124"
          ],
          [
           "124"
          ],
          [
           "124"
          ],
          [
           "124"
          ]
         ],
         "hovertemplate": "cluster=%{customdata[0]}<br>UMAP-1=%{x}<br>UMAP-2=%{y}<extra></extra>",
         "legendgroup": "124",
         "marker": {
          "color": "#54A24B",
          "opacity": 0.8,
          "size": 8,
          "symbol": "circle"
         },
         "mode": "markers",
         "name": "124",
         "showlegend": true,
         "type": "scattergl",
         "x": {
          "bdata": "Sn8+QVifPkGMsD5Bxd4+QUHLPkGWxj5BHZ1AQUibPkHWHj5BDtY+QS5wQEH7Wz5BbhFBQTqMQEE2AEFBOpZAQT+UQEGUuEBBKsdAQb+2QEFocUBB4GZAQXLpQEF4tkBBpSlBQQ==",
          "dtype": "f4"
         },
         "xaxis": "x",
         "y": {
          "bdata": "YNyGQF4ch0DgPYdAPZ2HQOJyh0DoaodAtBSLQEgSh0AUGoZAf4iHQPO5ikDVlIZApvmLQJzwikCy14tAQAWLQBABi0BVR4tA8mOLQE9Gi0BAv4pAOqeKQAiui0D0RotAxyuMQA==",
          "dtype": "f4"
         },
         "yaxis": "y"
        },
        {
         "customdata": [
          [
           "125"
          ],
          [
           "125"
          ],
          [
           "125"
          ],
          [
           "125"
          ],
          [
           "125"
          ],
          [
           "125"
          ],
          [
           "125"
          ],
          [
           "125"
          ],
          [
           "125"
          ],
          [
           "125"
          ],
          [
           "125"
          ],
          [
           "125"
          ]
         ],
         "hovertemplate": "cluster=%{customdata[0]}<br>UMAP-1=%{x}<br>UMAP-2=%{y}<extra></extra>",
         "legendgroup": "125",
         "marker": {
          "color": "#EECA3B",
          "opacity": 0.8,
          "size": 8,
          "symbol": "circle"
         },
         "mode": "markers",
         "name": "125",
         "showlegend": true,
         "type": "scattergl",
         "x": {
          "bdata": "ygOeQYYEnkF8Cp5BEsGdQRj+nUE+Ap5BQwKeQfABnkG8AZ5BYwGeQVQBnkE8/p1B",
          "dtype": "f4"
         },
         "xaxis": "x",
         "y": {
          "bdata": "Cyx9QZolfUGxOX1Ba5d8QbwifUFhKH1B/yd9QR8ofUHMJ31BKCd9QdMmfUHYDH1B",
          "dtype": "f4"
         },
         "yaxis": "y"
        },
        {
         "customdata": [
          [
           "126"
          ],
          [
           "126"
          ],
          [
           "126"
          ],
          [
           "126"
          ],
          [
           "126"
          ],
          [
           "126"
          ],
          [
           "126"
          ],
          [
           "126"
          ],
          [
           "126"
          ],
          [
           "126"
          ],
          [
           "126"
          ],
          [
           "126"
          ]
         ],
         "hovertemplate": "cluster=%{customdata[0]}<br>UMAP-1=%{x}<br>UMAP-2=%{y}<extra></extra>",
         "legendgroup": "126",
         "marker": {
          "color": "#B279A2",
          "opacity": 0.8,
          "size": 8,
          "symbol": "circle"
         },
         "mode": "markers",
         "name": "126",
         "showlegend": true,
         "type": "scattergl",
         "x": {
          "bdata": "uizxQPrn8UA85/FA0enxQCjn8UDHMvJAjurxQEfq8UDD6vFA2urxQMDo8UAP3vFA",
          "dtype": "f4"
         },
         "xaxis": "x",
         "y": {
          "bdata": "AiklQaSHJUGOhyVBsIclQf+IJUFprSVBeIglQW+IJUF1iCVBy4glQayHJUGSfCVB",
          "dtype": "f4"
         },
         "yaxis": "y"
        },
        {
         "customdata": [
          [
           "127"
          ],
          [
           "127"
          ],
          [
           "127"
          ],
          [
           "127"
          ],
          [
           "127"
          ],
          [
           "127"
          ],
          [
           "127"
          ],
          [
           "127"
          ],
          [
           "127"
          ],
          [
           "127"
          ],
          [
           "127"
          ],
          [
           "127"
          ],
          [
           "127"
          ],
          [
           "127"
          ],
          [
           "127"
          ],
          [
           "127"
          ],
          [
           "127"
          ],
          [
           "127"
          ],
          [
           "127"
          ],
          [
           "127"
          ],
          [
           "127"
          ],
          [
           "127"
          ],
          [
           "127"
          ],
          [
           "127"
          ],
          [
           "127"
          ],
          [
           "127"
          ],
          [
           "127"
          ],
          [
           "127"
          ],
          [
           "127"
          ],
          [
           "127"
          ],
          [
           "127"
          ],
          [
           "127"
          ],
          [
           "127"
          ],
          [
           "127"
          ],
          [
           "127"
          ],
          [
           "127"
          ],
          [
           "127"
          ],
          [
           "127"
          ],
          [
           "127"
          ],
          [
           "127"
          ],
          [
           "127"
          ],
          [
           "127"
          ],
          [
           "127"
          ],
          [
           "127"
          ],
          [
           "127"
          ],
          [
           "127"
          ],
          [
           "127"
          ],
          [
           "127"
          ],
          [
           "127"
          ],
          [
           "127"
          ],
          [
           "127"
          ],
          [
           "127"
          ],
          [
           "127"
          ],
          [
           "127"
          ],
          [
           "127"
          ],
          [
           "127"
          ],
          [
           "127"
          ],
          [
           "127"
          ],
          [
           "127"
          ],
          [
           "127"
          ],
          [
           "127"
          ],
          [
           "127"
          ]
         ],
         "hovertemplate": "cluster=%{customdata[0]}<br>UMAP-1=%{x}<br>UMAP-2=%{y}<extra></extra>",
         "legendgroup": "127",
         "marker": {
          "color": "#FF9DA6",
          "opacity": 0.8,
          "size": 8,
          "symbol": "circle"
         },
         "mode": "markers",
         "name": "127",
         "showlegend": true,
         "type": "scattergl",
         "x": {
          "bdata": "l4lBQTqdQUEil0FBfYhBQeWTQUFthUFBF4xBQXaCQUG6kEFBKIpAQVsqQkH6i0FBdEA9QU92PUHuWj1BvAY+QdemPUEGjj1B9eY7QVodPEGPITxB6BA9QVSIPEG6TztBj0M7QTURO0GxXztBZSw7Qd/UOkGOVztBJFQ7Qbl1O0FlQTtBp3w6QVyTR0F3HEBBttJHQaFiREGrsUdByhFAQeKpR0GDqz9BgNxHQUc0QEGN9EZB/RNAQanrR0FwpD9BW9tHQScMP0F1k0dBegw/QRDJR0Hyrj5BPRBIQbNuQEFr2kdB2EVAQTrHR0FXiD5B65hHQcl/P0E=",
          "dtype": "f4"
         },
         "xaxis": "x",
         "y": {
          "bdata": "5DbhQbhP4UGcUuFBzTvhQcIz4UFcOuFBnDLhQQU54UEkS+FBcpfeQffu4EGTLuFBrurbQXgI3EE+ANxBT1ncQc8h3EHfEdxBqVrbQXRm20EVZttBuyDcQaud20H9CNtBtAPbQczp2kFpENtBy/raQeDM2kFnDdtBAwnbQdoc20E2HNtBJ6jaQSQr3UGwQt1B1hzdQYMK3UGeLd1BYUTdQQMo3UFjDt1BvDLdQVk+3UGh2NxBMR/dQRkx3UGC9dxB+yfdQcHx3EEUIt1BcLHcQdUm3UHEf9xBgzbdQR9c3UG6G91B5lLdQfwm3UFUjNxB8SXdQQkG3UE=",
          "dtype": "f4"
         },
         "yaxis": "y"
        },
        {
         "customdata": [
          [
           "128"
          ],
          [
           "128"
          ],
          [
           "128"
          ],
          [
           "128"
          ],
          [
           "128"
          ],
          [
           "128"
          ],
          [
           "128"
          ],
          [
           "128"
          ],
          [
           "128"
          ],
          [
           "128"
          ],
          [
           "128"
          ],
          [
           "128"
          ],
          [
           "128"
          ],
          [
           "128"
          ],
          [
           "128"
          ],
          [
           "128"
          ],
          [
           "128"
          ],
          [
           "128"
          ],
          [
           "128"
          ],
          [
           "128"
          ],
          [
           "128"
          ],
          [
           "128"
          ],
          [
           "128"
          ],
          [
           "128"
          ],
          [
           "128"
          ]
         ],
         "hovertemplate": "cluster=%{customdata[0]}<br>UMAP-1=%{x}<br>UMAP-2=%{y}<extra></extra>",
         "legendgroup": "128",
         "marker": {
          "color": "#9D755D",
          "opacity": 0.8,
          "size": 8,
          "symbol": "circle"
         },
         "mode": "markers",
         "name": "128",
         "showlegend": true,
         "type": "scattergl",
         "x": {
          "bdata": "pNgjQbFUJEFb+yNBCS8kQQUWI0HzWCRBELQjQYpdJEGgYyNBnFckQdv0IkFIhCRB42MjQUNZJEGLJiNBvj4kQQQjI0El2SRB4DAjQeWRJEEFUSNBHV4kQWW8IkFXfCRBcbskQQ==",
          "dtype": "f4"
         },
         "xaxis": "x",
         "y": {
          "bdata": "GTQCQIEhBEBkwAJAJIwDQCtg/j+FMgRAc6QBQLtCBEA1ZgBAFSwEQFtX/T8L4ARAA2oAQOgyBEDl4P4/jcQDQHXF/j9kMQZAzDH/P+YTBUDrCwBAo0UEQOWQ+z82vQRAmrYFQA==",
          "dtype": "f4"
         },
         "yaxis": "y"
        },
        {
         "customdata": [
          [
           "129"
          ],
          [
           "129"
          ],
          [
           "129"
          ],
          [
           "129"
          ],
          [
           "129"
          ],
          [
           "129"
          ],
          [
           "129"
          ],
          [
           "129"
          ],
          [
           "129"
          ],
          [
           "129"
          ],
          [
           "129"
          ],
          [
           "129"
          ],
          [
           "129"
          ],
          [
           "129"
          ],
          [
           "129"
          ],
          [
           "129"
          ],
          [
           "129"
          ],
          [
           "129"
          ],
          [
           "129"
          ],
          [
           "129"
          ],
          [
           "129"
          ],
          [
           "129"
          ],
          [
           "129"
          ]
         ],
         "hovertemplate": "cluster=%{customdata[0]}<br>UMAP-1=%{x}<br>UMAP-2=%{y}<extra></extra>",
         "legendgroup": "129",
         "marker": {
          "color": "#BAB0AC",
          "opacity": 0.8,
          "size": 8,
          "symbol": "circle"
         },
         "mode": "markers",
         "name": "129",
         "showlegend": true,
         "type": "scattergl",
         "x": {
          "bdata": "jctfQXzoX0E0u19B1mtfQeSIX0Go1l9B99dfQYGuX0F61F9BzchfQf6bX0HCuF9BLtBfQbg+YUGdzWBBe7hgQWfKYEF262BBHfdgQQu8YEGVvGBBuE1gQa4vYEE=",
          "dtype": "f4"
         },
         "xaxis": "x",
         "y": {
          "bdata": "BKoxwbuJMcFBvDHBRwkywSnsMcECnzHBO58xwTHIMcGUojHBc60xwRPbMcEfvTHBYqYxwdY0MMFOozDB0LswwUSmMMEWiTDB4Xwwwa23MMEktzDB0CcxwUNIMcE=",
          "dtype": "f4"
         },
         "yaxis": "y"
        },
        {
         "customdata": [
          [
           "130"
          ],
          [
           "130"
          ],
          [
           "130"
          ],
          [
           "130"
          ],
          [
           "130"
          ],
          [
           "130"
          ],
          [
           "130"
          ],
          [
           "130"
          ],
          [
           "130"
          ],
          [
           "130"
          ],
          [
           "130"
          ],
          [
           "130"
          ],
          [
           "130"
          ]
         ],
         "hovertemplate": "cluster=%{customdata[0]}<br>UMAP-1=%{x}<br>UMAP-2=%{y}<extra></extra>",
         "legendgroup": "130",
         "marker": {
          "color": "#4C78A8",
          "opacity": 0.8,
          "size": 8,
          "symbol": "circle"
         },
         "mode": "markers",
         "name": "130",
         "showlegend": true,
         "type": "scattergl",
         "x": {
          "bdata": "e4EmQW2cJkGDgyZB14ImQViGJkFShCZBZIQmQbiFJkHeWyZB64ImQemCJkEXgyZBf9AmQQ==",
          "dtype": "f4"
         },
         "xaxis": "x",
         "y": {
          "bdata": "+iPCwP7qwcAYH8LA3B7CwMYewsCcIcLAqR/CwAMSwsDebcLAXSHCwHUgwsBgJMLAhLzBwA==",
          "dtype": "f4"
         },
         "yaxis": "y"
        },
        {
         "customdata": [
          [
           "131"
          ],
          [
           "131"
          ],
          [
           "131"
          ],
          [
           "131"
          ],
          [
           "131"
          ],
          [
           "131"
          ],
          [
           "131"
          ],
          [
           "131"
          ],
          [
           "131"
          ],
          [
           "131"
          ],
          [
           "131"
          ],
          [
           "131"
          ],
          [
           "131"
          ]
         ],
         "hovertemplate": "cluster=%{customdata[0]}<br>UMAP-1=%{x}<br>UMAP-2=%{y}<extra></extra>",
         "legendgroup": "131",
         "marker": {
          "color": "#F58518",
          "opacity": 0.8,
          "size": 8,
          "symbol": "circle"
         },
         "mode": "markers",
         "name": "131",
         "showlegend": true,
         "type": "scattergl",
         "x": {
          "bdata": "B8YhQdktIkEP9CFB5/ghQUUcIkETqSFBMDAiQYL3IUHpjCFBpTEiQfr3IUH8ECJBJvghQQ==",
          "dtype": "f4"
         },
         "xaxis": "x",
         "y": {
          "bdata": "URtTwb+EU8E6S1PBa09TwZ1wU8FFAFPBpodTwcNOU8G641LBLYhTwdROU8HPZ1PBT09TwQ==",
          "dtype": "f4"
         },
         "yaxis": "y"
        },
        {
         "customdata": [
          [
           "132"
          ],
          [
           "132"
          ],
          [
           "132"
          ],
          [
           "132"
          ],
          [
           "132"
          ],
          [
           "132"
          ],
          [
           "132"
          ],
          [
           "132"
          ],
          [
           "132"
          ],
          [
           "132"
          ],
          [
           "132"
          ],
          [
           "132"
          ],
          [
           "132"
          ],
          [
           "132"
          ],
          [
           "132"
          ],
          [
           "132"
          ],
          [
           "132"
          ],
          [
           "132"
          ],
          [
           "132"
          ],
          [
           "132"
          ],
          [
           "132"
          ],
          [
           "132"
          ],
          [
           "132"
          ],
          [
           "132"
          ],
          [
           "132"
          ],
          [
           "132"
          ]
         ],
         "hovertemplate": "cluster=%{customdata[0]}<br>UMAP-1=%{x}<br>UMAP-2=%{y}<extra></extra>",
         "legendgroup": "132",
         "marker": {
          "color": "#E45756",
          "opacity": 0.8,
          "size": 8,
          "symbol": "circle"
         },
         "mode": "markers",
         "name": "132",
         "showlegend": true,
         "type": "scattergl",
         "x": {
          "bdata": "mXUkQaFzJEFUESRBUBskQQYOJEHQQiRBfOAjQW3KI0EoQSRBX1IkQUkXJEGzQSRB4z4kQQQ3JkGJayZBfHAmQapfJkEWiCZBFq8mQSSDJkGWHyZBBtElQY5xJkG3cSZBEL0mQbcHJkE=",
          "dtype": "f4"
         },
         "xaxis": "x",
         "y": {
          "bdata": "cJCYwXmRmMF5wpjB4ryYwefDmME0qpjB5dqYwR3mmMGiqpjBRKKYwSTAmMGzqpjB6auYwdavl8FwlZfBF5OXwYSbl8GAh5fBwHOXwRGKl8FNu5fBd+OXwaWSl8HRkpfBuW2XweHHl8E=",
          "dtype": "f4"
         },
         "yaxis": "y"
        },
        {
         "customdata": [
          [
           "133"
          ],
          [
           "133"
          ],
          [
           "133"
          ],
          [
           "133"
          ],
          [
           "133"
          ],
          [
           "133"
          ],
          [
           "133"
          ],
          [
           "133"
          ],
          [
           "133"
          ],
          [
           "133"
          ],
          [
           "133"
          ],
          [
           "133"
          ],
          [
           "133"
          ],
          [
           "133"
          ],
          [
           "133"
          ],
          [
           "133"
          ],
          [
           "133"
          ],
          [
           "133"
          ],
          [
           "133"
          ],
          [
           "133"
          ],
          [
           "133"
          ],
          [
           "133"
          ],
          [
           "133"
          ],
          [
           "133"
          ],
          [
           "133"
          ],
          [
           "133"
          ],
          [
           "133"
          ],
          [
           "133"
          ],
          [
           "133"
          ],
          [
           "133"
          ],
          [
           "133"
          ],
          [
           "133"
          ],
          [
           "133"
          ]
         ],
         "hovertemplate": "cluster=%{customdata[0]}<br>UMAP-1=%{x}<br>UMAP-2=%{y}<extra></extra>",
         "legendgroup": "133",
         "marker": {
          "color": "#72B7B2",
          "opacity": 0.8,
          "size": 8,
          "symbol": "circle"
         },
         "mode": "markers",
         "name": "133",
         "showlegend": true,
         "type": "scattergl",
         "x": {
          "bdata": "O8aDQUVxg0EJO4RBbn+DQWNkg0H/QIRBTYWDQZdjg0GvW4RBA0SDQdNRg0FXVYRBc+uDQeqMg0EjJYRBrt2DQRc1g0FZS4RBjLqDQdtmg0FaAoRBGMCDQV9yg0FWMIRBcnuDQa6Pg0FdMYRByymEQTB7g0H6GIRBmfKDQdgng0HsP4RB",
          "dtype": "f4"
         },
         "xaxis": "x",
         "y": {
          "bdata": "PWwTwe+/EsEbVBTB+d0SwT+mEsEsYBTBxOgSwQmmEsE0lxTBIWgSwcWBEsF/iBTBIbUTwaX2EsG7KBTBf5sTwRVIEsH2dRTBZFETwT6rEsGC5RPB0l8TwcbBEsHePxTBmNUSwW76EsFGQxTBCjMUwXvWEsERDxTBl8QTweorEsFaXRTB",
          "dtype": "f4"
         },
         "yaxis": "y"
        },
        {
         "customdata": [
          [
           "134"
          ],
          [
           "134"
          ],
          [
           "134"
          ],
          [
           "134"
          ],
          [
           "134"
          ],
          [
           "134"
          ],
          [
           "134"
          ],
          [
           "134"
          ],
          [
           "134"
          ],
          [
           "134"
          ],
          [
           "134"
          ],
          [
           "134"
          ],
          [
           "134"
          ],
          [
           "134"
          ],
          [
           "134"
          ],
          [
           "134"
          ],
          [
           "134"
          ],
          [
           "134"
          ],
          [
           "134"
          ],
          [
           "134"
          ],
          [
           "134"
          ],
          [
           "134"
          ],
          [
           "134"
          ],
          [
           "134"
          ]
         ],
         "hovertemplate": "cluster=%{customdata[0]}<br>UMAP-1=%{x}<br>UMAP-2=%{y}<extra></extra>",
         "legendgroup": "134",
         "marker": {
          "color": "#54A24B",
          "opacity": 0.8,
          "size": 8,
          "symbol": "circle"
         },
         "mode": "markers",
         "name": "134",
         "showlegend": true,
         "type": "scattergl",
         "x": {
          "bdata": "94XFQRvQxUEwhsVBUYXFQXp8xUHrf8VBd3zFQb+CxUEJgsVBuG/FQaeZxUHdo8VBhYjFQYlyxUHqfcVBUHrFQYdgxUHLXcVBH57FQW98xUGnC8VBGk7FQcF/xUGbd8VB",
          "dtype": "f4"
         },
         "xaxis": "x",
         "y": {
          "bdata": "AeJDwZB2RMHl4kPBIOFDwYTPQ8F91kPBu9BDwRDcQ8Gn2kPBFrZDwbEJRMHPHUTBMOdDwQK7Q8ED0kPBe8pDwSyXQ8H9kUPBahJEwdnMQ8FY7kLB2HJDwYDVQ8EbxUPB",
          "dtype": "f4"
         },
         "yaxis": "y"
        },
        {
         "customdata": [
          [
           "135"
          ],
          [
           "135"
          ],
          [
           "135"
          ],
          [
           "135"
          ],
          [
           "135"
          ],
          [
           "135"
          ],
          [
           "135"
          ],
          [
           "135"
          ],
          [
           "135"
          ],
          [
           "135"
          ],
          [
           "135"
          ]
         ],
         "hovertemplate": "cluster=%{customdata[0]}<br>UMAP-1=%{x}<br>UMAP-2=%{y}<extra></extra>",
         "legendgroup": "135",
         "marker": {
          "color": "#EECA3B",
          "opacity": 0.8,
          "size": 8,
          "symbol": "circle"
         },
         "mode": "markers",
         "name": "135",
         "showlegend": true,
         "type": "scattergl",
         "x": {
          "bdata": "8COWQcwmlkE5KJZBOCiWQVQZlkFmN5ZBViiWQadGlkGfLZZB/CmWQZsplkE=",
          "dtype": "f4"
         },
         "xaxis": "x",
         "y": {
          "bdata": "Gx7xwMol8cAvJ/HA7ibxwK7z8MDQJPHAFCXxwPie8cCgIfHA5ifxwFwn8cA=",
          "dtype": "f4"
         },
         "yaxis": "y"
        },
        {
         "customdata": [
          [
           "136"
          ],
          [
           "136"
          ],
          [
           "136"
          ],
          [
           "136"
          ],
          [
           "136"
          ],
          [
           "136"
          ],
          [
           "136"
          ],
          [
           "136"
          ],
          [
           "136"
          ],
          [
           "136"
          ],
          [
           "136"
          ],
          [
           "136"
          ],
          [
           "136"
          ],
          [
           "136"
          ],
          [
           "136"
          ],
          [
           "136"
          ],
          [
           "136"
          ],
          [
           "136"
          ],
          [
           "136"
          ],
          [
           "136"
          ],
          [
           "136"
          ],
          [
           "136"
          ],
          [
           "136"
          ],
          [
           "136"
          ]
         ],
         "hovertemplate": "cluster=%{customdata[0]}<br>UMAP-1=%{x}<br>UMAP-2=%{y}<extra></extra>",
         "legendgroup": "136",
         "marker": {
          "color": "#B279A2",
          "opacity": 0.8,
          "size": 8,
          "symbol": "circle"
         },
         "mode": "markers",
         "name": "136",
         "showlegend": true,
         "type": "scattergl",
         "x": {
          "bdata": "ga0lQfpEJUGxpyVBVD4lQeCfJUFzWCZB85AlQUyKJUHjoiVBCqMlQZN6JkHYDSdB/DcnQTX/JkH+ACdBhBgnQeDbJkFZ/iZBzfwmQUgJJ0EjBCdB4Q0nQYAAJ0FVQCdB",
          "dtype": "f4"
         },
         "xaxis": "x",
         "y": {
          "bdata": "d4WJQfpQiUFLgolBlU2JQUR+iUFd2olByXaJQZZziUG8f4lBH4CJQQjsiUGVNYpBdEqKQUQuikEqL4pB+jqKQcAcikGZLYpBGS2KQVczikFpMIpBUjSKQZMuikHQTopB",
          "dtype": "f4"
         },
         "yaxis": "y"
        },
        {
         "customdata": [
          [
           "137"
          ],
          [
           "137"
          ],
          [
           "137"
          ],
          [
           "137"
          ],
          [
           "137"
          ],
          [
           "137"
          ],
          [
           "137"
          ],
          [
           "137"
          ],
          [
           "137"
          ],
          [
           "137"
          ],
          [
           "137"
          ],
          [
           "137"
          ],
          [
           "137"
          ],
          [
           "137"
          ],
          [
           "137"
          ],
          [
           "137"
          ],
          [
           "137"
          ],
          [
           "137"
          ],
          [
           "137"
          ],
          [
           "137"
          ],
          [
           "137"
          ],
          [
           "137"
          ],
          [
           "137"
          ],
          [
           "137"
          ],
          [
           "137"
          ],
          [
           "137"
          ],
          [
           "137"
          ],
          [
           "137"
          ],
          [
           "137"
          ],
          [
           "137"
          ],
          [
           "137"
          ],
          [
           "137"
          ],
          [
           "137"
          ],
          [
           "137"
          ],
          [
           "137"
          ],
          [
           "137"
          ],
          [
           "137"
          ],
          [
           "137"
          ],
          [
           "137"
          ],
          [
           "137"
          ],
          [
           "137"
          ],
          [
           "137"
          ],
          [
           "137"
          ],
          [
           "137"
          ],
          [
           "137"
          ],
          [
           "137"
          ],
          [
           "137"
          ],
          [
           "137"
          ],
          [
           "137"
          ],
          [
           "137"
          ],
          [
           "137"
          ],
          [
           "137"
          ],
          [
           "137"
          ],
          [
           "137"
          ]
         ],
         "hovertemplate": "cluster=%{customdata[0]}<br>UMAP-1=%{x}<br>UMAP-2=%{y}<extra></extra>",
         "legendgroup": "137",
         "marker": {
          "color": "#FF9DA6",
          "opacity": 0.8,
          "size": 8,
          "symbol": "circle"
         },
         "mode": "markers",
         "name": "137",
         "showlegend": true,
         "type": "scattergl",
         "x": {
          "bdata": "g8iDQQwdgkFYmYNBBwV/Qa/Hg0EWSIJB08eDQfQ8gkFKuINBMveBQXe/g0GOaoJBzdiDQeNDgkGzs4NBu1iCQWbag0H7KIJBG56DQdE6gkEMzoNB+zeCQdHAg0GOFYNBnoWDQdvAgkG9MHZB0P95QQ2OdkGLAX1B4yx2QZukfEGYY3ZBW9R8QQQkdkHeuXxBUT92QfpVfEHMNHZBLL58QXpPdkFMEn1BDjF2QSzcfEGyI3ZBUN58QYHkdUEqA3xBLRB2QXxefEFH73VBzb98QcHpdUHhfXxB",
          "dtype": "f4"
         },
         "xaxis": "x",
         "y": {
          "bdata": "iJNaQWHBWEEhHlpBo0FYQVFpWkEd7lhB6GJaQQ7tWEHuWVpBWmtYQUtYWkEaRVlBaX5aQRXuWEGMRVpBtvJYQR2OWkG5bFhBR2RaQS3mWEEaV1pBc+NYQdxEWkHUt1lBqfVZQW8gWUGl6lVBzC1XQUUjVkEg81dB1xJWQbLXV0EfLlZBY+hXQR/IVUGf4FdBXApWQfupV0HfFVZBEuhXQckiVkF5+FdBuQdWQRrzV0FHE1ZBUMNXQRlNVkFIl1dBDzxWQVaYV0FMBVZBVrpXQb3LVUF6oldB",
          "dtype": "f4"
         },
         "yaxis": "y"
        },
        {
         "customdata": [
          [
           "138"
          ],
          [
           "138"
          ],
          [
           "138"
          ],
          [
           "138"
          ],
          [
           "138"
          ],
          [
           "138"
          ],
          [
           "138"
          ],
          [
           "138"
          ],
          [
           "138"
          ],
          [
           "138"
          ],
          [
           "138"
          ],
          [
           "138"
          ],
          [
           "138"
          ]
         ],
         "hovertemplate": "cluster=%{customdata[0]}<br>UMAP-1=%{x}<br>UMAP-2=%{y}<extra></extra>",
         "legendgroup": "138",
         "marker": {
          "color": "#9D755D",
          "opacity": 0.8,
          "size": 8,
          "symbol": "circle"
         },
         "mode": "markers",
         "name": "138",
         "showlegend": true,
         "type": "scattergl",
         "x": {
          "bdata": "ZYJSQfaBUkE9kFJBRYRSQYWFUkFOjlJB5XRSQTKEUkGnzVJB3btSQa6GUkFCclJBjpFSQQ==",
          "dtype": "f4"
         },
         "xaxis": "x",
         "y": {
          "bdata": "wZO1QDWVtUCJk7VAU5i1QIyZtUBuorVAEXm1QAqYtUB6LrZAtPq1QOKatUDBm7VAR7K1QA==",
          "dtype": "f4"
         },
         "yaxis": "y"
        },
        {
         "customdata": [
          [
           "139"
          ],
          [
           "139"
          ],
          [
           "139"
          ],
          [
           "139"
          ],
          [
           "139"
          ],
          [
           "139"
          ],
          [
           "139"
          ],
          [
           "139"
          ],
          [
           "139"
          ],
          [
           "139"
          ],
          [
           "139"
          ],
          [
           "139"
          ],
          [
           "139"
          ],
          [
           "139"
          ],
          [
           "139"
          ],
          [
           "139"
          ],
          [
           "139"
          ],
          [
           "139"
          ],
          [
           "139"
          ],
          [
           "139"
          ],
          [
           "139"
          ],
          [
           "139"
          ],
          [
           "139"
          ]
         ],
         "hovertemplate": "cluster=%{customdata[0]}<br>UMAP-1=%{x}<br>UMAP-2=%{y}<extra></extra>",
         "legendgroup": "139",
         "marker": {
          "color": "#BAB0AC",
          "opacity": 0.8,
          "size": 8,
          "symbol": "circle"
         },
         "mode": "markers",
         "name": "139",
         "showlegend": true,
         "type": "scattergl",
         "x": {
          "bdata": "NXI0QbuzNEHprDRBqWg0QfSoNEG3zTRBjqk0QbfSNEH52zRB6q80QaxbNEFokjRBFBk1QS/9NEH9/TRBf+A0QV2/NEFEvjRB5vY0QeXaNEHDATVB0t00QeQUNUE=",
          "dtype": "f4"
         },
         "xaxis": "x",
         "y": {
          "bdata": "jBaAwQM3gMGpM4DB5RGAwW0xgMH/Q4DBkTGAwRdHgMEYS4DBYzWAwVkLgMGTJoDBH2qAweFYgMG9W4DBkE2Awbk8gMHvO4DB6FWAwT5KgMFQXoDBC0yAwaVngME=",
          "dtype": "f4"
         },
         "yaxis": "y"
        },
        {
         "customdata": [
          [
           "140"
          ],
          [
           "140"
          ],
          [
           "140"
          ],
          [
           "140"
          ],
          [
           "140"
          ],
          [
           "140"
          ],
          [
           "140"
          ],
          [
           "140"
          ],
          [
           "140"
          ],
          [
           "140"
          ],
          [
           "140"
          ],
          [
           "140"
          ],
          [
           "140"
          ]
         ],
         "hovertemplate": "cluster=%{customdata[0]}<br>UMAP-1=%{x}<br>UMAP-2=%{y}<extra></extra>",
         "legendgroup": "140",
         "marker": {
          "color": "#4C78A8",
          "opacity": 0.8,
          "size": 8,
          "symbol": "circle"
         },
         "mode": "markers",
         "name": "140",
         "showlegend": true,
         "type": "scattergl",
         "x": {
          "bdata": "PleIQXpZiEE/WYhBU1mIQY9ZiEHKWYhBy1mIQY1ZiEFiWIhBt1mIQYlZiEGzW4hBcVmIQQ==",
          "dtype": "f4"
         },
         "xaxis": "x",
         "y": {
          "bdata": "Ts2hwNXCocCdwaHA1cKhwJLCocBqwqHAGMKhwL3CocBAwaHA/8KhwFbCocCWwqHAhcWhwA==",
          "dtype": "f4"
         },
         "yaxis": "y"
        },
        {
         "customdata": [
          [
           "141"
          ],
          [
           "141"
          ],
          [
           "141"
          ],
          [
           "141"
          ],
          [
           "141"
          ],
          [
           "141"
          ],
          [
           "141"
          ],
          [
           "141"
          ],
          [
           "141"
          ],
          [
           "141"
          ],
          [
           "141"
          ],
          [
           "141"
          ],
          [
           "141"
          ]
         ],
         "hovertemplate": "cluster=%{customdata[0]}<br>UMAP-1=%{x}<br>UMAP-2=%{y}<extra></extra>",
         "legendgroup": "141",
         "marker": {
          "color": "#F58518",
          "opacity": 0.8,
          "size": 8,
          "symbol": "circle"
         },
         "mode": "markers",
         "name": "141",
         "showlegend": true,
         "type": "scattergl",
         "x": {
          "bdata": "7sZdQQzHXUGpx11BscddQW/HXUGSkV1BUMZdQbbGXUFK/l1BDcxdQQPKXUEr2V1BJthdQQ==",
          "dtype": "f4"
         },
         "xaxis": "x",
         "y": {
          "bdata": "ZxGMwYYRjMGzEYzBuRGMwdURjMHW9ovB/RCMwWIRjMFHJYzBzxKMwZcSjMFKGYzB5xmMwQ==",
          "dtype": "f4"
         },
         "yaxis": "y"
        },
        {
         "customdata": [
          [
           "142"
          ],
          [
           "142"
          ],
          [
           "142"
          ],
          [
           "142"
          ],
          [
           "142"
          ],
          [
           "142"
          ],
          [
           "142"
          ],
          [
           "142"
          ],
          [
           "142"
          ],
          [
           "142"
          ],
          [
           "142"
          ],
          [
           "142"
          ],
          [
           "142"
          ]
         ],
         "hovertemplate": "cluster=%{customdata[0]}<br>UMAP-1=%{x}<br>UMAP-2=%{y}<extra></extra>",
         "legendgroup": "142",
         "marker": {
          "color": "#E45756",
          "opacity": 0.8,
          "size": 8,
          "symbol": "circle"
         },
         "mode": "markers",
         "name": "142",
         "showlegend": true,
         "type": "scattergl",
         "x": {
          "bdata": "n/ZzQcLtc0HF7XNBu+1zQYf/c0H98HNBM+5zQTjVc0FV7XNBpe1zQYztc0HP7HNBkO1zQQ==",
          "dtype": "f4"
         },
         "xaxis": "x",
         "y": {
          "bdata": "O+SswcrgrMGy4KzBreCswYLprMFf4qzBGuGswT/UrMFk4KzBueCswc3grMGw4KzB4OCswQ==",
          "dtype": "f4"
         },
         "yaxis": "y"
        },
        {
         "customdata": [
          [
           "143"
          ],
          [
           "143"
          ],
          [
           "143"
          ],
          [
           "143"
          ],
          [
           "143"
          ],
          [
           "143"
          ],
          [
           "143"
          ],
          [
           "143"
          ],
          [
           "143"
          ],
          [
           "143"
          ],
          [
           "143"
          ],
          [
           "143"
          ],
          [
           "143"
          ]
         ],
         "hovertemplate": "cluster=%{customdata[0]}<br>UMAP-1=%{x}<br>UMAP-2=%{y}<extra></extra>",
         "legendgroup": "143",
         "marker": {
          "color": "#72B7B2",
          "opacity": 0.8,
          "size": 8,
          "symbol": "circle"
         },
         "mode": "markers",
         "name": "143",
         "showlegend": true,
         "type": "scattergl",
         "x": {
          "bdata": "yQBBQdgAQUEZ/UBBEbxAQeNVQUGN/UBBTwFBQQABQUH/AEFBTgFBQW8BQUEDAkFBlAFBQQ==",
          "dtype": "f4"
         },
         "xaxis": "x",
         "y": {
          "bdata": "r0HDQZtBw0GPPsNB6STDQXhsw0FnQMNBrUHDQdJBw0FcQcNBtEHDQcBAw0HbQcNB6UHDQQ==",
          "dtype": "f4"
         },
         "yaxis": "y"
        },
        {
         "customdata": [
          [
           "144"
          ],
          [
           "144"
          ],
          [
           "144"
          ],
          [
           "144"
          ],
          [
           "144"
          ],
          [
           "144"
          ],
          [
           "144"
          ],
          [
           "144"
          ],
          [
           "144"
          ],
          [
           "144"
          ],
          [
           "144"
          ],
          [
           "144"
          ],
          [
           "144"
          ]
         ],
         "hovertemplate": "cluster=%{customdata[0]}<br>UMAP-1=%{x}<br>UMAP-2=%{y}<extra></extra>",
         "legendgroup": "144",
         "marker": {
          "color": "#54A24B",
          "opacity": 0.8,
          "size": 8,
          "symbol": "circle"
         },
         "mode": "markers",
         "name": "144",
         "showlegend": true,
         "type": "scattergl",
         "x": {
          "bdata": "94q8Qd6fvEG3n7xBJ6C8QW+HvEFEnrxBorW8QY6gvEFuorxBiKK8QZegvEE+prxBDaG8QQ==",
          "dtype": "f4"
         },
         "xaxis": "x",
         "y": {
          "bdata": "Fj6xQIM6sUCuOrFAmDqxQOXRsEDlNLFAbpKxQFU7sUB9RrFAZ0yxQJA8sUANTbFAnDyxQA==",
          "dtype": "f4"
         },
         "yaxis": "y"
        },
        {
         "customdata": [
          [
           "145"
          ],
          [
           "145"
          ],
          [
           "145"
          ],
          [
           "145"
          ],
          [
           "145"
          ],
          [
           "145"
          ],
          [
           "145"
          ],
          [
           "145"
          ],
          [
           "145"
          ],
          [
           "145"
          ],
          [
           "145"
          ],
          [
           "145"
          ],
          [
           "145"
          ]
         ],
         "hovertemplate": "cluster=%{customdata[0]}<br>UMAP-1=%{x}<br>UMAP-2=%{y}<extra></extra>",
         "legendgroup": "145",
         "marker": {
          "color": "#EECA3B",
          "opacity": 0.8,
          "size": 8,
          "symbol": "circle"
         },
         "mode": "markers",
         "name": "145",
         "showlegend": true,
         "type": "scattergl",
         "x": {
          "bdata": "nhWmQKwGpkCfFKZAWpmlQDgbpkCgE6ZAwCmmQCkPpkAZEaZAgBSmQGcQpkDIEKZAhA+mQA==",
          "dtype": "f4"
         },
         "xaxis": "x",
         "y": {
          "bdata": "WSNcv9KzXL+FBV2/uPpfv/y2Xb+2KV2/ogBev6weXb9XEV2/LDxdvwVCXb+6SF2/nj9dvw==",
          "dtype": "f4"
         },
         "yaxis": "y"
        },
        {
         "customdata": [
          [
           "146"
          ],
          [
           "146"
          ],
          [
           "146"
          ],
          [
           "146"
          ],
          [
           "146"
          ],
          [
           "146"
          ],
          [
           "146"
          ],
          [
           "146"
          ],
          [
           "146"
          ],
          [
           "146"
          ],
          [
           "146"
          ],
          [
           "146"
          ],
          [
           "146"
          ]
         ],
         "hovertemplate": "cluster=%{customdata[0]}<br>UMAP-1=%{x}<br>UMAP-2=%{y}<extra></extra>",
         "legendgroup": "146",
         "marker": {
          "color": "#B279A2",
          "opacity": 0.8,
          "size": 8,
          "symbol": "circle"
         },
         "mode": "markers",
         "name": "146",
         "showlegend": true,
         "type": "scattergl",
         "x": {
          "bdata": "NjmqQfxFqkGcQqpBLj6qQVRBqkF9QqpBdEKqQTZDqkFsQqpBBUKqQfJDqkH1fqpBVjGqQQ==",
          "dtype": "f4"
         },
         "xaxis": "x",
         "y": {
          "bdata": "qne+QchqvkFgbr5Bw3K+QbVvvkGdbr5Bm26+QfNtvkGnbr5BHm++QUNtvkGuMr5Bu4K+QQ==",
          "dtype": "f4"
         },
         "yaxis": "y"
        },
        {
         "customdata": [
          [
           "147"
          ],
          [
           "147"
          ],
          [
           "147"
          ],
          [
           "147"
          ],
          [
           "147"
          ],
          [
           "147"
          ],
          [
           "147"
          ],
          [
           "147"
          ],
          [
           "147"
          ],
          [
           "147"
          ],
          [
           "147"
          ],
          [
           "147"
          ],
          [
           "147"
          ],
          [
           "147"
          ],
          [
           "147"
          ],
          [
           "147"
          ],
          [
           "147"
          ],
          [
           "147"
          ],
          [
           "147"
          ],
          [
           "147"
          ],
          [
           "147"
          ],
          [
           "147"
          ],
          [
           "147"
          ],
          [
           "147"
          ],
          [
           "147"
          ],
          [
           "147"
          ],
          [
           "147"
          ],
          [
           "147"
          ],
          [
           "147"
          ],
          [
           "147"
          ],
          [
           "147"
          ],
          [
           "147"
          ],
          [
           "147"
          ],
          [
           "147"
          ],
          [
           "147"
          ],
          [
           "147"
          ],
          [
           "147"
          ],
          [
           "147"
          ],
          [
           "147"
          ]
         ],
         "hovertemplate": "cluster=%{customdata[0]}<br>UMAP-1=%{x}<br>UMAP-2=%{y}<extra></extra>",
         "legendgroup": "147",
         "marker": {
          "color": "#FF9DA6",
          "opacity": 0.8,
          "size": 8,
          "symbol": "circle"
         },
         "mode": "markers",
         "name": "147",
         "showlegend": true,
         "type": "scattergl",
         "x": {
          "bdata": "T5zNQBX800Cx08dA6B/NQGag00BxtsdA+uXMQAjb00DVLMhAjDDNQCMs00BzscdAFRbRQDuO00DBIchAzUzQQB4e1EAlL8hAIBfOQCmm00Bf+sdAEizOQHga1UB2H8hApIvNQKHL00BBtcdA5IfMQDKS00CRZMdAd2DNQJ/c00ArDMhAr3HLQAsX1UCEo8dA3i7KQO0D1EA8vMhA",
          "dtype": "f4"
         },
         "xaxis": "x",
         "y": {
          "bdata": "a1DxQTfq8kFB3+9BfTHxQTjT8kH11+9BDiPxQRni8kGd9e9BljXxQTy28kHD1u9BSDDyQevO8kH78u9Byv3xQfPy8kGE9u9BXm/xQd/U8kEN6e9Bz3TxQQ4y80Fu8u9BqEzxQUXe8kHs1+9BAQzxQSDQ8kHHw+9BHELxQW7i8kGx7e9BvMbwQTAx80HB0+9BKnbwQZ/s8kFYGvBB",
          "dtype": "f4"
         },
         "yaxis": "y"
        },
        {
         "customdata": [
          [
           "148"
          ],
          [
           "148"
          ],
          [
           "148"
          ],
          [
           "148"
          ],
          [
           "148"
          ],
          [
           "148"
          ],
          [
           "148"
          ],
          [
           "148"
          ],
          [
           "148"
          ],
          [
           "148"
          ],
          [
           "148"
          ],
          [
           "148"
          ],
          [
           "148"
          ]
         ],
         "hovertemplate": "cluster=%{customdata[0]}<br>UMAP-1=%{x}<br>UMAP-2=%{y}<extra></extra>",
         "legendgroup": "148",
         "marker": {
          "color": "#9D755D",
          "opacity": 0.8,
          "size": 8,
          "symbol": "circle"
         },
         "mode": "markers",
         "name": "148",
         "showlegend": true,
         "type": "scattergl",
         "x": {
          "bdata": "k/3ZP3X+2T8M9Nk/dv/ZPyta2z83Wto/UfXZPx8v2D9Y/tk/mhXaP88A2j/m/Nk/0vjZPw==",
          "dtype": "f4"
         },
         "xaxis": "x",
         "y": {
          "bdata": "K7RVQVq0VUGZs1VBkLRVQfnfVUFYwFVBX7RVQcV7VUHWtFVB5bZVQWu0VUF6tFVBWLRVQQ==",
          "dtype": "f4"
         },
         "yaxis": "y"
        },
        {
         "customdata": [
          [
           "149"
          ],
          [
           "149"
          ],
          [
           "149"
          ],
          [
           "149"
          ],
          [
           "149"
          ],
          [
           "149"
          ],
          [
           "149"
          ],
          [
           "149"
          ],
          [
           "149"
          ],
          [
           "149"
          ],
          [
           "149"
          ],
          [
           "149"
          ],
          [
           "149"
          ],
          [
           "149"
          ],
          [
           "149"
          ],
          [
           "149"
          ],
          [
           "149"
          ],
          [
           "149"
          ],
          [
           "149"
          ],
          [
           "149"
          ],
          [
           "149"
          ],
          [
           "149"
          ],
          [
           "149"
          ],
          [
           "149"
          ],
          [
           "149"
          ],
          [
           "149"
          ],
          [
           "149"
          ]
         ],
         "hovertemplate": "cluster=%{customdata[0]}<br>UMAP-1=%{x}<br>UMAP-2=%{y}<extra></extra>",
         "legendgroup": "149",
         "marker": {
          "color": "#BAB0AC",
          "opacity": 0.8,
          "size": 8,
          "symbol": "circle"
         },
         "mode": "markers",
         "name": "149",
         "showlegend": true,
         "type": "scattergl",
         "x": {
          "bdata": "I+F4QWzQeEF45HhBaMh4QQsqeUFzQnlBYbp4Qdu2eEGYtXhBWLV4QcC1eEEGEHlBvgJ2QX+SdEGTh3RBP510QT2ddEG4gHRB0gd1QZWbdEHrl3RBTp10Qb6ZdEEgjHRB/4l0QWGadEHUcnRB",
          "dtype": "f4"
         },
         "xaxis": "x",
         "y": {
          "bdata": "Z6mRQXqzkUHMqJFBPreRQRGIkUHKe5FBUL2RQRW/kUGYv5FB3r+RQYi/kUGRlpFBdPqSQXOjk0FoqJNBKaCTQX6ek0G0q5NBCmmTQTSfk0HooJNBOZ6TQWGgk0HeppNByKeTQWyfk0EgsJNB",
          "dtype": "f4"
         },
         "yaxis": "y"
        },
        {
         "customdata": [
          [
           "150"
          ],
          [
           "150"
          ],
          [
           "150"
          ],
          [
           "150"
          ],
          [
           "150"
          ],
          [
           "150"
          ],
          [
           "150"
          ],
          [
           "150"
          ],
          [
           "150"
          ],
          [
           "150"
          ],
          [
           "150"
          ],
          [
           "150"
          ],
          [
           "150"
          ]
         ],
         "hovertemplate": "cluster=%{customdata[0]}<br>UMAP-1=%{x}<br>UMAP-2=%{y}<extra></extra>",
         "legendgroup": "150",
         "marker": {
          "color": "#4C78A8",
          "opacity": 0.8,
          "size": 8,
          "symbol": "circle"
         },
         "mode": "markers",
         "name": "150",
         "showlegend": true,
         "type": "scattergl",
         "x": {
          "bdata": "yYYcQYKKHEGOnhxBfXQcQbmiHEF9exxBmYccQW7JHEHisBxBHYwcQVlqHEG/iRxB3U4cQQ==",
          "dtype": "f4"
         },
         "xaxis": "x",
         "y": {
          "bdata": "q3wfQdF5H0FpYx9BBIwfQQJgH0FUhh9BxXsfQWY6H0ELUx9B4nYfQSqaH0EUeh9BA7QfQQ==",
          "dtype": "f4"
         },
         "yaxis": "y"
        },
        {
         "customdata": [
          [
           "151"
          ],
          [
           "151"
          ],
          [
           "151"
          ],
          [
           "151"
          ],
          [
           "151"
          ],
          [
           "151"
          ],
          [
           "151"
          ],
          [
           "151"
          ],
          [
           "151"
          ],
          [
           "151"
          ],
          [
           "151"
          ],
          [
           "151"
          ],
          [
           "151"
          ],
          [
           "151"
          ],
          [
           "151"
          ],
          [
           "151"
          ],
          [
           "151"
          ],
          [
           "151"
          ],
          [
           "151"
          ],
          [
           "151"
          ],
          [
           "151"
          ],
          [
           "151"
          ],
          [
           "151"
          ],
          [
           "151"
          ],
          [
           "151"
          ],
          [
           "151"
          ],
          [
           "151"
          ],
          [
           "151"
          ],
          [
           "151"
          ],
          [
           "151"
          ],
          [
           "151"
          ],
          [
           "151"
          ],
          [
           "151"
          ],
          [
           "151"
          ],
          [
           "151"
          ],
          [
           "151"
          ],
          [
           "151"
          ],
          [
           "151"
          ],
          [
           "151"
          ],
          [
           "151"
          ]
         ],
         "hovertemplate": "cluster=%{customdata[0]}<br>UMAP-1=%{x}<br>UMAP-2=%{y}<extra></extra>",
         "legendgroup": "151",
         "marker": {
          "color": "#F58518",
          "opacity": 0.8,
          "size": 8,
          "symbol": "circle"
         },
         "mode": "markers",
         "name": "151",
         "showlegend": true,
         "type": "scattergl",
         "x": {
          "bdata": "Nf6JQRFjikFAo4pBPtqJQQEtikGNAopBH8OKQYpsiUEDYIpBb5aKQV7jikFD3YlBtyuKQcpUikGM1IpB24iJQV5QikERF4pB1w6LQWVNiUGNeopBCQ6KQZ7FikH7SYlB2zKKQX6jiUGj3opB6lKJQcFMikEc5YlBjceKQZzQiUFOCopBvlWKQSY9i0Elk4lBgzCKQbhEikHeHotBa7SJQQ==",
          "dtype": "f4"
         },
         "xaxis": "x",
         "y": {
          "bdata": "x6mLwcgRjMFkUozBFImLwVjYi8HisovBYHKMwUgci8GsC4zBY0WMwXuSjMHgi4vBFNeLwdgBjMFhg4zBiTiLwav8i8HDxYvBIr6MwSf9isH9JYzBorqLwcF0jMHD+YrBTN6LwTZSi8HLjYzBiAKLwYL4i8E3kovBW3aMwUZ/i8FXtYvBQgOMwQHsjMH1QYvBgdmLwQ/yi8F3zYzBkGKLwQ==",
          "dtype": "f4"
         },
         "yaxis": "y"
        },
        {
         "customdata": [
          [
           "152"
          ],
          [
           "152"
          ],
          [
           "152"
          ],
          [
           "152"
          ],
          [
           "152"
          ],
          [
           "152"
          ],
          [
           "152"
          ],
          [
           "152"
          ],
          [
           "152"
          ],
          [
           "152"
          ],
          [
           "152"
          ],
          [
           "152"
          ],
          [
           "152"
          ],
          [
           "152"
          ],
          [
           "152"
          ],
          [
           "152"
          ],
          [
           "152"
          ],
          [
           "152"
          ],
          [
           "152"
          ],
          [
           "152"
          ],
          [
           "152"
          ]
         ],
         "hovertemplate": "cluster=%{customdata[0]}<br>UMAP-1=%{x}<br>UMAP-2=%{y}<extra></extra>",
         "legendgroup": "152",
         "marker": {
          "color": "#E45756",
          "opacity": 0.8,
          "size": 8,
          "symbol": "circle"
         },
         "mode": "markers",
         "name": "152",
         "showlegend": true,
         "type": "scattergl",
         "x": {
          "bdata": "rZnwQJK38UCMePFATqzxQG2v8UA1lfBA6c/xQKnX8UBKY/FAQ9/xQLvJ8kCb1PFAXqXyQA7v8UAsP/JAs/HxQKK48UBYbPJA9CjyQAnd8UCqefJA",
          "dtype": "f4"
         },
         "xaxis": "x",
         "y": {
          "bdata": "DYPUwRY81MGuS9TBwj7UwQU+1MFyhNTBJDbUwfIz1MEsUdTBoDLUwar308H7NNTB2wDUwXgu1MFxGtTB7y3UwRs81ME1D9TB7B/UwfUy1MHCC9TB",
          "dtype": "f4"
         },
         "yaxis": "y"
        },
        {
         "customdata": [
          [
           "153"
          ],
          [
           "153"
          ],
          [
           "153"
          ],
          [
           "153"
          ],
          [
           "153"
          ],
          [
           "153"
          ],
          [
           "153"
          ],
          [
           "153"
          ],
          [
           "153"
          ],
          [
           "153"
          ],
          [
           "153"
          ]
         ],
         "hovertemplate": "cluster=%{customdata[0]}<br>UMAP-1=%{x}<br>UMAP-2=%{y}<extra></extra>",
         "legendgroup": "153",
         "marker": {
          "color": "#72B7B2",
          "opacity": 0.8,
          "size": 8,
          "symbol": "circle"
         },
         "mode": "markers",
         "name": "153",
         "showlegend": true,
         "type": "scattergl",
         "x": {
          "bdata": "LwZoQfwDaEG/E2hBoztoQbsPaEGdDmhB3EJoQc33Z0FNF2hB2kloQdAXaEE=",
          "dtype": "f4"
         },
         "xaxis": "x",
         "y": {
          "bdata": "vSyqQbYrqkHOMqpBUUWqQegwqkEUMKpBd0qqQagkqkGJNKpBzE2qQQQ1qkE=",
          "dtype": "f4"
         },
         "yaxis": "y"
        },
        {
         "customdata": [
          [
           "154"
          ],
          [
           "154"
          ],
          [
           "154"
          ],
          [
           "154"
          ],
          [
           "154"
          ],
          [
           "154"
          ],
          [
           "154"
          ],
          [
           "154"
          ],
          [
           "154"
          ],
          [
           "154"
          ],
          [
           "154"
          ],
          [
           "154"
          ],
          [
           "154"
          ],
          [
           "154"
          ],
          [
           "154"
          ],
          [
           "154"
          ],
          [
           "154"
          ],
          [
           "154"
          ],
          [
           "154"
          ],
          [
           "154"
          ],
          [
           "154"
          ],
          [
           "154"
          ],
          [
           "154"
          ],
          [
           "154"
          ],
          [
           "154"
          ],
          [
           "154"
          ],
          [
           "154"
          ],
          [
           "154"
          ],
          [
           "154"
          ],
          [
           "154"
          ],
          [
           "154"
          ],
          [
           "154"
          ],
          [
           "154"
          ],
          [
           "154"
          ],
          [
           "154"
          ],
          [
           "154"
          ]
         ],
         "hovertemplate": "cluster=%{customdata[0]}<br>UMAP-1=%{x}<br>UMAP-2=%{y}<extra></extra>",
         "legendgroup": "154",
         "marker": {
          "color": "#54A24B",
          "opacity": 0.8,
          "size": 8,
          "symbol": "circle"
         },
         "mode": "markers",
         "name": "154",
         "showlegend": true,
         "type": "scattergl",
         "x": {
          "bdata": "mDWSQT55kkHpEZJBzS2SQcI6kkGdOpJB4/SRQS8BkkFhOZJBbqKSQXs/kkFInpJBDRWTQfXgkkGO95JBer+SQdTTkkGToJJBuDaTQbaFkkF7q5NBcqKTQWBYk0FmWZJBAZ2SQX35k0EH9pNBJvCTQbMMlEHt7pNBf8mTQY08lEHl4pNBcfGTQfj/k0EHAJRB",
          "dtype": "f4"
         },
         "xaxis": "x",
         "y": {
          "bdata": "XyDGQfNgxkE9/MVBbBjGQc4ixkGRJcZBJN/FQRHrxUEqJMZB3Y7GQWIqxkFsisZB4gHHQcvNxkGM5MZBQa3GQaDAxkFqjcZBOSTHQe9yxkF4msdBs5DHQadGx0GJRcZBXYnGQRfpx0F75cdBht/HQdH7x0Fb3sdBx7jHQSIsyEFT0sdBmeDHQVLvx0HI78dB",
          "dtype": "f4"
         },
         "yaxis": "y"
        },
        {
         "customdata": [
          [
           "155"
          ],
          [
           "155"
          ],
          [
           "155"
          ],
          [
           "155"
          ],
          [
           "155"
          ],
          [
           "155"
          ],
          [
           "155"
          ],
          [
           "155"
          ],
          [
           "155"
          ],
          [
           "155"
          ],
          [
           "155"
          ]
         ],
         "hovertemplate": "cluster=%{customdata[0]}<br>UMAP-1=%{x}<br>UMAP-2=%{y}<extra></extra>",
         "legendgroup": "155",
         "marker": {
          "color": "#EECA3B",
          "opacity": 0.8,
          "size": 8,
          "symbol": "circle"
         },
         "mode": "markers",
         "name": "155",
         "showlegend": true,
         "type": "scattergl",
         "x": {
          "bdata": "1+MqQSSWKkHL5CpBZ+EqQVPQKkHR7ipB2csqQTHhKkEltSpBgukqQcbSKkE=",
          "dtype": "f4"
         },
         "xaxis": "x",
         "y": {
          "bdata": "JVpowL0dZ8CUU2jA7UFowEIQaMBpZGjAHgJowNlHaMCYQmfAKElowI8IaMA=",
          "dtype": "f4"
         },
         "yaxis": "y"
        },
        {
         "customdata": [
          [
           "156"
          ],
          [
           "156"
          ],
          [
           "156"
          ],
          [
           "156"
          ],
          [
           "156"
          ],
          [
           "156"
          ],
          [
           "156"
          ],
          [
           "156"
          ],
          [
           "156"
          ],
          [
           "156"
          ],
          [
           "156"
          ],
          [
           "156"
          ],
          [
           "156"
          ],
          [
           "156"
          ],
          [
           "156"
          ],
          [
           "156"
          ],
          [
           "156"
          ],
          [
           "156"
          ],
          [
           "156"
          ],
          [
           "156"
          ],
          [
           "156"
          ],
          [
           "156"
          ],
          [
           "156"
          ],
          [
           "156"
          ],
          [
           "156"
          ],
          [
           "156"
          ],
          [
           "156"
          ],
          [
           "156"
          ],
          [
           "156"
          ],
          [
           "156"
          ],
          [
           "156"
          ],
          [
           "156"
          ],
          [
           "156"
          ],
          [
           "156"
          ],
          [
           "156"
          ],
          [
           "156"
          ],
          [
           "156"
          ],
          [
           "156"
          ],
          [
           "156"
          ],
          [
           "156"
          ],
          [
           "156"
          ],
          [
           "156"
          ],
          [
           "156"
          ],
          [
           "156"
          ],
          [
           "156"
          ],
          [
           "156"
          ],
          [
           "156"
          ],
          [
           "156"
          ],
          [
           "156"
          ],
          [
           "156"
          ],
          [
           "156"
          ],
          [
           "156"
          ],
          [
           "156"
          ],
          [
           "156"
          ],
          [
           "156"
          ],
          [
           "156"
          ],
          [
           "156"
          ],
          [
           "156"
          ],
          [
           "156"
          ],
          [
           "156"
          ],
          [
           "156"
          ],
          [
           "156"
          ],
          [
           "156"
          ],
          [
           "156"
          ],
          [
           "156"
          ],
          [
           "156"
          ],
          [
           "156"
          ],
          [
           "156"
          ],
          [
           "156"
          ],
          [
           "156"
          ],
          [
           "156"
          ],
          [
           "156"
          ],
          [
           "156"
          ],
          [
           "156"
          ],
          [
           "156"
          ],
          [
           "156"
          ],
          [
           "156"
          ],
          [
           "156"
          ],
          [
           "156"
          ],
          [
           "156"
          ],
          [
           "156"
          ],
          [
           "156"
          ],
          [
           "156"
          ],
          [
           "156"
          ],
          [
           "156"
          ],
          [
           "156"
          ],
          [
           "156"
          ],
          [
           "156"
          ],
          [
           "156"
          ],
          [
           "156"
          ],
          [
           "156"
          ],
          [
           "156"
          ]
         ],
         "hovertemplate": "cluster=%{customdata[0]}<br>UMAP-1=%{x}<br>UMAP-2=%{y}<extra></extra>",
         "legendgroup": "156",
         "marker": {
          "color": "#B279A2",
          "opacity": 0.8,
          "size": 8,
          "symbol": "circle"
         },
         "mode": "markers",
         "name": "156",
         "showlegend": true,
         "type": "scattergl",
         "x": {
          "bdata": "7n6sQQK2rEGBmKxBqJKsQV+orEGPbqxBHk6sQdhvrEFjjKxBwo+sQYuerEF0OrxBhx2tQSoFuUHEK7xB9letQdP+uEGPLbxBxf2sQc7zuEGMLbxBBBqtQZWNukG1ErxBYdetQYAGuUF6JrxBpTatQWTquEEcFLxBE4OtQTsQuUHGPrxBsUmtQeK9uEEZPrxBEtesQUT/uEFxQrxBKlStQdv/uEEjDrxBprGtQREEuUGR5LtBx6mtQRq6uEE3OrxBczKtQXcPuUHUOLxBJU6tQdkEuUGLWa5BUBqyQQ1yrkGdWK5BZ2WuQbdurkGdGK5BkH2uQVmErkErk65B5WuuQf5stEGaWLRBq4O0QaYVtEE2c7RBlkq0QYBYtEGKWrRBZGS0QZz1s0H8crRBphm0QU6EtEHWBrZB7mm0QRoatEFee7RBTRu0QYBvtEGH6LNBkYa0QYXus0F+YrRBsyK0QeSOtEG1IbRBr2q0QTsktEE=",
          "dtype": "f4"
         },
         "xaxis": "x",
         "y": {
          "bdata": "62hYQRjbWEFHhlhBbYxYQQvRWEHalFhBI/dYQWWhWEHcqFhBdLRYQTGWWEHBD1lBOn1XQSgKW0HuFFlBx8dXQRQOW0EGEVlBkBtYQXwRW0GHE1lBupdXQZgUWkGTPllBFARYQYEGW0E8GVlBEKZXQSAcW0FiPFlBpw9YQeUHW0EaB1lBKfNXQQtXW0FlCllBPIFYQR8LW0Gy81hBeaJXQUABW0GnL1lBV+VXQcQIW0GLj1lBsZBYQSRhW0E6C1lB4I1XQT8QW0GSD1lB71FXQVkbW0F3c1hBAntbQa9fWEFlhVhBtpBYQTNyWEHbmldBarJYQUOPWEG3eVhBP4NYQYpyZEFjO2FBMsJkQdVPXUGLkWRBE2ddQaRGZEHyC11BMmpkQfG8XEFLjGRB6xZdQbmkZEEuPVxBwIRkQcgMXUEihmRBjyJdQZGdZEEVrFxBzadkQYPCXEFAWmRBCxldQTWuZEHS7FxB+mlkQV0KXUE=",
          "dtype": "f4"
         },
         "yaxis": "y"
        },
        {
         "customdata": [
          [
           "157"
          ],
          [
           "157"
          ],
          [
           "157"
          ],
          [
           "157"
          ],
          [
           "157"
          ],
          [
           "157"
          ],
          [
           "157"
          ],
          [
           "157"
          ],
          [
           "157"
          ],
          [
           "157"
          ],
          [
           "157"
          ],
          [
           "157"
          ],
          [
           "157"
          ],
          [
           "157"
          ],
          [
           "157"
          ]
         ],
         "hovertemplate": "cluster=%{customdata[0]}<br>UMAP-1=%{x}<br>UMAP-2=%{y}<extra></extra>",
         "legendgroup": "157",
         "marker": {
          "color": "#FF9DA6",
          "opacity": 0.8,
          "size": 8,
          "symbol": "circle"
         },
         "mode": "markers",
         "name": "157",
         "showlegend": true,
         "type": "scattergl",
         "x": {
          "bdata": "THGiQW9xokECa6JBKXGiQQ1xokHIcKJBE3GiQTtxokERcaJBInGiQZNwokEicaJB+HCiQSNxokE6caJB",
          "dtype": "f4"
         },
         "xaxis": "x",
         "y": {
          "bdata": "XRc3waMXN8GLKjfBIRg3wcUXN8FAFzfBKRg3wWUYN8E6GDfB8Bk3wW0YN8FRGDfBmRg3wcMYN8E5GTfB",
          "dtype": "f4"
         },
         "yaxis": "y"
        },
        {
         "customdata": [
          [
           "158"
          ],
          [
           "158"
          ],
          [
           "158"
          ],
          [
           "158"
          ],
          [
           "158"
          ],
          [
           "158"
          ],
          [
           "158"
          ],
          [
           "158"
          ],
          [
           "158"
          ],
          [
           "158"
          ],
          [
           "158"
          ],
          [
           "158"
          ],
          [
           "158"
          ],
          [
           "158"
          ],
          [
           "158"
          ]
         ],
         "hovertemplate": "cluster=%{customdata[0]}<br>UMAP-1=%{x}<br>UMAP-2=%{y}<extra></extra>",
         "legendgroup": "158",
         "marker": {
          "color": "#9D755D",
          "opacity": 0.8,
          "size": 8,
          "symbol": "circle"
         },
         "mode": "markers",
         "name": "158",
         "showlegend": true,
         "type": "scattergl",
         "x": {
          "bdata": "dQkiQSYZIkHzCiJBNA0iQUgHIkGYDCJBWAsiQXkLIkEVCSJBdgoiQS+iIUEmDSJBtwciQXEwIkHHBiJB",
          "dtype": "f4"
         },
         "xaxis": "x",
         "y": {
          "bdata": "vWzlQJCJ5UDKbuVAAXLlQPVj5UDoZeVAcW/lQJdu5UBgaOVAxG3lQFib5EDxcOVAzWflQNjC5UDhYuVA",
          "dtype": "f4"
         },
         "yaxis": "y"
        },
        {
         "customdata": [
          [
           "159"
          ],
          [
           "159"
          ],
          [
           "159"
          ],
          [
           "159"
          ],
          [
           "159"
          ],
          [
           "159"
          ],
          [
           "159"
          ],
          [
           "159"
          ],
          [
           "159"
          ],
          [
           "159"
          ],
          [
           "159"
          ],
          [
           "159"
          ],
          [
           "159"
          ],
          [
           "159"
          ],
          [
           "159"
          ]
         ],
         "hovertemplate": "cluster=%{customdata[0]}<br>UMAP-1=%{x}<br>UMAP-2=%{y}<extra></extra>",
         "legendgroup": "159",
         "marker": {
          "color": "#BAB0AC",
          "opacity": 0.8,
          "size": 8,
          "symbol": "circle"
         },
         "mode": "markers",
         "name": "159",
         "showlegend": true,
         "type": "scattergl",
         "x": {
          "bdata": "8OcLQeTjC0H76QtBleQLQcPjC0GZ2wtB7OILQZjjC0FB4wtB+skLQXHiC0FD8AtBJuMLQRbjC0E94wtB",
          "dtype": "f4"
         },
         "xaxis": "x",
         "y": {
          "bdata": "3BQtwaUKLcEdEy3BQAstwYoKLcFOCC3BMwotwdQKLcGDCi3BIvEswRIKLcGlEi3Bjwotwd8KLcETCy3B",
          "dtype": "f4"
         },
         "yaxis": "y"
        },
        {
         "customdata": [
          [
           "160"
          ],
          [
           "160"
          ],
          [
           "160"
          ],
          [
           "160"
          ],
          [
           "160"
          ],
          [
           "160"
          ],
          [
           "160"
          ],
          [
           "160"
          ],
          [
           "160"
          ],
          [
           "160"
          ],
          [
           "160"
          ],
          [
           "160"
          ],
          [
           "160"
          ],
          [
           "160"
          ],
          [
           "160"
          ],
          [
           "160"
          ],
          [
           "160"
          ],
          [
           "160"
          ],
          [
           "160"
          ],
          [
           "160"
          ],
          [
           "160"
          ],
          [
           "160"
          ],
          [
           "160"
          ],
          [
           "160"
          ],
          [
           "160"
          ],
          [
           "160"
          ],
          [
           "160"
          ],
          [
           "160"
          ]
         ],
         "hovertemplate": "cluster=%{customdata[0]}<br>UMAP-1=%{x}<br>UMAP-2=%{y}<extra></extra>",
         "legendgroup": "160",
         "marker": {
          "color": "#4C78A8",
          "opacity": 0.8,
          "size": 8,
          "symbol": "circle"
         },
         "mode": "markers",
         "name": "160",
         "showlegend": true,
         "type": "scattergl",
         "x": {
          "bdata": "EN0YQeubGEFDShlBucQYQcMJGUGvmBhBZI0YQVK3GEGDfBhBVL0YQXyrFkEAzBZBuacYQcepGEEc5hhBIDUWQcS3FUHnkxVBNJEVQb7bFUEqvRVBGasVQXfQFUFAuxVBC1IWQRqNFUFJuxVB9SUWQQ==",
          "dtype": "f4"
         },
         "xaxis": "x",
         "y": {
          "bdata": "nhO5Qe/zuEHjSrlBgwi5QcgquUFv8rhBm+y4QY8CuUGi5LhB8gS5QXL9t0HIDbhBUPq4QWX7uEFFGblBDsO3QZCEt0G1crdBa3G3QW6Wt0Fih7dB+323QaSQt0FchrdB9NG3Qchvt0EhhrdBPLy3QQ==",
          "dtype": "f4"
         },
         "yaxis": "y"
        },
        {
         "customdata": [
          [
           "161"
          ],
          [
           "161"
          ],
          [
           "161"
          ],
          [
           "161"
          ],
          [
           "161"
          ],
          [
           "161"
          ],
          [
           "161"
          ],
          [
           "161"
          ],
          [
           "161"
          ],
          [
           "161"
          ],
          [
           "161"
          ],
          [
           "161"
          ],
          [
           "161"
          ],
          [
           "161"
          ],
          [
           "161"
          ]
         ],
         "hovertemplate": "cluster=%{customdata[0]}<br>UMAP-1=%{x}<br>UMAP-2=%{y}<extra></extra>",
         "legendgroup": "161",
         "marker": {
          "color": "#F58518",
          "opacity": 0.8,
          "size": 8,
          "symbol": "circle"
         },
         "mode": "markers",
         "name": "161",
         "showlegend": true,
         "type": "scattergl",
         "x": {
          "bdata": "yF6zQeFYs0EeVbNBTVazQZ0ds0EChbNB82+zQY9Ys0HCWLNBJlyzQUFYs0EeP7NBSFizQe9Rs0HyV7NB",
          "dtype": "f4"
         },
         "xaxis": "x",
         "y": {
          "bdata": "B/wav/hTGr8g2Rm/mfkZv/bqEr/P0R+/GCwdvzZAGr9OPRq/DLAavz1AGr8LERe/TEIavyF4Gb81MRq/",
          "dtype": "f4"
         },
         "yaxis": "y"
        },
        {
         "customdata": [
          [
           "162"
          ],
          [
           "162"
          ],
          [
           "162"
          ],
          [
           "162"
          ],
          [
           "162"
          ],
          [
           "162"
          ],
          [
           "162"
          ],
          [
           "162"
          ],
          [
           "162"
          ],
          [
           "162"
          ]
         ],
         "hovertemplate": "cluster=%{customdata[0]}<br>UMAP-1=%{x}<br>UMAP-2=%{y}<extra></extra>",
         "legendgroup": "162",
         "marker": {
          "color": "#E45756",
          "opacity": 0.8,
          "size": 8,
          "symbol": "circle"
         },
         "mode": "markers",
         "name": "162",
         "showlegend": true,
         "type": "scattergl",
         "x": {
          "bdata": "swhzQZUSc0GvMHNB1wlzQSsIc0GoCXNBBf5yQQTSckGmB3NB7QVzQQ==",
          "dtype": "f4"
         },
         "xaxis": "x",
         "y": {
          "bdata": "dXukwKZfpMBrbaTAtHakwJB5pMATd6TANVKkwIPhpMC6eKTA63mkwA==",
          "dtype": "f4"
         },
         "yaxis": "y"
        },
        {
         "customdata": [
          [
           "163"
          ],
          [
           "163"
          ],
          [
           "163"
          ],
          [
           "163"
          ],
          [
           "163"
          ],
          [
           "163"
          ],
          [
           "163"
          ],
          [
           "163"
          ],
          [
           "163"
          ],
          [
           "163"
          ]
         ],
         "hovertemplate": "cluster=%{customdata[0]}<br>UMAP-1=%{x}<br>UMAP-2=%{y}<extra></extra>",
         "legendgroup": "163",
         "marker": {
          "color": "#72B7B2",
          "opacity": 0.8,
          "size": 8,
          "symbol": "circle"
         },
         "mode": "markers",
         "name": "163",
         "showlegend": true,
         "type": "scattergl",
         "x": {
          "bdata": "hWffQBxm30ChcN9AJ2bfQAZn30B/Zt9AVlvfQGhh30BZZN9Avx7fQA==",
          "dtype": "f4"
         },
         "xaxis": "x",
         "y": {
          "bdata": "cv9XQSz/V0HUAlhBffxXQd3+V0G9/ldB+fRXQQb8V0EK/ldBp95XQQ==",
          "dtype": "f4"
         },
         "yaxis": "y"
        },
        {
         "customdata": [
          [
           "164"
          ],
          [
           "164"
          ],
          [
           "164"
          ],
          [
           "164"
          ],
          [
           "164"
          ],
          [
           "164"
          ],
          [
           "164"
          ],
          [
           "164"
          ],
          [
           "164"
          ],
          [
           "164"
          ],
          [
           "164"
          ],
          [
           "164"
          ],
          [
           "164"
          ],
          [
           "164"
          ],
          [
           "164"
          ],
          [
           "164"
          ],
          [
           "164"
          ],
          [
           "164"
          ],
          [
           "164"
          ],
          [
           "164"
          ]
         ],
         "hovertemplate": "cluster=%{customdata[0]}<br>UMAP-1=%{x}<br>UMAP-2=%{y}<extra></extra>",
         "legendgroup": "164",
         "marker": {
          "color": "#54A24B",
          "opacity": 0.8,
          "size": 8,
          "symbol": "circle"
         },
         "mode": "markers",
         "name": "164",
         "showlegend": true,
         "type": "scattergl",
         "x": {
          "bdata": "2svmQUuu5kETuuZBQa/mQTaj5kHJlOZBEbrmQVi05kE/vuZBI8nmQZut5kEaxOZBAbLmQW2B5kFh1uZBJbHmQZ6W5kE72OZBwrrmQQnF5kE=",
          "dtype": "f4"
         },
         "xaxis": "x",
         "y": {
          "bdata": "MxQ/QY9OP0HqNz9Bxkw/QellP0HFgT9BJzg/QZxDP0GzLz9BYBk/QS9RP0FFJD9Bw0g/Qc+pP0GAAD9BkUk/QVZ/P0ED/D5BSzc/QeAiP0E=",
          "dtype": "f4"
         },
         "yaxis": "y"
        },
        {
         "customdata": [
          [
           "165"
          ],
          [
           "165"
          ],
          [
           "165"
          ],
          [
           "165"
          ],
          [
           "165"
          ],
          [
           "165"
          ],
          [
           "165"
          ],
          [
           "165"
          ],
          [
           "165"
          ],
          [
           "165"
          ]
         ],
         "hovertemplate": "cluster=%{customdata[0]}<br>UMAP-1=%{x}<br>UMAP-2=%{y}<extra></extra>",
         "legendgroup": "165",
         "marker": {
          "color": "#EECA3B",
          "opacity": 0.8,
          "size": 8,
          "symbol": "circle"
         },
         "mode": "markers",
         "name": "165",
         "showlegend": true,
         "type": "scattergl",
         "x": {
          "bdata": "ScGeQTzBnkFcwZ5BV8GeQU7BnkFjwZ5BTMGeQWDBnkFcwZ5BnsGeQQ==",
          "dtype": "f4"
         },
         "xaxis": "x",
         "y": {
          "bdata": "1MKhQcLCoUG9wqFB5sKhQdfCoUEQw6FB5MKhQd3CoUEBw6FBdcOhQQ==",
          "dtype": "f4"
         },
         "yaxis": "y"
        },
        {
         "customdata": [
          [
           "166"
          ],
          [
           "166"
          ],
          [
           "166"
          ],
          [
           "166"
          ],
          [
           "166"
          ],
          [
           "166"
          ],
          [
           "166"
          ],
          [
           "166"
          ],
          [
           "166"
          ],
          [
           "166"
          ],
          [
           "166"
          ],
          [
           "166"
          ],
          [
           "166"
          ],
          [
           "166"
          ],
          [
           "166"
          ],
          [
           "166"
          ],
          [
           "166"
          ],
          [
           "166"
          ],
          [
           "166"
          ],
          [
           "166"
          ],
          [
           "166"
          ],
          [
           "166"
          ],
          [
           "166"
          ],
          [
           "166"
          ],
          [
           "166"
          ],
          [
           "166"
          ],
          [
           "166"
          ],
          [
           "166"
          ],
          [
           "166"
          ],
          [
           "166"
          ],
          [
           "166"
          ],
          [
           "166"
          ],
          [
           "166"
          ],
          [
           "166"
          ],
          [
           "166"
          ]
         ],
         "hovertemplate": "cluster=%{customdata[0]}<br>UMAP-1=%{x}<br>UMAP-2=%{y}<extra></extra>",
         "legendgroup": "166",
         "marker": {
          "color": "#B279A2",
          "opacity": 0.8,
          "size": 8,
          "symbol": "circle"
         },
         "mode": "markers",
         "name": "166",
         "showlegend": true,
         "type": "scattergl",
         "x": {
          "bdata": "hZHdQegA3kE2s91BPCbeQU6c3UE1C95Bf6TdQRYF3kFstN1BoRzeQYmT3UGGMt5BSqbdQQhP3kHnp91B7wreQUyx3UFcFt5BrH/dQd0x3kF3pN1B7Q/eQXDE3UFQqN1B5LLdQWqP3UHtJd1B3BHdQXFp3UGlPt1BKSHdQT8r3UHmK91Bqj7dQZDn3UE=",
          "dtype": "f4"
         },
         "xaxis": "x",
         "y": {
          "bdata": "wUeYQbLYl0EaJphBWbOXQek8mEF9zpdB0jSYQafUl0HzJJhBE72XQdtFmEE6p5dBHTOYQaiKl0GQMZhB486XQTsomEHSxJdB6FmYQQGol0EHNZhBBcqXQZgVmEGvMZhBTieYQdhKmEEhtJhBRMiYQcpwmEGGm5hBC7mYQfyumEFjrphBpZuYQcnyl0E=",
          "dtype": "f4"
         },
         "yaxis": "y"
        },
        {
         "customdata": [
          [
           "167"
          ],
          [
           "167"
          ],
          [
           "167"
          ],
          [
           "167"
          ],
          [
           "167"
          ],
          [
           "167"
          ],
          [
           "167"
          ],
          [
           "167"
          ],
          [
           "167"
          ],
          [
           "167"
          ],
          [
           "167"
          ],
          [
           "167"
          ],
          [
           "167"
          ]
         ],
         "hovertemplate": "cluster=%{customdata[0]}<br>UMAP-1=%{x}<br>UMAP-2=%{y}<extra></extra>",
         "legendgroup": "167",
         "marker": {
          "color": "#FF9DA6",
          "opacity": 0.8,
          "size": 8,
          "symbol": "circle"
         },
         "mode": "markers",
         "name": "167",
         "showlegend": true,
         "type": "scattergl",
         "x": {
          "bdata": "WUzQQWtM0EFpTNBBnUzQQVdM0EGGTNBBfEzQQaZM0EH+S9BBekzQQWxM0EGMTNBBikzQQQ==",
          "dtype": "f4"
         },
         "xaxis": "x",
         "y": {
          "bdata": "49MeP3HUHj9y0x4/S9kePy7THj/10x4/49IeP5XZHj+azB4/SdQeP4XSHj9S0B4/+9IePw==",
          "dtype": "f4"
         },
         "yaxis": "y"
        },
        {
         "customdata": [
          [
           "168"
          ],
          [
           "168"
          ],
          [
           "168"
          ],
          [
           "168"
          ],
          [
           "168"
          ],
          [
           "168"
          ],
          [
           "168"
          ],
          [
           "168"
          ],
          [
           "168"
          ],
          [
           "168"
          ],
          [
           "168"
          ],
          [
           "168"
          ],
          [
           "168"
          ],
          [
           "168"
          ],
          [
           "168"
          ],
          [
           "168"
          ],
          [
           "168"
          ],
          [
           "168"
          ],
          [
           "168"
          ],
          [
           "168"
          ],
          [
           "168"
          ],
          [
           "168"
          ],
          [
           "168"
          ],
          [
           "168"
          ],
          [
           "168"
          ],
          [
           "168"
          ],
          [
           "168"
          ],
          [
           "168"
          ],
          [
           "168"
          ],
          [
           "168"
          ],
          [
           "168"
          ],
          [
           "168"
          ],
          [
           "168"
          ],
          [
           "168"
          ],
          [
           "168"
          ],
          [
           "168"
          ],
          [
           "168"
          ],
          [
           "168"
          ]
         ],
         "hovertemplate": "cluster=%{customdata[0]}<br>UMAP-1=%{x}<br>UMAP-2=%{y}<extra></extra>",
         "legendgroup": "168",
         "marker": {
          "color": "#9D755D",
          "opacity": 0.8,
          "size": 8,
          "symbol": "circle"
         },
         "mode": "markers",
         "name": "168",
         "showlegend": true,
         "type": "scattergl",
         "x": {
          "bdata": "LgF9QWHFfEG0/3xB1Vp8QZDlfEFBu3xB/gV9QV/2fEGgwHxBD1Z8QU38fEGOVHxBeYx+Qeobf0HTJ39BNSp/QdIrf0FMsX5BnYd/QeUhf0FiIX9BqCN/QZLifkH/H39B7Qd/QQ10f0ECKH9BIwh8QQIAfEGQCHxBfQt8QWZje0E+uXtBOr17QT9LfEE7E3xBlRJ8QUkJfEE=",
          "dtype": "f4"
         },
         "xaxis": "x",
         "y": {
          "bdata": "RWtovzVubb+u52i/yPZ2v3GtbL8ZLXK/pWFovxW1a7/dPW6/Ou54v7CPa7+/O3m/WSAUv3j39L64M/C+Lh3wvhPU7r7BP/++xWjjvkzh7r7yc/K+HOvxvtW2+r6z+vG+uyD5voUn475GkvC+7ACAv3gOgL9LHYC/Y9+Av3c1hb/GHYK/VVOCv9mTfL8siH+/jaKCv0PCgL8=",
          "dtype": "f4"
         },
         "yaxis": "y"
        },
        {
         "customdata": [
          [
           "169"
          ],
          [
           "169"
          ],
          [
           "169"
          ],
          [
           "169"
          ],
          [
           "169"
          ],
          [
           "169"
          ],
          [
           "169"
          ],
          [
           "169"
          ],
          [
           "169"
          ],
          [
           "169"
          ],
          [
           "169"
          ],
          [
           "169"
          ],
          [
           "169"
          ],
          [
           "169"
          ],
          [
           "169"
          ],
          [
           "169"
          ],
          [
           "169"
          ],
          [
           "169"
          ],
          [
           "169"
          ],
          [
           "169"
          ],
          [
           "169"
          ],
          [
           "169"
          ],
          [
           "169"
          ],
          [
           "169"
          ],
          [
           "169"
          ],
          [
           "169"
          ],
          [
           "169"
          ]
         ],
         "hovertemplate": "cluster=%{customdata[0]}<br>UMAP-1=%{x}<br>UMAP-2=%{y}<extra></extra>",
         "legendgroup": "169",
         "marker": {
          "color": "#BAB0AC",
          "opacity": 0.8,
          "size": 8,
          "symbol": "circle"
         },
         "mode": "markers",
         "name": "169",
         "showlegend": true,
         "type": "scattergl",
         "x": {
          "bdata": "ZgdBQbbXQEGEHEFBPLNAQb2kQEGS8UBB/KRAQdB+QEFJgUBBnXdAQSbyQEFYhEBBFZ5AQUBcPUE0hD1B1Dg9QW2OPUHNjj1B5H49QeKsPUF5ID1BsHo9QUN+PUGgBj1Bcdc9QRF/PUEOvj5B",
          "dtype": "f4"
         },
         "xaxis": "x",
         "y": {
          "bdata": "HSANwZPLDMEHLg3BQNwMwajhDMFCCA3BpuIMwdG9DMGlwwzBGLcMwaKPDMHXwQzBdNoMwQqoDMG1rQzB3qYMwWO5DMGdugzBJK0MwY7UDMGLcwzBbKwMwdSvDMGHmwzBNyMNwf2xDMF9vwzB",
          "dtype": "f4"
         },
         "yaxis": "y"
        },
        {
         "customdata": [
          [
           "170"
          ],
          [
           "170"
          ],
          [
           "170"
          ],
          [
           "170"
          ],
          [
           "170"
          ],
          [
           "170"
          ],
          [
           "170"
          ],
          [
           "170"
          ],
          [
           "170"
          ],
          [
           "170"
          ],
          [
           "170"
          ],
          [
           "170"
          ],
          [
           "170"
          ]
         ],
         "hovertemplate": "cluster=%{customdata[0]}<br>UMAP-1=%{x}<br>UMAP-2=%{y}<extra></extra>",
         "legendgroup": "170",
         "marker": {
          "color": "#4C78A8",
          "opacity": 0.8,
          "size": 8,
          "symbol": "circle"
         },
         "mode": "markers",
         "name": "170",
         "showlegend": true,
         "type": "scattergl",
         "x": {
          "bdata": "AebTQV7h00H95tNB6M3TQYfm00EH5tNBq+jTQQLm00Hb59NBIebTQUPQ00Ht5dNBceXTQQ==",
          "dtype": "f4"
         },
         "xaxis": "x",
         "y": {
          "bdata": "+IAUwUCdFMHfexTBukcUwd95FMEoexTBsmEUwdB5FMGigxTBU3oUwQ2bFMGndhTBL3oUwQ==",
          "dtype": "f4"
         },
         "yaxis": "y"
        },
        {
         "customdata": [
          [
           "171"
          ],
          [
           "171"
          ],
          [
           "171"
          ],
          [
           "171"
          ],
          [
           "171"
          ],
          [
           "171"
          ],
          [
           "171"
          ],
          [
           "171"
          ],
          [
           "171"
          ],
          [
           "171"
          ],
          [
           "171"
          ],
          [
           "171"
          ],
          [
           "171"
          ]
         ],
         "hovertemplate": "cluster=%{customdata[0]}<br>UMAP-1=%{x}<br>UMAP-2=%{y}<extra></extra>",
         "legendgroup": "171",
         "marker": {
          "color": "#F58518",
          "opacity": 0.8,
          "size": 8,
          "symbol": "circle"
         },
         "mode": "markers",
         "name": "171",
         "showlegend": true,
         "type": "scattergl",
         "x": {
          "bdata": "4iVNQZEJTUHkLE1BRClNQcMpTUF8QU1Bu1hNQWVNTUFtK01BIhJNQWYLTUENA01BdylNQQ==",
          "dtype": "f4"
         },
         "xaxis": "x",
         "y": {
          "bdata": "b9pHQd/1R0Fd0kdB5tRHQXPUR0HhvUdBuKZHQYSyR0EN0kdB9exHQWnyR0Hg+UdB29RHQQ==",
          "dtype": "f4"
         },
         "yaxis": "y"
        },
        {
         "customdata": [
          [
           "172"
          ],
          [
           "172"
          ],
          [
           "172"
          ],
          [
           "172"
          ],
          [
           "172"
          ],
          [
           "172"
          ],
          [
           "172"
          ],
          [
           "172"
          ],
          [
           "172"
          ],
          [
           "172"
          ],
          [
           "172"
          ],
          [
           "172"
          ],
          [
           "172"
          ],
          [
           "172"
          ],
          [
           "172"
          ],
          [
           "172"
          ],
          [
           "172"
          ],
          [
           "172"
          ],
          [
           "172"
          ],
          [
           "172"
          ],
          [
           "172"
          ],
          [
           "172"
          ],
          [
           "172"
          ],
          [
           "172"
          ],
          [
           "172"
          ],
          [
           "172"
          ]
         ],
         "hovertemplate": "cluster=%{customdata[0]}<br>UMAP-1=%{x}<br>UMAP-2=%{y}<extra></extra>",
         "legendgroup": "172",
         "marker": {
          "color": "#E45756",
          "opacity": 0.8,
          "size": 8,
          "symbol": "circle"
         },
         "mode": "markers",
         "name": "172",
         "showlegend": true,
         "type": "scattergl",
         "x": {
          "bdata": "mYBKQWP8SkHXC0pBotNKQZMMSkGbHEtBVxpKQS79SkELeUpBTvhKQYAuSkE8WUtBlSBKQZ/5SkGwGkpBfvtKQVg9SkGIiUpB4i5KQXzqSkEAmEpBPvtKQac0SkEZQEtB1uRJQUn5SkE=",
          "dtype": "f4"
         },
         "xaxis": "x",
         "y": {
          "bdata": "54VYwAp0VsDgkVrA9QVXwKWKWsCm6lXAX1ZawFtxVsAsp1jAlIBWwEACWsCjAlXAkDpawLd6VsCWUVrAnXJWwBzSWcChO1jAAwVawGu7VsA3XljAs4dWwIMYWsDq71TA4iNbwDd8VsA=",
          "dtype": "f4"
         },
         "yaxis": "y"
        },
        {
         "customdata": [
          [
           "173"
          ],
          [
           "173"
          ],
          [
           "173"
          ],
          [
           "173"
          ],
          [
           "173"
          ],
          [
           "173"
          ],
          [
           "173"
          ],
          [
           "173"
          ],
          [
           "173"
          ],
          [
           "173"
          ],
          [
           "173"
          ],
          [
           "173"
          ],
          [
           "173"
          ],
          [
           "173"
          ]
         ],
         "hovertemplate": "cluster=%{customdata[0]}<br>UMAP-1=%{x}<br>UMAP-2=%{y}<extra></extra>",
         "legendgroup": "173",
         "marker": {
          "color": "#72B7B2",
          "opacity": 0.8,
          "size": 8,
          "symbol": "circle"
         },
         "mode": "markers",
         "name": "173",
         "showlegend": true,
         "type": "scattergl",
         "x": {
          "bdata": "5rBxQWh6cUGUr3FBCrBxQTmpcUFIr3FB2K5xQdiucUG6tHFBdrBxQbu0cUGFsHFBsqdxQWOkcUE=",
          "dtype": "f4"
         },
         "xaxis": "x",
         "y": {
          "bdata": "EDhlQNmXZECmNGVAWzFlQE8WZUBCMWVA+jJlQK0yZUAgSmVAei9lQNfaZEDrJ2VABjJmQN4oZUA=",
          "dtype": "f4"
         },
         "yaxis": "y"
        }
       ],
       "layout": {
        "height": 700,
        "legend": {
         "title": {
          "text": "cluster"
         },
         "tracegroupgap": 0
        },
        "template": {
         "data": {
          "bar": [
           {
            "error_x": {
             "color": "#2a3f5f"
            },
            "error_y": {
             "color": "#2a3f5f"
            },
            "marker": {
             "line": {
              "color": "#E5ECF6",
              "width": 0.5
             },
             "pattern": {
              "fillmode": "overlay",
              "size": 10,
              "solidity": 0.2
             }
            },
            "type": "bar"
           }
          ],
          "barpolar": [
           {
            "marker": {
             "line": {
              "color": "#E5ECF6",
              "width": 0.5
             },
             "pattern": {
              "fillmode": "overlay",
              "size": 10,
              "solidity": 0.2
             }
            },
            "type": "barpolar"
           }
          ],
          "carpet": [
           {
            "aaxis": {
             "endlinecolor": "#2a3f5f",
             "gridcolor": "white",
             "linecolor": "white",
             "minorgridcolor": "white",
             "startlinecolor": "#2a3f5f"
            },
            "baxis": {
             "endlinecolor": "#2a3f5f",
             "gridcolor": "white",
             "linecolor": "white",
             "minorgridcolor": "white",
             "startlinecolor": "#2a3f5f"
            },
            "type": "carpet"
           }
          ],
          "choropleth": [
           {
            "colorbar": {
             "outlinewidth": 0,
             "ticks": ""
            },
            "type": "choropleth"
           }
          ],
          "contour": [
           {
            "colorbar": {
             "outlinewidth": 0,
             "ticks": ""
            },
            "colorscale": [
             [
              0,
              "#0d0887"
             ],
             [
              0.1111111111111111,
              "#46039f"
             ],
             [
              0.2222222222222222,
              "#7201a8"
             ],
             [
              0.3333333333333333,
              "#9c179e"
             ],
             [
              0.4444444444444444,
              "#bd3786"
             ],
             [
              0.5555555555555556,
              "#d8576b"
             ],
             [
              0.6666666666666666,
              "#ed7953"
             ],
             [
              0.7777777777777778,
              "#fb9f3a"
             ],
             [
              0.8888888888888888,
              "#fdca26"
             ],
             [
              1,
              "#f0f921"
             ]
            ],
            "type": "contour"
           }
          ],
          "contourcarpet": [
           {
            "colorbar": {
             "outlinewidth": 0,
             "ticks": ""
            },
            "type": "contourcarpet"
           }
          ],
          "heatmap": [
           {
            "colorbar": {
             "outlinewidth": 0,
             "ticks": ""
            },
            "colorscale": [
             [
              0,
              "#0d0887"
             ],
             [
              0.1111111111111111,
              "#46039f"
             ],
             [
              0.2222222222222222,
              "#7201a8"
             ],
             [
              0.3333333333333333,
              "#9c179e"
             ],
             [
              0.4444444444444444,
              "#bd3786"
             ],
             [
              0.5555555555555556,
              "#d8576b"
             ],
             [
              0.6666666666666666,
              "#ed7953"
             ],
             [
              0.7777777777777778,
              "#fb9f3a"
             ],
             [
              0.8888888888888888,
              "#fdca26"
             ],
             [
              1,
              "#f0f921"
             ]
            ],
            "type": "heatmap"
           }
          ],
          "histogram": [
           {
            "marker": {
             "pattern": {
              "fillmode": "overlay",
              "size": 10,
              "solidity": 0.2
             }
            },
            "type": "histogram"
           }
          ],
          "histogram2d": [
           {
            "colorbar": {
             "outlinewidth": 0,
             "ticks": ""
            },
            "colorscale": [
             [
              0,
              "#0d0887"
             ],
             [
              0.1111111111111111,
              "#46039f"
             ],
             [
              0.2222222222222222,
              "#7201a8"
             ],
             [
              0.3333333333333333,
              "#9c179e"
             ],
             [
              0.4444444444444444,
              "#bd3786"
             ],
             [
              0.5555555555555556,
              "#d8576b"
             ],
             [
              0.6666666666666666,
              "#ed7953"
             ],
             [
              0.7777777777777778,
              "#fb9f3a"
             ],
             [
              0.8888888888888888,
              "#fdca26"
             ],
             [
              1,
              "#f0f921"
             ]
            ],
            "type": "histogram2d"
           }
          ],
          "histogram2dcontour": [
           {
            "colorbar": {
             "outlinewidth": 0,
             "ticks": ""
            },
            "colorscale": [
             [
              0,
              "#0d0887"
             ],
             [
              0.1111111111111111,
              "#46039f"
             ],
             [
              0.2222222222222222,
              "#7201a8"
             ],
             [
              0.3333333333333333,
              "#9c179e"
             ],
             [
              0.4444444444444444,
              "#bd3786"
             ],
             [
              0.5555555555555556,
              "#d8576b"
             ],
             [
              0.6666666666666666,
              "#ed7953"
             ],
             [
              0.7777777777777778,
              "#fb9f3a"
             ],
             [
              0.8888888888888888,
              "#fdca26"
             ],
             [
              1,
              "#f0f921"
             ]
            ],
            "type": "histogram2dcontour"
           }
          ],
          "mesh3d": [
           {
            "colorbar": {
             "outlinewidth": 0,
             "ticks": ""
            },
            "type": "mesh3d"
           }
          ],
          "parcoords": [
           {
            "line": {
             "colorbar": {
              "outlinewidth": 0,
              "ticks": ""
             }
            },
            "type": "parcoords"
           }
          ],
          "pie": [
           {
            "automargin": true,
            "type": "pie"
           }
          ],
          "scatter": [
           {
            "fillpattern": {
             "fillmode": "overlay",
             "size": 10,
             "solidity": 0.2
            },
            "type": "scatter"
           }
          ],
          "scatter3d": [
           {
            "line": {
             "colorbar": {
              "outlinewidth": 0,
              "ticks": ""
             }
            },
            "marker": {
             "colorbar": {
              "outlinewidth": 0,
              "ticks": ""
             }
            },
            "type": "scatter3d"
           }
          ],
          "scattercarpet": [
           {
            "marker": {
             "colorbar": {
              "outlinewidth": 0,
              "ticks": ""
             }
            },
            "type": "scattercarpet"
           }
          ],
          "scattergeo": [
           {
            "marker": {
             "colorbar": {
              "outlinewidth": 0,
              "ticks": ""
             }
            },
            "type": "scattergeo"
           }
          ],
          "scattergl": [
           {
            "marker": {
             "colorbar": {
              "outlinewidth": 0,
              "ticks": ""
             }
            },
            "type": "scattergl"
           }
          ],
          "scattermap": [
           {
            "marker": {
             "colorbar": {
              "outlinewidth": 0,
              "ticks": ""
             }
            },
            "type": "scattermap"
           }
          ],
          "scattermapbox": [
           {
            "marker": {
             "colorbar": {
              "outlinewidth": 0,
              "ticks": ""
             }
            },
            "type": "scattermapbox"
           }
          ],
          "scatterpolar": [
           {
            "marker": {
             "colorbar": {
              "outlinewidth": 0,
              "ticks": ""
             }
            },
            "type": "scatterpolar"
           }
          ],
          "scatterpolargl": [
           {
            "marker": {
             "colorbar": {
              "outlinewidth": 0,
              "ticks": ""
             }
            },
            "type": "scatterpolargl"
           }
          ],
          "scatterternary": [
           {
            "marker": {
             "colorbar": {
              "outlinewidth": 0,
              "ticks": ""
             }
            },
            "type": "scatterternary"
           }
          ],
          "surface": [
           {
            "colorbar": {
             "outlinewidth": 0,
             "ticks": ""
            },
            "colorscale": [
             [
              0,
              "#0d0887"
             ],
             [
              0.1111111111111111,
              "#46039f"
             ],
             [
              0.2222222222222222,
              "#7201a8"
             ],
             [
              0.3333333333333333,
              "#9c179e"
             ],
             [
              0.4444444444444444,
              "#bd3786"
             ],
             [
              0.5555555555555556,
              "#d8576b"
             ],
             [
              0.6666666666666666,
              "#ed7953"
             ],
             [
              0.7777777777777778,
              "#fb9f3a"
             ],
             [
              0.8888888888888888,
              "#fdca26"
             ],
             [
              1,
              "#f0f921"
             ]
            ],
            "type": "surface"
           }
          ],
          "table": [
           {
            "cells": {
             "fill": {
              "color": "#EBF0F8"
             },
             "line": {
              "color": "white"
             }
            },
            "header": {
             "fill": {
              "color": "#C8D4E3"
             },
             "line": {
              "color": "white"
             }
            },
            "type": "table"
           }
          ]
         },
         "layout": {
          "annotationdefaults": {
           "arrowcolor": "#2a3f5f",
           "arrowhead": 0,
           "arrowwidth": 1
          },
          "autotypenumbers": "strict",
          "coloraxis": {
           "colorbar": {
            "outlinewidth": 0,
            "ticks": ""
           }
          },
          "colorscale": {
           "diverging": [
            [
             0,
             "#8e0152"
            ],
            [
             0.1,
             "#c51b7d"
            ],
            [
             0.2,
             "#de77ae"
            ],
            [
             0.3,
             "#f1b6da"
            ],
            [
             0.4,
             "#fde0ef"
            ],
            [
             0.5,
             "#f7f7f7"
            ],
            [
             0.6,
             "#e6f5d0"
            ],
            [
             0.7,
             "#b8e186"
            ],
            [
             0.8,
             "#7fbc41"
            ],
            [
             0.9,
             "#4d9221"
            ],
            [
             1,
             "#276419"
            ]
           ],
           "sequential": [
            [
             0,
             "#0d0887"
            ],
            [
             0.1111111111111111,
             "#46039f"
            ],
            [
             0.2222222222222222,
             "#7201a8"
            ],
            [
             0.3333333333333333,
             "#9c179e"
            ],
            [
             0.4444444444444444,
             "#bd3786"
            ],
            [
             0.5555555555555556,
             "#d8576b"
            ],
            [
             0.6666666666666666,
             "#ed7953"
            ],
            [
             0.7777777777777778,
             "#fb9f3a"
            ],
            [
             0.8888888888888888,
             "#fdca26"
            ],
            [
             1,
             "#f0f921"
            ]
           ],
           "sequentialminus": [
            [
             0,
             "#0d0887"
            ],
            [
             0.1111111111111111,
             "#46039f"
            ],
            [
             0.2222222222222222,
             "#7201a8"
            ],
            [
             0.3333333333333333,
             "#9c179e"
            ],
            [
             0.4444444444444444,
             "#bd3786"
            ],
            [
             0.5555555555555556,
             "#d8576b"
            ],
            [
             0.6666666666666666,
             "#ed7953"
            ],
            [
             0.7777777777777778,
             "#fb9f3a"
            ],
            [
             0.8888888888888888,
             "#fdca26"
            ],
            [
             1,
             "#f0f921"
            ]
           ]
          },
          "colorway": [
           "#636efa",
           "#EF553B",
           "#00cc96",
           "#ab63fa",
           "#FFA15A",
           "#19d3f3",
           "#FF6692",
           "#B6E880",
           "#FF97FF",
           "#FECB52"
          ],
          "font": {
           "color": "#2a3f5f"
          },
          "geo": {
           "bgcolor": "white",
           "lakecolor": "white",
           "landcolor": "#E5ECF6",
           "showlakes": true,
           "showland": true,
           "subunitcolor": "white"
          },
          "hoverlabel": {
           "align": "left"
          },
          "hovermode": "closest",
          "mapbox": {
           "style": "light"
          },
          "paper_bgcolor": "white",
          "plot_bgcolor": "#E5ECF6",
          "polar": {
           "angularaxis": {
            "gridcolor": "white",
            "linecolor": "white",
            "ticks": ""
           },
           "bgcolor": "#E5ECF6",
           "radialaxis": {
            "gridcolor": "white",
            "linecolor": "white",
            "ticks": ""
           }
          },
          "scene": {
           "xaxis": {
            "backgroundcolor": "#E5ECF6",
            "gridcolor": "white",
            "gridwidth": 2,
            "linecolor": "white",
            "showbackground": true,
            "ticks": "",
            "zerolinecolor": "white"
           },
           "yaxis": {
            "backgroundcolor": "#E5ECF6",
            "gridcolor": "white",
            "gridwidth": 2,
            "linecolor": "white",
            "showbackground": true,
            "ticks": "",
            "zerolinecolor": "white"
           },
           "zaxis": {
            "backgroundcolor": "#E5ECF6",
            "gridcolor": "white",
            "gridwidth": 2,
            "linecolor": "white",
            "showbackground": true,
            "ticks": "",
            "zerolinecolor": "white"
           }
          },
          "shapedefaults": {
           "line": {
            "color": "#2a3f5f"
           }
          },
          "ternary": {
           "aaxis": {
            "gridcolor": "white",
            "linecolor": "white",
            "ticks": ""
           },
           "baxis": {
            "gridcolor": "white",
            "linecolor": "white",
            "ticks": ""
           },
           "bgcolor": "#E5ECF6",
           "caxis": {
            "gridcolor": "white",
            "linecolor": "white",
            "ticks": ""
           }
          },
          "title": {
           "x": 0.05
          },
          "xaxis": {
           "automargin": true,
           "gridcolor": "white",
           "linecolor": "white",
           "ticks": "",
           "title": {
            "standoff": 15
           },
           "zerolinecolor": "white",
           "zerolinewidth": 2
          },
          "yaxis": {
           "automargin": true,
           "gridcolor": "white",
           "linecolor": "white",
           "ticks": "",
           "title": {
            "standoff": 15
           },
           "zerolinecolor": "white",
           "zerolinewidth": 2
          }
         }
        },
        "title": {
         "text": "Context Clusters (UMAP 2D + DBSCAN)"
        },
        "width": 900,
        "xaxis": {
         "anchor": "y",
         "domain": [
          0,
          1
         ],
         "title": {
          "text": "UMAP-1"
         }
        },
        "yaxis": {
         "anchor": "x",
         "domain": [
          0,
          1
         ],
         "title": {
          "text": "UMAP-2"
         }
        }
       }
      }
     },
     "metadata": {},
     "output_type": "display_data"
    }
   ],
   "source": [
    "plot_df = pd.DataFrame({\n",
    "    \"UMAP-1\": X_2d[:, 0],\n",
    "    \"UMAP-2\": X_2d[:, 1],\n",
    "    \"cluster\": labels.astype(str)\n",
    "})\n",
    "\n",
    "fig = px.scatter(\n",
    "    plot_df,\n",
    "    x=\"UMAP-1\",\n",
    "    y=\"UMAP-2\",\n",
    "    color=\"cluster\",\n",
    "    color_discrete_sequence=px.colors.qualitative.T10,\n",
    "    hover_data=[\"cluster\"],\n",
    "    title=\"Context Clusters (UMAP 2D + DBSCAN)\",\n",
    "    width=900,\n",
    "    height=700\n",
    ")\n",
    "\n",
    "fig.update_traces(marker=dict(size=8, opacity=0.8))\n",
    "fig.show()"
   ]
  },
  {
   "cell_type": "code",
   "execution_count": 13,
   "metadata": {},
   "outputs": [
    {
     "data": {
      "text/plain": [
       "174"
      ]
     },
     "execution_count": 13,
     "metadata": {},
     "output_type": "execute_result"
    }
   ],
   "source": [
    "len(np.unique(labels))"
   ]
  },
  {
   "cell_type": "code",
   "execution_count": 81,
   "metadata": {},
   "outputs": [
    {
     "data": {
      "text/plain": [
       "context_id\n",
       "148    13\n",
       "152    13\n",
       "239    13\n",
       "240    13\n",
       "241    13\n",
       "       ..\n",
       "188     2\n",
       "187     2\n",
       "186     2\n",
       "185     2\n",
       "189     2\n",
       "Name: count, Length: 500, dtype: int64"
      ]
     },
     "execution_count": 81,
     "metadata": {},
     "output_type": "execute_result"
    }
   ],
   "source": [
    "df_train['context_id'].value_counts()"
   ]
  },
  {
   "cell_type": "code",
   "execution_count": null,
   "metadata": {},
   "outputs": [],
   "source": []
  }
 ],
 "metadata": {
  "kernelspec": {
   "display_name": "tdk_szakdoga",
   "language": "python",
   "name": "python3"
  },
  "language_info": {
   "codemirror_mode": {
    "name": "ipython",
    "version": 3
   },
   "file_extension": ".py",
   "mimetype": "text/x-python",
   "name": "python",
   "nbconvert_exporter": "python",
   "pygments_lexer": "ipython3",
   "version": "3.12.11"
  }
 },
 "nbformat": 4,
 "nbformat_minor": 2
}
