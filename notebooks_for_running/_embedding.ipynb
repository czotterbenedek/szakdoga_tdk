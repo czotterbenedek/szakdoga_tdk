{
 "cells": [
  {
   "cell_type": "markdown",
   "metadata": {},
   "source": [
    "# Embedding\n",
    "\n",
    "This notebook contains the code for creating text embeddings."
   ]
  },
  {
   "cell_type": "code",
   "execution_count": 1,
   "metadata": {},
   "outputs": [
    {
     "name": "stderr",
     "output_type": "stream",
     "text": [
      "c:\\Users\\CZB3BP\\.conda\\envs\\szakdoga\\Lib\\site-packages\\tqdm\\auto.py:21: TqdmWarning: IProgress not found. Please update jupyter and ipywidgets. See https://ipywidgets.readthedocs.io/en/stable/user_install.html\n",
      "  from .autonotebook import tqdm as notebook_tqdm\n"
     ]
    }
   ],
   "source": [
    "import pandas as pd\n",
    "import numpy as np\n",
    "import matplotlib.pyplot as plt\n",
    "import plotly.express as px\n",
    "from tqdm import tqdm\n",
    "\n",
    "from sentence_transformers import SentenceTransformer"
   ]
  },
  {
   "cell_type": "markdown",
   "metadata": {},
   "source": [
    "# Classes and functions"
   ]
  },
  {
   "cell_type": "code",
   "execution_count": 2,
   "metadata": {},
   "outputs": [],
   "source": [
    "class EmbeddingGenerator:\n",
    "    def __init__(self, model_name=\"all-MiniLM-L6-v2\", provider=\"hf\"):\n",
    "        \"\"\"\n",
    "        provider: \"hf\" for HuggingFace, \"openai\" for OpenAI embeddings\n",
    "        model_name: any SentenceTransformer model or OpenAI embedding model name\n",
    "        \"\"\"\n",
    "        self.provider = provider\n",
    "        self.model_name = model_name\n",
    "        \n",
    "        if provider == \"hf\":\n",
    "            self.model = SentenceTransformer(model_name)\n",
    "        elif provider == \"openai\":\n",
    "            from openai import OpenAI\n",
    "            self.client = OpenAI()\n",
    "        else:\n",
    "            raise ValueError(\"provider must be 'hf' or 'openai'\")\n",
    "\n",
    "    def embed_batch(self, texts):\n",
    "        \"\"\"\n",
    "        Compute embeddings for a list of texts\n",
    "        \"\"\"\n",
    "        if self.provider == \"hf\":\n",
    "            return self.model.encode(texts, show_progress_bar=False, convert_to_numpy=True)\n",
    "        elif self.provider == \"openai\":\n",
    "            # Example: OpenAI embeddings (text-embedding-3-large)\n",
    "            embeddings = []\n",
    "            for t in texts:\n",
    "                resp = self.client.embeddings.create(\n",
    "                    input=t, model=self.model_name\n",
    "                )\n",
    "                embeddings.append(resp.data[0].embedding)\n",
    "            return np.array(embeddings)"
   ]
  },
  {
   "cell_type": "code",
   "execution_count": 3,
   "metadata": {},
   "outputs": [],
   "source": [
    "def add_embeddings(df, text_column=\"chunk_embed_text\", model_name=\"all-MiniLM-L6-v2\", provider=\"hf\", batch_size=64):\n",
    "    \"\"\"\n",
    "    Embed chunks and add them as a new column: 'embedding'\n",
    "    Also returns a NumPy matrix for fast clustering.\n",
    "    \"\"\"\n",
    "    embedder = EmbeddingGenerator(model_name=model_name, provider=provider)\n",
    "    all_embeddings = []\n",
    "\n",
    "    for i in tqdm(range(0, len(df), batch_size)):\n",
    "        batch_texts = df[text_column].iloc[i:i+batch_size].tolist()\n",
    "        batch_embeddings = embedder.embed_batch(batch_texts)\n",
    "        all_embeddings.extend(batch_embeddings)\n",
    "\n",
    "    # Store as list for DataFrame\n",
    "    #df[\"embedding\"] = all_embeddings\n",
    "\n",
    "    # Also return as NumPy matrix for clustering\n",
    "    return df, np.vstack(all_embeddings)"
   ]
  },
  {
   "cell_type": "code",
   "execution_count": null,
   "metadata": {},
   "outputs": [],
   "source": []
  },
  {
   "cell_type": "markdown",
   "metadata": {},
   "source": [
    "# Workflow"
   ]
  },
  {
   "cell_type": "code",
   "execution_count": 5,
   "metadata": {},
   "outputs": [],
   "source": [
    "df_semantic_train = pd.read_excel(\"../data/prepared/squad_train_v2_semantic_chunking.xlsx\")"
   ]
  },
  {
   "cell_type": "code",
   "execution_count": 6,
   "metadata": {},
   "outputs": [
    {
     "name": "stderr",
     "output_type": "stream",
     "text": [
      "100%|██████████| 1313/1313 [17:53<00:00,  1.22it/s]\n"
     ]
    }
   ],
   "source": [
    "df_semantic_train, emb_semantic_train = add_embeddings(df_semantic_train, text_column=\"chunk_embed_text\" ,model_name=\"all-MiniLM-L6-v2\", provider=\"hf\")"
   ]
  },
  {
   "cell_type": "code",
   "execution_count": 7,
   "metadata": {},
   "outputs": [
    {
     "data": {
      "text/plain": [
       "(84007, 9)"
      ]
     },
     "execution_count": 7,
     "metadata": {},
     "output_type": "execute_result"
    }
   ],
   "source": [
    "df_semantic_train.shape"
   ]
  },
  {
   "cell_type": "code",
   "execution_count": 8,
   "metadata": {},
   "outputs": [
    {
     "data": {
      "text/plain": [
       "(84007, 384)"
      ]
     },
     "execution_count": 8,
     "metadata": {},
     "output_type": "execute_result"
    }
   ],
   "source": [
    "emb_semantic_train.shape"
   ]
  },
  {
   "cell_type": "code",
   "execution_count": 9,
   "metadata": {},
   "outputs": [],
   "source": [
    "df_semantic_val = pd.read_excel(\"../data/prepared/squad_val_v2_semantic_chunking.xlsx\")"
   ]
  },
  {
   "cell_type": "code",
   "execution_count": 10,
   "metadata": {},
   "outputs": [
    {
     "name": "stderr",
     "output_type": "stream",
     "text": [
      "100%|██████████| 146/146 [02:00<00:00,  1.21it/s]\n"
     ]
    }
   ],
   "source": [
    "df_semantic_val, emb_semantic_val = add_embeddings(df_semantic_val, text_column=\"chunk_embed_text\" ,model_name=\"all-MiniLM-L6-v2\", provider=\"hf\")"
   ]
  },
  {
   "cell_type": "code",
   "execution_count": 11,
   "metadata": {},
   "outputs": [
    {
     "name": "stdout",
     "output_type": "stream",
     "text": [
      "(9308, 9)\n",
      "(9308, 384)\n"
     ]
    }
   ],
   "source": [
    "print(df_semantic_val.shape)\n",
    "print(emb_semantic_val.shape)"
   ]
  },
  {
   "cell_type": "code",
   "execution_count": null,
   "metadata": {},
   "outputs": [],
   "source": []
  },
  {
   "cell_type": "markdown",
   "metadata": {},
   "source": [
    "# Save embeddings as numpy array"
   ]
  },
  {
   "cell_type": "code",
   "execution_count": 12,
   "metadata": {},
   "outputs": [],
   "source": [
    "np.save(\"../data/tensors/squad_train_v2_semantic_chunking.npy\", emb_semantic_train)\n",
    "np.save(\"../data/tensors/squad_val_v2_semantic_chunking.npy\", emb_semantic_val)"
   ]
  },
  {
   "cell_type": "code",
   "execution_count": null,
   "metadata": {},
   "outputs": [],
   "source": []
  },
  {
   "cell_type": "code",
   "execution_count": null,
   "metadata": {},
   "outputs": [],
   "source": []
  },
  {
   "cell_type": "markdown",
   "metadata": {},
   "source": [
    "# Prepare missing queris"
   ]
  },
  {
   "cell_type": "code",
   "execution_count": 4,
   "metadata": {},
   "outputs": [],
   "source": [
    "X_semantic_train = np.load(\"../data/tensors/squad_train_v2_semantic_chunking_l2.npy\")\n",
    "df_semantic_train = pd.read_excel(\"../data/labelled/squad_train_v2_semantic_chunking_clustered.xlsx\")\n",
    "df_queries_train = pd.read_excel(\"../data/prepared/squad_train_v2_queries.xlsx\")"
   ]
  },
  {
   "cell_type": "code",
   "execution_count": 5,
   "metadata": {},
   "outputs": [],
   "source": [
    "unique_contexts = df_queries_train['context_id'].unique()\n",
    "n_unanswerable = int(len(unique_contexts) * 0.15)\n",
    "np.random.seed(42)\n",
    "unanswerable_contexts = np.random.choice(unique_contexts, size=n_unanswerable, replace=False)\n",
    "\n",
    "# 2️⃣ Mark queries as unanswerable\n",
    "df_queries_train.loc[df_queries_train['context_id'].isin(unanswerable_contexts), 'answer_start'] = None\n",
    "\n",
    "# 3️⃣ Create mask for train rows to keep\n",
    "mask_keep = ~df_semantic_train['context_id'].isin(unanswerable_contexts)\n",
    "\n",
    "# 4️⃣ Filter train dataframe\n",
    "df_train = df_semantic_train[mask_keep].reset_index(drop=True)\n",
    "\n",
    "# 5️⃣ Filter embeddings accordingly\n",
    "X_semantic_train_filtered = X_semantic_train[mask_keep.values]"
   ]
  },
  {
   "cell_type": "code",
   "execution_count": 6,
   "metadata": {},
   "outputs": [
    {
     "data": {
      "text/plain": [
       "((71426, 10), (71426, 384))"
      ]
     },
     "execution_count": 6,
     "metadata": {},
     "output_type": "execute_result"
    }
   ],
   "source": [
    "df_train.shape, X_semantic_train_filtered.shape"
   ]
  },
  {
   "cell_type": "code",
   "execution_count": 10,
   "metadata": {},
   "outputs": [
    {
     "data": {
      "text/plain": [
       "(18891, np.int64(13134), (87599, 4))"
      ]
     },
     "execution_count": 10,
     "metadata": {},
     "output_type": "execute_result"
    }
   ],
   "source": [
    "df_queries_train['context_id'].nunique(), df_queries_train['answer_start'].isna().sum(), df_queries_train.shape"
   ]
  },
  {
   "cell_type": "code",
   "execution_count": 13,
   "metadata": {},
   "outputs": [
    {
     "data": {
      "text/plain": [
       "(16058, (71426, 10))"
      ]
     },
     "execution_count": 13,
     "metadata": {},
     "output_type": "execute_result"
    }
   ],
   "source": [
    "df_train['context_id'].nunique(), df_train.shape"
   ]
  },
  {
   "cell_type": "code",
   "execution_count": 14,
   "metadata": {},
   "outputs": [],
   "source": [
    "np.save(\"../data/tensors/squad_train_v2_semantic_chunking_l2_missing.npy\", X_semantic_train_filtered)\n",
    "df_train.to_excel(\"../data/labelled/squad_train_v2_semantic_chunking_clustered_missing.xlsx\", index=False)\n",
    "df_queries_train.to_excel(\"../data/prepared/squad_train_v2_queries_missing.xlsx\", index=False)"
   ]
  },
  {
   "cell_type": "code",
   "execution_count": 16,
   "metadata": {},
   "outputs": [
    {
     "data": {
      "text/plain": [
       "500"
      ]
     },
     "execution_count": 16,
     "metadata": {},
     "output_type": "execute_result"
    }
   ],
   "source": [
    "df_train['cluster'].nunique()"
   ]
  },
  {
   "cell_type": "code",
   "execution_count": 18,
   "metadata": {},
   "outputs": [
    {
     "data": {
      "text/plain": [
       "cluster\n",
       "157    359\n",
       "119    344\n",
       "17     337\n",
       "34     333\n",
       "209    294\n",
       "      ... \n",
       "75      46\n",
       "130     42\n",
       "362     38\n",
       "278     33\n",
       "407     31\n",
       "Name: count, Length: 500, dtype: int64"
      ]
     },
     "execution_count": 18,
     "metadata": {},
     "output_type": "execute_result"
    }
   ],
   "source": [
    "df_train['cluster'].value_counts()"
   ]
  },
  {
   "cell_type": "code",
   "execution_count": 19,
   "metadata": {},
   "outputs": [
    {
     "data": {
      "text/plain": [
       "cluster\n",
       "119    402\n",
       "17     399\n",
       "157    397\n",
       "34     378\n",
       "294    333\n",
       "      ... \n",
       "75      52\n",
       "362     48\n",
       "130     46\n",
       "278     39\n",
       "407     35\n",
       "Name: count, Length: 500, dtype: int64"
      ]
     },
     "execution_count": 19,
     "metadata": {},
     "output_type": "execute_result"
    }
   ],
   "source": [
    "df_semantic_train['cluster'].value_counts()"
   ]
  },
  {
   "cell_type": "code",
   "execution_count": null,
   "metadata": {},
   "outputs": [],
   "source": []
  }
 ],
 "metadata": {
  "kernelspec": {
   "display_name": "szakdoga",
   "language": "python",
   "name": "python3"
  },
  "language_info": {
   "codemirror_mode": {
    "name": "ipython",
    "version": 3
   },
   "file_extension": ".py",
   "mimetype": "text/x-python",
   "name": "python",
   "nbconvert_exporter": "python",
   "pygments_lexer": "ipython3",
   "version": "3.12.11"
  }
 },
 "nbformat": 4,
 "nbformat_minor": 2
}
